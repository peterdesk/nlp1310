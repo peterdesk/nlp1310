{
 "cells": [
  {
   "cell_type": "markdown",
   "metadata": {},
   "source": [
    "# WordNet을 사용 유사도 얻기\n",
    "워드넷(WordNet)은 영어의 의미 어휘목록이다. 워드넷은 영어 단어를 'synset'이라는 유의어 집단으로 분류하여 간략하고 일반적인 정의를 제공하고, 이러한 어휘목록 사이의 다양한 의미 관계를 기록한다. 그 목적은 두가지이다. 하나는 사전(단어집)과 시소러스(유의어·반의어 사전)의 배합을 만들어, 보다 직관적으로 사용할 수 있고 자동화된 본문 분석과 인공 지능 응용을 뒷받침하려는 것이다.\n",
    "워드넷은 심리학 교수인 조지 A. 밀러가 지도하는 프린스턴 대학의 인지 과학 연구소에 의해 만들어졌고 유지되고 있다\n",
    "\n",
    "https://wordnet.princeton.edu/\n",
    "\n",
    "https://ko.wikipedia.org/wiki/%EC%9B%8C%EB%93%9C%EB%84%B7"
   ]
  },
  {
   "cell_type": "code",
   "execution_count": 2,
   "metadata": {},
   "outputs": [
    {
     "data": {
      "text/plain": [
       "'3.5'"
      ]
     },
     "execution_count": 2,
     "metadata": {},
     "output_type": "execute_result"
    }
   ],
   "source": [
    "# ! pip install nltk\n",
    "import nltk\n",
    "nltk.__version__"
   ]
  },
  {
   "cell_type": "code",
   "execution_count": 4,
   "metadata": {},
   "outputs": [
    {
     "name": "stderr",
     "output_type": "stream",
     "text": [
      "[nltk_data] Downloading package wordnet to\n",
      "[nltk_data]     C:\\Users\\IPA(백찬휘)\\AppData\\Roaming\\nltk_data...\n",
      "[nltk_data]   Package wordnet is already up-to-date!\n"
     ]
    },
    {
     "data": {
      "text/plain": [
       "True"
      ]
     },
     "execution_count": 4,
     "metadata": {},
     "output_type": "execute_result"
    }
   ],
   "source": [
    "nltk.download('wordnet')   # wordnet 패키지만다운로드\n",
    "# nltk.download()         # 모든 패키지 다운로드"
   ]
  },
  {
   "cell_type": "markdown",
   "metadata": {},
   "source": [
    "### 동의어(Synonym) 얻기"
   ]
  },
  {
   "cell_type": "code",
   "execution_count": 10,
   "metadata": {},
   "outputs": [
    {
     "name": "stdout",
     "output_type": "stream",
     "text": [
      "<class 'nltk.corpus.reader.wordnet.Synset'>\n"
     ]
    },
    {
     "data": {
      "text/plain": [
       "[Synset('car.n.01'),\n",
       " Synset('car.n.02'),\n",
       " Synset('car.n.03'),\n",
       " Synset('car.n.04'),\n",
       " Synset('cable_car.n.01')]"
      ]
     },
     "execution_count": 10,
     "metadata": {},
     "output_type": "execute_result"
    }
   ],
   "source": [
    "from nltk.corpus import wordnet\n",
    "\n",
    "# 'car'의 동의어(synonym)를 얻기\n",
    "# Synset : 동의어 그룹\n",
    "# 'car.n.01' :   car:동의어 단어,  n: 속성(품사), 01: 그룹인덱스\n",
    "syn = wordnet.synsets('car') # synsets() : 동의어 그룹의 리스트가 반환\n",
    "print(type(syn[0]))\n",
    "syn"
   ]
  },
  {
   "cell_type": "code",
   "execution_count": 15,
   "metadata": {},
   "outputs": [
    {
     "name": "stdout",
     "output_type": "stream",
     "text": [
      "<class 'nltk.corpus.reader.wordnet.Synset'>\n",
      "Synset('car.n.01')\n"
     ]
    },
    {
     "data": {
      "text/plain": [
       "'a motor vehicle with four wheels; usually propelled by an internal combustion engine'"
      ]
     },
     "execution_count": 15,
     "metadata": {},
     "output_type": "execute_result"
    }
   ],
   "source": [
    "car = wordnet.synset('car.n.01') # 표제어를 인자로 사용\n",
    "print(type(car))\n",
    "print(car)\n",
    "car.definition()"
   ]
  },
  {
   "cell_type": "code",
   "execution_count": 17,
   "metadata": {},
   "outputs": [
    {
     "data": {
      "text/plain": [
       "['car', 'auto', 'automobile', 'machine', 'motorcar']"
      ]
     },
     "execution_count": 17,
     "metadata": {},
     "output_type": "execute_result"
    }
   ],
   "source": [
    "car.lemma_names() # 표제어의 동의어 그룹에있는 단어들 출력\n",
    "# 어간 추출(Stemming) 과 표제어 추출(Lemmatization)"
   ]
  },
  {
   "cell_type": "code",
   "execution_count": 19,
   "metadata": {},
   "outputs": [
    {
     "data": {
      "text/plain": [
       "[Synset('entity.n.01'),\n",
       " Synset('physical_entity.n.01'),\n",
       " Synset('object.n.01'),\n",
       " Synset('whole.n.02'),\n",
       " Synset('artifact.n.01'),\n",
       " Synset('instrumentality.n.03'),\n",
       " Synset('container.n.01'),\n",
       " Synset('wheeled_vehicle.n.01'),\n",
       " Synset('self-propelled_vehicle.n.01'),\n",
       " Synset('motor_vehicle.n.01'),\n",
       " Synset('car.n.01')]"
      ]
     },
     "execution_count": 19,
     "metadata": {},
     "output_type": "execute_result"
    }
   ],
   "source": [
    "car.hypernym_paths()[0] # hypernym(상위어), a word whose meaning includes a group of other words:"
   ]
  },
  {
   "cell_type": "markdown",
   "metadata": {},
   "source": [
    "### 단어간의 유사도"
   ]
  },
  {
   "cell_type": "code",
   "execution_count": 23,
   "metadata": {},
   "outputs": [
    {
     "name": "stdout",
     "output_type": "stream",
     "text": [
      "car: 1.0\n",
      "motorcar: 1.0\n",
      "motorcycle: 0.3333333333333333\n",
      "dog: 0.07692307692307693\n",
      "novel: 0.05555555555555555\n"
     ]
    }
   ],
   "source": [
    "# 'car','motorcar','motorcycle','dog','novel'\n",
    "car = wordnet.synset('car.n.01')\n",
    "motorcar = wordnet.synset('motorcar.n.01')\n",
    "motorcycle = wordnet.synset('motorcycle.n.01')\n",
    "\n",
    "dog = wordnet.synset('dog.n.01')\n",
    "novel = wordnet.synset('novel.n.01')\n",
    "\n",
    "# 'car' 단어와의 경로 유사도 : path_similarity()\n",
    "print('car:', car.path_similarity(car))\n",
    "print('motorcar:', car.path_similarity(motorcar))\n",
    "print('motorcycle:', car.path_similarity(motorcycle))\n",
    "\n",
    "print('dog:', car.path_similarity(dog))\n",
    "print('novel:', car.path_similarity(novel))"
   ]
  },
  {
   "cell_type": "markdown",
   "metadata": {},
   "source": [
    "### 유사도 측정 방식"
   ]
  },
  {
   "cell_type": "code",
   "execution_count": 27,
   "metadata": {},
   "outputs": [
    {
     "name": "stdout",
     "output_type": "stream",
     "text": [
      "motorcycle [path]: 0.3333333333333333\n"
     ]
    }
   ],
   "source": [
    "# [1] 경로 거리 기반 유사도 (Path Distance Similarity)\n",
    "# 단어 간 상/하 위계구조에서의 최단 경로 (Shortest Path)의 거리를 기반으로 유사도를 0~1 사이의 실수로 측정\n",
    "print('motorcycle [path]:', car.path_similarity(motorcycle))"
   ]
  },
  {
   "cell_type": "code",
   "execution_count": 28,
   "metadata": {},
   "outputs": [
    {
     "name": "stdout",
     "output_type": "stream",
     "text": [
      "motorcycle [wup]: 0.9166666666666666\n"
     ]
    }
   ],
   "source": [
    "# [2] 우 팔머 유사도 (Wu-Palmer Similarity)\n",
    "# 단어 위계구조에서 두 단어의 깊이(depth of the tow senses in the taxonomy)와 단어 간의 최소 \n",
    "# 공통 포함(Least Common Subsumer)에 기반해서 유사도를 계산\n",
    "print('motorcycle [wup]:', car.wup_similarity(motorcycle))"
   ]
  },
  {
   "cell_type": "code",
   "execution_count": 29,
   "metadata": {},
   "outputs": [
    {
     "name": "stdout",
     "output_type": "stream",
     "text": [
      "motorcycle [lch]: 2.538973871058276\n"
     ]
    }
   ],
   "source": [
    "# [3] 리콕 초도로우 유사도(Leacock Chordorow Similarity)\n",
    "# 단어 간 위계구조에서의 최단 거리(shortest path)와 단어 의미가 발생하는 최대 깊이(maximum depth)에 \n",
    "# 기반해서 유사도를 계산\n",
    "print('motorcycle [lch]:', car.lch_similarity(motorcycle))"
   ]
  },
  {
   "cell_type": "code",
   "execution_count": 33,
   "metadata": {},
   "outputs": [
    {
     "name": "stdout",
     "output_type": "stream",
     "text": [
      "[Synset('cook.v.01'), Synset('cook.v.02'), Synset('cook.v.03'), Synset('fudge.v.01'), Synset('cook.v.05'), Synset('cooked.a.01')]\n",
      "----------------------------------------\n",
      "[Lemma('cook.v.01.cook')]\n"
     ]
    }
   ],
   "source": [
    "# 표제어 추출(Lemmatization)\n",
    "# Lemma는 단어의 원형을 의미한다\n",
    "# 예를 들어, 'cooked'의  lemma는 'cook'가 된다.\n",
    "\n",
    "cook = wordnet.synsets('cooked')\n",
    "print(cook)\n",
    "print('-'*40)\n",
    "print(cook[0].lemmas())"
   ]
  },
  {
   "cell_type": "code",
   "execution_count": null,
   "metadata": {},
   "outputs": [],
   "source": []
  }
 ],
 "metadata": {
  "kernelspec": {
   "display_name": "Python 3",
   "language": "python",
   "name": "python3"
  },
  "language_info": {
   "codemirror_mode": {
    "name": "ipython",
    "version": 3
   },
   "file_extension": ".py",
   "mimetype": "text/x-python",
   "name": "python",
   "nbconvert_exporter": "python",
   "pygments_lexer": "ipython3",
   "version": "3.7.7"
  }
 },
 "nbformat": 4,
 "nbformat_minor": 4
}
