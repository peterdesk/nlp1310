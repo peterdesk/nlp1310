{
 "cells": [
  {
   "cell_type": "markdown",
   "metadata": {},
   "source": [
    "## 통계 기반 기법 개선하기"
   ]
  },
  {
   "cell_type": "markdown",
   "metadata": {},
   "source": [
    "## PMI : 점별 상호 정보량(Pointwise Mutual Information), log 함수\n",
    "#### 높을수록 관련성이 높다\n",
    "\n",
    "![image](https://t1.daumcdn.net/cfile/tistory/267AA340587EFB8737)"
   ]
  },
  {
   "cell_type": "markdown",
   "metadata": {},
   "source": [
    "### PPMI(Positive PMI) : 양의 상호 정보량,  PPMI(x,y) = max(0,PMI(x,y))"
   ]
  },
  {
   "cell_type": "code",
   "execution_count": 1,
   "metadata": {},
   "outputs": [],
   "source": [
    "from mynlp import preprocess, create_co_matrix, cos_similarity, most_similar\n",
    "import numpy as np"
   ]
  },
  {
   "cell_type": "code",
   "execution_count": 3,
   "metadata": {},
   "outputs": [
    {
     "name": "stdout",
     "output_type": "stream",
     "text": [
      "[0 1 2 3 4 1 5 6]\n",
      "{'you': 0, 'say': 1, 'goodbye': 2, 'and': 3, 'i': 4, 'hello': 5, '.': 6}\n",
      "동시발생행렬:\n",
      " [[0 1 0 0 0 0 0]\n",
      " [1 0 1 0 1 1 0]\n",
      " [0 1 0 1 0 0 0]\n",
      " [0 0 1 0 1 0 0]\n",
      " [0 1 0 1 0 0 0]\n",
      " [0 1 0 0 0 0 1]\n",
      " [0 0 0 0 0 1 0]]\n"
     ]
    },
    {
     "data": {
      "text/plain": [
       "(7, 7)"
      ]
     },
     "execution_count": 3,
     "metadata": {},
     "output_type": "execute_result"
    }
   ],
   "source": [
    "text = 'You say goodbye and I say hello.' \n",
    "corpus, word_to_id, id_to_word = preprocess(text)\n",
    "print(corpus)\n",
    "print(word_to_id)\n",
    "vocab_size = len(word_to_id)  # 7\n",
    "C = create_co_matrix(corpus,vocab_size)\n",
    "print('동시발생행렬:\\n',C)\n",
    "C.shape"
   ]
  },
  {
   "cell_type": "markdown",
   "metadata": {},
   "source": [
    "### PPMI 행렬"
   ]
  },
  {
   "cell_type": "code",
   "execution_count": 25,
   "metadata": {},
   "outputs": [
    {
     "name": "stdout",
     "output_type": "stream",
     "text": [
      "14\n",
      "[1 4 2 2 2 2 1]\n",
      "PPMI:\n",
      " [[0.        1.8073549 0.        0.        0.        0.        0.       ]\n",
      " [1.8073549 0.        0.8073549 0.        0.8073549 0.8073549 0.       ]\n",
      " [0.        0.8073549 0.        1.8073549 0.        0.        0.       ]\n",
      " [0.        0.        1.8073549 0.        1.8073549 0.        0.       ]\n",
      " [0.        0.8073549 0.        1.8073549 0.        0.        0.       ]\n",
      " [0.        0.8073549 0.        0.        0.        0.        2.807355 ]\n",
      " [0.        0.        0.        0.        0.        2.807355  0.       ]]\n",
      "[[0 1 0 0 0 0 0]\n",
      " [1 0 1 0 1 1 0]\n",
      " [0 1 0 1 0 0 0]\n",
      " [0 0 1 0 1 0 0]\n",
      " [0 1 0 1 0 0 0]\n",
      " [0 1 0 0 0 0 1]\n",
      " [0 0 0 0 0 1 0]]\n"
     ]
    }
   ],
   "source": [
    "M =  np.zeros_like(C, dtype=np.float32) # (7,7)\n",
    "\n",
    "N = np.sum(C)  # 14 , 동시발생행렬 요소전체의 합\n",
    "print(N)\n",
    "\n",
    "S = np.sum(C,axis=0) # 동시발생행렬 요소의 수직 방향 합\n",
    "print(S)             # [1 4 2 2 2 2 1]\n",
    "\n",
    "total = C.shape[0]*C.shape[1]  # 49, 동시발생행렬 요소의 총갯수\n",
    "\n",
    "for i in range(C.shape[0]) : # 7 회\n",
    "    for j in range(C.shape[1]) : # 7 회\n",
    "        # C[i,j] : 동시발생행렬의 요소한개의 값, 비교하려는 두 단어의 동시발생횟수\n",
    "        # S[0] : 동시발생행렬에서 열의 'you' 단어의 동시 발생횟수\n",
    "        # S[i] : 동시발생행렬에서 열의 한 단어의 동시 발생횟수 , 비교하려는 두단어 중 하나 ,x\n",
    "        # S[j] : 동시발생행렬에서 열 한 단어에 대해 비교하려는 나머지 단어들의 동시 발생횟수, y\n",
    "        # print(i,j,C[i,j])\n",
    "        # print('S[%d]:'%i,S[i],'S[%d]:'%j,S[j])\n",
    "        \n",
    "        pmi = np.log2(C[i,j]*N /(S[i]*S[j]) + 1e-8)\n",
    "        M[i,j] = max(0,pmi)\n",
    "        \n",
    "print('PPMI:\\n', M)   # PPMI 행렬로 변환 \n",
    "print(C)"
   ]
  },
  {
   "cell_type": "code",
   "execution_count": 26,
   "metadata": {},
   "outputs": [],
   "source": [
    "# PPMI 행렬 변환 함수 구현 \n",
    "def ppmi(C, verbose=False, eps=1e-8):\n",
    "    M =  np.zeros_like(C, dtype=np.float32) \n",
    "    N = np.sum(C)  \n",
    "    S = np.sum(C,axis=0)\n",
    "    total = C.shape[0]*C.shape[1]  \n",
    "    \n",
    "    cnt = 0\n",
    "\n",
    "    for i in range(C.shape[0]) : \n",
    "        for j in range(C.shape[1]) :\n",
    "            pmi = np.log2(C[i,j]*N /(S[i]*S[j]) + eps)\n",
    "            M[i,j] = max(0,pmi)\n",
    "            \n",
    "            if verbose:\n",
    "                cnt += 1\n",
    "                if cnt % (total//100) == 0 : # total 이 100 보다 클 때만 사용\n",
    "                    print('%.1f%% 완료'% (100*cnt/total))            \n",
    "    return M "
   ]
  },
  {
   "cell_type": "code",
   "execution_count": 29,
   "metadata": {},
   "outputs": [],
   "source": [
    "# total = 49\n",
    "# print(total//100)\n",
    "# cnt = 1\n",
    "# cnt % (total//100)"
   ]
  },
  {
   "cell_type": "code",
   "execution_count": 33,
   "metadata": {},
   "outputs": [
    {
     "name": "stdout",
     "output_type": "stream",
     "text": [
      "[[0.        1.8073549 0.        0.        0.        0.        0.       ]\n",
      " [1.8073549 0.        0.8073549 0.        0.8073549 0.8073549 0.       ]\n",
      " [0.        0.8073549 0.        1.8073549 0.        0.        0.       ]\n",
      " [0.        0.        1.8073549 0.        1.8073549 0.        0.       ]\n",
      " [0.        0.8073549 0.        1.8073549 0.        0.        0.       ]\n",
      " [0.        0.8073549 0.        0.        0.        0.        2.807355 ]\n",
      " [0.        0.        0.        0.        0.        2.807355  0.       ]]\n"
     ]
    }
   ],
   "source": [
    "text = 'You say goodbye and I say hello.' \n",
    "corpus, word_to_id, id_to_word = preprocess(text)\n",
    "# print(corpus)\n",
    "# print(word_to_id)\n",
    "vocab_size = len(word_to_id)  # 7\n",
    "C = create_co_matrix(corpus,vocab_size)\n",
    "\n",
    "W = ppmi(C)\n",
    "print(W)   # 동시발생행렬보다 좀더 나은 확률에 기반한 PPMI행렬로 변환되었다"
   ]
  },
  {
   "cell_type": "markdown",
   "metadata": {},
   "source": [
    "### SVD(Singular Value Decomposition, 특잇값분해) 에 의한 차원의 축소"
   ]
  },
  {
   "cell_type": "markdown",
   "metadata": {},
   "source": [
    "#### 차원 축소 알고리즘 정리\n",
    "- PCA(Principal Component Analysis,주성분 분석) : 데이터의 분산(variance)을 최대한 보존하면서 서로 직교하는 새 기저(축)를 찾아, 고차원 공간의 표본들을 선형 연관성이 없는 저차원 공간으로 변환하는 기법, 정방행렬인 공분산행렬(covariance matrix)을 고유벡터(eigenvector)로 분해한다\n",
    "\n",
    " https://ratsgo.github.io/machine%20learning/2017/04/24/PCA/ \n",
    "<br>\n",
    "\n",
    "- SVD(Singular Value Decomposition, 특잇값분해) : 임의의 행렬을 세 행렬의 곱으로 분해\n",
    "\n",
    "$$ X=USV^T $$\n",
    "      \n",
    "   https://angeloyeo.github.io/2019/08/01/SVD.html\n",
    "  \n",
    "   https://darkpgmr.tistory.com/106 \n",
    "\n",
    "[노트북문서화작업]\n",
    "\n",
    "http://www.onemathematicalcat.org/MathJaxDocumentation/MathJaxKorean/TeXSyntax_ko.html"
   ]
  },
  {
   "cell_type": "code",
   "execution_count": 35,
   "metadata": {},
   "outputs": [
    {
     "name": "stdout",
     "output_type": "stream",
     "text": [
      "[[0.        1.8073549 0.        0.        0.        0.        0.       ]\n",
      " [1.8073549 0.        0.8073549 0.        0.8073549 0.8073549 0.       ]\n",
      " [0.        0.8073549 0.        1.8073549 0.        0.        0.       ]\n",
      " [0.        0.        1.8073549 0.        1.8073549 0.        0.       ]\n",
      " [0.        0.8073549 0.        1.8073549 0.        0.        0.       ]\n",
      " [0.        0.8073549 0.        0.        0.        0.        2.807355 ]\n",
      " [0.        0.        0.        0.        0.        2.807355  0.       ]]\n"
     ]
    }
   ],
   "source": [
    "print(W)"
   ]
  },
  {
   "cell_type": "code",
   "execution_count": 37,
   "metadata": {},
   "outputs": [
    {
     "name": "stdout",
     "output_type": "stream",
     "text": [
      "[[-3.41e-01 -1.11e-16 -3.89e-16 -1.21e-01  0.00e+00  9.32e-01  2.23e-16]\n",
      " [ 0.00e+00 -5.98e-01  1.80e-01  0.00e+00 -7.81e-01  0.00e+00  0.00e+00]\n",
      " [-4.36e-01 -4.24e-17 -2.17e-16 -5.09e-01 -1.77e-17 -2.25e-01 -7.07e-01]\n",
      " [-2.61e-16 -4.98e-01  6.80e-01 -6.57e-17  5.38e-01  9.95e-17  1.20e-17]\n",
      " [-4.36e-01 -3.23e-17 -1.65e-16 -5.09e-01 -1.35e-17 -2.25e-01  7.07e-01]\n",
      " [-7.09e-01 -3.23e-17 -1.65e-16  6.84e-01 -1.35e-17 -1.71e-01  5.89e-17]\n",
      " [ 3.06e-16 -6.28e-01 -7.10e-01  8.85e-17  3.17e-01 -2.85e-16 -1.55e-17]]\n"
     ]
    }
   ],
   "source": [
    "U,S,V = np.linalg.svd(W)   #  PPMI 행렬 W을 밀집벡터 U로 변환\n",
    "\n",
    "np.set_printoptions(precision=2)\n",
    "print(U)"
   ]
  },
  {
   "cell_type": "code",
   "execution_count": 38,
   "metadata": {},
   "outputs": [
    {
     "name": "stdout",
     "output_type": "stream",
     "text": [
      "[[-3.41e-01 -1.11e-16]\n",
      " [ 0.00e+00 -5.98e-01]\n",
      " [-4.36e-01 -4.24e-17]\n",
      " [-2.61e-16 -4.98e-01]\n",
      " [-4.36e-01 -3.23e-17]\n",
      " [-7.09e-01 -3.23e-17]\n",
      " [ 3.06e-16 -6.28e-01]]\n"
     ]
    }
   ],
   "source": [
    "# 차원을 줄이려면 처음 2개의 요소를 꺼내면 된다\n",
    "print(U[:,:2])    # (7,7)  --> (7,2) 로 축소됨"
   ]
  },
  {
   "cell_type": "code",
   "execution_count": null,
   "metadata": {},
   "outputs": [],
   "source": []
  }
 ],
 "metadata": {
  "kernelspec": {
   "display_name": "Python 3",
   "language": "python",
   "name": "python3"
  },
  "language_info": {
   "codemirror_mode": {
    "name": "ipython",
    "version": 3
   },
   "file_extension": ".py",
   "mimetype": "text/x-python",
   "name": "python",
   "nbconvert_exporter": "python",
   "pygments_lexer": "ipython3",
   "version": "3.7.7"
  }
 },
 "nbformat": 4,
 "nbformat_minor": 4
}
