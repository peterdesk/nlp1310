{
 "cells": [
  {
   "cell_type": "markdown",
   "metadata": {},
   "source": [
    "## 통계 기반 기법 개선하기"
   ]
  },
  {
   "cell_type": "markdown",
   "metadata": {},
   "source": [
    "## PMI : 점별 상호 정보량(Pointwise Mutual Information), log 함수\n",
    "#### 높을수록 관련성이 높다\n",
    "\n",
    "![image](https://t1.daumcdn.net/cfile/tistory/267AA340587EFB8737)"
   ]
  },
  {
   "cell_type": "markdown",
   "metadata": {},
   "source": [
    "### PPMI(Positive PMI) : 양의 상호 정보량,  PPMI(x,y) = max(0,PMI(x,y))"
   ]
  },
  {
   "cell_type": "code",
   "execution_count": 1,
   "metadata": {},
   "outputs": [],
   "source": [
    "from mynlp import preprocess, create_co_matrix, cos_similarity, most_similar\n",
    "import numpy as np"
   ]
  },
  {
   "cell_type": "code",
   "execution_count": 3,
   "metadata": {},
   "outputs": [
    {
     "name": "stdout",
     "output_type": "stream",
     "text": [
      "[0 1 2 3 4 1 5 6]\n",
      "{'you': 0, 'say': 1, 'goodbye': 2, 'and': 3, 'i': 4, 'hello': 5, '.': 6}\n",
      "동시발생행렬:\n",
      " [[0 1 0 0 0 0 0]\n",
      " [1 0 1 0 1 1 0]\n",
      " [0 1 0 1 0 0 0]\n",
      " [0 0 1 0 1 0 0]\n",
      " [0 1 0 1 0 0 0]\n",
      " [0 1 0 0 0 0 1]\n",
      " [0 0 0 0 0 1 0]]\n"
     ]
    },
    {
     "data": {
      "text/plain": [
       "(7, 7)"
      ]
     },
     "execution_count": 3,
     "metadata": {},
     "output_type": "execute_result"
    }
   ],
   "source": [
    "text = 'You say goodbye and I say hello.' \n",
    "corpus, word_to_id, id_to_word = preprocess(text)\n",
    "print(corpus)\n",
    "print(word_to_id)\n",
    "vocab_size = len(word_to_id)  # 7\n",
    "C = create_co_matrix(corpus,vocab_size)\n",
    "print('동시발생행렬:\\n',C)\n",
    "C.shape"
   ]
  },
  {
   "cell_type": "markdown",
   "metadata": {},
   "source": [
    "### PPMI 행렬"
   ]
  },
  {
   "cell_type": "code",
   "execution_count": 25,
   "metadata": {},
   "outputs": [
    {
     "name": "stdout",
     "output_type": "stream",
     "text": [
      "14\n",
      "[1 4 2 2 2 2 1]\n",
      "PPMI:\n",
      " [[0.        1.8073549 0.        0.        0.        0.        0.       ]\n",
      " [1.8073549 0.        0.8073549 0.        0.8073549 0.8073549 0.       ]\n",
      " [0.        0.8073549 0.        1.8073549 0.        0.        0.       ]\n",
      " [0.        0.        1.8073549 0.        1.8073549 0.        0.       ]\n",
      " [0.        0.8073549 0.        1.8073549 0.        0.        0.       ]\n",
      " [0.        0.8073549 0.        0.        0.        0.        2.807355 ]\n",
      " [0.        0.        0.        0.        0.        2.807355  0.       ]]\n",
      "[[0 1 0 0 0 0 0]\n",
      " [1 0 1 0 1 1 0]\n",
      " [0 1 0 1 0 0 0]\n",
      " [0 0 1 0 1 0 0]\n",
      " [0 1 0 1 0 0 0]\n",
      " [0 1 0 0 0 0 1]\n",
      " [0 0 0 0 0 1 0]]\n"
     ]
    }
   ],
   "source": [
    "M =  np.zeros_like(C, dtype=np.float32) # (7,7)\n",
    "\n",
    "N = np.sum(C)  # 14 , 동시발생행렬 요소전체의 합\n",
    "print(N)\n",
    "\n",
    "S = np.sum(C,axis=0) # 동시발생행렬 요소의 수직 방향 합\n",
    "print(S)             # [1 4 2 2 2 2 1]\n",
    "\n",
    "total = C.shape[0]*C.shape[1]  # 49, 동시발생행렬 요소의 총갯수\n",
    "\n",
    "for i in range(C.shape[0]) : # 7 회\n",
    "    for j in range(C.shape[1]) : # 7 회\n",
    "        # C[i,j] : 동시발생행렬의 요소한개의 값, 비교하려는 두 단어의 동시발생횟수\n",
    "        # S[0] : 동시발생행렬에서 열의 'you' 단어의 동시 발생횟수\n",
    "        # S[i] : 동시발생행렬에서 열의 한 단어의 동시 발생횟수 , 비교하려는 두단어 중 하나 ,x\n",
    "        # S[j] : 동시발생행렬에서 열 한 단어에 대해 비교하려는 나머지 단어들의 동시 발생횟수, y\n",
    "        # print(i,j,C[i,j])\n",
    "        # print('S[%d]:'%i,S[i],'S[%d]:'%j,S[j])\n",
    "        \n",
    "        pmi = np.log2(C[i,j]*N /(S[i]*S[j]) + 1e-8)\n",
    "        M[i,j] = max(0,pmi)\n",
    "        \n",
    "print('PPMI:\\n', M)   # PPMI 행렬로 변환 \n",
    "print(C)"
   ]
  },
  {
   "cell_type": "code",
   "execution_count": 26,
   "metadata": {},
   "outputs": [],
   "source": [
    "# PPMI 행렬 변환 함수 구현 \n",
    "def ppmi(C,verbose=False, eps=1e-8):\n",
    "    M =  np.zeros_like(C, dtype=np.float32) \n",
    "    N = np.sum(C)  \n",
    "    S = np.sum(C,axis=0)\n",
    "    total = C.shape[0]*C.shape[1]  \n",
    "\n",
    "    for i in range(C.shape[0]) : \n",
    "        for j in range(C.shape[1]) :\n",
    "            pmi = np.log2(C[i,j]*N /(S[i]*S[j]) + 1e-8)\n",
    "            M[i,j] = max(0,pmi)\n",
    "            \n",
    "    return M "
   ]
  },
  {
   "cell_type": "code",
   "execution_count": null,
   "metadata": {},
   "outputs": [],
   "source": []
  }
 ],
 "metadata": {
  "kernelspec": {
   "display_name": "Python 3",
   "language": "python",
   "name": "python3"
  },
  "language_info": {
   "codemirror_mode": {
    "name": "ipython",
    "version": 3
   },
   "file_extension": ".py",
   "mimetype": "text/x-python",
   "name": "python",
   "nbconvert_exporter": "python",
   "pygments_lexer": "ipython3",
   "version": "3.7.7"
  }
 },
 "nbformat": 4,
 "nbformat_minor": 4
}
