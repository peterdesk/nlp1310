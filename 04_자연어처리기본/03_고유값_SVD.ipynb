{
 "cells": [
  {
   "cell_type": "markdown",
   "metadata": {},
   "source": [
    "### 행렬의 고유값(eigenvalue)과 고유벡터(eigenvector)\n",
    "#### 행렬의 고유값이란 A\\*x = a\\*x 방정식의 스칼라 해 a이다 .여기서 A는 2차원 행렬이고 x는 1차원 벡터이다(a가 고유값)\n",
    "#### 고유벡터는 선형 변환이 일어나도 방향이 변하지 않는 벡터(2차원에서 1차원으로 축소하여도 고유한 성질을 그대로 지님)\n",
    "#### PCA나 SVD와 같은  차원 축소 알고리즘에 이용된다"
   ]
  },
  {
   "cell_type": "code",
   "execution_count": 2,
   "metadata": {},
   "outputs": [
    {
     "name": "stdout",
     "output_type": "stream",
     "text": [
      "A\n",
      " [[ 3 -2]\n",
      " [ 1  0]]\n",
      "고유값(a) :  [2. 1.]\n",
      "고유벡터(x) : \n",
      " [[0.89442719 0.70710678]\n",
      " [0.4472136  0.70710678]]\n"
     ]
    }
   ],
   "source": [
    "import numpy as np\n",
    "A = np.array([[3, -2],\n",
    "              [1, 0]])\n",
    "print(\"A\\n\", A)\n",
    "# print(\"Eigenvalues : \", np.linalg.eigvals(A)) # 고유값\n",
    "eigenvalues, eigenvectors = np.linalg.eig(A)\n",
    "print(\"고유값(a) : \", eigenvalues)\n",
    "print(\"고유벡터(x) : \\n\", eigenvectors)"
   ]
  },
  {
   "cell_type": "code",
   "execution_count": 4,
   "metadata": {},
   "outputs": [
    {
     "name": "stdout",
     "output_type": "stream",
     "text": [
      "A*x:\n",
      " [[1.78885438 0.70710678]\n",
      " [0.89442719 0.70710678]]\n",
      "a*x 0번 열:\n",
      " [[1.78885438]\n",
      " [0.89442719]]\n",
      "a*x 1번 열:\n",
      " [[0.70710678]\n",
      " [0.70710678]]\n"
     ]
    }
   ],
   "source": [
    "# A*x = a*x 방정식에 대입하여 결과 값 비교\n",
    "A_dot_x = np.dot(A, eigenvectors)\n",
    "print('A*x:\\n',A_dot_x)\n",
    "\n",
    "a_dot_x_0 = eigenvalues[0] * eigenvectors[:,0] # 0번 열 , 고유값은 스칼라이므로 일반 곱셈\n",
    "a_dot_x_1 = eigenvalues[1] * eigenvectors[:,1] # 1번 열 , 고유값은 스칼라이므로 일반 곱셈\n",
    "print('a*x 0번 열:\\n',a_dot_x_0.reshape(2,-1))\n",
    "print('a*x 1번 열:\\n',a_dot_x_1.reshape(2,-1))"
   ]
  },
  {
   "cell_type": "code",
   "execution_count": 5,
   "metadata": {},
   "outputs": [
    {
     "name": "stdout",
     "output_type": "stream",
     "text": [
      "Left [1.78885438 0.89442719]\n",
      "Right [1.78885438 0.89442719]\n",
      "Left [0.70710678 0.70710678]\n",
      "Right [0.70710678 0.70710678]\n"
     ]
    }
   ],
   "source": [
    "for i in range(len(eigenvalues)):\n",
    "    print(\"Left\", np.dot(A, eigenvectors[:,i]))\n",
    "    print(\"Right\", eigenvalues[i] * eigenvectors[:,i])"
   ]
  },
  {
   "cell_type": "markdown",
   "metadata": {},
   "source": [
    "## SVD(Singular Value Decomposition, 특잇값분해) \n",
    "#### 임의의 행렬 X를 U,S,V 세개의 행렬의 곱으로 분해\n",
    "- U 와 V는 직교행렬(orthogonal matrix)이고 그 열 벡터는 서로 직교한다 <br>\n",
    "- U는 $ (X)*(X^T)$를 고유값 분해해서 얻은 직교 행렬이며, V는 $(X^T)*(X)$를 고유값 분해해서 얻은 직교 행렬입니다\n",
    "- 직교 행렬은 $Q^T*Q = Q*Q^T = E(단위행렬), $  즉  Q<sup>T</sup> = Q<sup>-1</sup>  (전치 행렬이 역행렬과 같은 행렬)\n",
    "- S 는 대각행렬(diagonal matrix, 대각 성분 외에는 모두 0인 행렬)이다,시그마라고 읽는다\n",
    "\n",
    " https://angeloyeo.github.io/2019/08/01/SVD.html"
   ]
  },
  {
   "cell_type": "code",
   "execution_count": 4,
   "metadata": {},
   "outputs": [
    {
     "name": "stdout",
     "output_type": "stream",
     "text": [
      "[[3 6 1]\n",
      " [2 3 4]\n",
      " [0 0 0]] (3, 3)\n"
     ]
    }
   ],
   "source": [
    "import numpy as np\n",
    "\n",
    "# X = np.array([[3,6],\n",
    "#               [2,3],\n",
    "#               [0,0],\n",
    "#               [0,0]])\n",
    "\n",
    "X = np.array([[3,6,1],\n",
    "              [2,3,4],\n",
    "              [0,0,0]])\n",
    "print(X,X.shape)"
   ]
  },
  {
   "cell_type": "code",
   "execution_count": 5,
   "metadata": {},
   "outputs": [
    {
     "name": "stdout",
     "output_type": "stream",
     "text": [
      "U:\n",
      " [[-0.80326882 -0.59561665  0.        ]\n",
      " [-0.59561665  0.80326882  0.        ]\n",
      " [ 0.          0.          1.        ]]\n",
      "S:\n",
      " [8.17078636 2.87023522 0.        ]\n",
      "VT:\n",
      " [[-0.44072132 -0.80854677 -0.38989337]\n",
      " [-0.06282144 -0.40550455  0.91193175]\n",
      " [ 0.89544301 -0.42640143 -0.12792043]]\n"
     ]
    }
   ],
   "source": [
    "# numpy svd() 특잇값분해 함수 사용\n",
    "U, S, VT = np.linalg.svd(X) \n",
    "print('U:\\n',U)\n",
    "print('S:\\n',S)\n",
    "print('VT:\\n',VT)"
   ]
  },
  {
   "cell_type": "code",
   "execution_count": 6,
   "metadata": {},
   "outputs": [
    {
     "name": "stdout",
     "output_type": "stream",
     "text": [
      "[[3 6 1]\n",
      " [2 3 4]\n",
      " [0 0 0]]\n",
      "[[3 2 0]\n",
      " [6 3 0]\n",
      " [1 4 0]]\n"
     ]
    },
    {
     "data": {
      "text/plain": [
       "array([[46, 28,  0],\n",
       "       [28, 29,  0],\n",
       "       [ 0,  0,  0]])"
      ]
     },
     "execution_count": 6,
     "metadata": {},
     "output_type": "execute_result"
    }
   ],
   "source": [
    "# X와 X의 전치행렬의 내적곱 : (4,2) * (2,4) = (4,4)\n",
    "u = np.dot(X , X.T)\n",
    "print(X)\n",
    "print(X.T)\n",
    "u"
   ]
  },
  {
   "cell_type": "code",
   "execution_count": 35,
   "metadata": {},
   "outputs": [
    {
     "name": "stdout",
     "output_type": "stream",
     "text": [
      "U 고유값: [-1.  1.  1.]\n",
      "U 고유벡터:\n",
      " [[-0.94954432  0.31363289  0.        ]\n",
      " [-0.31363289 -0.94954432  0.        ]\n",
      " [ 0.          0.          1.        ]]\n"
     ]
    }
   ],
   "source": [
    "U_eigenvalues ,U_eigenvector= np.linalg.eig(u)  # 'eigen' : 아이건으로 발음\n",
    "print('U 고유값:',U_eigenvalues)\n",
    "print('U 고유벡터:\\n',U_eigenvector) # 값이 약간 다름, numpy버전이나 OS에따라 축의 순서가 다르나 차원 축소 효과는 동일"
   ]
  },
  {
   "cell_type": "code",
   "execution_count": 36,
   "metadata": {},
   "outputs": [
    {
     "data": {
      "text/plain": [
       "'1.17.0'"
      ]
     },
     "execution_count": 36,
     "metadata": {},
     "output_type": "execute_result"
    }
   ],
   "source": [
    "print(np.__version__)\n"
   ]
  },
  {
   "cell_type": "code",
   "execution_count": 8,
   "metadata": {},
   "outputs": [
    {
     "data": {
      "text/plain": [
       "array([[13, 24, 11],\n",
       "       [24, 45, 18],\n",
       "       [11, 18, 17]])"
      ]
     },
     "execution_count": 8,
     "metadata": {},
     "output_type": "execute_result"
    }
   ],
   "source": [
    "# X의 전치행렬과 X의 내적곱 : (2, 4) * (4,2) = (2,2)\n",
    "v = np.dot(X.T , X)\n",
    "v"
   ]
  },
  {
   "cell_type": "code",
   "execution_count": 9,
   "metadata": {},
   "outputs": [
    {
     "name": "stdout",
     "output_type": "stream",
     "text": [
      "V 고유값: [ 6.67617498e+01 -2.57619311e-15  8.23825022e+00]\n",
      "V 고유벡터:\n",
      " [[ 0.44072132  0.89544301 -0.06282144]\n",
      " [ 0.80854677 -0.42640143 -0.40550455]\n",
      " [ 0.38989337 -0.12792043  0.91193175]]\n"
     ]
    }
   ],
   "source": [
    "V_eigenvalues ,V_eigenvector = np.linalg.eig(v)\n",
    "print('V 고유값:', V_eigenvalues)\n",
    "print('V 고유벡터:\\n',V_eigenvector) # 값이 위와 약간 다름,차원 축소 효과는 동일"
   ]
  },
  {
   "cell_type": "code",
   "execution_count": 10,
   "metadata": {},
   "outputs": [],
   "source": [
    "u, s, vh = np.linalg.svd(X)"
   ]
  },
  {
   "cell_type": "code",
   "execution_count": 11,
   "metadata": {},
   "outputs": [
    {
     "data": {
      "text/plain": [
       "array([[3, 6, 1],\n",
       "       [2, 3, 4],\n",
       "       [0, 0, 0]])"
      ]
     },
     "execution_count": 11,
     "metadata": {},
     "output_type": "execute_result"
    }
   ],
   "source": [
    "X"
   ]
  },
  {
   "cell_type": "code",
   "execution_count": 12,
   "metadata": {},
   "outputs": [
    {
     "data": {
      "text/plain": [
       "array([[-0.80326882, -0.59561665,  0.        ],\n",
       "       [-0.59561665,  0.80326882,  0.        ],\n",
       "       [ 0.        ,  0.        ,  1.        ]])"
      ]
     },
     "execution_count": 12,
     "metadata": {},
     "output_type": "execute_result"
    }
   ],
   "source": [
    "u"
   ]
  },
  {
   "cell_type": "code",
   "execution_count": 13,
   "metadata": {},
   "outputs": [
    {
     "data": {
      "text/plain": [
       "array([8.17078636, 2.87023522, 0.        ])"
      ]
     },
     "execution_count": 13,
     "metadata": {},
     "output_type": "execute_result"
    }
   ],
   "source": [
    "s"
   ]
  },
  {
   "cell_type": "code",
   "execution_count": 14,
   "metadata": {},
   "outputs": [
    {
     "data": {
      "text/plain": [
       "array([[8.17078636, 0.        , 0.        ],\n",
       "       [0.        , 2.87023522, 0.        ],\n",
       "       [0.        , 0.        , 0.        ]])"
      ]
     },
     "execution_count": 14,
     "metadata": {},
     "output_type": "execute_result"
    }
   ],
   "source": [
    "S = np.diag(s) # (3,3))  # 대각 행렬로 변환\n",
    "S"
   ]
  },
  {
   "cell_type": "code",
   "execution_count": 15,
   "metadata": {},
   "outputs": [
    {
     "name": "stdout",
     "output_type": "stream",
     "text": [
      "[[0 1 2]\n",
      " [3 4 5]\n",
      " [6 7 8]]\n",
      "[0 4 8]\n",
      "[0 4 8]\n",
      "[1 5]\n",
      "[2]\n"
     ]
    }
   ],
   "source": [
    "# np.diag() : 대각행렬(diagonal matrix) 생성\n",
    "x = np.arange(9).reshape(3, 3)\n",
    "print(x)\n",
    "print(np.diag(x))    # [0 4 8] , 0번 열에서 시작하는 대각선 요소만 추출\n",
    "print(np.diag(x,0))  # [0 4 8] , 0번 열에서 시작하는 대각선 요소만 추출, 위와 동일\n",
    "print(np.diag(x,1))  # [1 5], 1번 열에서 시작하는 대각선 요소만 추출\n",
    "print(np.diag(x,2))  # [2] , 2번 열에서 시작하는 대각선 요소만 추출"
   ]
  },
  {
   "cell_type": "code",
   "execution_count": 16,
   "metadata": {},
   "outputs": [
    {
     "name": "stdout",
     "output_type": "stream",
     "text": [
      "[[0 0 0]\n",
      " [0 4 0]\n",
      " [0 0 8]]\n",
      "[[0 0 0]\n",
      " [0 4 0]\n",
      " [0 0 8]]\n",
      "[[0 0 0 0]\n",
      " [0 0 4 0]\n",
      " [0 0 0 8]\n",
      " [0 0 0 0]]\n",
      "[[0 0 0 0 0]\n",
      " [0 0 0 4 0]\n",
      " [0 0 0 0 8]\n",
      " [0 0 0 0 0]\n",
      " [0 0 0 0 0]]\n"
     ]
    }
   ],
   "source": [
    "print(np.diag([0,4,8])) # [0 4 8]을 이용하여 대각 행렬 생성\n",
    "print(np.diag([0, 4, 8],0))\n",
    "print(np.diag([0, 4, 8],1))\n",
    "print(np.diag([0, 4, 8],2))"
   ]
  },
  {
   "cell_type": "code",
   "execution_count": 17,
   "metadata": {},
   "outputs": [
    {
     "data": {
      "text/plain": [
       "array([[-0.44072132, -0.80854677, -0.38989337],\n",
       "       [-0.06282144, -0.40550455,  0.91193175],\n",
       "       [ 0.89544301, -0.42640143, -0.12792043]])"
      ]
     },
     "execution_count": 17,
     "metadata": {},
     "output_type": "execute_result"
    }
   ],
   "source": [
    "vh"
   ]
  },
  {
   "cell_type": "code",
   "execution_count": 18,
   "metadata": {},
   "outputs": [
    {
     "data": {
      "text/plain": [
       "array([[3., 6., 1.],\n",
       "       [2., 3., 4.],\n",
       "       [0., 0., 0.]])"
      ]
     },
     "execution_count": 18,
     "metadata": {},
     "output_type": "execute_result"
    }
   ],
   "source": [
    "np.dot(np.dot(u, S), vh)"
   ]
  },
  {
   "cell_type": "code",
   "execution_count": null,
   "metadata": {},
   "outputs": [],
   "source": []
  },
  {
   "cell_type": "code",
   "execution_count": null,
   "metadata": {},
   "outputs": [],
   "source": []
  },
  {
   "cell_type": "code",
   "execution_count": null,
   "metadata": {},
   "outputs": [],
   "source": []
  },
  {
   "cell_type": "code",
   "execution_count": null,
   "metadata": {},
   "outputs": [],
   "source": []
  },
  {
   "cell_type": "code",
   "execution_count": null,
   "metadata": {},
   "outputs": [],
   "source": []
  },
  {
   "cell_type": "code",
   "execution_count": null,
   "metadata": {},
   "outputs": [],
   "source": []
  },
  {
   "cell_type": "code",
   "execution_count": 20,
   "metadata": {},
   "outputs": [],
   "source": [
    "from numpy.linalg import svd\n",
    "\n",
    "A = np.array([[3, -1],\n",
    "              [1, 3], \n",
    "              [1, 1]])\n",
    "U, S, VT = svd(A)"
   ]
  },
  {
   "cell_type": "code",
   "execution_count": 21,
   "metadata": {},
   "outputs": [
    {
     "data": {
      "text/plain": [
       "array([[-4.08248290e-01,  8.94427191e-01, -1.82574186e-01],\n",
       "       [-8.16496581e-01, -4.47213595e-01, -3.65148372e-01],\n",
       "       [-4.08248290e-01, -1.94289029e-16,  9.12870929e-01]])"
      ]
     },
     "execution_count": 21,
     "metadata": {},
     "output_type": "execute_result"
    }
   ],
   "source": [
    "U"
   ]
  },
  {
   "cell_type": "code",
   "execution_count": 22,
   "metadata": {},
   "outputs": [
    {
     "data": {
      "text/plain": [
       "array([3.46410162, 3.16227766])"
      ]
     },
     "execution_count": 22,
     "metadata": {},
     "output_type": "execute_result"
    }
   ],
   "source": [
    "S"
   ]
  },
  {
   "cell_type": "code",
   "execution_count": 23,
   "metadata": {},
   "outputs": [
    {
     "data": {
      "text/plain": [
       "array([[-0.70710678, -0.70710678],\n",
       "       [ 0.70710678, -0.70710678]])"
      ]
     },
     "execution_count": 23,
     "metadata": {},
     "output_type": "execute_result"
    }
   ],
   "source": [
    "VT"
   ]
  },
  {
   "cell_type": "markdown",
   "metadata": {},
   "source": [
    "###  NumPy 선형대수 함수 (Linear Algebra)\n",
    "\n",
    "- 단위행렬,항등행렬 (Unit matrix,Identity matrix): np.eye(n)\n",
    "- 대각행렬 (Diagonal matrix): np.diag(x)\n",
    "- 내적 (Dot product, Inner product): np.dot(a, b)\n",
    "- 대각합 (Trace): np.trace(x)\n",
    "- 행렬식 (Matrix Determinant): np.linalg.det(x)\n",
    "- 역행렬 (Inverse of a matrix): np.linalg.inv(x)\n",
    "- 고유값 (Eigenvalue), 고유벡터 (Eigenvector): w, v = np.linalg.eig(x)\n",
    "- 특이값 분해 (Singular Value Decomposition): u, s, vh = np.linalg.svd(A)\n",
    "- 연립방정식 해 풀기 (Solve a linear matrix equation): np.linalg.solve(a, b)\n",
    "- 최소자승 해 풀기 (Compute the Least-squares solution): m, c = np.linalg.lstsq(A, y, rcond=None)[0]\n",
    "\n",
    "   https://rfriend.tistory.com/tag/np.diag(x) "
   ]
  },
  {
   "cell_type": "code",
   "execution_count": 24,
   "metadata": {},
   "outputs": [
    {
     "name": "stdout",
     "output_type": "stream",
     "text": [
      "[[0.         3.46410162 0.        ]\n",
      " [0.         0.         3.16227766]\n",
      " [0.         0.         0.        ]]\n"
     ]
    },
    {
     "data": {
      "text/plain": [
       "array([[3.46410162, 0.        ],\n",
       "       [0.        , 3.16227766],\n",
       "       [0.        , 0.        ]])"
      ]
     },
     "execution_count": 24,
     "metadata": {},
     "output_type": "execute_result"
    }
   ],
   "source": [
    "# np.diag() : 대각행렬(diagonal matrix) 생성\n",
    "print(np.diag(S, 1))\n",
    "np.diag(S, 1)[:, 1:]"
   ]
  },
  {
   "cell_type": "code",
   "execution_count": 25,
   "metadata": {},
   "outputs": [
    {
     "name": "stdout",
     "output_type": "stream",
     "text": [
      "[[1 2]\n",
      " [3 4]]\n",
      "[[ 7 10]\n",
      " [15 22]]\n",
      "[[ 7 10]\n",
      " [15 22]]\n"
     ]
    }
   ],
   "source": [
    "# 파이썬 버전 3.5 에서 '@' 연산자는 행렬의 내적 곱셈을 위한 중위 연산자로 추가되었다\n",
    "a = np.array([[1,2],\n",
    "              [3,4]])\n",
    "print(a)\n",
    "\n",
    "print(a@a)\n",
    "print(np.dot(a,a))"
   ]
  },
  {
   "cell_type": "code",
   "execution_count": 26,
   "metadata": {},
   "outputs": [
    {
     "data": {
      "text/plain": [
       "array([[ 3., -1.],\n",
       "       [ 1.,  3.],\n",
       "       [ 1.,  1.]])"
      ]
     },
     "execution_count": 26,
     "metadata": {},
     "output_type": "execute_result"
    }
   ],
   "source": [
    "U @ np.diag(S, 1)[:, 1:] @ VT"
   ]
  },
  {
   "cell_type": "code",
   "execution_count": 27,
   "metadata": {},
   "outputs": [],
   "source": [
    "U2, S2, VT2 = svd(A, full_matrices=False)"
   ]
  },
  {
   "cell_type": "code",
   "execution_count": 28,
   "metadata": {},
   "outputs": [
    {
     "data": {
      "text/plain": [
       "array([[-4.08248290e-01,  8.94427191e-01],\n",
       "       [-8.16496581e-01, -4.47213595e-01],\n",
       "       [-4.08248290e-01, -1.94289029e-16]])"
      ]
     },
     "execution_count": 28,
     "metadata": {},
     "output_type": "execute_result"
    }
   ],
   "source": [
    "U2"
   ]
  },
  {
   "cell_type": "code",
   "execution_count": 29,
   "metadata": {},
   "outputs": [
    {
     "data": {
      "text/plain": [
       "array([3.46410162, 3.16227766])"
      ]
     },
     "execution_count": 29,
     "metadata": {},
     "output_type": "execute_result"
    }
   ],
   "source": [
    "S2"
   ]
  },
  {
   "cell_type": "code",
   "execution_count": 30,
   "metadata": {},
   "outputs": [
    {
     "data": {
      "text/plain": [
       "array([[-0.70710678, -0.70710678],\n",
       "       [ 0.70710678, -0.70710678]])"
      ]
     },
     "execution_count": 30,
     "metadata": {},
     "output_type": "execute_result"
    }
   ],
   "source": [
    "VT2"
   ]
  },
  {
   "cell_type": "code",
   "execution_count": 31,
   "metadata": {},
   "outputs": [
    {
     "data": {
      "text/plain": [
       "array([[3.46410162, 0.        ],\n",
       "       [0.        , 3.16227766]])"
      ]
     },
     "execution_count": 31,
     "metadata": {},
     "output_type": "execute_result"
    }
   ],
   "source": [
    "np.diag(S2) "
   ]
  },
  {
   "cell_type": "code",
   "execution_count": 32,
   "metadata": {},
   "outputs": [
    {
     "data": {
      "text/plain": [
       "array([[ 3., -1.],\n",
       "       [ 1.,  3.],\n",
       "       [ 1.,  1.]])"
      ]
     },
     "execution_count": 32,
     "metadata": {},
     "output_type": "execute_result"
    }
   ],
   "source": [
    "U2 @ np.diag(S2) @ VT2"
   ]
  },
  {
   "cell_type": "code",
   "execution_count": 33,
   "metadata": {},
   "outputs": [
    {
     "name": "stdout",
     "output_type": "stream",
     "text": [
      "[[0 0 0 0]\n",
      " [0 1 0 0]\n",
      " [0 0 2 0]\n",
      " [0 0 0 3]]\n",
      "[[0 0 0 0]\n",
      " [0 1 0 0]\n",
      " [0 0 4 0]\n",
      " [0 0 0 9]]\n",
      "[[0 0 0 0]\n",
      " [0 1 0 0]\n",
      " [0 0 4 0]\n",
      " [0 0 0 9]]\n"
     ]
    }
   ],
   "source": [
    "x = np.diag(np.arange(4))\n",
    "print(x)\n",
    "print(np.dot(x,x))\n",
    "print(x @ x)"
   ]
  },
  {
   "cell_type": "code",
   "execution_count": null,
   "metadata": {},
   "outputs": [],
   "source": []
  },
  {
   "cell_type": "code",
   "execution_count": 34,
   "metadata": {},
   "outputs": [
    {
     "name": "stdout",
     "output_type": "stream",
     "text": [
      "11\n"
     ]
    },
    {
     "data": {
      "text/plain": [
       "11"
      ]
     },
     "execution_count": 34,
     "metadata": {},
     "output_type": "execute_result"
    }
   ],
   "source": [
    "a = np.array([1,2])\n",
    "b = np.array([3,4])\n",
    "print(a @ b)\n",
    "np.dot(a,b)"
   ]
  },
  {
   "cell_type": "code",
   "execution_count": null,
   "metadata": {},
   "outputs": [],
   "source": []
  }
 ],
 "metadata": {
  "kernelspec": {
   "display_name": "Python 3",
   "language": "python",
   "name": "python3"
  },
  "language_info": {
   "codemirror_mode": {
    "name": "ipython",
    "version": 3
   },
   "file_extension": ".py",
   "mimetype": "text/x-python",
   "name": "python",
   "nbconvert_exporter": "python",
   "pygments_lexer": "ipython3",
   "version": "3.7.7"
  }
 },
 "nbformat": 4,
 "nbformat_minor": 4
}
