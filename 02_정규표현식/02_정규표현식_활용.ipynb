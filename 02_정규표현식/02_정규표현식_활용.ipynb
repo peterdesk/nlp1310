{
 "cells": [
  {
   "cell_type": "markdown",
   "metadata": {},
   "source": [
    "### 정규 표현식 활용"
   ]
  },
  {
   "cell_type": "markdown",
   "metadata": {},
   "source": [
    "### (1) HTML 문서에서 URL Link 추출하기"
   ]
  },
  {
   "cell_type": "code",
   "execution_count": 19,
   "metadata": {},
   "outputs": [
    {
     "name": "stdout",
     "output_type": "stream",
     "text": [
      "['http://www.daum.net']\n",
      "['http://www.naver.com']\n",
      "['http://www.chosun.com']\n"
     ]
    }
   ],
   "source": [
    "import re\n",
    "\n",
    "s = '''<a href=\"http://www.daum.net\">daum</a>  \n",
    "<a href='http://www.naver.com'>naver</a>  \n",
    "<a href=http://www.chosun.com>chosun</a>  \n",
    "<a href=http://www.chosun.com class>chosun</a>  \n",
    "<a href=\"http://job.daum.net/ \" target=\"new\">  \n",
    "<a href=\"http://go.daum.net/bin/go.cgi?relative=1&url=/Mail-bin/login_f.cgi%3Ferror%3Dlogin\" class=\"tls0\">  \n",
    "'''  \n",
    "\n",
    "# (1)'<a href=' 뒤에 큰 따옴표(\" \") 가 오는 경우\n",
    "p = re.compile('''href=\"([^\"]*?)\"''', re.I)\n",
    "match = p.search(s,0)\n",
    "url = match.groups()   #  매칭된 전체 그룸 문자열을 튜플 형식으로 반환\n",
    "# print(url)\n",
    "print(list(filter(None,url)))   # ['http://www.daum.net']\n",
    "\n",
    "# (2) '<a href='뒤에 작은 따옴표(' ')가 오는 경우\n",
    "p = re.compile('''href='([^']*?)\\'''', re.I)\n",
    "match = p.search(s,0)\n",
    "url = match.groups()   #  매칭된 전체 그룸 문자열을 튜플 형식으로 반환\n",
    "# print(url)\n",
    "print(list(filter(None,url)))   # ['http://www.naver.com']\n",
    "\n",
    "# (3) '<a href='뒤에 큰/작은 따옴표가 안나오고 마지막 공백이 오는 경우\n",
    "p = re.compile('''href=([^'\"]\\S+?)[\\s>]''', re.I)\n",
    "match = p.search(s,0)\n",
    "url = match.groups()   #  매칭된 전체 그룸 문자열을 튜플 형식으로 반환\n",
    "# print(url)\n",
    "print(list(filter(None,url)))   # ['http://www.chosun.com']"
   ]
  },
  {
   "cell_type": "code",
   "execution_count": 21,
   "metadata": {},
   "outputs": [
    {
     "name": "stdout",
     "output_type": "stream",
     "text": [
      "http://www.daum.net\n",
      "http://www.naver.com\n",
      "http://www.chosun.com\n",
      "http://www.chosun.com\n",
      "http://job.daum.net/ \n",
      "http://go.daum.net/bin/go.cgi?relative=1&url=/Mail-bin/login_f.cgi%3Ferror%3Dlogin\n"
     ]
    }
   ],
   "source": [
    "# 세개의 정규표현식을 '|'를 사용하여 하나로 표현 한 경우\n",
    "p = re.compile('''href=\"([^\"]*?)\"|href='([^']*?)\\'|href=([^'\"]\\S+?)[\\s>]''')\n",
    "pos = 0\n",
    "i = 0\n",
    "while True:\n",
    "    #print(i,pos)\n",
    "    i += 1\n",
    "    match = p.search(s,pos)\n",
    "    if match:\n",
    "        url = match.groups()\n",
    "        #print(url)\n",
    "        pos = match.end()\n",
    "        print(list(filter(None,url))[0])  # 리스트의 첫번째  요소접근\n",
    "    else:\n",
    "        break\n",
    "\n",
    "# filter함수는 특정 조건으로 걸러서 걸러진 요소들로 iterator객체를 만들어서 리턴해줍니다.\n",
    "# map함수와 사용 방법은 동일하나, 함수의 결과가 참인지 거짓인지에 따라, 해당 요소를 포함할지를 결정합니다.      \n",
    " "
   ]
  },
  {
   "cell_type": "code",
   "execution_count": 11,
   "metadata": {},
   "outputs": [
    {
     "name": "stdout",
     "output_type": "stream",
     "text": [
      "[10]\n",
      "[1, 10]\n",
      "[]\n"
     ]
    }
   ],
   "source": [
    "# filter 함수 사용법 설명\n",
    "print(list(filter(None,(None,10,None))))\n",
    "print(list(filter(None,(1,None,10))))\n",
    "print(list(filter(None,(None,None,None))))"
   ]
  },
  {
   "cell_type": "code",
   "execution_count": 12,
   "metadata": {},
   "outputs": [
    {
     "data": {
      "text/plain": [
       "['apple', 'banana', 'grape']"
      ]
     },
     "execution_count": 12,
     "metadata": {},
     "output_type": "execute_result"
    }
   ],
   "source": [
    "L = ['apple','banana','','grape']\n",
    "list(filter(None,L)) # 리스트에서 의미 없는 값을 삭제할 대 사용\n",
    " # filter() 함수의 첫번째 인수로 None 객체를 사용하면 입력값을 진리값을 판별하는데 그대로 사용할 수 있다"
   ]
  },
  {
   "cell_type": "code",
   "execution_count": 13,
   "metadata": {},
   "outputs": [
    {
     "name": "stdout",
     "output_type": "stream",
     "text": [
      "False\n",
      "True\n",
      "False\n",
      "True\n",
      "False\n",
      "True\n",
      "False\n",
      "True\n",
      "False\n",
      "True\n",
      "[2, 4, 6, 8, 10]\n"
     ]
    }
   ],
   "source": [
    "# filter함수의 필요성\n",
    "target = [1, 2, 3, 4, 5, 6, 7, 8, 9, 10]\n",
    "result = []\n",
    "\n",
    "def is_even(n):\n",
    "      return True if n % 2 == 0 else False\n",
    "\n",
    "for value in target:\n",
    "    print(is_even(value))\n",
    "        \n",
    "    if is_even(value):\n",
    "        result.append(value)\n",
    "\n",
    "print(result)  # 출력결과 : [2, 4, 6, 8, 10]"
   ]
  },
  {
   "cell_type": "code",
   "execution_count": 14,
   "metadata": {},
   "outputs": [
    {
     "name": "stdout",
     "output_type": "stream",
     "text": [
      "<filter object at 0x000001730C3A8A08> [2, 4, 6, 8, 10]\n"
     ]
    }
   ],
   "source": [
    "# filter 함수 사용\n",
    "target = [1, 2, 3, 4, 5, 6, 7, 8, 9, 10]\n",
    "\n",
    "def is_even(n):\n",
    "    return True if n % 2 == 0 else False\n",
    "\n",
    "result = filter(is_even, target)\n",
    "\n",
    "print(result,list(result)) # 출력결과 : [2, 4, 6, 8, 10]"
   ]
  },
  {
   "cell_type": "markdown",
   "metadata": {},
   "source": [
    "### (2) 어휘 분석기 구현"
   ]
  },
  {
   "cell_type": "code",
   "execution_count": 35,
   "metadata": {},
   "outputs": [
    {
     "name": "stdout",
     "output_type": "stream",
     "text": [
      "('WHITESPACE', '\\n    ')\n",
      "('KEYWORD', 'for')\n",
      "('WHITESPACE', ' ')\n",
      "('NAME', 'i')\n",
      "('WHITESPACE', ' ')\n",
      "('KEYWORD', 'in')\n",
      "('WHITESPACE', ' ')\n",
      "('NAME', 'range')\n",
      "('LPAREN', '(')\n",
      "('NUMBER', '10')\n",
      "('RPAREN', ')')\n",
      "('COLON', ':')\n",
      "('WHITESPACE', '\\n        ')\n",
      "('NAME', 'print')\n",
      "('WHITESPACE', ' ')\n",
      "('LPAREN', '(')\n",
      "('NAME', 'i')\n",
      "('WHITESPACE', ' ')\n",
      "('PLUS', '+')\n",
      "('WHITESPACE', ' ')\n",
      "('NUMBER', '5')\n",
      "('RPAREN', ')')\n"
     ]
    }
   ],
   "source": [
    "# 파이썬 소스코드를 키워드별로 분석해준다\n",
    "\n",
    "import re\n",
    "import keyword\n",
    "\n",
    "# print('|'.join(keyword.kwlist))\n",
    "\n",
    "# 정규식 리스트\n",
    "tokenREList = [\n",
    "    ('KEYWORD','|'.join(keyword.kwlist)), # 파이썬 키워드\n",
    "    ('NAME',r'[a-zA-Z_]\\w*'),             # 첫문자는 영문자나 밑줄로 시작,두번째부터는 문자는 영문자나 숫자나 밑줄로 시작,키워드가 아닌 변수나 함수\n",
    "    ('NUMBER', r'\\d+|\\d+\\.\\d*|\\.\\d+'),    # 정수나 실수(소수점 사용), 정수 | 정수.정수 |.정수\n",
    "    ('LPAREN', r'\\('),                    # 왼쪽 인자\n",
    "    ('RPAREN', r'\\)'),                    # 오른쪽 인자\n",
    "    ('PLUS', r'\\+'),                      # 더하기\n",
    "    ('COLON', r':'),                      # 콜론\n",
    "    ('WHITESPACE', r'\\s+')                # 공백\n",
    "]\n",
    "\n",
    "rexp = ['(%s)'%exp for tokName, exp in tokenREList ]\n",
    "# print(rexp)\n",
    "\n",
    "p = re.compile('|'.join(rexp))\n",
    "\n",
    "def lex(s):\n",
    "    pos = 0\n",
    "    match = p.match(s,pos)\n",
    "    i = 0\n",
    "    while match:\n",
    "        #print(i)\n",
    "        i += 1\n",
    "        \n",
    "        token = match.groups()\n",
    "        #print(token)\n",
    "        \n",
    "        pos = match.end()\n",
    "        #print(pos)\n",
    "        for k in range(len(token)) : # 8회\n",
    "            if token[k] :\n",
    "                break\n",
    "        yield (tokenREList[k][0], token[k])\n",
    "        match = p.match(s,pos)\n",
    "\n",
    "if __name__ == '__main__':\n",
    "    s = '''\n",
    "    for i in range(10):\n",
    "        print (i + 5)''' \n",
    "    for tok in lex(s):\n",
    "        print(tok)\n",
    "    "
   ]
  },
  {
   "cell_type": "code",
   "execution_count": null,
   "metadata": {},
   "outputs": [],
   "source": [
    "['a','b','c'] ==> 'a|b|c'"
   ]
  },
  {
   "cell_type": "code",
   "execution_count": null,
   "metadata": {},
   "outputs": [],
   "source": []
  },
  {
   "cell_type": "markdown",
   "metadata": {},
   "source": [
    "### (3) 미니 챗봇 구현"
   ]
  },
  {
   "cell_type": "code",
   "execution_count": null,
   "metadata": {},
   "outputs": [],
   "source": []
  },
  {
   "cell_type": "code",
   "execution_count": null,
   "metadata": {},
   "outputs": [],
   "source": []
  }
 ],
 "metadata": {
  "kernelspec": {
   "display_name": "Python 3",
   "language": "python",
   "name": "python3"
  },
  "language_info": {
   "codemirror_mode": {
    "name": "ipython",
    "version": 3
   },
   "file_extension": ".py",
   "mimetype": "text/x-python",
   "name": "python",
   "nbconvert_exporter": "python",
   "pygments_lexer": "ipython3",
   "version": "3.7.7"
  }
 },
 "nbformat": 4,
 "nbformat_minor": 4
}
