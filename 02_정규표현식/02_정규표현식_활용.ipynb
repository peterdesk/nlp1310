{
 "cells": [
  {
   "cell_type": "markdown",
   "metadata": {},
   "source": [
    "### 정규 표현식 활용"
   ]
  },
  {
   "cell_type": "markdown",
   "metadata": {},
   "source": [
    "### (1) HTML 문서에서 URL Link 추출하기"
   ]
  },
  {
   "cell_type": "code",
   "execution_count": 9,
   "metadata": {},
   "outputs": [
    {
     "name": "stdout",
     "output_type": "stream",
     "text": [
      "['http://www.daum.net']\n",
      "['http://www.naver.com']\n",
      "['http://www.chosun.com']\n"
     ]
    }
   ],
   "source": [
    "import re\n",
    "\n",
    "s = '''<a href=\"http://www.daum.net\">daum</a>  \n",
    "<a href='http://www.naver.com'>naver</a>  \n",
    "<a href=http://www.chosun.com>chosun</a>  \n",
    "<a href=http://www.chosun.com class>chosun</a>  \n",
    "<a href=\"http://job.daum.net/ \" target=\"new\">  \n",
    "<a href=\"http://go.daum.net/bin/go.cgi?relative=1&url=/Mail-bin/login_f.cgi%3Ferror%3Dlogin\" class=\"tls0\">  \n",
    "'''  \n",
    "\n",
    "# (1)'<a href=' 뒤에 큰 따옴표(\" \") 가 오는 경우\n",
    "p = re.compile('''href=\"([^\"]*?)\"''', re.I)\n",
    "match = p.search(s,0)\n",
    "url = match.groups()   #  매칭된 전체 그룸 문자열을 튜플 형식으로 반환\n",
    "# print(url)\n",
    "print(list(filter(None,url)))   # ['http://www.daum.net']\n",
    "\n",
    "# (2) '<a href='뒤에 작은 따옴표(' ')가 오는 경우\n",
    "p = re.compile('''href='([^']*?)\\'''', re.I)\n",
    "match = p.search(s,0)\n",
    "url = match.groups()   #  매칭된 전체 그룸 문자열을 튜플 형식으로 반환\n",
    "# print(url)\n",
    "print(list(filter(None,url)))   # ['http://www.naver.com']\n",
    "\n",
    "# (3) '<a href='뒤에 큰/작은 따옴표가 안나오고 마지막 공백이 오는 경우\n",
    "p = re.compile('''href=([^'\"]\\S+?)[\\s>]''', re.I)\n",
    "match = p.search(s,0)\n",
    "url = match.groups()   #  매칭된 전체 그룸 문자열을 튜플 형식으로 반환\n",
    "# print(url)\n",
    "print(list(filter(None,url)))   # ['http://www.chosun.com']"
   ]
  },
  {
   "cell_type": "code",
   "execution_count": 2,
   "metadata": {},
   "outputs": [
    {
     "name": "stdout",
     "output_type": "stream",
     "text": [
      "http://www.daum.net\n",
      "http://www.naver.com\n",
      "http://www.chosun.com\n",
      "http://www.chosun.com\n",
      "http://job.daum.net/ \n",
      "http://go.daum.net/bin/go.cgi?relative=1&url=/Mail-bin/login_f.cgi%3Ferror%3Dlogin\n"
     ]
    }
   ],
   "source": [
    "# 세개의 정규표현식을 '|'를 사용하여 하나로 표현 한 경우\n",
    "p = re.compile('''href=\"([^\"]*?)\"|href='([^']*?)\\'|href=([^'\"]\\S+?)[\\s>]''')\n",
    "pos = 0\n",
    "i = 0\n",
    "while True:\n",
    "    #print(i,pos)\n",
    "    i += 1\n",
    "    match = p.search(s,pos)\n",
    "    if match:\n",
    "        url = match.groups()\n",
    "        #print(url)\n",
    "        pos = match.end()\n",
    "        print(list(filter(None,url))[0])  # 리스트의 첫번째  요소접근\n",
    "    else:\n",
    "        break\n",
    "\n",
    "# filter함수는 특정 조건으로 걸러서 걸러진 요소들로 iterator객체를 만들어서 리턴해줍니다.\n",
    "# map함수와 사용 방법은 동일하나, 함수의 결과가 참인지 거짓인지에 따라, 해당 요소를 포함할지를 결정합니다.      \n",
    " "
   ]
  },
  {
   "cell_type": "code",
   "execution_count": 3,
   "metadata": {},
   "outputs": [
    {
     "name": "stdout",
     "output_type": "stream",
     "text": [
      "[10]\n",
      "[1, 10]\n",
      "[]\n"
     ]
    }
   ],
   "source": [
    "# filter 함수 사용법 설명\n",
    "print(list(filter(None,(None,10,None))))\n",
    "print(list(filter(None,(1,None,10))))\n",
    "print(list(filter(None,(None,None,None))))"
   ]
  },
  {
   "cell_type": "code",
   "execution_count": 4,
   "metadata": {},
   "outputs": [
    {
     "data": {
      "text/plain": [
       "['apple', 'banana', 'grape']"
      ]
     },
     "execution_count": 4,
     "metadata": {},
     "output_type": "execute_result"
    }
   ],
   "source": [
    "L = ['apple','banana','','grape']\n",
    "list(filter(None,L)) # 리스트에서 의미 없는 값을 삭제할 대 사용\n",
    " # filter() 함수의 첫번째 인수로 None 객체를 사용하면 입력값을 진리값을 판별하는데 그대로 사용할 수 있다"
   ]
  },
  {
   "cell_type": "code",
   "execution_count": 5,
   "metadata": {},
   "outputs": [
    {
     "name": "stdout",
     "output_type": "stream",
     "text": [
      "False\n",
      "True\n",
      "False\n",
      "True\n",
      "False\n",
      "True\n",
      "False\n",
      "True\n",
      "False\n",
      "True\n",
      "[2, 4, 6, 8, 10]\n"
     ]
    }
   ],
   "source": [
    "# filter함수의 필요성\n",
    "target = [1, 2, 3, 4, 5, 6, 7, 8, 9, 10]\n",
    "result = []\n",
    "\n",
    "def is_even(n):\n",
    "      return True if n % 2 == 0 else False\n",
    "\n",
    "for value in target:\n",
    "    print(is_even(value))\n",
    "        \n",
    "    if is_even(value):\n",
    "        result.append(value)\n",
    "\n",
    "print(result)  # 출력결과 : [2, 4, 6, 8, 10]"
   ]
  },
  {
   "cell_type": "code",
   "execution_count": 6,
   "metadata": {},
   "outputs": [
    {
     "name": "stdout",
     "output_type": "stream",
     "text": [
      "<filter object at 0x000001FA5D6BCE08> [2, 4, 6, 8, 10]\n"
     ]
    }
   ],
   "source": [
    "# filter 함수 사용\n",
    "target = [1, 2, 3, 4, 5, 6, 7, 8, 9, 10]\n",
    "\n",
    "def is_even(n):\n",
    "    return True if n % 2 == 0 else False\n",
    "\n",
    "result = filter(is_even, target)\n",
    "\n",
    "print(result,list(result)) # 출력결과 : [2, 4, 6, 8, 10]"
   ]
  },
  {
   "cell_type": "markdown",
   "metadata": {},
   "source": [
    "### (2) 어휘 분석기 구현"
   ]
  },
  {
   "cell_type": "code",
   "execution_count": 38,
   "metadata": {},
   "outputs": [
    {
     "name": "stdout",
     "output_type": "stream",
     "text": [
      "('WHITESPACE', '\\n    ')\n",
      "('KEYWORD', 'for')\n",
      "('WHITESPACE', ' ')\n",
      "('NAME', 'i')\n",
      "('WHITESPACE', ' ')\n",
      "('KEYWORD', 'in')\n",
      "('WHITESPACE', ' ')\n",
      "('NAME', 'range')\n",
      "('LPAREN', '(')\n",
      "('NUMBER', '10')\n",
      "('RPAREN', ')')\n",
      "('COLON', ':')\n",
      "('WHITESPACE', '\\n        ')\n",
      "('NAME', 'print')\n",
      "('WHITESPACE', ' ')\n",
      "('LPAREN', '(')\n",
      "('NAME', 'i')\n",
      "('WHITESPACE', ' ')\n",
      "('PLUS', '+')\n",
      "('WHITESPACE', ' ')\n",
      "('NUMBER', '5')\n",
      "('RPAREN', ')')\n"
     ]
    }
   ],
   "source": [
    "# 파이썬 소스코드를 키워드별로 분석해준다\n",
    "\n",
    "import re\n",
    "import keyword\n",
    "\n",
    "# print('|'.join(keyword.kwlist))\n",
    "\n",
    "# 정규식 리스트\n",
    "tokenREList = [\n",
    "    ('KEYWORD','|'.join(keyword.kwlist)), # 파이썬 키워드\n",
    "    ('NAME',r'[a-zA-Z_]\\w*'),             # 첫문자는 영문자나 밑줄로 시작,두번째부터는 문자는 영문자나 숫자나 밑줄로 시작,키워드가 아닌 변수나 함수\n",
    "    ('NUMBER', r'\\d+|\\d+\\.\\d*|\\.\\d+'),    # 정수나 실수(소수점 사용), 정수 | 정수.정수 |.정수\n",
    "    ('LPAREN', r'\\('),                    # 왼쪽 인자\n",
    "    ('RPAREN', r'\\)'),                    # 오른쪽 인자\n",
    "    ('PLUS', r'\\+'),                      # 더하기\n",
    "    ('COLON', r':'),                      # 콜론\n",
    "    ('WHITESPACE', r'\\s+')                # 공백\n",
    "]\n",
    "\n",
    "rexp = ['(%s)'%exp for tokName, exp in tokenREList ]\n",
    "# print(rexp)\n",
    "\n",
    "p = re.compile('|'.join(rexp))\n",
    "\n",
    "def lex(s):\n",
    "    pos = 0\n",
    "    match = p.match(s,pos)\n",
    "    i = 0\n",
    "    while match:\n",
    "        #print(i)\n",
    "        i += 1\n",
    "        \n",
    "        token = match.groups()\n",
    "        #print(token)\n",
    "        \n",
    "        pos = match.end()\n",
    "        #print(pos)\n",
    "        for k in range(len(token)) : # 8회\n",
    "            if token[k] :\n",
    "                break\n",
    "        yield (tokenREList[k][0], token[k])\n",
    "        match = p.match(s,pos)\n",
    "\n",
    "if __name__ == '__main__':\n",
    "    s = '''\n",
    "    for i in range(10):\n",
    "        print (i + 5)''' \n",
    "    for tok in lex(s): #  22회\n",
    "        print(tok)\n",
    "    "
   ]
  },
  {
   "cell_type": "markdown",
   "metadata": {},
   "source": [
    "### 제네레이터(Generator , 발생자)"
   ]
  },
  {
   "cell_type": "code",
   "execution_count": 14,
   "metadata": {},
   "outputs": [
    {
     "name": "stdout",
     "output_type": "stream",
     "text": [
      "(200, 30)\n",
      "(2, 3)\n"
     ]
    }
   ],
   "source": [
    "# 기존의 함수 호출 방식은 함수가 호출될 때 인수들의 내부 변수들이 새로운 영역(스택)에 \n",
    "# 만들어지고 반환시 메모리에서 소멸된다\n",
    "def f(a,b):\n",
    "    c = a * b\n",
    "    d = a + b\n",
    "    return c,d\n",
    "\n",
    "print(f(10,20))\n",
    "print(f(1,2))"
   ]
  },
  {
   "cell_type": "code",
   "execution_count": 17,
   "metadata": {},
   "outputs": [
    {
     "name": "stdout",
     "output_type": "stream",
     "text": [
      "<class 'generator'>\n",
      "1st step\n"
     ]
    },
    {
     "data": {
      "text/plain": [
       "1"
      ]
     },
     "execution_count": 17,
     "metadata": {},
     "output_type": "execute_result"
    }
   ],
   "source": [
    "# 제네레이터는 중단된 시점부터 재 실행이 가능한 함수\n",
    "# return 대신에 키워드 yield를 사용한다\n",
    "\n",
    "def gen_func():\n",
    "    print('1st step')\n",
    "    yield 1\n",
    "    print('2nd step')\n",
    "    yield 2\n",
    "    print('3nd step')\n",
    "    yield 3  \n",
    "    \n",
    "g = gen_func()  # generator 객체를 생성한다\n",
    "print(type(g))\n",
    "\n",
    "a = next(g)   # 최초 호출\n",
    "a"
   ]
  },
  {
   "cell_type": "code",
   "execution_count": 18,
   "metadata": {},
   "outputs": [
    {
     "name": "stdout",
     "output_type": "stream",
     "text": [
      "2nd step\n"
     ]
    },
    {
     "data": {
      "text/plain": [
       "2"
      ]
     },
     "execution_count": 18,
     "metadata": {},
     "output_type": "execute_result"
    }
   ],
   "source": [
    "b = next(g)\n",
    "b"
   ]
  },
  {
   "cell_type": "code",
   "execution_count": 19,
   "metadata": {},
   "outputs": [
    {
     "name": "stdout",
     "output_type": "stream",
     "text": [
      "3nd step\n"
     ]
    },
    {
     "data": {
      "text/plain": [
       "3"
      ]
     },
     "execution_count": 19,
     "metadata": {},
     "output_type": "execute_result"
    }
   ],
   "source": [
    "c = next(g)\n",
    "c"
   ]
  },
  {
   "cell_type": "code",
   "execution_count": 22,
   "metadata": {},
   "outputs": [
    {
     "name": "stdout",
     "output_type": "stream",
     "text": [
      "0 1 2 3 4 5 6 7 8 9 <class 'generator'>\n"
     ]
    }
   ],
   "source": [
    "# genertor를 for 문으로 호출\n",
    "def generator_ints(N):\n",
    "    for k in range(N):\n",
    "        yield k\n",
    "        \n",
    "for k in generator_ints(10):\n",
    "    print(k,end=' ')\n",
    "\n",
    "print(type(generator_ints(10))) #  제네레이터는 반복자 객체이다 "
   ]
  },
  {
   "cell_type": "markdown",
   "metadata": {},
   "source": [
    "### 코루틴(Coroutine)\n",
    ": 함수 실행에 있어서 어떤 위치에서 중단과 실행이 가능한 다중 진입점이 있는 일반화된 함수를 말한다"
   ]
  },
  {
   "cell_type": "code",
   "execution_count": 23,
   "metadata": {},
   "outputs": [],
   "source": [
    "def echo():\n",
    "    print('echo routine')\n",
    "    while True:\n",
    "        msg = (yield)\n",
    "        print('echo:',msg)"
   ]
  },
  {
   "cell_type": "code",
   "execution_count": 24,
   "metadata": {},
   "outputs": [
    {
     "name": "stdout",
     "output_type": "stream",
     "text": [
      "<class 'generator'>\n",
      "echo routine\n"
     ]
    }
   ],
   "source": [
    "e = echo() # 코루틴 객체를 생성\n",
    "print(type(e))   # <class 'generator'>\n",
    "next(e)"
   ]
  },
  {
   "cell_type": "code",
   "execution_count": 25,
   "metadata": {},
   "outputs": [
    {
     "name": "stdout",
     "output_type": "stream",
     "text": [
      "echo: None\n"
     ]
    }
   ],
   "source": [
    "next(e)"
   ]
  },
  {
   "cell_type": "code",
   "execution_count": 26,
   "metadata": {},
   "outputs": [
    {
     "name": "stdout",
     "output_type": "stream",
     "text": [
      "echo: Hello~\n"
     ]
    }
   ],
   "source": [
    "e.send('Hello~')"
   ]
  },
  {
   "cell_type": "code",
   "execution_count": 27,
   "metadata": {},
   "outputs": [
    {
     "name": "stdout",
     "output_type": "stream",
     "text": [
      "echo: Bye~\n"
     ]
    }
   ],
   "source": [
    "e.send('Bye~')\n",
    "e.close()"
   ]
  },
  {
   "cell_type": "code",
   "execution_count": 30,
   "metadata": {},
   "outputs": [
    {
     "name": "stdout",
     "output_type": "stream",
     "text": [
      "<class 'generator'>\n"
     ]
    },
    {
     "data": {
      "text/plain": [
       "(1, 1)"
      ]
     },
     "execution_count": 30,
     "metadata": {},
     "output_type": "execute_result"
    }
   ],
   "source": [
    "# 양방향 값 전송 코루틴\n",
    "def accumulate(value = 0):\n",
    "    acc = value\n",
    "    while True:\n",
    "        value = (yield acc,value)\n",
    "        acc += value\n",
    "        \n",
    "acc = accumulate(1) \n",
    "print(type(acc))\n",
    "next(acc)"
   ]
  },
  {
   "cell_type": "code",
   "execution_count": 31,
   "metadata": {},
   "outputs": [
    {
     "data": {
      "text/plain": [
       "(3, 2)"
      ]
     },
     "execution_count": 31,
     "metadata": {},
     "output_type": "execute_result"
    }
   ],
   "source": [
    "acc.send(2)   # 2를 value에 전달해주고 다음 yield문 까지 진행 ,(3,2)를 반환 받는다"
   ]
  },
  {
   "cell_type": "code",
   "execution_count": 32,
   "metadata": {},
   "outputs": [
    {
     "data": {
      "text/plain": [
       "(6, 3)"
      ]
     },
     "execution_count": 32,
     "metadata": {},
     "output_type": "execute_result"
    }
   ],
   "source": [
    "acc.send(3)   # 3를 value에 전달해주고 다음 yield문 까지 진행 ,(6,3)를 반환 받는다"
   ]
  },
  {
   "cell_type": "code",
   "execution_count": 33,
   "metadata": {},
   "outputs": [],
   "source": [
    "acc.close()   # 코루틴을 종료한다"
   ]
  },
  {
   "cell_type": "markdown",
   "metadata": {},
   "source": [
    "### (3) 미니 챗봇 구현"
   ]
  },
  {
   "cell_type": "code",
   "execution_count": 44,
   "metadata": {},
   "outputs": [
    {
     "data": {
      "text/plain": [
       "<re.Match object; span=(0, 10), match='Hello Rosa'>"
      ]
     },
     "execution_count": 44,
     "metadata": {},
     "output_type": "execute_result"
    }
   ],
   "source": [
    "r = \"(hi|hello|hey)[ ]*([a-z]*)\"\n",
    "re.match(r,'Hello Rosa',re.I)"
   ]
  },
  {
   "cell_type": "code",
   "execution_count": 47,
   "metadata": {},
   "outputs": [
    {
     "data": {
      "text/plain": [
       "<re.Match object; span=(0, 5), match='hi ho'>"
      ]
     },
     "execution_count": 47,
     "metadata": {},
     "output_type": "execute_result"
    }
   ],
   "source": [
    "re.match(r,\"hi ho, hi hoho, it's off to work...\",re.I)"
   ]
  },
  {
   "cell_type": "code",
   "execution_count": 48,
   "metadata": {},
   "outputs": [
    {
     "data": {
      "text/plain": [
       "<re.Match object; span=(0, 3), match='hey'>"
      ]
     },
     "execution_count": 48,
     "metadata": {},
     "output_type": "execute_result"
    }
   ],
   "source": [
    "re.match(r,\"hey, what's up\",re.I)"
   ]
  },
  {
   "cell_type": "code",
   "execution_count": 49,
   "metadata": {},
   "outputs": [],
   "source": [
    "# 정규 표현식을 더 확장\n",
    "r = r\"[^a-z]*([y]o|[h]?ello|ok|hey|(good[ ])?(morn[gin']{0,3}|afternoon|even[gin']{0,3}))[\\s,:;]{1,3}([a-z]{1,20})\"                                            \n",
    "re_greeting = re.compile(r,re.I)"
   ]
  },
  {
   "cell_type": "code",
   "execution_count": 73,
   "metadata": {},
   "outputs": [
    {
     "data": {
      "text/plain": [
       "<re.Match object; span=(0, 10), match='Hello Rosa'>"
      ]
     },
     "execution_count": 73,
     "metadata": {},
     "output_type": "execute_result"
    }
   ],
   "source": [
    "re_greeting.match('Hello Rosa')"
   ]
  },
  {
   "cell_type": "code",
   "execution_count": 64,
   "metadata": {},
   "outputs": [
    {
     "data": {
      "text/plain": [
       "<re.Match object; span=(0, 17), match='Good morning Rosa'>"
      ]
     },
     "execution_count": 64,
     "metadata": {},
     "output_type": "execute_result"
    }
   ],
   "source": [
    "re_greeting.match('Good morning Rosa')"
   ]
  },
  {
   "cell_type": "code",
   "execution_count": 65,
   "metadata": {},
   "outputs": [],
   "source": [
    "re_greeting.match('Good marning Rosa')  # 실패"
   ]
  },
  {
   "cell_type": "code",
   "execution_count": 66,
   "metadata": {},
   "outputs": [
    {
     "data": {
      "text/plain": [
       "('Good evening', 'Good ', 'evening', 'Rosa')"
      ]
     },
     "execution_count": 66,
     "metadata": {},
     "output_type": "execute_result"
    }
   ],
   "source": [
    "re_greeting.match('Good evening Rosa Parks').groups()"
   ]
  },
  {
   "cell_type": "code",
   "execution_count": 68,
   "metadata": {},
   "outputs": [
    {
     "data": {
      "text/plain": [
       "<re.Match object; span=(0, 16), match=\"Good morn'n Rosa\">"
      ]
     },
     "execution_count": 68,
     "metadata": {},
     "output_type": "execute_result"
    }
   ],
   "source": [
    "re_greeting.match(\"Good morn'n Rosa\")"
   ]
  },
  {
   "cell_type": "code",
   "execution_count": 69,
   "metadata": {},
   "outputs": [
    {
     "data": {
      "text/plain": [
       "<re.Match object; span=(0, 7), match='yo Rosa'>"
      ]
     },
     "execution_count": 69,
     "metadata": {},
     "output_type": "execute_result"
    }
   ],
   "source": [
    "re_greeting.match(\"yo Rosa\")"
   ]
  },
  {
   "cell_type": "code",
   "execution_count": 79,
   "metadata": {},
   "outputs": [
    {
     "name": "stdout",
     "output_type": "stream",
     "text": [
      "Good morning Baby\n",
      "Hi 길동, How are you? Glad to see you.\n"
     ]
    }
   ],
   "source": [
    "# Chatbot\n",
    "r = r\"[^a-z]*([y]o|[h]?ello|ok|hey|(good[ ])?(morn[gin']{0,3}|afternoon|even[gin']{0,3}))[\\s,:;]{1,3}([a-z]{1,20})\"                                            \n",
    "re_greeting = re.compile(r,re.I)\n",
    "\n",
    "my_names = set(['rosa','rose','chatty','chatbot','bot','chatterbot','baby']) # 좋은 단어\n",
    "curt_names = set(['hal','you','u','guy','boy']) # 무뚜뚝한 단어\n",
    "greeter_name = '길동' # 대화 상대자 (사람)\n",
    "\n",
    "match = re_greeting.match(input())  # 'Hello Rosa'\n",
    "\n",
    "if match:\n",
    "    at_name = match.groups()[-1] # 4개 그룹중 마지막 그룹\n",
    "    if at_name in curt_names:\n",
    "        print('Um.. Have a good time.')\n",
    "    elif at_name.lower() in my_names:\n",
    "        print('Hi {}, How are you? Glad to see you.'.format(greeter_name))        "
   ]
  },
  {
   "cell_type": "code",
   "execution_count": 80,
   "metadata": {},
   "outputs": [],
   "source": [
    "# 실습 : 챗봇 소스에 기능 추가\n",
    "# evil_names 목록을 넣어 대화에 사용하면 화를 내는 코드를 간단히 추가하고 동작을 확인 해보세요\n",
    "# 영어 대답 아래에 동일한 한국어 대답도 출력하게 해보세요\n",
    "# while True를 사용하여 match가 없을 때 종료하도록 수정하세요\n",
    "# evil_names : set(['idiot','fool','ass','sob'])\n",
    "\n",
    "대화가 시작되었습니다!\n",
    "----------------------------------------------------------------------\n",
    "길동 : Hello Rosa\n",
    "컴퓨터 : Hi 길동, How are you? Glad to see you.\n",
    "컴퓨터 : 길동씨 안녕하세요,만나서 반갑습니다\n",
    "----------------------------------------------------------------------\n",
    "길동 : Hi you\n",
    "컴퓨터 : Um.. Have a good time.\n",
    "컴퓨터 : 음.. 즐거운 시간 되세요.\n",
    "----------------------------------------------------------------------\n",
    "길동 : Hey idiot\n",
    "컴퓨터 : Dear 길동 please, don't talk to me like that : idiot. \n",
    "컴퓨터 : 길동아! 제발 그런말 쓰지마! : idiot. \n",
    "----------------------------------------------------------------------\n",
    "길동 : Bye\n",
    "대화가 종료되었습니다!"
   ]
  },
  {
   "cell_type": "code",
   "execution_count": 81,
   "metadata": {},
   "outputs": [
    {
     "name": "stdout",
     "output_type": "stream",
     "text": [
      "대화가 시작되었습니다!\n",
      "----------------------------------------------------------------------\n",
      "길동 : Hello Rosa\n",
      "컴퓨터 : Hi 길동, How are you? Glad to see you.\n",
      "컴퓨터 : 길동씨 안녕하세요,만나서 반갑습니다\n",
      "----------------------------------------------------------------------\n",
      "길동 : Hey guy\n",
      "컴퓨터 : Um.. Have a good time.\n",
      "컴퓨터 : 음.. 즐거운 시간 되세요.\n",
      "----------------------------------------------------------------------\n",
      "길동 : Hey idiot\n",
      "컴퓨터 : Dear 길동 please, don't talk to me like that : idiot. \n",
      "컴퓨터 : 길동아! 제발 그런말 쓰지마! : idiot. \n",
      "----------------------------------------------------------------------\n",
      "길동 : Bye\n",
      "대화가 종료되었습니다!\n"
     ]
    }
   ],
   "source": [
    "# 실습 답안 : 챗봇 기능 추가 답안\n",
    "\n",
    "import re\n",
    "\n",
    "r = r\"[^a-z]*([y]o|[h]?ello|ok|hi|hey|(good[ ])?(morn[gin']{0,3}|afternoon|even[gin']{0,3}))[\\s,:;]{1,3}([a-z]{1,20})\"                                            \n",
    "re_greeting = re.compile(r, re.I)\n",
    "my_names = set(['rosa','rose','chatty','chatbot','bot','chatterbot','baby']) # 좋은 단어들 리스트\n",
    "curt_names = set(['hal','you','u','guy','boy']) # curt(무뚜뚝한) 이름, 다소 무례한 단어들 리스트\n",
    "evil_names = set(['idiot','fool','ass','sob'])  # 나쁜 단어들 리스트\n",
    "greeter_name = '길동'  # 대화 상대자(사람)\n",
    "computer = '컴퓨터 :'\n",
    "# match = re_greeting.match(input(greeter_name+' : '))\n",
    "print('대화가 시작되었습니다!')\n",
    "print('-'*70)\n",
    "\n",
    "while True:\n",
    "    match = re_greeting.match(input(greeter_name+' : '))\n",
    "    # print(match)\n",
    "    if match :\n",
    "        at_name = match.groups()[-1]\n",
    "        # print(at_name)\n",
    "        if at_name in curt_names:\n",
    "            print(computer,\"Um.. Have a good time.\") \n",
    "            print(computer,\"음.. 즐거운 시간 되세요.\")\n",
    "        elif at_name.lower() in my_names:\n",
    "            print(computer,\"Hi {}, How are you? Glad to see you.\".format(greeter_name))\n",
    "            print(computer,\"{}씨 안녕하세요,만나서 반갑습니다\".format(greeter_name))\n",
    "        elif at_name in evil_names:\n",
    "            print(computer,\"Dear {0} please, don't talk to me like that : {1}. \".format(greeter_name,at_name))\n",
    "            print(computer,\"{0}아! 제발 그런말 쓰지마! : {1}. \".format(greeter_name,at_name))\n",
    "        print('-'*70)\n",
    "    else:\n",
    "        break\n",
    "    \n",
    "print('대화가 종료되었습니다!')    "
   ]
  },
  {
   "cell_type": "code",
   "execution_count": null,
   "metadata": {},
   "outputs": [],
   "source": []
  }
 ],
 "metadata": {
  "kernelspec": {
   "display_name": "Python 3",
   "language": "python",
   "name": "python3"
  },
  "language_info": {
   "codemirror_mode": {
    "name": "ipython",
    "version": 3
   },
   "file_extension": ".py",
   "mimetype": "text/x-python",
   "name": "python",
   "nbconvert_exporter": "python",
   "pygments_lexer": "ipython3",
   "version": "3.7.7"
  }
 },
 "nbformat": 4,
 "nbformat_minor": 4
}
