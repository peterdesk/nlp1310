{
 "cells": [
  {
   "cell_type": "markdown",
   "metadata": {},
   "source": [
    "# Repeat 노드"
   ]
  },
  {
   "cell_type": "code",
   "execution_count": 9,
   "metadata": {},
   "outputs": [
    {
     "name": "stdout",
     "output_type": "stream",
     "text": [
      "[[0.76611644 0.90414271 0.71554915 0.24844669 0.43864523 0.14826477\n",
      "  0.74384309 0.93119903]] (1, 8)\n",
      "----------------------------------------------------------------------\n",
      "[[0.76611644 0.90414271 0.71554915 0.24844669 0.43864523 0.14826477\n",
      "  0.74384309 0.93119903]\n",
      " [0.76611644 0.90414271 0.71554915 0.24844669 0.43864523 0.14826477\n",
      "  0.74384309 0.93119903]\n",
      " [0.76611644 0.90414271 0.71554915 0.24844669 0.43864523 0.14826477\n",
      "  0.74384309 0.93119903]\n",
      " [0.76611644 0.90414271 0.71554915 0.24844669 0.43864523 0.14826477\n",
      "  0.74384309 0.93119903]\n",
      " [0.76611644 0.90414271 0.71554915 0.24844669 0.43864523 0.14826477\n",
      "  0.74384309 0.93119903]\n",
      " [0.76611644 0.90414271 0.71554915 0.24844669 0.43864523 0.14826477\n",
      "  0.74384309 0.93119903]\n",
      " [0.76611644 0.90414271 0.71554915 0.24844669 0.43864523 0.14826477\n",
      "  0.74384309 0.93119903]] (7, 8)\n"
     ]
    }
   ],
   "source": [
    "import numpy as np\n",
    "\n",
    "# 순전파\n",
    "\n",
    "D = 8\n",
    "N = 7\n",
    "x = np.random.rand(1,D)  # (1,8)\n",
    "# x = np.random.rand(D,).reshape(1,-1)  # (1,8)\n",
    "print(x,x.shape)\n",
    "print('-'*70)\n",
    "\n",
    "y = np.repeat(x,N,axis=0)  # 수직(행) 방향, axis=0\n",
    "print(y,y.shape)   # (7, 8)"
   ]
  },
  {
   "cell_type": "code",
   "execution_count": 15,
   "metadata": {},
   "outputs": [
    {
     "name": "stdout",
     "output_type": "stream",
     "text": [
      "[[0.20362801 0.26080154 0.5182651  0.10072677 0.17850626 0.19440048\n",
      "  0.31263453 0.2071148 ]\n",
      " [0.55234531 0.16317744 0.80868443 0.36993564 0.83312898 0.34418948\n",
      "  0.25711844 0.96428303]\n",
      " [0.52373319 0.80469014 0.33145703 0.36908858 0.19843052 0.11008169\n",
      "  0.4928258  0.56698851]\n",
      " [0.02203085 0.75178356 0.05012774 0.14835484 0.42941561 0.1203592\n",
      "  0.75711643 0.78159995]\n",
      " [0.89597571 0.76868551 0.24050051 0.2552415  0.87891958 0.52830051\n",
      "  0.70636274 0.03637929]\n",
      " [0.45567981 0.81827792 0.46349572 0.42247639 0.63646181 0.7940991\n",
      "  0.05522526 0.99218557]\n",
      " [0.27999853 0.7175891  0.48254528 0.72441589 0.92223228 0.67968678\n",
      "  0.43028787 0.09176965]] (7, 8)\n",
      "----------------------------------------------------------------------\n",
      "[[2.93339141 4.28500523 2.89507581 2.39023962 4.07709504 2.77111725\n",
      "  3.01157107 3.64032079]] (1, 8)\n"
     ]
    }
   ],
   "source": [
    "# 역전파 : sum\n",
    "dy = np.random.rand(N,D)\n",
    "print(dy,dy.shape)  # (7, 8)\n",
    "print('-'*70)\n",
    "dx = np.sum(dy,axis=0,keepdims=True)  # 수직방향 합, keepdims=True이면 2차원, False이면 1차원\n",
    "print(dx,dx.shape)  # (1,8)"
   ]
  },
  {
   "cell_type": "code",
   "execution_count": 18,
   "metadata": {},
   "outputs": [
    {
     "data": {
      "text/plain": [
       "array([[10]])"
      ]
     },
     "execution_count": 18,
     "metadata": {},
     "output_type": "execute_result"
    }
   ],
   "source": [
    "a = np.array([[1,2,3,4]])\n",
    "np.sum(a, keepdims=True) # 2차원 유지"
   ]
  },
  {
   "cell_type": "markdown",
   "metadata": {},
   "source": [
    "### Sum 노드"
   ]
  },
  {
   "cell_type": "code",
   "execution_count": 22,
   "metadata": {},
   "outputs": [
    {
     "name": "stdout",
     "output_type": "stream",
     "text": [
      "[[3.79719447e-01 2.89143465e-01 7.04977394e-02 7.63135395e-01\n",
      "  4.27156570e-01 1.57528661e-02 6.41675246e-01 7.20005589e-01]\n",
      " [2.30646915e-01 7.90785370e-01 4.89102124e-01 3.24148037e-01\n",
      "  1.33341362e-01 5.97896604e-01 2.16614468e-01 3.29477912e-01]\n",
      " [3.63402720e-01 8.82308986e-01 8.91899498e-01 8.75732665e-01\n",
      "  3.81500100e-01 2.89336591e-01 9.61217550e-01 6.83036529e-01]\n",
      " [9.57922382e-01 1.97912949e-02 1.52029536e-01 6.06539471e-03\n",
      "  6.75549648e-01 5.41589364e-01 9.56597794e-02 5.31200418e-01]\n",
      " [8.45335710e-01 8.56595885e-01 3.36889136e-01 8.19701811e-04\n",
      "  3.28429073e-01 8.76531999e-01 1.72423460e-01 5.73582237e-01]\n",
      " [7.93269692e-01 2.72208798e-01 7.51347290e-01 2.16618124e-01\n",
      "  2.45037886e-01 1.49566798e-01 4.52127701e-01 1.27163721e-01]\n",
      " [1.64015354e-01 5.51279127e-01 6.09225832e-01 4.18912329e-01\n",
      "  3.41971498e-01 6.29115835e-01 6.33135908e-01 8.57293913e-01]] (7, 8)\n",
      "----------------------------------------------------------------------\n",
      "[[3.73431222 3.66211293 3.30099115 2.60543165 2.53298614 3.09979006\n",
      "  3.17285411 3.82176032]] (1, 8)\n"
     ]
    }
   ],
   "source": [
    "# 순전파\n",
    "\n",
    "D,N = 8,7\n",
    "x = np.random.rand(N,D) \n",
    "print(x,x.shape)  # (7,8)\n",
    "print('-'*70)\n",
    "\n",
    "y = np.sum(x,axis=0,keepdims=True)  # 수직방향 합, keepdims=True이면 2차원, False이면 1차원\n",
    "print(y,y.shape)"
   ]
  },
  {
   "cell_type": "code",
   "execution_count": 23,
   "metadata": {},
   "outputs": [
    {
     "name": "stdout",
     "output_type": "stream",
     "text": [
      "[[0.89736847 0.13357699 0.79104903 0.34191964 0.02839419 0.31278654\n",
      "  0.43025854 0.64958187]] (1, 8)\n",
      "----------------------------------------------------------------------\n",
      "[[0.89736847 0.13357699 0.79104903 0.34191964 0.02839419 0.31278654\n",
      "  0.43025854 0.64958187]\n",
      " [0.89736847 0.13357699 0.79104903 0.34191964 0.02839419 0.31278654\n",
      "  0.43025854 0.64958187]\n",
      " [0.89736847 0.13357699 0.79104903 0.34191964 0.02839419 0.31278654\n",
      "  0.43025854 0.64958187]\n",
      " [0.89736847 0.13357699 0.79104903 0.34191964 0.02839419 0.31278654\n",
      "  0.43025854 0.64958187]\n",
      " [0.89736847 0.13357699 0.79104903 0.34191964 0.02839419 0.31278654\n",
      "  0.43025854 0.64958187]\n",
      " [0.89736847 0.13357699 0.79104903 0.34191964 0.02839419 0.31278654\n",
      "  0.43025854 0.64958187]\n",
      " [0.89736847 0.13357699 0.79104903 0.34191964 0.02839419 0.31278654\n",
      "  0.43025854 0.64958187]] (7, 8)\n"
     ]
    }
   ],
   "source": [
    "# 역전파\n",
    "\n",
    "dy = np.random.rand(1,D)  # (1,8)\n",
    "print(dy,dy.shape)\n",
    "print('-'*70)\n",
    "\n",
    "dx = np.repeat(dy,N,axis=0)  # 수직(행) 방향, axis=0\n",
    "print(dx,dx.shape)   # (7, 8)"
   ]
  },
  {
   "cell_type": "markdown",
   "metadata": {},
   "source": [
    "### MatMul 노드"
   ]
  },
  {
   "cell_type": "code",
   "execution_count": 24,
   "metadata": {},
   "outputs": [],
   "source": [
    "class MatMul:\n",
    "    def __init__(self,W):\n",
    "        self.params = [W]\n",
    "        self.grads = [np.zeros_like(W)]\n",
    "        self.x = None\n",
    "        \n",
    "    def forward(self,x):\n",
    "        W = self.params\n",
    "        out = np.dot(x,W)\n",
    "        self.x = x\n",
    "        return out\n",
    "        \n",
    "    def backward(self,dout):\n",
    "        W = self.params\n",
    "        dx = np.dot(dout,W.T)\n",
    "        dw = np.dot(self.x.T,dout)\n",
    "        self.grads[0][...] = dw  # 깊은복사\n",
    "        return dx"
   ]
  },
  {
   "cell_type": "code",
   "execution_count": 27,
   "metadata": {},
   "outputs": [
    {
     "name": "stdout",
     "output_type": "stream",
     "text": [
      "0x269e5ed8ad0 0x269e5ed3b20\n",
      "[4 5 6]\n",
      "0x269e5ed3b20 0x269e5ed3b20\n"
     ]
    },
    {
     "data": {
      "text/plain": [
       "True"
      ]
     },
     "execution_count": 27,
     "metadata": {},
     "output_type": "execute_result"
    }
   ],
   "source": [
    "a = np.array([1, 2, 3])\n",
    "b = np.array([4, 5, 6])\n",
    "print(hex(id(a)),hex(id(b)))\n",
    "a = b    # 얕은 복사\n",
    "print(a)\n",
    "print(hex(id(a)),hex(id(b)))\n",
    "id(a) == id(b)"
   ]
  },
  {
   "cell_type": "code",
   "execution_count": 28,
   "metadata": {},
   "outputs": [
    {
     "name": "stdout",
     "output_type": "stream",
     "text": [
      "[4 5 6]\n",
      "0x269e5ed8ad0 0x269e5ed8260\n"
     ]
    },
    {
     "data": {
      "text/plain": [
       "False"
      ]
     },
     "execution_count": 28,
     "metadata": {},
     "output_type": "execute_result"
    }
   ],
   "source": [
    "a = np.array([1, 2, 3])\n",
    "b = np.array([4, 5, 6])\n",
    "a[...] = b  # 깊은 복사\n",
    "print(a)\n",
    "print(hex(id(a)),hex(id(b)))\n",
    "id(a) == id(b)"
   ]
  },
  {
   "cell_type": "code",
   "execution_count": 31,
   "metadata": {},
   "outputs": [
    {
     "data": {
      "text/plain": [
       "array([[0, 0, 0, 0],\n",
       "       [0, 0, 0, 0],\n",
       "       [0, 0, 0, 0]])"
      ]
     },
     "execution_count": 31,
     "metadata": {},
     "output_type": "execute_result"
    }
   ],
   "source": [
    "# np.zeros_like\n",
    "a = np.arange(12).reshape(3,4)\n",
    "b = np.zeros_like(a)\n",
    "b"
   ]
  },
  {
   "cell_type": "markdown",
   "metadata": {},
   "source": [
    "### 시그모이드 계층"
   ]
  },
  {
   "cell_type": "code",
   "execution_count": 32,
   "metadata": {},
   "outputs": [],
   "source": [
    "class Sigmoid:\n",
    "    def __init__(self):\n",
    "        self.params, self.grads = [],[]\n",
    "        self.out = None\n",
    "        \n",
    "    def forward(self,x):\n",
    "        out = 1 / (1 + np.exp(-x))\n",
    "        self.out = out\n",
    "        return out\n",
    "    \n",
    "    def backward(self,dout):\n",
    "        dx = dout*self.out*(1 - self.out)  # 공식 도출은 참고서적 참조\n",
    "        return dx        "
   ]
  },
  {
   "cell_type": "markdown",
   "metadata": {},
   "source": [
    "### Affine 계층 : MatMul 노드에 bias를 더한 계층,  X*W + b"
   ]
  },
  {
   "cell_type": "code",
   "execution_count": 33,
   "metadata": {},
   "outputs": [],
   "source": [
    "class Affine:\n",
    "    def __init__(self,W,b):\n",
    "        self.params = [W,b]\n",
    "        self.grads = [np.zeros_like(W),np_zeros_like(b)]\n",
    "        self.x = None\n",
    "        \n",
    "    def forward(self,x):\n",
    "        W , b = self.params\n",
    "        out = np.dot(x,W) + b\n",
    "        self.x = x\n",
    "        return out\n",
    "        \n",
    "    def backward(self,dout):\n",
    "        W, b = self.params\n",
    "        dx = np.dot(dout,W.T)\n",
    "        dw = np.dot(self.x.T,dout)\n",
    "        db = np.sum(dout,axis=0)\n",
    "        \n",
    "        self.grads[0][...] = dw  # 깊은복사\n",
    "        self.grads[1][...] = db  # 깊은복사\n",
    "        \n",
    "        return dx    "
   ]
  },
  {
   "cell_type": "markdown",
   "metadata": {},
   "source": [
    "## Softmax with Loss 계층"
   ]
  },
  {
   "cell_type": "code",
   "execution_count": 35,
   "metadata": {},
   "outputs": [],
   "source": [
    "class SotmaxWithLoss:\n",
    "    def __init__(self):\n",
    "        self.params,self.grads=[],[]\n",
    "        self.y = None  # softmax의 출력값\n",
    "        self.t = None  # 정답 레이블\n",
    "        \n",
    "    def softmax(self,x):\n",
    "        if x.ndim == 2:\n",
    "            x = x - x.max(axis=1, keepdims=True)  # nan출력을 방지\n",
    "            x = np.exp(x)\n",
    "            x /= x.sum(axis=1,keepdims=True)\n",
    "        elif x.ndim == 1:\n",
    "            x = x - np.max(x)\n",
    "            x = np.exp(x) / np.sum(np.exp(x))\n",
    "        return x  \n",
    "    \n",
    "    # https://smile2x.tistory.com/entry/softmax-crossentropy-%EC%97%90-%EB%8C%80%ED%95%98%EC%97%AC \n",
    "    def cross_entropy_error(self,y, t):  \n",
    "        if y.ndim == 1:\n",
    "            t = t.reshape(1, t.size)\n",
    "            y = y.reshape(1, y.size)\n",
    "\n",
    "        # 정답 데이터가 원핫 벡터일 경우 정답 레이블 인덱스로 변환\n",
    "        if t.size == y.size:\n",
    "            t = t.argmax(axis=1)\n",
    "\n",
    "        batch_size = y.shape[0]\n",
    "\n",
    "        return -np.sum(np.log(y[np.arange(batch_size), t] + 1e-7)) / batch_size  # 1e-7은 log(0)으로 무한대가 나오는걸 방지\n",
    "          \n",
    "    \n",
    "    def forward(self, x, t):\n",
    "        self.t = t\n",
    "        self.y = slef.softmax(x)\n",
    "\n",
    "        # 정답 레이블이 원핫 벡터일 경우 정답의 인덱스로 변환\n",
    "        if self.t.size == self.y.size:\n",
    "            self.t = self.t.argmax(axis=1)\n",
    "       \n",
    "        loss = self.cross_entropy_error(self.y,self.t)\n",
    "        return loss\n",
    "    \n",
    "    def backward(self,dout=1):\n",
    "        batch_size = self.t.shape[0]\n",
    "        \n",
    "        # dx = (self.y - self.t)/batch_size  # 순수 Softmax계층 일경우\n",
    "        dx = self.y.copy()\n",
    "        dx[np.arange(batch_size), self.t] -= 1\n",
    "        dx *= dout\n",
    "        dx = dx / batch_size\n",
    "        \n",
    "        return dx       \n",
    "        "
   ]
  },
  {
   "cell_type": "code",
   "execution_count": 36,
   "metadata": {},
   "outputs": [
    {
     "name": "stdout",
     "output_type": "stream",
     "text": [
      "[inf inf inf]\n",
      "[nan nan nan]\n",
      "[  0 -10 -20]\n",
      "[9.99954600e-01 4.53978686e-05 2.06106005e-09]\n"
     ]
    },
    {
     "name": "stderr",
     "output_type": "stream",
     "text": [
      "C:\\ProgramData\\Anaconda3\\envs\\tf20\\lib\\site-packages\\ipykernel_launcher.py:3: RuntimeWarning: overflow encountered in exp\n",
      "  This is separate from the ipykernel package so we can avoid doing imports until\n",
      "C:\\ProgramData\\Anaconda3\\envs\\tf20\\lib\\site-packages\\ipykernel_launcher.py:4: RuntimeWarning: overflow encountered in exp\n",
      "  after removing the cwd from sys.path.\n",
      "C:\\ProgramData\\Anaconda3\\envs\\tf20\\lib\\site-packages\\ipykernel_launcher.py:4: RuntimeWarning: invalid value encountered in true_divide\n",
      "  after removing the cwd from sys.path.\n"
     ]
    }
   ],
   "source": [
    "# softmax 구현시에  지수값이 크면 오버플로발생으로 nan이 나오는 것을 방지하기 위해 입력 값의 촤대값을 빼주어 사용한다\n",
    "a = np.array([1010,1000,990])\n",
    "print(np.exp(a))    # [inf inf inf]  , 무한대 값, 오버플로우 발생\n",
    "x = np.exp(a)/np.sum(np.exp(a))\n",
    "print(x)  # [nan nan nan]\n",
    "\n",
    "c = np.max(a)\n",
    "print(a - c)\n",
    "x2 = np.exp(a - c)/np.sum(np.exp(a - c))\n",
    "print(x2)  # [9.99954600e-01 4.53978686e-05 2.06106005e-09]"
   ]
  },
  {
   "cell_type": "markdown",
   "metadata": {},
   "source": [
    "### 가중치 갱신"
   ]
  },
  {
   "cell_type": "code",
   "execution_count": 38,
   "metadata": {},
   "outputs": [],
   "source": [
    "# 확률적 경사하강법(Stochastic Gradient Descent)\n",
    "class SGD :\n",
    "    def __init__(self,lr=0.01):\n",
    "        self.lr = lr\n",
    "        \n",
    "    def update(self,params,grads):\n",
    "        for i in range(len(params)):\n",
    "            params[i] -= self.lr*grads[i]    "
   ]
  },
  {
   "cell_type": "code",
   "execution_count": null,
   "metadata": {},
   "outputs": [],
   "source": [
    "class Adam:\n",
    "    '''\n",
    "    Adam (http://arxiv.org/abs/1412.6980v8)\n",
    "    \n",
    "    '''\n",
    "    def __init__(self, lr=0.001, beta1=0.9, beta2=0.999):\n",
    "        self.lr = lr\n",
    "        self.beta1 = beta1\n",
    "        self.beta2 = beta2\n",
    "        self.iter = 0\n",
    "        self.m = None\n",
    "        self.v = None\n",
    "        \n",
    "    def update(self, params, grads):\n",
    "        if self.m is None:\n",
    "            self.m, self.v = [], []\n",
    "            for param in params:\n",
    "                self.m.append(np.zeros_like(param))\n",
    "                self.v.append(np.zeros_like(param))\n",
    "        \n",
    "        self.iter += 1\n",
    "        lr_t = self.lr * np.sqrt(1.0 - self.beta2**self.iter) / (1.0 - self.beta1**self.iter)\n",
    "\n",
    "        for i in range(len(params)):\n",
    "            self.m[i] += (1 - self.beta1) * (grads[i] - self.m[i])\n",
    "            self.v[i] += (1 - self.beta2) * (grads[i]**2 - self.v[i])\n",
    "            \n",
    "            params[i] -= lr_t * self.m[i] / (np.sqrt(self.v[i]) + 1e-7)\n",
    "            \n",
    "# https://dalpo0814.tistory.com/29"
   ]
  }
 ],
 "metadata": {
  "kernelspec": {
   "display_name": "Python 3",
   "language": "python",
   "name": "python3"
  },
  "language_info": {
   "codemirror_mode": {
    "name": "ipython",
    "version": 3
   },
   "file_extension": ".py",
   "mimetype": "text/x-python",
   "name": "python",
   "nbconvert_exporter": "python",
   "pygments_lexer": "ipython3",
   "version": "3.7.7"
  }
 },
 "nbformat": 4,
 "nbformat_minor": 4
}
