{
 "cells": [
  {
   "cell_type": "markdown",
   "metadata": {},
   "source": [
    "### 신경망 모델 구현과 학습"
   ]
  },
  {
   "cell_type": "code",
   "execution_count": 1,
   "metadata": {},
   "outputs": [],
   "source": [
    "import numpy as np\n",
    "import matplotlib.pyplot as plt\n",
    "import matplotlib as mpl\n",
    "mpl.rcParams['axes.unicode_minus'] = False"
   ]
  },
  {
   "cell_type": "markdown",
   "metadata": {},
   "source": [
    "## 스파이럴 데이터셋"
   ]
  },
  {
   "cell_type": "code",
   "execution_count": 2,
   "metadata": {},
   "outputs": [],
   "source": [
    "def load_data(seed=1984):\n",
    "    np.random.seed(seed)\n",
    "    N = 100  # 클래스당 샘플 수\n",
    "    DIM = 2  # 데이터 요소 수\n",
    "    CLS_NUM = 3  # 클래스 수\n",
    "\n",
    "    x = np.zeros((N*CLS_NUM, DIM))  # (300,2)\n",
    "    t = np.zeros((N*CLS_NUM, CLS_NUM), dtype=np.int)  #(300,3)\n",
    "\n",
    "    for j in range(CLS_NUM): # 3회 반복\n",
    "        for i in range(N): # N*j, N*(j+1)):\n",
    "            rate = i / N\n",
    "            radius = 1.0*rate\n",
    "            theta = j*4.0 + 4.0*rate + np.random.randn()*0.2\n",
    "\n",
    "            ix = N*j + i\n",
    "            x[ix] = np.array([radius*np.sin(theta),\n",
    "                              radius*np.cos(theta)]).flatten()\n",
    "            t[ix, j] = 1\n",
    "\n",
    "    return x, t"
   ]
  },
  {
   "cell_type": "code",
   "execution_count": 3,
   "metadata": {},
   "outputs": [
    {
     "name": "stdout",
     "output_type": "stream",
     "text": [
      "x: (300, 2)\n",
      "t: (300, 3)\n"
     ]
    }
   ],
   "source": [
    "x,t = load_data()\n",
    "print('x:',x.shape)\n",
    "print('t:',t.shape)"
   ]
  },
  {
   "cell_type": "code",
   "execution_count": 4,
   "metadata": {},
   "outputs": [],
   "source": [
    "# x"
   ]
  },
  {
   "cell_type": "code",
   "execution_count": 5,
   "metadata": {},
   "outputs": [],
   "source": [
    "# t"
   ]
  },
  {
   "cell_type": "code",
   "execution_count": 6,
   "metadata": {},
   "outputs": [
    {
     "name": "stdout",
     "output_type": "stream",
     "text": [
      "2    100\n",
      "1    100\n",
      "0    100\n",
      "Name: label, dtype: int64\n"
     ]
    },
    {
     "data": {
      "text/html": [
       "<div>\n",
       "<style scoped>\n",
       "    .dataframe tbody tr th:only-of-type {\n",
       "        vertical-align: middle;\n",
       "    }\n",
       "\n",
       "    .dataframe tbody tr th {\n",
       "        vertical-align: top;\n",
       "    }\n",
       "\n",
       "    .dataframe thead th {\n",
       "        text-align: right;\n",
       "    }\n",
       "</style>\n",
       "<table border=\"1\" class=\"dataframe\">\n",
       "  <thead>\n",
       "    <tr style=\"text-align: right;\">\n",
       "      <th></th>\n",
       "      <th>0</th>\n",
       "      <th>1</th>\n",
       "      <th>label</th>\n",
       "    </tr>\n",
       "  </thead>\n",
       "  <tbody>\n",
       "    <tr>\n",
       "      <th>0</th>\n",
       "      <td>-0.000000</td>\n",
       "      <td>0.000000</td>\n",
       "      <td>0</td>\n",
       "    </tr>\n",
       "    <tr>\n",
       "      <th>1</th>\n",
       "      <td>-0.000977</td>\n",
       "      <td>0.009952</td>\n",
       "      <td>0</td>\n",
       "    </tr>\n",
       "    <tr>\n",
       "      <th>2</th>\n",
       "      <td>0.005127</td>\n",
       "      <td>0.019332</td>\n",
       "      <td>0</td>\n",
       "    </tr>\n",
       "    <tr>\n",
       "      <th>3</th>\n",
       "      <td>-0.000386</td>\n",
       "      <td>0.029998</td>\n",
       "      <td>0</td>\n",
       "    </tr>\n",
       "    <tr>\n",
       "      <th>4</th>\n",
       "      <td>0.014251</td>\n",
       "      <td>0.037375</td>\n",
       "      <td>0</td>\n",
       "    </tr>\n",
       "    <tr>\n",
       "      <th>...</th>\n",
       "      <td>...</td>\n",
       "      <td>...</td>\n",
       "      <td>...</td>\n",
       "    </tr>\n",
       "    <tr>\n",
       "      <th>295</th>\n",
       "      <td>-0.456406</td>\n",
       "      <td>0.833183</td>\n",
       "      <td>2</td>\n",
       "    </tr>\n",
       "    <tr>\n",
       "      <th>296</th>\n",
       "      <td>-0.630263</td>\n",
       "      <td>0.724133</td>\n",
       "      <td>2</td>\n",
       "    </tr>\n",
       "    <tr>\n",
       "      <th>297</th>\n",
       "      <td>-0.575706</td>\n",
       "      <td>0.780681</td>\n",
       "      <td>2</td>\n",
       "    </tr>\n",
       "    <tr>\n",
       "      <th>298</th>\n",
       "      <td>-0.206075</td>\n",
       "      <td>0.958088</td>\n",
       "      <td>2</td>\n",
       "    </tr>\n",
       "    <tr>\n",
       "      <th>299</th>\n",
       "      <td>-0.597431</td>\n",
       "      <td>0.789415</td>\n",
       "      <td>2</td>\n",
       "    </tr>\n",
       "  </tbody>\n",
       "</table>\n",
       "<p>300 rows × 3 columns</p>\n",
       "</div>"
      ],
      "text/plain": [
       "            0         1  label\n",
       "0   -0.000000  0.000000      0\n",
       "1   -0.000977  0.009952      0\n",
       "2    0.005127  0.019332      0\n",
       "3   -0.000386  0.029998      0\n",
       "4    0.014251  0.037375      0\n",
       "..        ...       ...    ...\n",
       "295 -0.456406  0.833183      2\n",
       "296 -0.630263  0.724133      2\n",
       "297 -0.575706  0.780681      2\n",
       "298 -0.206075  0.958088      2\n",
       "299 -0.597431  0.789415      2\n",
       "\n",
       "[300 rows x 3 columns]"
      ]
     },
     "execution_count": 6,
     "metadata": {},
     "output_type": "execute_result"
    }
   ],
   "source": [
    "import pandas as pd\n",
    "df = pd.DataFrame(x)\n",
    "df['label'] = np.argmax(t,1)  # axis=1 (수평방향)\n",
    "print(df['label'].value_counts())\n",
    "df"
   ]
  },
  {
   "cell_type": "code",
   "execution_count": 7,
   "metadata": {},
   "outputs": [
    {
     "data": {
      "image/png": "[encoded data removed]",
      "text/plain": [
       "<Figure size 432x288 with 1 Axes>"
      ]
     },
     "metadata": {
      "needs_background": "light"
     },
     "output_type": "display_data"
    }
   ],
   "source": [
    "# 데이터 점 플롯\n",
    "N = 100\n",
    "CLS_NUM = 3\n",
    "markers = ['o', 'x', '^']\n",
    "# plt.rc('font', family='Malgun Gothic')\n",
    "for i in range(3):\n",
    "    plt.scatter(x[i*N:(i+1)*N, 0], x[i*N:(i+1)*N, 1], s=40, marker=markers[i])\n",
    "plt.show()"
   ]
  },
  {
   "cell_type": "markdown",
   "metadata": {},
   "source": [
    "## 신경망 모델 구현"
   ]
  },
  {
   "cell_type": "code",
   "execution_count": 8,
   "metadata": {},
   "outputs": [],
   "source": [
    "from nn_layers import Sigmoid, Affine, SotmaxWithLoss, SGD"
   ]
  },
  {
   "cell_type": "code",
   "execution_count": 9,
   "metadata": {},
   "outputs": [],
   "source": [
    "#  학습 모델 구현\n",
    "class TwoLayerNet:\n",
    "    def __init__(self,input_size,hidden_size,output_size):\n",
    "        I,H,O = input_size, hidden_size, output_size\n",
    "        \n",
    "        # 가중치와 편향 초기화\n",
    "        W1 = np.random.rand(I,H)\n",
    "        b1 = np.random.rand(H)\n",
    "        \n",
    "        W2 = np.random.rand(H,O)\n",
    "        b2 = np.random.rand(O)\n",
    "        \n",
    "        # 계층 생성\n",
    "        self.layers = [\n",
    "            Affine(W1,b1),\n",
    "            Sigmoid(),\n",
    "            Affine(W2,b2)\n",
    "        ]\n",
    "        \n",
    "        self.loss_layer = SotmaxWithLoss()\n",
    "        \n",
    "        # 모든 가중치와 기울기(미분)를 리스트에 모은다\n",
    "        self.params, self.grads = [],[]\n",
    "        for layer in self.layers:\n",
    "            self.params += layer.params\n",
    "            self.grads += layer.grads\n",
    "    \n",
    "    # 예측\n",
    "    def predict(self,x):\n",
    "        for layer in self.layers:\n",
    "            x = layer.forward(x)\n",
    "        return x\n",
    "    \n",
    "    # 순전파 학습\n",
    "    def forward(self,x,t):\n",
    "        score = self.predict(x)\n",
    "        loss = self.loss_layer.forward(score,t)\n",
    "        return loss\n",
    "    \n",
    "    # 역전파 학습\n",
    "    def backward(self,dout=1):\n",
    "        dout = self.loss_layer.backward(dout)\n",
    "        for layer in reversed(self.layers):\n",
    "            dout = layer.backward(dout)\n",
    "        return dout    "
   ]
  },
  {
   "cell_type": "code",
   "execution_count": 10,
   "metadata": {},
   "outputs": [
    {
     "name": "stdout",
     "output_type": "stream",
     "text": [
      "3\n",
      "2\n",
      "1\n"
     ]
    }
   ],
   "source": [
    "a = [1,2,3]\n",
    "for k in reversed(a): # Return a reverse iterator over the values of the given sequence\n",
    "    print(k)          # 요소의 순서를 거꾸로 변경"
   ]
  },
  {
   "cell_type": "markdown",
   "metadata": {},
   "source": [
    "### 학습 코드"
   ]
  },
  {
   "cell_type": "code",
   "execution_count": 11,
   "metadata": {
    "scrolled": true
   },
   "outputs": [
    {
     "name": "stdout",
     "output_type": "stream",
     "text": [
      "| epoch: 1 | 반복 10 /  10 | loss: 1.33\n",
      "| epoch: 2 | 반복 10 /  10 | loss: 1.09\n",
      "| epoch: 3 | 반복 10 /  10 | loss: 1.09\n",
      "| epoch: 4 | 반복 10 /  10 | loss: 0.96\n",
      "| epoch: 5 | 반복 10 /  10 | loss: 0.93\n",
      "| epoch: 6 | 반복 10 /  10 | loss: 0.86\n",
      "| epoch: 7 | 반복 10 /  10 | loss: 0.84\n",
      "| epoch: 8 | 반복 10 /  10 | loss: 0.83\n",
      "| epoch: 9 | 반복 10 /  10 | loss: 0.82\n",
      "| epoch: 10 | 반복 10 /  10 | loss: 0.79\n",
      "| epoch: 11 | 반복 10 /  10 | loss: 0.79\n",
      "| epoch: 12 | 반복 10 /  10 | loss: 0.77\n",
      "| epoch: 13 | 반복 10 /  10 | loss: 0.79\n",
      "| epoch: 14 | 반복 10 /  10 | loss: 0.79\n",
      "| epoch: 15 | 반복 10 /  10 | loss: 0.80\n",
      "| epoch: 16 | 반복 10 /  10 | loss: 0.76\n",
      "| epoch: 17 | 반복 10 /  10 | loss: 0.75\n",
      "| epoch: 18 | 반복 10 /  10 | loss: 0.75\n",
      "| epoch: 19 | 반복 10 /  10 | loss: 0.78\n",
      "| epoch: 20 | 반복 10 /  10 | loss: 0.76\n",
      "| epoch: 21 | 반복 10 /  10 | loss: 0.75\n",
      "| epoch: 22 | 반복 10 /  10 | loss: 0.76\n",
      "| epoch: 23 | 반복 10 /  10 | loss: 0.76\n",
      "| epoch: 24 | 반복 10 /  10 | loss: 0.75\n",
      "| epoch: 25 | 반복 10 /  10 | loss: 0.75\n",
      "| epoch: 26 | 반복 10 /  10 | loss: 0.73\n",
      "| epoch: 27 | 반복 10 /  10 | loss: 0.75\n",
      "| epoch: 28 | 반복 10 /  10 | loss: 0.77\n",
      "| epoch: 29 | 반복 10 /  10 | loss: 0.72\n",
      "| epoch: 30 | 반복 10 /  10 | loss: 0.75\n",
      "| epoch: 31 | 반복 10 /  10 | loss: 0.75\n",
      "| epoch: 32 | 반복 10 /  10 | loss: 0.74\n",
      "| epoch: 33 | 반복 10 /  10 | loss: 0.74\n",
      "| epoch: 34 | 반복 10 /  10 | loss: 0.74\n",
      "| epoch: 35 | 반복 10 /  10 | loss: 0.73\n",
      "| epoch: 36 | 반복 10 /  10 | loss: 0.74\n",
      "| epoch: 37 | 반복 10 /  10 | loss: 0.74\n",
      "| epoch: 38 | 반복 10 /  10 | loss: 0.70\n",
      "| epoch: 39 | 반복 10 /  10 | loss: 0.73\n",
      "| epoch: 40 | 반복 10 /  10 | loss: 0.70\n",
      "| epoch: 41 | 반복 10 /  10 | loss: 0.73\n",
      "| epoch: 42 | 반복 10 /  10 | loss: 0.72\n",
      "| epoch: 43 | 반복 10 /  10 | loss: 0.71\n",
      "| epoch: 44 | 반복 10 /  10 | loss: 0.70\n",
      "| epoch: 45 | 반복 10 /  10 | loss: 0.69\n",
      "| epoch: 46 | 반복 10 /  10 | loss: 0.71\n",
      "| epoch: 47 | 반복 10 /  10 | loss: 0.70\n",
      "| epoch: 48 | 반복 10 /  10 | loss: 0.70\n",
      "| epoch: 49 | 반복 10 /  10 | loss: 0.70\n",
      "| epoch: 50 | 반복 10 /  10 | loss: 0.68\n",
      "| epoch: 51 | 반복 10 /  10 | loss: 0.73\n",
      "| epoch: 52 | 반복 10 /  10 | loss: 0.68\n",
      "| epoch: 53 | 반복 10 /  10 | loss: 0.66\n",
      "| epoch: 54 | 반복 10 /  10 | loss: 0.67\n",
      "| epoch: 55 | 반복 10 /  10 | loss: 0.67\n",
      "| epoch: 56 | 반복 10 /  10 | loss: 0.65\n",
      "| epoch: 57 | 반복 10 /  10 | loss: 0.67\n",
      "| epoch: 58 | 반복 10 /  10 | loss: 0.66\n",
      "| epoch: 59 | 반복 10 /  10 | loss: 0.65\n",
      "| epoch: 60 | 반복 10 /  10 | loss: 0.64\n",
      "| epoch: 61 | 반복 10 /  10 | loss: 0.64\n",
      "| epoch: 62 | 반복 10 /  10 | loss: 0.61\n",
      "| epoch: 63 | 반복 10 /  10 | loss: 0.63\n",
      "| epoch: 64 | 반복 10 /  10 | loss: 0.61\n",
      "| epoch: 65 | 반복 10 /  10 | loss: 0.61\n",
      "| epoch: 66 | 반복 10 /  10 | loss: 0.59\n",
      "| epoch: 67 | 반복 10 /  10 | loss: 0.59\n",
      "| epoch: 68 | 반복 10 /  10 | loss: 0.58\n",
      "| epoch: 69 | 반복 10 /  10 | loss: 0.56\n",
      "| epoch: 70 | 반복 10 /  10 | loss: 0.57\n",
      "| epoch: 71 | 반복 10 /  10 | loss: 0.56\n",
      "| epoch: 72 | 반복 10 /  10 | loss: 0.57\n",
      "| epoch: 73 | 반복 10 /  10 | loss: 0.55\n",
      "| epoch: 74 | 반복 10 /  10 | loss: 0.54\n",
      "| epoch: 75 | 반복 10 /  10 | loss: 0.55\n",
      "| epoch: 76 | 반복 10 /  10 | loss: 0.54\n",
      "| epoch: 77 | 반복 10 /  10 | loss: 0.52\n",
      "| epoch: 78 | 반복 10 /  10 | loss: 0.53\n",
      "| epoch: 79 | 반복 10 /  10 | loss: 0.50\n",
      "| epoch: 80 | 반복 10 /  10 | loss: 0.49\n",
      "| epoch: 81 | 반복 10 /  10 | loss: 0.49\n",
      "| epoch: 82 | 반복 10 /  10 | loss: 0.50\n",
      "| epoch: 83 | 반복 10 /  10 | loss: 0.48\n",
      "| epoch: 84 | 반복 10 /  10 | loss: 0.48\n",
      "| epoch: 85 | 반복 10 /  10 | loss: 0.47\n",
      "| epoch: 86 | 반복 10 /  10 | loss: 0.46\n",
      "| epoch: 87 | 반복 10 /  10 | loss: 0.46\n",
      "| epoch: 88 | 반복 10 /  10 | loss: 0.49\n",
      "| epoch: 89 | 반복 10 /  10 | loss: 0.46\n",
      "| epoch: 90 | 반복 10 /  10 | loss: 0.45\n",
      "| epoch: 91 | 반복 10 /  10 | loss: 0.43\n",
      "| epoch: 92 | 반복 10 /  10 | loss: 0.43\n",
      "| epoch: 93 | 반복 10 /  10 | loss: 0.42\n",
      "| epoch: 94 | 반복 10 /  10 | loss: 0.44\n",
      "| epoch: 95 | 반복 10 /  10 | loss: 0.43\n",
      "| epoch: 96 | 반복 10 /  10 | loss: 0.41\n",
      "| epoch: 97 | 반복 10 /  10 | loss: 0.40\n",
      "| epoch: 98 | 반복 10 /  10 | loss: 0.41\n",
      "| epoch: 99 | 반복 10 /  10 | loss: 0.40\n",
      "| epoch: 100 | 반복 10 /  10 | loss: 0.40\n",
      "| epoch: 101 | 반복 10 /  10 | loss: 0.37\n",
      "| epoch: 102 | 반복 10 /  10 | loss: 0.39\n",
      "| epoch: 103 | 반복 10 /  10 | loss: 0.38\n",
      "| epoch: 104 | 반복 10 /  10 | loss: 0.37\n",
      "| epoch: 105 | 반복 10 /  10 | loss: 0.37\n",
      "| epoch: 106 | 반복 10 /  10 | loss: 0.35\n",
      "| epoch: 107 | 반복 10 /  10 | loss: 0.35\n",
      "| epoch: 108 | 반복 10 /  10 | loss: 0.35\n",
      "| epoch: 109 | 반복 10 /  10 | loss: 0.34\n",
      "| epoch: 110 | 반복 10 /  10 | loss: 0.35\n",
      "| epoch: 111 | 반복 10 /  10 | loss: 0.34\n",
      "| epoch: 112 | 반복 10 /  10 | loss: 0.32\n",
      "| epoch: 113 | 반복 10 /  10 | loss: 0.33\n",
      "| epoch: 114 | 반복 10 /  10 | loss: 0.32\n",
      "| epoch: 115 | 반복 10 /  10 | loss: 0.32\n",
      "| epoch: 116 | 반복 10 /  10 | loss: 0.32\n",
      "| epoch: 117 | 반복 10 /  10 | loss: 0.31\n",
      "| epoch: 118 | 반복 10 /  10 | loss: 0.30\n",
      "| epoch: 119 | 반복 10 /  10 | loss: 0.31\n",
      "| epoch: 120 | 반복 10 /  10 | loss: 0.29\n",
      "| epoch: 121 | 반복 10 /  10 | loss: 0.29\n",
      "| epoch: 122 | 반복 10 /  10 | loss: 0.29\n",
      "| epoch: 123 | 반복 10 /  10 | loss: 0.27\n",
      "| epoch: 124 | 반복 10 /  10 | loss: 0.28\n",
      "| epoch: 125 | 반복 10 /  10 | loss: 0.27\n",
      "| epoch: 126 | 반복 10 /  10 | loss: 0.27\n",
      "| epoch: 127 | 반복 10 /  10 | loss: 0.28\n",
      "| epoch: 128 | 반복 10 /  10 | loss: 0.27\n",
      "| epoch: 129 | 반복 10 /  10 | loss: 0.25\n",
      "| epoch: 130 | 반복 10 /  10 | loss: 0.26\n",
      "| epoch: 131 | 반복 10 /  10 | loss: 0.26\n",
      "| epoch: 132 | 반복 10 /  10 | loss: 0.25\n",
      "| epoch: 133 | 반복 10 /  10 | loss: 0.25\n",
      "| epoch: 134 | 반복 10 /  10 | loss: 0.24\n",
      "| epoch: 135 | 반복 10 /  10 | loss: 0.24\n",
      "| epoch: 136 | 반복 10 /  10 | loss: 0.24\n",
      "| epoch: 137 | 반복 10 /  10 | loss: 0.23\n",
      "| epoch: 138 | 반복 10 /  10 | loss: 0.23\n",
      "| epoch: 139 | 반복 10 /  10 | loss: 0.22\n",
      "| epoch: 140 | 반복 10 /  10 | loss: 0.23\n",
      "| epoch: 141 | 반복 10 /  10 | loss: 0.22\n",
      "| epoch: 142 | 반복 10 /  10 | loss: 0.22\n",
      "| epoch: 143 | 반복 10 /  10 | loss: 0.22\n",
      "| epoch: 144 | 반복 10 /  10 | loss: 0.21\n",
      "| epoch: 145 | 반복 10 /  10 | loss: 0.21\n",
      "| epoch: 146 | 반복 10 /  10 | loss: 0.22\n",
      "| epoch: 147 | 반복 10 /  10 | loss: 0.21\n",
      "| epoch: 148 | 반복 10 /  10 | loss: 0.21\n",
      "| epoch: 149 | 반복 10 /  10 | loss: 0.20\n",
      "| epoch: 150 | 반복 10 /  10 | loss: 0.22\n",
      "| epoch: 151 | 반복 10 /  10 | loss: 0.20\n",
      "| epoch: 152 | 반복 10 /  10 | loss: 0.20\n",
      "| epoch: 153 | 반복 10 /  10 | loss: 0.20\n",
      "| epoch: 154 | 반복 10 /  10 | loss: 0.20\n",
      "| epoch: 155 | 반복 10 /  10 | loss: 0.21\n",
      "| epoch: 156 | 반복 10 /  10 | loss: 0.19\n",
      "| epoch: 157 | 반복 10 /  10 | loss: 0.19\n",
      "| epoch: 158 | 반복 10 /  10 | loss: 0.19\n",
      "| epoch: 159 | 반복 10 /  10 | loss: 0.19\n",
      "| epoch: 160 | 반복 10 /  10 | loss: 0.19\n",
      "| epoch: 161 | 반복 10 /  10 | loss: 0.19\n",
      "| epoch: 162 | 반복 10 /  10 | loss: 0.19\n",
      "| epoch: 163 | 반복 10 /  10 | loss: 0.18\n",
      "| epoch: 164 | 반복 10 /  10 | loss: 0.18\n",
      "| epoch: 165 | 반복 10 /  10 | loss: 0.17\n",
      "| epoch: 166 | 반복 10 /  10 | loss: 0.19\n",
      "| epoch: 167 | 반복 10 /  10 | loss: 0.18\n",
      "| epoch: 168 | 반복 10 /  10 | loss: 0.17\n",
      "| epoch: 169 | 반복 10 /  10 | loss: 0.18\n",
      "| epoch: 170 | 반복 10 /  10 | loss: 0.17\n",
      "| epoch: 171 | 반복 10 /  10 | loss: 0.17\n",
      "| epoch: 172 | 반복 10 /  10 | loss: 0.17\n",
      "| epoch: 173 | 반복 10 /  10 | loss: 0.17\n",
      "| epoch: 174 | 반복 10 /  10 | loss: 0.17\n",
      "| epoch: 175 | 반복 10 /  10 | loss: 0.17\n",
      "| epoch: 176 | 반복 10 /  10 | loss: 0.17\n",
      "| epoch: 177 | 반복 10 /  10 | loss: 0.17\n",
      "| epoch: 178 | 반복 10 /  10 | loss: 0.17\n",
      "| epoch: 179 | 반복 10 /  10 | loss: 0.18\n",
      "| epoch: 180 | 반복 10 /  10 | loss: 0.16\n",
      "| epoch: 181 | 반복 10 /  10 | loss: 0.17\n",
      "| epoch: 182 | 반복 10 /  10 | loss: 0.17\n",
      "| epoch: 183 | 반복 10 /  10 | loss: 0.17\n",
      "| epoch: 184 | 반복 10 /  10 | loss: 0.16\n",
      "| epoch: 185 | 반복 10 /  10 | loss: 0.17\n",
      "| epoch: 186 | 반복 10 /  10 | loss: 0.16\n",
      "| epoch: 187 | 반복 10 /  10 | loss: 0.16\n",
      "| epoch: 188 | 반복 10 /  10 | loss: 0.16\n",
      "| epoch: 189 | 반복 10 /  10 | loss: 0.16\n",
      "| epoch: 190 | 반복 10 /  10 | loss: 0.16\n",
      "| epoch: 191 | 반복 10 /  10 | loss: 0.15\n",
      "| epoch: 192 | 반복 10 /  10 | loss: 0.15\n",
      "| epoch: 193 | 반복 10 /  10 | loss: 0.15\n",
      "| epoch: 194 | 반복 10 /  10 | loss: 0.15\n",
      "| epoch: 195 | 반복 10 /  10 | loss: 0.15\n",
      "| epoch: 196 | 반복 10 /  10 | loss: 0.15\n",
      "| epoch: 197 | 반복 10 /  10 | loss: 0.15\n",
      "| epoch: 198 | 반복 10 /  10 | loss: 0.16\n",
      "| epoch: 199 | 반복 10 /  10 | loss: 0.15\n",
      "| epoch: 200 | 반복 10 /  10 | loss: 0.15\n",
      "| epoch: 201 | 반복 10 /  10 | loss: 0.16\n",
      "| epoch: 202 | 반복 10 /  10 | loss: 0.15\n",
      "| epoch: 203 | 반복 10 /  10 | loss: 0.15\n",
      "| epoch: 204 | 반복 10 /  10 | loss: 0.15\n",
      "| epoch: 205 | 반복 10 /  10 | loss: 0.16\n",
      "| epoch: 206 | 반복 10 /  10 | loss: 0.15\n",
      "| epoch: 207 | 반복 10 /  10 | loss: 0.15\n",
      "| epoch: 208 | 반복 10 /  10 | loss: 0.14\n",
      "| epoch: 209 | 반복 10 /  10 | loss: 0.14\n",
      "| epoch: 210 | 반복 10 /  10 | loss: 0.14\n",
      "| epoch: 211 | 반복 10 /  10 | loss: 0.14\n",
      "| epoch: 212 | 반복 10 /  10 | loss: 0.14\n",
      "| epoch: 213 | 반복 10 /  10 | loss: 0.14\n",
      "| epoch: 214 | 반복 10 /  10 | loss: 0.14\n",
      "| epoch: 215 | 반복 10 /  10 | loss: 0.14\n",
      "| epoch: 216 | 반복 10 /  10 | loss: 0.14\n",
      "| epoch: 217 | 반복 10 /  10 | loss: 0.14\n",
      "| epoch: 218 | 반복 10 /  10 | loss: 0.15\n",
      "| epoch: 219 | 반복 10 /  10 | loss: 0.13\n",
      "| epoch: 220 | 반복 10 /  10 | loss: 0.15\n",
      "| epoch: 221 | 반복 10 /  10 | loss: 0.14\n",
      "| epoch: 222 | 반복 10 /  10 | loss: 0.13\n",
      "| epoch: 223 | 반복 10 /  10 | loss: 0.14\n",
      "| epoch: 224 | 반복 10 /  10 | loss: 0.13\n",
      "| epoch: 225 | 반복 10 /  10 | loss: 0.13\n",
      "| epoch: 226 | 반복 10 /  10 | loss: 0.13\n",
      "| epoch: 227 | 반복 10 /  10 | loss: 0.14\n",
      "| epoch: 228 | 반복 10 /  10 | loss: 0.13\n",
      "| epoch: 229 | 반복 10 /  10 | loss: 0.13\n",
      "| epoch: 230 | 반복 10 /  10 | loss: 0.13\n",
      "| epoch: 231 | 반복 10 /  10 | loss: 0.13\n",
      "| epoch: 232 | 반복 10 /  10 | loss: 0.14\n",
      "| epoch: 233 | 반복 10 /  10 | loss: 0.13\n",
      "| epoch: 234 | 반복 10 /  10 | loss: 0.13\n",
      "| epoch: 235 | 반복 10 /  10 | loss: 0.13\n",
      "| epoch: 236 | 반복 10 /  10 | loss: 0.13\n",
      "| epoch: 237 | 반복 10 /  10 | loss: 0.12\n",
      "| epoch: 238 | 반복 10 /  10 | loss: 0.13\n",
      "| epoch: 239 | 반복 10 /  10 | loss: 0.13\n",
      "| epoch: 240 | 반복 10 /  10 | loss: 0.13\n",
      "| epoch: 241 | 반복 10 /  10 | loss: 0.12\n",
      "| epoch: 242 | 반복 10 /  10 | loss: 0.12\n",
      "| epoch: 243 | 반복 10 /  10 | loss: 0.13\n",
      "| epoch: 244 | 반복 10 /  10 | loss: 0.12\n"
     ]
    },
    {
     "name": "stdout",
     "output_type": "stream",
     "text": [
      "| epoch: 245 | 반복 10 /  10 | loss: 0.13\n",
      "| epoch: 246 | 반복 10 /  10 | loss: 0.12\n",
      "| epoch: 247 | 반복 10 /  10 | loss: 0.13\n",
      "| epoch: 248 | 반복 10 /  10 | loss: 0.13\n",
      "| epoch: 249 | 반복 10 /  10 | loss: 0.12\n",
      "| epoch: 250 | 반복 10 /  10 | loss: 0.12\n",
      "| epoch: 251 | 반복 10 /  10 | loss: 0.12\n",
      "| epoch: 252 | 반복 10 /  10 | loss: 0.12\n",
      "| epoch: 253 | 반복 10 /  10 | loss: 0.12\n",
      "| epoch: 254 | 반복 10 /  10 | loss: 0.12\n",
      "| epoch: 255 | 반복 10 /  10 | loss: 0.13\n",
      "| epoch: 256 | 반복 10 /  10 | loss: 0.12\n",
      "| epoch: 257 | 반복 10 /  10 | loss: 0.13\n",
      "| epoch: 258 | 반복 10 /  10 | loss: 0.12\n",
      "| epoch: 259 | 반복 10 /  10 | loss: 0.12\n",
      "| epoch: 260 | 반복 10 /  10 | loss: 0.12\n",
      "| epoch: 261 | 반복 10 /  10 | loss: 0.11\n",
      "| epoch: 262 | 반복 10 /  10 | loss: 0.12\n",
      "| epoch: 263 | 반복 10 /  10 | loss: 0.12\n",
      "| epoch: 264 | 반복 10 /  10 | loss: 0.12\n",
      "| epoch: 265 | 반복 10 /  10 | loss: 0.12\n",
      "| epoch: 266 | 반복 10 /  10 | loss: 0.12\n",
      "| epoch: 267 | 반복 10 /  10 | loss: 0.11\n",
      "| epoch: 268 | 반복 10 /  10 | loss: 0.11\n",
      "| epoch: 269 | 반복 10 /  10 | loss: 0.12\n",
      "| epoch: 270 | 반복 10 /  10 | loss: 0.11\n",
      "| epoch: 271 | 반복 10 /  10 | loss: 0.11\n",
      "| epoch: 272 | 반복 10 /  10 | loss: 0.12\n",
      "| epoch: 273 | 반복 10 /  10 | loss: 0.12\n",
      "| epoch: 274 | 반복 10 /  10 | loss: 0.11\n",
      "| epoch: 275 | 반복 10 /  10 | loss: 0.12\n",
      "| epoch: 276 | 반복 10 /  10 | loss: 0.11\n",
      "| epoch: 277 | 반복 10 /  10 | loss: 0.11\n",
      "| epoch: 278 | 반복 10 /  10 | loss: 0.11\n",
      "| epoch: 279 | 반복 10 /  10 | loss: 0.12\n",
      "| epoch: 280 | 반복 10 /  10 | loss: 0.11\n",
      "| epoch: 281 | 반복 10 /  10 | loss: 0.11\n",
      "| epoch: 282 | 반복 10 /  10 | loss: 0.11\n",
      "| epoch: 283 | 반복 10 /  10 | loss: 0.11\n",
      "| epoch: 284 | 반복 10 /  10 | loss: 0.11\n",
      "| epoch: 285 | 반복 10 /  10 | loss: 0.11\n",
      "| epoch: 286 | 반복 10 /  10 | loss: 0.11\n",
      "| epoch: 287 | 반복 10 /  10 | loss: 0.12\n",
      "| epoch: 288 | 반복 10 /  10 | loss: 0.11\n",
      "| epoch: 289 | 반복 10 /  10 | loss: 0.11\n",
      "| epoch: 290 | 반복 10 /  10 | loss: 0.11\n",
      "| epoch: 291 | 반복 10 /  10 | loss: 0.10\n",
      "| epoch: 292 | 반복 10 /  10 | loss: 0.11\n",
      "| epoch: 293 | 반복 10 /  10 | loss: 0.11\n",
      "| epoch: 294 | 반복 10 /  10 | loss: 0.11\n",
      "| epoch: 295 | 반복 10 /  10 | loss: 0.11\n",
      "| epoch: 296 | 반복 10 /  10 | loss: 0.11\n",
      "| epoch: 297 | 반복 10 /  10 | loss: 0.11\n",
      "| epoch: 298 | 반복 10 /  10 | loss: 0.12\n",
      "| epoch: 299 | 반복 10 /  10 | loss: 0.11\n",
      "| epoch: 300 | 반복 10 /  10 | loss: 0.11\n"
     ]
    }
   ],
   "source": [
    "# 하이퍼 파라미터 설정\n",
    "max_epoch = 300\n",
    "batch_size = 30\n",
    "hidden_size = 10\n",
    "learning_rate = 1.0\n",
    "\n",
    "# 데이터 읽기\n",
    "x,t = load_data()\n",
    "# print('x:',x.shape)\n",
    "# print('t:',t.shape)\n",
    "\n",
    "# 모델 객체를 생성\n",
    "model = TwoLayerNet(input_size=2,hidden_size=hidden_size,output_size=3)\n",
    "\n",
    "# Optimizer 객체를 생성\n",
    "optimizer = SGD(lr=learning_rate)\n",
    "# optimizer = Adam(lr=learning_rate)\n",
    "\n",
    "\n",
    "data_size = len(x)  # 300\n",
    "max_iters = data_size//batch_size # 10, 정수몫, for문에서 사용\n",
    "total_loss = 0\n",
    "loss_count = 0\n",
    "loss_list = []\n",
    "\n",
    "# 학습 시작\n",
    "for epoch in range(max_epoch): # 300회\n",
    "    \n",
    "    # 데이터 뒤섞기(셔플배치)\n",
    "    idx = np.random.permutation(data_size)\n",
    "    x = x[idx]\n",
    "    t = t[idx]\n",
    "    \n",
    "    for iters in range(max_iters): # 10회\n",
    "        batch_x = x[iters*batch_size:(iters+1)*batch_size] # 30개 씩 추출\n",
    "        batch_t = t[iters*batch_size:(iters+1)*batch_size]\n",
    "        \n",
    "        # 순전파와 역전파를 수행 후 매개변수를 갱신  \n",
    "        loss = model.forward(batch_x,batch_t)\n",
    "        model.backward()\n",
    "        optimizer.update(model.params,model.grads)\n",
    "        \n",
    "        total_loss += loss\n",
    "        loss_count += 1\n",
    "        \n",
    "        # 정기적으로 학습 경과 출력\n",
    "        if (iters+1) % 10 == 0:\n",
    "            avg_loss = total_loss / loss_count\n",
    "            print('| epoch: %d | 반복 %d / % d | loss: %.2f'\n",
    "                  %(epoch + 1,iters +1, max_iters, avg_loss))\n",
    "            loss_list.append(avg_loss)\n",
    "            total_loss, loss_count = 0,0                 \n",
    "    "
   ]
  },
  {
   "cell_type": "code",
   "execution_count": 12,
   "metadata": {},
   "outputs": [
    {
     "data": {
      "text/plain": [
       "array([5, 1, 8, 4, 9, 7, 0, 2, 6, 3])"
      ]
     },
     "execution_count": 12,
     "metadata": {},
     "output_type": "execute_result"
    }
   ],
   "source": [
    "np.random.permutation(10) # 0에서 9까지의 무작위 순서를 생성해서 반환, 중복 되지 않음"
   ]
  },
  {
   "cell_type": "code",
   "execution_count": 13,
   "metadata": {},
   "outputs": [
    {
     "data": {
      "image/png": "[encoded data removed]",
      "text/plain": [
       "<Figure size 432x288 with 1 Axes>"
      ]
     },
     "metadata": {
      "needs_background": "light"
     },
     "output_type": "display_data"
    }
   ],
   "source": [
    "# 학습 결과 플롯\n",
    "plt.rc('font', family='Malgun Gothic')\n",
    "plt.plot(np.arange(len(loss_list)), loss_list, label='train')\n",
    "plt.xlabel('반복 (x10)')\n",
    "plt.ylabel('손실')\n",
    "plt.show()"
   ]
  },
  {
   "cell_type": "code",
   "execution_count": 14,
   "metadata": {},
   "outputs": [
    {
     "name": "stdout",
     "output_type": "stream",
     "text": [
      "[[-1.0223507 -1.0213507 -1.0203507 ...  1.0866493  1.0876493  1.0886493]\n",
      " [-1.0223507 -1.0213507 -1.0203507 ...  1.0866493  1.0876493  1.0886493]\n",
      " [-1.0223507 -1.0213507 -1.0203507 ...  1.0866493  1.0876493  1.0886493]\n",
      " ...\n",
      " [-1.0223507 -1.0213507 -1.0203507 ...  1.0866493  1.0876493  1.0886493]\n",
      " [-1.0223507 -1.0213507 -1.0203507 ...  1.0866493  1.0876493  1.0886493]\n",
      " [-1.0223507 -1.0213507 -1.0203507 ...  1.0866493  1.0876493  1.0886493]]\n",
      "--------------------------------------------------------------------------------\n",
      "[[-0.98867266 -0.98867266 -0.98867266 ... -0.98867266 -0.98867266\n",
      "  -0.98867266]\n",
      " [-0.98767266 -0.98767266 -0.98767266 ... -0.98767266 -0.98767266\n",
      "  -0.98767266]\n",
      " [-0.98667266 -0.98667266 -0.98667266 ... -0.98667266 -0.98667266\n",
      "  -0.98667266]\n",
      " ...\n",
      " [ 1.05532734  1.05532734  1.05532734 ...  1.05532734  1.05532734\n",
      "   1.05532734]\n",
      " [ 1.05632734  1.05632734  1.05632734 ...  1.05632734  1.05632734\n",
      "   1.05632734]\n",
      " [ 1.05732734  1.05732734  1.05732734 ...  1.05732734  1.05732734\n",
      "   1.05732734]]\n",
      "--------------------------------------------------------------------------------\n",
      "[[-1.0223507  -0.98867266]\n",
      " [-1.0213507  -0.98867266]\n",
      " [-1.0203507  -0.98867266]\n",
      " ...\n",
      " [ 1.0866493   1.05732734]\n",
      " [ 1.0876493   1.05732734]\n",
      " [ 1.0886493   1.05732734]]\n"
     ]
    },
    {
     "data": {
      "image/png": "[encoded data removed]",
      "text/plain": [
       "<Figure size 432x288 with 1 Axes>"
      ]
     },
     "metadata": {
      "needs_background": "light"
     },
     "output_type": "display_data"
    }
   ],
   "source": [
    "# 경계 영역 플롯 : Decision Boundary(결정 경계)\n",
    "h = 0.001\n",
    "x_min, x_max = x[:, 0].min() - .1, x[:, 0].max() + .1\n",
    "y_min, y_max = x[:, 1].min() - .1, x[:, 1].max() + .1\n",
    "xx, yy = np.meshgrid(np.arange(x_min, x_max, h), np.arange(y_min, y_max, h))\n",
    "print(xx)\n",
    "print('-'*80)\n",
    "print(yy)\n",
    "print('-'*80)\n",
    "\n",
    "X = np.c_[xx.ravel(), yy.ravel()]\n",
    "print(X)\n",
    "\n",
    "score = model.predict(X)\n",
    "predict_cls = np.argmax(score, axis=1)\n",
    "Z = predict_cls.reshape(xx.shape)  # 예측 값\n",
    "plt.contourf(xx, yy, Z)\n",
    "plt.axis('off')  # x,y 축 표시 없앰\n",
    "\n",
    "# 데이터점 플롯\n",
    "x, t = load_data()\n",
    "N = 100\n",
    "CLS_NUM = 3\n",
    "markers = ['o', 'x', '^']\n",
    "for i in range(CLS_NUM):\n",
    "    plt.scatter(x[i*N:(i+1)*N, 0], x[i*N:(i+1)*N, 1], s=40, marker=markers[i])\n",
    "plt.show()"
   ]
  },
  {
   "cell_type": "code",
   "execution_count": 15,
   "metadata": {},
   "outputs": [
    {
     "data": {
      "text/plain": [
       "(array([[0, 1, 2, 3, 4],\n",
       "        [0, 1, 2, 3, 4],\n",
       "        [0, 1, 2, 3, 4],\n",
       "        [0, 1, 2, 3, 4],\n",
       "        [0, 1, 2, 3, 4]]),\n",
       " array([[0, 0, 0, 0, 0],\n",
       "        [1, 1, 1, 1, 1],\n",
       "        [2, 2, 2, 2, 2],\n",
       "        [3, 3, 3, 3, 3],\n",
       "        [4, 4, 4, 4, 4]]))"
      ]
     },
     "execution_count": 15,
     "metadata": {},
     "output_type": "execute_result"
    }
   ],
   "source": [
    "# meshgrid() : x 값의 배열과 y 값의 배열로 직사각형 격자행렬을 만든다\n",
    "\n",
    "xval = np.array([0, 1, 2, 3, 4]);\n",
    "yval = np.array([0, 1, 2, 3, 4]);\n",
    "\n",
    "x, y = np.meshgrid(xval, yval)\n",
    "x, y\n",
    "\n",
    "\n",
    "# x[0,0] = 0    y[0,0] = 0\n",
    "# x[0,1] = 1    y[0,1] = 0\n",
    "# x[0,2] = 2    y[0,2] = 0\n",
    "# x[0,3] = 3    y[0,3] = 0\n",
    "# x[0,4] = 4    y[0,4] = 0\n",
    "# x[1,0] = 0    y[1,0] = 1\n",
    "# x[1,1] = 1    y[1,1] = 1\n",
    "# ...\n",
    "# x[4,3] = 3    y[4,3] = 4\n",
    "# x[4,4] = 4    y[4,4] = 4\n",
    "\n",
    "# x =   0 1 2 3 4        y =   0 0 0 0 0\n",
    "#       0 1 2 3 4              1 1 1 1 1\n",
    "#       0 1 2 3 4              2 2 2 2 2\n",
    "#       0 1 2 3 4              3 3 3 3 3\n",
    "#       0 1 2 3 4              4 4 4 4 4"
   ]
  },
  {
   "cell_type": "code",
   "execution_count": 16,
   "metadata": {},
   "outputs": [
    {
     "data": {
      "text/plain": [
       "array([1, 2, 3, 4])"
      ]
     },
     "execution_count": 16,
     "metadata": {},
     "output_type": "execute_result"
    }
   ],
   "source": [
    "#  ravel() : ravel은 \"풀다\"로 다차원을 1차원으로 푸는 것을 의미한다\n",
    "a1 = np.array([[1,2],\n",
    "               [3,4]])\n",
    "a2 = a1.ravel() # 또는 a2 = a1.reshape(-1) 또는 a2 = a1.flatten()\n",
    "a2"
   ]
  },
  {
   "cell_type": "code",
   "execution_count": 17,
   "metadata": {},
   "outputs": [
    {
     "data": {
      "text/plain": [
       "array([[1, 4],\n",
       "       [2, 5],\n",
       "       [3, 6]])"
      ]
     },
     "execution_count": 17,
     "metadata": {},
     "output_type": "execute_result"
    }
   ],
   "source": [
    "# np.c_[]  : 두 개의 1차원 배열을 칼럼으로 세로로 붙여서 2차원 배열 만들기\n",
    "# https://rfriend.tistory.com/352\n",
    "\n",
    "a = np.array([1,2,3])\n",
    "b = np.array([4,5,6])\n",
    "c = np.c_[a,b]\n",
    "c"
   ]
  },
  {
   "cell_type": "code",
   "execution_count": 18,
   "metadata": {},
   "outputs": [
    {
     "data": {
      "image/png": "[encoded data removed]",
      "text/plain": [
       "<Figure size 432x288 with 2 Axes>"
      ]
     },
     "metadata": {
      "needs_background": "light"
     },
     "output_type": "display_data"
    }
   ],
   "source": [
    "# plt.contourf() : 등고선  플롯 , 경계를 채운다\n",
    "# http://www.gisdeveloper.co.kr/?p=10192\n",
    "# https://rfriend.tistory.com/547\n",
    "\n",
    "import matplotlib.pyplot as plt\n",
    "import matplotlib.tri as tri\n",
    "import numpy as np\n",
    "npts = 100\n",
    "x = np.random.uniform(-2, 2, npts)\n",
    "y = np.random.uniform(-2, 2, npts)\n",
    "z = x * np.exp(-x**2 - y**2)\n",
    "ngridx = 100\n",
    "ngridy = 100\n",
    "xi = np.linspace(-2.2, 2.2, ngridx)\n",
    "yi = np.linspace(-2.2, 2.2, ngridy)\n",
    "triang = tri.Triangulation(x, y)\n",
    "interpolator = tri.LinearTriInterpolator(triang, z)\n",
    "Xi, Yi = np.meshgrid(xi, yi)\n",
    "zi = interpolator(Xi, Yi)\n",
    "\n",
    "\n",
    "plt.contour(xi, yi, zi, levels=15, linewidths=0.5, colors='k')\n",
    "cntr = plt.contourf(xi, yi, zi, levels=15, cmap=\"RdBu_r\")\n",
    "plt.colorbar(cntr)\n",
    "plt.plot(x, y, 'ko', ms=3)\n",
    "plt.show()"
   ]
  },
  {
   "cell_type": "code",
   "execution_count": null,
   "metadata": {},
   "outputs": [],
   "source": []
  }
 ],
 "metadata": {
  "kernelspec": {
   "display_name": "Python 3",
   "language": "python",
   "name": "python3"
  },
  "language_info": {
   "codemirror_mode": {
    "name": "ipython",
    "version": 3
   },
   "file_extension": ".py",
   "mimetype": "text/x-python",
   "name": "python",
   "nbconvert_exporter": "python",
   "pygments_lexer": "ipython3",
   "version": "3.7.7"
  }
 },
 "nbformat": 4,
 "nbformat_minor": 4
}
