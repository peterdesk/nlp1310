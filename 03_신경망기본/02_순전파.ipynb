{
 "cells": [
  {
   "cell_type": "markdown",
   "metadata": {},
   "source": [
    "### 미니배치 버전 파이썬 구현"
   ]
  },
  {
   "cell_type": "code",
   "execution_count": 3,
   "metadata": {},
   "outputs": [
    {
     "data": {
      "text/plain": [
       "array([[0.51207176, 0.07482727],\n",
       "       [0.05977375, 0.03501587],\n",
       "       [0.19901423, 0.29235501],\n",
       "       [0.64761183, 0.87246631],\n",
       "       [0.56884365, 0.81995161],\n",
       "       [0.29455914, 0.02447365],\n",
       "       [0.7331866 , 0.46423448],\n",
       "       [0.73163077, 0.89479288],\n",
       "       [0.127178  , 0.07522481],\n",
       "       [0.40066274, 0.90792202]])"
      ]
     },
     "execution_count": 3,
     "metadata": {},
     "output_type": "execute_result"
    }
   ],
   "source": [
    "import numpy as np\n",
    "\n",
    "X = np.random.rand(10,2)\n",
    "X"
   ]
  },
  {
   "cell_type": "code",
   "execution_count": 4,
   "metadata": {},
   "outputs": [
    {
     "data": {
      "text/plain": [
       "array([[0.07375378, 0.68886511, 0.16210787, 0.43783836],\n",
       "       [0.32199162, 0.17518231, 0.43824421, 0.00275161]])"
      ]
     },
     "execution_count": 4,
     "metadata": {},
     "output_type": "execute_result"
    }
   ],
   "source": [
    "W1 = np.random.rand(2,4)\n",
    "W1"
   ]
  },
  {
   "cell_type": "code",
   "execution_count": 6,
   "metadata": {},
   "outputs": [
    {
     "data": {
      "text/plain": [
       "array([0.30364394, 0.30572006, 0.13531587, 0.82646522])"
      ]
     },
     "execution_count": 6,
     "metadata": {},
     "output_type": "execute_result"
    }
   ],
   "source": [
    "b1 = np.random.rand(4)\n",
    "b1"
   ]
  },
  {
   "cell_type": "code",
   "execution_count": 7,
   "metadata": {},
   "outputs": [
    {
     "data": {
      "text/plain": [
       "array([[0.36550492, 0.67157685, 0.25111935, 1.05087578],\n",
       "       [0.31932729, 0.35303028, 0.16035116, 0.85273281],\n",
       "       [0.41245786, 0.49402945, 0.29570054, 0.91440573],\n",
       "       [0.6323346 , 0.90467792, 0.62265216, 1.11241521],\n",
       "       [0.60961586, 0.84121763, 0.58686895, 1.07778298],\n",
       "       [0.3332491 , 0.51291893, 0.19379166, 0.95550185],\n",
       "       [0.50719883, 0.8921124 , 0.45761926, 1.14875983],\n",
       "       [0.64572028, 0.96646686, 0.64605678, 1.14926336],\n",
       "       [0.33724556, 0.40650661, 0.18889926, 0.88235562],\n",
       "       [0.62553762, 0.74077453, 0.59815803, 1.00438898]])"
      ]
     },
     "execution_count": 7,
     "metadata": {},
     "output_type": "execute_result"
    }
   ],
   "source": [
    "H = np.matmul(X,W1) + b1\n",
    "H"
   ]
  },
  {
   "cell_type": "markdown",
   "metadata": {},
   "source": [
    "### 시그모이드 함수"
   ]
  },
  {
   "cell_type": "code",
   "execution_count": 9,
   "metadata": {},
   "outputs": [],
   "source": [
    "def sigmoid(x):\n",
    "    return 1 / (1 + np.exp(-x))"
   ]
  },
  {
   "cell_type": "code",
   "execution_count": 13,
   "metadata": {},
   "outputs": [
    {
     "data": {
      "image/png": "[encoded data removed]",
      "text/plain": [
       "<Figure size 432x288 with 1 Axes>"
      ]
     },
     "metadata": {
      "needs_background": "light"
     },
     "output_type": "display_data"
    }
   ],
   "source": [
    "import matplotlib.pyplot as plt\n",
    "zs = np.arange(-10,10,0.1)\n",
    "gs = [sigmoid(z) for z in zs]\n",
    "plt.plot(zs,gs)\n",
    "plt.xlabel('z')   # z = - (X*W + b)\n",
    "plt.ylabel('1/(1+e^z)')\n",
    "plt.show()"
   ]
  },
  {
   "cell_type": "code",
   "execution_count": 14,
   "metadata": {},
   "outputs": [
    {
     "data": {
      "text/plain": [
       "array([[0.76802146, 0.87316972, 0.67380589, 0.88829378],\n",
       "       [0.65841716, 0.7670819 , 0.5254123 , 0.7382789 ],\n",
       "       [0.71453085, 0.8435206 , 0.6573935 , 0.85626389],\n",
       "       [0.63810165, 0.77945682, 0.5862905 , 0.77092925],\n",
       "       [0.5807776 , 0.71791526, 0.51781488, 0.67966012],\n",
       "       [0.73131482, 0.83593153, 0.60770643, 0.83707967],\n",
       "       [0.77290345, 0.88653419, 0.71486517, 0.90779967],\n",
       "       [0.6912362 , 0.80484374, 0.57747255, 0.79602349],\n",
       "       [0.71285325, 0.81254397, 0.56603265, 0.80137467],\n",
       "       [0.6624688 , 0.79113394, 0.58233308, 0.78245049]])"
      ]
     },
     "execution_count": 14,
     "metadata": {},
     "output_type": "execute_result"
    }
   ],
   "source": [
    "# 1 Layer Logistic Regression(Binary classification)\n",
    "X = np.random.rand(10,2)\n",
    "W1 = np.random.rand(2,4)\n",
    "b1 = np.random.rand(4)\n",
    "a = np.matmul(X,W1) + b1\n",
    "h = sigmoid(a)\n",
    "h"
   ]
  },
  {
   "cell_type": "code",
   "execution_count": 15,
   "metadata": {},
   "outputs": [
    {
     "data": {
      "text/plain": [
       "array([[0.88270212, 0.90260437, 0.71868126],\n",
       "       [0.87285511, 0.89497914, 0.71019516],\n",
       "       [0.87916726, 0.90213535, 0.71612533],\n",
       "       [0.85557077, 0.88557566, 0.69670963],\n",
       "       [0.8712525 , 0.89769903, 0.70973188],\n",
       "       [0.88085127, 0.90336546, 0.71757125],\n",
       "       [0.86506825, 0.89011899, 0.70390591],\n",
       "       [0.87088534, 0.89843625, 0.70966022],\n",
       "       [0.87263798, 0.89891567, 0.71094405],\n",
       "       [0.87628245, 0.9010261 , 0.71389773]])"
      ]
     },
     "execution_count": 15,
     "metadata": {},
     "output_type": "execute_result"
    }
   ],
   "source": [
    "# 2 Layer Logistic Regression(Binary classification)\n",
    "X = np.random.rand(10,2)\n",
    "W1 = np.random.rand(2,4)\n",
    "b1 = np.random.rand(4)\n",
    "\n",
    "W2 = np.random.rand(4,3)\n",
    "b2 = np.random.rand(3)\n",
    "\n",
    "# layer1\n",
    "a1 = np.matmul(X,W1) + b1\n",
    "s1 = sigmoid(a1)\n",
    "\n",
    "# layer2\n",
    "a2 = np.matmul(s1,W2) + b2\n",
    "h = sigmoid(a2)\n",
    "h"
   ]
  },
  {
   "cell_type": "markdown",
   "metadata": {},
   "source": [
    "## 계층으로 클래스화 및 순전파 구현"
   ]
  },
  {
   "cell_type": "code",
   "execution_count": 16,
   "metadata": {},
   "outputs": [],
   "source": [
    "# sigmoid layer의 순전파 구현\n",
    "class Sigmoid:\n",
    "    def __init__(self):\n",
    "        self.params = []\n",
    "        \n",
    "    def forward(self,x):\n",
    "        return 1 / (1 + np.exp(-x))\n",
    "\n",
    "# H(x) = W*X + b     \n",
    "class Affine: # 행렬의 내적을 아핀(Affine) 변환이라고 하며, Affine 계층을 통해 이 변환을 수행처리함 \n",
    "    def __init__(self,W,b):\n",
    "        self.params = [W,b]\n",
    "        \n",
    "    def forward(self,x) :\n",
    "        W,b = self.params\n",
    "        out = np.dot(x,W) + b\n",
    "        return out"
   ]
  },
  {
   "cell_type": "code",
   "execution_count": 18,
   "metadata": {},
   "outputs": [],
   "source": [
    "#  모델 구현\n",
    "class TwoLayerNet:\n",
    "    def __init__(self,input_size,hidden_size,output_size):\n",
    "        I,H,O = input_size, hidden_size, output_size\n",
    "        \n",
    "        # Weight 과 bias 초기화\n",
    "        W1 = np.random.rand(I,H)\n",
    "        b1 = np.random.rand(H)\n",
    "        \n",
    "        W2 = np.random.rand(H,O)\n",
    "        b2 = np.random.rand(O)\n",
    "        \n",
    "        # 계층 생성\n",
    "        self.layers = [\n",
    "            Affine(W1,b1),\n",
    "            Sigmoid(),\n",
    "            Affine(W2,b2),\n",
    "            Sigmoid(),            \n",
    "        ]\n",
    "        \n",
    "        self.params = []\n",
    "        for layer in self.layers:\n",
    "            self.params += layer.params\n",
    "            \n",
    "    def predict(self,x):\n",
    "        for layer in self.layers:\n",
    "            x = layer.forward(x)\n",
    "        return x\n",
    "    \n",
    "# t = TwoLayerNet(2,4,3) \n",
    "# t.params"
   ]
  },
  {
   "cell_type": "code",
   "execution_count": 19,
   "metadata": {},
   "outputs": [
    {
     "data": {
      "text/plain": [
       "['W1', 'b1', 'W2', 'b2']"
      ]
     },
     "execution_count": 19,
     "metadata": {},
     "output_type": "execute_result"
    }
   ],
   "source": [
    "# 모든 가중치를 모은다\n",
    "#         self.params = []\n",
    "#         for layer in self.layers:\n",
    "#             self.params += layer.params\n",
    "a = ['W1','b1']\n",
    "a += ['W2','b2']\n",
    "a"
   ]
  },
  {
   "cell_type": "code",
   "execution_count": 23,
   "metadata": {},
   "outputs": [
    {
     "name": "stdout",
     "output_type": "stream",
     "text": [
      "[array([[0.97843844, 0.92553931, 0.63048501, 0.43356705],\n",
      "       [0.37938367, 0.85414289, 0.47485417, 0.12267301]]), array([0.29531417, 0.37753938, 0.32716545, 0.5666009 ]), array([[0.58411331, 0.056289  , 0.04307618],\n",
      "       [0.96941835, 0.88384421, 0.12428754],\n",
      "       [0.12667095, 0.3692485 , 0.51824123],\n",
      "       [0.05268935, 0.21676407, 0.28852326]]), array([0.96896068, 0.49248867, 0.10285974])]\n",
      "[[0.90263994 0.8307338  0.68575349]\n",
      " [0.89918561 0.82806153 0.68191108]\n",
      " [0.92024861 0.85483136 0.7057    ]\n",
      " [0.88890701 0.81434641 0.67295168]\n",
      " [0.90427919 0.8350501  0.68676603]\n",
      " [0.90236973 0.83013174 0.68557021]\n",
      " [0.91208224 0.84390423 0.69549166]\n",
      " [0.90906239 0.83969457 0.69219873]\n",
      " [0.89953271 0.8268127  0.68272593]\n",
      " [0.91635994 0.85008093 0.70045891]] (10, 3)\n"
     ]
    }
   ],
   "source": [
    "X = np.random.rand(10,2)\n",
    "model = TwoLayerNet(2,4,3) # shape을 정확히 맞추어 설정\n",
    "# 여기에서는 학습 수행 부분은 없음\n",
    "# random 값을 그대로 가중치(파라메터)로 사용\n",
    "s = model.predict(X)\n",
    "print(s,s.shape)"
   ]
  },
  {
   "cell_type": "code",
   "execution_count": 24,
   "metadata": {},
   "outputs": [
    {
     "data": {
      "text/plain": [
       "[array([[0.97843844, 0.92553931, 0.63048501, 0.43356705],\n",
       "        [0.37938367, 0.85414289, 0.47485417, 0.12267301]]),\n",
       " array([0.29531417, 0.37753938, 0.32716545, 0.5666009 ]),\n",
       " array([[0.58411331, 0.056289  , 0.04307618],\n",
       "        [0.96941835, 0.88384421, 0.12428754],\n",
       "        [0.12667095, 0.3692485 , 0.51824123],\n",
       "        [0.05268935, 0.21676407, 0.28852326]]),\n",
       " array([0.96896068, 0.49248867, 0.10285974])]"
      ]
     },
     "execution_count": 24,
     "metadata": {},
     "output_type": "execute_result"
    }
   ],
   "source": [
    "model.params"
   ]
  },
  {
   "cell_type": "code",
   "execution_count": null,
   "metadata": {},
   "outputs": [],
   "source": []
  }
 ],
 "metadata": {
  "kernelspec": {
   "display_name": "Python 3",
   "language": "python",
   "name": "python3"
  },
  "language_info": {
   "codemirror_mode": {
    "name": "ipython",
    "version": 3
   },
   "file_extension": ".py",
   "mimetype": "text/x-python",
   "name": "python",
   "nbconvert_exporter": "python",
   "pygments_lexer": "ipython3",
   "version": "3.7.7"
  }
 },
 "nbformat": 4,
 "nbformat_minor": 4
}
