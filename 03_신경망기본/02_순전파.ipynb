{
 "cells": [
  {
   "cell_type": "markdown",
   "metadata": {},
   "source": [
    "### 미니배치 버전 파이썬 구현"
   ]
  },
  {
   "cell_type": "code",
   "execution_count": 3,
   "metadata": {},
   "outputs": [
    {
     "data": {
      "text/plain": [
       "array([[0.51207176, 0.07482727],\n",
       "       [0.05977375, 0.03501587],\n",
       "       [0.19901423, 0.29235501],\n",
       "       [0.64761183, 0.87246631],\n",
       "       [0.56884365, 0.81995161],\n",
       "       [0.29455914, 0.02447365],\n",
       "       [0.7331866 , 0.46423448],\n",
       "       [0.73163077, 0.89479288],\n",
       "       [0.127178  , 0.07522481],\n",
       "       [0.40066274, 0.90792202]])"
      ]
     },
     "execution_count": 3,
     "metadata": {},
     "output_type": "execute_result"
    }
   ],
   "source": [
    "import numpy as np\n",
    "\n",
    "X = np.random.rand(10,2)\n",
    "X"
   ]
  },
  {
   "cell_type": "code",
   "execution_count": 4,
   "metadata": {},
   "outputs": [
    {
     "data": {
      "text/plain": [
       "array([[0.07375378, 0.68886511, 0.16210787, 0.43783836],\n",
       "       [0.32199162, 0.17518231, 0.43824421, 0.00275161]])"
      ]
     },
     "execution_count": 4,
     "metadata": {},
     "output_type": "execute_result"
    }
   ],
   "source": [
    "W1 = np.random.rand(2,4)\n",
    "W1"
   ]
  },
  {
   "cell_type": "code",
   "execution_count": 6,
   "metadata": {},
   "outputs": [
    {
     "data": {
      "text/plain": [
       "array([0.30364394, 0.30572006, 0.13531587, 0.82646522])"
      ]
     },
     "execution_count": 6,
     "metadata": {},
     "output_type": "execute_result"
    }
   ],
   "source": [
    "b1 = np.random.rand(4)\n",
    "b1"
   ]
  },
  {
   "cell_type": "code",
   "execution_count": 7,
   "metadata": {},
   "outputs": [
    {
     "data": {
      "text/plain": [
       "array([[0.36550492, 0.67157685, 0.25111935, 1.05087578],\n",
       "       [0.31932729, 0.35303028, 0.16035116, 0.85273281],\n",
       "       [0.41245786, 0.49402945, 0.29570054, 0.91440573],\n",
       "       [0.6323346 , 0.90467792, 0.62265216, 1.11241521],\n",
       "       [0.60961586, 0.84121763, 0.58686895, 1.07778298],\n",
       "       [0.3332491 , 0.51291893, 0.19379166, 0.95550185],\n",
       "       [0.50719883, 0.8921124 , 0.45761926, 1.14875983],\n",
       "       [0.64572028, 0.96646686, 0.64605678, 1.14926336],\n",
       "       [0.33724556, 0.40650661, 0.18889926, 0.88235562],\n",
       "       [0.62553762, 0.74077453, 0.59815803, 1.00438898]])"
      ]
     },
     "execution_count": 7,
     "metadata": {},
     "output_type": "execute_result"
    }
   ],
   "source": [
    "H = np.matmul(X,W1) + b1\n",
    "H"
   ]
  },
  {
   "cell_type": "code",
   "execution_count": null,
   "metadata": {},
   "outputs": [],
   "source": []
  }
 ],
 "metadata": {
  "kernelspec": {
   "display_name": "Python 3",
   "language": "python",
   "name": "python3"
  },
  "language_info": {
   "codemirror_mode": {
    "name": "ipython",
    "version": 3
   },
   "file_extension": ".py",
   "mimetype": "text/x-python",
   "name": "python",
   "nbconvert_exporter": "python",
   "pygments_lexer": "ipython3",
   "version": "3.7.7"
  }
 },
 "nbformat": 4,
 "nbformat_minor": 4
}
