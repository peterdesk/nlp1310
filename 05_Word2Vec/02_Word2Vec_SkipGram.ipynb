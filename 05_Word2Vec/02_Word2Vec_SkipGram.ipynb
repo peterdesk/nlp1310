{
 "cells": [
  {
   "cell_type": "markdown",
   "metadata": {},
   "source": [
    "### Skip-Gram 모델 구현"
   ]
  },
  {
   "cell_type": "code",
   "execution_count": 1,
   "metadata": {},
   "outputs": [],
   "source": [
    "from mynlp import preprocess, create_contexts_target, convert_one_hot\n",
    "from nn_layers import MatMul, SoftmaxWithLoss, Adam, SGD, Trainer\n",
    "import numpy as np\n",
    "\n",
    "# contexts와 target을 구하는 함수 : mynlp.py에 추가해 놓는다\n",
    "# convert_one_hot 원핫 변환 함수 : mynlp.py 에 추가해 놓는다\n",
    "# Trainer 클래스  : nn_layers에 추가해 놓는다"
   ]
  },
  {
   "cell_type": "code",
   "execution_count": null,
   "metadata": {},
   "outputs": [],
   "source": [
    "class SimpleSkipGram:\n",
    "    def __init__(self,vocab_size, hidden_size): # vocab_size=7,hidden_size5\n",
    "        V, H = vocab_size, hidden_size\n",
    "        \n",
    "        # 가중치 초기화\n",
    "        W_in = 0.01*np.random.randn(V,H).astype('f') # (7,5)\n",
    "        W_out = 0.01*np.random.randn(H,V).astype('f') # (5,7)\n",
    "        \n",
    "        # 계층 생성\n",
    "        self.in_layer = MatMul(W_in)         # (6,7)*(7,5) = (6,5)\n",
    "        self.out_layer = MatMul(W_out)       # (6,5)*(5,7) = (6,7)\n",
    "        self.loss_layer1 = SoftmaxWithLoss()\n",
    "        self.loss_layer2 = SoftmaxWithLoss()\n",
    "\n",
    "        # 모든 가중치와 기울기를 리스트에 모은다.\n",
    "        layers = [self.in_layer, self.out_layer]\n",
    "        self.params, self.grads = [],[]\n",
    "        for layer in layers : # 2회\n",
    "            self.params += layer.params\n",
    "            self.grads += layer.grads\n",
    "\n",
    "        # 인스턴스 변수 단어의 분산 표현을 저장한다.    \n",
    "        self.word_vec = W_in \n",
    "        \n",
    "    def predict(self, target):  # target: 입력값\n",
    "        h = self.in_layer.forward(target)\n",
    "        s = self.out_layer.forward(h)\n",
    "        return s\n",
    "        \n",
    "    def forward(self, contexts, target):  # contexts : 실제값  (6,2,7) 3차원, target: 입력값\n",
    "        h = self.in_layer.forward(target)  # (6,5)\n",
    "        s = self.out_layer.forward(h)      # (6,7)\n",
    "        l1 = self.loss_layer1.forward(s,contexts[:,0])\n",
    "        l2 = self.loss_layer2.forward(s,contexts[:,1])\n",
    "        loss = l1 + l2\n",
    "        return loss\n",
    "            \n",
    "        "
   ]
  }
 ],
 "metadata": {
  "kernelspec": {
   "display_name": "Python 3",
   "language": "python",
   "name": "python3"
  },
  "language_info": {
   "codemirror_mode": {
    "name": "ipython",
    "version": 3
   },
   "file_extension": ".py",
   "mimetype": "text/x-python",
   "name": "python",
   "nbconvert_exporter": "python",
   "pygments_lexer": "ipython3",
   "version": "3.7.7"
  }
 },
 "nbformat": 4,
 "nbformat_minor": 4
}
