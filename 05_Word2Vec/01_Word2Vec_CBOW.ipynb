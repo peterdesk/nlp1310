{
 "cells": [
  {
   "cell_type": "markdown",
   "metadata": {},
   "source": [
    "## 추론(예측) 기반 기법과 신경망\n",
    "\n",
    "## word2vec : 워드투벡터\n",
    "2013년 구글의 토마스미콜로프(Tomas Mikolov)의 팀이 개발<br>\n",
    "<b>word2vec</b> 알고리즘은 <b>신경망 모델</b>을 사용 하여 큰 텍스트 코퍼스에서 단어 연관성을 학습. 학습이 끝나면 이러한 모델은 동의어 단어를 감지하거나 부분 문장에 대한 추가 단어를 제안 할 수 있다. word2vec는 <b>벡터</b> 라고하는 특정 숫자 목록을 사용하여 각각의 고유 한 단어를 나타낸다 . 벡터는 간단한 수학적 함수 ( 벡터 간의 코사인 유사성 ) 가 해당 벡터가 나타내는 단어 간의 의미 유사성 수준을 나타내 도록 신중하게 선택 된다."
   ]
  },
  {
   "cell_type": "markdown",
   "metadata": {},
   "source": [
    "### [1] 신경망에서의 단어 처리"
   ]
  },
  {
   "cell_type": "code",
   "execution_count": 1,
   "metadata": {},
   "outputs": [
    {
     "name": "stdout",
     "output_type": "stream",
     "text": [
      "c:\n",
      " [[1 0 0 0 0 0 0]]\n",
      "W:\n",
      " [[ 1.613502   -1.34728933  0.02434873]\n",
      " [ 0.02111837 -0.03013504  0.79141629]\n",
      " [-2.4272505  -0.42594975 -1.43560386]\n",
      " [ 0.53542395 -0.50431327  0.02325545]\n",
      " [-0.86834035 -0.10956789  0.86183895]\n",
      " [-0.7977748   1.09505595  1.9888196 ]\n",
      " [ 1.79993577  2.03640878 -1.19672543]]\n",
      "h:\n",
      " [[ 1.613502   -1.34728933  0.02434873]]\n"
     ]
    }
   ],
   "source": [
    "import numpy as np\n",
    "\n",
    "text = 'You say goodbye and I say hello.' \n",
    "# {0: 'you', 1: 'say', 2: 'goodbye', 3: 'and', 4: 'i', 5: 'hello', 6: '.'}\n",
    "\n",
    "# 여기서 'you'만  one-hot 인코딩으로 표현\n",
    "c = np.array([[1,0,0,0,0,0,0]])   # (1,7)\n",
    "print('c:\\n',c)\n",
    "\n",
    "W = np.random.randn(7,3)          # (7,3)\n",
    "print('W:\\n',W)\n",
    "\n",
    "h = np.matmul(c,W)    # (1,7) * (7,3) = (1,3)\n",
    "print('h:\\n',h)"
   ]
  },
  {
   "cell_type": "code",
   "execution_count": 2,
   "metadata": {},
   "outputs": [],
   "source": [
    "class MatMul:\n",
    "    def __init__(self,W):\n",
    "        self.params = [W]\n",
    "        self.grads = [np.zeros_like(W)]\n",
    "        self.x = None\n",
    "        \n",
    "    def forward(self,x):\n",
    "        W, = self.params\n",
    "        out = np.dot(x,W)\n",
    "        self.x = x\n",
    "        return out\n",
    "        \n",
    "    def backward(self,dout):\n",
    "        W = self.params\n",
    "        dx = np.dot(dout,W.T)\n",
    "        dw = np.dot(self.x.T,dout)\n",
    "        self.grads[0][...] = dw  # 깊은복사\n",
    "        return dx"
   ]
  },
  {
   "cell_type": "code",
   "execution_count": 3,
   "metadata": {},
   "outputs": [
    {
     "name": "stdout",
     "output_type": "stream",
     "text": [
      "c:\n",
      " [[1 0 0 0 0 0 0]]\n",
      "W:\n",
      " [[ 0.58923782 -0.08748505  1.02647321]\n",
      " [-1.48044567 -0.07881827  0.76005183]\n",
      " [ 0.84877607 -0.30847944 -0.97889266]\n",
      " [-0.29810366  0.63798968 -1.1662619 ]\n",
      " [ 1.97785018 -1.31956523 -0.19068439]\n",
      " [ 0.59253427 -0.04640893  0.62105236]\n",
      " [-0.26013672  2.20270012 -0.6873332 ]]\n",
      "h:\n",
      " [[ 0.58923782 -0.08748505  1.02647321]]\n"
     ]
    }
   ],
   "source": [
    "text = 'You say goodbye and I say hello.' \n",
    "# {0: 'you', 1: 'say', 2: 'goodbye', 3: 'and', 4: 'i', 5: 'hello', 6: '.'}\n",
    "\n",
    "# 여기서 'you'만  one-hot 인코딩으로 표현\n",
    "c = np.array([[1,0,0,0,0,0,0]])   # (1,7)\n",
    "print('c:\\n',c)\n",
    "\n",
    "W = np.random.randn(7,3)          # (7,3)\n",
    "print('W:\\n',W)\n",
    "\n",
    "layer = MatMul(W)\n",
    "h = layer.forward(c)\n",
    "print('h:\\n',h)"
   ]
  },
  {
   "cell_type": "markdown",
   "metadata": {},
   "source": [
    "## [2] 단순한 word2vec"
   ]
  },
  {
   "cell_type": "markdown",
   "metadata": {},
   "source": [
    "### CBOW (Continuous Bag of Words) 모델\n",
    "\n",
    "#### Word2Vec에는 CBOW(Continuous Bag of Words)와 Skip-Gram 두 가지 방식이 있다\n",
    "- $ CBOW $ 는 주변에 있는 단어들을 가지고, 중간에 있는 단어들을 예측하는 방법 <br>\n",
    "  타깃(target)은 중앙 단어 그 주변 단어들이 맥락(contexts)이다\n",
    "- $ Skip-Gram $ 은 중간에 있는 단어로 주변 단어들을 예측하는 방법\n",
    "\n",
    "#### BOW(Bag of Words) : 단어들의 순서는 전혀 고려하지 않고, 단어들의 출현 빈도(frequency)에만 집중하는 텍스트 데이터의 수치화 표현 방법\n",
    "\n",
    "BOW를 만드는 과정<br>\n",
    "(1) 우선, 각 단어의 고유한 인덱스(Index)를 부여한다.<br>\n",
    "(2) 각 인덱스의 위치에 단어 토큰의 등장 횟수를 기록한 벡터(Vector)를 만든다.<br>\n",
    "\n",
    "\"정부가 발표하는 물가상승률과 소비자가 느끼는 물가상승률은 다르다.\"<br>\n",
    "('정부': 0, '가': 1, '발표': 2, '하는': 3, '물가상승률': 4, '과': 5, '소비자': 6, '느끼는': 7, '은': 8, '다르다': 9) <br>\n",
    "BOW: [1, 2, 1, 1, 2, 1, 1, 1, 1, 1]  ==> '가' 와 '물가상승률' 은 2회 발생"
   ]
  },
  {
   "cell_type": "code",
   "execution_count": 8,
   "metadata": {},
   "outputs": [
    {
     "name": "stdout",
     "output_type": "stream",
     "text": [
      "[[-1.44852915 -0.99582266  1.53002102]] (1, 3)\n",
      "[[ 0.31298497 -0.71669388 -1.73666913  4.18354959 -2.34530272 -3.16151587\n",
      "  -6.25918773]] (1, 7)\n"
     ]
    }
   ],
   "source": [
    "# (CBOW 전체구조의 Preview)\n",
    "# 샘플 맥락 데이터 : 2개의 주변 단어를 맥락으로 중간 단어('say')를 예측\n",
    "\n",
    "text = 'You say goodbye and I say hello.' \n",
    "\n",
    "# 2개의 주변 단어를 one-hot 벡터 생성\n",
    "c0 = np.array([[1,0,0,0,0,0,0]])  # 'you' , (1,7)\n",
    "c1 = np.array([[0,0,1,0,0,0,0]])  # 'goodbye' , (1,7)\n",
    "\n",
    "# 가중치 초기화\n",
    "W_in = np.random.randn(7,3)\n",
    "W_out = np.random.randn(3,7)\n",
    "\n",
    "# 계층 생성\n",
    "in_layer0 = MatMul(W_in)\n",
    "in_layer1 = MatMul(W_in)\n",
    "out_layer = MatMul(W_out)\n",
    "\n",
    "# 순전파\n",
    "h0 = in_layer0.forward(c0) # (1,7) * (7,3) = (1,3)\n",
    "h1 = in_layer1.forward(c1) # (1,7) * (7,3) = (1,3)\n",
    "h = 0.5*(h0 + h1)\n",
    "print(h,h.shape)\n",
    "s = out_layer.forward(h)   # (1,3) * (3,7) = (1,7)\n",
    "print(s,s.shape)            "
   ]
  },
  {
   "cell_type": "markdown",
   "metadata": {},
   "source": [
    "## [3] 학습 데이터 준비"
   ]
  },
  {
   "cell_type": "code",
   "execution_count": 9,
   "metadata": {},
   "outputs": [],
   "source": [
    "from mynlp import preprocess\n",
    "import matplotlib.pyplot as plt"
   ]
  },
  {
   "cell_type": "code",
   "execution_count": 11,
   "metadata": {},
   "outputs": [
    {
     "name": "stdout",
     "output_type": "stream",
     "text": [
      "[0 1 2 3 4 1 5 6]\n",
      "{0: 'you', 1: 'say', 2: 'goodbye', 3: 'and', 4: 'i', 5: 'hello', 6: '.'}\n"
     ]
    }
   ],
   "source": [
    "text = 'You say goodbye and I say hello.' \n",
    "corpus, word_to_id, id_to_word = preprocess(text)\n",
    "print(corpus)      # 8 개\n",
    "print(id_to_word)  # 7 개"
   ]
  },
  {
   "cell_type": "code",
   "execution_count": 16,
   "metadata": {},
   "outputs": [
    {
     "name": "stdout",
     "output_type": "stream",
     "text": [
      "target: [1 2 3 4 1 5]\n",
      "contexts:\n",
      " [[0 2]\n",
      " [1 3]\n",
      " [2 4]\n",
      " [3 1]\n",
      " [4 5]\n",
      " [1 6]]\n"
     ]
    }
   ],
   "source": [
    "# target : (6,)\n",
    "target = corpus[1:-1]  # 타깃(중간단어) : [1 2 3 4 1 5], 첫번째와 마지막 단어 제외\n",
    "print('target:',target)\n",
    "\n",
    "contexts = []\n",
    "for idx in range(1,len(corpus) - 1 ): # 1 to 6,6회 반복 , 중간단어마다 앞뒤 주변단어 조합 6가지\n",
    "    cs = []\n",
    "    for t in range(-1,2): # 3회, -1,0,1\n",
    "        if t == 0:\n",
    "            continue\n",
    "        cs.append(corpus[idx + t]) \n",
    "    contexts.append(cs)  \n",
    "\n",
    "print('contexts:\\n',np.array(contexts))   "
   ]
  },
  {
   "cell_type": "code",
   "execution_count": 17,
   "metadata": {},
   "outputs": [],
   "source": [
    "# contexts와 target을 구하는 함수\n",
    "def create_contexts_target(corpus,window_size=1):\n",
    "    target = corpus[window_size:-window_size]  \n",
    "\n",
    "    contexts = []\n",
    "    for idx in(range(window_size,len(corpus) -window_size)): \n",
    "        cs = []\n",
    "        for t in range(-window_size,window_size+1) : \n",
    "            if t == 0: \n",
    "                continue\n",
    "            cs.append(corpus[idx + t]) \n",
    "        contexts.append(cs)\n",
    "    return np.array(contexts),np.array(target) "
   ]
  },
  {
   "cell_type": "code",
   "execution_count": 28,
   "metadata": {},
   "outputs": [
    {
     "name": "stdout",
     "output_type": "stream",
     "text": [
      "[[0 2]\n",
      " [1 3]\n",
      " [2 4]\n",
      " [3 1]\n",
      " [4 5]\n",
      " [1 6]]\n"
     ]
    }
   ],
   "source": [
    "contexts,target = create_contexts_target(corpus,window_size=1)\n",
    "print(contexts)  # (6,2)\n",
    "\n",
    "# 맥락(contexts) : 예측할 단어의 주변 단어\n",
    "# {0: 'you', 1: 'say', 2: 'goodbye', 3: 'and', 4: 'i', 5: 'hello', 6: '.'}\n",
    "# window_size=1 일 경우 : 주변 단어를 중간 단어에 앞,뒤로 1개만 사용\n",
    "# [[0 2]   : 'you', 'goodbye'\n",
    "#  [1 3]   : 'say', 'and'\n",
    "#  [2 4]   : 'goodbye', 'i'\n",
    "#  [3 1]   : 'and', 'say'\n",
    "#  [4 5]   : 'i', 'hello'\n",
    "#  [1 6]]  : 'say', '.'\n",
    "\n",
    "# window_size=2 일 경우 : : 주변 단어를 중간 단어에 앞,뒤로 2개 사용\n",
    "# [[0 1 3 4]\n",
    "#  [1 2 4 1]\n",
    "#  [2 3 1 5]\n",
    "#  [3 4 5 6]]"
   ]
  },
  {
   "cell_type": "code",
   "execution_count": 19,
   "metadata": {},
   "outputs": [
    {
     "name": "stdout",
     "output_type": "stream",
     "text": [
      "[1 2 3 4 1 5]\n"
     ]
    }
   ],
   "source": [
    "print(target)   # (6,)\n",
    "# 타깃(target) : 예측할 단어, 중간단어, 6개\n",
    "# ['say','goodbye','and','i','say','hello']\n",
    "# [1 2 3 4 1 5]"
   ]
  },
  {
   "cell_type": "markdown",
   "metadata": {},
   "source": [
    "### 맥락과 타깃을 원핫 표현으로 변환"
   ]
  },
  {
   "cell_type": "code",
   "execution_count": 29,
   "metadata": {},
   "outputs": [],
   "source": [
    "# 원핫 변환 함수\n",
    "\n",
    "# target [1 2 3 4 1 5]을 변환하는 경우를 주석으로 설명 \n",
    "def convert_one_hot(corpus, vocab_size):  # [1 2 3 4 1 5], 7\n",
    "    N = corpus.shape[0] # (6,) --> 6\n",
    "\n",
    "    if corpus.ndim == 1: # target [1 2 3 4 1 5], 1차원인경우 ==> 2차원으로 출력\n",
    "        one_hot = np.zeros((N, vocab_size), dtype=np.int32) # 0으로 초기화된 (6,7) 2차원 배열 생성 \n",
    "        for idx, word_id in enumerate(corpus): # 6회 반복\n",
    "            one_hot[idx, word_id] = 1  # one_hot[0,1] = 1, [1,2]=1, [2,3] = 1,...,  [3,4],[4,1],[5,5] = 1...\n",
    "\n",
    "    elif corpus.ndim == 2: # contexts 2차원 인경우 ==> 3차원으로 출력\n",
    "        C = corpus.shape[1] # (6,2) --> 2\n",
    "        one_hot = np.zeros((N, C, vocab_size), dtype=np.int32) # 0으로 초기화된 (6,2,7) 3차원 배열 생성 \n",
    "        for idx_0, word_ids in enumerate(corpus): # 6회\n",
    "            for idx_1, word_id in enumerate(word_ids): #  2회\n",
    "                one_hot[idx_0, idx_1, word_id] = 1  \n",
    "\n",
    "    return one_hot"
   ]
  },
  {
   "cell_type": "code",
   "execution_count": 31,
   "metadata": {},
   "outputs": [
    {
     "name": "stdout",
     "output_type": "stream",
     "text": [
      "7\n"
     ]
    }
   ],
   "source": [
    "vocab_size = len(word_to_id)\n",
    "print(vocab_size) # 7\n",
    "\n",
    "target = convert_one_hot(target, vocab_size)\n",
    "contexts = convert_one_hot(contexts, vocab_size)"
   ]
  },
  {
   "cell_type": "code",
   "execution_count": 33,
   "metadata": {},
   "outputs": [
    {
     "name": "stdout",
     "output_type": "stream",
     "text": [
      "[[0 1 0 0 0 0 0]\n",
      " [0 0 1 0 0 0 0]\n",
      " [0 0 0 1 0 0 0]\n",
      " [0 0 0 0 1 0 0]\n",
      " [0 1 0 0 0 0 0]\n",
      " [0 0 0 0 0 1 0]]\n",
      "(6, 7)\n"
     ]
    }
   ],
   "source": [
    "print(target)\n",
    "print(target.shape)\n",
    "# [1 2 3 4 1 5]"
   ]
  },
  {
   "cell_type": "code",
   "execution_count": 34,
   "metadata": {},
   "outputs": [
    {
     "name": "stdout",
     "output_type": "stream",
     "text": [
      "(6, 2, 7)\n",
      "[[[1 0 0 0 0 0 0]\n",
      "  [0 0 1 0 0 0 0]]\n",
      "\n",
      " [[0 1 0 0 0 0 0]\n",
      "  [0 0 0 1 0 0 0]]\n",
      "\n",
      " [[0 0 1 0 0 0 0]\n",
      "  [0 0 0 0 1 0 0]]\n",
      "\n",
      " [[0 0 0 1 0 0 0]\n",
      "  [0 1 0 0 0 0 0]]\n",
      "\n",
      " [[0 0 0 0 1 0 0]\n",
      "  [0 0 0 0 0 1 0]]\n",
      "\n",
      " [[0 1 0 0 0 0 0]\n",
      "  [0 0 0 0 0 0 1]]]\n"
     ]
    }
   ],
   "source": [
    "print(contexts.shape)\n",
    "print(contexts)\n",
    "# [[0 2]\n",
    "#  [1 3]\n",
    "#  [2 4]\n",
    "#  [3 1]\n",
    "#  [4 5]\n",
    "#  [1 6]]"
   ]
  },
  {
   "cell_type": "markdown",
   "metadata": {},
   "source": [
    "## [4] CBOW 신경망 모델 구현"
   ]
  },
  {
   "cell_type": "code",
   "execution_count": 35,
   "metadata": {},
   "outputs": [],
   "source": [
    "from nn_layers import MatMul, SoftmaxWithLoss, SGD, Adam"
   ]
  },
  {
   "cell_type": "code",
   "execution_count": null,
   "metadata": {},
   "outputs": [],
   "source": [
    "# 다중 분류 모델 : Softmax 사용\n",
    "class SimpleCBOW :\n",
    "    def __inbit__(self, vocab_size, hidden_size): # 단어의 갯수: 7, 은닉층의 뉴런: 5\n",
    "        V,H = vocab_size, hidden_size\n",
    "        \n",
    "        # 가중치 초기화\n",
    "        W_in = 0.01*np.random.randn(V,H).astype('f') # (7,5)\n",
    "        W_out = 0.01*np.random.randn(H,V).astype('f') # (5,7)\n",
    "        \n",
    "        # 계층 생성\n",
    "        self.in_layer0 = MatMul(W_in)\n",
    "        self.in_layer1 = MatMul(W_in)\n",
    "        self.out_layer = MatMul(W_out)\n",
    "        self.loss_layer = SoftmaxWithLoss()\n",
    "        \n",
    "        # 모든 가중치와 기울기를 리스트에 모은다.\n",
    "        layers = [self.in_layer0, self.in_layer1, self.out_layer]\n",
    "        self.params, self.grads = [],[]\n",
    "        for layer in layers : # 3회\n",
    "            self.params += layer.params\n",
    "            self.grads += layer.grads\n",
    "            \n",
    "        # 인스턴스 변수 단어의 분산 표현을 저장한다.    \n",
    "        self.word_vec = W_in    \n",
    "        \n",
    "    def predict:    \n",
    "            \n",
    "        \n",
    "        \n",
    "    \n",
    "    "
   ]
  }
 ],
 "metadata": {
  "kernelspec": {
   "display_name": "Python 3",
   "language": "python",
   "name": "python3"
  },
  "language_info": {
   "codemirror_mode": {
    "name": "ipython",
    "version": 3
   },
   "file_extension": ".py",
   "mimetype": "text/x-python",
   "name": "python",
   "nbconvert_exporter": "python",
   "pygments_lexer": "ipython3",
   "version": "3.7.7"
  }
 },
 "nbformat": 4,
 "nbformat_minor": 4
}
