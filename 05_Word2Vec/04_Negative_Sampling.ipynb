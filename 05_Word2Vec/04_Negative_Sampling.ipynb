{
 "cells": [
  {
   "cell_type": "markdown",
   "metadata": {},
   "source": [
    "# Negative Sampling  : 네거티브 샘플링\n",
    "\n",
    "### Embedding과 EmbeddingDot 계층"
   ]
  },
  {
   "cell_type": "code",
   "execution_count": 1,
   "metadata": {},
   "outputs": [],
   "source": [
    "import numpy as np\n",
    "\n",
    "# nn_layers.py에 추가하여 놓는다\n",
    "\n",
    "# Embedding 계층\n",
    "class Embedding :\n",
    "    def __init__(self, W):\n",
    "        self.params = [W]\n",
    "        self.grads = [np.zeros_like(W)]\n",
    "        self.idx = None\n",
    "    \n",
    "    # 순전파\n",
    "    def forward(self,idx):\n",
    "        W, = self.params\n",
    "        self.idx = idx\n",
    "        out = W[idx]\n",
    "        return out\n",
    "    \n",
    "    # 역전파\n",
    "    def backward(self, dout):  # 중복 인덱스가 있어도 올바르게 처리, 속도가 빠름\n",
    "        dW, = self.grads\n",
    "        dW[...] = 0\n",
    "        np.add.at(dW, self.idx, dout)  \n",
    "        return None       "
   ]
  },
  {
   "cell_type": "code",
   "execution_count": null,
   "metadata": {},
   "outputs": [],
   "source": [
    "# EmbeddingDot 계층\n",
    "# nn_layers.py에 추가하여 놓는다\n",
    "\n",
    "class EmbeddingDot:\n",
    "    def __init__(self,W):\n",
    "        self.embed = Embedding(W)\n",
    "        self.params = self.embed.params\n",
    "        self.grads = self.embed.grads\n",
    "        self.cache = None\n",
    "        \n",
    "    def forward(self,h,idx):\n",
    "        target_W = self.embed.forward(idx)\n",
    "        out = np.sum(target_W*h,axis=1)   # 1차원 출력\n",
    "        self.cache = (h, target_W)\n",
    "        return out\n",
    "    \n",
    "    def backward(self, dout):\n",
    "        h, target_W = self.cache\n",
    "        dout = dout.reshape(dout.shape[0],1) # 2차원으로 변환\n",
    "        \n",
    "        dtarget_W = dout*h  # sum <--> repeat, 브로드캐스트\n",
    "        self.embed.backward(dtarget_W)\n",
    "        \n",
    "        dh = dout*target_W  # 브로드캐스트\n",
    "        return dh"
   ]
  }
 ],
 "metadata": {
  "kernelspec": {
   "display_name": "Python 3",
   "language": "python",
   "name": "python3"
  },
  "language_info": {
   "codemirror_mode": {
    "name": "ipython",
    "version": 3
   },
   "file_extension": ".py",
   "mimetype": "text/x-python",
   "name": "python",
   "nbconvert_exporter": "python",
   "pygments_lexer": "ipython3",
   "version": "3.7.7"
  }
 },
 "nbformat": 4,
 "nbformat_minor": 4
}
