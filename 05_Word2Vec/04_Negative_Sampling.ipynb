{
 "cells": [
  {
   "cell_type": "markdown",
   "metadata": {},
   "source": [
    "# Negative Sampling  : 네거티브 샘플링\n",
    "\n",
    "### Embedding과 EmbeddingDot 계층"
   ]
  },
  {
   "cell_type": "code",
   "execution_count": 1,
   "metadata": {},
   "outputs": [],
   "source": [
    "import numpy as np\n",
    "\n",
    "# nn_layers.py에 추가하여 놓는다\n",
    "\n",
    "# Embedding 계층\n",
    "class Embedding :\n",
    "    def __init__(self, W):\n",
    "        self.params = [W]\n",
    "        self.grads = [np.zeros_like(W)]\n",
    "        self.idx = None\n",
    "    \n",
    "    # 순전파\n",
    "    def forward(self,idx):\n",
    "        W, = self.params\n",
    "        self.idx = idx\n",
    "        out = W[idx]\n",
    "        return out\n",
    "    \n",
    "    # 역전파\n",
    "    def backward(self, dout):  # 중복 인덱스가 있어도 올바르게 처리, 속도가 빠름\n",
    "        dW, = self.grads\n",
    "        dW[...] = 0\n",
    "        np.add.at(dW, self.idx, dout)  \n",
    "        return None       "
   ]
  },
  {
   "cell_type": "code",
   "execution_count": 2,
   "metadata": {},
   "outputs": [],
   "source": [
    "# EmbeddingDot 계층\n",
    "# nn_layers.py에 추가하여 놓는다\n",
    "\n",
    "class EmbeddingDot:\n",
    "    def __init__(self,W):\n",
    "        self.embed = Embedding(W)\n",
    "        self.params = self.embed.params\n",
    "        self.grads = self.embed.grads\n",
    "        self.cache = None\n",
    "        \n",
    "    def forward(self,h,idx):\n",
    "        target_W = self.embed.forward(idx)\n",
    "        out = np.sum(target_W*h,axis=1)   # 1차원 출력\n",
    "        self.cache = (h, target_W)\n",
    "        return out\n",
    "    \n",
    "    def backward(self, dout):\n",
    "        h, target_W = self.cache\n",
    "        dout = dout.reshape(dout.shape[0],1) # 2차원으로 변환\n",
    "        \n",
    "        dtarget_W = dout*h  # sum <--> repeat, 브로드캐스트\n",
    "        self.embed.backward(dtarget_W)\n",
    "        \n",
    "        dh = dout*target_W  # 브로드캐스트\n",
    "        return dh"
   ]
  },
  {
   "cell_type": "code",
   "execution_count": 7,
   "metadata": {},
   "outputs": [
    {
     "name": "stdout",
     "output_type": "stream",
     "text": [
      "W:\n",
      " [[ 0  1  2]\n",
      " [ 3  4  5]\n",
      " [ 6  7  8]\n",
      " [ 9 10 11]\n",
      " [12 13 14]\n",
      " [15 16 17]\n",
      " [18 19 20]]\n",
      "idx:\n",
      " [0 3 1]\n",
      "h:\n",
      " [[0 1 2]\n",
      " [3 4 5]\n",
      " [6 7 8]]\n",
      "out:\n",
      " [  5 122  86]\n",
      "h:\n",
      " [[0 1 2]\n",
      " [3 4 5]\n",
      " [6 7 8]]\n",
      "target_W:\n",
      " [[ 0  1  2]\n",
      " [ 9 10 11]\n",
      " [ 3  4  5]]\n"
     ]
    }
   ],
   "source": [
    "# EmbeddingDot 클래스 테스트 \n",
    "W = np.arange(21).reshape(7,3)\n",
    "print('W:\\n',W)\n",
    "\n",
    "idx = np.array([0,3,1])\n",
    "print('idx:\\n',idx)\n",
    "\n",
    "h = W[[0,1,2]]\n",
    "print('h:\\n',h)\n",
    "\n",
    "embed_dot = EmbeddingDot(W)\n",
    "out = embed_dot.forward(h,idx)\n",
    "print('out:\\n',out)\n",
    "\n",
    "print('h:\\n',embed_dot.cache[0])\n",
    "print('target_W:\\n',embed_dot.cache[1])"
   ]
  },
  {
   "cell_type": "code",
   "execution_count": 4,
   "metadata": {},
   "outputs": [
    {
     "name": "stdout",
     "output_type": "stream",
     "text": [
      "target_W:\n",
      " [[ 0  1  2]\n",
      " [ 9 10 11]\n",
      " [ 3  4  5]]\n",
      "h:\n",
      " [[0 1 2]\n",
      " [3 4 5]\n",
      " [6 7 8]]\n",
      "temp:\n",
      " [[ 0  1  4]\n",
      " [27 40 55]\n",
      " [18 28 40]]\n",
      "out:\n",
      " [  5 122  86]\n"
     ]
    }
   ],
   "source": [
    "# EmbeddingDot 계층의 forward 함수내에서 변수의 값 변화 정보\n",
    "idx = np.array([0,3,1])\n",
    "embed = Embedding(W)\n",
    "target_W = embed.forward(idx) # W에서 임베딩 처리\n",
    "print('target_W:\\n',target_W)\n",
    "\n",
    "h = W[[0,1,2]]\n",
    "print('h:\\n',h)\n",
    "\n",
    "temp = target_W * h\n",
    "print('temp:\\n',temp)\n",
    "\n",
    "out = np.sum(temp,axis=1)\n",
    "print('out:\\n',out)"
   ]
  },
  {
   "cell_type": "markdown",
   "metadata": {},
   "source": [
    "### 네거티브 샘플링 기법\n",
    " https://ddiri01.tistory.com/310"
   ]
  },
  {
   "cell_type": "code",
   "execution_count": 17,
   "metadata": {},
   "outputs": [
    {
     "data": {
      "text/plain": [
       "9"
      ]
     },
     "execution_count": 17,
     "metadata": {},
     "output_type": "execute_result"
    }
   ],
   "source": [
    "# 0에서 9까지의 숫자 중 하나를 무작위로 샘플링\n",
    "np.random.choice(10)"
   ]
  },
  {
   "cell_type": "code",
   "execution_count": 21,
   "metadata": {},
   "outputs": [
    {
     "data": {
      "text/plain": [
       "'say'"
      ]
     },
     "execution_count": 21,
     "metadata": {},
     "output_type": "execute_result"
    }
   ],
   "source": [
    "# words에서만 하나만 무작위로 샘플링\n",
    "words = ['you','say','goodbye','i','hello','.']\n",
    "np.random.choice(words)"
   ]
  },
  {
   "cell_type": "code",
   "execution_count": 28,
   "metadata": {},
   "outputs": [
    {
     "data": {
      "text/plain": [
       "array(['goodbye', 'hello', 'you', 'hello', 'hello'], dtype='<U7')"
      ]
     },
     "execution_count": 28,
     "metadata": {},
     "output_type": "execute_result"
    }
   ],
   "source": [
    "# 5개만 무작위로 샘플링 (중복 허용)\n",
    "np.random.choice(words,size=5)"
   ]
  },
  {
   "cell_type": "code",
   "execution_count": 34,
   "metadata": {},
   "outputs": [
    {
     "data": {
      "text/plain": [
       "array(['.', 'say', 'i', 'goodbye', 'you'], dtype='<U7')"
      ]
     },
     "execution_count": 34,
     "metadata": {},
     "output_type": "execute_result"
    }
   ],
   "source": [
    "# 5개만 무작위로 샘플링 (중복 금지)\n",
    "np.random.choice(words,size=5,replace=False)"
   ]
  },
  {
   "cell_type": "code",
   "execution_count": 45,
   "metadata": {},
   "outputs": [
    {
     "name": "stdout",
     "output_type": "stream",
     "text": [
      "1.0000000000000002\n"
     ]
    },
    {
     "data": {
      "text/plain": [
       "'you'"
      ]
     },
     "execution_count": 45,
     "metadata": {},
     "output_type": "execute_result"
    }
   ],
   "source": [
    "# 주어진 확률 분포에 따라 샘플링\n",
    "p = [0.5,0.1,0.05,0.2,0.05,0.1]  # 합이 1.0\n",
    "print(sum(p))\n",
    "\n",
    "np.random.choice(words,p = p)"
   ]
  },
  {
   "cell_type": "code",
   "execution_count": 54,
   "metadata": {},
   "outputs": [
    {
     "name": "stdout",
     "output_type": "stream",
     "text": [
      "1.0\n",
      "[0.76528558 0.39518322 0.03162278]\n",
      "[0.64196878 0.33150408 0.02652714]\n",
      "1.0\n"
     ]
    }
   ],
   "source": [
    "# 네거티브 샘플링에서는 기본 확률 분포에 0.75를 제곱해준다\n",
    "# 확률분포 값들에 모두 0.75제곱 처리 ==> 원래 확률이 낮은 단어를 버리지 않기 위해서\n",
    "p = [0.7,0.29,0.01]\n",
    "print(sum(p))\n",
    "new_p = np.power(p,0.75)\n",
    "print(new_p)\n",
    "new_p /= np.sum(new_p) # 다시 전체 요소의 합으로나누어 각 요소의 합이 1.0이 나오도록 새로운 확률 분포를 만든다\n",
    "print(new_p)\n",
    "print(sum(new_p))"
   ]
  },
  {
   "cell_type": "code",
   "execution_count": 55,
   "metadata": {},
   "outputs": [
    {
     "name": "stdout",
     "output_type": "stream",
     "text": [
      "16 16\n"
     ]
    }
   ],
   "source": [
    "print(2**4, np.power(2,4) ) # 2^4"
   ]
  },
  {
   "cell_type": "code",
   "execution_count": null,
   "metadata": {},
   "outputs": [],
   "source": [
    "# 3개의 긍정 unigram 타겟을 주면  부정 맥락 2개씩 3개 생성해주는 클래스  "
   ]
  }
 ],
 "metadata": {
  "kernelspec": {
   "display_name": "Python 3",
   "language": "python",
   "name": "python3"
  },
  "language_info": {
   "codemirror_mode": {
    "name": "ipython",
    "version": 3
   },
   "file_extension": ".py",
   "mimetype": "text/x-python",
   "name": "python",
   "nbconvert_exporter": "python",
   "pygments_lexer": "ipython3",
   "version": "3.7.7"
  }
 },
 "nbformat": 4,
 "nbformat_minor": 4
}
