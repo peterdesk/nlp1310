{
 "cells": [
  {
   "cell_type": "markdown",
   "metadata": {},
   "source": [
    "## 성능 개선판 word2vec 학습모델 구현"
   ]
  },
  {
   "cell_type": "markdown",
   "metadata": {},
   "source": [
    "### CBOW 모델 구현"
   ]
  },
  {
   "cell_type": "code",
   "execution_count": 1,
   "metadata": {},
   "outputs": [],
   "source": [
    "from nn_layers import Embedding, NegativeSamplingLoss, Adam, Trainer\n",
    "from mynlp import preprocess, most_similar, create_contexts_target\n",
    "import numpy as np"
   ]
  },
  {
   "cell_type": "code",
   "execution_count": 2,
   "metadata": {},
   "outputs": [],
   "source": [
    "class CBOW :\n",
    "    def __init__(self, vocab_size, hidden_size, window_size, corpus):\n",
    "        V,H = vocab_size, hidden_size\n",
    "        \n",
    "        # 가중치 초기화\n",
    "        W_in = 0.01*np.random.randn(V,H).astype('f') \n",
    "        W_out = 0.01*np.random.randn(V,H).astype('f')  # (H,V) 가 아님에 주의\n",
    "        \n",
    "        # 계층 생성\n",
    "        self.in_layers = []\n",
    "        for i in range(2*window_size):   # window_size = 5일 경우 , i : 0~9 (10회 반복)    \n",
    "            layer = Embedding(W_in)      # Embedding 계층 사용\n",
    "            self.in_layers.append(layer)\n",
    "        \n",
    "        self.ns_loss_layer = NegativeSamplingLoss(W_out,corpus,power=0.75,sample_size=5)\n",
    "\n",
    "        # 모든 가중치와 기울기를 배열에 모은다.\n",
    "        layers = self.in_layers + [self.ns_loss_layer]\n",
    "        self.params ,self.grads = [],[]\n",
    "        for layer in layers:\n",
    "            self.params += layer.params\n",
    "            self.grads += layer.grads\n",
    "            \n",
    "        # 인스턴스 변수 단어의 분산 표현을 저장한다.    \n",
    "        self.word_vecs = W_in  \n",
    "        \n",
    "    def forward(self,contexts,target):  # contexts : (100,10)\n",
    "        h = 0\n",
    "        for i,layer in enumerate(self.in_layers): # 10회\n",
    "            h += layer.forward(contexts[:,i])     # contexts의 1개 컬럼만 추출하여 Embedding층에 idx로 전달\n",
    "            \n",
    "        h *= 1/len(self.in_layers)  # h*(1/10) : 10으로 나눔\n",
    "        loss = self.ns_loss_layer.forward(h,target)\n",
    "        return loss\n",
    "    \n",
    "    def backward(self, dout=1):\n",
    "        dout = self.ns_loss_layer.backward(dout)\n",
    "        dout *= 1/len(self.in_layers)\n",
    "        for layer in self.in_layers:\n",
    "            layer.backward(dout)\n",
    "        return None"
   ]
  },
  {
   "cell_type": "markdown",
   "metadata": {},
   "source": [
    "### CBOW 모델 학습 코드"
   ]
  },
  {
   "cell_type": "code",
   "execution_count": 3,
   "metadata": {},
   "outputs": [
    {
     "name": "stdout",
     "output_type": "stream",
     "text": [
      "10000\n",
      "929589\n"
     ]
    }
   ],
   "source": [
    "from dataset import ptb\n",
    "import pickle\n",
    "\n",
    "# 하이퍼 파라미터 설정\n",
    "window_size = 5\n",
    "# window_size = 2\n",
    "\n",
    "hidden_size = 100\n",
    "batch_size = 100\n",
    "max_epoch = 10  # 10회 이상\n",
    "\n",
    "# 데이터 읽기\n",
    "# 전체 데이터 모두 사용시  # 전체 데이터로 epoch 10회 학습 ==> '약 10시간 소요'\n",
    "corpus, word_to_id, id_to_word = ptb.load_data('train')\n",
    "vocab_size = len(word_to_id)\n",
    "print(vocab_size)  # 10000\n",
    "print(len(corpus)) # 929589"
   ]
  },
  {
   "cell_type": "code",
   "execution_count": 4,
   "metadata": {},
   "outputs": [
    {
     "name": "stdout",
     "output_type": "stream",
     "text": [
      "50000\n",
      "5276\n",
      "5276\n",
      "5276\n"
     ]
    }
   ],
   "source": [
    "# PTB 데이터 중 일부만 사용시 :  50000 corpus\n",
    "corpus, word_to_id, id_to_word = ptb.load_data('train')\n",
    "\n",
    "corpus_size = 50000\n",
    "corpus = corpus[:corpus_size]\n",
    "\n",
    "vocab_size = int(max(corpus) + 1)  # 5276\n",
    "\n",
    "temp1,temp2 = {},{}\n",
    "for k in range(vocab_size):\n",
    "    word1= list(word_to_id.keys())[k]    \n",
    "    id1 = list(word_to_id.values())[k] \n",
    "    temp1[word1] = id1\n",
    "    \n",
    "    word2= list(id_to_word.keys())[k]    \n",
    "    id2 = list(id_to_word.values())[k] \n",
    "    temp2[word2] = id2\n",
    "    \n",
    "word_to_id = temp1\n",
    "id_to_word =temp2\n",
    "\n",
    "print(len(corpus))\n",
    "print(vocab_size)      # 5276 \n",
    "print(len(word_to_id))\n",
    "print(len(id_to_word))"
   ]
  },
  {
   "cell_type": "code",
   "execution_count": 12,
   "metadata": {
    "scrolled": true
   },
   "outputs": [
    {
     "name": "stdout",
     "output_type": "stream",
     "text": [
      "(49990, 10) (49990,)\n",
      "[[ 0  1  2  3  4  6  7  8  9 10]\n",
      " [ 1  2  3  4  5  7  8  9 10 11]\n",
      " [ 2  3  4  5  6  8  9 10 11 12]\n",
      " [ 3  4  5  6  7  9 10 11 12 13]\n",
      " [ 4  5  6  7  8 10 11 12 13 14]\n",
      " [ 5  6  7  8  9 11 12 13 14 15]\n",
      " [ 6  7  8  9 10 12 13 14 15 16]\n",
      " [ 7  8  9 10 11 13 14 15 16 17]\n",
      " [ 8  9 10 11 12 14 15 16 17 18]\n",
      " [ 9 10 11 12 13 15 16 17 18 19]\n",
      " [10 11 12 13 14 16 17 18 19 20]\n",
      " [11 12 13 14 15 17 18 19 20 21]\n",
      " [12 13 14 15 16 18 19 20 21 22]\n",
      " [13 14 15 16 17 19 20 21 22 23]\n",
      " [14 15 16 17 18 20 21 22 23 24]\n",
      " [15 16 17 18 19 21 22 23 24 25]\n",
      " [16 17 18 19 20 22 23 24 25 26]\n",
      " [17 18 19 20 21 23 24 25 26 27]\n",
      " [18 19 20 21 22 24 25 26 27 28]\n",
      " [19 20 21 22 23 25 26 27 28 29]\n",
      " [20 21 22 23 24 26 27 28 29 30]\n",
      " [21 22 23 24 25 27 28 29 30 31]\n",
      " [22 23 24 25 26 28 29 30 31 32]\n",
      " [23 24 25 26 27 29 30 31 32 33]\n",
      " [24 25 26 27 28 30 31 32 33 34]\n",
      " [25 26 27 28 29 31 32 33 34 35]\n",
      " [26 27 28 29 30 32 33 34 35 36]\n",
      " [27 28 29 30 31 33 34 35 36 37]\n",
      " [28 29 30 31 32 34 35 36 37 38]\n",
      " [29 30 31 32 33 35 36 37 38 27]\n",
      " [30 31 32 33 34 36 37 38 27 24]\n",
      " [31 32 33 34 35 37 38 27 24 39]\n",
      " [32 33 34 35 36 38 27 24 39 26]\n",
      " [33 34 35 36 37 27 24 39 26 40]\n",
      " [34 35 36 37 38 24 39 26 40 41]\n",
      " [35 36 37 38 27 39 26 40 41 42]\n",
      " [36 37 38 27 24 26 40 41 42 26]\n",
      " [37 38 27 24 39 40 41 42 26 43]\n",
      " [38 27 24 39 26 41 42 26 43 32]\n",
      " [27 24 39 26 40 42 26 43 32 44]\n",
      " [24 39 26 40 41 26 43 32 44 45]\n",
      " [39 26 40 41 42 43 32 44 45 46]\n",
      " [26 40 41 42 26 32 44 45 46 24]\n",
      " [40 41 42 26 43 44 45 46 24 47]\n",
      " [41 42 26 43 32 45 46 24 47 26]\n",
      " [42 26 43 32 44 46 24 47 26 27]\n",
      " [26 43 32 44 45 24 47 26 27 28]\n",
      " [43 32 44 45 46 47 26 27 28 29]\n",
      " [32 44 45 46 24 26 27 28 29 48]\n",
      " [44 45 46 24 47 27 28 29 48 49]\n",
      " [45 46 24 47 26 28 29 48 49 41]\n",
      " [46 24 47 26 27 29 48 49 41 42]\n",
      " [24 47 26 27 28 48 49 41 42 50]\n",
      " [47 26 27 28 29 49 41 42 50 51]\n",
      " [26 27 28 29 48 41 42 50 51 52]\n",
      " [27 28 29 48 49 42 50 51 52 53]\n",
      " [28 29 48 49 41 50 51 52 53 54]\n",
      " [29 48 49 41 42 51 52 53 54 55]\n",
      " [48 49 41 42 50 52 53 54 55 35]\n",
      " [49 41 42 50 51 53 54 55 35 36]\n",
      " [41 42 50 51 52 54 55 35 36 37]\n",
      " [42 50 51 52 53 55 35 36 37 42]\n",
      " [50 51 52 53 54 35 36 37 42 56]\n",
      " [51 52 53 54 55 36 37 42 56 57]\n",
      " [52 53 54 55 35 37 42 56 57 58]\n",
      " [53 54 55 35 36 42 56 57 58 59]\n",
      " [54 55 35 36 37 56 57 58 59 24]\n",
      " [55 35 36 37 42 57 58 59 24 35]\n",
      " [35 36 37 42 56 58 59 24 35 60]\n",
      " [36 37 42 56 57 59 24 35 60 42]\n",
      " [37 42 56 57 58 24 35 60 42 61]\n",
      " [42 56 57 58 59 35 60 42 61 62]\n",
      " [56 57 58 59 24 60 42 61 62 63]\n",
      " [57 58 59 24 35 42 61 62 63 64]\n",
      " [58 59 24 35 60 61 62 63 64 65]\n",
      " [59 24 35 60 42 62 63 64 65 66]\n",
      " [24 35 60 42 61 63 64 65 66 67]\n",
      " [35 60 42 61 62 64 65 66 67 68]\n",
      " [60 42 61 62 63 65 66 67 68 69]\n",
      " [42 61 62 63 64 66 67 68 69 70]\n",
      " [61 62 63 64 65 67 68 69 70 35]\n",
      " [62 63 64 65 66 68 69 70 35 71]\n",
      " [63 64 65 66 67 69 70 35 71 72]\n",
      " [64 65 66 67 68 70 35 71 72 42]\n",
      " [65 66 67 68 69 35 71 72 42 73]\n",
      " [66 67 68 69 70 71 72 42 73 74]\n",
      " [67 68 69 70 35 72 42 73 74 75]\n",
      " [68 69 70 35 71 42 73 74 75 35]\n",
      " [69 70 35 71 72 73 74 75 35 46]\n",
      " [70 35 71 72 42 74 75 35 46 42]\n",
      " [35 71 72 42 73 75 35 46 42 76]\n",
      " [71 72 42 73 74 35 46 42 76 77]\n",
      " [72 42 73 74 75 46 42 76 77 64]\n",
      " [42 73 74 75 35 42 76 77 64 78]\n",
      " [73 74 75 35 46 76 77 64 78 79]\n",
      " [74 75 35 46 42 77 64 78 79 80]\n",
      " [75 35 46 42 76 64 78 79 80 27]\n",
      " [35 46 42 76 77 78 79 80 27 28]\n",
      " [46 42 76 77 64 79 80 27 28 81]\n",
      " [42 76 77 64 78 80 27 28 81 82]]\n"
     ]
    }
   ],
   "source": [
    "contexts,target = create_contexts_target(corpus,window_size)\n",
    "# print(corpus[:100])\n",
    "print(contexts.shape,target.shape) #(49990, 10), (49990,)\n",
    "print(contexts[:100])             \n",
    "# print(target[:100])"
   ]
  },
  {
   "cell_type": "code",
   "execution_count": 6,
   "metadata": {
    "scrolled": true
   },
   "outputs": [
    {
     "name": "stdout",
     "output_type": "stream",
     "text": [
      "| 에폭 1 |  반복 1 / 499 | 시간 0[s] | 손실 4.16\n",
      "| 에폭 1 |  반복 21 / 499 | 시간 1[s] | 손실 4.16\n",
      "| 에폭 1 |  반복 41 / 499 | 시간 2[s] | 손실 4.15\n",
      "| 에폭 1 |  반복 61 / 499 | 시간 4[s] | 손실 4.11\n",
      "| 에폭 1 |  반복 81 / 499 | 시간 6[s] | 손실 4.02\n",
      "| 에폭 1 |  반복 101 / 499 | 시간 7[s] | 손실 3.86\n",
      "| 에폭 1 |  반복 121 / 499 | 시간 9[s] | 손실 3.67\n",
      "| 에폭 1 |  반복 141 / 499 | 시간 10[s] | 손실 3.48\n",
      "| 에폭 1 |  반복 161 / 499 | 시간 12[s] | 손실 3.34\n",
      "| 에폭 1 |  반복 181 / 499 | 시간 13[s] | 손실 3.19\n",
      "| 에폭 1 |  반복 201 / 499 | 시간 15[s] | 손실 3.09\n",
      "| 에폭 1 |  반복 221 / 499 | 시간 16[s] | 손실 3.00\n",
      "| 에폭 1 |  반복 241 / 499 | 시간 17[s] | 손실 2.93\n",
      "| 에폭 1 |  반복 261 / 499 | 시간 19[s] | 손실 2.88\n",
      "| 에폭 1 |  반복 281 / 499 | 시간 20[s] | 손실 2.85\n",
      "| 에폭 1 |  반복 301 / 499 | 시간 22[s] | 손실 2.80\n",
      "| 에폭 1 |  반복 321 / 499 | 시간 24[s] | 손실 2.75\n",
      "| 에폭 1 |  반복 341 / 499 | 시간 25[s] | 손실 2.75\n",
      "| 에폭 1 |  반복 361 / 499 | 시간 28[s] | 손실 2.73\n",
      "| 에폭 1 |  반복 381 / 499 | 시간 30[s] | 손실 2.72\n",
      "| 에폭 1 |  반복 401 / 499 | 시간 32[s] | 손실 2.71\n",
      "| 에폭 1 |  반복 421 / 499 | 시간 34[s] | 손실 2.69\n",
      "| 에폭 1 |  반복 441 / 499 | 시간 37[s] | 손실 2.69\n",
      "| 에폭 1 |  반복 461 / 499 | 시간 38[s] | 손실 2.70\n",
      "| 에폭 1 |  반복 481 / 499 | 시간 39[s] | 손실 2.70\n",
      "| 에폭 2 |  반복 1 / 499 | 시간 40[s] | 손실 2.67\n",
      "| 에폭 2 |  반복 21 / 499 | 시간 42[s] | 손실 2.60\n",
      "| 에폭 2 |  반복 41 / 499 | 시간 43[s] | 손실 2.61\n",
      "| 에폭 2 |  반복 61 / 499 | 시간 44[s] | 손실 2.58\n",
      "| 에폭 2 |  반복 81 / 499 | 시간 46[s] | 손실 2.62\n",
      "| 에폭 2 |  반복 101 / 499 | 시간 47[s] | 손실 2.63\n",
      "| 에폭 2 |  반복 121 / 499 | 시간 48[s] | 손실 2.64\n",
      "| 에폭 2 |  반복 141 / 499 | 시간 49[s] | 손실 2.60\n",
      "| 에폭 2 |  반복 161 / 499 | 시간 51[s] | 손실 2.64\n",
      "| 에폭 2 |  반복 181 / 499 | 시간 53[s] | 손실 2.62\n",
      "| 에폭 2 |  반복 201 / 499 | 시간 55[s] | 손실 2.62\n",
      "| 에폭 2 |  반복 221 / 499 | 시간 56[s] | 손실 2.64\n",
      "| 에폭 2 |  반복 241 / 499 | 시간 58[s] | 손실 2.63\n",
      "| 에폭 2 |  반복 261 / 499 | 시간 63[s] | 손실 2.59\n",
      "| 에폭 2 |  반복 281 / 499 | 시간 67[s] | 손실 2.63\n",
      "| 에폭 2 |  반복 301 / 499 | 시간 70[s] | 손실 2.61\n",
      "| 에폭 2 |  반복 321 / 499 | 시간 72[s] | 손실 2.61\n",
      "| 에폭 2 |  반복 341 / 499 | 시간 74[s] | 손실 2.62\n",
      "| 에폭 2 |  반복 361 / 499 | 시간 76[s] | 손실 2.61\n",
      "| 에폭 2 |  반복 381 / 499 | 시간 78[s] | 손실 2.62\n",
      "| 에폭 2 |  반복 401 / 499 | 시간 79[s] | 손실 2.61\n",
      "| 에폭 2 |  반복 421 / 499 | 시간 81[s] | 손실 2.60\n",
      "| 에폭 2 |  반복 441 / 499 | 시간 84[s] | 손실 2.61\n",
      "| 에폭 2 |  반복 461 / 499 | 시간 86[s] | 손실 2.61\n",
      "| 에폭 2 |  반복 481 / 499 | 시간 88[s] | 손실 2.59\n",
      "| 에폭 3 |  반복 1 / 499 | 시간 90[s] | 손실 2.62\n",
      "| 에폭 3 |  반복 21 / 499 | 시간 93[s] | 손실 2.52\n",
      "| 에폭 3 |  반복 41 / 499 | 시간 96[s] | 손실 2.55\n",
      "| 에폭 3 |  반복 61 / 499 | 시간 97[s] | 손실 2.57\n",
      "| 에폭 3 |  반복 81 / 499 | 시간 99[s] | 손실 2.52\n",
      "| 에폭 3 |  반복 101 / 499 | 시간 101[s] | 손실 2.55\n",
      "| 에폭 3 |  반복 121 / 499 | 시간 104[s] | 손실 2.57\n",
      "| 에폭 3 |  반복 141 / 499 | 시간 105[s] | 손실 2.56\n",
      "| 에폭 3 |  반복 161 / 499 | 시간 107[s] | 손실 2.57\n",
      "| 에폭 3 |  반복 181 / 499 | 시간 109[s] | 손실 2.57\n",
      "| 에폭 3 |  반복 201 / 499 | 시간 111[s] | 손실 2.58\n",
      "| 에폭 3 |  반복 221 / 499 | 시간 113[s] | 손실 2.57\n",
      "| 에폭 3 |  반복 241 / 499 | 시간 115[s] | 손실 2.57\n",
      "| 에폭 3 |  반복 261 / 499 | 시간 116[s] | 손실 2.55\n",
      "| 에폭 3 |  반복 281 / 499 | 시간 119[s] | 손실 2.58\n",
      "| 에폭 3 |  반복 301 / 499 | 시간 120[s] | 손실 2.56\n",
      "| 에폭 3 |  반복 321 / 499 | 시간 121[s] | 손실 2.57\n",
      "| 에폭 3 |  반복 341 / 499 | 시간 123[s] | 손실 2.57\n",
      "| 에폭 3 |  반복 361 / 499 | 시간 124[s] | 손실 2.55\n",
      "| 에폭 3 |  반복 381 / 499 | 시간 126[s] | 손실 2.58\n",
      "| 에폭 3 |  반복 401 / 499 | 시간 128[s] | 손실 2.53\n",
      "| 에폭 3 |  반복 421 / 499 | 시간 130[s] | 손실 2.58\n",
      "| 에폭 3 |  반복 441 / 499 | 시간 132[s] | 손실 2.56\n",
      "| 에폭 3 |  반복 461 / 499 | 시간 134[s] | 손실 2.56\n",
      "| 에폭 3 |  반복 481 / 499 | 시간 136[s] | 손실 2.57\n",
      "| 에폭 4 |  반복 1 / 499 | 시간 138[s] | 손실 2.58\n",
      "| 에폭 4 |  반복 21 / 499 | 시간 139[s] | 손실 2.50\n",
      "| 에폭 4 |  반복 41 / 499 | 시간 141[s] | 손실 2.51\n",
      "| 에폭 4 |  반복 61 / 499 | 시간 142[s] | 손실 2.52\n",
      "| 에폭 4 |  반복 81 / 499 | 시간 143[s] | 손실 2.49\n",
      "| 에폭 4 |  반복 101 / 499 | 시간 145[s] | 손실 2.54\n",
      "| 에폭 4 |  반복 121 / 499 | 시간 146[s] | 손실 2.51\n",
      "| 에폭 4 |  반복 141 / 499 | 시간 147[s] | 손실 2.53\n",
      "| 에폭 4 |  반복 161 / 499 | 시간 149[s] | 손실 2.54\n",
      "| 에폭 4 |  반복 181 / 499 | 시간 150[s] | 손실 2.54\n",
      "| 에폭 4 |  반복 201 / 499 | 시간 152[s] | 손실 2.52\n",
      "| 에폭 4 |  반복 221 / 499 | 시간 153[s] | 손실 2.52\n",
      "| 에폭 4 |  반복 241 / 499 | 시간 155[s] | 손실 2.54\n",
      "| 에폭 4 |  반복 261 / 499 | 시간 157[s] | 손실 2.51\n",
      "| 에폭 4 |  반복 281 / 499 | 시간 158[s] | 손실 2.55\n",
      "| 에폭 4 |  반복 301 / 499 | 시간 160[s] | 손실 2.55\n",
      "| 에폭 4 |  반복 321 / 499 | 시간 161[s] | 손실 2.57\n",
      "| 에폭 4 |  반복 341 / 499 | 시간 162[s] | 손실 2.52\n",
      "| 에폭 4 |  반복 361 / 499 | 시간 164[s] | 손실 2.55\n",
      "| 에폭 4 |  반복 381 / 499 | 시간 166[s] | 손실 2.51\n",
      "| 에폭 4 |  반복 401 / 499 | 시간 168[s] | 손실 2.56\n",
      "| 에폭 4 |  반복 421 / 499 | 시간 169[s] | 손실 2.55\n",
      "| 에폭 4 |  반복 441 / 499 | 시간 171[s] | 손실 2.52\n",
      "| 에폭 4 |  반복 461 / 499 | 시간 174[s] | 손실 2.52\n",
      "| 에폭 4 |  반복 481 / 499 | 시간 175[s] | 손실 2.52\n",
      "| 에폭 5 |  반복 1 / 499 | 시간 177[s] | 손실 2.54\n",
      "| 에폭 5 |  반복 21 / 499 | 시간 178[s] | 손실 2.47\n",
      "| 에폭 5 |  반복 41 / 499 | 시간 180[s] | 손실 2.49\n",
      "| 에폭 5 |  반복 61 / 499 | 시간 182[s] | 손실 2.47\n",
      "| 에폭 5 |  반복 81 / 499 | 시간 184[s] | 손실 2.47\n",
      "| 에폭 5 |  반복 101 / 499 | 시간 186[s] | 손실 2.49\n",
      "| 에폭 5 |  반복 121 / 499 | 시간 187[s] | 손실 2.50\n",
      "| 에폭 5 |  반복 141 / 499 | 시간 189[s] | 손실 2.50\n",
      "| 에폭 5 |  반복 161 / 499 | 시간 192[s] | 손실 2.48\n",
      "| 에폭 5 |  반복 181 / 499 | 시간 194[s] | 손실 2.51\n",
      "| 에폭 5 |  반복 201 / 499 | 시간 195[s] | 손실 2.49\n",
      "| 에폭 5 |  반복 221 / 499 | 시간 197[s] | 손실 2.52\n",
      "| 에폭 5 |  반복 241 / 499 | 시간 199[s] | 손실 2.50\n",
      "| 에폭 5 |  반복 261 / 499 | 시간 201[s] | 손실 2.50\n",
      "| 에폭 5 |  반복 281 / 499 | 시간 203[s] | 손실 2.50\n",
      "| 에폭 5 |  반복 301 / 499 | 시간 206[s] | 손실 2.50\n",
      "| 에폭 5 |  반복 321 / 499 | 시간 209[s] | 손실 2.50\n",
      "| 에폭 5 |  반복 341 / 499 | 시간 210[s] | 손실 2.52\n",
      "| 에폭 5 |  반복 361 / 499 | 시간 212[s] | 손실 2.50\n",
      "| 에폭 5 |  반복 381 / 499 | 시간 213[s] | 손실 2.51\n",
      "| 에폭 5 |  반복 401 / 499 | 시간 214[s] | 손실 2.52\n",
      "| 에폭 5 |  반복 421 / 499 | 시간 216[s] | 손실 2.50\n",
      "| 에폭 5 |  반복 441 / 499 | 시간 217[s] | 손실 2.49\n",
      "| 에폭 5 |  반복 461 / 499 | 시간 218[s] | 손실 2.49\n",
      "| 에폭 5 |  반복 481 / 499 | 시간 220[s] | 손실 2.51\n",
      "| 에폭 6 |  반복 1 / 499 | 시간 222[s] | 손실 2.51\n",
      "| 에폭 6 |  반복 21 / 499 | 시간 223[s] | 손실 2.46\n",
      "| 에폭 6 |  반복 41 / 499 | 시간 225[s] | 손실 2.44\n",
      "| 에폭 6 |  반복 61 / 499 | 시간 227[s] | 손실 2.47\n",
      "| 에폭 6 |  반복 81 / 499 | 시간 229[s] | 손실 2.46\n",
      "| 에폭 6 |  반복 101 / 499 | 시간 231[s] | 손실 2.45\n",
      "| 에폭 6 |  반복 121 / 499 | 시간 233[s] | 손실 2.46\n",
      "| 에폭 6 |  반복 141 / 499 | 시간 235[s] | 손실 2.47\n",
      "| 에폭 6 |  반복 161 / 499 | 시간 237[s] | 손실 2.47\n",
      "| 에폭 6 |  반복 181 / 499 | 시간 239[s] | 손실 2.47\n",
      "| 에폭 6 |  반복 201 / 499 | 시간 241[s] | 손실 2.47\n",
      "| 에폭 6 |  반복 221 / 499 | 시간 243[s] | 손실 2.47\n",
      "| 에폭 6 |  반복 241 / 499 | 시간 245[s] | 손실 2.47\n",
      "| 에폭 6 |  반복 261 / 499 | 시간 247[s] | 손실 2.48\n",
      "| 에폭 6 |  반복 281 / 499 | 시간 249[s] | 손실 2.43\n",
      "| 에폭 6 |  반복 301 / 499 | 시간 252[s] | 손실 2.44\n",
      "| 에폭 6 |  반복 321 / 499 | 시간 254[s] | 손실 2.45\n",
      "| 에폭 6 |  반복 341 / 499 | 시간 256[s] | 손실 2.45\n",
      "| 에폭 6 |  반복 361 / 499 | 시간 258[s] | 손실 2.45\n",
      "| 에폭 6 |  반복 381 / 499 | 시간 260[s] | 손실 2.45\n",
      "| 에폭 6 |  반복 401 / 499 | 시간 263[s] | 손실 2.47\n",
      "| 에폭 6 |  반복 421 / 499 | 시간 265[s] | 손실 2.47\n",
      "| 에폭 6 |  반복 441 / 499 | 시간 267[s] | 손실 2.47\n",
      "| 에폭 6 |  반복 461 / 499 | 시간 269[s] | 손실 2.45\n",
      "| 에폭 6 |  반복 481 / 499 | 시간 270[s] | 손실 2.44\n",
      "| 에폭 7 |  반복 1 / 499 | 시간 272[s] | 손실 2.41\n",
      "| 에폭 7 |  반복 21 / 499 | 시간 273[s] | 손실 2.39\n",
      "| 에폭 7 |  반복 41 / 499 | 시간 275[s] | 손실 2.44\n",
      "| 에폭 7 |  반복 61 / 499 | 시간 277[s] | 손실 2.40\n",
      "| 에폭 7 |  반복 81 / 499 | 시간 279[s] | 손실 2.41\n",
      "| 에폭 7 |  반복 101 / 499 | 시간 281[s] | 손실 2.42\n",
      "| 에폭 7 |  반복 121 / 499 | 시간 282[s] | 손실 2.43\n",
      "| 에폭 7 |  반복 141 / 499 | 시간 284[s] | 손실 2.41\n",
      "| 에폭 7 |  반복 161 / 499 | 시간 286[s] | 손실 2.42\n",
      "| 에폭 7 |  반복 181 / 499 | 시간 288[s] | 손실 2.43\n",
      "| 에폭 7 |  반복 201 / 499 | 시간 289[s] | 손실 2.41\n",
      "| 에폭 7 |  반복 221 / 499 | 시간 291[s] | 손실 2.37\n",
      "| 에폭 7 |  반복 241 / 499 | 시간 292[s] | 손실 2.40\n",
      "| 에폭 7 |  반복 261 / 499 | 시간 293[s] | 손실 2.40\n",
      "| 에폭 7 |  반복 281 / 499 | 시간 294[s] | 손실 2.38\n",
      "| 에폭 7 |  반복 301 / 499 | 시간 296[s] | 손실 2.44\n",
      "| 에폭 7 |  반복 321 / 499 | 시간 297[s] | 손실 2.40\n",
      "| 에폭 7 |  반복 341 / 499 | 시간 298[s] | 손실 2.41\n",
      "| 에폭 7 |  반복 361 / 499 | 시간 300[s] | 손실 2.43\n",
      "| 에폭 7 |  반복 381 / 499 | 시간 301[s] | 손실 2.40\n",
      "| 에폭 7 |  반복 401 / 499 | 시간 302[s] | 손실 2.40\n",
      "| 에폭 7 |  반복 421 / 499 | 시간 303[s] | 손실 2.41\n",
      "| 에폭 7 |  반복 441 / 499 | 시간 305[s] | 손실 2.38\n",
      "| 에폭 7 |  반복 461 / 499 | 시간 306[s] | 손실 2.38\n",
      "| 에폭 7 |  반복 481 / 499 | 시간 307[s] | 손실 2.40\n",
      "| 에폭 8 |  반복 1 / 499 | 시간 309[s] | 손실 2.41\n",
      "| 에폭 8 |  반복 21 / 499 | 시간 311[s] | 손실 2.35\n",
      "| 에폭 8 |  반복 41 / 499 | 시간 313[s] | 손실 2.33\n",
      "| 에폭 8 |  반복 61 / 499 | 시간 315[s] | 손실 2.33\n",
      "| 에폭 8 |  반복 81 / 499 | 시간 317[s] | 손실 2.33\n",
      "| 에폭 8 |  반복 101 / 499 | 시간 319[s] | 손실 2.38\n",
      "| 에폭 8 |  반복 121 / 499 | 시간 321[s] | 손실 2.36\n",
      "| 에폭 8 |  반복 141 / 499 | 시간 323[s] | 손실 2.34\n",
      "| 에폭 8 |  반복 161 / 499 | 시간 325[s] | 손실 2.36\n",
      "| 에폭 8 |  반복 181 / 499 | 시간 326[s] | 손실 2.33\n"
     ]
    },
    {
     "name": "stdout",
     "output_type": "stream",
     "text": [
      "| 에폭 8 |  반복 201 / 499 | 시간 328[s] | 손실 2.34\n",
      "| 에폭 8 |  반복 221 / 499 | 시간 330[s] | 손실 2.36\n",
      "| 에폭 8 |  반복 241 / 499 | 시간 331[s] | 손실 2.33\n",
      "| 에폭 8 |  반복 261 / 499 | 시간 334[s] | 손실 2.35\n",
      "| 에폭 8 |  반복 281 / 499 | 시간 336[s] | 손실 2.35\n",
      "| 에폭 8 |  반복 301 / 499 | 시간 338[s] | 손실 2.35\n",
      "| 에폭 8 |  반복 321 / 499 | 시간 340[s] | 손실 2.33\n",
      "| 에폭 8 |  반복 341 / 499 | 시간 341[s] | 손실 2.35\n",
      "| 에폭 8 |  반복 361 / 499 | 시간 343[s] | 손실 2.35\n",
      "| 에폭 8 |  반복 381 / 499 | 시간 345[s] | 손실 2.35\n",
      "| 에폭 8 |  반복 401 / 499 | 시간 346[s] | 손실 2.34\n",
      "| 에폭 8 |  반복 421 / 499 | 시간 348[s] | 손실 2.33\n",
      "| 에폭 8 |  반복 441 / 499 | 시간 350[s] | 손실 2.34\n",
      "| 에폭 8 |  반복 461 / 499 | 시간 351[s] | 손실 2.35\n",
      "| 에폭 8 |  반복 481 / 499 | 시간 353[s] | 손실 2.33\n",
      "| 에폭 9 |  반복 1 / 499 | 시간 354[s] | 손실 2.31\n",
      "| 에폭 9 |  반복 21 / 499 | 시간 356[s] | 손실 2.26\n",
      "| 에폭 9 |  반복 41 / 499 | 시간 357[s] | 손실 2.25\n",
      "| 에폭 9 |  반복 61 / 499 | 시간 359[s] | 손실 2.24\n",
      "| 에폭 9 |  반복 81 / 499 | 시간 361[s] | 손실 2.26\n",
      "| 에폭 9 |  반복 101 / 499 | 시간 363[s] | 손실 2.29\n",
      "| 에폭 9 |  반복 121 / 499 | 시간 365[s] | 손실 2.28\n",
      "| 에폭 9 |  반복 141 / 499 | 시간 366[s] | 손실 2.29\n",
      "| 에폭 9 |  반복 161 / 499 | 시간 368[s] | 손실 2.30\n",
      "| 에폭 9 |  반복 181 / 499 | 시간 369[s] | 손실 2.31\n",
      "| 에폭 9 |  반복 201 / 499 | 시간 370[s] | 손실 2.30\n",
      "| 에폭 9 |  반복 221 / 499 | 시간 372[s] | 손실 2.24\n",
      "| 에폭 9 |  반복 241 / 499 | 시간 373[s] | 손실 2.26\n",
      "| 에폭 9 |  반복 261 / 499 | 시간 375[s] | 손실 2.28\n",
      "| 에폭 9 |  반복 281 / 499 | 시간 376[s] | 손실 2.27\n",
      "| 에폭 9 |  반복 301 / 499 | 시간 377[s] | 손실 2.32\n",
      "| 에폭 9 |  반복 321 / 499 | 시간 379[s] | 손실 2.29\n",
      "| 에폭 9 |  반복 341 / 499 | 시간 380[s] | 손실 2.26\n",
      "| 에폭 9 |  반복 361 / 499 | 시간 381[s] | 손실 2.28\n",
      "| 에폭 9 |  반복 381 / 499 | 시간 382[s] | 손실 2.26\n",
      "| 에폭 9 |  반복 401 / 499 | 시간 384[s] | 손실 2.27\n",
      "| 에폭 9 |  반복 421 / 499 | 시간 385[s] | 손실 2.32\n",
      "| 에폭 9 |  반복 441 / 499 | 시간 386[s] | 손실 2.24\n",
      "| 에폭 9 |  반복 461 / 499 | 시간 388[s] | 손실 2.28\n",
      "| 에폭 9 |  반복 481 / 499 | 시간 389[s] | 손실 2.29\n",
      "| 에폭 10 |  반복 1 / 499 | 시간 390[s] | 손실 2.26\n",
      "| 에폭 10 |  반복 21 / 499 | 시간 391[s] | 손실 2.20\n",
      "| 에폭 10 |  반복 41 / 499 | 시간 393[s] | 손실 2.20\n",
      "| 에폭 10 |  반복 61 / 499 | 시간 395[s] | 손실 2.21\n",
      "| 에폭 10 |  반복 81 / 499 | 시간 397[s] | 손실 2.21\n",
      "| 에폭 10 |  반복 101 / 499 | 시간 398[s] | 손실 2.21\n",
      "| 에폭 10 |  반복 121 / 499 | 시간 399[s] | 손실 2.22\n",
      "| 에폭 10 |  반복 141 / 499 | 시간 401[s] | 손실 2.19\n",
      "| 에폭 10 |  반복 161 / 499 | 시간 402[s] | 손실 2.24\n",
      "| 에폭 10 |  반복 181 / 499 | 시간 404[s] | 손실 2.20\n",
      "| 에폭 10 |  반복 201 / 499 | 시간 405[s] | 손실 2.20\n",
      "| 에폭 10 |  반복 221 / 499 | 시간 407[s] | 손실 2.21\n",
      "| 에폭 10 |  반복 241 / 499 | 시간 408[s] | 손실 2.21\n",
      "| 에폭 10 |  반복 261 / 499 | 시간 410[s] | 손실 2.20\n",
      "| 에폭 10 |  반복 281 / 499 | 시간 411[s] | 손실 2.23\n",
      "| 에폭 10 |  반복 301 / 499 | 시간 414[s] | 손실 2.23\n",
      "| 에폭 10 |  반복 321 / 499 | 시간 418[s] | 손실 2.23\n",
      "| 에폭 10 |  반복 341 / 499 | 시간 420[s] | 손실 2.22\n",
      "| 에폭 10 |  반복 361 / 499 | 시간 422[s] | 손실 2.19\n",
      "| 에폭 10 |  반복 381 / 499 | 시간 424[s] | 손실 2.23\n",
      "| 에폭 10 |  반복 401 / 499 | 시간 426[s] | 손실 2.20\n",
      "| 에폭 10 |  반복 421 / 499 | 시간 428[s] | 손실 2.22\n",
      "| 에폭 10 |  반복 441 / 499 | 시간 430[s] | 손실 2.21\n",
      "| 에폭 10 |  반복 461 / 499 | 시간 432[s] | 손실 2.19\n",
      "| 에폭 10 |  반복 481 / 499 | 시간 433[s] | 손실 2.20\n"
     ]
    }
   ],
   "source": [
    "# 모델 생성\n",
    "model = CBOW(vocab_size, hidden_size, window_size, corpus)\n",
    "optimizer = Adam()\n",
    "trainer = Trainer(model,optimizer)\n",
    "\n",
    "# 학습 : 50000개 일때 약 7분 소요\n",
    "trainer.fit(contexts, target, max_epoch, batch_size)"
   ]
  },
  {
   "cell_type": "code",
   "execution_count": 7,
   "metadata": {},
   "outputs": [
    {
     "data": {
      "image/png": "[encoded data removed]",
      "text/plain": [
       "<Figure size 432x288 with 1 Axes>"
      ]
     },
     "metadata": {
      "needs_background": "light"
     },
     "output_type": "display_data"
    }
   ],
   "source": [
    "trainer.plot()"
   ]
  },
  {
   "cell_type": "code",
   "execution_count": 8,
   "metadata": {},
   "outputs": [],
   "source": [
    "# 나중에 사용할 수 있도록 필요한 데이터 저장\n",
    "word_vecs = model.word_vecs\n",
    "\n",
    "params = {}\n",
    "params['word_vecs'] = word_vecs.astype(np.float16)\n",
    "params['word_to_id'] = word_to_id\n",
    "params['id_to_word'] = id_to_word\n",
    "pkl_file = 'cbow_params.pkl'  # 저장할 파일\n",
    "with open(pkl_file, 'wb') as f:\n",
    "    pickle.dump(params, f, -1) # 저장"
   ]
  },
  {
   "cell_type": "code",
   "execution_count": 9,
   "metadata": {},
   "outputs": [
    {
     "name": "stdout",
     "output_type": "stream",
     "text": [
      "(5276, 100)\n"
     ]
    },
    {
     "data": {
      "text/plain": [
       "array([[ 0.04960905,  0.02695149,  0.00817851, ...,  0.04403228,\n",
       "        -0.03093504,  0.10660045],\n",
       "       [-0.00108058,  0.0557363 ,  0.14048922, ...,  0.04365902,\n",
       "        -0.07825884,  0.20460749],\n",
       "       [-0.04039905,  0.01439103,  0.19065669, ..., -0.01758152,\n",
       "        -0.06686762,  0.21547836],\n",
       "       ...,\n",
       "       [ 0.30001032,  0.2045574 ,  0.35228336, ...,  0.01926974,\n",
       "        -0.02192492,  0.3850582 ],\n",
       "       [ 0.23011799,  0.2963479 ,  0.24182451, ...,  0.12436571,\n",
       "        -0.19134884,  0.2318561 ],\n",
       "       [-0.08581711, -0.13982452, -0.06632292, ...,  0.13611177,\n",
       "        -0.02076899,  0.04800173]], dtype=float32)"
      ]
     },
     "execution_count": 9,
     "metadata": {},
     "output_type": "execute_result"
    }
   ],
   "source": [
    "# W_in :단어의 분산 표현\n",
    "print(model.word_vecs.shape)\n",
    "model.word_vecs"
   ]
  },
  {
   "cell_type": "markdown",
   "metadata": {},
   "source": [
    "### CBOW 모델 평가"
   ]
  },
  {
   "cell_type": "code",
   "execution_count": 16,
   "metadata": {},
   "outputs": [
    {
     "name": "stdout",
     "output_type": "stream",
     "text": [
      "\n",
      "[query] you\n",
      " we: 0.6103515625\n",
      " someone: 0.59130859375\n",
      " i: 0.55419921875\n",
      " something: 0.48974609375\n",
      " anyone: 0.47314453125\n",
      "\n",
      "[query] year\n",
      " month: 0.71875\n",
      " week: 0.65234375\n",
      " spring: 0.62744140625\n",
      " summer: 0.6259765625\n",
      " decade: 0.603515625\n",
      "\n",
      "[query] car\n",
      " luxury: 0.497314453125\n",
      " arabia: 0.47802734375\n",
      " auto: 0.47119140625\n",
      " disk-drive: 0.450927734375\n",
      " travel: 0.4091796875\n",
      "\n",
      "[query] toyota\n",
      " ford: 0.55078125\n",
      " instrumentation: 0.509765625\n",
      " mazda: 0.49365234375\n",
      " bethlehem: 0.47509765625\n",
      " nissan: 0.474853515625\n"
     ]
    }
   ],
   "source": [
    "pkl_file = 'cbow_params_epoch10.pkl'\n",
    "\n",
    "with open(pkl_file, 'rb') as f :\n",
    "    params = pickle.load(f)  # 읽어오기\n",
    "    word_vecs = params['word_vecs']\n",
    "    word_to_id = params['word_to_id']\n",
    "    id_to_word = params['id_to_word']\n",
    "    \n",
    "# 가장 비슷한(most simialr) 단어 뽑기\n",
    "querys = ['you','year','car','toyota']\n",
    "for query in querys:\n",
    "    most_similar(query,word_to_id,id_to_word,word_vecs,top=5)"
   ]
  },
  {
   "cell_type": "code",
   "execution_count": 17,
   "metadata": {},
   "outputs": [],
   "source": [
    "def normalize(x):\n",
    "    if x.ndim == 2:\n",
    "        s = np.sqrt((x * x).sum(1))\n",
    "        x /= s.reshape((s.shape[0], 1))\n",
    "    elif x.ndim == 1:\n",
    "        s = np.sqrt((x * x).sum())\n",
    "        x /= s\n",
    "    return x"
   ]
  },
  {
   "cell_type": "code",
   "execution_count": 18,
   "metadata": {},
   "outputs": [],
   "source": [
    "def analogy(a, b, c, word_to_id, id_to_word, word_matrix, top=5, answer=None):\n",
    "    for word in (a, b, c):\n",
    "        if word not in word_to_id:\n",
    "            print('%s(을)를 찾을 수 없습니다.' % word)\n",
    "            return\n",
    "\n",
    "    print('\\n[analogy] ' + a + ':' + b + ' = ' + c + ':?')\n",
    "    a_vec, b_vec, c_vec = word_matrix[word_to_id[a]], word_matrix[word_to_id[b]], word_matrix[word_to_id[c]]\n",
    "    query_vec = b_vec - a_vec + c_vec\n",
    "    query_vec = normalize(query_vec)\n",
    "\n",
    "    similarity = np.dot(word_matrix, query_vec)\n",
    "\n",
    "    if answer is not None:\n",
    "        print(\"==>\" + answer + \":\" + str(np.dot(word_matrix[word_to_id[answer]], query_vec)))\n",
    "\n",
    "    count = 0\n",
    "    for i in (-1 * similarity).argsort():\n",
    "        if np.isnan(similarity[i]):\n",
    "            continue\n",
    "        if id_to_word[i] in (a, b, c):\n",
    "            continue\n",
    "        print(' {0}: {1}'.format(id_to_word[i], similarity[i]))\n",
    "\n",
    "        count += 1\n",
    "        if count >= top:\n",
    "            return"
   ]
  },
  {
   "cell_type": "code",
   "execution_count": 19,
   "metadata": {},
   "outputs": [
    {
     "name": "stdout",
     "output_type": "stream",
     "text": [
      "\n",
      "[analogy] king:man = queen:?\n",
      " woman: 5.16015625\n",
      " veto: 4.9296875\n",
      " ounce: 4.69140625\n",
      " earthquake: 4.6328125\n",
      " successor: 4.609375\n",
      "\n",
      "[analogy] take:took = go:?\n",
      " went: 4.55078125\n",
      " points: 4.25\n",
      " began: 4.09375\n",
      " comes: 3.98046875\n",
      " oct.: 3.90625\n",
      "\n",
      "[analogy] car:cars = child:?\n",
      " children: 5.21875\n",
      " average: 4.7265625\n",
      " yield: 4.20703125\n",
      " cattle: 4.1875\n",
      " priced: 4.1796875\n",
      "\n",
      "[analogy] good:better = bad:?\n",
      " more: 6.6484375\n",
      " less: 6.0625\n",
      " rather: 5.21875\n",
      " slower: 4.734375\n",
      " greater: 4.671875\n"
     ]
    }
   ],
   "source": [
    "# 유추(analogy) 작업\n",
    "analogy('king', 'man', 'queen',  word_to_id, id_to_word, word_vecs)\n",
    "analogy('take', 'took', 'go',  word_to_id, id_to_word, word_vecs)\n",
    "analogy('car', 'cars', 'child',  word_to_id, id_to_word, word_vecs)\n",
    "analogy('good', 'better', 'bad',  word_to_id, id_to_word, word_vecs)"
   ]
  },
  {
   "cell_type": "markdown",
   "metadata": {},
   "source": [
    "## SkipGram 모델 구현"
   ]
  },
  {
   "cell_type": "code",
   "execution_count": 20,
   "metadata": {},
   "outputs": [],
   "source": [
    "class SkipGram:\n",
    "    def __init__(self, vocab_size, hidden_size, window_size, corpus):\n",
    "        V, H = vocab_size, hidden_size\n",
    "        rn = np.random.randn\n",
    "\n",
    "        # 가중치 초기화\n",
    "        W_in = 0.01 * rn(V, H).astype('f')\n",
    "        W_out = 0.01 * rn(V, H).astype('f')\n",
    "\n",
    "        # 계층 생성\n",
    "        self.in_layer = Embedding(W_in)\n",
    "        self.loss_layers = []\n",
    "        for i in range(2 * window_size):\n",
    "            layer = NegativeSamplingLoss(W_out, corpus, power=0.75, sample_size=5)\n",
    "            self.loss_layers.append(layer)\n",
    "\n",
    "        # 모든 가중치와 기울기를 리스트에 모은다.\n",
    "        layers = [self.in_layer] + self.loss_layers\n",
    "        self.params, self.grads = [], []\n",
    "        for layer in layers:\n",
    "            self.params += layer.params\n",
    "            self.grads += layer.grads\n",
    "\n",
    "        # 인스턴스 변수에 단어의 분산 표현을 저장한다.\n",
    "        self.word_vecs = W_in\n",
    "\n",
    "    def forward(self, contexts, target):\n",
    "        h = self.in_layer.forward(target)\n",
    "\n",
    "        loss = 0\n",
    "        for i, layer in enumerate(self.loss_layers):\n",
    "            loss += layer.forward(h, contexts[:, i])\n",
    "        return loss\n",
    "\n",
    "    def backward(self, dout=1):\n",
    "        dh = 0\n",
    "        for i, layer in enumerate(self.loss_layers):\n",
    "            dh += layer.backward(dout)\n",
    "        self.in_layer.backward(dh)\n",
    "        return None      \n",
    "    "
   ]
  },
  {
   "cell_type": "markdown",
   "metadata": {},
   "source": [
    "### SkipGram 모델 학습 코드"
   ]
  },
  {
   "cell_type": "code",
   "execution_count": 26,
   "metadata": {},
   "outputs": [
    {
     "name": "stdout",
     "output_type": "stream",
     "text": [
      "10000\n",
      "929589\n"
     ]
    }
   ],
   "source": [
    "from dataset import ptb\n",
    "import pickle\n",
    "\n",
    "# 하이퍼 파라미터 설정\n",
    "window_size = 5\n",
    "# window_size = 2\n",
    "\n",
    "hidden_size = 100\n",
    "batch_size = 100\n",
    "max_epoch = 10  # 10회 이상\n",
    "max_epoch = 2   # Test용\n",
    "\n",
    "# 데이터 읽기\n",
    "# 전체 데이터 모두 사용시  # 전체 데이터로 epoch 8회 학습 ==> '약 7시간 소요'\n",
    "corpus, word_to_id, id_to_word = ptb.load_data('train')\n",
    "vocab_size = len(word_to_id)\n",
    "print(vocab_size)  # 10000\n",
    "print(len(corpus)) # 929589"
   ]
  },
  {
   "cell_type": "code",
   "execution_count": 27,
   "metadata": {},
   "outputs": [
    {
     "name": "stdout",
     "output_type": "stream",
     "text": [
      "50000\n",
      "5276\n",
      "5276\n",
      "5276\n"
     ]
    }
   ],
   "source": [
    "# PTB 데이터 중 일부만 사용시 :  50000 corpus\n",
    "corpus, word_to_id, id_to_word = ptb.load_data('train')\n",
    "\n",
    "corpus_size = 50000\n",
    "corpus = corpus[:corpus_size]\n",
    "\n",
    "vocab_size = int(max(corpus) + 1)  # 5276\n",
    "\n",
    "temp1,temp2 = {},{}\n",
    "for k in range(vocab_size):\n",
    "    word1= list(word_to_id.keys())[k]    \n",
    "    id1 = list(word_to_id.values())[k] \n",
    "    temp1[word1] = id1\n",
    "    \n",
    "    word2= list(id_to_word.keys())[k]    \n",
    "    id2 = list(id_to_word.values())[k] \n",
    "    temp2[word2] = id2\n",
    "    \n",
    "word_to_id = temp1\n",
    "id_to_word =temp2\n",
    "\n",
    "print(len(corpus))\n",
    "print(vocab_size)      # 5276 \n",
    "print(len(word_to_id))\n",
    "print(len(id_to_word))"
   ]
  },
  {
   "cell_type": "code",
   "execution_count": 28,
   "metadata": {},
   "outputs": [
    {
     "name": "stdout",
     "output_type": "stream",
     "text": [
      "(49990, 10) (49990,)\n"
     ]
    }
   ],
   "source": [
    "contexts,target = create_contexts_target(corpus,window_size)\n",
    "# print(corpus[:100])\n",
    "print(contexts.shape,target.shape) #(49990, 10), (49990,)\n",
    "# print(contexts[:100])             \n",
    "# print(target[:100])"
   ]
  },
  {
   "cell_type": "code",
   "execution_count": 29,
   "metadata": {},
   "outputs": [
    {
     "name": "stdout",
     "output_type": "stream",
     "text": [
      "| 에폭 1 |  반복 1 / 499 | 시간 0[s] | 손실 41.59\n",
      "| 에폭 1 |  반복 21 / 499 | 시간 7[s] | 손실 41.58\n",
      "| 에폭 1 |  반복 41 / 499 | 시간 18[s] | 손실 41.44\n",
      "| 에폭 1 |  반복 61 / 499 | 시간 26[s] | 손실 40.89\n",
      "| 에폭 1 |  반복 81 / 499 | 시간 34[s] | 손실 39.67\n",
      "| 에폭 1 |  반복 101 / 499 | 시간 44[s] | 손실 37.93\n",
      "| 에폭 1 |  반복 121 / 499 | 시간 52[s] | 손실 36.32\n",
      "| 에폭 1 |  반복 141 / 499 | 시간 58[s] | 손실 34.76\n",
      "| 에폭 1 |  반복 161 / 499 | 시간 64[s] | 손실 33.66\n",
      "| 에폭 1 |  반복 181 / 499 | 시간 72[s] | 손실 32.95\n",
      "| 에폭 1 |  반복 201 / 499 | 시간 80[s] | 손실 32.14\n",
      "| 에폭 1 |  반복 221 / 499 | 시간 87[s] | 손실 31.64\n",
      "| 에폭 1 |  반복 241 / 499 | 시간 98[s] | 손실 31.07\n",
      "| 에폭 1 |  반복 261 / 499 | 시간 106[s] | 손실 30.80\n",
      "| 에폭 1 |  반복 281 / 499 | 시간 114[s] | 손실 30.32\n",
      "| 에폭 1 |  반복 301 / 499 | 시간 120[s] | 손실 30.21\n",
      "| 에폭 1 |  반복 321 / 499 | 시간 126[s] | 손실 29.90\n",
      "| 에폭 1 |  반복 341 / 499 | 시간 132[s] | 손실 29.89\n",
      "| 에폭 1 |  반복 361 / 499 | 시간 141[s] | 손실 29.48\n",
      "| 에폭 1 |  반복 381 / 499 | 시간 150[s] | 손실 29.18\n",
      "| 에폭 1 |  반복 401 / 499 | 시간 160[s] | 손실 29.11\n",
      "| 에폭 1 |  반복 421 / 499 | 시간 166[s] | 손실 28.91\n",
      "| 에폭 1 |  반복 441 / 499 | 시간 175[s] | 손실 28.84\n",
      "| 에폭 1 |  반복 461 / 499 | 시간 181[s] | 손실 28.72\n",
      "| 에폭 1 |  반복 481 / 499 | 시간 187[s] | 손실 28.57\n",
      "| 에폭 2 |  반복 1 / 499 | 시간 193[s] | 손실 28.20\n",
      "| 에폭 2 |  반복 21 / 499 | 시간 199[s] | 손실 27.69\n",
      "| 에폭 2 |  반복 41 / 499 | 시간 207[s] | 손실 27.60\n",
      "| 에폭 2 |  반복 61 / 499 | 시간 213[s] | 손실 27.50\n",
      "| 에폭 2 |  반복 81 / 499 | 시간 220[s] | 손실 27.38\n",
      "| 에폭 2 |  반복 101 / 499 | 시간 228[s] | 손실 27.31\n",
      "| 에폭 2 |  반복 121 / 499 | 시간 236[s] | 손실 27.35\n",
      "| 에폭 2 |  반복 141 / 499 | 시간 245[s] | 손실 27.14\n",
      "| 에폭 2 |  반복 161 / 499 | 시간 256[s] | 손실 27.08\n",
      "| 에폭 2 |  반복 181 / 499 | 시간 265[s] | 손실 27.11\n",
      "| 에폭 2 |  반복 201 / 499 | 시간 273[s] | 손실 26.99\n",
      "| 에폭 2 |  반복 221 / 499 | 시간 281[s] | 손실 26.94\n",
      "| 에폭 2 |  반복 241 / 499 | 시간 289[s] | 손실 26.86\n",
      "| 에폭 2 |  반복 261 / 499 | 시간 297[s] | 손실 26.76\n",
      "| 에폭 2 |  반복 281 / 499 | 시간 307[s] | 손실 26.65\n",
      "| 에폭 2 |  반복 301 / 499 | 시간 317[s] | 손실 26.68\n",
      "| 에폭 2 |  반복 321 / 499 | 시간 326[s] | 손실 26.80\n",
      "| 에폭 2 |  반복 341 / 499 | 시간 333[s] | 손실 26.81\n",
      "| 에폭 2 |  반복 361 / 499 | 시간 340[s] | 손실 26.53\n",
      "| 에폭 2 |  반복 381 / 499 | 시간 346[s] | 손실 26.39\n",
      "| 에폭 2 |  반복 401 / 499 | 시간 352[s] | 손실 26.60\n",
      "| 에폭 2 |  반복 421 / 499 | 시간 358[s] | 손실 26.67\n",
      "| 에폭 2 |  반복 441 / 499 | 시간 364[s] | 손실 26.42\n",
      "| 에폭 2 |  반복 461 / 499 | 시간 370[s] | 손실 26.35\n",
      "| 에폭 2 |  반복 481 / 499 | 시간 375[s] | 손실 26.49\n"
     ]
    }
   ],
   "source": [
    "# 모델 생성\n",
    "model = SkipGram(vocab_size, hidden_size, window_size, corpus)\n",
    "optimizer = Adam()\n",
    "trainer = Trainer(model,optimizer)\n",
    "\n",
    "# 학습 : 50000개 일때 약  분 소요\n",
    "trainer.fit(contexts, target, max_epoch, batch_size)"
   ]
  },
  {
   "cell_type": "code",
   "execution_count": 30,
   "metadata": {},
   "outputs": [
    {
     "data": {
      "image/png": "[encoded data removed]",
      "text/plain": [
       "<Figure size 432x288 with 1 Axes>"
      ]
     },
     "metadata": {
      "needs_background": "light"
     },
     "output_type": "display_data"
    }
   ],
   "source": [
    "trainer.plot()"
   ]
  },
  {
   "cell_type": "code",
   "execution_count": 31,
   "metadata": {},
   "outputs": [],
   "source": [
    "# 나중에 사용할 수 있도록 필요한 데이터 저장\n",
    "word_vecs = model.word_vecs\n",
    "\n",
    "params = {}\n",
    "params['word_vecs'] = word_vecs.astype(np.float16)\n",
    "params['word_to_id'] = word_to_id\n",
    "params['id_to_word'] = id_to_word\n",
    "pkl_file = 'skigram_params.pkl'  # 저장할 파일\n",
    "with open(pkl_file, 'wb') as f:\n",
    "    pickle.dump(params, f, -1) # 저장"
   ]
  },
  {
   "cell_type": "code",
   "execution_count": 32,
   "metadata": {},
   "outputs": [
    {
     "name": "stdout",
     "output_type": "stream",
     "text": [
      "(5276, 100)\n"
     ]
    },
    {
     "data": {
      "text/plain": [
       "array([[ 0.01469743,  0.00927876, -0.01702363, ...,  0.01778063,\n",
       "        -0.01863942, -0.01310235],\n",
       "       [-0.00369291, -0.00021643, -0.00877899, ..., -0.00915353,\n",
       "         0.00029852, -0.0051466 ],\n",
       "       [ 0.00797196, -0.00773571, -0.00296781, ...,  0.00938755,\n",
       "        -0.00778373, -0.01221906],\n",
       "       ...,\n",
       "       [ 0.02982701,  0.02626465, -0.03041195, ...,  0.04058851,\n",
       "         0.02885516, -0.01740751],\n",
       "       [ 0.02953697,  0.02640967, -0.02040264, ...,  0.03913492,\n",
       "         0.01929725, -0.043809  ],\n",
       "       [ 0.04264574,  0.04548058, -0.03616559, ...,  0.05097941,\n",
       "         0.0479342 , -0.03317109]], dtype=float32)"
      ]
     },
     "execution_count": 32,
     "metadata": {},
     "output_type": "execute_result"
    }
   ],
   "source": [
    "# W_in :단어의 분산 표현\n",
    "print(model.word_vecs.shape)\n",
    "model.word_vecs"
   ]
  },
  {
   "cell_type": "markdown",
   "metadata": {},
   "source": [
    "### Skip-Gram 모델 평가"
   ]
  },
  {
   "cell_type": "code",
   "execution_count": 35,
   "metadata": {},
   "outputs": [
    {
     "name": "stdout",
     "output_type": "stream",
     "text": [
      "\n",
      "[query] you\n",
      " yourself: 0.693359375\n",
      " anybody: 0.666015625\n",
      " i: 0.66015625\n",
      " somebody: 0.6328125\n",
      " your: 0.63134765625\n",
      "\n",
      "[query] year\n",
      " month: 0.60986328125\n",
      " earlier: 0.5537109375\n",
      " week: 0.5419921875\n",
      " quarter: 0.541015625\n",
      " fiscal: 0.53759765625\n",
      "\n",
      "[query] car\n",
      " cars: 0.65380859375\n",
      " luxury: 0.58203125\n",
      " mazda: 0.54638671875\n",
      " beretta: 0.52099609375\n",
      " truck: 0.51513671875\n",
      "\n",
      "[query] toyota\n",
      " lexus: 0.7197265625\n",
      " honda: 0.68359375\n",
      " motor: 0.68115234375\n",
      " infiniti: 0.6787109375\n",
      " mazda: 0.6318359375\n"
     ]
    }
   ],
   "source": [
    "pkl_file = 'skipgram_params_epoch08.pkl'\n",
    "\n",
    "with open(pkl_file, 'rb') as f :\n",
    "    params = pickle.load(f)  # 읽어오기\n",
    "    word_vecs = params['word_vecs']\n",
    "    word_to_id = params['word_to_id']\n",
    "    id_to_word = params['id_to_word']\n",
    "    \n",
    "# 가장 비슷한(most simialr) 단어 뽑기\n",
    "querys = ['you','year','car','toyota']\n",
    "for query in querys:\n",
    "    most_similar(query,word_to_id,id_to_word,word_vecs,top=5)"
   ]
  },
  {
   "cell_type": "code",
   "execution_count": 36,
   "metadata": {},
   "outputs": [],
   "source": [
    "def normalize(x):\n",
    "    if x.ndim == 2:\n",
    "        s = np.sqrt((x * x).sum(1))\n",
    "        x /= s.reshape((s.shape[0], 1))\n",
    "    elif x.ndim == 1:\n",
    "        s = np.sqrt((x * x).sum())\n",
    "        x /= s\n",
    "    return x"
   ]
  },
  {
   "cell_type": "code",
   "execution_count": 37,
   "metadata": {},
   "outputs": [],
   "source": [
    "def analogy(a, b, c, word_to_id, id_to_word, word_matrix, top=5, answer=None):\n",
    "    for word in (a, b, c):\n",
    "        if word not in word_to_id:\n",
    "            print('%s(을)를 찾을 수 없습니다.' % word)\n",
    "            return\n",
    "\n",
    "    print('\\n[analogy] ' + a + ':' + b + ' = ' + c + ':?')\n",
    "    a_vec, b_vec, c_vec = word_matrix[word_to_id[a]], word_matrix[word_to_id[b]], word_matrix[word_to_id[c]]\n",
    "    query_vec = b_vec - a_vec + c_vec\n",
    "    query_vec = normalize(query_vec)\n",
    "\n",
    "    similarity = np.dot(word_matrix, query_vec)\n",
    "\n",
    "    if answer is not None:\n",
    "        print(\"==>\" + answer + \":\" + str(np.dot(word_matrix[word_to_id[answer]], query_vec)))\n",
    "\n",
    "    count = 0\n",
    "    for i in (-1 * similarity).argsort():\n",
    "        if np.isnan(similarity[i]):\n",
    "            continue\n",
    "        if id_to_word[i] in (a, b, c):\n",
    "            continue\n",
    "        print(' {0}: {1}'.format(id_to_word[i], similarity[i]))\n",
    "\n",
    "        count += 1\n",
    "        if count >= top:\n",
    "            return"
   ]
  },
  {
   "cell_type": "code",
   "execution_count": 38,
   "metadata": {},
   "outputs": [
    {
     "name": "stdout",
     "output_type": "stream",
     "text": [
      "\n",
      "[analogy] king:man = queen:?\n",
      " teacher: 1.90234375\n",
      " incest: 1.8935546875\n",
      " hero: 1.736328125\n",
      " mystery: 1.736328125\n",
      " duck: 1.62109375\n",
      "\n",
      "[analogy] take:took = go:?\n",
      " ran: 1.66796875\n",
      " went: 1.5166015625\n",
      " walked: 1.4921875\n",
      " amsterdam: 1.4775390625\n",
      " pricings: 1.41015625\n",
      "\n",
      "[analogy] car:cars = child:?\n",
      " rape: 2.439453125\n",
      " adults: 2.2578125\n",
      " incest: 1.935546875\n",
      " districts: 1.818359375\n",
      " children: 1.806640625\n",
      "\n",
      "[analogy] good:better = bad:?\n",
      " ever: 1.5927734375\n",
      " vary: 1.4326171875\n",
      " comparable: 1.4189453125\n",
      " ca: 1.3212890625\n",
      " abbie: 1.306640625\n"
     ]
    }
   ],
   "source": [
    "# 유추(analogy) 작업\n",
    "analogy('king', 'man', 'queen',  word_to_id, id_to_word, word_vecs)\n",
    "analogy('take', 'took', 'go',  word_to_id, id_to_word, word_vecs)\n",
    "analogy('car', 'cars', 'child',  word_to_id, id_to_word, word_vecs)\n",
    "analogy('good', 'better', 'bad',  word_to_id, id_to_word, word_vecs)"
   ]
  },
  {
   "cell_type": "code",
   "execution_count": null,
   "metadata": {},
   "outputs": [],
   "source": []
  }
 ],
 "metadata": {
  "kernelspec": {
   "display_name": "Python 3",
   "language": "python",
   "name": "python3"
  },
  "language_info": {
   "codemirror_mode": {
    "name": "ipython",
    "version": 3
   },
   "file_extension": ".py",
   "mimetype": "text/x-python",
   "name": "python",
   "nbconvert_exporter": "python",
   "pygments_lexer": "ipython3",
   "version": "3.7.7"
  }
 },
 "nbformat": 4,
 "nbformat_minor": 4
}
