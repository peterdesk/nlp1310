{
 "cells": [
  {
   "cell_type": "markdown",
   "metadata": {},
   "source": [
    "## 성능 개선판 word2vec 학습모델 구현"
   ]
  },
  {
   "cell_type": "markdown",
   "metadata": {},
   "source": [
    "### CBOW 모델 구현"
   ]
  },
  {
   "cell_type": "code",
   "execution_count": 1,
   "metadata": {},
   "outputs": [],
   "source": [
    "from nn_layers import Embedding, NegativeSamplingLoss, Adam, Trainer\n",
    "from mynlp import preprocess, most_similar, create_contexts_target\n",
    "import numpy as np"
   ]
  },
  {
   "cell_type": "code",
   "execution_count": 2,
   "metadata": {},
   "outputs": [],
   "source": [
    "class CBOW :\n",
    "    def __init__(self, vocab_size, hidden_size, window_size, corpus):\n",
    "        V,H = vocab_size, hidden_size\n",
    "        \n",
    "        # 가중치 초기화\n",
    "        W_in = 0.01*np.random.randn(V,H).astype('f') \n",
    "        W_out = 0.01*np.random.randn(V,H).astype('f')  # (H,V) 가 아님에 주의\n",
    "        \n",
    "        # 계층 생성\n",
    "        self.in_layers = []\n",
    "        for i in range(2*window_size):   # window_size = 5일 경우 , i : 0~9 (10회 반복)    \n",
    "            layer = Embedding(W_in)      # Embedding 계층 사용\n",
    "            self.in_layers.append(layer)\n",
    "        \n",
    "        self.ns_loss_layer = NegativeSamplingLoss(W_out,corpus,power=0.75,sample_size=5)\n",
    "\n",
    "        # 모든 가중치와 기울기를 배열에 모은다.\n",
    "        layers = self.in_layers + [self.ns_loss_layer]\n",
    "        self.params ,self.grads = [],[]\n",
    "        for layer in layers:\n",
    "            self.params += layer.params\n",
    "            self.grads += layer.grads\n",
    "            \n",
    "        # 인스턴스 변수 단어의 분산 표현을 저장한다.    \n",
    "        self.word_vecs = W_in  \n",
    "        \n",
    "    def forward(self,contexts,target):  # contexts : (100,10)\n",
    "        h = 0\n",
    "        for i,layer in enumerate(self.in_layers): # 10회\n",
    "            h += layer.forward(contexts[:,i])     # contexts의 1개 컬럼만 추출하여 Embedding층에 idx로 전달\n",
    "            \n",
    "        h *= 1/len(self.in_layers)  # h*(1/10) : 10으로 나눔\n",
    "        loss = self.ns_loss_layer.forward(h,target)\n",
    "        return loss\n",
    "    \n",
    "    def backward(self, dout=1):\n",
    "        dout = self.ns_loss_layer.backward(dout)\n",
    "        dout *= 1/len(self.in_layers)\n",
    "        for layer in self.in_layers:\n",
    "            layer.backward(dout)\n",
    "        return None"
   ]
  },
  {
   "cell_type": "markdown",
   "metadata": {},
   "source": [
    "### CBOW 모델 학습 코드"
   ]
  },
  {
   "cell_type": "code",
   "execution_count": 3,
   "metadata": {},
   "outputs": [
    {
     "name": "stdout",
     "output_type": "stream",
     "text": [
      "10000\n",
      "929589\n"
     ]
    }
   ],
   "source": [
    "from dataset import ptb\n",
    "import pickle\n",
    "\n",
    "# 하이퍼 파라미터 설정\n",
    "window_size = 5\n",
    "# window_size = 2\n",
    "\n",
    "hidden_size = 100\n",
    "batch_size = 100\n",
    "max_epoch = 10  # 10회 이상\n",
    "\n",
    "# 데이터 읽기\n",
    "# 전체 데이터 모두 사용시  # 전체 데이터로 epoch 10회 학습 ==> '약 10시간 소요'\n",
    "corpus, word_to_id, id_to_word = ptb.load_data('train')\n",
    "vocab_size = len(word_to_id)\n",
    "print(vocab_size)  # 10000\n",
    "print(len(corpus)) # 929589"
   ]
  },
  {
   "cell_type": "code",
   "execution_count": 4,
   "metadata": {},
   "outputs": [
    {
     "name": "stdout",
     "output_type": "stream",
     "text": [
      "50000\n",
      "5276\n",
      "5276\n",
      "5276\n"
     ]
    }
   ],
   "source": [
    "# PTB 데이터 중 일부만 사용시 :  50000 corpus\n",
    "corpus, word_to_id, id_to_word = ptb.load_data('train')\n",
    "\n",
    "corpus_size = 50000\n",
    "corpus = corpus[:corpus_size]\n",
    "\n",
    "vocab_size = int(max(corpus) + 1)  # 5276\n",
    "\n",
    "temp1,temp2 = {},{}\n",
    "for k in range(vocab_size):\n",
    "    word1= list(word_to_id.keys())[k]    \n",
    "    id1 = list(word_to_id.values())[k] \n",
    "    temp1[word1] = id1\n",
    "    \n",
    "    word2= list(id_to_word.keys())[k]    \n",
    "    id2 = list(id_to_word.values())[k] \n",
    "    temp2[word2] = id2\n",
    "    \n",
    "word_to_id = temp1\n",
    "id_to_word =temp2\n",
    "\n",
    "print(len(corpus))\n",
    "print(vocab_size)      # 5276 \n",
    "print(len(word_to_id))\n",
    "print(len(id_to_word))"
   ]
  },
  {
   "cell_type": "code",
   "execution_count": 5,
   "metadata": {
    "scrolled": true
   },
   "outputs": [],
   "source": [
    "contexts,target = create_contexts_target(corpus,window_size)\n",
    "# print(corpus[:100])\n",
    "# print(contexts[:100])\n",
    "# print(target[:100])"
   ]
  },
  {
   "cell_type": "code",
   "execution_count": null,
   "metadata": {
    "scrolled": true
   },
   "outputs": [
    {
     "name": "stdout",
     "output_type": "stream",
     "text": [
      "| 에폭 1 |  반복 1 / 499 | 시간 0[s] | 손실 4.16\n",
      "| 에폭 1 |  반복 21 / 499 | 시간 1[s] | 손실 4.16\n",
      "| 에폭 1 |  반복 41 / 499 | 시간 2[s] | 손실 4.15\n",
      "| 에폭 1 |  반복 61 / 499 | 시간 4[s] | 손실 4.11\n",
      "| 에폭 1 |  반복 81 / 499 | 시간 6[s] | 손실 4.02\n",
      "| 에폭 1 |  반복 101 / 499 | 시간 7[s] | 손실 3.86\n",
      "| 에폭 1 |  반복 121 / 499 | 시간 9[s] | 손실 3.67\n",
      "| 에폭 1 |  반복 141 / 499 | 시간 10[s] | 손실 3.48\n",
      "| 에폭 1 |  반복 161 / 499 | 시간 12[s] | 손실 3.34\n",
      "| 에폭 1 |  반복 181 / 499 | 시간 13[s] | 손실 3.19\n",
      "| 에폭 1 |  반복 201 / 499 | 시간 15[s] | 손실 3.09\n",
      "| 에폭 1 |  반복 221 / 499 | 시간 16[s] | 손실 3.00\n",
      "| 에폭 1 |  반복 241 / 499 | 시간 17[s] | 손실 2.93\n",
      "| 에폭 1 |  반복 261 / 499 | 시간 19[s] | 손실 2.88\n",
      "| 에폭 1 |  반복 281 / 499 | 시간 20[s] | 손실 2.85\n",
      "| 에폭 1 |  반복 301 / 499 | 시간 22[s] | 손실 2.80\n",
      "| 에폭 1 |  반복 321 / 499 | 시간 24[s] | 손실 2.75\n",
      "| 에폭 1 |  반복 341 / 499 | 시간 25[s] | 손실 2.75\n",
      "| 에폭 1 |  반복 361 / 499 | 시간 28[s] | 손실 2.73\n",
      "| 에폭 1 |  반복 381 / 499 | 시간 30[s] | 손실 2.72\n",
      "| 에폭 1 |  반복 401 / 499 | 시간 32[s] | 손실 2.71\n",
      "| 에폭 1 |  반복 421 / 499 | 시간 34[s] | 손실 2.69\n",
      "| 에폭 1 |  반복 441 / 499 | 시간 37[s] | 손실 2.69\n",
      "| 에폭 1 |  반복 461 / 499 | 시간 38[s] | 손실 2.70\n",
      "| 에폭 1 |  반복 481 / 499 | 시간 39[s] | 손실 2.70\n",
      "| 에폭 2 |  반복 1 / 499 | 시간 40[s] | 손실 2.67\n",
      "| 에폭 2 |  반복 21 / 499 | 시간 42[s] | 손실 2.60\n",
      "| 에폭 2 |  반복 41 / 499 | 시간 43[s] | 손실 2.61\n",
      "| 에폭 2 |  반복 61 / 499 | 시간 44[s] | 손실 2.58\n",
      "| 에폭 2 |  반복 81 / 499 | 시간 46[s] | 손실 2.62\n",
      "| 에폭 2 |  반복 101 / 499 | 시간 47[s] | 손실 2.63\n",
      "| 에폭 2 |  반복 121 / 499 | 시간 48[s] | 손실 2.64\n",
      "| 에폭 2 |  반복 141 / 499 | 시간 49[s] | 손실 2.60\n",
      "| 에폭 2 |  반복 161 / 499 | 시간 51[s] | 손실 2.64\n",
      "| 에폭 2 |  반복 181 / 499 | 시간 53[s] | 손실 2.62\n",
      "| 에폭 2 |  반복 201 / 499 | 시간 55[s] | 손실 2.62\n",
      "| 에폭 2 |  반복 221 / 499 | 시간 56[s] | 손실 2.64\n",
      "| 에폭 2 |  반복 241 / 499 | 시간 58[s] | 손실 2.63\n",
      "| 에폭 2 |  반복 261 / 499 | 시간 63[s] | 손실 2.59\n",
      "| 에폭 2 |  반복 281 / 499 | 시간 67[s] | 손실 2.63\n",
      "| 에폭 2 |  반복 301 / 499 | 시간 70[s] | 손실 2.61\n",
      "| 에폭 2 |  반복 321 / 499 | 시간 72[s] | 손실 2.61\n",
      "| 에폭 2 |  반복 341 / 499 | 시간 74[s] | 손실 2.62\n",
      "| 에폭 2 |  반복 361 / 499 | 시간 76[s] | 손실 2.61\n",
      "| 에폭 2 |  반복 381 / 499 | 시간 78[s] | 손실 2.62\n",
      "| 에폭 2 |  반복 401 / 499 | 시간 79[s] | 손실 2.61\n",
      "| 에폭 2 |  반복 421 / 499 | 시간 81[s] | 손실 2.60\n",
      "| 에폭 2 |  반복 441 / 499 | 시간 84[s] | 손실 2.61\n",
      "| 에폭 2 |  반복 461 / 499 | 시간 86[s] | 손실 2.61\n",
      "| 에폭 2 |  반복 481 / 499 | 시간 88[s] | 손실 2.59\n",
      "| 에폭 3 |  반복 1 / 499 | 시간 90[s] | 손실 2.62\n",
      "| 에폭 3 |  반복 21 / 499 | 시간 93[s] | 손실 2.52\n",
      "| 에폭 3 |  반복 41 / 499 | 시간 96[s] | 손실 2.55\n",
      "| 에폭 3 |  반복 61 / 499 | 시간 97[s] | 손실 2.57\n",
      "| 에폭 3 |  반복 81 / 499 | 시간 99[s] | 손실 2.52\n",
      "| 에폭 3 |  반복 101 / 499 | 시간 101[s] | 손실 2.55\n",
      "| 에폭 3 |  반복 121 / 499 | 시간 104[s] | 손실 2.57\n",
      "| 에폭 3 |  반복 141 / 499 | 시간 105[s] | 손실 2.56\n",
      "| 에폭 3 |  반복 161 / 499 | 시간 107[s] | 손실 2.57\n",
      "| 에폭 3 |  반복 181 / 499 | 시간 109[s] | 손실 2.57\n",
      "| 에폭 3 |  반복 201 / 499 | 시간 111[s] | 손실 2.58\n",
      "| 에폭 3 |  반복 221 / 499 | 시간 113[s] | 손실 2.57\n",
      "| 에폭 3 |  반복 241 / 499 | 시간 115[s] | 손실 2.57\n",
      "| 에폭 3 |  반복 261 / 499 | 시간 116[s] | 손실 2.55\n",
      "| 에폭 3 |  반복 281 / 499 | 시간 119[s] | 손실 2.58\n",
      "| 에폭 3 |  반복 301 / 499 | 시간 120[s] | 손실 2.56\n",
      "| 에폭 3 |  반복 321 / 499 | 시간 121[s] | 손실 2.57\n",
      "| 에폭 3 |  반복 341 / 499 | 시간 123[s] | 손실 2.57\n",
      "| 에폭 3 |  반복 361 / 499 | 시간 124[s] | 손실 2.55\n",
      "| 에폭 3 |  반복 381 / 499 | 시간 126[s] | 손실 2.58\n",
      "| 에폭 3 |  반복 401 / 499 | 시간 128[s] | 손실 2.53\n",
      "| 에폭 3 |  반복 421 / 499 | 시간 130[s] | 손실 2.58\n",
      "| 에폭 3 |  반복 441 / 499 | 시간 132[s] | 손실 2.56\n",
      "| 에폭 3 |  반복 461 / 499 | 시간 134[s] | 손실 2.56\n",
      "| 에폭 3 |  반복 481 / 499 | 시간 136[s] | 손실 2.57\n",
      "| 에폭 4 |  반복 1 / 499 | 시간 138[s] | 손실 2.58\n",
      "| 에폭 4 |  반복 21 / 499 | 시간 139[s] | 손실 2.50\n",
      "| 에폭 4 |  반복 41 / 499 | 시간 141[s] | 손실 2.51\n",
      "| 에폭 4 |  반복 61 / 499 | 시간 142[s] | 손실 2.52\n",
      "| 에폭 4 |  반복 81 / 499 | 시간 143[s] | 손실 2.49\n",
      "| 에폭 4 |  반복 101 / 499 | 시간 145[s] | 손실 2.54\n",
      "| 에폭 4 |  반복 121 / 499 | 시간 146[s] | 손실 2.51\n",
      "| 에폭 4 |  반복 141 / 499 | 시간 147[s] | 손실 2.53\n",
      "| 에폭 4 |  반복 161 / 499 | 시간 149[s] | 손실 2.54\n",
      "| 에폭 4 |  반복 181 / 499 | 시간 150[s] | 손실 2.54\n",
      "| 에폭 4 |  반복 201 / 499 | 시간 152[s] | 손실 2.52\n",
      "| 에폭 4 |  반복 221 / 499 | 시간 153[s] | 손실 2.52\n"
     ]
    }
   ],
   "source": [
    "# 모델 생성\n",
    "model = CBOW(vocab_size, hidden_size, window_size, corpus)\n",
    "optimizer = Adam()\n",
    "trainer = Trainer(model,optimizer)\n",
    "\n",
    "# 학습 : 50000개 일때 약 7분 소요\n",
    "trainer.fit(contexts, target, max_epoch, batch_size)"
   ]
  },
  {
   "cell_type": "code",
   "execution_count": null,
   "metadata": {},
   "outputs": [],
   "source": [
    "trainer.plot()"
   ]
  },
  {
   "cell_type": "code",
   "execution_count": null,
   "metadata": {},
   "outputs": [],
   "source": [
    "# 나중에 사용할 수 있도록 필요한 데이터 저장\n",
    "word_vecs = model.word_vecs\n",
    "\n",
    "params = {}\n",
    "params['word_vecs'] = word_vecs.astype(np.float16)\n",
    "params['word_to_id'] = word_to_id\n",
    "params['id_to_word'] = id_to_word\n",
    "pkl_file = 'cbow_params.pkl'  # 저장할 파일\n",
    "with open(pkl_file, 'wb') as f:\n",
    "    pickle.dump(params, f, -1) # 저장"
   ]
  },
  {
   "cell_type": "code",
   "execution_count": null,
   "metadata": {},
   "outputs": [],
   "source": [
    "# W_in :단어의 분산 표현\n",
    "print(model.word_vecs.shape)\n",
    "model.word_vecs"
   ]
  },
  {
   "cell_type": "code",
   "execution_count": null,
   "metadata": {},
   "outputs": [],
   "source": []
  }
 ],
 "metadata": {
  "kernelspec": {
   "display_name": "Python 3",
   "language": "python",
   "name": "python3"
  },
  "language_info": {
   "codemirror_mode": {
    "name": "ipython",
    "version": 3
   },
   "file_extension": ".py",
   "mimetype": "text/x-python",
   "name": "python",
   "nbconvert_exporter": "python",
   "pygments_lexer": "ipython3",
   "version": "3.7.7"
  }
 },
 "nbformat": 4,
 "nbformat_minor": 4
}
