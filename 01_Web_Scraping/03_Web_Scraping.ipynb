{
 "cells": [
  {
   "cell_type": "markdown",
   "metadata": {},
   "source": [
    "### 동적 웹 페이지 1"
   ]
  },
  {
   "cell_type": "markdown",
   "metadata": {},
   "source": [
    "## selenium\n",
    ": 웹페이지를 원격으로 다양한 조작을 자동화"
   ]
  },
  {
   "cell_type": "code",
   "execution_count": 6,
   "metadata": {},
   "outputs": [],
   "source": [
    "# ! pip install selenium"
   ]
  },
  {
   "cell_type": "code",
   "execution_count": 17,
   "metadata": {},
   "outputs": [
    {
     "name": "stdout",
     "output_type": "stream",
     "text": [
      "HTML 요소 : <selenium.webdriver.remote.webelement.WebElement (session=\"809a2f133842845fff06ea7664eb4601\", element=\"8c4b3373-2265-4178-8cfa-46b935dd7ddc\")>\n",
      "태그이름 : a\n",
      "문자열 : 로그인\n"
     ]
    }
   ],
   "source": [
    "from selenium import webdriver\n",
    "\n",
    "driver = webdriver.Chrome(\"chromedriver\")\n",
    "driver.implicitly_wait(3)              # 드라이버가 초기화 될때 까지 3초 대기\n",
    "driver.get('https://www.danawa.com/')  # 크롬 웹브라우저를 새로 연다\n",
    "\n",
    "# 크롬 개발자도구로 로그인 소스를 찾는다\n",
    "#       <li class=\"my_page_service\">\n",
    "# \t\t\t<a href=\"https://auth.danawa.com/login?url=http%3A%2F%2Fwww.danawa.com%2F\" class=\"\">\n",
    "# \t\t\t\t<span class=\"my_serv_tit\">로그인</span>\n",
    "\n",
    "# \t\t\t</a>\n",
    "# \t\t</li>\n",
    "\n",
    "# 로그인 스크립트 소스를  찾아냄\n",
    "login = driver.find_element_by_css_selector('li.my_page_service > a')\n",
    "\n",
    "print(\"HTML 요소 :\", login)\n",
    "print(\"태그이름 :\", login.tag_name)\n",
    "print(\"문자열 :\", login.text)\n",
    "\n",
    "\n",
    "driver.close()"
   ]
  },
  {
   "cell_type": "code",
   "execution_count": null,
   "metadata": {},
   "outputs": [],
   "source": [
    "# 로그인하기"
   ]
  }
 ],
 "metadata": {
  "kernelspec": {
   "display_name": "Python 3",
   "language": "python",
   "name": "python3"
  },
  "language_info": {
   "codemirror_mode": {
    "name": "ipython",
    "version": 3
   },
   "file_extension": ".py",
   "mimetype": "text/x-python",
   "name": "python",
   "nbconvert_exporter": "python",
   "pygments_lexer": "ipython3",
   "version": "3.7.7"
  }
 },
 "nbformat": 4,
 "nbformat_minor": 4
}
