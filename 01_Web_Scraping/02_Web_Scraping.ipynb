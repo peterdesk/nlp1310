{
 "cells": [
  {
   "cell_type": "markdown",
   "metadata": {},
   "source": [
    "### CSS Selector 활용하기 1\n",
    "[select 선택자 기본 서식]\n",
    "- \\*  : 모든 요소를 선택\n",
    "- <요소이름> : 요소이름으로 선택\n",
    "- .<클래스 이름> : 클래스 이름으로 선택\n",
    "- #<id이름> : id 이름으로 선택\n",
    "\n",
    "https://m.blog.naver.com/kiddwannabe/221177292446"
   ]
  },
  {
   "cell_type": "code",
   "execution_count": 7,
   "metadata": {},
   "outputs": [
    {
     "name": "stdout",
     "output_type": "stream",
     "text": [
      "[<img alt=\"Seoul-Metro-2004-20070722.jpg\" data-file-height=\"2100\" data-file-width=\"2800\" decoding=\"async\" height=\"225\" src=\"//upload.wikimedia.org/wikipedia/commons/thumb/2/29/Seoul-Metro-2004-20070722.jpg/300px-Seoul-Metro-2004-20070722.jpg\" srcset=\"//upload.wikimedia.org/wikipedia/commons/thumb/2/29/Seoul-Metro-2004-20070722.jpg/450px-Seoul-Metro-2004-20070722.jpg 1.5x, //upload.wikimedia.org/wikipedia/commons/thumb/2/29/Seoul-Metro-2004-20070722.jpg/600px-Seoul-Metro-2004-20070722.jpg 2x\" width=\"300\"/>]\n",
      "\n",
      "\n",
      "<img alt=\"Seoul-Metro-2004-20070722.jpg\" data-file-height=\"2100\" data-file-width=\"2800\" decoding=\"async\" height=\"225\" src=\"//upload.wikimedia.org/wikipedia/commons/thumb/2/29/Seoul-Metro-2004-20070722.jpg/300px-Seoul-Metro-2004-20070722.jpg\" srcset=\"//upload.wikimedia.org/wikipedia/commons/thumb/2/29/Seoul-Metro-2004-20070722.jpg/450px-Seoul-Metro-2004-20070722.jpg 1.5x, //upload.wikimedia.org/wikipedia/commons/thumb/2/29/Seoul-Metro-2004-20070722.jpg/600px-Seoul-Metro-2004-20070722.jpg 2x\" width=\"300\"/>\n",
      "\n",
      "\n",
      "[<img alt=\"South Korea subway logo.svg\" data-file-height=\"450\" data-file-width=\"450\" decoding=\"async\" height=\"75\" src=\"//upload.wikimedia.org/wikipedia/commons/thumb/1/12/South_Korea_subway_logo.svg/75px-South_Korea_subway_logo.svg.png\" srcset=\"//upload.wikimedia.org/wikipedia/commons/thumb/1/12/South_Korea_subway_logo.svg/113px-South_Korea_subway_logo.svg.png 1.5x, //upload.wikimedia.org/wikipedia/commons/thumb/1/12/South_Korea_subway_logo.svg/150px-South_Korea_subway_logo.svg.png 2x\" width=\"75\"/>, <img alt=\"Seoul-Metro-2004-20070722.jpg\" data-file-height=\"2100\" data-file-width=\"2800\" decoding=\"async\" height=\"225\" src=\"//upload.wikimedia.org/wikipedia/commons/thumb/2/29/Seoul-Metro-2004-20070722.jpg/300px-Seoul-Metro-2004-20070722.jpg\" srcset=\"//upload.wikimedia.org/wikipedia/commons/thumb/2/29/Seoul-Metro-2004-20070722.jpg/450px-Seoul-Metro-2004-20070722.jpg 1.5x, //upload.wikimedia.org/wikipedia/commons/thumb/2/29/Seoul-Metro-2004-20070722.jpg/600px-Seoul-Metro-2004-20070722.jpg 2x\" width=\"300\"/>]\n",
      "\n",
      "\n",
      "<img alt=\"South Korea subway logo.svg\" data-file-height=\"450\" data-file-width=\"450\" decoding=\"async\" height=\"75\" src=\"//upload.wikimedia.org/wikipedia/commons/thumb/1/12/South_Korea_subway_logo.svg/75px-South_Korea_subway_logo.svg.png\" srcset=\"//upload.wikimedia.org/wikipedia/commons/thumb/1/12/South_Korea_subway_logo.svg/113px-South_Korea_subway_logo.svg.png 1.5x, //upload.wikimedia.org/wikipedia/commons/thumb/1/12/South_Korea_subway_logo.svg/150px-South_Korea_subway_logo.svg.png 2x\" width=\"75\"/>\n",
      "\n",
      "\n",
      "<img alt=\"Seoul-Metro-2004-20070722.jpg\" data-file-height=\"2100\" data-file-width=\"2800\" decoding=\"async\" height=\"225\" src=\"//upload.wikimedia.org/wikipedia/commons/thumb/2/29/Seoul-Metro-2004-20070722.jpg/300px-Seoul-Metro-2004-20070722.jpg\" srcset=\"//upload.wikimedia.org/wikipedia/commons/thumb/2/29/Seoul-Metro-2004-20070722.jpg/450px-Seoul-Metro-2004-20070722.jpg 1.5x, //upload.wikimedia.org/wikipedia/commons/thumb/2/29/Seoul-Metro-2004-20070722.jpg/600px-Seoul-Metro-2004-20070722.jpg 2x\" width=\"300\"/>\n",
      "\n",
      "\n"
     ]
    }
   ],
   "source": [
    "import requests\n",
    "from bs4 import BeautifulSoup \n",
    "\n",
    "# CSS(Cascading Style Sheet) : 웹문서의 디자인 요소를 담당\n",
    "# CSS 선택자에서 자손 태그는 공백(white space)으로 자식 태그는 > 기호로 표현\n",
    "\n",
    "url = \"https://en.wikipedia.org/wiki/Seoul_Metropolitan_Subway\"\n",
    "resp = requests.get(url)\n",
    "html_src = resp.text\n",
    "\n",
    "soup = BeautifulSoup(html_src,'html.parser')\n",
    "\n",
    "# 크롬 개발자 도구로 Copy selector를 사용하여 얻어옴\n",
    "# \"Seoul-Metro-2004-20070722.jpg\"\n",
    "# #mw-content-text > div.mw-parser-output > table:nth-child(3) > tbody > tr:nth-child(2) > td > a > img\n",
    "\n",
    "# python 3.7.5 이하에서 정상 실행\n",
    "subway_image = soup.select('#mw-content-text > div.mw-parser-output > table:nth-child(3) >\\\n",
    "                            tbody > tr:nth-child(2) > td > a > img')\n",
    "print(subway_image)\n",
    "print('\\n')\n",
    "print(subway_image[0])\n",
    "print('\\n')\n",
    "\n",
    "\n",
    "# 450*450 log image\n",
    "# <tr>\n",
    "# <td colspan=\"2\" style=\"text-align:center\">\n",
    "# <a href=\"/wiki/File:South_Korea_subway_logo.svg\" class=\"image\">\n",
    "# <img alt=\"South Korea subway logo.svg\" src=\"//upload.wikimedia.org/wikipedia/commons/thumb/1/12/South_Korea_subway_logo.svg/75px-South_Korea_subway_logo.svg.png\" decoding=\"async\" width=\"75\" height=\"75\" srcset=\"//upload.wikimedia.org/wikipedia/commons/thumb/1/12/South_Korea_subway_logo.svg/113px-South_Korea_subway_logo.svg.png 1.5x, //upload.wikimedia.org/wikipedia/commons/thumb/1/12/South_Korea_subway_logo.svg/150px-South_Korea_subway_logo.svg.png 2x\" data-file-width=\"450\" data-file-height=\"450\" />\n",
    "# </a>\n",
    "# </td>\n",
    "# </tr>\n",
    "subway_image2 = soup.select('tr > td > a > img')\n",
    "print(subway_image2)\n",
    "print('\\n')\n",
    "\n",
    "print(subway_image2[0])  # South Korea subway logo.svg\n",
    "print('\\n')\n",
    "\n",
    "print(subway_image2[1])  # Seoul-Metro-2004-20070722.jpg\n",
    "print('\\n')"
   ]
  },
  {
   "cell_type": "markdown",
   "metadata": {},
   "source": [
    "### CSS Selector 활용하기 2"
   ]
  },
  {
   "cell_type": "code",
   "execution_count": 17,
   "metadata": {},
   "outputs": [
    {
     "name": "stdout",
     "output_type": "stream",
     "text": [
      "963\n",
      "[<a id=\"top\"></a>, <a class=\"mw-jump-link\" href=\"#mw-head\">Jump to navigation</a>, <a class=\"mw-jump-link\" href=\"#searchInput\">Jump to search</a>]\n",
      "\n",
      "\n",
      "[<a class=\"external text\" href=\"http://www.seoulmetro.co.kr/kr/board.do?menuIdx=548\" rel=\"nofollow\">\"자료실 : 알림마당&gt;자료실&gt;자료실\"</a>, <a class=\"external text\" href=\"http://www.korail.com/file/statistics/2012/2012-04.pdf\" rel=\"nofollow\">2012 Korail Statistics</a>, <a class=\"external text\" href=\"https://web.archive.org/web/20140227072212/http://www.korail.com/file/statistics/2012/2012-04.pdf\" rel=\"nofollow\">Archived</a>]\n",
      "\n",
      "\n",
      "[<div class=\"mw-body-content\" id=\"siteNotice\"><!-- CentralNotice --></div>]\n",
      "\n",
      "\n",
      "[<div class=\"mw-body-content\" id=\"siteNotice\"><!-- CentralNotice --></div>]\n",
      "\n",
      "\n",
      "[]\n",
      "\n",
      "\n",
      "[<span class=\"mw-headline\" id=\"Overview\">Overview</span>, <span class=\"mw-headline\" id=\"History\">History</span>, <span class=\"mw-headline\" id=\"Lines_and_branches\">Lines and branches</span>, <span class=\"mw-headline\" id=\"Rolling_stock\">Rolling stock</span>, <span class=\"mw-headline\" id=\"Fares_and_ticketing\">Fares and ticketing</span>, <span class=\"mw-headline\" id=\"Current_construction\">Current construction</span>, <span class=\"mw-headline\" id=\"Opening_2020\">Opening 2020</span>, <span class=\"mw-headline\" id=\"Opening_2021\">Opening 2021</span>, <span class=\"mw-headline\" id=\"Opening_2022\">Opening 2022</span>, <span class=\"mw-headline\" id=\"Opening_2023\">Opening 2023</span>, <span class=\"mw-headline\" id=\"Tentative\">Tentative</span>, <span class=\"mw-headline\" id=\"Under_planning\">Under planning</span>, <span class=\"mw-headline\" id=\"Seoul_City\">Seoul City</span>, <span class=\"mw-headline\" id=\"Incheon_City\">Incheon City</span>, <span class=\"mw-headline\" id=\"Network_map\">Network map</span>, <span class=\"mw-headline\" id=\"See_also\">See also</span>, <span class=\"mw-headline\" id=\"Notes\">Notes</span>, <span class=\"mw-headline\" id=\"References\">References</span>, <span class=\"mw-headline\" id=\"External_links\">External links</span>]\n",
      "\n",
      "\n",
      "[<span class=\"mw-headline\" id=\"Overview\">Overview</span>, <span class=\"mw-headline\" id=\"History\">History</span>, <span class=\"mw-headline\" id=\"Lines_and_branches\">Lines and branches</span>, <span class=\"mw-headline\" id=\"Rolling_stock\">Rolling stock</span>, <span class=\"mw-headline\" id=\"Fares_and_ticketing\">Fares and ticketing</span>, <span class=\"mw-headline\" id=\"Current_construction\">Current construction</span>, <span class=\"mw-headline\" id=\"Opening_2020\">Opening 2020</span>, <span class=\"mw-headline\" id=\"Opening_2021\">Opening 2021</span>, <span class=\"mw-headline\" id=\"Opening_2022\">Opening 2022</span>, <span class=\"mw-headline\" id=\"Opening_2023\">Opening 2023</span>, <span class=\"mw-headline\" id=\"Tentative\">Tentative</span>, <span class=\"mw-headline\" id=\"Under_planning\">Under planning</span>, <span class=\"mw-headline\" id=\"Seoul_City\">Seoul City</span>, <span class=\"mw-headline\" id=\"Incheon_City\">Incheon City</span>, <span class=\"mw-headline\" id=\"Network_map\">Network map</span>, <span class=\"mw-headline\" id=\"See_also\">See also</span>, <span class=\"mw-headline\" id=\"Notes\">Notes</span>, <span class=\"mw-headline\" id=\"References\">References</span>, <span class=\"mw-headline\" id=\"External_links\">External links</span>]\n",
      "\n",
      "\n"
     ]
    }
   ],
   "source": [
    "import requests\n",
    "from bs4 import BeautifulSoup \n",
    "\n",
    "url = \"https://en.wikipedia.org/wiki/Seoul_Metropolitan_Subway\"\n",
    "resp = requests.get(url)\n",
    "html_src = resp.text\n",
    "\n",
    "soup = BeautifulSoup(html_src,'html.parser')\n",
    "\n",
    "links = soup.select('a') # tag 'a' 전체 검색\n",
    "print(len(links))\n",
    "print(links[:3])\n",
    "print('\\n')\n",
    "\n",
    "external_links = soup.select('a[class=\"external text\"]') # class \"external text\"의 tag 'a' 검색\n",
    "print(external_links[:3])\n",
    "print('\\n')\n",
    "\n",
    "id_selector = soup.select('#siteNotice')  # '#id이름'으로 선택\n",
    "print(id_selector)\n",
    "print('\\n')\n",
    "\n",
    "id_selector2 = soup.select('div#siteNotice')  # '#id이름'의 tag 'div'를 선택, 위 코드와 동일한 결과\n",
    "print(id_selector2)\n",
    "print('\\n')\n",
    "\n",
    "id_selector3 = soup.select('p#siteNotice')  # '#id이름'의 tag 'p'를 선택 --> 결과 없음\n",
    "print(id_selector3)\n",
    "print('\\n')\n",
    "\n",
    "class_selector = soup.select('.mw-headline') # '.클래스이름' 으로 선택\n",
    "print(class_selector)\n",
    "print('\\n')\n",
    "\n",
    "class_selector2 = soup.select('span.mw-headline') # '.클래스이름'의 tag 'span' 으로 선택, 위 코드와 동일한 결과\n",
    "print(class_selector2)\n",
    "print('\\n')"
   ]
  },
  {
   "cell_type": "markdown",
   "metadata": {},
   "source": [
    "###  구글 뉴스 클리핑하기 1  : (실습과제 참고 소스)"
   ]
  },
  {
   "cell_type": "code",
   "execution_count": 24,
   "metadata": {},
   "outputs": [
    {
     "name": "stdout",
     "output_type": "stream",
     "text": [
      "100\n",
      "https://news.google.com./articles/CBMiOWh0dHA6Ly93d3cuYWl0aW1lcy5jb20vbmV3cy9hcnRpY2xlVmlldy5odG1sP2lkeG5vPTEzMjU3M9IBAA?hl=ko&gl=KR&ceid=KR%3Ako\n",
      "https://news.google.com./articles/CBMiMWh0dHBzOi8vd3d3LmNvZGluZ3dvcmxkbmV3cy5jb20vYXJ0aWNsZS92aWV3LzE1MzLSAQA?hl=ko&gl=KR&ceid=KR%3Ako\n",
      "https://news.google.com./articles/CBMiR2h0dHBzOi8vYml6LmNob3N1bi5jb20vc2l0ZS9kYXRhL2h0bWxfZGlyLzIwMjAvMDkvMTUvMjAyMDA5MTUwMDk5OS5odG1s0gFDaHR0cHM6Ly9tLmJpei5jaG9zdW4uY29tL25ld3MvYXJ0aWNsZS5hbXAuaHRtbD9jb250aWQ9MjAyMDA5MTUwMDk5OQ?hl=ko&gl=KR&ceid=KR%3Ako\n"
     ]
    }
   ],
   "source": [
    "import requests\n",
    "from bs4 import BeautifulSoup \n",
    "\n",
    "base_url = \"https://news.google.com\"\n",
    "\n",
    "# 구글 뉴스사이트 : 검색어로 '파이썬'을 입력\n",
    "# https://news.google.com/search?q=%ED%8C%8C%EC%9D%B4%EC%8D%AC&hl=ko&gl=KR&ceid=KR%3Ako\n",
    "\n",
    "search_url = base_url + '/search?q=%ED%8C%8C%EC%9D%B4%EC%8D%AC&hl=ko&gl=KR&ceid=KR%3Ako'\n",
    "\n",
    "resp = requests.get(search_url)\n",
    "html_src = resp.text\n",
    "\n",
    "soup = BeautifulSoup(html_src,'html.parser')\n",
    "\n",
    "# 크롬 개발자 도구 사용\n",
    "# <div class=\"xrnccd\"><article class=\" MQsxIb xTewfe R7GTQ keNKEd j7vNaf Cc0Z5d EjqUne\" jscontroller=\"mhFxVb\" jsaction=\";rcuQ6b:npT2md; click:KjsqPd;EXlHgb:HQ4Dqd\" jsmodel=\"QWGJif hT8rr\" jslog=\"85008\" jsdata=\"oM6qxc;CBMiOWh0dHA6Ly93d3cuYWl0aW1lcy5jb20vbmV3cy9hcnRpY2xlVmlldy5odG1sP2lkeG5vPTEzMjU3M9IBAA;$78\" data-kind=\"13\" data-n-ham=\"true\" data-n-et=\"107\" data-n-cvid=\"c93\" data-n-vlb=\"0\"><a class=\"VDXfz\" jsname=\"hXwDdf\" jslog=\"95014; 5:W251bGwsbnVsbCxudWxsLG51bGwsbnVsbCxudWxsLG51bGwsbnVsbCwiaHR0cDovL3d3dy5haXRpbWVzLmNvbS9uZXdzL2FydGljbGVWaWV3Lmh0bWw_aWR4bm89MTMyNTczIixudWxsLG51bGwsW11d; track:click\" href=\"./articles/CBMiOWh0dHA6Ly93d3cuYWl0aW1lcy5jb20vbmV3cy9hcnRpY2xlVmlldy5odG1sP2lkeG5vPTEzMjU3M9IBAA?hl=ko&amp;gl=KR&amp;ceid=KR%3Ako\" tabindex=\"-1\" target=\"_blank\" aria-hidden=\"true\"></a><h3 class=\"ipQwMb ekueJc RD0gLb\"><a href=\"./articles/CBMiOWh0dHA6Ly93d3cuYWl0aW1lcy5jb20vbmV3cy9hcnRpY2xlVmlldy5odG1sP2lkeG5vPTEzMjU3M9IBAA?hl=ko&amp;gl=KR&amp;ceid=KR%3Ako\" class=\"DY5T1d\">TIOBE 코딩 언어 순위, 파이썬 2위 달성 코앞</a></h3><div jsname=\"jVqMGc\" aria-hidden=\"true\" class=\"Da10Tb Rai5ob\"><span class=\"xBbh9\">파이썬(Python)이 세계 프로그래밍 언어 인기 순위인 TIOBE 인덱스에서 사상 최고 성적을 기록했다. 이는 학계 및 산업계에서 인공지능(AI) 활용도가 높아지면서 빅 ...</span></div><div class=\"QmrVtf RD0gLb\"><div class=\"SVJrMe\" jsname=\"Hn1wIf\"><span class=\"DPvwYc N3ElHc hEsB5d eLNT1d uQIVzc\" aria-hidden=\"true\" jsname=\"boXlNc\">amp</span><span class=\"DPvwYc N3ElHc gQtGhf eLNT1d uQIVzc\" aria-hidden=\"true\">video_youtube</span><a class=\"wEwyrc AVN2gc uQIVzc Sksgp\">AI타임스</a><time class=\"WW6dff uQIVzc Sksgp\" datetime=\"2020-10-05T02:17:46Z\">3시간 전</time></div><menu class=\"fmkQje gXqRq\"><div data-n-st=\"bookmark\" data-n-et=\"1000\" jsaction=\"rcuQ6b:npT2md;JIbuQc:h5M12e;eEPUnd:h5M12e;YohPuc:CE7Jad;\" jscontroller=\"j3kq0e\" jsmodel=\"Vf5Xdc\" jsname=\"ms4Zd\" jsdata=\"oM6qxc;CBMiOWh0dHA6Ly93d3cuYWl0aW1lcy5jb20vbmV3cy9hcnRpY2xlVmlldy5odG1sP2lkeG5vPTEzMjU3M9IBAA;$78\" class=\"OGsJDe L8PZAb R71ogd\" data-n-ca-at=\"2\" jslog=\"93376\"><div role=\"button\" class=\"U26fgb YOnsCc waNn5b ZqhUjb ztUP4e uUmIDd cd29Sd V3dfMc w0hkKb\" jscontroller=\"nGXkff\" jsaction=\"click:cOuCgd; mousedown:UX7yZ; mouseup:lbsD7e; mouseenter:tfO1Yc; mouseleave:JywGue; focus:AHmuwe; blur:O22p3e; contextmenu:mg9Pef;touchstart:p6p2H; touchmove:FwuNnf; touchend:yfqBxc(preventMouseEvents=true|preventDefault=true); touchcancel:JMtRjd;;OuuAFc:UauMyf;gSufsc:BS8cLb;RyWlBb:tC9Erd;UTnG9:aDaYxb;nUyoxf:El6wk;\" jsshadow=\"\" jsname=\"itaskb\" aria-disabled=\"false\" tabindex=\"0\" data-n-et=\"1000\" aria-label=\"저장하여 나중에 읽기\" data-tooltip=\"저장하여 나중에 읽기\"><div class=\"XI1L0d\" jsname=\"ksKsZd\"></div><span class=\"DPvwYc ChwdAb Xd067b fAk9Qc\" aria-hidden=\"true\" jsname=\"BC5job\">bookmark_border</span></div></div><span class=\"L8PZAb uG2FLd\" jscontroller=\"ewrQ6c\" jsmodel=\"cQe25d hECoeb\" jsaction=\"JIbuQc:RNDhHe;\" jsdata=\"oM6qxc;CBMiOWh0dHA6Ly93d3cuYWl0aW1lcy5jb20vbmV3cy9hcnRpY2xlVmlldy5odG1sP2lkeG5vPTEzMjU3M9IBAA;$78\" jslog=\"93393\" data-n-et=\"1000\" data-n-ca-at=\"8\"><div role=\"button\" class=\"U26fgb YOnsCc waNn5b ZqhUjb ztUP4e uUmIDd cd29Sd V3dfMc w0hkKb \" jscontroller=\"nGXkff\" jsaction=\"click:cOuCgd; mousedown:UX7yZ; mouseup:lbsD7e; mouseenter:tfO1Yc; mouseleave:JywGue; focus:AHmuwe; blur:O22p3e; contextmenu:mg9Pef;touchstart:p6p2H; touchmove:FwuNnf; touchend:yfqBxc(preventMouseEvents=true|preventDefault=true); touchcancel:JMtRjd;;OuuAFc:UauMyf;gSufsc:BS8cLb;RyWlBb:tC9Erd;UTnG9:aDaYxb;nUyoxf:El6wk;\" jsshadow=\"\" jsname=\"itaskb\" aria-label=\"공유\" aria-disabled=\"false\" tabindex=\"0\" data-tooltip=\"공유\" data-n-et=\"1000\" data-tooltip-vertical-offset=\"-12\" data-tooltip-horizontal-offset=\"0\"><div class=\"XI1L0d\" jsname=\"ksKsZd\"></div><span class=\"DPvwYc ChwdAb Xd067b fAk9Qc\" aria-hidden=\"true\" jsname=\"BC5job\">share</span></div></span><span class=\" L8PZAb GB1Zid\" jscontroller=\"Md9Mid\" jsmodel=\"jZ86ec Vf5Xdc\" jsdata=\"oM6qxc;CBMiOWh0dHA6Ly93d3cuYWl0aW1lcy5jb20vbmV3cy9hcnRpY2xlVmlldy5odG1sP2lkeG5vPTEzMjU3M9IBAA;$78\" jsaction=\"rcuQ6b:npT2md;aWRkAb:u0WEMd;h4C2te:Oy8cwd;\" data-n-prms=\"[false,false,false,null]\" jslog=\"109017\"><div role=\"button\" class=\"U26fgb YOnsCc waNn5b ZqhUjb ztUP4e uUmIDd gL67me cd29Sd V3dfMc w0hkKb \" jscontroller=\"Ui93ue\" jsaction=\"click:cOuCgd; mousedown:UX7yZ; mouseup:lbsD7e; mouseenter:tfO1Yc; mouseleave:JywGue; focus:AHmuwe; blur:O22p3e; contextmenu:mg9Pef;touchstart:p6p2H; touchmove:FwuNnf; touchend:yfqBxc(preventMouseEvents=true|preventDefault=true); touchcancel:JMtRjd;;keydown:I481le;OuuAFc:UauMyf;gSufsc:BS8cLb;RyWlBb:tC9Erd;UTnG9:aDaYxb;nUyoxf:El6wk;\" jsshadow=\"\" jsname=\"itaskb\" aria-label=\"더보기\" aria-disabled=\"false\" tabindex=\"0\" data-tooltip=\"더보기\" aria-haspopup=\"true\" aria-expanded=\"false\" data-dynamic=\"true\" data-tooltip-vertical-offset=\"-12\" data-tooltip-horizontal-offset=\"0\"><div class=\"XI1L0d\" jsname=\"ksKsZd\"></div><span class=\"DPvwYc ChwdAb Xd067b fAk9Qc\" aria-hidden=\"true\" jsname=\"BC5job\">more_vert</span></div></span></menu></div></article></div>\n",
    "news_items = soup.select('div[class=\"xrnccd\"]')\n",
    "print(len(news_items))\n",
    "# print(news_items[0])\n",
    "\n",
    "# 크롬 개발자 도구를 사용한다\n",
    "# 기사가 계속 변경되므로 출력 결과가 달라진다\n",
    "for item in news_items[:3]: # 3회 반복\n",
    "    \n",
    "    # <a class=\"VDXfz\" jsname=\"hXwDdf\" jslog=\"95014; 5:W251bGwsbnVsbCxudWxsLG51bGwsbnVsbCxudWxsLG51bGwsbnVsbCwiaHR0cDovL3d3dy5haXRpbWVzLmNvbS9uZXdzL2FydGljbGVWaWV3Lmh0bWw_aWR4bm89MTMyNTczIixudWxsLG51bGwsW11d; track:click\" href=\"./articles/CBMiOWh0dHA6Ly93d3cuYWl0aW1lcy5jb20vbmV3cy9hcnRpY2xlVmlldy5odG1sP2lkeG5vPTEzMjU3M9IBAA?hl=ko&amp;gl=KR&amp;ceid=KR%3Ako\" tabindex=\"-1\" target=\"_blank\" aria-hidden=\"true\"></a>\n",
    "    link = item.find('a',attrs={\"class\":\"VDXfz\"}).get('href')\n",
    "    news_link = base_url + link\n",
    "    print(news_link)\n",
    "    \n",
    "#     # url link를 찾음 (selct()를 사용한 경우) , 결과는 위와 동일\n",
    "#     link = item.select('a.VDXfz')\n",
    "#     link = link[0].get('href')\n",
    "#     news_link = base_url + link\n",
    "#     print(news_link)   \n",
    "\n"
   ]
  },
  {
   "cell_type": "code",
   "execution_count": 20,
   "metadata": {},
   "outputs": [],
   "source": [
    "# # 인코딩과 디코딩 참고 코드\n",
    "# # encoding  : str --> bytes\n",
    "# mystr = '파이썬'\n",
    "# encoded = mystr.encode('utf-8')\n",
    "# print(encoded,type(encoded))\n",
    "\n",
    "# # decoding : bytes --> str\n",
    "# decoded = encoded.decode('utf-8')\n",
    "# print(decoded,type(decoded))"
   ]
  },
  {
   "cell_type": "code",
   "execution_count": null,
   "metadata": {},
   "outputs": [],
   "source": []
  }
 ],
 "metadata": {
  "kernelspec": {
   "display_name": "Python 3",
   "language": "python",
   "name": "python3"
  },
  "language_info": {
   "codemirror_mode": {
    "name": "ipython",
    "version": 3
   },
   "file_extension": ".py",
   "mimetype": "text/x-python",
   "name": "python",
   "nbconvert_exporter": "python",
   "pygments_lexer": "ipython3",
   "version": "3.7.4"
  }
 },
 "nbformat": 4,
 "nbformat_minor": 2
}
