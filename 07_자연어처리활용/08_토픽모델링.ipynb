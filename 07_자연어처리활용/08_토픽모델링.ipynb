{
 "cells": [
  {
   "cell_type": "markdown",
   "metadata": {
    "colab_type": "text",
    "id": "3OKsUir3B7Y_"
   },
   "source": [
    "# 토픽 모델링(Topic Modeling)\n",
    "#### 토픽(Topic)은 한국어로는 주제라고 한다. \n",
    "#### 토픽 모델링(Topic Modeling)이란 기계 학습 및 자연어 처리 분야에서 토픽이라는 문서 집합의 추상적인 주제를 발견하기 위한 통계적 모델 중 하나로, \n",
    "\n",
    "#### 텍스트 본문의 숨겨진 의미 구조를 발견하기 위해 사용되는 텍스트 마이닝 기법이다."
   ]
  },
  {
   "cell_type": "markdown",
   "metadata": {
    "colab_type": "text",
    "id": "gW8ml3TmB7ZC"
   },
   "source": [
    "## [1] TF-IDF(Term Frequency-Inverse Document Frequency) : 단어 빈도-역 문서 빈도\n",
    "TF-IDF(Term Frequency - Inverse Document Frequency)는 정보 검색과 텍스트 마이닝에서 이용하는 가중치로, 여러 문서로 이루어진 문서군이 있을 때 어떤 단어가 특정 문서 내에서 얼마나 중요한 것인지를 나타내는 통계적 수치이다. 문서의 핵심어를 추출하거나, 검색 엔진에서 검색 결과의 순위를 결정하거나, 문서들 사이의 비슷한 정도를 구하는 등의 용도로 사용할 수 있다."
   ]
  },
  {
   "cell_type": "code",
   "execution_count": 1,
   "metadata": {
    "colab": {},
    "colab_type": "code",
    "executionInfo": {
     "elapsed": 2392,
     "status": "ok",
     "timestamp": 1600822262490,
     "user": {
      "displayName": "고병화",
      "photoUrl": "https://lh3.googleusercontent.com/a-/AOh14GgLZcAZyPt33HiIqtXjHiL8D4PIcVPdfLgODP1QBA=s64",
      "userId": "12645007744594631320"
     },
     "user_tz": -540
    },
    "id": "LqlbgW3zB7ZE"
   },
   "outputs": [],
   "source": [
    "import pandas as pd # 데이터프레임 사용을 위해\n",
    "import numpy as np\n",
    "from math import log # IDF 계산을 위해"
   ]
  },
  {
   "cell_type": "code",
   "execution_count": 2,
   "metadata": {
    "colab": {},
    "colab_type": "code",
    "executionInfo": {
     "elapsed": 2381,
     "status": "ok",
     "timestamp": 1600822262491,
     "user": {
      "displayName": "고병화",
      "photoUrl": "https://lh3.googleusercontent.com/a-/AOh14GgLZcAZyPt33HiIqtXjHiL8D4PIcVPdfLgODP1QBA=s64",
      "userId": "12645007744594631320"
     },
     "user_tz": -540
    },
    "id": "GqYTV_-zB7ZN"
   },
   "outputs": [
    {
     "data": {
      "text/plain": [
       "['과일이', '길고', '노란', '먹고', '바나나', '사과', '싶은', '저는', '좋아요']"
      ]
     },
     "execution_count": 2,
     "metadata": {},
     "output_type": "execute_result"
    }
   ],
   "source": [
    "docs = [\n",
    "  '먹고 싶은 사과',\n",
    "  '먹고 싶은 바나나',\n",
    "  '길고 노란 바나나 바나나',\n",
    "  '저는 과일이 좋아요'\n",
    "] \n",
    "vocab = list(set(w for doc in docs for w in doc.split()))\n",
    "vocab.sort()\n",
    "vocab"
   ]
  },
  {
   "cell_type": "code",
   "execution_count": 3,
   "metadata": {
    "colab": {},
    "colab_type": "code",
    "executionInfo": {
     "elapsed": 2374,
     "status": "ok",
     "timestamp": 1600822262492,
     "user": {
      "displayName": "고병화",
      "photoUrl": "https://lh3.googleusercontent.com/a-/AOh14GgLZcAZyPt33HiIqtXjHiL8D4PIcVPdfLgODP1QBA=s64",
      "userId": "12645007744594631320"
     },
     "user_tz": -540
    },
    "id": "NnOUCN3uB7ZW"
   },
   "outputs": [],
   "source": [
    "N = len(docs) # 총 문서의 수 , 4\n",
    "\n",
    "def tf(t, d):  # 특정 문서 d에서의 특정 단어 t의 등장 횟수\n",
    "    return d.count(t)\n",
    "\n",
    "def idf(t):  # df(t):특정 단어 t가 등장한 문서의 수,idf(t):df(t)의 역수, log는 N이 커지면 값이 기하급수로 늘어나는걸 방지,분모 1은 df가 0일 경우 대비\n",
    "    df = 0\n",
    "    for doc in docs:\n",
    "        df += t in doc\n",
    "    return log(N/(df + 1))\n",
    "\n",
    "def tfidf(t, d): # tf(t,d)와 idf(t)를 곱한 값\n",
    "    return tf(t,d)* idf(t)"
   ]
  },
  {
   "cell_type": "code",
   "execution_count": 4,
   "metadata": {
    "colab": {
     "base_uri": "https://localhost:8080/",
     "height": 168
    },
    "colab_type": "code",
    "executionInfo": {
     "elapsed": 2358,
     "status": "ok",
     "timestamp": 1600822262493,
     "user": {
      "displayName": "고병화",
      "photoUrl": "https://lh3.googleusercontent.com/a-/AOh14GgLZcAZyPt33HiIqtXjHiL8D4PIcVPdfLgODP1QBA=s64",
      "userId": "12645007744594631320"
     },
     "user_tz": -540
    },
    "id": "Vw6nK3U5B7Zf",
    "outputId": "8a772ef9-7d4d-4b5b-ffb0-0f540a25903f"
   },
   "outputs": [
    {
     "data": {
      "text/html": [
       "<div>\n",
       "<style scoped>\n",
       "    .dataframe tbody tr th:only-of-type {\n",
       "        vertical-align: middle;\n",
       "    }\n",
       "\n",
       "    .dataframe tbody tr th {\n",
       "        vertical-align: top;\n",
       "    }\n",
       "\n",
       "    .dataframe thead th {\n",
       "        text-align: right;\n",
       "    }\n",
       "</style>\n",
       "<table border=\"1\" class=\"dataframe\">\n",
       "  <thead>\n",
       "    <tr style=\"text-align: right;\">\n",
       "      <th></th>\n",
       "      <th>과일이</th>\n",
       "      <th>길고</th>\n",
       "      <th>노란</th>\n",
       "      <th>먹고</th>\n",
       "      <th>바나나</th>\n",
       "      <th>사과</th>\n",
       "      <th>싶은</th>\n",
       "      <th>저는</th>\n",
       "      <th>좋아요</th>\n",
       "    </tr>\n",
       "  </thead>\n",
       "  <tbody>\n",
       "    <tr>\n",
       "      <th>0</th>\n",
       "      <td>0</td>\n",
       "      <td>0</td>\n",
       "      <td>0</td>\n",
       "      <td>1</td>\n",
       "      <td>0</td>\n",
       "      <td>1</td>\n",
       "      <td>1</td>\n",
       "      <td>0</td>\n",
       "      <td>0</td>\n",
       "    </tr>\n",
       "    <tr>\n",
       "      <th>1</th>\n",
       "      <td>0</td>\n",
       "      <td>0</td>\n",
       "      <td>0</td>\n",
       "      <td>1</td>\n",
       "      <td>1</td>\n",
       "      <td>0</td>\n",
       "      <td>1</td>\n",
       "      <td>0</td>\n",
       "      <td>0</td>\n",
       "    </tr>\n",
       "    <tr>\n",
       "      <th>2</th>\n",
       "      <td>0</td>\n",
       "      <td>1</td>\n",
       "      <td>1</td>\n",
       "      <td>0</td>\n",
       "      <td>2</td>\n",
       "      <td>0</td>\n",
       "      <td>0</td>\n",
       "      <td>0</td>\n",
       "      <td>0</td>\n",
       "    </tr>\n",
       "    <tr>\n",
       "      <th>3</th>\n",
       "      <td>1</td>\n",
       "      <td>0</td>\n",
       "      <td>0</td>\n",
       "      <td>0</td>\n",
       "      <td>0</td>\n",
       "      <td>0</td>\n",
       "      <td>0</td>\n",
       "      <td>1</td>\n",
       "      <td>1</td>\n",
       "    </tr>\n",
       "  </tbody>\n",
       "</table>\n",
       "</div>"
      ],
      "text/plain": [
       "   과일이  길고  노란  먹고  바나나  사과  싶은  저는  좋아요\n",
       "0    0   0   0   1    0   1   1   0    0\n",
       "1    0   0   0   1    1   0   1   0    0\n",
       "2    0   1   1   0    2   0   0   0    0\n",
       "3    1   0   0   0    0   0   0   1    1"
      ]
     },
     "execution_count": 4,
     "metadata": {},
     "output_type": "execute_result"
    }
   ],
   "source": [
    "# Document-Term Matrix(DTM) : 문서에서 등장하는 각 단어들의 빈도를 행렬로 표현\n",
    "result = []\n",
    "for i in range(N):\n",
    "    result.append([])\n",
    "    d = docs[i]\n",
    "    for j in range(len(vocab)):\n",
    "        t = vocab[j]        \n",
    "        result[-1].append(tf(t, d))\n",
    "\n",
    "tf_ = pd.DataFrame(result, columns = vocab)\n",
    "tf_"
   ]
  },
  {
   "cell_type": "code",
   "execution_count": 5,
   "metadata": {
    "colab": {
     "base_uri": "https://localhost:8080/",
     "height": 319
    },
    "colab_type": "code",
    "executionInfo": {
     "elapsed": 2344,
     "status": "ok",
     "timestamp": 1600822262493,
     "user": {
      "displayName": "고병화",
      "photoUrl": "https://lh3.googleusercontent.com/a-/AOh14GgLZcAZyPt33HiIqtXjHiL8D4PIcVPdfLgODP1QBA=s64",
      "userId": "12645007744594631320"
     },
     "user_tz": -540
    },
    "id": "EJ-tAcW5B7Zq",
    "outputId": "49fa2b80-130a-4374-934c-c34408edf471"
   },
   "outputs": [
    {
     "data": {
      "text/html": [
       "<div>\n",
       "<style scoped>\n",
       "    .dataframe tbody tr th:only-of-type {\n",
       "        vertical-align: middle;\n",
       "    }\n",
       "\n",
       "    .dataframe tbody tr th {\n",
       "        vertical-align: top;\n",
       "    }\n",
       "\n",
       "    .dataframe thead th {\n",
       "        text-align: right;\n",
       "    }\n",
       "</style>\n",
       "<table border=\"1\" class=\"dataframe\">\n",
       "  <thead>\n",
       "    <tr style=\"text-align: right;\">\n",
       "      <th></th>\n",
       "      <th>IDF</th>\n",
       "    </tr>\n",
       "  </thead>\n",
       "  <tbody>\n",
       "    <tr>\n",
       "      <th>과일이</th>\n",
       "      <td>0.693147</td>\n",
       "    </tr>\n",
       "    <tr>\n",
       "      <th>길고</th>\n",
       "      <td>0.693147</td>\n",
       "    </tr>\n",
       "    <tr>\n",
       "      <th>노란</th>\n",
       "      <td>0.693147</td>\n",
       "    </tr>\n",
       "    <tr>\n",
       "      <th>먹고</th>\n",
       "      <td>0.287682</td>\n",
       "    </tr>\n",
       "    <tr>\n",
       "      <th>바나나</th>\n",
       "      <td>0.287682</td>\n",
       "    </tr>\n",
       "    <tr>\n",
       "      <th>사과</th>\n",
       "      <td>0.693147</td>\n",
       "    </tr>\n",
       "    <tr>\n",
       "      <th>싶은</th>\n",
       "      <td>0.287682</td>\n",
       "    </tr>\n",
       "    <tr>\n",
       "      <th>저는</th>\n",
       "      <td>0.693147</td>\n",
       "    </tr>\n",
       "    <tr>\n",
       "      <th>좋아요</th>\n",
       "      <td>0.693147</td>\n",
       "    </tr>\n",
       "  </tbody>\n",
       "</table>\n",
       "</div>"
      ],
      "text/plain": [
       "          IDF\n",
       "과일이  0.693147\n",
       "길고   0.693147\n",
       "노란   0.693147\n",
       "먹고   0.287682\n",
       "바나나  0.287682\n",
       "사과   0.693147\n",
       "싶은   0.287682\n",
       "저는   0.693147\n",
       "좋아요  0.693147"
      ]
     },
     "execution_count": 5,
     "metadata": {},
     "output_type": "execute_result"
    }
   ],
   "source": [
    "result = []\n",
    "for j in range(len(vocab)):\n",
    "    t = vocab[j]\n",
    "    result.append(idf(t))\n",
    "\n",
    "idf_ = pd.DataFrame(result, index = vocab, columns = [\"IDF\"])\n",
    "idf_"
   ]
  },
  {
   "cell_type": "code",
   "execution_count": 6,
   "metadata": {
    "colab": {
     "base_uri": "https://localhost:8080/",
     "height": 168
    },
    "colab_type": "code",
    "executionInfo": {
     "elapsed": 2332,
     "status": "ok",
     "timestamp": 1600822262494,
     "user": {
      "displayName": "고병화",
      "photoUrl": "https://lh3.googleusercontent.com/a-/AOh14GgLZcAZyPt33HiIqtXjHiL8D4PIcVPdfLgODP1QBA=s64",
      "userId": "12645007744594631320"
     },
     "user_tz": -540
    },
    "id": "0GauXZCGB7Zx",
    "outputId": "ef84fd06-ef6a-4697-a0d9-6624b92e4ab7"
   },
   "outputs": [
    {
     "data": {
      "text/html": [
       "<div>\n",
       "<style scoped>\n",
       "    .dataframe tbody tr th:only-of-type {\n",
       "        vertical-align: middle;\n",
       "    }\n",
       "\n",
       "    .dataframe tbody tr th {\n",
       "        vertical-align: top;\n",
       "    }\n",
       "\n",
       "    .dataframe thead th {\n",
       "        text-align: right;\n",
       "    }\n",
       "</style>\n",
       "<table border=\"1\" class=\"dataframe\">\n",
       "  <thead>\n",
       "    <tr style=\"text-align: right;\">\n",
       "      <th></th>\n",
       "      <th>과일이</th>\n",
       "      <th>길고</th>\n",
       "      <th>노란</th>\n",
       "      <th>먹고</th>\n",
       "      <th>바나나</th>\n",
       "      <th>사과</th>\n",
       "      <th>싶은</th>\n",
       "      <th>저는</th>\n",
       "      <th>좋아요</th>\n",
       "    </tr>\n",
       "  </thead>\n",
       "  <tbody>\n",
       "    <tr>\n",
       "      <th>0</th>\n",
       "      <td>0.000000</td>\n",
       "      <td>0.000000</td>\n",
       "      <td>0.000000</td>\n",
       "      <td>0.287682</td>\n",
       "      <td>0.000000</td>\n",
       "      <td>0.693147</td>\n",
       "      <td>0.287682</td>\n",
       "      <td>0.000000</td>\n",
       "      <td>0.000000</td>\n",
       "    </tr>\n",
       "    <tr>\n",
       "      <th>1</th>\n",
       "      <td>0.000000</td>\n",
       "      <td>0.000000</td>\n",
       "      <td>0.000000</td>\n",
       "      <td>0.287682</td>\n",
       "      <td>0.287682</td>\n",
       "      <td>0.000000</td>\n",
       "      <td>0.287682</td>\n",
       "      <td>0.000000</td>\n",
       "      <td>0.000000</td>\n",
       "    </tr>\n",
       "    <tr>\n",
       "      <th>2</th>\n",
       "      <td>0.000000</td>\n",
       "      <td>0.693147</td>\n",
       "      <td>0.693147</td>\n",
       "      <td>0.000000</td>\n",
       "      <td>0.575364</td>\n",
       "      <td>0.000000</td>\n",
       "      <td>0.000000</td>\n",
       "      <td>0.000000</td>\n",
       "      <td>0.000000</td>\n",
       "    </tr>\n",
       "    <tr>\n",
       "      <th>3</th>\n",
       "      <td>0.693147</td>\n",
       "      <td>0.000000</td>\n",
       "      <td>0.000000</td>\n",
       "      <td>0.000000</td>\n",
       "      <td>0.000000</td>\n",
       "      <td>0.000000</td>\n",
       "      <td>0.000000</td>\n",
       "      <td>0.693147</td>\n",
       "      <td>0.693147</td>\n",
       "    </tr>\n",
       "  </tbody>\n",
       "</table>\n",
       "</div>"
      ],
      "text/plain": [
       "        과일이        길고        노란        먹고       바나나        사과        싶은  \\\n",
       "0  0.000000  0.000000  0.000000  0.287682  0.000000  0.693147  0.287682   \n",
       "1  0.000000  0.000000  0.000000  0.287682  0.287682  0.000000  0.287682   \n",
       "2  0.000000  0.693147  0.693147  0.000000  0.575364  0.000000  0.000000   \n",
       "3  0.693147  0.000000  0.000000  0.000000  0.000000  0.000000  0.000000   \n",
       "\n",
       "         저는       좋아요  \n",
       "0  0.000000  0.000000  \n",
       "1  0.000000  0.000000  \n",
       "2  0.000000  0.000000  \n",
       "3  0.693147  0.693147  "
      ]
     },
     "execution_count": 6,
     "metadata": {},
     "output_type": "execute_result"
    }
   ],
   "source": [
    "result = []\n",
    "for i in range(N):\n",
    "    result.append([])\n",
    "    d = docs[i]\n",
    "    for j in range(len(vocab)):\n",
    "        t = vocab[j]\n",
    "\n",
    "        result[-1].append(tfidf(t,d))\n",
    "\n",
    "tfidf_ = pd.DataFrame(result, columns = vocab)\n",
    "tfidf_\n",
    "\n",
    "# TF-IDF는 모든 문서에서 자주 등장하는 단어는 중요도가 낮다고 판단하며, 특정 문서에서만 자주 등장하는 단어는 중요도가 높다고 판단한다 \n",
    "# TF-IDF 값이 낮으면 중요도가 낮은 것이며, TF-IDF 값이 크면 중요도가 큰 것. 즉, the나 a와 같이 불용어의 경우에는 모든 문서에 자주 \n",
    "# 등장하기 마련이기 때문에 자연스럽게 불용어의 TF-IDF의 값은 다른 단어의 TF-IDF에 비해서 낮아지게 된다"
   ]
  },
  {
   "cell_type": "markdown",
   "metadata": {
    "colab_type": "text",
    "id": "TojL0Ux3B7Z5"
   },
   "source": [
    "### 사이킷런을 이용한 DTM과 TF-IDF"
   ]
  },
  {
   "cell_type": "code",
   "execution_count": 7,
   "metadata": {
    "colab": {
     "base_uri": "https://localhost:8080/",
     "height": 91
    },
    "colab_type": "code",
    "executionInfo": {
     "elapsed": 2313,
     "status": "ok",
     "timestamp": 1600822262495,
     "user": {
      "displayName": "고병화",
      "photoUrl": "https://lh3.googleusercontent.com/a-/AOh14GgLZcAZyPt33HiIqtXjHiL8D4PIcVPdfLgODP1QBA=s64",
      "userId": "12645007744594631320"
     },
     "user_tz": -540
    },
    "id": "CBTZiNvsB7Z7",
    "outputId": "5c93d2b2-5aca-48f9-8261-a69ddaf3dd35"
   },
   "outputs": [
    {
     "name": "stdout",
     "output_type": "stream",
     "text": [
      "[[0 1 0 1 0 1 0 1 1]\n",
      " [0 0 1 0 0 0 0 1 0]\n",
      " [1 0 0 0 1 0 1 0 0]]\n",
      "{'you': 7, 'know': 1, 'want': 5, 'your': 8, 'love': 3, 'like': 2, 'what': 6, 'should': 4, 'do': 0}\n"
     ]
    }
   ],
   "source": [
    "from sklearn.feature_extraction.text import CountVectorizer\n",
    "corpus = [\n",
    "    'you know I want your love',\n",
    "    'I like you',\n",
    "    'what should I do ',    \n",
    "]\n",
    "vector = CountVectorizer()\n",
    "print(vector.fit_transform(corpus).toarray()) # 코퍼스로부터 각 단어의 빈도 수를 기록한다.\n",
    "print(vector.vocabulary_)                     # 각 단어의 인덱스가 어떻게 부여되었는지를 보여준다 , 한개의 문자는 인덱스를 만들지 않음"
   ]
  },
  {
   "cell_type": "code",
   "execution_count": 8,
   "metadata": {
    "colab": {
     "base_uri": "https://localhost:8080/",
     "height": 147
    },
    "colab_type": "code",
    "executionInfo": {
     "elapsed": 2304,
     "status": "ok",
     "timestamp": 1600822262495,
     "user": {
      "displayName": "고병화",
      "photoUrl": "https://lh3.googleusercontent.com/a-/AOh14GgLZcAZyPt33HiIqtXjHiL8D4PIcVPdfLgODP1QBA=s64",
      "userId": "12645007744594631320"
     },
     "user_tz": -540
    },
    "id": "PM2A8Gj6B7aG",
    "outputId": "155d5be1-730e-490c-995b-554ac979c3e1"
   },
   "outputs": [
    {
     "name": "stdout",
     "output_type": "stream",
     "text": [
      "[[0.         0.46735098 0.         0.46735098 0.         0.46735098\n",
      "  0.         0.35543247 0.46735098]\n",
      " [0.         0.         0.79596054 0.         0.         0.\n",
      "  0.         0.60534851 0.        ]\n",
      " [0.57735027 0.         0.         0.         0.57735027 0.\n",
      "  0.57735027 0.         0.        ]]\n",
      "{'you': 7, 'know': 1, 'want': 5, 'your': 8, 'love': 3, 'like': 2, 'what': 6, 'should': 4, 'do': 0}\n"
     ]
    }
   ],
   "source": [
    "from sklearn.feature_extraction.text import TfidfVectorizer\n",
    "corpus = [\n",
    "    'you know I want your love',\n",
    "    'I like you',\n",
    "    'what should I do ',    \n",
    "]\n",
    "tfidfv = TfidfVectorizer().fit(corpus)\n",
    "print(tfidfv.transform(corpus).toarray())\n",
    "print(tfidfv.vocabulary_)"
   ]
  },
  {
   "cell_type": "markdown",
   "metadata": {
    "colab_type": "text",
    "id": "cPOUvXu1B7aO"
   },
   "source": [
    "## [2] 잠재 의미 분석(Latent Semantic Analysis, LSA)\n",
    "SA는 기본적으로 DTM이나 TF-IDF 행렬에 절단된 SVD(truncated SVD)를 사용하여 차원을 축소시키고, 단어들의 잠재적인 의미를 끌어낸다"
   ]
  },
  {
   "cell_type": "code",
   "execution_count": 9,
   "metadata": {
    "colab": {},
    "colab_type": "code",
    "executionInfo": {
     "elapsed": 2728,
     "status": "ok",
     "timestamp": 1600822262922,
     "user": {
      "displayName": "고병화",
      "photoUrl": "https://lh3.googleusercontent.com/a-/AOh14GgLZcAZyPt33HiIqtXjHiL8D4PIcVPdfLgODP1QBA=s64",
      "userId": "12645007744594631320"
     },
     "user_tz": -540
    },
    "id": "6R_ybZ37B7aQ"
   },
   "outputs": [],
   "source": [
    "from sklearn.datasets import fetch_20newsgroups"
   ]
  },
  {
   "cell_type": "code",
   "execution_count": 10,
   "metadata": {
    "colab": {
     "base_uri": "https://localhost:8080/",
     "height": 73
    },
    "colab_type": "code",
    "executionInfo": {
     "elapsed": 14073,
     "status": "ok",
     "timestamp": 1600822274278,
     "user": {
      "displayName": "고병화",
      "photoUrl": "https://lh3.googleusercontent.com/a-/AOh14GgLZcAZyPt33HiIqtXjHiL8D4PIcVPdfLgODP1QBA=s64",
      "userId": "12645007744594631320"
     },
     "user_tz": -540
    },
    "id": "9pfdZawtB7aX",
    "outputId": "ed514345-4333-4441-f6a2-622bbf694ac1"
   },
   "outputs": [
    {
     "data": {
      "text/plain": [
       "11314"
      ]
     },
     "execution_count": 10,
     "metadata": {},
     "output_type": "execute_result"
    }
   ],
   "source": [
    "# wenty Newsgroups 뉴스 그룹 데이터 읽어오기 \n",
    "dataset = fetch_20newsgroups(shuffle=True, random_state=1, remove=('headers', 'footers', 'quotes'))\n",
    "documents = dataset.data   # list\n",
    "len(documents) # 11314"
   ]
  },
  {
   "cell_type": "code",
   "execution_count": 11,
   "metadata": {
    "colab": {
     "base_uri": "https://localhost:8080/",
     "height": 91
    },
    "colab_type": "code",
    "executionInfo": {
     "elapsed": 14067,
     "status": "ok",
     "timestamp": 1600822274279,
     "user": {
      "displayName": "고병화",
      "photoUrl": "https://lh3.googleusercontent.com/a-/AOh14GgLZcAZyPt33HiIqtXjHiL8D4PIcVPdfLgODP1QBA=s64",
      "userId": "12645007744594631320"
     },
     "user_tz": -540
    },
    "id": "AkT5tOJWB7af",
    "outputId": "d93d1ecb-4b5e-4db6-fab7-3fc1b5c28ee9"
   },
   "outputs": [
    {
     "data": {
      "text/plain": [
       "\"\\n\\n\\n\\n\\n\\n\\nYeah, do you expect people to read the FAQ, etc. and actually accept hard\\natheism?  No, you need a little leap of faith, Jimmy.  Your logic runs out\\nof steam!\\n\\n\\n\\n\\n\\n\\n\\nJim,\\n\\nSorry I can't pity you, Jim.  And I'm sorry that you have these feelings of\\ndenial about the faith you need to get by.  Oh well, just pretend that it will\\nall end happily ever after anyway.  Maybe if you start a new newsgroup,\\nalt.atheist.hard, you won't be bummin' so much?\\n\\n\\n\\n\\n\\n\\nBye-Bye, Big Jim.  Don't forget your Flintstone's Chewables!  :) \\n--\\nBake Timmons, III\""
      ]
     },
     "execution_count": 11,
     "metadata": {},
     "output_type": "execute_result"
    }
   ],
   "source": [
    "documents[1]"
   ]
  },
  {
   "cell_type": "code",
   "execution_count": 12,
   "metadata": {
    "colab": {
     "base_uri": "https://localhost:8080/",
     "height": 56
    },
    "colab_type": "code",
    "executionInfo": {
     "elapsed": 14058,
     "status": "ok",
     "timestamp": 1600822274280,
     "user": {
      "displayName": "고병화",
      "photoUrl": "https://lh3.googleusercontent.com/a-/AOh14GgLZcAZyPt33HiIqtXjHiL8D4PIcVPdfLgODP1QBA=s64",
      "userId": "12645007744594631320"
     },
     "user_tz": -540
    },
    "id": "o4lUCgdpB7an",
    "outputId": "8317cc8d-33be-422e-f7e0-05277b5af034"
   },
   "outputs": [
    {
     "name": "stdout",
     "output_type": "stream",
     "text": [
      "['alt.atheism', 'comp.graphics', 'comp.os.ms-windows.misc', 'comp.sys.ibm.pc.hardware', 'comp.sys.mac.hardware', 'comp.windows.x', 'misc.forsale', 'rec.autos', 'rec.motorcycles', 'rec.sport.baseball', 'rec.sport.hockey', 'sci.crypt', 'sci.electronics', 'sci.med', 'sci.space', 'soc.religion.christian', 'talk.politics.guns', 'talk.politics.mideast', 'talk.politics.misc', 'talk.religion.misc']\n"
     ]
    }
   ],
   "source": [
    "print(dataset.target_names)"
   ]
  },
  {
   "cell_type": "markdown",
   "metadata": {
    "colab_type": "text",
    "id": "JibjU7BSB7aw"
   },
   "source": [
    "### 텍스트 전처리"
   ]
  },
  {
   "cell_type": "code",
   "execution_count": 13,
   "metadata": {
    "colab": {},
    "colab_type": "code",
    "executionInfo": {
     "elapsed": 14858,
     "status": "ok",
     "timestamp": 1600822275084,
     "user": {
      "displayName": "고병화",
      "photoUrl": "https://lh3.googleusercontent.com/a-/AOh14GgLZcAZyPt33HiIqtXjHiL8D4PIcVPdfLgODP1QBA=s64",
      "userId": "12645007744594631320"
     },
     "user_tz": -540
    },
    "id": "H_Xt8wIeB7ax"
   },
   "outputs": [],
   "source": [
    "news_df = pd.DataFrame({'document':documents})\n",
    "# 특수 문자 제거\n",
    "news_df['clean_doc'] = news_df['document'].str.replace(\"[^a-zA-Z]\", \" \")\n",
    "# 길이가 3이하인 단어는 제거 (길이가 짧은 단어 제거)\n",
    "news_df['clean_doc'] = news_df['clean_doc'].apply(lambda x: ' '.join([w for w in x.split() if len(w)>3]))\n",
    "# 전체 단어에 대한 소문자 변환\n",
    "news_df['clean_doc'] = news_df['clean_doc'].apply(lambda x: x.lower())"
   ]
  },
  {
   "cell_type": "code",
   "execution_count": 14,
   "metadata": {
    "colab": {
     "base_uri": "https://localhost:8080/",
     "height": 73
    },
    "colab_type": "code",
    "executionInfo": {
     "elapsed": 14850,
     "status": "ok",
     "timestamp": 1600822275086,
     "user": {
      "displayName": "고병화",
      "photoUrl": "https://lh3.googleusercontent.com/a-/AOh14GgLZcAZyPt33HiIqtXjHiL8D4PIcVPdfLgODP1QBA=s64",
      "userId": "12645007744594631320"
     },
     "user_tz": -540
    },
    "id": "0cMmVjhaB7a1",
    "outputId": "56600b11-fd86-4692-8ea8-2daa9beb7e2b"
   },
   "outputs": [
    {
     "data": {
      "text/plain": [
       "'yeah expect people read actually accept hard atheism need little leap faith jimmy your logic runs steam sorry pity sorry that have these feelings denial about faith need well just pretend that will happily ever after anyway maybe start newsgroup atheist hard bummin much forget your flintstone chewables bake timmons'"
      ]
     },
     "execution_count": 14,
     "metadata": {},
     "output_type": "execute_result"
    }
   ],
   "source": [
    "news_df['clean_doc'][1]"
   ]
  },
  {
   "cell_type": "code",
   "execution_count": 15,
   "metadata": {
    "colab": {
     "base_uri": "https://localhost:8080/",
     "height": 73
    },
    "colab_type": "code",
    "executionInfo": {
     "elapsed": 16350,
     "status": "ok",
     "timestamp": 1600822276593,
     "user": {
      "displayName": "고병화",
      "photoUrl": "https://lh3.googleusercontent.com/a-/AOh14GgLZcAZyPt33HiIqtXjHiL8D4PIcVPdfLgODP1QBA=s64",
      "userId": "12645007744594631320"
     },
     "user_tz": -540
    },
    "id": "5n9f7gPtCXMb",
    "outputId": "021b4a7d-ca79-4e81-cc3b-25049cc3a584"
   },
   "outputs": [
    {
     "name": "stderr",
     "output_type": "stream",
     "text": [
      "[nltk_data] Downloading package stopwords to\n",
      "[nltk_data]     C:\\Users\\IPA(백찬휘)\\AppData\\Roaming\\nltk_data...\n",
      "[nltk_data]   Package stopwords is already up-to-date!\n",
      "[nltk_data] Downloading package wordnet to\n",
      "[nltk_data]     C:\\Users\\IPA(백찬휘)\\AppData\\Roaming\\nltk_data...\n",
      "[nltk_data]   Package wordnet is already up-to-date!\n"
     ]
    },
    {
     "data": {
      "text/plain": [
       "True"
      ]
     },
     "execution_count": 15,
     "metadata": {},
     "output_type": "execute_result"
    }
   ],
   "source": [
    "import nltk\n",
    "nltk.download('stopwords')\n",
    "nltk.download('wordnet')"
   ]
  },
  {
   "cell_type": "code",
   "execution_count": 16,
   "metadata": {
    "colab": {},
    "colab_type": "code",
    "executionInfo": {
     "elapsed": 17876,
     "status": "ok",
     "timestamp": 1600822278121,
     "user": {
      "displayName": "고병화",
      "photoUrl": "https://lh3.googleusercontent.com/a-/AOh14GgLZcAZyPt33HiIqtXjHiL8D4PIcVPdfLgODP1QBA=s64",
      "userId": "12645007744594631320"
     },
     "user_tz": -540
    },
    "id": "YphcfWXnB7a7"
   },
   "outputs": [],
   "source": [
    "from nltk.corpus import stopwords\n",
    "stop_words = stopwords.words('english') # NLTK로부터 불용어를 받아옵니다.\n",
    "tokenized_doc = news_df['clean_doc'].apply(lambda x: x.split()) # 토큰화\n",
    "tokenized_doc = tokenized_doc.apply(lambda x: [item for item in x if item not in stop_words])\n",
    "# 불용어를 제거"
   ]
  },
  {
   "cell_type": "code",
   "execution_count": 17,
   "metadata": {
    "colab": {
     "base_uri": "https://localhost:8080/",
     "height": 56
    },
    "colab_type": "code",
    "executionInfo": {
     "elapsed": 17872,
     "status": "ok",
     "timestamp": 1600822278124,
     "user": {
      "displayName": "고병화",
      "photoUrl": "https://lh3.googleusercontent.com/a-/AOh14GgLZcAZyPt33HiIqtXjHiL8D4PIcVPdfLgODP1QBA=s64",
      "userId": "12645007744594631320"
     },
     "user_tz": -540
    },
    "id": "d1wtaoUhB7bB",
    "outputId": "2298f141-52ab-4c84-9cb6-dab374cc75b0"
   },
   "outputs": [
    {
     "name": "stdout",
     "output_type": "stream",
     "text": [
      "['yeah', 'expect', 'people', 'read', 'actually', 'accept', 'hard', 'atheism', 'need', 'little', 'leap', 'faith', 'jimmy', 'logic', 'runs', 'steam', 'sorry', 'pity', 'sorry', 'feelings', 'denial', 'faith', 'need', 'well', 'pretend', 'happily', 'ever', 'anyway', 'maybe', 'start', 'newsgroup', 'atheist', 'hard', 'bummin', 'much', 'forget', 'flintstone', 'chewables', 'bake', 'timmons']\n"
     ]
    }
   ],
   "source": [
    "print(tokenized_doc[1])"
   ]
  },
  {
   "cell_type": "markdown",
   "metadata": {
    "colab_type": "text",
    "id": "vDSMfzcNB7bI"
   },
   "source": [
    "### TF-IDF 행렬 만들기"
   ]
  },
  {
   "cell_type": "code",
   "execution_count": 18,
   "metadata": {
    "colab": {},
    "colab_type": "code",
    "executionInfo": {
     "elapsed": 17871,
     "status": "ok",
     "timestamp": 1600822278125,
     "user": {
      "displayName": "고병화",
      "photoUrl": "https://lh3.googleusercontent.com/a-/AOh14GgLZcAZyPt33HiIqtXjHiL8D4PIcVPdfLgODP1QBA=s64",
      "userId": "12645007744594631320"
     },
     "user_tz": -540
    },
    "id": "fHqUBE7UB7bJ"
   },
   "outputs": [],
   "source": [
    "# 역토큰화 (토큰화 작업을 역으로 되돌림)\n",
    "detokenized_doc = []\n",
    "for i in range(len(news_df)):\n",
    "    t = ' '.join(tokenized_doc[i])\n",
    "    detokenized_doc.append(t)\n",
    "\n",
    "news_df['clean_doc'] = detokenized_doc"
   ]
  },
  {
   "cell_type": "code",
   "execution_count": 19,
   "metadata": {
    "colab": {
     "base_uri": "https://localhost:8080/",
     "height": 54
    },
    "colab_type": "code",
    "executionInfo": {
     "elapsed": 17864,
     "status": "ok",
     "timestamp": 1600822278125,
     "user": {
      "displayName": "고병화",
      "photoUrl": "https://lh3.googleusercontent.com/a-/AOh14GgLZcAZyPt33HiIqtXjHiL8D4PIcVPdfLgODP1QBA=s64",
      "userId": "12645007744594631320"
     },
     "user_tz": -540
    },
    "id": "1rakV_t2B7bN",
    "outputId": "362b93a1-6dc7-4fbb-d0e3-59a66ee0ee5b"
   },
   "outputs": [
    {
     "data": {
      "text/plain": [
       "'yeah expect people read actually accept hard atheism need little leap faith jimmy logic runs steam sorry pity sorry feelings denial faith need well pretend happily ever anyway maybe start newsgroup atheist hard bummin much forget flintstone chewables bake timmons'"
      ]
     },
     "execution_count": 19,
     "metadata": {},
     "output_type": "execute_result"
    }
   ],
   "source": [
    "news_df['clean_doc'][1]"
   ]
  },
  {
   "cell_type": "code",
   "execution_count": 20,
   "metadata": {
    "colab": {
     "base_uri": "https://localhost:8080/",
     "height": 36
    },
    "colab_type": "code",
    "executionInfo": {
     "elapsed": 19034,
     "status": "ok",
     "timestamp": 1600822279301,
     "user": {
      "displayName": "고병화",
      "photoUrl": "https://lh3.googleusercontent.com/a-/AOh14GgLZcAZyPt33HiIqtXjHiL8D4PIcVPdfLgODP1QBA=s64",
      "userId": "12645007744594631320"
     },
     "user_tz": -540
    },
    "id": "rgdtusQSB7bS",
    "outputId": "8d9c4eae-407b-47ad-ad4e-99ce725eb367"
   },
   "outputs": [
    {
     "data": {
      "text/plain": [
       "(11314, 1000)"
      ]
     },
     "execution_count": 20,
     "metadata": {},
     "output_type": "execute_result"
    }
   ],
   "source": [
    "from sklearn.feature_extraction.text import TfidfVectorizer\n",
    "\n",
    "vectorizer = TfidfVectorizer(stop_words='english', \n",
    "max_features= 1000, # 상위 1,000개의 단어를 보존 \n",
    "max_df = 0.5, \n",
    "smooth_idf=True)\n",
    "\n",
    "X = vectorizer.fit_transform(news_df['clean_doc'])\n",
    "X.shape # TF-IDF 행렬의 크기 확인"
   ]
  },
  {
   "cell_type": "markdown",
   "metadata": {
    "colab_type": "text",
    "id": "22tX26aXB7bW"
   },
   "source": [
    "### 토픽 모델링(Topic Modeling)"
   ]
  },
  {
   "cell_type": "code",
   "execution_count": 21,
   "metadata": {
    "colab": {
     "base_uri": "https://localhost:8080/",
     "height": 36
    },
    "colab_type": "code",
    "executionInfo": {
     "elapsed": 22184,
     "status": "ok",
     "timestamp": 1600822282458,
     "user": {
      "displayName": "고병화",
      "photoUrl": "https://lh3.googleusercontent.com/a-/AOh14GgLZcAZyPt33HiIqtXjHiL8D4PIcVPdfLgODP1QBA=s64",
      "userId": "12645007744594631320"
     },
     "user_tz": -540
    },
    "id": "LdAK01syB7bY",
    "outputId": "0b0f3f98-8b7e-4efa-da66-2221f40db8e6"
   },
   "outputs": [
    {
     "data": {
      "text/plain": [
       "20"
      ]
     },
     "execution_count": 21,
     "metadata": {},
     "output_type": "execute_result"
    }
   ],
   "source": [
    "from sklearn.decomposition import TruncatedSVD\n",
    "svd_model = TruncatedSVD(n_components=20, algorithm='randomized', n_iter=100, random_state=122)\n",
    "svd_model.fit(X)\n",
    "len(svd_model.components_)   # 뉴스그룹 데이터가 20개의 카테고리를 갖고있었기 때문에, 20개의 토픽을 가졌다고 가정하고 토픽 모델링"
   ]
  },
  {
   "cell_type": "code",
   "execution_count": 22,
   "metadata": {
    "colab": {
     "base_uri": "https://localhost:8080/",
     "height": 36
    },
    "colab_type": "code",
    "executionInfo": {
     "elapsed": 22178,
     "status": "ok",
     "timestamp": 1600822282459,
     "user": {
      "displayName": "고병화",
      "photoUrl": "https://lh3.googleusercontent.com/a-/AOh14GgLZcAZyPt33HiIqtXjHiL8D4PIcVPdfLgODP1QBA=s64",
      "userId": "12645007744594631320"
     },
     "user_tz": -540
    },
    "id": "OPC9gB5sB7bg",
    "outputId": "734c57d6-06e0-4533-b52f-d3f953358211"
   },
   "outputs": [
    {
     "data": {
      "text/plain": [
       "(20, 1000)"
      ]
     },
     "execution_count": 22,
     "metadata": {},
     "output_type": "execute_result"
    }
   ],
   "source": [
    "np.shape(svd_model.components_)  # LSA에서 V.T에 해당, 토픽의 수 t(20), 단어수(1000)"
   ]
  },
  {
   "cell_type": "code",
   "execution_count": 23,
   "metadata": {
    "colab": {
     "base_uri": "https://localhost:8080/",
     "height": 388
    },
    "colab_type": "code",
    "executionInfo": {
     "elapsed": 22173,
     "status": "ok",
     "timestamp": 1600822282460,
     "user": {
      "displayName": "고병화",
      "photoUrl": "https://lh3.googleusercontent.com/a-/AOh14GgLZcAZyPt33HiIqtXjHiL8D4PIcVPdfLgODP1QBA=s64",
      "userId": "12645007744594631320"
     },
     "user_tz": -540
    },
    "id": "Un4Fbqa2B7bn",
    "outputId": "98e2d603-7549-480e-d787-f5ba16b1f118"
   },
   "outputs": [
    {
     "name": "stdout",
     "output_type": "stream",
     "text": [
      "Topic 1: [('like', 0.21378), ('know', 0.20032), ('people', 0.19317), ('think', 0.17807), ('good', 0.15105)]\n",
      "Topic 2: [('thanks', 0.3292), ('windows', 0.29094), ('card', 0.18016), ('drive', 0.1739), ('mail', 0.15126)]\n",
      "Topic 3: [('game', 0.37161), ('team', 0.32553), ('year', 0.28204), ('games', 0.25416), ('season', 0.18464)]\n",
      "Topic 4: [('drive', 0.52804), ('scsi', 0.20035), ('disk', 0.15514), ('hard', 0.15506), ('card', 0.14041)]\n",
      "Topic 5: [('windows', 0.4052), ('file', 0.25609), ('window', 0.18057), ('files', 0.1619), ('program', 0.1401)]\n",
      "Topic 6: [('chip', 0.16138), ('government', 0.16026), ('mail', 0.15625), ('space', 0.1505), ('information', 0.13575)]\n",
      "Topic 7: [('like', 0.67109), ('bike', 0.14268), ('know', 0.11428), ('chip', 0.11058), ('sounds', 0.10398)]\n",
      "Topic 8: [('card', 0.45115), ('sale', 0.21607), ('video', 0.21391), ('monitor', 0.14913), ('offer', 0.14872)]\n",
      "Topic 9: [('know', 0.44979), ('card', 0.35491), ('chip', 0.17206), ('video', 0.15184), ('government', 0.15053)]\n",
      "Topic 10: [('good', 0.41591), ('know', 0.23083), ('time', 0.18988), ('bike', 0.11332), ('jesus', 0.09419)]\n",
      "Topic 11: [('think', 0.78338), ('chip', 0.10778), ('good', 0.10654), ('thanks', 0.08962), ('clipper', 0.07873)]\n",
      "Topic 12: [('thanks', 0.37328), ('problem', 0.21778), ('right', 0.21728), ('good', 0.21301), ('bike', 0.21102)]\n",
      "Topic 13: [('good', 0.3669), ('people', 0.33724), ('windows', 0.28297), ('know', 0.25208), ('file', 0.18138)]\n",
      "Topic 14: [('space', 0.39916), ('think', 0.23326), ('know', 0.17933), ('nasa', 0.15226), ('problem', 0.12932)]\n",
      "Topic 15: [('space', 0.30963), ('good', 0.30091), ('card', 0.2162), ('people', 0.20295), ('time', 0.15889)]\n",
      "Topic 16: [('people', 0.46931), ('problem', 0.20916), ('window', 0.16015), ('time', 0.13971), ('game', 0.13578)]\n",
      "Topic 17: [('time', 0.34532), ('bike', 0.26907), ('right', 0.26148), ('windows', 0.19697), ('file', 0.19177)]\n",
      "Topic 18: [('time', 0.60055), ('problem', 0.15235), ('file', 0.13682), ('think', 0.13024), ('israel', 0.1093)]\n",
      "Topic 19: [('file', 0.45058), ('need', 0.25892), ('card', 0.18726), ('files', 0.1769), ('problem', 0.15143)]\n",
      "Topic 20: [('problem', 0.32669), ('file', 0.2618), ('thanks', 0.23506), ('used', 0.19363), ('space', 0.13747)]\n"
     ]
    }
   ],
   "source": [
    "terms = vectorizer.get_feature_names() # 단어 집합. 1,000개의 단어가 저장됨.\n",
    "\n",
    "# 값이 큰 5개의 값을 찾아서 단어로 출력\n",
    "def get_topics(components, feature_names, n=5):\n",
    "    for idx, topic in enumerate(components):\n",
    "        print(\"Topic %d:\" % (idx+1), [(feature_names[i], topic[i].round(5)) for i in topic.argsort()[:-n - 1:-1]])\n",
    "\n",
    "get_topics(svd_model.components_,terms)\n",
    "\n",
    "# 각 20개의 행의 각 1,000개의 열 중 가장 값이 큰 5개의 값을 찾아서 단어로 출력"
   ]
  },
  {
   "cell_type": "code",
   "execution_count": 24,
   "metadata": {
    "colab": {
     "base_uri": "https://localhost:8080/",
     "height": 110
    },
    "colab_type": "code",
    "executionInfo": {
     "elapsed": 22166,
     "status": "ok",
     "timestamp": 1600822282460,
     "user": {
      "displayName": "고병화",
      "photoUrl": "https://lh3.googleusercontent.com/a-/AOh14GgLZcAZyPt33HiIqtXjHiL8D4PIcVPdfLgODP1QBA=s64",
      "userId": "12645007744594631320"
     },
     "user_tz": -540
    },
    "id": "YvjLuLfCB7bu",
    "outputId": "962c326b-e868-494b-a9f7-d6acf07955e0"
   },
   "outputs": [
    {
     "data": {
      "text/plain": [
       "\"\\n\\n\\n\\n\\tI'd like to see this info as well.  As for wavelength, I think\\nyou're primarily going to find two - 880 nM +/- a bit, and/or 950 nM\\n+/- a bit.  Usually it is about 10 nM either way.  The two most common\\nI have seen were 880 and 950 but I have also heard of 890 and 940.\\nI'm not sure that the 10 nM one way or another will make a great deal of\\ndifference.\\n\\n\\tAnother suggestion - find a brand of TV that uses an IR remote,\\nand go look at the SAMS photofact for it.  You can often find some very\\ndetailed schematics and parts list for not only the receiver but the\\ntransmitter as well, including carrier freq. specs. and tone decoding\\nspecs. if the system uses that.\""
      ]
     },
     "execution_count": 24,
     "metadata": {},
     "output_type": "execute_result"
    }
   ],
   "source": [
    "documents[20]"
   ]
  },
  {
   "cell_type": "code",
   "execution_count": 25,
   "metadata": {
    "colab": {},
    "colab_type": "code",
    "executionInfo": {
     "elapsed": 22165,
     "status": "ok",
     "timestamp": 1600822282461,
     "user": {
      "displayName": "고병화",
      "photoUrl": "https://lh3.googleusercontent.com/a-/AOh14GgLZcAZyPt33HiIqtXjHiL8D4PIcVPdfLgODP1QBA=s64",
      "userId": "12645007744594631320"
     },
     "user_tz": -540
    },
    "id": "pahbLRVBB7b2"
   },
   "outputs": [],
   "source": [
    "# LSA의 단점 : SVD의 특성상 이미 계산된 LSA에 새로운 데이터를 추가하여 계산하려고하면 보통 처음부터 다시 계산해야 한다. \n",
    "# 즉, 새로운 정보에 대해 업데이트가 어렵다. "
   ]
  },
  {
   "cell_type": "markdown",
   "metadata": {
    "colab_type": "text",
    "id": "d6h1xtLDB7cA"
   },
   "source": [
    "## [3] 잠재 디리클레 할당(Latent Dirichlet Allocation, LDA)]\n",
    "토픽 모델링의 대표적인 알고리즘, LDA는 문서들은 토픽들의 혼합으로 구성되어져 있으며, 토픽들은 확률 분포에 기반하여 단어들을 생성한다고 가정한다.<br>\n",
    "데이터가 주어지면, LDA는 문서가 생성되던 과정을 역추적 한다. <br>\n",
    "LSA : DTM을 차원 축소 하여 축소 차원에서 근접 단어들을 토픽으로 묶는다.  <br>\n",
    "LDA : 단어가 특정 토픽에 존재할 확률과 문서에 특정 토픽이 존재할 확률을 결합확률로 추정하여 토픽을 추출한다."
   ]
  },
  {
   "cell_type": "code",
   "execution_count": 26,
   "metadata": {
    "colab": {
     "base_uri": "https://localhost:8080/",
     "height": 147
    },
    "colab_type": "code",
    "executionInfo": {
     "elapsed": 22159,
     "status": "ok",
     "timestamp": 1600822282462,
     "user": {
      "displayName": "고병화",
      "photoUrl": "https://lh3.googleusercontent.com/a-/AOh14GgLZcAZyPt33HiIqtXjHiL8D4PIcVPdfLgODP1QBA=s64",
      "userId": "12645007744594631320"
     },
     "user_tz": -540
    },
    "id": "IAnDXI-HB7cD",
    "outputId": "d7490dc8-032e-4bdc-f480-50693dc0718c"
   },
   "outputs": [
    {
     "name": "stdout",
     "output_type": "stream",
     "text": [
      "(11314,)\n"
     ]
    },
    {
     "data": {
      "text/plain": [
       "0    [well, sure, story, seem, biased, disagree, st...\n",
       "1    [yeah, expect, people, read, actually, accept,...\n",
       "2    [although, realize, principle, strongest, poin...\n",
       "3    [notwithstanding, legitimate, fuss, proposal, ...\n",
       "4    [well, change, scoring, playoff, pool, unfortu...\n",
       "Name: clean_doc, dtype: object"
      ]
     },
     "execution_count": 26,
     "metadata": {},
     "output_type": "execute_result"
    }
   ],
   "source": [
    "print(tokenized_doc.shape)\n",
    "tokenized_doc[:5]"
   ]
  },
  {
   "cell_type": "code",
   "execution_count": 27,
   "metadata": {
    "colab": {
     "base_uri": "https://localhost:8080/",
     "height": 56
    },
    "colab_type": "code",
    "executionInfo": {
     "elapsed": 24344,
     "status": "ok",
     "timestamp": 1600822284654,
     "user": {
      "displayName": "고병화",
      "photoUrl": "https://lh3.googleusercontent.com/a-/AOh14GgLZcAZyPt33HiIqtXjHiL8D4PIcVPdfLgODP1QBA=s64",
      "userId": "12645007744594631320"
     },
     "user_tz": -540
    },
    "id": "mqD30ik6B7cJ",
    "outputId": "3aeebe2b-c40b-49cc-dc2d-7e32e8416fe1"
   },
   "outputs": [
    {
     "name": "stdout",
     "output_type": "stream",
     "text": [
      "[(52, 1), (55, 1), (56, 1), (57, 1), (58, 1), (59, 1), (60, 1), (61, 1), (62, 1), (63, 1), (64, 1), (65, 1), (66, 2), (67, 1), (68, 1), (69, 1), (70, 1), (71, 2), (72, 1), (73, 1), (74, 1), (75, 1), (76, 1), (77, 1), (78, 2), (79, 1), (80, 1), (81, 1), (82, 1), (83, 1), (84, 1), (85, 2), (86, 1), (87, 1), (88, 1), (89, 1)]\n"
     ]
    }
   ],
   "source": [
    "# ! pip install gensim\n",
    "from gensim import corpora\n",
    "dictionary = corpora.Dictionary(tokenized_doc)\n",
    "corpus = [dictionary.doc2bow(text) for text in tokenized_doc]\n",
    "print(corpus[1]) # 수행된 결과에서 두번째 뉴스 출력. 첫번째 문서의 인덱스는 0"
   ]
  },
  {
   "cell_type": "code",
   "execution_count": 28,
   "metadata": {
    "colab": {
     "base_uri": "https://localhost:8080/",
     "height": 36
    },
    "colab_type": "code",
    "executionInfo": {
     "elapsed": 24338,
     "status": "ok",
     "timestamp": 1600822284656,
     "user": {
      "displayName": "고병화",
      "photoUrl": "https://lh3.googleusercontent.com/a-/AOh14GgLZcAZyPt33HiIqtXjHiL8D4PIcVPdfLgODP1QBA=s64",
      "userId": "12645007744594631320"
     },
     "user_tz": -540
    },
    "id": "KdPOiWfTB7cQ",
    "outputId": "7c4b9b12-6bb3-41c5-bcfe-c09db3236590"
   },
   "outputs": [
    {
     "name": "stdout",
     "output_type": "stream",
     "text": [
      "faith\n"
     ]
    }
   ],
   "source": [
    "print(dictionary[66])"
   ]
  },
  {
   "cell_type": "code",
   "execution_count": 29,
   "metadata": {
    "colab": {
     "base_uri": "https://localhost:8080/",
     "height": 36
    },
    "colab_type": "code",
    "executionInfo": {
     "elapsed": 24330,
     "status": "ok",
     "timestamp": 1600822284657,
     "user": {
      "displayName": "고병화",
      "photoUrl": "https://lh3.googleusercontent.com/a-/AOh14GgLZcAZyPt33HiIqtXjHiL8D4PIcVPdfLgODP1QBA=s64",
      "userId": "12645007744594631320"
     },
     "user_tz": -540
    },
    "id": "lfGkpRTHB7cX",
    "outputId": "c68b767d-abb6-4c1c-df96-79b997a75736"
   },
   "outputs": [
    {
     "data": {
      "text/plain": [
       "64281"
      ]
     },
     "execution_count": 29,
     "metadata": {},
     "output_type": "execute_result"
    }
   ],
   "source": [
    "len(dictionary)"
   ]
  },
  {
   "cell_type": "markdown",
   "metadata": {
    "colab_type": "text",
    "id": "AzfpZZ_XB7cd"
   },
   "source": [
    "#### LDA 모델 훈련시키기"
   ]
  },
  {
   "cell_type": "code",
   "execution_count": 30,
   "metadata": {
    "colab": {
     "base_uri": "https://localhost:8080/",
     "height": 388
    },
    "colab_type": "code",
    "executionInfo": {
     "elapsed": 154284,
     "status": "ok",
     "timestamp": 1600822414623,
     "user": {
      "displayName": "고병화",
      "photoUrl": "https://lh3.googleusercontent.com/a-/AOh14GgLZcAZyPt33HiIqtXjHiL8D4PIcVPdfLgODP1QBA=s64",
      "userId": "12645007744594631320"
     },
     "user_tz": -540
    },
    "id": "qMypT2nsB7ce",
    "outputId": "7d4d33f9-f084-47c5-fe3c-57c2919220cd"
   },
   "outputs": [
    {
     "name": "stdout",
     "output_type": "stream",
     "text": [
      "(0, '0.021*\"game\" + 0.018*\"team\" + 0.014*\"year\" + 0.014*\"games\"')\n",
      "(1, '0.015*\"president\" + 0.008*\"administration\" + 0.007*\"technology\" + 0.006*\"national\"')\n",
      "(2, '0.017*\"water\" + 0.012*\"ground\" + 0.012*\"cover\" + 0.011*\"henrik\"')\n",
      "(3, '0.008*\"drive\" + 0.008*\"system\" + 0.008*\"like\" + 0.006*\"also\"')\n",
      "(4, '0.018*\"simms\" + 0.012*\"helmet\" + 0.010*\"macs\" + 0.010*\"slots\"')\n",
      "(5, '0.019*\"uuencode\" + 0.017*\"postscript\" + 0.014*\"version\" + 0.009*\"rockefeller\"')\n",
      "(6, '0.007*\"david\" + 0.006*\"judas\" + 0.005*\"picture\" + 0.005*\"article\"')\n",
      "(7, '0.015*\"available\" + 0.011*\"information\" + 0.011*\"data\" + 0.009*\"also\"')\n",
      "(8, '0.012*\"know\" + 0.011*\"said\" + 0.010*\"people\" + 0.010*\"like\"')\n",
      "(9, '0.091*\"space\" + 0.032*\"nasa\" + 0.020*\"launch\" + 0.018*\"earth\"')\n",
      "(10, '0.008*\"time\" + 0.008*\"color\" + 0.007*\"image\" + 0.007*\"jpeg\"')\n",
      "(11, '0.010*\"would\" + 0.009*\"jesus\" + 0.008*\"people\" + 0.007*\"believe\"')\n",
      "(12, '0.038*\"jews\" + 0.036*\"turkish\" + 0.028*\"armenians\" + 0.023*\"turkey\"')\n",
      "(13, '0.011*\"mask\" + 0.009*\"sweden\" + 0.008*\"ciphertext\" + 0.007*\"width\"')\n",
      "(14, '0.024*\"encryption\" + 0.020*\"chip\" + 0.019*\"keys\" + 0.018*\"clipper\"')\n",
      "(15, '0.030*\"thanks\" + 0.028*\"windows\" + 0.022*\"please\" + 0.022*\"anyone\"')\n",
      "(16, '0.015*\"would\" + 0.014*\"people\" + 0.006*\"government\" + 0.005*\"right\"')\n",
      "(17, '0.016*\"entries\" + 0.012*\"university\" + 0.010*\"filename\" + 0.009*\"conference\"')\n",
      "(18, '0.007*\"health\" + 0.006*\"armenian\" + 0.006*\"medical\" + 0.006*\"april\"')\n",
      "(19, '0.045*\"file\" + 0.024*\"output\" + 0.021*\"entry\" + 0.018*\"program\"')\n"
     ]
    }
   ],
   "source": [
    "import gensim\n",
    "NUM_TOPICS = 20    #20개의 토픽, k=20\n",
    "ldamodel = gensim.models.ldamodel.LdaModel(corpus, num_topics = NUM_TOPICS, id2word=dictionary, passes=15) #  passes는 알고리즘의 동작 횟수\n",
    "topics = ldamodel.print_topics(num_words=4)   #  4개의 단어만 출력 \n",
    "for topic in topics:\n",
    "    print(topic)\n",
    "# 각 단어 앞에 붙은 수치는 단어의 해당 토픽에 대한 기여도    "
   ]
  },
  {
   "cell_type": "code",
   "execution_count": 31,
   "metadata": {
    "colab": {
     "base_uri": "https://localhost:8080/",
     "height": 56
    },
    "colab_type": "code",
    "executionInfo": {
     "elapsed": 154278,
     "status": "ok",
     "timestamp": 1600822414624,
     "user": {
      "displayName": "고병화",
      "photoUrl": "https://lh3.googleusercontent.com/a-/AOh14GgLZcAZyPt33HiIqtXjHiL8D4PIcVPdfLgODP1QBA=s64",
      "userId": "12645007744594631320"
     },
     "user_tz": -540
    },
    "id": "zdx_WpF2B7cm",
    "outputId": "5260a8a6-427b-42f2-e90b-50b296aa22a9"
   },
   "outputs": [
    {
     "name": "stdout",
     "output_type": "stream",
     "text": [
      "[(0, '0.021*\"game\" + 0.018*\"team\" + 0.014*\"year\" + 0.014*\"games\" + 0.013*\"play\" + 0.011*\"season\" + 0.009*\"players\" + 0.009*\"hockey\" + 0.009*\"league\" + 0.008*\"last\"'), (1, '0.015*\"president\" + 0.008*\"administration\" + 0.007*\"technology\" + 0.006*\"national\" + 0.006*\"jobs\" + 0.006*\"government\" + 0.006*\"program\" + 0.005*\"congress\" + 0.005*\"going\" + 0.005*\"house\"'), (2, '0.017*\"water\" + 0.012*\"ground\" + 0.012*\"cover\" + 0.011*\"henrik\" + 0.009*\"wire\" + 0.009*\"neutral\" + 0.007*\"nist\" + 0.006*\"ncsl\" + 0.006*\"copies\" + 0.005*\"black\"'), (3, '0.008*\"drive\" + 0.008*\"system\" + 0.008*\"like\" + 0.006*\"also\" + 0.006*\"used\" + 0.006*\"would\" + 0.005*\"card\" + 0.005*\"good\" + 0.005*\"disk\" + 0.005*\"work\"'), (4, '0.018*\"simms\" + 0.012*\"helmet\" + 0.010*\"macs\" + 0.010*\"slots\" + 0.010*\"vram\" + 0.008*\"easter\" + 0.008*\"accelerator\" + 0.007*\"simm\" + 0.007*\"floppies\" + 0.007*\"uiuc\"'), (5, '0.019*\"uuencode\" + 0.017*\"postscript\" + 0.014*\"version\" + 0.009*\"rockefeller\" + 0.008*\"patch\" + 0.006*\"math\" + 0.006*\"courses\" + 0.005*\"patches\" + 0.005*\"quicktime\" + 0.005*\"solaris\"'), (6, '0.007*\"david\" + 0.006*\"judas\" + 0.005*\"picture\" + 0.005*\"article\" + 0.005*\"mark\" + 0.004*\"list\" + 0.004*\"music\" + 0.004*\"post\" + 0.004*\"dave\" + 0.004*\"smith\"'), (7, '0.015*\"available\" + 0.011*\"information\" + 0.011*\"data\" + 0.009*\"also\" + 0.008*\"software\" + 0.007*\"mail\" + 0.007*\"list\" + 0.007*\"system\" + 0.007*\"version\" + 0.006*\"motif\"'), (8, '0.012*\"know\" + 0.011*\"said\" + 0.010*\"people\" + 0.010*\"like\" + 0.009*\"would\" + 0.009*\"time\" + 0.007*\"back\" + 0.007*\"going\" + 0.007*\"think\" + 0.007*\"could\"'), (9, '0.091*\"space\" + 0.032*\"nasa\" + 0.020*\"launch\" + 0.018*\"earth\" + 0.017*\"satellite\" + 0.015*\"shuttle\" + 0.014*\"orbit\" + 0.013*\"lunar\" + 0.013*\"moon\" + 0.013*\"mission\"'), (10, '0.008*\"time\" + 0.008*\"color\" + 0.007*\"image\" + 0.007*\"jpeg\" + 0.006*\"point\" + 0.005*\"like\" + 0.004*\"much\" + 0.004*\"might\" + 0.004*\"would\" + 0.004*\"want\"'), (11, '0.010*\"would\" + 0.009*\"jesus\" + 0.008*\"people\" + 0.007*\"believe\" + 0.007*\"think\" + 0.006*\"christian\" + 0.006*\"many\" + 0.005*\"bible\" + 0.005*\"true\" + 0.005*\"know\"'), (12, '0.038*\"jews\" + 0.036*\"turkish\" + 0.028*\"armenians\" + 0.023*\"turkey\" + 0.021*\"greek\" + 0.020*\"armenian\" + 0.018*\"jewish\" + 0.017*\"turks\" + 0.014*\"armenia\" + 0.013*\"genocide\"'), (13, '0.011*\"mask\" + 0.009*\"sweden\" + 0.008*\"ciphertext\" + 0.007*\"width\" + 0.007*\"cryptanalysis\" + 0.007*\"finland\" + 0.007*\"zionist\" + 0.006*\"main\" + 0.006*\"bullshit\" + 0.006*\"france\"'), (14, '0.024*\"encryption\" + 0.020*\"chip\" + 0.019*\"keys\" + 0.018*\"clipper\" + 0.010*\"period\" + 0.010*\"security\" + 0.009*\"algorithm\" + 0.009*\"number\" + 0.009*\"escrow\" + 0.008*\"phone\"'), (15, '0.030*\"thanks\" + 0.028*\"windows\" + 0.022*\"please\" + 0.022*\"anyone\" + 0.020*\"window\" + 0.020*\"know\" + 0.018*\"would\" + 0.014*\"help\" + 0.011*\"mail\" + 0.011*\"like\"'), (16, '0.015*\"would\" + 0.014*\"people\" + 0.006*\"government\" + 0.005*\"right\" + 0.005*\"think\" + 0.005*\"like\" + 0.005*\"make\" + 0.005*\"even\" + 0.005*\"could\" + 0.005*\"well\"'), (17, '0.016*\"entries\" + 0.012*\"university\" + 0.010*\"filename\" + 0.009*\"conference\" + 0.008*\"francisco\" + 0.006*\"john\" + 0.006*\"dept\" + 0.006*\"smokeless\" + 0.005*\"college\" + 0.005*\"california\"'), (18, '0.007*\"health\" + 0.006*\"armenian\" + 0.006*\"medical\" + 0.006*\"april\" + 0.006*\"among\" + 0.005*\"years\" + 0.005*\"number\" + 0.004*\"disease\" + 0.004*\"study\" + 0.004*\"research\"'), (19, '0.045*\"file\" + 0.024*\"output\" + 0.021*\"entry\" + 0.018*\"program\" + 0.011*\"line\" + 0.011*\"section\" + 0.010*\"files\" + 0.010*\"build\" + 0.009*\"check\" + 0.008*\"name\"')]\n"
     ]
    }
   ],
   "source": [
    "print(ldamodel.print_topics()) # 10개 단어를 출력"
   ]
  },
  {
   "cell_type": "markdown",
   "metadata": {
    "colab_type": "text",
    "id": "B2vkE0_bB7cs"
   },
   "source": [
    "#### 시각화"
   ]
  },
  {
   "cell_type": "code",
   "execution_count": 32,
   "metadata": {
    "colab": {
     "base_uri": "https://localhost:8080/",
     "height": 667
    },
    "colab_type": "code",
    "executionInfo": {
     "elapsed": 159784,
     "status": "ok",
     "timestamp": 1600822420137,
     "user": {
      "displayName": "고병화",
      "photoUrl": "https://lh3.googleusercontent.com/a-/AOh14GgLZcAZyPt33HiIqtXjHiL8D4PIcVPdfLgODP1QBA=s64",
      "userId": "12645007744594631320"
     },
     "user_tz": -540
    },
    "id": "wJTX850BB7cu",
    "outputId": "e99c3f29-1497-4e4e-f9ed-2559d61dc92e"
   },
   "outputs": [
    {
     "name": "stdout",
     "output_type": "stream",
     "text": [
      "Requirement already satisfied: pyLDAvis in c:\\programdata\\anaconda3\\envs\\tf20\\lib\\site-packages (2.1.2)\n",
      "Requirement already satisfied: wheel>=0.23.0 in c:\\programdata\\anaconda3\\envs\\tf20\\lib\\site-packages (from pyLDAvis) (0.34.2)\n",
      "Requirement already satisfied: pytest in c:\\programdata\\anaconda3\\envs\\tf20\\lib\\site-packages (from pyLDAvis) (5.4.3)\n",
      "Requirement already satisfied: funcy in c:\\programdata\\anaconda3\\envs\\tf20\\lib\\site-packages (from pyLDAvis) (1.14)\n",
      "Requirement already satisfied: jinja2>=2.7.2 in c:\\programdata\\anaconda3\\envs\\tf20\\lib\\site-packages (from pyLDAvis) (2.11.2)\n",
      "Requirement already satisfied: future in c:\\programdata\\anaconda3\\envs\\tf20\\lib\\site-packages (from pyLDAvis) (0.18.2)\n",
      "Requirement already satisfied: numexpr in c:\\programdata\\anaconda3\\envs\\tf20\\lib\\site-packages (from pyLDAvis) (2.7.1)\n",
      "Requirement already satisfied: scipy>=0.18.0 in c:\\programdata\\anaconda3\\envs\\tf20\\lib\\site-packages (from pyLDAvis) (1.5.0)\n",
      "Requirement already satisfied: numpy>=1.9.2 in c:\\programdata\\anaconda3\\envs\\tf20\\lib\\site-packages (from pyLDAvis) (1.17.0)\n",
      "Requirement already satisfied: joblib>=0.8.4 in c:\\programdata\\anaconda3\\envs\\tf20\\lib\\site-packages (from pyLDAvis) (0.16.0)\n",
      "Requirement already satisfied: pandas>=0.17.0 in c:\\users\\ipa(백찬휘)\\appdata\\roaming\\python\\python37\\site-packages (from pyLDAvis) (1.0.5)\n",
      "Requirement already satisfied: py>=1.5.0 in c:\\programdata\\anaconda3\\envs\\tf20\\lib\\site-packages (from pytest->pyLDAvis) (1.9.0)\n",
      "Requirement already satisfied: packaging in c:\\programdata\\anaconda3\\envs\\tf20\\lib\\site-packages (from pytest->pyLDAvis) (20.4)\n",
      "Requirement already satisfied: attrs>=17.4.0 in c:\\programdata\\anaconda3\\envs\\tf20\\lib\\site-packages (from pytest->pyLDAvis) (19.3.0)\n",
      "Requirement already satisfied: more-itertools>=4.0.0 in c:\\programdata\\anaconda3\\envs\\tf20\\lib\\site-packages (from pytest->pyLDAvis) (8.4.0)\n",
      "Requirement already satisfied: pluggy<1.0,>=0.12 in c:\\programdata\\anaconda3\\envs\\tf20\\lib\\site-packages (from pytest->pyLDAvis) (0.13.1)\n",
      "Requirement already satisfied: wcwidth in c:\\programdata\\anaconda3\\envs\\tf20\\lib\\site-packages (from pytest->pyLDAvis) (0.2.5)\n",
      "Requirement already satisfied: importlib-metadata>=0.12 in c:\\programdata\\anaconda3\\envs\\tf20\\lib\\site-packages (from pytest->pyLDAvis) (1.7.0)\n"
     ]
    },
    {
     "name": "stderr",
     "output_type": "stream",
     "text": [
      "WARNING: You are using pip version 20.1.1; however, version 20.2.4 is available.\n",
      "You should consider upgrading via the 'C:\\ProgramData\\Anaconda3\\envs\\tf20\\python.exe -m pip install --upgrade pip' command.\n"
     ]
    },
    {
     "name": "stdout",
     "output_type": "stream",
     "text": [
      "Requirement already satisfied: atomicwrites>=1.0 in c:\\programdata\\anaconda3\\envs\\tf20\\lib\\site-packages (from pytest->pyLDAvis) (1.4.0)\n",
      "Requirement already satisfied: colorama in c:\\programdata\\anaconda3\\envs\\tf20\\lib\\site-packages (from pytest->pyLDAvis) (0.4.3)\n",
      "Requirement already satisfied: MarkupSafe>=0.23 in c:\\programdata\\anaconda3\\envs\\tf20\\lib\\site-packages (from jinja2>=2.7.2->pyLDAvis) (1.1.1)\n",
      "Requirement already satisfied: python-dateutil>=2.6.1 in c:\\programdata\\anaconda3\\envs\\tf20\\lib\\site-packages (from pandas>=0.17.0->pyLDAvis) (2.8.1)\n",
      "Requirement already satisfied: pytz>=2017.2 in c:\\programdata\\anaconda3\\envs\\tf20\\lib\\site-packages (from pandas>=0.17.0->pyLDAvis) (2020.1)\n",
      "Requirement already satisfied: pyparsing>=2.0.2 in c:\\programdata\\anaconda3\\envs\\tf20\\lib\\site-packages (from packaging->pytest->pyLDAvis) (2.4.7)\n",
      "Requirement already satisfied: six in c:\\programdata\\anaconda3\\envs\\tf20\\lib\\site-packages (from packaging->pytest->pyLDAvis) (1.15.0)\n",
      "Requirement already satisfied: zipp>=0.5 in c:\\programdata\\anaconda3\\envs\\tf20\\lib\\site-packages (from importlib-metadata>=0.12->pytest->pyLDAvis) (3.1.0)\n"
     ]
    }
   ],
   "source": [
    "! pip install pyLDAvis"
   ]
  },
  {
   "cell_type": "code",
   "execution_count": 33,
   "metadata": {
    "colab": {
     "base_uri": "https://localhost:8080/",
     "height": 879
    },
    "colab_type": "code",
    "executionInfo": {
     "elapsed": 217116,
     "status": "ok",
     "timestamp": 1600822477476,
     "user": {
      "displayName": "고병화",
      "photoUrl": "https://lh3.googleusercontent.com/a-/AOh14GgLZcAZyPt33HiIqtXjHiL8D4PIcVPdfLgODP1QBA=s64",
      "userId": "12645007744594631320"
     },
     "user_tz": -540
    },
    "id": "0fr7kbhVB7c0",
    "outputId": "373a21e7-5e75-4969-d437-953cf30f15b5",
    "scrolled": false
   },
   "outputs": [
    {
     "data": {
      "text/html": [
       "\n",
       "<link rel=\"stylesheet\" type=\"text/css\" href=\"https://cdn.rawgit.com/bmabey/pyLDAvis/files/ldavis.v1.0.0.css\">\n",
       "\n",
       "\n",
       "<div id=\"ldavis_el3367217707268853205724985800\"></div>\n",
       "<script type=\"text/javascript\">\n",
       "\n",
       "var ldavis_el3367217707268853205724985800_data = {\"mdsDat\": {\"x\": [-0.25122442558879776, -0.2423026076008107, -0.2376798992366564, -0.2474914882780071, -0.1001532704458108, -0.03097767702934801, -0.037337368108500184, -0.07138080113665085, -0.16100364835179237, -0.11318409826410887, -0.04014444302259174, 0.019663714374489674, 0.08718235754882063, 0.16211606153897878, 0.16444625802861465, 0.20273173376607503, 0.20704883376842173, 0.2117547570902139, 0.24008461573602125, 0.23785139521143864], \"y\": [-0.0775047030770846, 0.03438253651652424, -0.15339391644254183, -0.0486886557395194, 0.2593003922611531, -0.08724055849089689, -0.0001347115907295222, -0.1700301626493231, -0.004643840677803173, 0.1591789858774916, 0.22798094517616244, -0.06639079169686778, 0.039942974298460124, 0.0340890925333037, -0.040775794444360754, -0.05957252207506894, -0.02866014741623009, 0.030102007456026043, -0.026993350459581275, -0.020947779359114075], \"topics\": [1, 2, 3, 4, 5, 6, 7, 8, 9, 10, 11, 12, 13, 14, 15, 16, 17, 18, 19, 20], \"cluster\": [1, 1, 1, 1, 1, 1, 1, 1, 1, 1, 1, 1, 1, 1, 1, 1, 1, 1, 1, 1], \"Freq\": [16.174339294433594, 14.763400077819824, 11.524892807006836, 11.123213768005371, 8.719772338867188, 5.464563369750977, 4.542710781097412, 4.3759846687316895, 4.320558547973633, 3.8242287635803223, 3.161461591720581, 2.5234932899475098, 2.219076156616211, 1.5540623664855957, 1.3337197303771973, 1.2794668674468994, 1.2107293605804443, 0.7052440047264099, 0.669946551322937, 0.5091308355331421]}, \"tinfo\": {\"Term\": [\"file\", \"space\", \"know\", \"windows\", \"thanks\", \"would\", \"anyone\", \"program\", \"please\", \"people\", \"available\", \"game\", \"version\", \"output\", \"window\", \"jews\", \"mail\", \"team\", \"like\", \"year\", \"chip\", \"armenians\", \"data\", \"armenian\", \"entry\", \"system\", \"said\", \"jesus\", \"drive\", \"president\", \"guns\", \"court\", \"crime\", \"freedom\", \"firearms\", \"criminals\", \"amendment\", \"constitution\", \"militia\", \"threat\", \"palestinian\", \"crimes\", \"batf\", \"criminal\", \"violent\", \"assault\", \"sleeve\", \"handgun\", \"palestine\", \"israelis\", \"homicide\", \"cops\", \"prison\", \"ignorant\", \"opposition\", \"constitutional\", \"syria\", \"legally\", \"charges\", \"arrest\", \"weapons\", \"israel\", \"civil\", \"proposal\", \"rights\", \"arab\", \"politics\", \"palestinians\", \"country\", \"israeli\", \"illegal\", \"government\", \"social\", \"laws\", \"political\", \"citizens\", \"police\", \"majority\", \"people\", \"state\", \"would\", \"legal\", \"arms\", \"right\", \"society\", \"make\", \"public\", \"even\", \"think\", \"could\", \"well\", \"many\", \"control\", \"case\", \"like\", \"much\", \"keep\", \"fact\", \"want\", \"without\", \"know\", \"might\", \"time\", \"since\", \"also\", \"good\", \"years\", \"scsi\", \"monitor\", \"drives\", \"controller\", \"modem\", \"port\", \"floppy\", \"motherboard\", \"bios\", \"drive\", \"upgrade\", \"wiring\", \"cache\", \"boot\", \"electronics\", \"adapter\", \"ports\", \"voltage\", \"monitors\", \"sony\", \"battery\", \"gateway\", \"vesa\", \"honda\", \"stereo\", \"speeds\", \"adaptec\", \"laser\", \"motorola\", \"dual\", \"disk\", \"speed\", \"shipping\", \"engine\", \"audio\", \"disks\", \"apple\", \"card\", \"tape\", \"printer\", \"video\", \"sale\", \"compatible\", \"external\", \"price\", \"cards\", \"drivers\", \"board\", \"memory\", \"cable\", \"offer\", \"hard\", \"system\", \"hardware\", \"sound\", \"used\", \"computer\", \"like\", \"work\", \"power\", \"also\", \"problem\", \"need\", \"good\", \"using\", \"would\", \"much\", \"problems\", \"make\", \"time\", \"well\", \"software\", \"know\", \"data\", \"apartment\", \"ride\", \"sumgait\", \"karina\", \"surrender\", \"sick\", \"mamma\", \"skepticism\", \"woman\", \"intellect\", \"shameful\", \"cadre\", \"chastity\", \"pain\", \"walked\", \"walking\", \"yankees\", \"husband\", \"witnesses\", \"lyuda\", \"wearing\", \"wife\", \"sister\", \"marina\", \"shouting\", \"deaf\", \"riders\", \"walls\", \"spoken\", \"upset\", \"pitt\", \"riding\", \"went\", \"took\", \"gordon\", \"crowd\", \"motorcycle\", \"started\", \"told\", \"happened\", \"afraid\", \"said\", \"bike\", \"night\", \"came\", \"doctor\", \"face\", \"going\", \"eyes\", \"back\", \"left\", \"know\", \"maybe\", \"home\", \"remember\", \"time\", \"heard\", \"says\", \"days\", \"soon\", \"people\", \"like\", \"around\", \"something\", \"thought\", \"take\", \"little\", \"could\", \"come\", \"think\", \"really\", \"would\", \"well\", \"right\", \"even\", \"still\", \"years\", \"first\", \"never\", \"good\", \"want\", \"jesus\", \"bible\", \"church\", \"christians\", \"faith\", \"christ\", \"christianity\", \"belief\", \"islam\", \"beliefs\", \"atheism\", \"atheists\", \"morality\", \"religions\", \"catholic\", \"scripture\", \"atheist\", \"biblical\", \"heaven\", \"pope\", \"worship\", \"resurrection\", \"revelation\", \"sabbath\", \"gospel\", \"orthodox\", \"homosexuality\", \"homosexual\", \"gods\", \"spirit\", \"christian\", \"eternal\", \"religion\", \"lord\", \"truth\", \"doctrine\", \"holy\", \"absolute\", \"religious\", \"objective\", \"context\", \"moral\", \"argument\", \"believe\", \"existence\", \"life\", \"true\", \"meaning\", \"exist\", \"evidence\", \"question\", \"word\", \"think\", \"would\", \"people\", \"claim\", \"must\", \"many\", \"point\", \"things\", \"even\", \"science\", \"mean\", \"know\", \"also\", \"world\", \"fact\", \"something\", \"time\", \"like\", \"good\", \"well\", \"motif\", \"ripem\", \"formats\", \"servers\", \"toolkit\", \"shareware\", \"networks\", \"compass\", \"interactive\", \"xview\", \"functionality\", \"imaging\", \"listserv\", \"password\", \"aerospace\", \"digest\", \"mailer\", \"siggraph\", \"sensing\", \"builder\", \"magellan\", \"authentication\", \"contrib\", \"ncsa\", \"publisher\", \"databases\", \"plotting\", \"aviation\", \"sunview\", \"tigers\", \"visual\", \"export\", \"anonymous\", \"distributed\", \"workstations\", \"archive\", \"cipher\", \"widgets\", \"platforms\", \"database\", \"users\", \"sites\", \"addresses\", \"available\", \"comp\", \"unix\", \"mailing\", \"images\", \"requests\", \"internet\", \"distribution\", \"user\", \"library\", \"server\", \"graphics\", \"data\", \"processing\", \"software\", \"information\", \"list\", \"systems\", \"version\", \"request\", \"image\", \"mail\", \"send\", \"based\", \"contact\", \"package\", \"also\", \"system\", \"files\", \"code\", \"subject\", \"program\", \"computer\", \"disease\", \"patients\", \"myers\", \"villages\", \"cancer\", \"diseases\", \"massacre\", \"azeri\", \"aids\", \"candida\", \"scores\", \"hicnet\", \"infections\", \"infection\", \"prevention\", \"allah\", \"illness\", \"gift\", \"clinical\", \"cure\", \"decenso\", \"aged\", \"sdpa\", \"medicine\", \"chronic\", \"alomar\", \"tyre\", \"muscle\", \"yeast\", \"asala\", \"tobacco\", \"medical\", \"treatment\", \"health\", \"syndrome\", \"karabakh\", \"newsletter\", \"soviet\", \"azerbaijan\", \"bodies\", \"among\", \"study\", \"april\", \"studies\", \"armenian\", \"percent\", \"published\", \"page\", \"reported\", \"blood\", \"research\", \"women\", \"report\", \"years\", \"number\", \"million\", \"children\", \"center\", \"world\", \"food\", \"national\", \"also\", \"first\", \"people\", \"human\", \"three\", \"president\", \"senior\", \"minister\", \"investment\", \"gaza\", \"senator\", \"maine\", \"republicans\", \"serbs\", \"telecommunications\", \"funds\", \"infrastructure\", \"stimulus\", \"elected\", \"contracts\", \"torque\", \"manufactured\", \"dole\", \"briefing\", \"jobs\", \"propose\", \"nords\", \"franchise\", \"documentary\", \"bears\", \"babies\", \"reich\", \"nixon\", \"legislative\", \"authorization\", \"administration\", \"funding\", \"billion\", \"idaho\", \"secretary\", \"russia\", \"initiative\", \"congress\", \"senate\", \"laughter\", \"georgia\", \"scheduled\", \"budget\", \"meeting\", \"technology\", \"committee\", \"george\", \"aircraft\", \"attorney\", \"national\", \"house\", \"south\", \"russian\", \"united\", \"clinton\", \"press\", \"summer\", \"official\", \"states\", \"american\", \"military\", \"policy\", \"today\", \"government\", \"working\", \"office\", \"program\", \"going\", \"said\", \"work\", \"package\", \"also\", \"year\", \"state\", \"washington\", \"season\", \"players\", \"hockey\", \"player\", \"teams\", \"montreal\", \"rangers\", \"detroit\", \"pitching\", \"playoffs\", \"scoring\", \"scored\", \"cubs\", \"quebec\", \"braves\", \"flyers\", \"leafs\", \"islanders\", \"hartford\", \"pens\", \"espn\", \"playoff\", \"coach\", \"devils\", \"game\", \"lemieux\", \"jets\", \"bruins\", \"plays\", \"francis\", \"league\", \"games\", \"team\", \"fans\", \"baseball\", \"pittsburgh\", \"stats\", \"play\", \"minnesota\", \"puck\", \"boston\", \"chicago\", \"toronto\", \"played\", \"score\", \"calgary\", \"year\", \"kings\", \"goal\", \"division\", \"last\", \"playing\", \"good\", \"first\", \"runs\", \"best\", \"better\", \"points\", \"second\", \"think\", \"would\", \"well\", \"colormap\", \"tiff\", \"icon\", \"docs\", \"terminals\", \"polygon\", \"click\", \"idle\", \"astros\", \"intake\", \"modems\", \"clip\", \"locks\", \"meters\", \"handles\", \"simtel\", \"jpeg\", \"dial\", \"palette\", \"tubes\", \"sampling\", \"sphere\", \"qemm\", \"sugar\", \"anecdotal\", \"fortunately\", \"discharge\", \"fixing\", \"fluid\", \"uranium\", \"tube\", \"fingers\", \"plane\", \"analog\", \"colors\", \"color\", \"cell\", \"circuits\", \"lock\", \"draw\", \"loading\", \"hole\", \"lets\", \"visible\", \"image\", \"pixel\", \"scope\", \"picture\", \"test\", \"normal\", \"point\", \"time\", \"screen\", \"lines\", \"points\", \"light\", \"might\", \"actually\", \"change\", \"black\", \"much\", \"want\", \"like\", \"since\", \"better\", \"problem\", \"line\", \"good\", \"also\", \"would\", \"think\", \"work\", \"using\", \"without\", \"even\", \"could\", \"appreciated\", \"allocation\", \"bandwidth\", \"thanx\", \"handler\", \"cica\", \"sockets\", \"icons\", \"toplevel\", \"bounced\", \"font\", \"client\", \"trident\", \"popup\", \"xtpointer\", \"xtsetarg\", \"paradox\", \"logitech\", \"inkjet\", \"winmarks\", \"ether\", \"mouse\", \"workspace\", \"borland\", \"goose\", \"xterm\", \"telix\", \"conclusive\", \"subaru\", \"ergo\", \"advance\", \"window\", \"thanks\", \"hello\", \"screens\", \"windows\", \"symbol\", \"dram\", \"appreciate\", \"wondering\", \"greatly\", \"hints\", \"please\", \"desktop\", \"anyone\", \"anybody\", \"screen\", \"display\", \"error\", \"help\", \"application\", \"microsoft\", \"manager\", \"running\", \"looking\", \"reply\", \"mail\", \"know\", \"email\", \"problem\", \"would\", \"need\", \"program\", \"using\", \"like\", \"could\", \"info\", \"find\", \"someone\", \"want\", \"printf\", \"char\", \"contest\", \"string\", \"entry\", \"judges\", \"prog\", \"mono\", \"patents\", \"cluster\", \"retail\", \"corn\", \"pyramid\", \"comm\", \"zoom\", \"cassette\", \"losses\", \"prisoners\", \"emulation\", \"partition\", \"accessories\", \"echo\", \"mpeg\", \"chars\", \"investigating\", \"hackers\", \"appletalk\", \"xhost\", \"tamu\", \"exercises\", \"output\", \"null\", \"argv\", \"remark\", \"stream\", \"file\", \"bytes\", \"character\", \"section\", \"guidelines\", \"winners\", \"shar\", \"byte\", \"title\", \"build\", \"rules\", \"define\", \"column\", \"check\", \"program\", \"input\", \"size\", \"author\", \"line\", \"files\", \"return\", \"info\", \"open\", \"name\", \"number\", \"write\", \"read\", \"must\", \"code\", \"year\", \"judas\", \"prophecy\", \"testament\", \"temple\", \"romans\", \"hung\", \"austin\", \"paranoid\", \"pseudo\", \"ctrl\", \"accelerators\", \"latin\", \"forwards\", \"ingr\", \"suck\", \"civic\", \"runner\", \"entity\", \"trinity\", \"trips\", \"dtmedin\", \"catbyte\", \"encyclopedia\", \"sandberg\", \"equation\", \"wealth\", \"lawrence\", \"challenges\", \"pace\", \"mounting\", \"prayers\", \"music\", \"marc\", \"networking\", \"judging\", \"interference\", \"picture\", \"publish\", \"ryan\", \"david\", \"smith\", \"dave\", \"mark\", \"joseph\", \"koresh\", \"article\", \"paul\", \"rose\", \"post\", \"fall\", \"list\", \"chris\", \"book\", \"internet\", \"days\", \"tony\", \"posting\", \"least\", \"world\", \"books\", \"good\", \"first\", \"keep\", \"around\", \"look\", \"week\", \"clipper\", \"encryption\", \"escrow\", \"encrypted\", \"scorer\", \"crypt\", \"wiretap\", \"phones\", \"jersey\", \"sharks\", \"plaintext\", \"decrypt\", \"clemens\", \"pirates\", \"denning\", \"stadium\", \"pitched\", \"cryptosystem\", \"encrypt\", \"hellman\", \"decryption\", \"promo\", \"escrowed\", \"cryptosystems\", \"unassisted\", \"chelios\", \"generates\", \"outs\", \"grayscale\", \"skipjack\", \"keys\", \"hash\", \"crypto\", \"cryptography\", \"hawks\", \"cellular\", \"classified\", \"mets\", \"secure\", \"chip\", \"algorithm\", \"wins\", \"flames\", \"scheme\", \"secret\", \"period\", \"security\", \"privacy\", \"phone\", \"block\", \"random\", \"shots\", \"chips\", \"number\", \"serial\", \"enforcement\", \"strong\", \"voice\", \"first\", \"power\", \"second\", \"used\", \"entries\", \"filename\", \"smokeless\", \"pointer\", \"powerbook\", \"ieee\", \"vitamin\", \"rochester\", \"creed\", \"gerard\", \"upenn\", \"wondered\", \"allocated\", \"cape\", \"coding\", \"morgan\", \"moncton\", \"debugger\", \"marijuana\", \"providence\", \"speedstar\", \"dealership\", \"scanned\", \"springfield\", \"minus\", \"cigarettes\", \"dept\", \"lciii\", \"registers\", \"czech\", \"francisco\", \"denver\", \"obfuscate\", \"macro\", \"atlanta\", \"baltimore\", \"stanley\", \"campbell\", \"conference\", \"peak\", \"netcom\", \"hotel\", \"college\", \"university\", \"registration\", \"colorado\", \"june\", \"award\", \"california\", \"schedule\", \"john\", \"louis\", \"student\", \"park\", \"paper\", \"philadelphia\", \"phone\", \"mail\", \"address\", \"april\", \"henrik\", \"ncsl\", \"ships\", \"outlets\", \"cooper\", \"grounded\", \"packaging\", \"cooling\", \"hulk\", \"wolverine\", \"comics\", \"breaker\", \"goaltender\", \"overtime\", \"toshiba\", \"lyme\", \"leagues\", \"comic\", \"mint\", \"steam\", \"aggression\", \"viola\", \"mini\", \"udel\", \"batman\", \"horn\", \"kirlian\", \"towers\", \"rychel\", \"inferior\", \"weaver\", \"neutral\", \"water\", \"harris\", \"tower\", \"storm\", \"nist\", \"plants\", \"aluminum\", \"radius\", \"temperature\", \"cover\", \"wire\", \"ground\", \"captain\", \"electrical\", \"lebanese\", \"copies\", \"green\", \"annual\", \"plant\", \"black\", \"appears\", \"nuclear\", \"issue\", \"force\", \"white\", \"turkish\", \"turkey\", \"turks\", \"nazi\", \"greece\", \"nazis\", \"ottoman\", \"cyprus\", \"greeks\", \"pitcher\", \"holocaust\", \"mormon\", \"istanbul\", \"kurds\", \"mormons\", \"ankara\", \"erzurum\", \"nolan\", \"fleet\", \"rectangle\", \"extermination\", \"winfield\", \"turkiye\", \"anatolia\", \"taurus\", \"mercedes\", \"tvtwm\", \"assure\", \"ottomans\", \"kingman\", \"jews\", \"genocide\", \"greek\", \"muslim\", \"german\", \"armenia\", \"argic\", \"armenians\", \"jewish\", \"serdar\", \"london\", \"armenian\", \"muslims\", \"history\", \"empire\", \"europe\", \"germany\", \"ethnic\", \"russian\", \"professor\", \"launch\", \"satellite\", \"shuttle\", \"orbit\", \"lunar\", \"moon\", \"solar\", \"satellites\", \"spacecraft\", \"launched\", \"mars\", \"missions\", \"planetary\", \"telescope\", \"ames\", \"orbital\", \"payload\", \"venus\", \"ozone\", \"observatory\", \"designated\", \"kidney\", \"launches\", \"exploration\", \"orbiter\", \"astronomical\", \"probes\", \"expos\", \"orbiting\", \"sega\", \"propulsion\", \"atmosphere\", \"space\", \"flight\", \"nasa\", \"rockets\", \"rocket\", \"astronomy\", \"mission\", \"probe\", \"saturn\", \"earth\", \"center\", \"station\", \"research\", \"science\", \"uuencode\", \"rockefeller\", \"courses\", \"quicktime\", \"solaris\", \"cdrom\", \"wuarchive\", \"xsun\", \"wustl\", \"gifs\", \"auth\", \"ncsu\", \"dortmund\", \"tektronix\", \"obfuscation\", \"imakefile\", \"informatik\", \"fujitsu\", \"conner\", \"mosaic\", \"tongues\", \"rtrace\", \"backwards\", \"radiosity\", \"decwindows\", \"harper\", \"tippett\", \"huffman\", \"billboard\", \"rainer\", \"xfree\", \"postscript\", \"sword\", \"patch\", \"adobe\", \"fixes\", \"math\", \"patches\", \"toolkits\", \"version\", \"consortium\", \"pointers\", \"japanese\", \"machines\", \"andrew\", \"openwindows\", \"terminal\", \"university\", \"tapes\", \"simms\", \"helmet\", \"macs\", \"slots\", \"vram\", \"accelerator\", \"simm\", \"floppies\", \"init\", \"harley\", \"powerpc\", \"processors\", \"arafat\", \"wanna\", \"cobra\", \"summaries\", \"seal\", \"eggs\", \"pentium\", \"moto\", \"goddess\", \"passover\", \"viper\", \"turner\", \"momentum\", \"lasted\", \"cwru\", \"clement\", \"worn\", \"xmodmap\", \"easter\", \"label\", \"repost\", \"recognition\", \"cherry\", \"recommendations\", \"uiuc\", \"nubus\", \"prediction\", \"lewis\", \"gary\", \"ohio\", \"andrew\", \"ciphertext\", \"cryptanalysis\", \"bullshit\", \"seagate\", \"segment\", \"hojali\", \"conception\", \"cabinet\", \"finnish\", \"nintendo\", \"dies\", \"wrapped\", \"hebrews\", \"vatican\", \"immaculate\", \"archbishop\", \"maria\", \"buffering\", \"executing\", \"visa\", \"myhint\", \"receives\", \"manages\", \"commanded\", \"generous\", \"anniversary\", \"anas\", \"johansson\", \"augustine\", \"pexlib\", \"finland\", \"zionist\", \"mask\", \"sweden\", \"width\", \"italy\", \"mydisplay\", \"france\", \"pixmap\", \"xputimage\", \"seed\", \"main\", \"detail\", \"germany\", \"canada\", \"height\", \"republic\"], \"Freq\": [1753.0, 1188.0, 3645.0, 1289.0, 1260.0, 6464.0, 1646.0, 1598.0, 1518.0, 4388.0, 1595.0, 868.0, 1004.0, 776.0, 854.0, 567.0, 1260.0, 797.0, 4209.0, 1557.0, 669.0, 568.0, 1384.0, 662.0, 634.0, 2145.0, 1894.0, 970.0, 1136.0, 659.0, 386.3539733886719, 333.56036376953125, 326.03302001953125, 242.0875701904297, 212.24693298339844, 204.1612548828125, 197.88221740722656, 178.4657440185547, 158.9263458251953, 140.069091796875, 135.81948852539062, 107.44849395751953, 109.2136459350586, 182.69317626953125, 93.81776428222656, 89.27104949951172, 85.36257934570312, 84.61077117919922, 86.9108657836914, 80.95682525634766, 71.38172912597656, 70.6588363647461, 69.19338989257812, 68.8724365234375, 67.6237564086914, 67.01889038085938, 65.65925598144531, 65.4869613647461, 64.64591979980469, 63.009090423583984, 296.9397888183594, 620.8078002929688, 188.18727111816406, 140.73605346679688, 454.4176330566406, 249.88192749023438, 138.6631317138672, 82.19638061523438, 404.5311279296875, 355.1327819824219, 154.5237579345703, 999.6575927734375, 160.58578491210938, 294.997802734375, 257.11895751953125, 215.40850830078125, 327.38299560546875, 186.29608154296875, 2108.709228515625, 616.6207275390625, 2349.22314453125, 252.68296813964844, 201.03439331054688, 847.9388427734375, 254.70169067382812, 769.621826171875, 436.96435546875, 750.0144653320312, 839.9139404296875, 711.936279296875, 707.771728515625, 655.6110229492188, 379.900390625, 457.23577880859375, 793.0818481445312, 556.8667602539062, 361.65521240234375, 404.18109130859375, 494.8207702636719, 394.49847412109375, 493.4026184082031, 394.5595397949219, 443.0616149902344, 396.58642578125, 401.6687927246094, 372.6493225097656, 364.3377990722656, 640.62451171875, 387.8042907714844, 339.9989013671875, 319.54327392578125, 301.2211608886719, 286.263671875, 254.02244567871094, 176.749755859375, 175.92098999023438, 1129.981689453125, 146.1972198486328, 130.99533081054688, 123.69567108154297, 117.84945678710938, 116.22917938232422, 114.7040023803711, 114.64762115478516, 110.56575775146484, 110.02487182617188, 109.80328369140625, 106.52128601074219, 106.4963607788086, 99.78253936767578, 99.31578063964844, 96.16239166259766, 96.04986572265625, 94.32413482666016, 93.51680755615234, 92.59696960449219, 89.3670425415039, 714.4906005859375, 530.7975463867188, 302.0076904296875, 260.467041015625, 145.1855926513672, 221.2953643798828, 423.45343017578125, 750.2639770507812, 331.2132568359375, 230.59097290039062, 447.5237731933594, 333.39508056640625, 200.92233276367188, 160.2379913330078, 537.9901733398438, 258.4927062988281, 325.83026123046875, 329.7673645019531, 468.9706726074219, 241.38665771484375, 325.7897644042969, 563.758544921875, 1104.6756591796875, 394.5416564941406, 325.5639343261719, 911.4041137695312, 460.5454406738281, 1090.930419921875, 682.6884155273438, 528.875, 913.8785400390625, 629.468017578125, 633.6271362304688, 742.8560791015625, 553.38134765625, 883.8570556640625, 592.953369140625, 410.14166259765625, 529.6002807617188, 532.3851318359375, 476.8163146972656, 405.32452392578125, 450.0978088378906, 405.5401916503906, 179.47061157226562, 147.10791015625, 127.62863159179688, 127.11476135253906, 106.3058090209961, 101.29664611816406, 92.12321472167969, 89.71528625488281, 215.5386505126953, 82.02238464355469, 78.70240020751953, 77.93714904785156, 76.41583251953125, 260.2715759277344, 62.95261001586914, 62.10239028930664, 61.76108932495117, 60.11276626586914, 59.5897216796875, 59.28813934326172, 58.66278076171875, 186.91854858398438, 53.43296432495117, 51.52995681762695, 49.15556335449219, 48.83936309814453, 46.92557907104492, 46.425682067871094, 44.85934829711914, 42.940826416015625, 117.3625259399414, 116.72560119628906, 586.04150390625, 466.8965759277344, 120.10153198242188, 87.61197662353516, 107.42479705810547, 404.5294189453125, 497.9848937988281, 290.6783447265625, 120.42007446289062, 1179.46728515625, 270.83673095703125, 249.737060546875, 430.42620849609375, 173.1409912109375, 267.2905578613281, 782.919189453125, 133.78355407714844, 785.4403076171875, 428.4687194824219, 1313.4075927734375, 406.8559875488281, 356.3066711425781, 361.5625915527344, 1025.9693603515625, 356.34814453125, 368.7075500488281, 313.8562927246094, 237.94102478027344, 1104.5938720703125, 1068.1805419921875, 471.4958801269531, 603.1552124023438, 356.7301025390625, 525.8775024414062, 444.4522705078125, 732.3236083984375, 448.041259765625, 779.8999633789062, 531.6748657226562, 1036.3514404296875, 664.5119018554688, 543.2437744140625, 580.0153198242188, 483.0771789550781, 467.8312072753906, 515.4968872070312, 428.7993469238281, 513.6300659179688, 406.9541015625, 969.8006591796875, 557.8949584960938, 486.1697692871094, 446.9216003417969, 402.3387451171875, 401.3610534667969, 254.42327880859375, 225.12437438964844, 202.27304077148438, 192.34854125976562, 183.5958251953125, 173.6223907470703, 166.00677490234375, 142.12060546875, 142.01393127441406, 136.42105102539062, 124.45569610595703, 115.22874450683594, 164.11715698242188, 99.95465850830078, 99.54454803466797, 90.87380981445312, 86.9798812866211, 80.54553985595703, 80.1146240234375, 79.49939727783203, 77.01908874511719, 75.7302017211914, 75.54297637939453, 211.11416625976562, 601.6934814453125, 145.8184814453125, 417.5493469238281, 204.44805908203125, 394.83551025390625, 106.16300201416016, 183.5508575439453, 138.77423095703125, 267.49920654296875, 205.1263885498047, 205.93930053710938, 230.97628784179688, 324.0809020996094, 792.7258911132812, 209.38385009765625, 486.0868225097656, 542.706787109375, 213.63009643554688, 285.0407409667969, 345.55413818359375, 523.76513671875, 374.28173828125, 777.999267578125, 1037.9195556640625, 848.6085205078125, 275.6414489746094, 474.16204833984375, 584.9842529296875, 453.7600402832031, 424.2234802246094, 516.0714111328125, 283.8955078125, 338.9461364746094, 534.1504516601562, 529.391357421875, 370.8614807128906, 354.5752258300781, 377.4684143066406, 399.63897705078125, 411.00201416015625, 381.51312255859375, 360.89404296875, 516.1268920898438, 254.68585205078125, 153.1434326171875, 141.84388732910156, 127.25386810302734, 116.71237182617188, 101.36863708496094, 96.06346893310547, 88.82454681396484, 94.98725128173828, 71.10470581054688, 68.2588119506836, 67.30708312988281, 61.44578552246094, 54.70816421508789, 52.84988021850586, 50.915626525878906, 48.0455207824707, 44.55652618408203, 44.4399299621582, 42.77100372314453, 42.62548065185547, 278.869873046875, 41.47219467163086, 41.29814147949219, 40.272491455078125, 40.09424591064453, 39.911293029785156, 39.03842544555664, 38.37645721435547, 160.54263305664062, 344.32354736328125, 434.3695983886719, 153.501220703125, 70.9785385131836, 282.30078125, 91.9156723022461, 146.8777618408203, 110.00140380859375, 111.1932601928711, 380.0065002441406, 230.9731903076172, 111.8909912109375, 1260.0625, 338.42437744140625, 345.56793212890625, 174.17770385742188, 290.0937805175781, 155.79515075683594, 386.1780700683594, 223.3860321044922, 425.4831237792969, 266.4376220703125, 514.757080078125, 493.8987731933594, 892.7334594726562, 166.95803833007812, 693.482177734375, 897.8468627929688, 601.101806640625, 447.47900390625, 570.1611328125, 300.78924560546875, 452.30853271484375, 619.6229858398438, 463.7124938964844, 496.1120300292969, 328.9408874511719, 334.59912109375, 736.2446899414062, 578.9653930664062, 397.2019348144531, 359.583984375, 377.1418151855469, 435.8609924316406, 364.5194091796875, 219.07977294921875, 178.805908203125, 169.02764892578125, 129.53799438476562, 118.06316375732422, 113.75447845458984, 94.2989730834961, 93.19405364990234, 88.95783233642578, 88.11091613769531, 82.1414566040039, 67.97168731689453, 67.62767028808594, 64.81367492675781, 62.2465934753418, 61.854244232177734, 59.09760284423828, 58.967960357666016, 56.79126739501953, 56.52900314331055, 53.442874908447266, 52.834266662597656, 51.42573165893555, 137.4720458984375, 50.12376403808594, 49.82758331298828, 48.92086410522461, 44.71084213256836, 44.559974670410156, 41.730499267578125, 154.40367126464844, 316.1416015625, 147.78631591796875, 390.0581970214844, 67.68704223632812, 96.10084533691406, 105.57968139648438, 159.88461303710938, 142.03890991210938, 88.1541748046875, 289.7419128417969, 216.54600524902344, 304.0040283203125, 137.39105224609375, 319.18316650390625, 105.79918670654297, 149.4829559326172, 150.69036865234375, 140.3152618408203, 138.81260681152344, 203.72178649902344, 167.85850524902344, 146.5199737548828, 253.34625244140625, 240.86534118652344, 145.52532958984375, 174.44900512695312, 159.3218231201172, 168.8387451171875, 133.36932373046875, 142.53749084472656, 162.8321990966797, 149.0402069091797, 146.08135986328125, 140.28179931640625, 140.5286407470703, 658.9954223632812, 118.65583801269531, 83.55693817138672, 79.23214721679688, 67.05569458007812, 65.4399185180664, 63.61960983276367, 63.02750015258789, 59.76694107055664, 48.621925354003906, 125.77578735351562, 46.101051330566406, 46.05620574951172, 44.77228927612305, 44.00491714477539, 41.128173828125, 40.88165283203125, 38.76213455200195, 38.60728073120117, 251.60719299316406, 37.54865264892578, 36.36864471435547, 36.10723876953125, 35.007659912109375, 34.70280456542969, 34.60799026489258, 33.62369155883789, 32.729156494140625, 32.5371208190918, 32.42626190185547, 334.07574462890625, 86.4925308227539, 145.58416748046875, 42.761688232421875, 139.26937866210938, 166.99758911132812, 62.04712677001953, 230.4508514404297, 95.84233093261719, 42.452423095703125, 81.16486358642578, 51.388004302978516, 102.07715606689453, 116.85398864746094, 292.53253173828125, 134.6621856689453, 110.00057983398438, 64.74683380126953, 69.43075561523438, 275.8144836425781, 215.00299072265625, 142.65570068359375, 176.2743682861328, 186.3499298095703, 154.66453552246094, 183.40745544433594, 116.49774932861328, 130.1645965576172, 211.65211486816406, 206.73928833007812, 166.8722686767578, 137.1078338623047, 189.7804718017578, 250.42181396484375, 178.8895263671875, 155.0029754638672, 246.6493682861328, 219.06011962890625, 208.51541137695312, 189.811279296875, 152.52923583984375, 193.91078186035156, 167.862060546875, 154.7596435546875, 142.5087890625, 450.05322265625, 386.64117431640625, 373.8096923828125, 281.19012451171875, 276.2166748046875, 150.47720336914062, 132.9293670654297, 182.52914428710938, 110.33837127685547, 109.92855072021484, 117.56641387939453, 103.32816314697266, 100.95250701904297, 97.2343978881836, 97.07815551757812, 97.09156036376953, 95.16061401367188, 94.16900634765625, 89.4518814086914, 86.50244903564453, 84.52789306640625, 84.38509368896484, 81.7603759765625, 79.33243560791016, 857.639892578125, 76.5727767944336, 76.5190658569336, 68.09859466552734, 67.98831939697266, 67.7519760131836, 373.26934814453125, 579.3395385742188, 759.834228515625, 138.23580932617188, 198.10447692871094, 213.2747802734375, 119.0810775756836, 542.0068969726562, 132.91065979003906, 130.91668701171875, 178.3664093017578, 207.7703094482422, 180.63772583007812, 167.47740173339844, 109.93863677978516, 117.31298065185547, 602.4369506835938, 137.11500549316406, 171.68072509765625, 168.53294372558594, 338.0231018066406, 133.73834228515625, 306.1663818359375, 264.1807861328125, 165.87518310546875, 202.6680908203125, 209.88253784179688, 155.86561584472656, 168.68234252929688, 190.45631408691406, 189.1782989501953, 166.92616271972656, 91.29570007324219, 84.446533203125, 80.60633087158203, 71.69673156738281, 66.8313217163086, 56.38571548461914, 53.36443328857422, 50.07600402832031, 45.95759963989258, 43.5733642578125, 43.705711364746094, 42.117374420166016, 39.87234878540039, 38.74873352050781, 37.98879623413086, 36.9775505065918, 286.2325744628906, 35.02982711791992, 34.68830871582031, 33.66840362548828, 33.61957931518555, 33.56719970703125, 32.18216323852539, 31.75154685974121, 31.07724380493164, 29.68830108642578, 29.356781005859375, 29.097660064697266, 28.632421493530273, 28.050739288330078, 76.46625518798828, 45.99787902832031, 96.18763732910156, 62.91865158081055, 137.4562225341797, 343.7730407714844, 55.02773666381836, 63.74503707885742, 110.51344299316406, 130.58827209472656, 42.80107498168945, 84.53011322021484, 85.7779769897461, 71.21261596679688, 295.2894592285156, 73.30680084228516, 60.42942428588867, 111.6588134765625, 134.77272033691406, 121.73514556884766, 235.40000915527344, 347.5479736328125, 126.49761962890625, 121.79814910888672, 113.94062042236328, 111.08138275146484, 178.76815795898438, 153.71829223632812, 131.6298828125, 107.9924087524414, 184.58389282226562, 173.50088500976562, 216.5163116455078, 156.7152557373047, 142.55479431152344, 150.99208068847656, 135.30014038085938, 160.30206298828125, 168.25076293945312, 174.95269775390625, 153.35145568847656, 130.8312530517578, 125.04114532470703, 121.92256164550781, 121.03508758544922, 120.56079864501953, 283.70465087890625, 62.5076904296875, 57.59403610229492, 57.82773208618164, 49.9815673828125, 46.997623443603516, 39.531654357910156, 35.489322662353516, 32.68623733520508, 31.272274017333984, 176.87167358398438, 178.4002227783203, 24.25397491455078, 24.20322608947754, 23.512083053588867, 23.13728904724121, 44.358612060546875, 21.421064376831055, 21.232576370239258, 20.89181137084961, 19.785736083984375, 309.0786437988281, 19.166696548461914, 76.12223052978516, 17.748077392578125, 192.73634338378906, 17.37438201904297, 17.19071388244629, 16.54279327392578, 16.435638427734375, 326.75653076171875, 747.9384765625, 1089.2847900390625, 157.98861694335938, 56.01951217651367, 1037.190185546875, 61.75804901123047, 38.221981048583984, 165.2015380859375, 141.49441528320312, 135.62135314941406, 60.6802864074707, 804.3753662109375, 85.01123046875, 801.1200561523438, 257.8941955566406, 254.11752319335938, 320.4332580566406, 228.30934143066406, 512.8836059570312, 242.2576446533203, 107.98716735839844, 164.251708984375, 261.8215026855469, 286.0368957519531, 172.8527374267578, 398.14007568359375, 714.7926635742188, 270.97119140625, 360.2782287597656, 659.6725463867188, 330.786865234375, 307.3086242675781, 300.46771240234375, 397.9471130371094, 325.8728942871094, 225.47927856445312, 229.7144775390625, 220.82777404785156, 231.772216796875, 218.8524627685547, 215.36489868164062, 168.2086639404297, 157.28549194335938, 629.507568359375, 101.00701904296875, 74.22985076904297, 50.61817932128906, 46.6848030090332, 42.981201171875, 35.997467041015625, 32.81056594848633, 31.87828254699707, 31.53929901123047, 31.173858642578125, 28.932418823242188, 28.326812744140625, 28.174423217773438, 27.269521713256836, 26.206195831298828, 25.895784378051758, 107.0557632446289, 24.033716201782227, 22.546302795410156, 21.994949340820312, 21.602338790893555, 21.23948097229004, 21.124431610107422, 20.962890625, 19.117948532104492, 719.492431640625, 187.2569122314453, 53.16206741333008, 135.1756134033203, 202.11630249023438, 1367.8035888671875, 132.48776245117188, 147.21234130859375, 336.14447021484375, 81.3297119140625, 77.3603286743164, 50.64128112792969, 100.23986053466797, 201.20591735839844, 296.2792663574219, 242.1233673095703, 170.5649871826172, 63.56727600097656, 279.39361572265625, 556.8363037109375, 187.5374298095703, 228.84780883789062, 153.88900756835938, 341.757568359375, 314.2652893066406, 178.14926147460938, 252.337646484375, 214.38368225097656, 254.30996704101562, 244.30303955078125, 164.65597534179688, 194.89462280273438, 191.56907653808594, 159.9068603515625, 162.05044555664062, 137.14431762695312, 66.27191925048828, 78.05744934082031, 56.16889953613281, 55.40867614746094, 46.49069595336914, 45.78246307373047, 43.447669982910156, 42.312259674072266, 41.124359130859375, 41.070865631103516, 40.99649429321289, 39.075469970703125, 37.9015998840332, 37.321022033691406, 36.90806198120117, 35.75883483886719, 35.40165710449219, 35.28498077392578, 35.00392150878906, 32.981510162353516, 32.981510162353516, 31.192594528198242, 30.127784729003906, 28.943470001220703, 28.938486099243164, 28.615121841430664, 27.803325653076172, 27.49535369873047, 26.406225204467773, 32.580318450927734, 103.09515380859375, 59.503700256347656, 39.562538146972656, 45.13875198364258, 43.850467681884766, 132.0897216796875, 43.4775390625, 49.859317779541016, 169.39588928222656, 93.74484252929688, 96.71137237548828, 118.53617095947266, 61.025821685791016, 79.06861877441406, 122.12647247314453, 93.18321228027344, 48.79879379272461, 101.206787109375, 64.1789321899414, 103.79029846191406, 55.00202178955078, 79.78548431396484, 72.89908599853516, 68.7481918334961, 48.3308219909668, 63.796348571777344, 69.34042358398438, 70.7271499633789, 58.51844024658203, 73.45515441894531, 71.30104064941406, 63.06745910644531, 63.841243743896484, 57.296661376953125, 56.46160125732422, 378.87701416015625, 504.4748840332031, 185.97576904296875, 141.54598999023438, 118.98974609375, 96.56623077392578, 95.67647552490234, 93.0678482055664, 88.65780639648438, 76.36328125, 65.30908966064453, 54.7193489074707, 54.370235443115234, 53.82305908203125, 50.476680755615234, 42.6346321105957, 41.204566955566406, 38.84938049316406, 38.57472229003906, 38.053409576416016, 35.7445068359375, 35.462066650390625, 35.31306457519531, 35.12041091918945, 33.78731918334961, 33.30967712402344, 33.128700256347656, 32.746273040771484, 32.56114196777344, 31.962949752807617, 408.0921630859375, 60.192230224609375, 130.90948486328125, 155.91920471191406, 59.48950958251953, 63.82617950439453, 62.203369140625, 55.33828353881836, 172.40435791015625, 419.39013671875, 199.01425170898438, 68.72648620605469, 128.12689208984375, 89.89706420898438, 143.68032836914062, 219.6041259765625, 206.02774047851562, 153.444091796875, 173.16598510742188, 108.72683715820312, 95.39405822753906, 83.00495147705078, 103.4643325805664, 190.61514282226562, 111.283203125, 92.11726379394531, 103.6543197631836, 91.61003112792969, 120.97101593017578, 107.91532897949219, 100.98089599609375, 102.65879821777344, 234.23719787597656, 145.00221252441406, 87.36168670654297, 52.21647262573242, 49.535884857177734, 45.25505828857422, 44.23471450805664, 38.48086166381836, 36.33007049560547, 36.02851486206055, 32.63072204589844, 32.1882209777832, 30.690664291381836, 30.51399040222168, 28.97965431213379, 28.957305908203125, 28.73537826538086, 28.244943618774414, 28.17632293701172, 27.550575256347656, 27.519861221313477, 27.306201934814453, 26.894954681396484, 26.47321891784668, 26.457000732421875, 26.154136657714844, 90.82035064697266, 25.02313995361328, 24.680585861206055, 24.532093048095703, 121.29952239990234, 36.28864669799805, 47.57985305786133, 29.33724021911621, 56.21389389038086, 56.022090911865234, 52.78819274902344, 35.10807418823242, 131.27587890625, 31.087406158447266, 55.70597839355469, 38.44075393676758, 81.23316955566406, 177.91957092285156, 59.69246292114258, 73.45561981201172, 64.71578216552734, 46.29107666015625, 78.98738861083984, 50.61908721923828, 91.33362579345703, 54.27326583862305, 55.08789825439453, 53.1807746887207, 61.081085205078125, 52.248291015625, 62.79578399658203, 74.20269775390625, 62.83485794067383, 53.65375900268555, 143.38763427734375, 71.30268859863281, 60.57546615600586, 59.642208099365234, 52.81944274902344, 47.28178787231445, 41.110511779785156, 40.41576385498047, 38.03482437133789, 34.355682373046875, 34.1284065246582, 34.02960205078125, 33.713077545166016, 31.82066535949707, 31.48382568359375, 30.34471893310547, 29.34463119506836, 27.510780334472656, 26.474214553833008, 26.01001739501953, 25.579771041870117, 24.928123474121094, 39.8309326171875, 22.384296417236328, 22.16667938232422, 21.9290714263916, 21.792835235595703, 21.722129821777344, 21.461044311523438, 21.344165802001953, 66.54644012451172, 112.13250732421875, 212.8199462890625, 31.502779006958008, 50.08000564575195, 36.69745635986328, 93.01390838623047, 37.58067321777344, 42.80488204956055, 49.16365051269531, 53.54391098022461, 148.4934844970703, 113.3122329711914, 156.3511962890625, 46.13189697265625, 67.38375091552734, 45.23731231689453, 70.22030639648438, 57.619136810302734, 48.77396011352539, 40.83858108520508, 68.9582748413086, 58.194297790527344, 52.04120635986328, 62.68304443359375, 43.60665512084961, 42.161258697509766, 436.7480163574219, 275.1563415527344, 204.50225830078125, 157.57888793945312, 101.3786849975586, 94.69462585449219, 87.6285629272461, 72.29962158203125, 65.18170166015625, 64.93753051757812, 60.73119354248047, 59.02988052368164, 56.765079498291016, 57.87948226928711, 45.99654769897461, 40.78704833984375, 38.040103912353516, 37.229461669921875, 32.58168411254883, 29.156494140625, 28.599428176879883, 28.42401695251465, 26.850231170654297, 24.21942901611328, 22.807477951049805, 22.263938903808594, 22.000085830688477, 20.511903762817383, 19.524734497070312, 19.483991622924805, 463.7599792480469, 160.7111358642578, 256.5858154296875, 159.2870330810547, 139.25216674804688, 168.6919708251953, 75.9140625, 344.2797546386719, 219.24432373046875, 69.9434585571289, 52.60115432739258, 242.6178436279297, 97.7829360961914, 149.7142791748047, 53.45184326171875, 84.5443344116211, 77.35829162597656, 57.32902145385742, 79.92483520507812, 59.767974853515625, 233.86984252929688, 197.13592529296875, 172.48533630371094, 165.5540008544922, 150.38348388671875, 147.88502502441406, 115.9796142578125, 101.49864196777344, 97.9495620727539, 82.3787841796875, 78.26045989990234, 73.95159149169922, 71.21308135986328, 71.20359802246094, 64.76687622070312, 59.20213317871094, 55.954471588134766, 47.69245529174805, 46.7458381652832, 44.48061752319336, 43.247074127197266, 42.495201110839844, 42.4873046875, 42.4422492980957, 38.56771469116211, 37.72646713256836, 36.99467849731445, 35.63370895385742, 25.830154418945312, 23.67108154296875, 57.9566650390625, 56.767642974853516, 1055.0279541015625, 138.91726684570312, 372.1880187988281, 58.4539680480957, 109.23693084716797, 65.08580780029297, 145.00732421875, 66.50772094726562, 66.7292709350586, 203.5545654296875, 137.21315002441406, 83.18460845947266, 92.37786102294922, 83.1666030883789, 124.96446228027344, 61.79519271850586, 38.88814926147461, 34.27934265136719, 33.3691291809082, 32.72568130493164, 28.852418899536133, 28.120332717895508, 27.650999069213867, 26.882898330688477, 24.576663970947266, 22.158226013183594, 20.60692596435547, 19.75932502746582, 19.09444236755371, 18.499303817749023, 17.81421661376953, 16.63083839416504, 16.20115852355957, 15.48186206817627, 15.254752159118652, 15.17855453491211, 14.921357154846191, 14.591863632202148, 14.378226280212402, 13.971467971801758, 13.346012115478516, 13.229480743408203, 13.030172348022461, 12.887712478637695, 31.02542495727539, 111.39491271972656, 26.62834930419922, 53.63634490966797, 27.58203125, 31.57703399658203, 41.271934509277344, 34.77579116821289, 22.07640838623047, 92.47989654541016, 21.544363021850586, 24.124996185302734, 27.393447875976562, 31.27222442626953, 27.312421798706055, 24.70379638671875, 24.799222946166992, 25.37322235107422, 21.612031936645508, 115.40364837646484, 73.6533432006836, 66.39047241210938, 62.3663444519043, 62.209232330322266, 48.388145446777344, 43.91572952270508, 42.905189514160156, 33.11760330200195, 31.164962768554688, 31.10060691833496, 28.408239364624023, 27.65441131591797, 26.54705810546875, 24.74064064025879, 24.614181518554688, 23.920997619628906, 21.681974411010742, 21.5018310546875, 19.495405197143555, 16.657255172729492, 16.275087356567383, 16.219738006591797, 15.89504337310791, 15.757903099060059, 15.128968238830566, 15.010497093200684, 14.717103958129883, 14.684229850769043, 14.512086868286133, 49.73628616333008, 33.84139633178711, 19.066205978393555, 30.613956451416016, 22.04198455810547, 25.193326950073242, 42.85088348388672, 34.005184173583984, 23.593408584594727, 31.962963104248047, 25.64132308959961, 24.989137649536133, 22.613479614257812, 38.60271072387695, 35.408226013183594, 28.973960876464844, 27.92782211303711, 26.66865348815918, 20.697643280029297, 19.443140029907227, 19.347999572753906, 19.273012161254883, 19.103349685668945, 18.07571792602539, 16.87291717529297, 16.81816864013672, 16.177608489990234, 15.06265640258789, 14.622024536132812, 13.60401725769043, 13.562101364135742, 13.32099723815918, 13.074357986450195, 12.559565544128418, 12.335982322692871, 11.933752059936523, 11.886063575744629, 11.771858215332031, 11.135710716247559, 11.094314575195312, 11.007365226745605, 10.857229232788086, 10.717552185058594, 34.746158599853516, 34.648555755615234, 52.902530670166016, 44.935935974121094, 36.110416412353516, 28.718219757080078, 22.550582885742188, 28.945899963378906, 23.442487716674805, 14.786397933959961, 15.805805206298828, 29.265636444091797, 21.25084686279297, 23.74047088623047, 24.964155197143555, 19.131685256958008, 16.165386199951172], \"Total\": [1753.0, 1188.0, 3645.0, 1289.0, 1260.0, 6464.0, 1646.0, 1598.0, 1518.0, 4388.0, 1595.0, 868.0, 1004.0, 776.0, 854.0, 567.0, 1260.0, 797.0, 4209.0, 1557.0, 669.0, 568.0, 1384.0, 662.0, 634.0, 2145.0, 1894.0, 970.0, 1136.0, 659.0, 387.283203125, 334.4896545410156, 326.9622497558594, 243.0174560546875, 213.17613220214844, 205.0904541015625, 198.81141662597656, 179.3949432373047, 159.8555450439453, 140.998291015625, 136.74868774414062, 108.37771606445312, 110.19851684570312, 184.46026611328125, 94.74703216552734, 90.20027160644531, 86.29180145263672, 85.53999328613281, 87.8908920288086, 81.8873291015625, 72.31095123291016, 71.58805847167969, 70.12268829345703, 69.80207824707031, 68.552978515625, 67.94811248779297, 66.59005737304688, 66.41618347167969, 65.57514190673828, 63.93830490112305, 304.4850769042969, 642.5615234375, 192.8714141845703, 144.3340606689453, 483.9088439941406, 261.23284912109375, 142.6928253173828, 83.77574157714844, 449.356201171875, 394.0516357421875, 163.93902587890625, 1281.73046875, 173.34681701660156, 341.451171875, 304.7997741699219, 250.0830078125, 407.20733642578125, 213.1143341064453, 4388.1328125, 973.010009765625, 6464.98974609375, 319.98956298828125, 238.4187774658203, 1947.2666015625, 343.1736755371094, 2163.246337890625, 935.0591430664062, 2434.1640625, 3206.043701171875, 2659.172607421875, 2647.948486328125, 2304.017333984375, 786.267822265625, 1198.8050537109375, 4209.7412109375, 2215.835205078125, 779.9586181640625, 1065.115966796875, 1881.6300048828125, 1254.2940673828125, 3645.7705078125, 1302.900390625, 3162.86279296875, 1607.358642578125, 3660.151123046875, 2610.228759765625, 1481.6951904296875, 641.5541381835938, 388.7340393066406, 340.92864990234375, 320.4730224609375, 302.1509094238281, 287.19342041015625, 254.9521484375, 177.67945861816406, 176.85069274902344, 1136.1658935546875, 147.12692260742188, 131.92503356933594, 124.62540435791016, 118.77919006347656, 117.15908813476562, 115.63373565673828, 115.57735443115234, 111.49937438964844, 110.95460510253906, 110.73301696777344, 107.45101928710938, 107.42609405517578, 100.71227264404297, 100.24565124511719, 97.0921630859375, 96.97959899902344, 95.25386810302734, 94.44654083251953, 93.5267105102539, 90.2967758178711, 732.0828857421875, 547.1685791015625, 313.2259521484375, 270.0331726074219, 148.2982635498047, 229.04190063476562, 447.24267578125, 815.91455078125, 348.7605895996094, 241.37094116210938, 495.9435119628906, 367.43243408203125, 213.18128967285156, 167.22877502441406, 642.70556640625, 288.86993408203125, 381.03521728515625, 388.74957275390625, 588.244140625, 273.9203796386719, 397.7812805175781, 860.5156860351562, 2145.718017578125, 546.9105224609375, 422.1320495605469, 2062.493408203125, 844.4800415039062, 4209.7412109375, 1774.8902587890625, 1152.6016845703125, 3660.151123046875, 1690.0057373046875, 1742.5579833984375, 2610.228759765625, 1599.943359375, 6464.98974609375, 2215.835205078125, 817.4320068359375, 2163.246337890625, 3162.86279296875, 2647.948486328125, 1146.89892578125, 3645.7705078125, 1384.8463134765625, 180.402099609375, 148.03939819335938, 128.5601348876953, 128.04627990722656, 107.2373275756836, 102.22816467285156, 93.05473327636719, 90.64680480957031, 217.79739379882812, 82.95390319824219, 79.63391876220703, 78.86866760253906, 77.34735107421875, 263.5436706542969, 63.884117126464844, 63.033897399902344, 62.692596435546875, 61.044273376464844, 60.5212287902832, 60.21964645385742, 59.594356536865234, 190.13563537597656, 54.364471435546875, 52.461463928222656, 50.08707046508789, 49.770870208740234, 47.857086181640625, 47.3571891784668, 45.790855407714844, 43.872344970703125, 119.9742431640625, 119.4083480834961, 620.7877197265625, 502.5950927734375, 126.0271987915039, 91.6275634765625, 113.72588348388672, 497.92486572265625, 630.8148803710938, 354.3556213378906, 134.41302490234375, 1894.20458984375, 353.49041748046875, 322.2964172363281, 619.91796875, 214.44338989257812, 369.1751403808594, 1457.324462890625, 155.7562713623047, 1554.576904296875, 742.3209228515625, 3645.7705078125, 748.5272216796875, 628.138427734375, 647.1104125976562, 3162.86279296875, 666.0426635742188, 725.8333740234375, 566.83349609375, 367.7577209472656, 4388.1328125, 4209.7412109375, 1113.8074951171875, 1681.3975830078125, 709.1773681640625, 1418.529541015625, 1055.640869140625, 2659.172607421875, 1071.8602294921875, 3206.043701171875, 1539.38623046875, 6464.98974609375, 2647.948486328125, 1947.2666015625, 2434.1640625, 1491.5989990234375, 1481.6951904296875, 2284.552734375, 1234.5960693359375, 2610.228759765625, 1881.6300048828125, 970.7312622070312, 558.8255615234375, 487.1004638671875, 447.8719177246094, 403.2694396972656, 402.291748046875, 255.3539276123047, 226.05502319335938, 203.2036895751953, 193.27919006347656, 184.52647399902344, 174.55303955078125, 166.9374237060547, 143.05125427246094, 142.94461059570312, 137.35169982910156, 125.38642883300781, 116.15940856933594, 165.538818359375, 100.88539123535156, 100.4752197265625, 91.80447387695312, 87.91063690185547, 81.47621154785156, 81.0452880859375, 80.43006134033203, 77.94975280761719, 76.6608657836914, 76.47364044189453, 213.74501037597656, 615.7067260742188, 148.3832550048828, 438.1006774902344, 211.56271362304688, 445.2650451660156, 109.38573455810547, 200.13282775878906, 147.52932739257812, 321.28509521484375, 237.06842041015625, 238.22509765625, 273.4253234863281, 414.8541259765625, 1423.710693359375, 247.1396942138672, 839.4577026367188, 1034.5531005859375, 260.5546569824219, 404.50238037109375, 559.7206420898438, 1139.9775390625, 660.6260986328125, 3206.043701171875, 6464.98974609375, 4388.1328125, 435.5340576171875, 1403.4228515625, 2304.017333984375, 1379.4205322265625, 1313.4515380859375, 2434.1640625, 486.63409423828125, 818.72021484375, 3645.7705078125, 3660.151123046875, 1186.0511474609375, 1065.115966796875, 1681.3975830078125, 3162.86279296875, 4209.7412109375, 2610.228759765625, 2647.948486328125, 517.0537719726562, 255.61268615722656, 154.07029724121094, 142.7716064453125, 128.18069458007812, 117.65923309326172, 102.29547882080078, 96.99031066894531, 89.75138854980469, 96.0210952758789, 72.03154754638672, 69.18565368652344, 68.23392486572266, 62.372623443603516, 55.63500213623047, 53.77671813964844, 51.84246826171875, 48.97235870361328, 45.48336410522461, 45.36676788330078, 43.69784164428711, 43.55231857299805, 285.064208984375, 42.39903259277344, 42.2254753112793, 41.1993293762207, 41.02108383178711, 40.838130950927734, 39.96526336669922, 39.30329513549805, 164.94418334960938, 356.7515869140625, 458.3756408691406, 160.40643310546875, 73.2676773071289, 303.7243347167969, 95.55975341796875, 155.54136657714844, 115.51446533203125, 117.72798156738281, 425.11297607421875, 253.88287353515625, 119.76702117919922, 1595.320556640625, 393.03009033203125, 403.4563903808594, 193.5311737060547, 341.1413879394531, 172.42425537109375, 475.5517578125, 259.7410583496094, 539.1578369140625, 321.1028137207031, 697.4312744140625, 684.0938110351562, 1384.8463134765625, 193.31710815429688, 1146.89892578125, 1614.6092529296875, 1034.114501953125, 710.699462890625, 1004.1275024414062, 421.5769348144531, 755.5814208984375, 1260.5191650390625, 896.6649169921875, 1041.203369140625, 534.3751831054688, 572.4864501953125, 3660.151123046875, 2145.718017578125, 916.7674560546875, 733.6512451171875, 868.3231811523438, 1598.597900390625, 844.4800415039062, 220.01072692871094, 179.7368621826172, 169.95860290527344, 130.4689483642578, 118.99449157714844, 114.68544006347656, 95.22993469238281, 94.12501525878906, 89.8887939453125, 89.04187774658203, 83.07241821289062, 68.90264892578125, 68.55863189697266, 65.74463653564453, 63.177555084228516, 62.78520584106445, 60.028564453125, 59.911888122558594, 57.72222900390625, 57.45997619628906, 54.373836517333984, 53.765228271484375, 52.356693267822266, 139.9684600830078, 51.054725646972656, 50.758544921875, 49.85182571411133, 45.641841888427734, 45.490936279296875, 42.661460876464844, 158.45384216308594, 335.7567138671875, 161.83311462402344, 464.1623229980469, 71.60594177246094, 106.65068054199219, 118.7352523803711, 209.06297302246094, 181.8470916748047, 102.13832092285156, 503.48223876953125, 345.0514831542969, 572.4595336914062, 190.89695739746094, 662.7891235351562, 136.21536254882812, 235.70823669433594, 259.36444091796875, 235.5563201904297, 247.9622039794922, 556.0908813476562, 395.1588439941406, 313.22412109375, 1481.6951904296875, 1406.0791015625, 354.6967468261719, 626.5259399414062, 498.7626037597656, 1186.0511474609375, 309.3558349609375, 639.8203125, 3660.151123046875, 2284.552734375, 4388.1328125, 600.2442016601562, 863.5541381835938, 659.9304809570312, 119.58612823486328, 84.48722839355469, 80.1624984741211, 67.9859848022461, 66.37022399902344, 64.54993438720703, 63.96127700805664, 60.69723129272461, 49.552215576171875, 128.21707153320312, 47.031349182128906, 46.98649597167969, 45.702579498291016, 44.93520736694336, 42.05846405029297, 41.81272888183594, 39.69242477416992, 39.53757095336914, 257.80242919921875, 38.47894287109375, 37.29893493652344, 37.03752899169922, 35.937950134277344, 35.633094787597656, 35.53828048706055, 34.55398178100586, 33.659446716308594, 33.467411041259766, 33.35655212402344, 348.0503845214844, 91.09214782714844, 161.24803161621094, 44.69380569458008, 160.9593505859375, 196.35418701171875, 67.06532287597656, 283.74755859375, 109.305908203125, 44.44243621826172, 95.68698120117188, 55.76084518432617, 129.225341796875, 153.07057189941406, 493.9473876953125, 197.7938232421875, 154.97158813476562, 76.31214141845703, 85.39757537841797, 639.8203125, 443.84210205078125, 245.93051147460938, 345.4749450683594, 389.6656799316406, 294.8165283203125, 408.833984375, 192.7131805419922, 247.00820922851562, 630.3876342773438, 608.5565185546875, 407.96484375, 277.2476501464844, 619.8339233398438, 1281.73046875, 567.1713256835938, 393.71612548828125, 1598.597900390625, 1457.324462890625, 1894.20458984375, 1774.8902587890625, 572.4864501953125, 3660.151123046875, 1557.871826171875, 973.010009765625, 407.5787048339844, 450.9862365722656, 387.5741882324219, 374.7427062988281, 282.1231384277344, 277.1496887207031, 151.4102020263672, 133.86236572265625, 183.85423278808594, 111.27136993408203, 110.8615493774414, 118.6037826538086, 104.26118469238281, 101.88551330566406, 98.16739654541016, 98.01115417480469, 98.02631378173828, 96.09361267089844, 95.10200500488281, 90.38493347167969, 87.4354476928711, 85.46089172363281, 85.3180923461914, 82.69337463378906, 80.26543426513672, 868.0003662109375, 77.50577545166016, 77.4521484375, 69.0315933227539, 68.92131805419922, 68.68497467041016, 381.4804992675781, 598.7334594726562, 797.6146240234375, 141.28225708007812, 204.96009826660156, 226.39288330078125, 123.2970199584961, 629.837158203125, 139.42941284179688, 137.79327392578125, 197.34600830078125, 236.39227294921875, 203.2645263671875, 202.46669006347656, 115.58418273925781, 127.61428833007812, 1557.871826171875, 166.9628448486328, 265.25115966796875, 268.3786315917969, 1408.70849609375, 176.8912353515625, 2610.228759765625, 2284.552734375, 420.7750244140625, 1023.5291748046875, 1252.368896484375, 366.0224914550781, 1019.6546630859375, 3206.043701171875, 6464.98974609375, 2647.948486328125, 92.2258071899414, 85.37664031982422, 81.53740692138672, 72.62683868408203, 67.76142883300781, 57.31582260131836, 54.29454040527344, 51.00611114501953, 46.8877067565918, 44.50347137451172, 44.64094161987305, 43.047481536865234, 40.802459716796875, 39.67884063720703, 38.91890335083008, 37.91535568237305, 293.65966796875, 35.95993423461914, 35.61841583251953, 34.598567962646484, 34.549686431884766, 34.497413635253906, 33.11227035522461, 32.68165588378906, 32.00735092163086, 30.618406295776367, 30.28688621520996, 30.02776527404785, 29.56252670288086, 28.980844497680664, 79.15592956542969, 48.68577194213867, 110.90825653076172, 70.70902252197266, 180.8115692138672, 593.6257934570312, 63.72024917602539, 76.83346557617188, 156.74722290039062, 209.04591369628906, 47.602394104003906, 119.93494415283203, 123.53917694091797, 97.09732818603516, 755.5814208984375, 113.21170043945312, 84.21287536621094, 255.2879638671875, 375.1142883300781, 312.4684143066406, 1379.4205322265625, 3162.86279296875, 442.7440490722656, 423.3336181640625, 366.0224914550781, 375.69927978515625, 1302.900390625, 927.8053588867188, 631.0613403320312, 362.1543884277344, 2215.835205078125, 1881.6300048828125, 4209.7412109375, 1607.358642578125, 1252.368896484375, 1690.0057373046875, 1024.45654296875, 2610.228759765625, 3660.151123046875, 6464.98974609375, 3206.043701171875, 1774.8902587890625, 1599.943359375, 1254.2940673828125, 2434.1640625, 2659.172607421875, 287.58184814453125, 63.44145584106445, 58.527801513671875, 58.80001449584961, 50.91533279418945, 47.93165969848633, 40.46541976928711, 36.423091888427734, 33.62000274658203, 32.2060432434082, 182.94483947753906, 184.56065368652344, 25.187740325927734, 25.136991500854492, 24.44584846496582, 24.071054458618164, 46.24592971801758, 22.354829788208008, 22.16634178161621, 21.825576782226562, 20.719501495361328, 323.93035888671875, 20.100461959838867, 79.97421264648438, 18.681842803955078, 202.93777465820312, 18.308147430419922, 18.124479293823242, 17.476558685302734, 17.369403839111328, 348.2714538574219, 854.3817749023438, 1260.57958984375, 175.99737548828125, 60.74953079223633, 1289.8375244140625, 69.05451965332031, 41.7446174621582, 207.2897186279297, 179.90493774414062, 181.4232635498047, 72.89423370361328, 1518.414794921875, 108.97975158691406, 1646.5513916015625, 436.0343017578125, 442.7440490722656, 620.0716552734375, 400.04583740234375, 1243.663330078125, 480.6238098144531, 158.84165954589844, 303.64105224609375, 617.0642700195312, 710.012451171875, 334.52435302734375, 1260.5191650390625, 3645.7705078125, 790.161376953125, 1690.0057373046875, 6464.98974609375, 1742.5579833984375, 1598.597900390625, 1599.943359375, 4209.7412109375, 2659.172607421875, 839.9662475585938, 1425.60302734375, 1050.814208984375, 1881.6300048828125, 219.7913055419922, 216.30374145507812, 169.1475067138672, 158.29281616210938, 634.2081298828125, 101.94587707519531, 75.16870880126953, 51.557029724121094, 47.623653411865234, 43.92005157470703, 36.936317443847656, 33.74941635131836, 32.81721496582031, 32.4781494140625, 32.11271286010742, 29.87127113342285, 29.26566505432129, 29.1132755279541, 28.2083740234375, 27.145048141479492, 26.834636688232422, 111.06231689453125, 24.97256851196289, 23.48515510559082, 22.933801651000977, 22.54119110107422, 22.178333282470703, 22.063283920288086, 21.90176773071289, 20.056800842285156, 776.8043212890625, 204.13870239257812, 56.72216796875, 152.47166442871094, 233.1795654296875, 1753.0369873046875, 151.9908905029297, 177.81007385253906, 443.5649108886719, 94.05459594726562, 90.0285415649414, 56.378204345703125, 126.16239929199219, 287.22607421875, 476.85247802734375, 377.195068359375, 247.70297241210938, 77.47860717773438, 610.35205078125, 1598.597900390625, 376.7984313964844, 521.7847900390625, 293.2061462402344, 1024.45654296875, 916.7674560546875, 415.93695068359375, 839.9662475585938, 665.2464599609375, 1136.82666015625, 1406.0791015625, 509.577392578125, 1189.8138427734375, 1403.4228515625, 733.6512451171875, 1557.871826171875, 138.07879638671875, 67.2064208984375, 79.27528381347656, 57.103485107421875, 56.34318542480469, 47.43900680541992, 46.716957092285156, 44.382164001464844, 43.24675369262695, 42.05885314941406, 42.0053596496582, 41.94340896606445, 40.00996398925781, 38.83609390258789, 38.255516052246094, 37.84255599975586, 36.693328857421875, 36.336151123046875, 36.21947479248047, 35.93841552734375, 33.9160041809082, 33.9160041809082, 32.127113342285156, 31.062280654907227, 29.877965927124023, 29.872982025146484, 29.549617767333984, 28.737821578979492, 28.42984962463379, 27.34072494506836, 33.77682113647461, 113.32252502441406, 66.59940338134766, 42.55078125, 53.95002746582031, 53.412052154541016, 255.2879638671875, 53.698612213134766, 66.70162963867188, 473.4631042480469, 202.12611389160156, 222.91683959960938, 389.3530578613281, 107.53923034667969, 194.11431884765625, 628.4904174804688, 331.07958984375, 77.26290130615234, 826.5056762695312, 198.44320678710938, 1034.114501953125, 123.46357727050781, 672.2568359375, 475.5517578125, 566.83349609375, 94.21503448486328, 512.0806274414062, 1011.8585815429688, 1186.0511474609375, 342.3609313964844, 2610.228759765625, 2284.552734375, 779.9586181640625, 1113.8074951171875, 1181.3985595703125, 422.5213928222656, 379.8108825683594, 506.3562316894531, 186.91415405273438, 142.47982788085938, 119.92359161376953, 97.50007629394531, 96.61038208007812, 94.00171661376953, 89.5916519165039, 77.29712677001953, 66.24293518066406, 55.653194427490234, 55.304080963134766, 54.756900787353516, 51.41176986694336, 43.568477630615234, 42.13840866088867, 39.78322219848633, 39.508567810058594, 38.98725509643555, 36.678348541259766, 36.39590835571289, 36.24690628051758, 36.054256439208984, 34.72116470336914, 34.2435188293457, 34.06254577636719, 33.680118560791016, 33.4949836730957, 32.896793365478516, 423.55096435546875, 62.067413330078125, 141.03062438964844, 173.0682373046875, 63.12037658691406, 68.96630096435547, 68.02450561523438, 60.04738235473633, 228.08004760742188, 669.3425903320312, 277.15673828125, 80.85493469238281, 178.42283630371094, 116.33758544921875, 266.81365966796875, 520.67919921875, 501.9805908203125, 340.57745361328125, 497.35186767578125, 220.32083129882812, 170.23745727539062, 128.25845336914062, 263.94146728515625, 1406.0791015625, 327.52508544921875, 213.54025268554688, 370.2815246582031, 262.8141784667969, 2284.552734375, 1152.6016845703125, 1019.6546630859375, 2062.493408203125, 235.17337036132812, 145.93836975097656, 88.2978744506836, 53.15265655517578, 50.47206497192383, 46.19123840332031, 45.170894622802734, 39.41733932495117, 37.26625061035156, 36.96469497680664, 33.56690216064453, 33.1244010925293, 31.62684440612793, 31.450170516967773, 29.915834426879883, 29.89352035522461, 29.671558380126953, 29.181123733520508, 29.112503051757812, 28.48675537109375, 28.45604133605957, 28.242382049560547, 27.831134796142578, 27.409399032592773, 27.39318084716797, 27.090316772460938, 94.17900848388672, 25.959320068359375, 25.61676597595215, 25.468273162841797, 127.53550720214844, 37.78020095825195, 50.02896499633789, 31.042423248291016, 67.37838745117188, 68.79692840576172, 66.52882385253906, 39.199745178222656, 235.60977172851562, 33.63033676147461, 77.62931823730469, 47.16510009765625, 161.6262664794922, 597.882568359375, 101.72718048095703, 172.2906951904297, 137.8854217529297, 74.44449615478516, 240.9463653564453, 93.64745330810547, 555.7586669921875, 134.82872009277344, 150.2071075439453, 138.71035766601562, 249.82643127441406, 158.13690185546875, 497.35186767578125, 1260.5191650390625, 630.68017578125, 572.4595336914062, 144.32400512695312, 72.23907470703125, 61.5118522644043, 60.57859420776367, 53.755828857421875, 48.21817398071289, 42.046897888183594, 41.352149963378906, 38.97121047973633, 35.29206848144531, 35.06479263305664, 34.96599197387695, 34.64946365356445, 32.757049560546875, 32.42021179199219, 31.281103134155273, 30.281015396118164, 28.44716453552246, 27.410598754882812, 26.946401596069336, 26.516155242919922, 25.8645076751709, 41.397308349609375, 23.320680618286133, 23.103063583374023, 22.865455627441406, 22.729219436645508, 22.65851402282715, 22.397428512573242, 22.280550003051758, 70.06637573242188, 132.25738525390625, 263.9814758300781, 34.25163650512695, 57.67133331298828, 40.987152099609375, 122.13900756835938, 43.273284912109375, 51.378597259521484, 62.45296859741211, 70.65209197998047, 286.47454833984375, 212.75848388671875, 340.283203125, 59.829498291015625, 115.610107421875, 68.26889038085938, 183.28839111328125, 121.46239471435547, 107.32833862304688, 61.4810905456543, 362.1543884277344, 243.63259887695312, 169.7410888671875, 573.6357421875, 414.9863586425781, 403.1957092285156, 437.81549072265625, 276.0927429199219, 205.43862915039062, 158.51528930664062, 102.3150634765625, 95.6310043334961, 88.56494140625, 73.23600006103516, 66.11808013916016, 65.87390899658203, 61.66776657104492, 59.96625900268555, 57.70145797729492, 58.849266052246094, 46.932926177978516, 41.723426818847656, 38.97648239135742, 38.16584014892578, 33.518062591552734, 30.092870712280273, 29.535804748535156, 29.360393524169922, 27.78660774230957, 25.155807495117188, 23.74385643005371, 23.200315475463867, 22.93646240234375, 21.44828224182129, 20.461111068725586, 20.420368194580078, 567.4056396484375, 186.85433959960938, 312.297119140625, 195.98629760742188, 175.54519653320312, 218.31686401367188, 92.94882202148438, 568.2383422851562, 360.2664489746094, 89.43028259277344, 68.70872497558594, 662.7891235351562, 189.9522247314453, 465.7987365722656, 71.70857238769531, 193.31407165527344, 177.41424560546875, 87.97674560546875, 345.4749450683594, 111.52975463867188, 234.83311462402344, 198.13197326660156, 173.42051696777344, 166.4891815185547, 151.31866455078125, 148.821533203125, 116.91481018066406, 102.43385314941406, 98.8847885131836, 83.31401062011719, 79.1956558227539, 74.88680267333984, 72.14827728271484, 72.1387939453125, 65.7829360961914, 60.1373291015625, 56.88966751098633, 48.627742767333984, 47.6810302734375, 45.41581344604492, 44.18226623535156, 43.43039321899414, 43.42250442504883, 43.37744140625, 39.502906799316406, 38.66363525390625, 37.92987060546875, 36.56890106201172, 26.765348434448242, 24.60627555847168, 60.4970588684082, 59.28696823120117, 1188.4749755859375, 152.01670837402344, 433.633544921875, 61.34298324584961, 119.84870147705078, 68.85356903076172, 168.71646118164062, 73.58831787109375, 76.56855773925781, 370.7140197753906, 498.7626037597656, 237.6967315673828, 556.0908813476562, 486.63409423828125, 125.90572357177734, 62.7364616394043, 39.82941818237305, 35.220611572265625, 34.31039810180664, 33.66695022583008, 29.79368782043457, 29.061601638793945, 28.592267990112305, 27.824167251586914, 25.517932891845703, 23.10226821899414, 21.548194885253906, 20.700593948364258, 20.03571128845215, 19.44057273864746, 18.75548553466797, 17.572107315063477, 17.142427444458008, 16.42313003540039, 16.196020126342773, 16.119823455810547, 15.862625122070312, 15.53313159942627, 15.319494247436523, 14.912735939025879, 14.287280082702637, 14.170748710632324, 13.971440315246582, 13.828980445861816, 34.6953010559082, 174.70628356933594, 35.43558883666992, 106.1391830444336, 42.791622161865234, 59.260990142822266, 118.8298110961914, 88.68738555908203, 37.172813415527344, 1004.1275024414062, 35.51469039916992, 51.9331169128418, 111.01524353027344, 277.6697692871094, 156.22349548339844, 98.56379699707031, 114.78668975830078, 597.882568359375, 80.76609802246094, 116.34603118896484, 74.5957260131836, 67.33448791503906, 63.3087272644043, 63.151615142822266, 49.3305778503418, 44.85811233520508, 43.84758377075195, 34.05998611450195, 32.10734558105469, 32.042991638183594, 29.350622177124023, 28.59679412841797, 27.48944091796875, 25.68302345275879, 25.556564331054688, 24.863380432128906, 22.624357223510742, 22.4442138671875, 20.437788009643555, 17.599637985229492, 17.217470169067383, 17.162120819091797, 16.837427139282227, 16.700286865234375, 16.071352005004883, 15.952880859375, 15.6594877243042, 15.62661361694336, 15.454471588134766, 62.305206298828125, 40.766231536865234, 21.37356948852539, 39.09841537475586, 28.106281280517578, 34.73405456542969, 89.83084869384766, 79.954833984375, 40.977359771728516, 85.0428466796875, 71.12554168701172, 79.97227478027344, 156.22349548339844, 39.54979705810547, 36.489723205566406, 29.92104721069336, 28.874908447265625, 27.615739822387695, 21.644729614257812, 20.39034080505371, 20.295085906982422, 20.2200984954834, 20.05043601989746, 19.022804260253906, 17.820005416870117, 17.765254974365234, 17.12469482421875, 16.009742736816406, 15.569110870361328, 14.551103591918945, 14.509187698364258, 14.268083572387695, 14.021444320678711, 13.506651878356934, 13.283068656921387, 12.880838394165039, 12.833149909973145, 12.718944549560547, 12.082797050476074, 12.041400909423828, 11.954451560974121, 11.804315567016602, 11.66463851928711, 38.708377838134766, 40.07804489135742, 65.9965591430664, 55.772491455078125, 56.72039794921875, 42.87592697143555, 40.764469146728516, 66.80580139160156, 68.01216888427734, 21.25446319580078, 27.75824737548828, 329.7034912109375, 98.68909454345703, 177.41424560546875, 263.5565185546875, 80.05619049072266, 93.77169799804688], \"Category\": [\"Default\", \"Default\", \"Default\", \"Default\", \"Default\", \"Default\", \"Default\", \"Default\", \"Default\", \"Default\", \"Default\", \"Default\", \"Default\", \"Default\", \"Default\", \"Default\", \"Default\", \"Default\", \"Default\", \"Default\", \"Default\", \"Default\", \"Default\", \"Default\", \"Default\", \"Default\", \"Default\", \"Default\", \"Default\", \"Default\", \"Topic1\", \"Topic1\", \"Topic1\", \"Topic1\", \"Topic1\", \"Topic1\", \"Topic1\", \"Topic1\", \"Topic1\", \"Topic1\", \"Topic1\", \"Topic1\", \"Topic1\", \"Topic1\", \"Topic1\", \"Topic1\", \"Topic1\", \"Topic1\", \"Topic1\", \"Topic1\", \"Topic1\", \"Topic1\", \"Topic1\", \"Topic1\", \"Topic1\", \"Topic1\", \"Topic1\", \"Topic1\", \"Topic1\", \"Topic1\", \"Topic1\", \"Topic1\", \"Topic1\", \"Topic1\", \"Topic1\", \"Topic1\", \"Topic1\", \"Topic1\", \"Topic1\", \"Topic1\", \"Topic1\", \"Topic1\", \"Topic1\", \"Topic1\", \"Topic1\", \"Topic1\", \"Topic1\", \"Topic1\", \"Topic1\", \"Topic1\", \"Topic1\", \"Topic1\", \"Topic1\", \"Topic1\", \"Topic1\", \"Topic1\", \"Topic1\", \"Topic1\", \"Topic1\", \"Topic1\", \"Topic1\", \"Topic1\", \"Topic1\", \"Topic1\", \"Topic1\", \"Topic1\", \"Topic1\", \"Topic1\", \"Topic1\", \"Topic1\", \"Topic1\", \"Topic1\", \"Topic1\", \"Topic1\", \"Topic1\", \"Topic1\", \"Topic1\", \"Topic2\", \"Topic2\", \"Topic2\", \"Topic2\", \"Topic2\", \"Topic2\", \"Topic2\", \"Topic2\", \"Topic2\", \"Topic2\", \"Topic2\", \"Topic2\", \"Topic2\", \"Topic2\", \"Topic2\", \"Topic2\", \"Topic2\", \"Topic2\", \"Topic2\", \"Topic2\", \"Topic2\", \"Topic2\", \"Topic2\", \"Topic2\", \"Topic2\", \"Topic2\", \"Topic2\", \"Topic2\", \"Topic2\", \"Topic2\", \"Topic2\", \"Topic2\", \"Topic2\", \"Topic2\", \"Topic2\", \"Topic2\", \"Topic2\", \"Topic2\", \"Topic2\", \"Topic2\", \"Topic2\", \"Topic2\", \"Topic2\", \"Topic2\", \"Topic2\", \"Topic2\", \"Topic2\", \"Topic2\", \"Topic2\", \"Topic2\", \"Topic2\", \"Topic2\", \"Topic2\", \"Topic2\", \"Topic2\", \"Topic2\", \"Topic2\", \"Topic2\", \"Topic2\", \"Topic2\", \"Topic2\", \"Topic2\", \"Topic2\", \"Topic2\", \"Topic2\", \"Topic2\", \"Topic2\", \"Topic2\", \"Topic2\", \"Topic2\", \"Topic2\", \"Topic2\", \"Topic2\", \"Topic2\", \"Topic3\", \"Topic3\", \"Topic3\", \"Topic3\", \"Topic3\", \"Topic3\", \"Topic3\", \"Topic3\", \"Topic3\", \"Topic3\", \"Topic3\", \"Topic3\", \"Topic3\", \"Topic3\", \"Topic3\", \"Topic3\", \"Topic3\", \"Topic3\", \"Topic3\", \"Topic3\", \"Topic3\", \"Topic3\", \"Topic3\", \"Topic3\", \"Topic3\", \"Topic3\", \"Topic3\", \"Topic3\", \"Topic3\", \"Topic3\", \"Topic3\", \"Topic3\", \"Topic3\", \"Topic3\", \"Topic3\", \"Topic3\", \"Topic3\", \"Topic3\", \"Topic3\", \"Topic3\", \"Topic3\", \"Topic3\", \"Topic3\", \"Topic3\", \"Topic3\", \"Topic3\", \"Topic3\", \"Topic3\", \"Topic3\", \"Topic3\", \"Topic3\", \"Topic3\", \"Topic3\", \"Topic3\", \"Topic3\", \"Topic3\", \"Topic3\", \"Topic3\", \"Topic3\", \"Topic3\", \"Topic3\", \"Topic3\", \"Topic3\", \"Topic3\", \"Topic3\", \"Topic3\", \"Topic3\", \"Topic3\", \"Topic3\", \"Topic3\", \"Topic3\", \"Topic3\", \"Topic3\", \"Topic3\", \"Topic3\", \"Topic3\", \"Topic3\", \"Topic3\", \"Topic3\", \"Topic3\", \"Topic3\", \"Topic4\", \"Topic4\", \"Topic4\", \"Topic4\", \"Topic4\", \"Topic4\", \"Topic4\", \"Topic4\", \"Topic4\", \"Topic4\", \"Topic4\", \"Topic4\", \"Topic4\", \"Topic4\", \"Topic4\", \"Topic4\", \"Topic4\", \"Topic4\", \"Topic4\", \"Topic4\", \"Topic4\", \"Topic4\", \"Topic4\", \"Topic4\", \"Topic4\", \"Topic4\", \"Topic4\", \"Topic4\", \"Topic4\", \"Topic4\", \"Topic4\", \"Topic4\", \"Topic4\", \"Topic4\", \"Topic4\", \"Topic4\", \"Topic4\", \"Topic4\", \"Topic4\", \"Topic4\", \"Topic4\", \"Topic4\", \"Topic4\", \"Topic4\", \"Topic4\", \"Topic4\", \"Topic4\", \"Topic4\", \"Topic4\", \"Topic4\", \"Topic4\", \"Topic4\", \"Topic4\", \"Topic4\", \"Topic4\", \"Topic4\", \"Topic4\", \"Topic4\", \"Topic4\", \"Topic4\", \"Topic4\", \"Topic4\", \"Topic4\", \"Topic4\", \"Topic4\", \"Topic4\", \"Topic4\", \"Topic4\", \"Topic4\", \"Topic4\", \"Topic4\", \"Topic4\", \"Topic5\", \"Topic5\", \"Topic5\", \"Topic5\", \"Topic5\", \"Topic5\", \"Topic5\", \"Topic5\", \"Topic5\", \"Topic5\", \"Topic5\", \"Topic5\", \"Topic5\", \"Topic5\", \"Topic5\", \"Topic5\", \"Topic5\", \"Topic5\", \"Topic5\", \"Topic5\", \"Topic5\", \"Topic5\", \"Topic5\", \"Topic5\", \"Topic5\", \"Topic5\", \"Topic5\", \"Topic5\", \"Topic5\", \"Topic5\", \"Topic5\", \"Topic5\", \"Topic5\", \"Topic5\", \"Topic5\", \"Topic5\", \"Topic5\", \"Topic5\", \"Topic5\", \"Topic5\", \"Topic5\", \"Topic5\", \"Topic5\", \"Topic5\", \"Topic5\", \"Topic5\", \"Topic5\", \"Topic5\", \"Topic5\", \"Topic5\", \"Topic5\", \"Topic5\", \"Topic5\", \"Topic5\", \"Topic5\", \"Topic5\", \"Topic5\", \"Topic5\", \"Topic5\", \"Topic5\", \"Topic5\", \"Topic5\", \"Topic5\", \"Topic5\", \"Topic5\", \"Topic5\", \"Topic5\", \"Topic5\", \"Topic5\", \"Topic5\", \"Topic5\", \"Topic5\", \"Topic5\", \"Topic5\", \"Topic5\", \"Topic5\", \"Topic6\", \"Topic6\", \"Topic6\", \"Topic6\", \"Topic6\", \"Topic6\", \"Topic6\", \"Topic6\", \"Topic6\", \"Topic6\", \"Topic6\", \"Topic6\", \"Topic6\", \"Topic6\", \"Topic6\", \"Topic6\", \"Topic6\", \"Topic6\", \"Topic6\", \"Topic6\", \"Topic6\", \"Topic6\", \"Topic6\", \"Topic6\", \"Topic6\", \"Topic6\", \"Topic6\", \"Topic6\", \"Topic6\", \"Topic6\", \"Topic6\", \"Topic6\", \"Topic6\", \"Topic6\", \"Topic6\", \"Topic6\", \"Topic6\", \"Topic6\", \"Topic6\", \"Topic6\", \"Topic6\", \"Topic6\", \"Topic6\", \"Topic6\", \"Topic6\", \"Topic6\", \"Topic6\", \"Topic6\", \"Topic6\", \"Topic6\", \"Topic6\", \"Topic6\", \"Topic6\", \"Topic6\", \"Topic6\", \"Topic6\", \"Topic6\", \"Topic6\", \"Topic6\", \"Topic6\", \"Topic6\", \"Topic6\", \"Topic6\", \"Topic6\", \"Topic6\", \"Topic6\", \"Topic7\", \"Topic7\", \"Topic7\", \"Topic7\", \"Topic7\", \"Topic7\", \"Topic7\", \"Topic7\", \"Topic7\", \"Topic7\", \"Topic7\", \"Topic7\", \"Topic7\", \"Topic7\", \"Topic7\", \"Topic7\", \"Topic7\", \"Topic7\", \"Topic7\", \"Topic7\", \"Topic7\", \"Topic7\", \"Topic7\", \"Topic7\", \"Topic7\", \"Topic7\", \"Topic7\", \"Topic7\", \"Topic7\", \"Topic7\", \"Topic7\", \"Topic7\", \"Topic7\", \"Topic7\", \"Topic7\", \"Topic7\", \"Topic7\", \"Topic7\", \"Topic7\", \"Topic7\", \"Topic7\", \"Topic7\", \"Topic7\", \"Topic7\", \"Topic7\", \"Topic7\", \"Topic7\", \"Topic7\", \"Topic7\", \"Topic7\", \"Topic7\", \"Topic7\", \"Topic7\", \"Topic7\", \"Topic7\", \"Topic7\", \"Topic7\", \"Topic7\", \"Topic7\", \"Topic7\", \"Topic7\", \"Topic7\", \"Topic7\", \"Topic7\", \"Topic7\", \"Topic7\", \"Topic7\", \"Topic7\", \"Topic7\", \"Topic7\", \"Topic7\", \"Topic7\", \"Topic7\", \"Topic7\", \"Topic7\", \"Topic8\", \"Topic8\", \"Topic8\", \"Topic8\", \"Topic8\", \"Topic8\", \"Topic8\", \"Topic8\", \"Topic8\", \"Topic8\", \"Topic8\", \"Topic8\", \"Topic8\", \"Topic8\", \"Topic8\", \"Topic8\", \"Topic8\", \"Topic8\", \"Topic8\", \"Topic8\", \"Topic8\", \"Topic8\", \"Topic8\", \"Topic8\", \"Topic8\", \"Topic8\", \"Topic8\", \"Topic8\", \"Topic8\", \"Topic8\", \"Topic8\", \"Topic8\", \"Topic8\", \"Topic8\", \"Topic8\", \"Topic8\", \"Topic8\", \"Topic8\", \"Topic8\", \"Topic8\", \"Topic8\", \"Topic8\", \"Topic8\", \"Topic8\", \"Topic8\", \"Topic8\", \"Topic8\", \"Topic8\", \"Topic8\", \"Topic8\", \"Topic8\", \"Topic8\", \"Topic8\", \"Topic8\", \"Topic8\", \"Topic8\", \"Topic8\", \"Topic8\", \"Topic8\", \"Topic8\", \"Topic8\", \"Topic8\", \"Topic9\", \"Topic9\", \"Topic9\", \"Topic9\", \"Topic9\", \"Topic9\", \"Topic9\", \"Topic9\", \"Topic9\", \"Topic9\", \"Topic9\", \"Topic9\", \"Topic9\", \"Topic9\", \"Topic9\", \"Topic9\", \"Topic9\", \"Topic9\", \"Topic9\", \"Topic9\", \"Topic9\", \"Topic9\", \"Topic9\", \"Topic9\", \"Topic9\", \"Topic9\", \"Topic9\", \"Topic9\", \"Topic9\", \"Topic9\", \"Topic9\", \"Topic9\", \"Topic9\", \"Topic9\", \"Topic9\", \"Topic9\", \"Topic9\", \"Topic9\", \"Topic9\", \"Topic9\", \"Topic9\", \"Topic9\", \"Topic9\", \"Topic9\", \"Topic9\", \"Topic9\", \"Topic9\", \"Topic9\", \"Topic9\", \"Topic9\", \"Topic9\", \"Topic9\", \"Topic9\", \"Topic9\", \"Topic9\", \"Topic9\", \"Topic9\", \"Topic9\", \"Topic9\", \"Topic9\", \"Topic9\", \"Topic9\", \"Topic9\", \"Topic9\", \"Topic9\", \"Topic9\", \"Topic9\", \"Topic9\", \"Topic9\", \"Topic9\", \"Topic9\", \"Topic9\", \"Topic9\", \"Topic9\", \"Topic9\", \"Topic9\", \"Topic10\", \"Topic10\", \"Topic10\", \"Topic10\", \"Topic10\", \"Topic10\", \"Topic10\", \"Topic10\", \"Topic10\", \"Topic10\", \"Topic10\", \"Topic10\", \"Topic10\", \"Topic10\", \"Topic10\", \"Topic10\", \"Topic10\", \"Topic10\", \"Topic10\", \"Topic10\", \"Topic10\", \"Topic10\", \"Topic10\", \"Topic10\", \"Topic10\", \"Topic10\", \"Topic10\", \"Topic10\", \"Topic10\", \"Topic10\", \"Topic10\", \"Topic10\", \"Topic10\", \"Topic10\", \"Topic10\", \"Topic10\", \"Topic10\", \"Topic10\", \"Topic10\", \"Topic10\", \"Topic10\", \"Topic10\", \"Topic10\", \"Topic10\", \"Topic10\", \"Topic10\", \"Topic10\", \"Topic10\", \"Topic10\", \"Topic10\", \"Topic10\", \"Topic10\", \"Topic10\", \"Topic10\", \"Topic10\", \"Topic10\", \"Topic10\", \"Topic10\", \"Topic10\", \"Topic10\", \"Topic10\", \"Topic10\", \"Topic10\", \"Topic10\", \"Topic10\", \"Topic10\", \"Topic10\", \"Topic10\", \"Topic10\", \"Topic10\", \"Topic11\", \"Topic11\", \"Topic11\", \"Topic11\", \"Topic11\", \"Topic11\", \"Topic11\", \"Topic11\", \"Topic11\", \"Topic11\", \"Topic11\", \"Topic11\", \"Topic11\", \"Topic11\", \"Topic11\", \"Topic11\", \"Topic11\", \"Topic11\", \"Topic11\", \"Topic11\", \"Topic11\", \"Topic11\", \"Topic11\", \"Topic11\", \"Topic11\", \"Topic11\", \"Topic11\", \"Topic11\", \"Topic11\", \"Topic11\", \"Topic11\", \"Topic11\", \"Topic11\", \"Topic11\", \"Topic11\", \"Topic11\", \"Topic11\", \"Topic11\", \"Topic11\", \"Topic11\", \"Topic11\", \"Topic11\", \"Topic11\", \"Topic11\", \"Topic11\", \"Topic11\", \"Topic11\", \"Topic11\", \"Topic11\", \"Topic11\", \"Topic11\", \"Topic11\", \"Topic11\", \"Topic11\", \"Topic11\", \"Topic11\", \"Topic11\", \"Topic11\", \"Topic11\", \"Topic11\", \"Topic11\", \"Topic11\", \"Topic11\", \"Topic11\", \"Topic11\", \"Topic12\", \"Topic12\", \"Topic12\", \"Topic12\", \"Topic12\", \"Topic12\", \"Topic12\", \"Topic12\", \"Topic12\", \"Topic12\", \"Topic12\", \"Topic12\", \"Topic12\", \"Topic12\", \"Topic12\", \"Topic12\", \"Topic12\", \"Topic12\", \"Topic12\", \"Topic12\", \"Topic12\", \"Topic12\", \"Topic12\", \"Topic12\", \"Topic12\", \"Topic12\", \"Topic12\", \"Topic12\", \"Topic12\", \"Topic12\", \"Topic12\", \"Topic12\", \"Topic12\", \"Topic12\", \"Topic12\", \"Topic12\", \"Topic12\", \"Topic12\", \"Topic12\", \"Topic12\", \"Topic12\", \"Topic12\", \"Topic12\", \"Topic12\", \"Topic12\", \"Topic12\", \"Topic12\", \"Topic12\", \"Topic12\", \"Topic12\", \"Topic12\", \"Topic12\", \"Topic12\", \"Topic12\", \"Topic12\", \"Topic12\", \"Topic12\", \"Topic12\", \"Topic12\", \"Topic12\", \"Topic12\", \"Topic12\", \"Topic12\", \"Topic12\", \"Topic12\", \"Topic12\", \"Topic13\", \"Topic13\", \"Topic13\", \"Topic13\", \"Topic13\", \"Topic13\", \"Topic13\", \"Topic13\", \"Topic13\", \"Topic13\", \"Topic13\", \"Topic13\", \"Topic13\", \"Topic13\", \"Topic13\", \"Topic13\", \"Topic13\", \"Topic13\", \"Topic13\", \"Topic13\", \"Topic13\", \"Topic13\", \"Topic13\", \"Topic13\", \"Topic13\", \"Topic13\", \"Topic13\", \"Topic13\", \"Topic13\", \"Topic13\", \"Topic13\", \"Topic13\", \"Topic13\", \"Topic13\", \"Topic13\", \"Topic13\", \"Topic13\", \"Topic13\", \"Topic13\", \"Topic13\", \"Topic13\", \"Topic13\", \"Topic13\", \"Topic13\", \"Topic13\", \"Topic13\", \"Topic13\", \"Topic13\", \"Topic13\", \"Topic13\", \"Topic13\", \"Topic13\", \"Topic13\", \"Topic13\", \"Topic13\", \"Topic13\", \"Topic13\", \"Topic13\", \"Topic13\", \"Topic13\", \"Topic13\", \"Topic13\", \"Topic14\", \"Topic14\", \"Topic14\", \"Topic14\", \"Topic14\", \"Topic14\", \"Topic14\", \"Topic14\", \"Topic14\", \"Topic14\", \"Topic14\", \"Topic14\", \"Topic14\", \"Topic14\", \"Topic14\", \"Topic14\", \"Topic14\", \"Topic14\", \"Topic14\", \"Topic14\", \"Topic14\", \"Topic14\", \"Topic14\", \"Topic14\", \"Topic14\", \"Topic14\", \"Topic14\", \"Topic14\", \"Topic14\", \"Topic14\", \"Topic14\", \"Topic14\", \"Topic14\", \"Topic14\", \"Topic14\", \"Topic14\", \"Topic14\", \"Topic14\", \"Topic14\", \"Topic14\", \"Topic14\", \"Topic14\", \"Topic14\", \"Topic14\", \"Topic14\", \"Topic14\", \"Topic14\", \"Topic14\", \"Topic14\", \"Topic14\", \"Topic14\", \"Topic14\", \"Topic14\", \"Topic14\", \"Topic14\", \"Topic14\", \"Topic14\", \"Topic14\", \"Topic14\", \"Topic14\", \"Topic15\", \"Topic15\", \"Topic15\", \"Topic15\", \"Topic15\", \"Topic15\", \"Topic15\", \"Topic15\", \"Topic15\", \"Topic15\", \"Topic15\", \"Topic15\", \"Topic15\", \"Topic15\", \"Topic15\", \"Topic15\", \"Topic15\", \"Topic15\", \"Topic15\", \"Topic15\", \"Topic15\", \"Topic15\", \"Topic15\", \"Topic15\", \"Topic15\", \"Topic15\", \"Topic15\", \"Topic15\", \"Topic15\", \"Topic15\", \"Topic15\", \"Topic15\", \"Topic15\", \"Topic15\", \"Topic15\", \"Topic15\", \"Topic15\", \"Topic15\", \"Topic15\", \"Topic15\", \"Topic15\", \"Topic15\", \"Topic15\", \"Topic15\", \"Topic15\", \"Topic15\", \"Topic15\", \"Topic15\", \"Topic15\", \"Topic15\", \"Topic15\", \"Topic15\", \"Topic15\", \"Topic15\", \"Topic15\", \"Topic15\", \"Topic15\", \"Topic16\", \"Topic16\", \"Topic16\", \"Topic16\", \"Topic16\", \"Topic16\", \"Topic16\", \"Topic16\", \"Topic16\", \"Topic16\", \"Topic16\", \"Topic16\", \"Topic16\", \"Topic16\", \"Topic16\", \"Topic16\", \"Topic16\", \"Topic16\", \"Topic16\", \"Topic16\", \"Topic16\", \"Topic16\", \"Topic16\", \"Topic16\", \"Topic16\", \"Topic16\", \"Topic16\", \"Topic16\", \"Topic16\", \"Topic16\", \"Topic16\", \"Topic16\", \"Topic16\", \"Topic16\", \"Topic16\", \"Topic16\", \"Topic16\", \"Topic16\", \"Topic16\", \"Topic16\", \"Topic16\", \"Topic16\", \"Topic16\", \"Topic16\", \"Topic16\", \"Topic16\", \"Topic16\", \"Topic16\", \"Topic16\", \"Topic16\", \"Topic17\", \"Topic17\", \"Topic17\", \"Topic17\", \"Topic17\", \"Topic17\", \"Topic17\", \"Topic17\", \"Topic17\", \"Topic17\", \"Topic17\", \"Topic17\", \"Topic17\", \"Topic17\", \"Topic17\", \"Topic17\", \"Topic17\", \"Topic17\", \"Topic17\", \"Topic17\", \"Topic17\", \"Topic17\", \"Topic17\", \"Topic17\", \"Topic17\", \"Topic17\", \"Topic17\", \"Topic17\", \"Topic17\", \"Topic17\", \"Topic17\", \"Topic17\", \"Topic17\", \"Topic17\", \"Topic17\", \"Topic17\", \"Topic17\", \"Topic17\", \"Topic17\", \"Topic17\", \"Topic17\", \"Topic17\", \"Topic17\", \"Topic17\", \"Topic17\", \"Topic17\", \"Topic18\", \"Topic18\", \"Topic18\", \"Topic18\", \"Topic18\", \"Topic18\", \"Topic18\", \"Topic18\", \"Topic18\", \"Topic18\", \"Topic18\", \"Topic18\", \"Topic18\", \"Topic18\", \"Topic18\", \"Topic18\", \"Topic18\", \"Topic18\", \"Topic18\", \"Topic18\", \"Topic18\", \"Topic18\", \"Topic18\", \"Topic18\", \"Topic18\", \"Topic18\", \"Topic18\", \"Topic18\", \"Topic18\", \"Topic18\", \"Topic18\", \"Topic18\", \"Topic18\", \"Topic18\", \"Topic18\", \"Topic18\", \"Topic18\", \"Topic18\", \"Topic18\", \"Topic18\", \"Topic18\", \"Topic18\", \"Topic18\", \"Topic18\", \"Topic18\", \"Topic18\", \"Topic18\", \"Topic18\", \"Topic18\", \"Topic19\", \"Topic19\", \"Topic19\", \"Topic19\", \"Topic19\", \"Topic19\", \"Topic19\", \"Topic19\", \"Topic19\", \"Topic19\", \"Topic19\", \"Topic19\", \"Topic19\", \"Topic19\", \"Topic19\", \"Topic19\", \"Topic19\", \"Topic19\", \"Topic19\", \"Topic19\", \"Topic19\", \"Topic19\", \"Topic19\", \"Topic19\", \"Topic19\", \"Topic19\", \"Topic19\", \"Topic19\", \"Topic19\", \"Topic19\", \"Topic19\", \"Topic19\", \"Topic19\", \"Topic19\", \"Topic19\", \"Topic19\", \"Topic19\", \"Topic19\", \"Topic19\", \"Topic19\", \"Topic19\", \"Topic19\", \"Topic19\", \"Topic20\", \"Topic20\", \"Topic20\", \"Topic20\", \"Topic20\", \"Topic20\", \"Topic20\", \"Topic20\", \"Topic20\", \"Topic20\", \"Topic20\", \"Topic20\", \"Topic20\", \"Topic20\", \"Topic20\", \"Topic20\", \"Topic20\", \"Topic20\", \"Topic20\", \"Topic20\", \"Topic20\", \"Topic20\", \"Topic20\", \"Topic20\", \"Topic20\", \"Topic20\", \"Topic20\", \"Topic20\", \"Topic20\", \"Topic20\", \"Topic20\", \"Topic20\", \"Topic20\", \"Topic20\", \"Topic20\", \"Topic20\", \"Topic20\", \"Topic20\", \"Topic20\", \"Topic20\", \"Topic20\", \"Topic20\", \"Topic20\", \"Topic20\", \"Topic20\", \"Topic20\", \"Topic20\"], \"logprob\": [30.0, 29.0, 28.0, 27.0, 26.0, 25.0, 24.0, 23.0, 22.0, 21.0, 20.0, 19.0, 18.0, 17.0, 16.0, 15.0, 14.0, 13.0, 12.0, 11.0, 10.0, 9.0, 8.0, 7.0, 6.0, 5.0, 4.0, 3.0, 2.0, 1.0, -5.991000175476074, -6.137899875640869, -6.160699844360352, -6.458399772644043, -6.590000152587891, -6.628799915313721, -6.660099983215332, -6.763299942016602, -6.879300117492676, -7.0055999755859375, -7.036399841308594, -7.270699977874756, -7.25439977645874, -6.7399001121521, -7.406400203704834, -7.455999851226807, -7.500800132751465, -7.509699821472168, -7.482800006866455, -7.553800106048584, -7.679699897766113, -7.689899921417236, -7.7108001708984375, -7.7154998779296875, -7.733799934387207, -7.742800235748291, -7.763199806213379, -7.765900135040283, -7.778800010681152, -7.8043999671936035, -6.254199981689453, -5.51669979095459, -6.710299968719482, -7.000800132751465, -5.828700065612793, -6.426700115203857, -7.015699863433838, -7.538599967956543, -5.945000171661377, -6.075200080871582, -6.907400131225586, -5.040299892425537, -6.868899822235107, -6.260799884796143, -6.398200035095215, -6.575200080871582, -6.156599998474121, -6.720399856567383, -4.293900012969971, -5.523499965667725, -4.1859002113342285, -6.415599822998047, -6.6442999839782715, -5.204899787902832, -6.407599925994873, -5.301799774169922, -5.8678998947143555, -5.327600002288818, -5.214399814605713, -5.379700183868408, -5.3856000900268555, -5.462200164794922, -6.007800102233887, -5.822500228881836, -5.2718000411987305, -5.625400066375732, -6.057000160217285, -5.945899963378906, -5.743500232696533, -5.970099925994873, -5.746399879455566, -5.96999979019165, -5.854000091552734, -5.964799880981445, -5.952099800109863, -6.027100086212158, -6.049600124359131, -5.394000053405762, -5.895999908447266, -6.027500152587891, -6.089600086212158, -6.148600101470947, -6.19950008392334, -6.318999767303467, -6.681700229644775, -6.686399936676025, -4.826499938964844, -6.871500015258789, -6.981299877166748, -7.038599967956543, -7.086999893188477, -7.100900173187256, -7.114099979400635, -7.11460018157959, -7.1508002281188965, -7.155700206756592, -7.157800197601318, -7.1880998611450195, -7.188300132751465, -7.253499984741211, -7.2581000328063965, -7.29040002822876, -7.291600227355957, -7.309700012207031, -7.318299770355225, -7.328199863433838, -7.363699913024902, -5.284900188446045, -5.582099914550781, -6.145999908447266, -6.294000148773193, -6.878399848937988, -6.456999778747559, -5.808000087738037, -5.236000061035156, -6.053699970245361, -6.415800094604492, -5.752699851989746, -6.047100067138672, -6.553500175476074, -6.779799938201904, -5.568600177764893, -6.301599979400635, -6.070099830627441, -6.05810022354126, -5.705900192260742, -6.370100021362305, -6.070199966430664, -5.5218000411987305, -4.849100112915039, -5.878699779510498, -6.070899963378906, -5.041500091552734, -5.723999977111816, -4.861700057983398, -5.330399990081787, -5.585700035095215, -5.03879976272583, -5.411600112915039, -5.40500020980835, -5.2459001541137695, -5.54040002822876, -5.072199821472168, -5.47130012512207, -5.839900016784668, -5.5843000411987305, -5.579100131988525, -5.689300060272217, -5.851799964904785, -5.747000217437744, -5.851200103759766, -6.418799877166748, -6.617599964141846, -6.759699821472168, -6.763700008392334, -6.942500114440918, -6.990799903869629, -7.085700035095215, -7.112199783325195, -6.2357001304626465, -7.2017998695373535, -7.243100166320801, -7.252900123596191, -7.272600173950195, -6.047100067138672, -7.466400146484375, -7.480000019073486, -7.485499858856201, -7.512599945068359, -7.521299839019775, -7.526400089263916, -7.5370001792907715, -6.3780999183654785, -7.63040018081665, -7.666600227355957, -7.713799953460693, -7.720300197601318, -7.760200023651123, -7.770999908447266, -7.805300235748291, -7.848999977111816, -6.843500137329102, -6.848999977111816, -5.235400199890137, -5.462699890136719, -6.820499897003174, -7.135900020599365, -6.932000160217285, -5.606100082397461, -5.398200035095215, -5.936600208282471, -6.817800045013428, -4.535999774932861, -6.007299900054932, -6.088399887084961, -5.544000148773193, -6.454699993133545, -6.020500183105469, -4.945799827575684, -6.712600231170654, -4.942599773406982, -5.548600196838379, -4.428400039672852, -5.600399971008301, -5.732999801635742, -5.718400001525879, -4.6753997802734375, -5.732900142669678, -5.698800086975098, -5.859899997711182, -6.1367998123168945, -4.601600170135498, -4.6350998878479, -5.452899932861328, -5.206600189208984, -5.731800079345703, -5.343699932098389, -5.51200008392334, -5.012599945068359, -5.503900051116943, -4.9496002197265625, -5.332799911499023, -4.665299892425537, -5.109799861907959, -5.311299800872803, -5.245800018310547, -5.428599834442139, -5.460700035095215, -5.363699913024902, -5.547800064086914, -5.367300033569336, -5.600100040435791, -4.696199893951416, -5.249199867248535, -5.3867998123168945, -5.4710001945495605, -5.576000213623047, -5.578499794006348, -6.034299850463867, -6.156700134277344, -6.263700008392334, -6.314000129699707, -6.360599994659424, -6.416500091552734, -6.461299896240234, -6.616700172424316, -6.617400169372559, -6.657599925994873, -6.7494001388549805, -6.826399803161621, -6.472799777984619, -6.968599796295166, -6.972700119018555, -7.063899993896484, -7.107699871063232, -7.184500217437744, -7.189899921417236, -7.1975998878479, -7.229300022125244, -7.246200084686279, -7.248600006103516, -6.220900058746338, -5.173600196838379, -6.591000080108643, -5.538899898529053, -6.252999782562256, -5.594900131225586, -6.908400058746338, -6.360799789428711, -6.640500068664551, -5.9842000007629395, -6.24970006942749, -6.245800018310547, -6.13100004196167, -5.792300224304199, -4.897900104522705, -6.2291998863220215, -5.386899948120117, -5.276800155639648, -6.209099769592285, -5.9207000732421875, -5.7281999588012695, -5.312300205230713, -5.6483001708984375, -4.916600227355957, -4.628399848937988, -4.829699993133545, -5.95419979095459, -5.411799907684326, -5.201700210571289, -5.4558000564575195, -5.523099899291992, -5.327099800109863, -5.924699783325195, -5.747499942779541, -5.292699813842773, -5.301599979400635, -5.65749979019165, -5.702400207519531, -5.639800071716309, -5.582799911499023, -5.554699897766113, -5.629199981689453, -5.684800148010254, -5.083499908447266, -5.789899826049805, -6.298500061035156, -6.375199794769287, -6.483699798583984, -6.570199966430664, -6.711100101470947, -6.764900207519531, -6.843200206756592, -6.776199817657471, -7.065700054168701, -7.106599807739258, -7.12060022354126, -7.211699962615967, -7.327899932861328, -7.362400054931641, -7.399700164794922, -7.457699775695801, -7.533100128173828, -7.535799980163574, -7.573999881744385, -7.577400207519531, -5.699100017547607, -7.604899883270264, -7.609099864959717, -7.634200096130371, -7.638700008392334, -7.643199920654297, -7.665299892425537, -7.682400226593018, -6.251299858093262, -5.48829984664917, -5.25600004196167, -6.296199798583984, -7.067500114440918, -5.6869001388549805, -6.809000015258789, -6.3403000831604, -6.62939977645874, -6.618599891662598, -5.389699935913086, -5.887599945068359, -6.612400054931641, -4.190999984741211, -5.5055999755859375, -5.4847002029418945, -6.1697998046875, -5.6596999168396, -6.281400203704834, -5.373600006103516, -5.921000003814697, -5.276700019836426, -5.744800090789795, -5.08620023727417, -5.127600193023682, -4.535600185394287, -6.212200164794922, -4.7881999015808105, -4.529900074005127, -4.931099891662598, -5.22629976272583, -4.984000205993652, -5.623499870300293, -5.2154998779296875, -4.9008002281188965, -5.1905999183654785, -5.1230998039245605, -5.533999919891357, -5.517000198364258, -4.728300094604492, -4.968699932098389, -5.345399856567383, -5.444900035858154, -5.397299766540527, -5.252600193023682, -5.431300163269043, -5.473100185394287, -5.676300048828125, -5.732500076293945, -5.998600006103516, -6.091400146484375, -6.128499984741211, -6.316100120544434, -6.327899932861328, -6.3744001388549805, -6.383999824523926, -6.454100131988525, -6.643499851226807, -6.648600101470947, -6.691100120544434, -6.731500148773193, -6.737800121307373, -6.783400058746338, -6.785600185394287, -6.823200225830078, -6.8277997970581055, -6.883999824523926, -6.895400047302246, -6.922399997711182, -5.939199924468994, -6.9481000900268555, -6.953999996185303, -6.972400188446045, -7.062399864196777, -7.065700054168701, -7.131400108337402, -5.822999954223633, -5.106400012969971, -5.866799831390381, -4.896299839019775, -6.64769983291626, -6.2972002029418945, -6.203100204467773, -5.788099765777588, -5.906499862670898, -6.383500099182129, -5.193600177764893, -5.484799861907959, -5.145500183105469, -5.939799785614014, -5.096799850463867, -6.201000213623047, -5.855400085449219, -5.847400188446045, -5.918700218200684, -5.929500102996826, -5.54580020904541, -5.739500045776367, -5.875400066375732, -5.3277997970581055, -5.378300189971924, -5.882199764251709, -5.701000213623047, -5.7916998863220215, -5.73360013961792, -5.9695000648498535, -5.9029998779296875, -5.769899845123291, -5.858399868011475, -5.878399848937988, -5.918900012969971, -5.917200088500977, -4.187099933624268, -5.901599884033203, -6.252299785614014, -6.3053998947143555, -6.472300052642822, -6.496699810028076, -6.524899959564209, -6.534299850463867, -6.587399959564209, -6.793799877166748, -5.843299865722656, -6.8470001220703125, -6.8480000495910645, -6.876200199127197, -6.893499851226807, -6.961100101470947, -6.967100143432617, -7.020400047302246, -7.024400234222412, -5.150000095367432, -7.052199840545654, -7.084099769592285, -7.091300010681152, -7.122300148010254, -7.13100004196167, -7.133699893951416, -7.162600040435791, -7.189599990844727, -7.195400238037109, -7.19890022277832, -4.866499900817871, -6.217800140380859, -5.6971001625061035, -6.9222002029418945, -5.741399765014648, -5.559800148010254, -6.549900054931641, -5.237800121307373, -6.115099906921387, -6.9293999671936035, -6.281300067901611, -6.738399982452393, -6.05210018157959, -5.916900157928467, -4.999199867248535, -5.775100231170654, -5.97730016708374, -6.507299900054932, -6.4375, -5.05810022354126, -5.307199954986572, -5.717400074005127, -5.505799770355225, -5.450200080871582, -5.636600017547607, -5.466100215911865, -5.920000076293945, -5.809000015258789, -5.32289981842041, -5.346399784088135, -5.5605998039245605, -5.7571001052856445, -5.432000160217285, -5.154699802398682, -5.491099834442139, -5.634399890899658, -5.169899940490723, -5.28849983215332, -5.337800025939941, -5.43179988861084, -5.6504998207092285, -5.410399913787842, -5.554699897766113, -5.636000156402588, -5.718400001525879, -4.531099796295166, -4.6828999519348145, -4.716700077056885, -5.001399993896484, -5.019199848175049, -5.6265997886657715, -5.7505998611450195, -5.433499813079834, -5.9369001388549805, -5.9405999183654785, -5.8734002113342285, -6.002500057220459, -6.0258002281188965, -6.063300132751465, -6.064899921417236, -6.064799785614014, -6.08489990234375, -6.095300197601318, -6.146699905395508, -6.180300235748291, -6.203400135040283, -6.204999923706055, -6.236599922180176, -6.2667999267578125, -3.886199951171875, -6.302199840545654, -6.3028998374938965, -6.41949987411499, -6.42110013961792, -6.424600124359131, -4.718100070953369, -4.278500080108643, -4.007299900054932, -5.71150016784668, -5.351600170135498, -5.277900218963623, -5.860599994659424, -4.345200061798096, -5.750800132751465, -5.765900135040283, -5.456600189208984, -5.303999900817871, -5.443900108337402, -5.519599914550781, -5.940499782562256, -5.8755998611450195, -4.2393999099731445, -5.719600200653076, -5.494800090789795, -5.513299942016602, -4.817299842834473, -5.744500160217285, -4.916299819946289, -5.063799858093262, -5.529200077056885, -5.32889986038208, -5.293900012969971, -5.591400146484375, -5.512400150299072, -5.390999794006348, -5.39769983291626, -5.522900104522705, -6.11359977722168, -6.1915998458862305, -6.238100051879883, -6.355199813842773, -6.42549991607666, -6.5954999923706055, -6.6504998207092285, -6.714099884033203, -6.800000190734863, -6.8531999588012695, -6.850200176239014, -6.887199878692627, -6.941999912261963, -6.970600128173828, -6.9903998374938965, -7.017399787902832, -4.970900058746338, -7.071499824523926, -7.081299781799316, -7.111100196838379, -7.112599849700928, -7.114099979400635, -7.156300067901611, -7.1697001457214355, -7.191199779510498, -7.2368998527526855, -7.248199939727783, -7.256999969482422, -7.273099899291992, -7.293700218200684, -6.290800094604492, -6.799099922180176, -6.061399936676025, -6.485799789428711, -5.704400062561035, -4.787700176239014, -6.619800090789795, -6.472799777984619, -5.922500133514404, -5.7555999755859375, -6.871099948883057, -6.1905999183654785, -6.175899982452393, -6.361999988555908, -4.939700126647949, -6.333000183105469, -6.526199817657471, -5.912199974060059, -5.724100112915039, -5.825799942016602, -5.166399955749512, -4.776800155639648, -5.787499904632568, -5.825300216674805, -5.892000198364258, -5.917399883270264, -5.4415998458862305, -5.592599868774414, -5.747700214385986, -5.9456000328063965, -5.409599781036377, -5.471499919891357, -5.25, -5.573299884796143, -5.668000221252441, -5.610499858856201, -5.720200061798096, -5.550600051879883, -5.502200126647949, -5.463200092315674, -5.59499979019165, -5.753799915313721, -5.798999786376953, -5.8242998123168945, -5.831600189208984, -5.8354997634887695, -4.857699871063232, -6.3703999519348145, -6.452199935913086, -6.448200225830078, -6.593999862670898, -6.655600070953369, -6.82859992980957, -6.936399936676025, -7.018700122833252, -7.062900066375732, -5.3302001953125, -5.321599960327148, -7.3171000480651855, -7.319200038909912, -7.348100185394287, -7.364200115203857, -6.713399887084961, -7.441299915313721, -7.450099945068359, -7.466300010681152, -7.520699977874756, -4.77209997177124, -7.552499771118164, -6.173299789428711, -7.62939977645874, -5.24429988861084, -7.650700092315674, -7.661300182342529, -7.699699878692627, -7.706200122833252, -4.716400146484375, -3.8882999420166016, -3.512399911880493, -5.4430999755859375, -6.480000019073486, -3.5613999366760254, -6.382400035858154, -6.862199783325195, -5.398499965667725, -5.553400039672852, -5.595799922943115, -6.400000095367432, -3.8155999183654785, -6.062900066375732, -3.8196001052856445, -4.953100204467773, -4.967899799346924, -4.736000061035156, -5.074999809265137, -4.265600204467773, -5.015699863433838, -5.823599815368652, -5.404300212860107, -4.938000202178955, -4.8495001792907715, -5.3531999588012695, -4.518899917602539, -3.9337000846862793, -4.903600215911865, -4.618800163269043, -4.013899803161621, -4.70419979095459, -4.7778000831604, -4.800300121307373, -4.5192999839782715, -4.719099998474121, -5.087399959564209, -5.06879997253418, -5.10830020904541, -5.059899806976318, -4.9268999099731445, -4.942999839782715, -5.190100193023682, -5.257299900054932, -3.8703999519348145, -5.700099945068359, -6.008200168609619, -6.390999794006348, -6.47189998626709, -6.554599761962891, -6.731900215148926, -6.8246002197265625, -6.853400230407715, -6.864099979400635, -6.875800132751465, -6.950399875640869, -6.971499919891357, -6.976900100708008, -7.0096001625061035, -7.049300193786621, -7.061299800872803, -5.642000198364258, -7.135900020599365, -7.19980001449585, -7.2245001792907715, -7.242499828338623, -7.259500026702881, -7.264900207519531, -7.272600173950195, -7.364699840545654, -3.736799955368042, -5.082900047302246, -6.3420000076293945, -5.40880012512207, -5.006499767303467, -3.094399929046631, -5.428800106048584, -5.323500156402588, -4.497799873352051, -5.916800022125244, -5.966899871826172, -6.390600204467773, -5.707799911499023, -5.011000156402588, -4.624000072479248, -4.825900077819824, -5.176199913024902, -6.1631999015808105, -4.682700157165527, -3.9930999279022217, -5.081399917602539, -4.882299900054932, -5.279099941253662, -4.481200218200684, -4.565100193023682, -5.132699966430664, -4.784599781036377, -4.9475998878479, -4.776800155639648, -4.81689977645874, -5.21150016784668, -5.042900085449219, -5.060100078582764, -5.240699768066406, -5.227399826049805, -5.168900012969971, -5.896200180053711, -5.732500076293945, -6.061600208282471, -6.075200080871582, -6.250699996948242, -6.265999794006348, -6.318399906158447, -6.344900131225586, -6.373300075531006, -6.374599933624268, -6.376500129699707, -6.4243998527526855, -6.454999923706055, -6.470399856567383, -6.481500148773193, -6.5131001472473145, -6.523200035095215, -6.526500225067139, -6.5345001220703125, -6.593999862670898, -6.593999862670898, -6.649799823760986, -6.684500217437744, -6.724599838256836, -6.724800109863281, -6.736000061035156, -6.764800071716309, -6.775899887084961, -6.816299915313721, -6.606200218200684, -5.4542999267578125, -6.003900051116943, -6.412099838256836, -6.280200004577637, -6.309199810028076, -5.206500053405762, -6.317699909210205, -6.180699825286865, -4.957699775695801, -5.5493998527526855, -5.518199920654297, -5.314700126647949, -5.978600025177002, -5.719600200653076, -5.284900188446045, -5.5553998947143555, -6.202199935913086, -5.472799777984619, -5.928299903869629, -5.4475998878479, -6.082600116729736, -5.710599899291992, -5.800899982452393, -5.859499931335449, -6.211900234222412, -5.934199810028076, -5.850900173187256, -5.831099987030029, -6.020599842071533, -5.793300151824951, -5.822999954223633, -5.945700168609619, -5.933499813079834, -6.0416998863220215, -6.056399822235107, -4.024199962615967, -3.7379000186920166, -4.735799789428711, -5.008800029754639, -5.182400226593018, -5.391200065612793, -5.400400161743164, -5.428100109100342, -5.476600170135498, -5.625899791717529, -5.782299995422363, -5.959199905395508, -5.96560001373291, -5.9756999015808105, -6.039899826049805, -6.208700180053711, -6.242800235748291, -6.301700115203857, -6.308800220489502, -6.322400093078613, -6.385000228881836, -6.392899990081787, -6.39709997177124, -6.402599811553955, -6.441299915313721, -6.45550012588501, -6.460999965667725, -6.472599983215332, -6.478300094604492, -6.496799945831299, -3.949899911880493, -5.863800048828125, -5.086900234222412, -4.912099838256836, -5.8755998611450195, -5.805200099945068, -5.830999851226807, -5.94789981842041, -4.811500072479248, -3.922600030899048, -4.668000221252441, -5.731299877166748, -5.108399868011475, -5.462699890136719, -4.993800163269043, -4.5696001052856445, -4.633399963378906, -4.928100109100342, -4.80709981918335, -5.272600173950195, -5.40339994430542, -5.542500019073486, -5.322199821472168, -4.711100101470947, -5.249300003051758, -5.438300132751465, -5.320300102233887, -5.443900108337402, -5.165800094604492, -5.28000020980835, -5.346499919891357, -5.329999923706055, -4.148799896240234, -4.628399848937988, -5.1350998878479, -5.649799823760986, -5.702499866485596, -5.792900085449219, -5.815700054168701, -5.954999923706055, -6.012499809265137, -6.020899772644043, -6.119900226593018, -6.133600234985352, -6.18120002746582, -6.186999797821045, -6.23859977722168, -6.2393999099731445, -6.247000217437744, -6.2642998695373535, -6.26669979095459, -6.289100170135498, -6.290299892425537, -6.298099994659424, -6.313199996948242, -6.328999996185303, -6.329699993133545, -6.34119987487793, -5.09630012512207, -6.38539981842041, -6.399199962615967, -6.405200004577637, -4.8069000244140625, -6.013700008392334, -5.742800235748291, -6.22629976272583, -5.576000213623047, -5.579400062561035, -5.638899803161621, -6.0467000007629395, -4.72790002822876, -6.168399810791016, -5.585100173950195, -5.956099987030029, -5.207799911499023, -4.423799991607666, -5.515999794006348, -5.308499813079834, -5.435200214385986, -5.770199775695801, -5.235899925231934, -5.680799961090088, -5.090700149536133, -5.611100196838379, -5.596199989318848, -5.631499767303467, -5.493000030517578, -5.649199962615967, -5.4653000831604, -5.298399925231934, -5.464700222015381, -5.622600078582764, -4.486700057983398, -5.185299873352051, -5.348400115966797, -5.363900184631348, -5.485400199890137, -5.596099853515625, -5.736000061035156, -5.7530999183654785, -5.813799858093262, -5.915500164031982, -5.922100067138672, -5.925000190734863, -5.9344000816345215, -5.992199897766113, -6.002799987792969, -6.039599895477295, -6.073200225830078, -6.137700080871582, -6.17609977722168, -6.19379997253418, -6.2104997634887695, -6.236299991607666, -5.767600059509277, -6.343900203704834, -6.353700160980225, -6.364500045776367, -6.370699882507324, -6.373899936676025, -6.386000156402588, -6.391499996185303, -5.25439977645874, -4.732600212097168, -4.091800212860107, -6.002200126647949, -5.538700103759766, -5.849599838256836, -4.91949987411499, -5.825799942016602, -5.6956000328063965, -5.55709981918335, -5.471799850463867, -4.451700210571289, -4.722099781036377, -4.400199890136719, -5.620800018310547, -5.2418999671936035, -5.640399932861328, -5.2006001472473145, -5.398399829864502, -5.565100193023682, -5.742599964141846, -5.218800067901611, -5.388500213623047, -5.500199794769287, -5.314199924468994, -5.67710018157959, -5.7108001708984375, -3.331399917602539, -3.7934000492095947, -4.090199947357178, -4.350800037384033, -4.791900157928467, -4.860099792480469, -4.937600135803223, -5.129899978637695, -5.23360013961792, -5.237299919128418, -5.304299831390381, -5.332699775695801, -5.371799945831299, -5.352399826049805, -5.582200050354004, -5.702400207519531, -5.77209997177124, -5.793600082397461, -5.927000045776367, -6.038099765777588, -6.057400226593018, -6.063499927520752, -6.120500087738037, -6.223599910736084, -6.283699989318848, -6.307799816131592, -6.319699764251709, -6.389699935913086, -6.4390997886657715, -6.441199779510498, -3.271399974822998, -4.331099987030029, -3.863300085067749, -4.340000152587891, -4.4745001792907715, -4.282700061798096, -5.081099987030029, -3.5692999362945557, -4.020599842071533, -5.163099765777588, -5.447999954223633, -3.919300079345703, -4.828000068664551, -4.4019999504089355, -5.432000160217285, -4.973499774932861, -5.062300205230713, -5.3618998527526855, -5.029699802398682, -5.320300102233887, -3.9007999897003174, -4.071599960327148, -4.2052001953125, -4.246200084686279, -4.342299938201904, -4.359099864959717, -4.602099895477295, -4.735499858856201, -4.771100044250488, -4.944200038909912, -4.995500087738037, -5.05210018157959, -5.089799880981445, -5.090000152587891, -5.184700012207031, -5.274600028991699, -5.330999851226807, -5.490799903869629, -5.510799884796143, -5.560500144958496, -5.588600158691406, -5.606100082397461, -5.606299877166748, -5.607399940490723, -5.703100204467773, -5.725200176239014, -5.744699954986572, -5.782199859619141, -6.104000091552734, -6.191299915313721, -5.29580020904541, -5.3165998458862305, -2.394200086593628, -4.421599864959717, -3.4361000061035156, -5.287300109863281, -4.6620001792907715, -5.179800033569336, -4.378699779510498, -5.158199787139893, -5.154900074005127, -4.039599895477295, -4.434000015258789, -4.934500217437744, -4.829599857330322, -4.934700012207031, -3.9870998859405518, -4.691299915313721, -5.154399871826172, -5.2804999351501465, -5.307499885559082, -5.326900005340576, -5.452899932861328, -5.478600025177002, -5.4953999519348145, -5.523600101470947, -5.61329984664917, -5.716899871826172, -5.7895002365112305, -5.831500053405762, -5.865699768066406, -5.89739990234375, -5.935100078582764, -6.003799915313721, -6.03000020980835, -6.075399875640869, -6.090199947357178, -6.095200061798096, -6.112299919128418, -6.1346001625061035, -6.149400234222412, -6.178100109100342, -6.223899841308594, -6.232600212097168, -6.247799873352051, -6.258800029754639, -5.380300045013428, -4.1020002365112305, -5.533100128173828, -4.832900047302246, -5.497900009155273, -5.36269998550415, -5.094900131225586, -5.266200065612793, -5.720600128173828, -4.288099765777588, -5.744999885559082, -5.631800174713135, -5.504799842834473, -5.372399806976318, -5.507699966430664, -5.608099937438965, -5.604300022125244, -5.581399917602539, -5.741799831390381, -4.0152997970581055, -4.464399814605713, -4.56820011138916, -4.63070011138916, -4.633200168609619, -4.884500026702881, -4.981500148773193, -5.004799842834473, -5.263700008392334, -5.324399948120117, -5.326499938964844, -5.417099952697754, -5.443999767303467, -5.484799861907959, -5.555300235748291, -5.560400009155273, -5.589000225067139, -5.687300205230713, -5.6956000328063965, -5.793600082397461, -5.950900077819824, -5.974100112915039, -5.977499961853027, -5.997700214385986, -6.006400108337402, -6.047100067138672, -6.054999828338623, -6.074699878692627, -6.077000141143799, -6.088799953460693, -4.85699987411499, -5.242099761962891, -5.815800189971924, -5.342299938201904, -5.67080020904541, -5.537199974060059, -5.00600004196167, -5.237199783325195, -5.602799892425537, -5.299200057983398, -5.519499778747559, -5.545300006866455, -5.645199775695801, -4.835899829864502, -4.922299861907959, -5.122900009155273, -5.159599781036377, -5.2058000564575195, -5.459199905395508, -5.5218000411987305, -5.526700019836426, -5.5304999351501465, -5.539400100708008, -5.594699859619141, -5.66349983215332, -5.666800022125244, -5.705599784851074, -5.7769999504089355, -5.806700229644775, -5.878900051116943, -5.881999969482422, -5.899899959564209, -5.918600082397461, -5.958799839019775, -5.9766998291015625, -6.009900093078613, -6.013899803161621, -6.023499965667725, -6.079100131988525, -6.082799911499023, -6.090700149536133, -6.104400157928467, -6.117400169372559, -4.941199779510498, -4.943999767303467, -4.5208001136779785, -4.684000015258789, -4.902699947357178, -5.131700038909912, -5.373499870300293, -5.123799800872803, -5.334700107574463, -5.795499801635742, -5.728899955749512, -5.112800121307373, -5.4328999519348145, -5.3221001625061035, -5.2718000411987305, -5.537899971008301, -5.706399917602539], \"loglift\": [30.0, 29.0, 28.0, 27.0, 26.0, 25.0, 24.0, 23.0, 22.0, 21.0, 20.0, 19.0, 18.0, 17.0, 16.0, 15.0, 14.0, 13.0, 12.0, 11.0, 10.0, 9.0, 8.0, 7.0, 6.0, 5.0, 4.0, 3.0, 2.0, 1.0, 1.8193000555038452, 1.819000005722046, 1.8188999891281128, 1.8178999423980713, 1.8173999786376953, 1.817199945449829, 1.8171000480651855, 1.81659996509552, 1.8158999681472778, 1.8150999546051025, 1.8149000406265259, 1.813099980354309, 1.8128000497817993, 1.8121000528335571, 1.811900019645691, 1.811400055885315, 1.8108999729156494, 1.8107999563217163, 1.8105000257492065, 1.8102999925613403, 1.8087999820709229, 1.8086999654769897, 1.80840003490448, 1.8083000183105469, 1.8080999851226807, 1.8079999685287476, 1.8077000379562378, 1.8077000379562378, 1.8075000047683716, 1.8071000576019287, 1.7967000007629395, 1.7872999906539917, 1.7971999645233154, 1.7964999675750732, 1.7589000463485718, 1.7773000001907349, 1.7930999994277954, 1.8027000427246094, 1.7166999578475952, 1.7178000211715698, 1.7625999450683594, 1.573199987411499, 1.745300054550171, 1.6755000352859497, 1.6516000032424927, 1.6725000143051147, 1.603600025177002, 1.6872999668121338, 1.0888999700546265, 1.3655999898910522, 0.8094000220298767, 1.5856000185012817, 1.6512000560760498, 0.9904000163078308, 1.5235999822616577, 0.7882999777793884, 1.0609999895095825, 0.6445000171661377, 0.4823000133037567, 0.5040000081062317, 0.5023000240325928, 0.5648999810218811, 1.0944000482559204, 0.8579000234603882, 0.1525000035762787, 0.4406999945640564, 1.0532000064849854, 0.8528000116348267, 0.4860000014305115, 0.6650000214576721, -0.17829999327659607, 0.6272000074386597, -0.14380000531673431, 0.4223000109195709, -0.3878999948501587, -0.12479999661445618, 0.4189000129699707, 1.9115999937057495, 1.910599946975708, 1.9103000164031982, 1.910099983215332, 1.9098999500274658, 1.9098000526428223, 1.9093999862670898, 1.9077999591827393, 1.9076999425888062, 1.9076000452041626, 1.9067000150680542, 1.905900001525879, 1.905500054359436, 1.9052000045776367, 1.9050999879837036, 1.9048999547958374, 1.9048999547958374, 1.9046000242233276, 1.9046000242233276, 1.9046000242233276, 1.9042999744415283, 1.9042999744415283, 1.9036999940872192, 1.9036999940872192, 1.90339994430542, 1.90339994430542, 1.9032000303268433, 1.9031000137329102, 1.902999997138977, 1.9026999473571777, 1.888700008392334, 1.882599949836731, 1.8765000104904175, 1.8769999742507935, 1.891800045967102, 1.878600001335144, 1.8583999872207642, 1.8291000127792358, 1.8614000082015991, 1.867300033569336, 1.8102999925613403, 1.8157999515533447, 1.8538000583648682, 1.870300054550171, 1.735200047492981, 1.801900029182434, 1.756500005722046, 1.7484999895095825, 1.686400055885315, 1.7865999937057495, 1.7134000062942505, 1.4901000261306763, 1.2490999698638916, 1.5865000486373901, 1.6533000469207764, 1.0963000059127808, 1.3066999912261963, 0.5626000165939331, 0.9575999975204468, 1.1339999437332153, 0.5254999995231628, 0.9254000186920166, 0.9014000296592712, 0.6563000082969666, 0.8513000011444092, -0.07680000364780426, 0.5947999954223633, 1.2233999967575073, 0.5058000087738037, 0.13120000064373016, 0.19859999418258667, 0.8729000091552734, -0.17880000174045563, 0.6848999857902527, 2.1554999351501465, 2.1542999744415283, 2.15339994430542, 2.15339994430542, 2.151900053024292, 2.1514999866485596, 2.150599956512451, 2.1503000259399414, 2.1501998901367188, 2.149399995803833, 2.148900032043457, 2.1487998962402344, 2.1484999656677246, 2.148200035095215, 2.1459999084472656, 2.1458001136779785, 2.145699977874756, 2.1452999114990234, 2.14520001411438, 2.1451001167297363, 2.14490008354187, 2.1435999870300293, 2.143399953842163, 2.142699956893921, 2.141900062561035, 2.1417999267578125, 2.1410000324249268, 2.1407999992370605, 2.1401000022888184, 2.13919997215271, 2.138700008392334, 2.1379001140594482, 2.103100061416626, 2.0869998931884766, 2.112499952316284, 2.115799903869629, 2.1036999225616455, 1.9529000520706177, 1.9242000579833984, 1.9625999927520752, 2.0506999492645264, 1.686900019645691, 1.8942999839782715, 1.9055999517440796, 1.795799970626831, 1.9466999769210815, 1.8377000093460083, 1.5392999649047852, 2.0085999965667725, 1.4779000282287598, 1.6110999584197998, 1.1397000551223755, 1.5509999990463257, 1.5937000513076782, 1.5786000490188599, 1.0348000526428223, 1.5351999998092651, 1.483299970626831, 1.5694999694824219, 1.7252999544143677, 0.7811999917030334, 0.7892000079154968, 1.3009999990463257, 1.1354999542236328, 1.4735000133514404, 1.1684000492095947, 1.2956000566482544, 0.8711000084877014, 1.2884000539779663, 0.746999979019165, 1.097599983215332, 0.33000001311302185, 0.7781999707221985, 0.8840000033378601, 0.7264000177383423, 1.0332000255584717, 1.0077999830245972, 0.6718999743461609, 1.1031999588012695, 0.5350000262260437, 0.6294999718666077, 2.195199966430664, 2.194499969482422, 2.194200038909912, 2.194000005722046, 2.1937999725341797, 2.1937999725341797, 2.192500114440918, 2.191999912261963, 2.191499948501587, 2.1912999153137207, 2.1910998821258545, 2.1907999515533447, 2.190500020980835, 2.1895999908447266, 2.1895999908447266, 2.189300060272217, 2.188699960708618, 2.1881000995635986, 2.1875, 2.1868999004364014, 2.186800003051758, 2.1858999729156494, 2.185499906539917, 2.1846001148223877, 2.1846001148223877, 2.184499979019165, 2.1840999126434326, 2.1839001178741455, 2.1839001178741455, 2.183799982070923, 2.173099994659424, 2.1786999702453613, 2.148099899291992, 2.161900043487549, 2.075900077819824, 2.1661999225616455, 2.109600067138672, 2.134999990463257, 2.0129001140594482, 2.0513999462127686, 2.05049991607666, 2.027400016784668, 1.9492000341415405, 1.6105999946594238, 2.030400037765503, 1.6497999429702759, 1.5509999990463257, 1.9975999593734741, 1.8460999727249146, 1.7137999534606934, 1.4184000492095947, 1.628000020980835, 0.7800999879837036, 0.367000013589859, 0.5530999898910522, 1.738700032234192, 1.1109999418258667, 0.8252999782562256, 1.0843000411987305, 1.065999984741211, 0.6449999809265137, 1.6571999788284302, 1.3142000436782837, 0.27549999952316284, 0.26260000467300415, 1.0335999727249146, 1.0961999893188477, 0.7021999955177307, 0.1274999976158142, -0.13040000200271606, 0.27309998869895935, 0.20319999754428864, 2.4377999305725098, 2.4358999729156494, 2.433500051498413, 2.4330999851226807, 2.432300090789795, 2.43149995803833, 2.430500030517578, 2.430000066757202, 2.4291999340057373, 2.428800106048584, 2.4265999794006348, 2.426100015640259, 2.4258999824523926, 2.4245998859405518, 2.422800064086914, 2.4221999645233154, 2.4214999675750732, 2.4205000400543213, 2.4189999103546143, 2.4189000129699707, 2.418100118637085, 2.418100118637085, 2.41759991645813, 2.4175000190734863, 2.4173998832702637, 2.416800022125244, 2.4166998863220215, 2.416599988937378, 2.416100025177002, 2.4156999588012695, 2.4124999046325684, 2.404099941253662, 2.3857998847961426, 2.3956000804901123, 2.4077999591827393, 2.3664000034332275, 2.400700092315674, 2.3822999000549316, 2.390700101852417, 2.382499933242798, 2.327399969100952, 2.3450000286102295, 2.3715999126434326, 2.203700065612793, 2.2899999618530273, 2.2846999168395996, 2.334199905395508, 2.2774999141693115, 2.338200092315674, 2.2314000129699707, 2.288800001144409, 2.2028000354766846, 2.253000020980835, 2.1359000205993652, 2.113800048828125, 2.000499963760376, 2.2929999828338623, 1.9364999532699585, 1.8526999950408936, 1.8969999551773071, 1.9769999980926514, 1.8736000061035156, 2.1019999980926514, 1.9264999628067017, 1.7294000387191772, 1.7802000045776367, 1.698199987411499, 1.9543999433517456, 1.902500033378601, 0.8359000086784363, 1.1296000480651855, 1.6031999588012695, 1.7265000343322754, 1.6055999994277954, 1.1399999856948853, 1.5994000434875488, 2.902600049972534, 2.901700019836426, 2.901400089263916, 2.8996999263763428, 2.8989999294281006, 2.898699998855591, 2.8970999717712402, 2.896899938583374, 2.8965001106262207, 2.896399974822998, 2.8956000804901123, 2.8933000564575195, 2.893199920654297, 2.8926000595092773, 2.8919999599456787, 2.891900062561035, 2.8912999629974365, 2.8910000324249268, 2.8905999660491943, 2.8905999660491943, 2.8896000385284424, 2.889400005340576, 2.8889000415802, 2.8889000415802, 2.8884999752044678, 2.888400077819824, 2.888000011444092, 2.8863000869750977, 2.886199951171875, 2.8847999572753906, 2.88100004196167, 2.8466999530792236, 2.8160998821258545, 2.7328999042510986, 2.850600004196167, 2.8027000427246094, 2.7894999980926514, 2.638700008392334, 2.6598000526428223, 2.7595999240875244, 2.354300022125244, 2.440999984741211, 2.2739999294281006, 2.578000068664551, 2.1761999130249023, 2.6542000770568848, 2.4514999389648438, 2.3638999462127686, 2.3887999057769775, 2.32669997215271, 1.9026999473571777, 2.0506999492645264, 2.1470999717712402, 1.1406999826431274, 1.1426000595092773, 2.0160000324249268, 1.6282999515533447, 1.7656999826431274, 0.9574000239372253, 2.065500020980835, 1.4053000211715698, -0.20569999516010284, 0.17720000445842743, -0.49559998512268066, 1.4531999826431274, 1.0911999940872192, 3.0901999473571777, 3.0838000774383545, 3.0806000232696533, 3.0799999237060547, 3.077899932861328, 3.077500104904175, 3.0771000385284424, 3.076900005340576, 3.076200008392334, 3.072700023651123, 3.0724000930786133, 3.071700096130371, 3.0715999603271484, 3.0710999965667725, 3.07069993019104, 3.0692999362945557, 3.0690999031066895, 3.0678999423980713, 3.0678000450134277, 3.0673000812530518, 3.067199945449829, 3.0664000511169434, 3.066200017929077, 3.0653998851776123, 3.065200090408325, 3.0650999546051025, 3.0643999576568604, 3.0636000633239746, 3.063499927520752, 3.0634000301361084, 3.0506999492645264, 3.039799928665161, 2.989500045776367, 3.047499895095825, 2.946899890899658, 2.9296998977661133, 3.0139000415802, 2.8835999965667725, 2.960200071334839, 3.045799970626831, 2.927000045776367, 3.009999990463257, 2.855799913406372, 2.821700096130371, 2.5678000450134277, 2.707200050354004, 2.7488999366760254, 2.927299976348877, 2.884700059890747, 2.250200033187866, 2.36680006980896, 2.546999931335449, 2.418800115585327, 2.3540000915527344, 2.4465999603271484, 2.2899999618530273, 2.5882999897003174, 2.4509999752044678, 2.0002999305725098, 2.01200008392334, 2.197700023651123, 2.387500047683716, 1.9081000089645386, 1.458799958229065, 1.9378000497817993, 2.1594998836517334, 1.2226999998092651, 1.1965999603271484, 0.8851000070571899, 0.8561999797821045, 1.7690000534057617, 0.15379999577999115, 0.8636999726295471, 1.253100037574768, 2.040800094604492, 3.127000093460083, 3.1266000270843506, 3.126499891281128, 3.125699996948242, 3.125699996948242, 3.1229000091552734, 3.121999979019165, 3.121799945831299, 3.1205999851226807, 3.1205999851226807, 3.120300054550171, 3.119999885559082, 3.119800090789795, 3.119499921798706, 3.119499921798706, 3.119499921798706, 3.11929988861084, 3.1191999912261963, 3.1187000274658203, 3.118299961090088, 3.1180999279022217, 3.118000030517578, 3.1177000999450684, 3.117300033569336, 3.117000102996826, 3.1168999671936035, 3.1168999671936035, 3.1154000759124756, 3.1154000759124756, 3.1154000759124756, 3.107300043106079, 3.096100091934204, 3.0804998874664307, 3.1071999073028564, 3.0950000286102295, 3.0692999362945557, 3.0941998958587646, 2.9788999557495117, 3.081199884414673, 3.0778000354766846, 3.027899980545044, 3.0, 3.010999917984009, 2.939300060272217, 3.0789999961853027, 3.0448999404907227, 2.1789000034332275, 2.9321000576019287, 2.694000005722046, 2.663800001144409, 1.70169997215271, 2.849400043487549, 0.9860000014305115, 0.9717000126838684, 2.198199987411499, 1.509600043296814, 1.3428000211715698, 2.2753000259399414, 1.329800009727478, 0.30570000410079956, -0.4023999869823456, 0.36500000953674316, 3.1315999031066895, 3.1308000087738037, 3.1303000450134277, 3.1289000511169434, 3.128000020980835, 3.1254000663757324, 3.124500036239624, 3.1233999729156494, 3.1217000484466553, 3.120699882507324, 3.1205999851226807, 3.1198999881744385, 3.1187000274658203, 3.1180999279022217, 3.1175999641418457, 3.1166999340057373, 3.1161999702453613, 3.115600109100342, 3.115299940109253, 3.114500045776367, 3.114500045776367, 3.114500045776367, 3.113300085067749, 3.1129000186920166, 3.112299919128418, 3.1108999252319336, 3.110599994659424, 3.110300064086914, 3.109800100326538, 3.1092000007629395, 3.1071999073028564, 3.0850000381469727, 2.9993999004364014, 3.025099992752075, 2.8675999641418457, 2.5954999923706055, 2.9951000213623047, 2.9549999237060547, 2.79229998588562, 2.671299934387207, 3.0355000495910645, 2.7918999195098877, 2.7769999504089355, 2.831700086593628, 2.2023000717163086, 2.707200050354004, 2.8099000453948975, 2.3148000240325928, 2.1180999279022217, 2.1991000175476074, 1.3737000226974487, 0.9334999918937683, 1.8890000581741333, 1.8960000276565552, 1.9747999906539917, 1.92330002784729, 1.155500054359436, 1.344099998474121, 1.5743999481201172, 1.9318000078201294, 0.656499981880188, 0.7580999732017517, 0.17430000007152557, 0.8138999938964844, 0.9686999917030334, 0.7264999747276306, 1.117400050163269, 0.3517000079154968, 0.06199999898672104, -0.46790000796318054, 0.10170000046491623, 0.5342000126838684, 0.5927000045776367, 0.8108000159263611, 0.1404999941587448, 0.04820000007748604, 3.250200033187866, 3.249000072479248, 3.2476999759674072, 3.2471001148223877, 3.245300054550171, 3.2441000938415527, 3.240499973297119, 3.237799882888794, 3.235599994659424, 3.2344000339508057, 3.23009991645813, 3.2298998832702637, 3.2260000705718994, 3.2260000705718994, 3.224900007247925, 3.2242000102996826, 3.222100019454956, 3.221100091934204, 3.2207999229431152, 3.220099925994873, 3.2177000045776367, 3.216900110244751, 3.216200113296509, 3.214400053024292, 3.2125000953674316, 3.2121999263763428, 3.2114999294281006, 3.210900068283081, 3.208899974822998, 3.2086000442504883, 3.200000047683716, 3.1308000087738037, 3.117799997329712, 3.155900001525879, 3.182800054550171, 3.045799970626831, 3.152100086212158, 3.1756999492645264, 3.036900043487549, 3.0236001014709473, 2.9728000164031982, 3.080399990081787, 2.628499984741211, 3.015399932861328, 2.5434000492095947, 2.738600015640259, 2.7086000442504883, 2.6036999225616455, 2.702899932861328, 2.378000020980835, 2.578700065612793, 2.8778998851776123, 2.649399995803833, 2.4065001010894775, 2.3547000885009766, 2.6034998893737793, 2.111299991607666, 1.6345000267028809, 2.1935999393463135, 1.7181999683380127, 0.9814000129699707, 1.6022000312805176, 1.614799976348877, 1.5914000272750854, 0.9049999713897705, 1.1646000146865845, 1.948699951171875, 1.4383000135421753, 1.7038999795913696, 1.169700026512146, 3.449899911880493, 3.4498000144958496, 3.4486000537872314, 3.4477999210357666, 3.446700096130371, 3.4449000358581543, 3.4416000843048096, 3.435800075531006, 3.4342000484466553, 3.432499885559082, 3.4284000396728516, 3.4258999824523926, 3.425100088119507, 3.424799919128418, 3.424499988555908, 3.4221999645233154, 3.4214999675750732, 3.4214000701904297, 3.420300006866455, 3.4189000129699707, 3.4184999465942383, 3.4173998832702637, 3.415800094604492, 3.413300037384033, 3.4123001098632812, 3.411600112915039, 3.410900115966797, 3.4107000827789307, 3.4103000164031982, 3.4061999320983887, 3.377500057220459, 3.367799997329712, 3.3893001079559326, 3.333699941635132, 3.311199903488159, 3.2060000896453857, 3.316800117492676, 3.2653000354766846, 3.176800012588501, 3.308799982070923, 3.302500009536743, 3.3468000888824463, 3.224100112915039, 3.0982000827789307, 2.9781999588012695, 3.0107998847961426, 3.0810000896453857, 3.256200075149536, 2.6726999282836914, 2.3994998931884766, 2.7564001083374023, 2.6298999786376953, 2.809499979019165, 2.356300115585327, 2.383500099182129, 2.6061999797821045, 2.251499891281128, 2.321700096130371, 1.9566999673843384, 1.7039999961853027, 2.324399948120117, 1.6449999809265137, 1.4627000093460083, 1.9306999444961548, 1.190999984741211, 3.6726999282836914, 3.6654999256134033, 3.6640000343322754, 3.6630001068115234, 3.6628000736236572, 3.6593000888824463, 3.6593000888824463, 3.6582000255584717, 3.6577000617980957, 3.657099962234497, 3.6570000648498535, 3.6566998958587646, 3.655900001525879, 3.6552000045776367, 3.6547999382019043, 3.6545000076293945, 3.653700113296509, 3.6535000801086426, 3.65339994430542, 3.6531999111175537, 3.651599884033203, 3.651599884033203, 3.6500000953674316, 3.6489999294281006, 3.647700071334839, 3.647700071334839, 3.64739990234375, 3.6465001106262207, 3.6461000442504883, 3.644700050354004, 3.6435000896453857, 3.58489990234375, 3.5669000148773193, 3.6066999435424805, 3.501199960708618, 3.482300043106079, 3.0206000804901123, 3.468400001525879, 3.3884999752044678, 2.651700019836426, 2.9112000465393066, 2.8445000648498535, 2.490299940109253, 3.11299991607666, 2.781399965286255, 2.041300058364868, 2.4117000102996826, 3.2200000286102295, 1.5794999599456787, 2.5506999492645264, 1.3805999755859375, 2.8708999156951904, 1.548200011253357, 1.8041000366210938, 1.5699000358581543, 3.01200008392334, 1.5966999530792236, 0.9990000128746033, 0.8600000143051147, 1.9129999876022339, 0.10899999737739563, 0.21250000596046448, 1.1644999980926514, 0.8203999996185303, 0.6532999873161316, 1.6668000221252441, 3.8055999279022217, 3.8043999671936035, 3.802999973297119, 3.801500082015991, 3.800299882888794, 3.7985000610351562, 3.7983999252319336, 3.798099994659424, 3.797600030899048, 3.7959001064300537, 3.7939000129699707, 3.7911999225616455, 3.7909998893737793, 3.7908999919891357, 3.7897000312805176, 3.786400079727173, 3.7857000827789307, 3.7843000888824463, 3.7841999530792236, 3.783799886703491, 3.7822999954223633, 3.782099962234497, 3.7820000648498535, 3.7818000316619873, 3.7808001041412354, 3.780400037765503, 3.7802999019622803, 3.7799999713897705, 3.7797999382019043, 3.7792999744415283, 3.770900011062622, 3.777400016784668, 3.733599901199341, 3.703700065612793, 3.748800039291382, 3.730600118637085, 3.718600034713745, 3.7263998985290527, 3.5281999111175537, 3.34060001373291, 3.476900100708008, 3.6456000804901123, 3.476900100708008, 3.5501999855041504, 3.1891000270843506, 2.9447999000549316, 2.9175000190734863, 3.0107998847961426, 2.753000020980835, 3.101799964904785, 3.2288999557495117, 3.3729000091552734, 2.8715999126434326, 1.8098000288009644, 2.728600025177002, 2.9672999382019043, 2.534899950027466, 2.754199981689453, 0.869700014591217, 1.4395999908447266, 1.4958000183105469, 0.8077999949455261, 4.160299777984619, 4.157899856567383, 4.153600215911865, 4.146500110626221, 4.145599842071533, 4.143799781799316, 4.143400192260742, 4.1402997970581055, 4.138899803161621, 4.138599872589111, 4.136000156402588, 4.1356000900268555, 4.134200096130371, 4.134099960327148, 4.132500171661377, 4.132500171661377, 4.132199764251709, 4.131700038909912, 4.1315999031066895, 4.130899906158447, 4.130799770355225, 4.1305999755859375, 4.130099773406982, 4.129499912261963, 4.129499912261963, 4.1290998458862305, 4.127999782562256, 4.127600193023682, 4.127099990844727, 4.126800060272217, 4.114200115203857, 4.124000072479248, 4.114099979400635, 4.107800006866455, 3.983099937438965, 3.958899974822998, 3.933000087738037, 4.054100036621094, 3.579400062561035, 4.085700035095215, 3.83240008354187, 3.9598000049591064, 3.476300001144409, 2.952199935913086, 3.631200075149536, 3.311800003051758, 3.407900094985962, 3.689199924468994, 3.0490000247955322, 3.549099922180176, 2.3585000038146973, 3.254300117492676, 3.1612000465393066, 3.2056000232696533, 2.75570011138916, 3.05679988861084, 2.094899892807007, 1.3317999839782715, 1.8580000400543213, 1.7969000339508057, 4.310699939727783, 4.304200172424316, 4.3018999099731445, 4.301599979400635, 4.299600124359131, 4.297599792480469, 4.2947001457214355, 4.294300079345703, 4.292900085449219, 4.290299892425537, 4.29010009765625, 4.29010009765625, 4.28980016708374, 4.2881999015808105, 4.287899971008301, 4.286799907684326, 4.285799980163574, 4.283699989318848, 4.282400131225586, 4.281799793243408, 4.281199932098389, 4.280300140380859, 4.278600215911865, 4.276199817657471, 4.2758002281188965, 4.275400161743164, 4.275100231170654, 4.275000095367432, 4.274499893188477, 4.2743000984191895, 4.265699863433838, 4.152100086212158, 4.101799964904785, 4.233500003814697, 4.17609977722168, 4.206600189208984, 4.0447998046875, 4.176199913024902, 4.1346001625061035, 4.077899932861328, 4.039899826049805, 3.660099983215332, 3.6872000694274902, 3.5394999980926514, 4.057199954986572, 3.777400016784668, 3.9056999683380127, 3.357800006866455, 3.5713999271392822, 3.5285000801086426, 3.908099889755249, 2.658600091934204, 2.8852999210357666, 3.134999990463257, 2.103300094604492, 2.064199924468994, 2.059299945831299, 4.356299877166748, 4.355299949645996, 4.3541998863220215, 4.352799892425537, 4.3495001792907715, 4.348899841308594, 4.348100185394287, 4.345900058746338, 4.3445000648498535, 4.344399929046631, 4.343400001525879, 4.3429999351501465, 4.342400074005127, 4.342100143432617, 4.338600158691406, 4.335999965667725, 4.334400177001953, 4.333899974822998, 4.330399990081787, 4.327099800109863, 4.326499938964844, 4.326300144195557, 4.324399948120117, 4.320799827575684, 4.31850004196167, 4.317500114440918, 4.316999912261963, 4.3140997886657715, 4.3119001388549805, 4.311800003051758, 4.1570000648498535, 4.208000183105469, 4.162199974060059, 4.151400089263916, 4.127099990844727, 4.100900173187256, 4.156300067901611, 3.857599973678589, 3.8620998859405518, 4.11299991607666, 4.091599941253662, 3.353800058364868, 3.694700002670288, 3.2237000465393066, 4.064899921417236, 3.5316998958587646, 3.528700113296509, 3.930500030517578, 2.89490008354187, 3.7348999977111816, 4.409800052642822, 4.408899784088135, 4.4085001945495605, 4.408299922943115, 4.407700061798096, 4.407599925994873, 4.405900001525879, 4.404799938201904, 4.404399871826172, 4.402699947357178, 4.402100086212158, 4.401400089263916, 4.400899887084961, 4.400899887084961, 4.398399829864502, 4.3983001708984375, 4.39739990234375, 4.394499778747559, 4.394100189208984, 4.393099784851074, 4.392600059509277, 4.392199993133545, 4.392199993133545, 4.392199993133545, 4.389999866485596, 4.389400005340576, 4.388999938964844, 4.388000011444092, 4.378399848937988, 4.375199794769287, 4.370999813079834, 4.370500087738037, 4.2947998046875, 4.323800086975098, 4.261099815368652, 4.365699768066406, 4.321199893951416, 4.357699871063232, 4.262499809265137, 4.31279993057251, 4.276400089263916, 3.814500093460083, 3.1233999729156494, 3.364000082015991, 2.6189000606536865, 2.6473000049591064, 4.946899890899658, 4.939300060272217, 4.930500030517578, 4.927299976348877, 4.926599979400635, 4.926000118255615, 4.922299861907959, 4.921500205993652, 4.920899868011475, 4.920000076293945, 4.916800022125244, 4.912700176239014, 4.9096999168396, 4.907800197601318, 4.906300067901611, 4.904799938201904, 4.902900218963623, 4.8993000984191895, 4.897900104522705, 4.895400047302246, 4.894499778747559, 4.894199848175049, 4.893199920654297, 4.891900062561035, 4.890999794006348, 4.889200210571289, 4.886199951171875, 4.8856000900268555, 4.8846001625061035, 4.883900165557861, 4.842599868774414, 4.50439977645874, 4.668600082397461, 4.271900177001953, 4.515200138092041, 4.324900150299072, 3.896899938583374, 4.018199920654297, 4.433300018310547, 2.569499969482422, 4.454500198364258, 4.187699794769287, 3.555000066757202, 2.770699977874756, 3.210400104522705, 3.5706000328063965, 3.422100067138672, 1.794700026512146, 3.6361000537872314, 4.997600078582764, 4.993000030517578, 4.991600036621094, 4.990699768066406, 4.990699768066406, 4.986400127410889, 4.984499931335449, 4.984000205993652, 4.977700233459473, 4.975900173187256, 4.975900173187256, 4.973100185394287, 4.9721999168396, 4.970799922943115, 4.968299865722656, 4.968200206756592, 4.967100143432617, 4.963200092315674, 4.962800025939941, 4.958499908447266, 4.950699806213379, 4.949399948120117, 4.9492998123168945, 4.9481000900268555, 4.9475998878479, 4.945300102233887, 4.944799900054932, 4.943699836730957, 4.94350004196167, 4.942800045013428, 4.780399799346924, 4.8196001052856445, 4.891499996185303, 4.761099815368652, 4.762700080871582, 4.684599876403809, 4.265500068664551, 4.1508002281188965, 4.453700065612793, 4.027200222015381, 3.9855000972747803, 3.8424999713897705, 3.072999954223633, 5.25600004196167, 5.250100135803223, 5.2480998039245605, 5.2469000816345215, 5.245299816131592, 5.235499858856201, 5.232699871063232, 5.232399940490723, 5.2322001457214355, 5.231800079345703, 5.2291998863220215, 5.225599765777588, 5.225399971008301, 5.223299980163574, 5.219200134277344, 5.21750020980835, 5.212900161743164, 5.212699890136719, 5.21150016784668, 5.210299968719482, 5.207499980926514, 5.206299781799316, 5.20389986038208, 5.20359992980957, 5.2027997970581055, 5.198599815368652, 5.198299884796143, 5.197700023651123, 5.196599960327148, 5.195499897003174, 5.1722002029418945, 5.1346001625061035, 5.059100151062012, 5.064199924468994, 4.828700065612793, 4.87939977645874, 4.688199996948242, 4.443900108337402, 4.215099811553955, 4.917399883270264, 4.717100143432617, 2.8584001064300537, 3.7446000576019287, 3.268899917602539, 2.9233999252319336, 3.84879994392395, 3.522200107574463]}, \"token.table\": {\"Topic\": [2, 4, 5, 19, 12, 11, 1, 2, 3, 4, 8, 9, 10, 11, 12, 2, 2, 1, 2, 4, 5, 7, 10, 11, 12, 14, 15, 16, 2, 5, 1, 5, 7, 5, 18, 3, 6, 10, 5, 1, 3, 4, 6, 15, 6, 6, 7, 5, 9, 11, 13, 6, 14, 10, 6, 1, 2, 3, 4, 5, 6, 7, 8, 9, 10, 11, 12, 14, 16, 2, 15, 1, 1, 6, 7, 8, 14, 17, 17, 1, 2, 3, 4, 5, 6, 9, 13, 20, 16, 4, 5, 8, 14, 18, 19, 9, 16, 20, 1, 5, 14, 15, 5, 11, 1, 2, 3, 8, 9, 10, 1, 2, 3, 4, 8, 9, 10, 12, 3, 1, 2, 4, 5, 6, 9, 10, 13, 15, 2, 11, 14, 11, 2, 5, 7, 9, 10, 1, 9, 10, 12, 2, 10, 2, 5, 6, 7, 8, 13, 14, 17, 19, 1, 7, 19, 20, 5, 6, 11, 6, 16, 1, 4, 5, 11, 20, 3, 6, 16, 3, 6, 16, 3, 6, 16, 1, 3, 6, 1, 2, 3, 4, 5, 8, 9, 11, 12, 1, 1, 2, 4, 5, 6, 7, 9, 11, 12, 6, 1, 16, 17, 5, 17, 9, 4, 4, 4, 6, 7, 14, 4, 17, 1, 7, 2, 11, 20, 12, 18, 5, 4, 5, 6, 11, 12, 7, 1, 2, 5, 7, 8, 9, 14, 18, 5, 9, 14, 3, 6, 6, 7, 1, 2, 3, 4, 7, 8, 9, 10, 11, 12, 13, 18, 3, 13, 14, 10, 1, 8, 1, 2, 4, 5, 6, 8, 9, 1, 15, 2, 7, 4, 4, 1, 2, 3, 4, 7, 8, 9, 10, 12, 1, 2, 3, 4, 8, 9, 11, 12, 1, 2, 3, 4, 8, 9, 10, 11, 12, 4, 4, 2, 3, 18, 4, 7, 13, 2, 1, 2, 3, 4, 8, 9, 10, 12, 13, 15, 1, 2, 3, 5, 9, 13, 3, 6, 2, 3, 7, 10, 14, 1, 4, 5, 6, 2, 3, 4, 5, 6, 9, 12, 14, 15, 16, 18, 4, 5, 9, 12, 15, 16, 18, 2, 10, 14, 6, 8, 14, 10, 8, 15, 7, 8, 1, 2, 7, 20, 1, 2, 7, 9, 10, 11, 5, 20, 2, 11, 2, 11, 20, 2, 15, 2, 3, 8, 13, 1, 2, 5, 6, 7, 8, 14, 17, 2, 3, 4, 8, 10, 12, 14, 1, 2, 5, 8, 14, 20, 6, 6, 14, 3, 15, 2, 10, 15, 2, 6, 7, 14, 1, 2, 3, 4, 5, 6, 9, 11, 11, 12, 4, 18, 9, 12, 2, 13, 2, 3, 5, 6, 7, 8, 9, 17, 12, 1, 2, 3, 4, 5, 6, 7, 9, 11, 13, 11, 1, 6, 11, 1, 11, 3, 1, 2, 3, 4, 5, 8, 9, 11, 12, 14, 13, 2, 19, 6, 8, 13, 14, 1, 3, 4, 6, 10, 16, 2, 13, 2, 13, 2, 7, 8, 10, 12, 18, 4, 4, 6, 8, 4, 4, 6, 4, 10, 14, 1, 5, 20, 9, 15, 1, 7, 12, 1, 3, 1, 2, 4, 2, 13, 13, 19, 9, 10, 14, 6, 1, 7, 9, 13, 11, 8, 19, 1, 2, 4, 5, 9, 10, 11, 14, 2, 3, 5, 6, 8, 14, 2, 5, 9, 18, 1, 2, 5, 6, 10, 14, 9, 2, 9, 19, 11, 14, 1, 2, 3, 4, 8, 9, 10, 15, 15, 15, 11, 20, 1, 3, 7, 14, 5, 11, 18, 5, 1, 2, 2, 5, 7, 12, 14, 20, 10, 5, 6, 7, 8, 14, 1, 7, 18, 14, 18, 1, 1, 2, 3, 5, 6, 7, 10, 11, 12, 14, 15, 18, 11, 1, 4, 5, 10, 7, 5, 18, 1, 2, 3, 5, 6, 10, 13, 2, 15, 15, 1, 2, 4, 5, 11, 14, 15, 1, 11, 1, 2, 3, 4, 6, 7, 8, 9, 10, 13, 1, 3, 6, 7, 11, 18, 1, 1, 2, 3, 4, 5, 6, 15, 14, 1, 1, 1, 6, 1, 1, 3, 13, 20, 13, 14, 1, 5, 13, 13, 13, 12, 8, 6, 19, 16, 14, 1, 2, 5, 9, 13, 5, 10, 5, 2, 5, 8, 12, 14, 1, 4, 5, 6, 8, 10, 12, 18, 19, 1, 2, 3, 5, 6, 7, 12, 14, 17, 3, 14, 14, 6, 13, 13, 18, 1, 4, 9, 11, 13, 12, 14, 7, 14, 17, 2, 10, 1, 2, 3, 4, 5, 20, 8, 8, 9, 20, 5, 9, 6, 6, 2, 13, 2, 10, 2, 5, 9, 10, 1, 5, 2, 5, 9, 18, 5, 6, 7, 8, 14, 9, 3, 6, 4, 16, 7, 7, 18, 10, 13, 1, 4, 5, 8, 9, 11, 2, 3, 1, 2, 3, 10, 2, 12, 2, 1, 4, 7, 17, 12, 19, 9, 11, 19, 7, 9, 10, 15, 2, 2, 5, 10, 11, 14, 15, 19, 1, 6, 8, 16, 11, 13, 13, 7, 13, 12, 1, 7, 13, 2, 15, 12, 14, 8, 11, 12, 10, 2, 4, 6, 10, 11, 13, 16, 13, 13, 8, 3, 4, 10, 1, 6, 16, 1, 5, 7, 16, 1, 2, 3, 4, 6, 8, 9, 10, 11, 12, 13, 1, 4, 6, 20, 11, 1, 2, 4, 5, 9, 11, 1, 4, 6, 17, 1, 5, 18, 17, 16, 1, 2, 3, 4, 9, 1, 2, 3, 4, 12, 1, 2, 3, 4, 6, 7, 9, 4, 1, 3, 6, 9, 12, 20, 8, 9, 5, 10, 11, 14, 5, 10, 11, 1, 2, 3, 4, 5, 9, 10, 9, 20, 11, 20, 20, 1, 1, 2, 3, 4, 5, 6, 7, 8, 9, 10, 11, 12, 13, 14, 15, 17, 2, 18, 9, 3, 12, 13, 16, 15, 17, 19, 2, 9, 8, 10, 18, 3, 6, 7, 9, 1, 3, 4, 6, 7, 9, 13, 15, 5, 9, 12, 1, 5, 6, 20, 7, 8, 6, 14, 1, 18, 5, 1, 7, 1, 7, 8, 11, 8, 10, 6, 8, 19, 2, 7, 13, 20, 6, 16, 4, 7, 8, 9, 12, 3, 7, 14, 1, 5, 16, 17, 20, 1, 14, 16, 18, 20, 18, 6, 1, 7, 8, 13, 15, 19, 4, 1, 2, 3, 4, 7, 8, 9, 10, 12, 1, 2, 3, 4, 8, 9, 10, 12, 18, 10, 3, 9, 4, 1, 6, 7, 13, 2, 5, 10, 18, 13, 1, 2, 4, 6, 9, 10, 12, 16, 4, 16, 16, 2, 8, 9, 15, 20, 1, 2, 3, 4, 6, 15, 15, 5, 6, 11, 1, 11, 1, 10, 9, 1, 3, 4, 1, 2, 3, 4, 8, 2, 5, 19, 18, 11, 15, 8, 2, 13, 13, 14, 1, 6, 7, 1, 2, 3, 4, 10, 12, 3, 4, 20, 2, 5, 6, 12, 20, 13, 2, 10, 19, 1, 2, 3, 4, 5, 6, 7, 9, 10, 11, 12, 15, 6, 10, 12, 14, 1, 3, 4, 5, 6, 8, 16, 18, 8, 20, 2, 3, 9, 16, 3, 4, 1, 2, 3, 6, 8, 10, 14, 1, 4, 4, 2, 15, 7, 14, 1, 2, 3, 7, 15, 18, 15, 1, 3, 4, 5, 6, 9, 12, 3, 9, 10, 7, 13, 9, 14, 1, 1, 2, 6, 5, 9, 16, 5, 9, 12, 5, 18, 20, 6, 6, 15, 2, 5, 9, 10, 11, 14, 18, 1, 2, 5, 6, 7, 10, 11, 13, 14, 7, 12, 19, 1, 7, 10, 2, 5, 9, 10, 11, 9, 3, 5, 8, 12, 2, 5, 12, 14, 11, 7, 4, 8, 1, 6, 7, 1, 7, 1, 1, 2, 4, 5, 6, 7, 11, 15, 16, 16, 5, 20, 1, 2, 18, 13, 4, 8, 1, 4, 6, 16, 1, 4, 16, 1, 7, 20, 1, 2, 4, 5, 6, 8, 10, 12, 14, 15, 6, 7, 12, 13, 5, 9, 12, 11, 1, 12, 5, 6, 8, 14, 18, 3, 6, 3, 1, 2, 3, 4, 5, 8, 9, 11, 12, 3, 10, 13, 17, 16, 8, 12, 13, 15, 1, 2, 3, 4, 7, 8, 9, 10, 12, 1, 3, 12, 16, 4, 12, 17, 19, 2, 1, 2, 3, 4, 5, 6, 7, 8, 11, 12, 15, 19, 12, 1, 7, 17, 17, 17, 12, 1, 4, 14, 8, 8, 13, 15, 15, 1, 2, 3, 4, 6, 8, 9, 11, 12, 6, 15, 1, 2, 3, 4, 6, 8, 10, 14, 15, 1, 2, 5, 7, 1, 7, 8, 1, 9, 13, 5, 6, 19, 1, 5, 6, 9, 10, 1, 2, 3, 4, 6, 19, 1, 2, 3, 4, 6, 9, 1, 2, 3, 4, 5, 6, 8, 9, 10, 12, 15, 1, 2, 3, 4, 5, 6, 8, 9, 10, 11, 13, 16, 20, 1, 2, 3, 5, 6, 8, 9, 11, 13, 1, 2, 3, 5, 6, 8, 11, 12, 14, 15, 5, 1, 2, 3, 4, 7, 8, 9, 10, 12, 9, 14, 1, 2, 3, 9, 9, 10, 6, 16, 1, 2, 3, 4, 5, 7, 8, 9, 11, 12, 15, 2, 3, 4, 7, 8, 9, 10, 12, 4, 12, 11, 12, 13, 14, 17, 15, 3, 2, 5, 18, 8, 14, 19, 5, 2, 5, 8, 10, 12, 14, 5, 5, 12, 1, 2, 3, 5, 9, 10, 11, 20, 7, 1, 3, 4, 6, 7, 1, 2, 3, 4, 5, 7, 8, 9, 10, 11, 12, 18, 3, 2, 5, 8, 10, 18, 20, 7, 1, 2, 3, 4, 5, 6, 7, 8, 9, 11, 12, 15, 7, 10, 12, 20, 14, 3, 1, 2, 4, 5, 6, 8, 12, 15, 17, 10, 20, 6, 2, 4, 5, 18, 1, 2, 3, 4, 8, 9, 10, 12, 13, 1, 2, 3, 4, 7, 8, 9, 10, 12, 1, 2, 4, 14, 3, 6, 3, 6, 3, 4, 7, 14, 2, 4, 8, 10, 16, 9, 12, 13, 2, 10, 1, 2, 3, 4, 5, 8, 9, 11, 12, 13, 1, 3, 6, 7, 1, 1, 2, 6, 7, 11, 15, 7, 8, 13, 16, 15, 14, 4, 5, 16, 17, 18, 17, 2, 9, 19, 14, 2, 2, 11, 8, 17, 1, 4, 4, 14, 16, 16, 18, 2, 5, 19, 2, 3, 9, 2, 12, 2, 10, 11, 1, 2, 3, 4, 8, 9, 10, 11, 12, 18, 6, 2, 12, 4, 6, 16, 3, 4, 6, 16, 1, 2, 3, 4, 5, 6, 7, 9, 11, 12, 13, 14, 20, 9, 20, 6, 20, 1, 2, 3, 4, 5, 6, 8, 10, 11, 12, 14, 17, 5, 17, 1, 5, 6, 7, 8, 13, 17, 16, 16, 5, 15, 18, 1, 2, 3, 4, 5, 6, 7, 8, 9, 10, 11, 1, 5, 14, 11, 12, 5, 1, 13, 15, 1, 2, 3, 4, 6, 8, 10, 12, 6, 17, 3, 8, 9, 12, 15, 20, 7, 15, 7, 16, 7, 2, 3, 6, 9, 10, 2, 19, 1, 7, 11, 15, 10, 11, 1, 2, 3, 4, 5, 6, 7, 9, 11, 13, 14, 14, 16, 18, 1, 4, 5, 6, 17, 1, 2, 3, 4, 12, 14, 18, 1, 2, 3, 5, 6, 7, 12, 17, 1, 5, 6, 7, 11, 15, 16, 5, 7, 19, 1, 2, 3, 4, 5, 7, 9, 10, 11, 13, 18, 5, 18, 1, 17, 17, 17, 17, 4, 16, 16, 15, 2, 11, 13, 15, 17, 12, 2, 5, 7, 9, 10, 18, 15, 2, 5, 6, 9, 11, 14, 18, 3, 4, 1, 1, 1, 7, 9, 1, 2, 3, 5, 9, 11, 14, 6, 10, 12, 2, 3, 6, 8, 14, 11, 19, 5, 5, 10, 18, 2, 5, 18, 11, 6, 1, 4, 5, 6, 8, 10, 12, 14, 16, 17, 5, 14, 8, 19, 1, 2, 3, 4, 5, 6, 11, 12, 6, 7, 1, 2, 4, 6, 7, 8, 11, 13, 20, 8, 13, 14, 2, 3, 5, 12, 13, 14, 18, 13, 4, 9, 12, 13, 13, 16, 8, 3, 18, 8, 14, 18, 5, 9, 11, 20, 13, 6, 9, 15, 17, 3, 7, 15, 3, 15, 2, 5, 2, 4, 7, 8, 13, 3, 6, 7, 8, 8, 8, 1, 2, 3, 8, 12, 8, 8, 8, 1, 2, 3, 4, 5, 10, 11, 12, 14, 18, 5, 1, 2, 3, 4, 5, 6, 7, 8, 9, 12, 14, 12, 14, 18, 1, 2, 4, 5, 8, 9, 1, 3, 1, 6, 7, 1, 6, 16, 18, 1, 7, 9, 4, 10, 2, 2, 1, 2, 3, 4, 5, 6, 8, 9, 10, 11, 12, 13, 17, 1, 2, 4, 5, 9, 10, 11, 12, 14, 5, 18, 1, 2, 4, 6, 8, 12, 13, 15, 14, 19, 12, 1, 15, 19, 7, 1, 5, 6, 7, 8, 9, 10, 16, 6, 1, 2, 3, 8, 12, 14, 15, 2, 10, 11, 1, 11, 1, 5, 7, 13, 5, 17, 17, 1, 2, 3, 4, 6, 7, 9, 10, 11, 1, 2, 3, 4, 5, 6, 8, 9, 10, 11, 2, 5, 9, 19, 1, 6, 16, 11, 2, 5, 7, 9, 10, 11, 14, 18, 13, 12, 1, 14, 7, 5, 17, 14, 12, 1, 5, 6, 7, 11, 13, 12, 13, 1, 3, 5, 6, 11, 13, 14, 17, 5, 8, 13, 11, 9, 8, 1, 2, 3, 4, 7, 8, 9, 10, 18, 18, 2, 5, 15, 18, 1, 2, 4, 5, 9, 13, 8, 1, 2, 3, 4, 5, 9, 10, 11, 12, 13, 1, 2, 3, 4, 8, 9, 10, 12, 20, 3, 19, 20, 12, 19, 16, 14, 1, 5, 14, 7, 1, 4, 6, 4, 1, 4, 6, 3, 4, 11, 1, 2, 3, 4, 8, 9, 12, 2, 4, 5, 10, 12, 1, 2, 3, 5, 6, 7, 8, 11, 17, 1, 2, 6, 7, 8, 19, 1, 6, 16, 20, 7, 1, 5, 10, 11, 19, 1, 2, 5, 11, 1, 4, 5, 6, 7, 14, 17, 4, 11, 1, 2, 3, 4, 5, 6, 7, 9, 10, 11, 14, 15, 4, 3, 3, 3, 19, 1, 2, 3, 4, 7, 8, 9, 10, 11, 13, 1, 7, 11, 5, 14, 18, 7, 17, 17, 19, 12, 1, 6, 12, 15, 18, 1, 4, 7, 8, 11, 12, 2, 3, 5, 8, 9, 10, 2, 3, 5, 8, 9, 10, 6, 7, 20, 3, 6, 7, 16, 12, 13, 16, 19, 15, 4, 1, 2, 3, 4, 6, 7, 9, 2, 7, 10, 12, 15, 19, 9, 12, 17, 17, 2, 17, 1, 2, 3, 4, 10, 14, 7, 13, 14, 17, 5, 7, 2, 5, 13, 4, 5, 6, 12, 14, 17, 18, 1, 9, 12, 8, 13, 8, 13, 6, 8, 2, 9, 10, 10, 18, 4, 2, 6, 20, 19, 8, 1, 2, 3, 4, 6, 8, 9, 10, 12, 13, 1, 7, 13, 15, 3, 7, 2, 5, 6, 7, 9, 11, 1, 13, 1, 5, 7, 13, 13, 16, 20, 17, 20, 1, 7, 7, 1, 2, 3, 4, 5, 8, 10, 11, 12, 14, 15, 18, 7, 5, 7, 6, 16, 2, 10, 13, 5, 10, 12, 18, 5, 3, 5, 11, 5, 13, 2, 14, 15, 18, 15, 1, 3, 13, 3, 17, 3, 5, 19, 19, 9, 1, 2, 3, 4, 6, 7, 8, 9, 10, 11, 13, 15, 3, 5, 7, 14, 1, 2, 3, 9, 10, 11, 15, 3, 13, 1, 19, 1, 8, 12, 15, 16, 18, 14, 1, 4, 18, 1, 4, 15, 17, 10, 2, 5, 10, 18, 17, 18, 1, 2, 3, 4, 9, 10, 12, 1, 2, 3, 4, 7, 9, 10, 11, 12, 2, 1, 2, 3, 5, 7, 8, 10, 1, 2, 3, 4, 12, 1, 3, 6, 7, 14, 15, 3, 6, 7, 17, 2, 5, 11, 15, 17, 17, 2, 3, 8, 2, 14, 9, 4, 12, 3, 14, 13, 9, 12, 13, 14, 1, 3, 5, 8, 10, 1, 2, 3, 4, 5, 6, 7, 11, 1, 2, 6, 7, 9, 16, 2, 3, 7, 17, 8, 12, 15, 2, 1, 2, 3, 4, 6, 8, 9, 10, 12, 18, 7, 15, 19, 11, 13, 20, 11, 1, 3, 4, 6, 7, 8, 12, 13, 2, 3, 4, 7, 8, 14, 1, 4, 5, 6, 17, 1, 4, 6, 17, 18, 10, 1, 2, 4, 5, 6, 7, 9, 10, 11, 12, 12, 9, 3, 19, 2, 3, 7, 8, 14, 15, 5, 3, 14, 20, 2, 18, 3, 10, 6, 14, 1, 1, 2, 4, 5, 7, 11, 13, 1, 2, 4, 5, 1, 2, 3, 4, 7, 8, 9, 10, 12, 13, 18, 11, 2, 3, 18, 2, 13, 18, 16, 5, 6, 7, 8, 8, 2, 5, 7, 13, 17, 18, 7, 17, 10, 9, 15, 12, 2, 6, 10, 11, 18, 9, 2, 4, 5, 6, 9, 11, 12, 2, 3, 6, 9, 10, 12, 15, 10, 1, 2, 3, 4, 8, 9, 12, 1, 2, 3, 4, 7, 8, 9, 12, 1, 2, 3, 4, 8, 9, 10, 12, 1, 2, 3, 4, 5, 6, 7, 8, 9, 12, 13, 17, 9, 5, 1, 2, 3, 4, 5, 6, 7, 8, 9, 10, 11, 12, 13, 18, 7, 10, 11, 12, 13, 14, 15, 1, 6, 1, 2, 3, 4, 6, 7, 8, 12, 2, 3, 4, 7, 18, 4, 5, 8, 12, 14, 1, 2, 3, 4, 5, 11, 14, 18, 10, 2, 8, 13, 14, 7, 15, 15, 19, 15, 3, 6, 10, 12, 12, 1, 2, 3, 4, 7, 8, 9, 11, 1, 3, 4, 6, 9, 12, 9, 16, 16, 16, 16, 19, 16, 6, 15, 5, 11, 19, 13, 1, 5, 6, 7, 2, 5, 6, 7, 10, 11, 12, 14, 16, 18, 2, 5, 10, 11, 14, 2, 3, 9, 1, 2, 3, 4, 5, 7, 9, 10, 11, 12, 13, 1, 2, 5, 10, 11, 2, 5, 1, 2, 4, 5, 7, 9, 10, 11, 13, 18, 20, 17, 2, 4, 5, 10, 11, 16, 18, 2, 2, 6, 10, 6, 15, 1, 19, 20, 2, 4, 6, 9, 12, 5, 11, 14, 1, 2, 3, 5, 6, 7, 12, 13, 14, 2, 19, 3, 3, 3, 19, 1, 2, 3, 4, 9, 10, 12, 15, 1, 5, 6, 7, 8, 17, 3, 15, 12, 1, 6, 3, 8, 15, 1, 2, 3, 5, 6, 7, 8, 9, 12, 14, 17, 19, 1, 2, 3, 4, 5, 6, 7, 8, 9, 10, 11, 12, 14, 2, 3, 8, 13, 1, 2, 3, 4, 6, 7, 8, 9, 15, 17, 19, 5, 10, 2, 5, 20, 3, 6, 3, 5, 9, 10, 2, 3, 5, 10, 16, 10, 8, 11, 12, 13, 2, 15, 13, 2, 1, 2, 3, 4, 5, 6, 8, 9, 10, 11, 12, 13, 20, 3, 15, 3, 4, 3, 4, 6, 14, 2, 9, 10, 12, 1, 2, 3, 4, 5, 8, 10, 11, 1, 2, 3, 4, 5, 6, 7, 9, 10, 12, 1, 2, 3, 5, 7, 9, 10, 10, 2, 5, 1, 2, 3, 4, 5, 6, 7, 8, 10, 11, 12, 16, 19, 4, 1, 2, 3, 4, 6, 7, 8, 9, 10, 11, 12, 13, 15, 20, 1, 2, 3, 4, 5, 9, 10, 11, 18, 18, 10, 18, 11, 19, 9, 20, 18, 10, 11, 10, 10, 5, 3, 1, 2, 3, 6, 7, 8, 11, 14, 17, 1, 2, 3, 4, 5, 6, 7, 8, 9, 12, 6, 4, 20, 11], \"Freq\": [0.027113253250718117, 0.9421855211257935, 0.027113253250718117, 0.9730273485183716, 0.9760659337043762, 0.9688970446586609, 0.2888536751270294, 0.21232901513576508, 0.07975810766220093, 0.18322809040546417, 0.03880124166607857, 0.16598309576511383, 0.016167184337973595, 0.005389061290770769, 0.009700310416519642, 0.9868365526199341, 0.9945194721221924, 0.041225332766771317, 0.028540614992380142, 0.020612666383385658, 0.3520009219646454, 0.042810920625925064, 0.2473519891500473, 0.11574804782867432, 0.03329738229513168, 0.09989215433597565, 0.006342358887195587, 0.011099128052592278, 0.05844680592417717, 0.9351488947868347, 0.031604617834091187, 0.005746294278651476, 0.9596312046051025, 0.3271668553352356, 0.6543337106704712, 0.017227940261363983, 0.04306985065340996, 0.9389227628707886, 0.9885863065719604, 0.07439754903316498, 0.8927706480026245, 0.022319264709949493, 0.9857672452926636, 0.9805343151092529, 0.9901123046875, 0.14414481818675995, 0.8517648577690125, 0.010824199765920639, 0.24174046516418457, 0.028864534571766853, 0.7180052995681763, 0.9874937534332275, 0.9801799654960632, 0.9930415153503418, 0.9850558042526245, 0.10983152687549591, 0.24971646070480347, 0.0846959576010704, 0.1445295512676239, 0.20108459889888763, 0.044533681124448776, 0.053003277629613876, 0.02622842602431774, 0.04589974507689476, 0.028687339276075363, 0.004917829763144255, 0.004917829763144255, 0.0008196383132599294, 0.0008196383132599294, 0.15570685267448425, 0.8369243741035461, 0.9959186911582947, 0.4962562918663025, 0.03615112230181694, 0.3401491641998291, 0.06408607959747314, 0.05422668159008026, 0.009859396144747734, 0.9880982041358948, 0.12711471319198608, 0.009930836968123913, 0.07348819077014923, 0.11519771069288254, 0.09732220321893692, 0.5759885311126709, 0.8909754157066345, 0.09899726510047913, 0.9135149717330933, 0.954054057598114, 0.0960162878036499, 0.17923040688037872, 0.14082388579845428, 0.26244452595710754, 0.17282931506633759, 0.14722497761249542, 0.9685274958610535, 0.9826613664627075, 0.910385251045227, 0.16770966351032257, 0.09317203611135483, 0.2888333201408386, 0.4565429985523224, 0.9468216896057129, 0.050177186727523804, 0.2522737383842468, 0.004586794879287481, 0.11237648129463196, 0.03898775950074196, 0.0022933974396437407, 0.591696560382843, 0.10749740153551102, 0.1123560443520546, 0.13968589901924133, 0.10749740153551102, 0.01093193981796503, 0.029151838272809982, 0.4864712953567505, 0.0066806296817958355, 0.9922279119491577, 0.13955439627170563, 0.09029990434646606, 0.20933158695697784, 0.07388173788785934, 0.0205227043479681, 0.053359031677246094, 0.11492715030908585, 0.05746357515454292, 0.23806338012218475, 0.9457952380180359, 0.04919029772281647, 0.002235922496765852, 0.9468700885772705, 0.027048181742429733, 0.3765939176082611, 0.02288692258298397, 0.06866076588630676, 0.5035123229026794, 0.1399008184671402, 0.03859332576394081, 0.7959873676300049, 0.019296662881970406, 0.010431813076138496, 0.9875449538230896, 0.024455877020955086, 0.0366838164627552, 0.5310419201850891, 0.2166091948747635, 0.05939284339547157, 0.012227938510477543, 0.09432981163263321, 0.017468484118580818, 0.006987393368035555, 0.9570006132125854, 0.038280025124549866, 0.979130744934082, 0.9634461402893066, 0.9284735321998596, 0.03621705248951912, 0.0329245924949646, 0.17213773727416992, 0.8176542520523071, 0.19042837619781494, 0.7809973955154419, 0.02651534415781498, 0.934378981590271, 0.052889373153448105, 0.0732879713177681, 0.1511564403772354, 0.7741041779518127, 0.15087755024433136, 0.48129940032958984, 0.36663246154785156, 0.31676849722862244, 0.0774322971701622, 0.6053797602653503, 0.8430544137954712, 0.08808030933141708, 0.06710880994796753, 0.10235162079334259, 0.22086401283740997, 0.4228737950325012, 0.0341172069311142, 0.010773854330182076, 0.03770849108695984, 0.10145379602909088, 0.011671675369143486, 0.05746055766940117, 0.9853248596191406, 0.2657160758972168, 0.14320027828216553, 0.149564728140831, 0.16547587513923645, 0.047733426094055176, 0.017502255737781525, 0.014320027083158493, 0.001591114210896194, 0.19411592185497284, 0.9844951033592224, 0.986693263053894, 0.9790993928909302, 0.9828356504440308, 0.04357072710990906, 0.9440323710441589, 0.9810673594474792, 0.9971469044685364, 0.9889427423477173, 0.9968316555023193, 0.0890493243932724, 0.059366218745708466, 0.8311270475387573, 0.03373422473669052, 0.9614254236221313, 0.1756490170955658, 0.8079854846000671, 0.9777592420578003, 0.01348633412271738, 0.9318625926971436, 0.9846531748771667, 0.9797031879425049, 0.9873182773590088, 0.10913822799921036, 0.2592032849788666, 0.07162196189165115, 0.5252277255058289, 0.03410569578409195, 0.959331750869751, 0.022565998136997223, 0.14793264865875244, 0.7898099422454834, 0.021939164027571678, 0.007521999068558216, 0.005014666356146336, 0.003134166356176138, 0.001253666589036584, 0.9794767498970032, 0.36268630623817444, 0.6179100275039673, 0.2144659012556076, 0.7808758616447449, 0.9880476593971252, 0.9848535060882568, 0.08812687546014786, 0.21484945714473724, 0.5049605369567871, 0.025087211281061172, 0.017368068918585777, 0.06625597178936005, 0.02766025997698307, 0.01222197525203228, 0.008362404070794582, 0.010292189195752144, 0.023800687864422798, 0.9456190466880798, 0.04360659793019295, 0.13081979751586914, 0.8139898180961609, 0.9909820556640625, 0.02927399054169655, 0.9660416841506958, 0.1661538928747177, 0.16039133071899414, 0.1565496325492859, 0.4763718843460083, 0.01248555351048708, 0.007683417294174433, 0.018248116597533226, 0.9891240000724792, 0.9522546529769897, 0.9958025813102722, 0.982232928276062, 0.9953328967094421, 0.9933816194534302, 0.2514555752277374, 0.06813181936740875, 0.07445333153009415, 0.5569952130317688, 0.007726288866251707, 0.019666917622089386, 0.005619118921458721, 0.01404779776930809, 0.0014047797303646803, 0.10649427771568298, 0.3566092848777771, 0.05666667968034744, 0.1279885321855545, 0.19833338260650635, 0.09183910489082336, 0.0605747252702713, 0.0009770117467269301, 0.22357629239559174, 0.25870972871780396, 0.11578058451414108, 0.10380327701568604, 0.1676822155714035, 0.11418361216783524, 0.003193947020918131, 0.0119773019105196, 0.0007984867552295327, 0.9985226988792419, 0.9900188446044922, 0.231972336769104, 0.766640305519104, 0.9304695725440979, 0.06821788847446442, 0.9054374098777771, 0.02480650506913662, 0.9951897859573364, 0.21813900768756866, 0.06074757128953934, 0.13806267082691193, 0.008283759467303753, 0.04418005421757698, 0.2982153594493866, 0.005522506777197123, 0.027612533420324326, 0.005522506777197123, 0.19052647054195404, 0.06354369968175888, 0.10439321398735046, 0.23148061335086823, 0.08623787015676498, 0.01815534196794033, 0.494733065366745, 0.4355502426624298, 0.5605692863464355, 0.8488755226135254, 0.025723500177264214, 0.10032165050506592, 0.0077170501463115215, 0.015434100292623043, 0.02937193401157856, 0.04895322397351265, 0.04895322397351265, 0.8615767359733582, 0.11453955620527267, 0.023800427094101906, 0.4031197428703308, 0.12792730331420898, 0.02231290005147457, 0.05950106680393219, 0.11900213360786438, 0.02528795413672924, 0.02231290005147457, 0.05652601644396782, 0.02528795413672924, 0.35634908080101013, 0.24535509943962097, 0.11975665390491486, 0.1723327487707138, 0.04381341114640236, 0.032129835337400436, 0.029208939522504807, 0.9934400320053101, 0.9503062963485718, 0.03751209005713463, 0.0861431136727333, 0.9019690752029419, 0.010134484618902206, 0.9625522494316101, 0.9896832704544067, 0.972373366355896, 0.9864035248756409, 0.9850562214851379, 0.07738420367240906, 0.12381472438573837, 0.789318859577179, 0.964905858039856, 0.014679592102766037, 0.20551429688930511, 0.13211633265018463, 0.0083883386105299, 0.0167766772210598, 0.6207370758056641, 0.9698729515075684, 0.9692174196243286, 0.19815729558467865, 0.7926291823387146, 0.1250074952840805, 0.8684731125831604, 0.936187207698822, 0.8798177242279053, 0.1168222650885582, 0.9949817061424255, 0.9889858961105347, 0.9168252348899841, 0.07052502036094666, 0.05810421705245972, 0.07055512070655823, 0.045653313398361206, 0.2241162657737732, 0.21996596455574036, 0.01245090365409851, 0.3278737962245941, 0.03735271096229553, 0.1306624561548233, 0.6936401724815369, 0.11453128606081009, 0.03871480002999306, 0.01935740001499653, 0.07653111219406128, 0.8928629755973816, 0.3225114643573761, 0.12521032989025116, 0.1745356172323227, 0.20868389308452606, 0.06829654425382614, 0.09485631436109543, 0.9916425347328186, 0.9882990121841431, 0.9856862425804138, 0.21728412806987762, 0.7688515186309814, 0.9192138910293579, 0.06495778262615204, 0.014707422815263271, 0.8931355476379395, 0.01384706236422062, 0.04846471920609474, 0.03807942196726799, 0.3812129497528076, 0.2293950915336609, 0.08842138200998306, 0.12095377594232559, 0.015014952048659325, 0.040039870887994766, 0.040039870887994766, 0.0842505618929863, 0.9708324670791626, 0.9729920029640198, 0.993391752243042, 0.9801897406578064, 0.8631479144096375, 0.12554877996444702, 0.05799934267997742, 0.9279894828796387, 0.006014885380864143, 0.006014885380864143, 0.12029771506786346, 0.31878894567489624, 0.08019847422838211, 0.12831756472587585, 0.06415878236293793, 0.2746797800064087, 0.9743257761001587, 0.1917404681444168, 0.2060021609067917, 0.05229285731911659, 0.10775497555732727, 0.05229285731911659, 0.003169263945892453, 0.04753895848989487, 0.20917142927646637, 0.11726276576519012, 0.011092424392700195, 0.993972659111023, 0.14622344076633453, 0.02249591238796711, 0.8267248272895813, 0.9912292957305908, 0.9793420433998108, 0.9825805425643921, 0.058982353657484055, 0.25559020042419434, 0.016383986920118332, 0.001638398738577962, 0.02621437981724739, 0.01966078393161297, 0.10321911424398422, 0.45711323618888855, 0.04751356318593025, 0.011468790471553802, 0.9636859893798828, 0.1778961718082428, 0.7827431559562683, 0.09729590266942978, 0.87989342212677, 0.004230256658047438, 0.01692102663218975, 0.15162979066371918, 0.43573614954948425, 0.06703633069992065, 0.27772194147109985, 0.01596103049814701, 0.04947919771075249, 0.3720068037509918, 0.6259873509407043, 0.6061950325965881, 0.39023804664611816, 0.17009064555168152, 0.024298664182424545, 0.20248886942863464, 0.1295928806066513, 0.4454755187034607, 0.024298664182424545, 0.9967890381813049, 0.9777382016181946, 0.004872449673712254, 0.016241498291492462, 0.9946978688240051, 0.9980531930923462, 0.9793412685394287, 0.9977408051490784, 0.9805627465248108, 0.9597525000572205, 0.03139397129416466, 0.9627484083175659, 0.98609858751297, 0.832970380783081, 0.1561819463968277, 0.8597145676612854, 0.1359548568725586, 0.9777352213859558, 0.9747427105903625, 0.020739205181598663, 0.3375166654586792, 0.02755238115787506, 0.6337047219276428, 0.07350292056798935, 0.9114362597465515, 0.9764198064804077, 0.9578857421875, 0.9761570692062378, 0.9644525647163391, 0.027091365307569504, 0.9874878525733948, 0.4714796841144562, 0.5257506966590881, 0.9756668210029602, 0.9978650212287903, 0.9790516495704651, 0.9916151165962219, 0.973405659198761, 0.040891364216804504, 0.038165271282196045, 0.028623955324292183, 0.49069637060165405, 0.054521817713975906, 0.12812627851963043, 0.21808727085590363, 0.9693862795829773, 0.03712267801165581, 0.2412974089384079, 0.030935565009713173, 0.09899380803108215, 0.0804324746131897, 0.5011561512947083, 0.31164413690567017, 0.10612746328115463, 0.5794896483421326, 0.0016845628852024674, 0.22636161744594574, 0.023216575384140015, 0.005804143846035004, 0.09867044538259506, 0.22055746614933014, 0.42370250821113586, 0.9867086410522461, 0.21016354858875275, 0.7576949000358582, 0.022122478112578392, 0.8260344862937927, 0.16778825223445892, 0.16606642305850983, 0.09889349341392517, 0.4179649353027344, 0.24909964203834534, 0.01306140422821045, 0.03451942652463913, 0.01586027629673481, 0.0037318298127502203, 0.9842808842658997, 0.9696335792541504, 0.9852778315544128, 0.9350783228874207, 0.06572500616312027, 0.21234232187271118, 0.6825289130210876, 0.04044615849852562, 0.8599850535392761, 0.12721672654151917, 0.010177337564527988, 0.989789605140686, 0.051599275320768356, 0.9428594708442688, 0.5458980202674866, 0.43221861124038696, 0.008289123885333538, 0.005920803174376488, 0.008289123885333538, 0.9318137764930725, 0.9379580020904541, 0.03819875419139862, 0.03819875419139862, 0.2249482274055481, 0.13581779599189758, 0.5560041069984436, 0.18326148390769958, 0.8105796575546265, 0.9333567023277283, 0.3660457134246826, 0.6194619536399841, 0.9922241568565369, 0.9860464930534363, 0.1721636801958084, 0.07111108303070068, 0.6156722903251648, 0.026198821142315865, 0.005614032968878746, 0.016842098906636238, 0.003742688801139593, 0.009356722235679626, 0.04678361117839813, 0.011228065937757492, 0.018713444471359253, 0.9932159185409546, 0.0167908426374197, 0.8647283911705017, 0.054570235311985016, 0.05876794829964638, 0.9791876673698425, 0.978726863861084, 0.01753990724682808, 0.48329588770866394, 0.315414160490036, 0.00381549377925694, 0.07122255116701126, 0.09538734704256058, 0.027980288490653038, 0.002543662441894412, 0.998524010181427, 0.967301607131958, 0.985939621925354, 0.027279414236545563, 0.15822060406208038, 0.09820589423179626, 0.2236911952495575, 0.06001471355557442, 0.04364706203341484, 0.3819118142127991, 0.9917855262756348, 0.9777947068214417, 0.267752468585968, 0.1368846893310547, 0.2752735912799835, 0.10980859398841858, 0.004136625211685896, 0.0011281705228611827, 0.017674671486020088, 0.04550287500023842, 0.12259452044963837, 0.01917889714241028, 0.9012894630432129, 0.04895893111824989, 0.011127030476927757, 0.026704872027039528, 0.013352436013519764, 0.9791757464408875, 0.9985361099243164, 0.19897055625915527, 0.041888538748025894, 0.07330494374036789, 0.04886996001005173, 0.05236067250370979, 0.06283280998468399, 0.5166252851486206, 0.9660215377807617, 0.9970570206642151, 0.9872878193855286, 0.9920835494995117, 0.005421221721917391, 0.9946830868721008, 0.0327412411570549, 0.9604097008705139, 0.9948710203170776, 0.9591741561889648, 0.9288762807846069, 0.06381592899560928, 0.02311227098107338, 0.06933681666851044, 0.9013785719871521, 0.9803127646446228, 0.9707591533660889, 0.9748244881629944, 0.9913087487220764, 0.9919948577880859, 0.9402690529823303, 0.9831230640411377, 0.9816134572029114, 0.013719934038817883, 0.29317331314086914, 0.6448369026184082, 0.008665221743285656, 0.03971559926867485, 0.9428514838218689, 0.05096494406461716, 0.9708895683288574, 0.04934575781226158, 0.0717756450176239, 0.38579410314559937, 0.43513983488082886, 0.053831733763217926, 0.20909760892391205, 0.06336291134357452, 0.20487341284751892, 0.052802424877882004, 0.05702661722898483, 0.048578232526779175, 0.35694438219070435, 0.002112097106873989, 0.004224194213747978, 0.10937955975532532, 0.03351954370737076, 0.553954541683197, 0.03351954370737076, 0.02999117039144039, 0.06703908741474152, 0.12172886729240417, 0.02117023803293705, 0.028226984664797783, 0.9845116138458252, 0.9560099840164185, 0.959524393081665, 0.9747334718704224, 0.9882631301879883, 0.9815054535865784, 0.9138683080673218, 0.1251498907804489, 0.13726116716861725, 0.048445120453834534, 0.6903429627418518, 0.9725399613380432, 0.02646888978779316, 0.9528800845146179, 0.021236155182123184, 0.9662450551986694, 0.9732411503791809, 0.21104837954044342, 0.7799614071846008, 0.11146114766597748, 0.16212530434131622, 0.20265664160251617, 0.20265664160251617, 0.10132832080125809, 0.21278947591781616, 0.9953537583351135, 0.9842343926429749, 0.9733054637908936, 0.9462327361106873, 0.9855566024780273, 0.9575101137161255, 0.9954060316085815, 0.994023323059082, 0.9752994179725647, 0.023221414536237717, 0.9648889303207397, 0.03056209348142147, 0.05160693824291229, 0.30641621351242065, 0.12417919933795929, 0.5160694122314453, 0.03740498423576355, 0.960061252117157, 0.06929978728294373, 0.8585473895072937, 0.05004984512925148, 0.019249940291047096, 0.02235647477209568, 0.11550845205783844, 0.20866042375564575, 0.6297073364257812, 0.02608255296945572, 0.9913690686225891, 0.8067397475242615, 0.18652941286563873, 0.9690477252006531, 0.018283920362591743, 0.9739008545875549, 0.9825552701950073, 0.9745596051216125, 0.9102969765663147, 0.07186555117368698, 0.08610548824071884, 0.1435091495513916, 0.09088912606239319, 0.03348546847701073, 0.6266565918922424, 0.019134553149342537, 0.9945730566978455, 0.004400765988975763, 0.01837100461125374, 0.8555639386177063, 0.005248858593404293, 0.11809931695461273, 0.9972761273384094, 0.9729920029640198, 0.9856387376785278, 0.013487485237419605, 0.4127170443534851, 0.024277474731206894, 0.5502893924713135, 0.192600280046463, 0.8025011420249939, 0.02701186202466488, 0.9634230732917786, 0.9724032878875732, 0.9846271276473999, 0.22489383816719055, 0.1902947872877121, 0.579534113407135, 0.9901067018508911, 0.10757296532392502, 0.37460702657699585, 0.3429679274559021, 0.1379465013742447, 0.010124513879418373, 0.012655642814934254, 0.013921206817030907, 0.06972666829824448, 0.05578133463859558, 0.12550801038742065, 0.7391027212142944, 0.9571625590324402, 0.9871276617050171, 0.9966323375701904, 0.0019748941995203495, 0.9953466653823853, 0.9649170637130737, 0.2481967657804489, 0.31844112277030945, 0.4308321177959442, 0.9628446698188782, 0.03332923725247383, 0.9632280468940735, 0.9950106143951416, 0.006307077594101429, 0.9933647513389587, 0.9706149101257324, 0.9211599826812744, 0.007499140687286854, 0.18747851252555847, 0.009998854249715805, 0.5699346661567688, 0.21497537195682526, 0.0049994271248579025, 0.9749468564987183, 0.9951092600822449, 0.9655996561050415, 0.9946069717407227, 0.01347860973328352, 0.9839385151863098, 0.9652742147445679, 0.2955326437950134, 0.04546656087040901, 0.6478984951972961, 0.36210504174232483, 0.16553373634815216, 0.025864645838737488, 0.4396989941596985, 0.3081139922142029, 0.14501897990703583, 0.23827481269836426, 0.21198242902755737, 0.0028757306281477213, 0.03656286001205444, 0.049709055572748184, 0.0028757306281477213, 0.00041081864037550986, 0.003286549123004079, 0.00041081864037550986, 0.2572712004184723, 0.6181654930114746, 0.12506239116191864, 0.9111244678497314, 0.9473096132278442, 0.09641475975513458, 0.08899824321269989, 0.704569399356842, 0.019777387380599976, 0.014833039604127407, 0.0766373723745346, 0.11734253913164139, 0.8456755876541138, 0.03237035498023033, 0.9682452082633972, 0.022424567490816116, 0.9642564058303833, 0.008409212343394756, 0.9844430088996887, 0.9818591475486755, 0.035878993570804596, 0.9567731618881226, 0.8603184819221497, 0.08988402038812637, 0.04494201019406319, 0.11647588014602661, 0.035213638097047806, 0.7232339382171631, 0.11647588014602661, 0.008126224391162395, 0.37930142879486084, 0.05914849042892456, 0.1455240547657013, 0.3332970440387726, 0.03567686676979065, 0.026288216933608055, 0.020655028522014618, 0.9968521595001221, 0.292275071144104, 0.25700047612190247, 0.040313802659511566, 0.07054915279150009, 0.32251042127609253, 0.015117675065994263, 0.9767680764198303, 0.014156059361994267, 0.18368123471736908, 0.035937633365392685, 0.7803600430488586, 0.99357008934021, 0.43304330110549927, 0.22252099215984344, 0.34250780940055847, 0.15151482820510864, 0.108024463057518, 0.15923085808753967, 0.23288390040397644, 0.11153174936771393, 0.07505595684051514, 0.16133522987365723, 0.9448345899581909, 0.04107976332306862, 0.07750260084867477, 0.9041970372200012, 0.9396591186523438, 0.9944828152656555, 0.1221245601773262, 0.09411032497882843, 0.2254270613193512, 0.09323488175868988, 0.03808185085654259, 0.06522064656019211, 0.035893239080905914, 0.11555872112512589, 0.04902491346001625, 0.012256228365004063, 0.03458007425069809, 0.031078293919563293, 0.05296441540122032, 0.0017508898163214326, 0.013569395989179611, 0.014882562682032585, 0.4556117057800293, 0.5399842262268066, 0.965772807598114, 0.20176789164543152, 0.0784652903676033, 0.7173969745635986, 0.9845438003540039, 0.07893869280815125, 0.9143731594085693, 0.9806697964668274, 0.9962654113769531, 0.98097163438797, 0.9895302057266235, 0.9675047397613525, 0.027330642566084862, 0.4299256205558777, 0.4299256205558777, 0.03232523426413536, 0.10344075411558151, 0.537367045879364, 0.019277742132544518, 0.045784637331962585, 0.026506895199418068, 0.1903676986694336, 0.045784637331962585, 0.0289166122674942, 0.10602758079767227, 0.9930531978607178, 0.9798027873039246, 0.974757194519043, 0.17962512373924255, 0.1646563559770584, 0.20956264436244965, 0.43409404158592224, 0.9719870686531067, 0.9900273084640503, 0.03920476883649826, 0.9487553834915161, 0.995813250541687, 0.9674423336982727, 0.9856792092323303, 0.04391157999634743, 0.944098949432373, 0.015598546713590622, 0.9827084541320801, 0.9884788393974304, 0.010368659161031246, 0.9670413136482239, 0.03173365443944931, 0.18277540802955627, 0.44990870356559753, 0.36555081605911255, 0.986724853515625, 0.985497236251831, 0.9688060283660889, 0.943474531173706, 0.13379405438899994, 0.8616337180137634, 0.012905591167509556, 0.7098075151443481, 0.10969752818346024, 0.08388634771108627, 0.07743354886770248, 0.14631038904190063, 0.846510112285614, 0.9739022850990295, 0.11393077671527863, 0.04557231068611145, 0.7918188571929932, 0.022786155343055725, 0.022786155343055725, 0.22546103596687317, 0.1747322976589203, 0.4340125024318695, 0.028182629495859146, 0.13527661561965942, 0.9703794717788696, 0.9847795367240906, 0.19227060675621033, 0.09425029158592224, 0.6484420299530029, 0.06409019976854324, 0.9812561869621277, 0.9659289717674255, 0.9938064813613892, 0.12763115763664246, 0.12625877559185028, 0.5372859835624695, 0.02195804752409458, 0.15027539432048798, 0.015096157789230347, 0.015096157789230347, 0.0027447559405118227, 0.004117134027183056, 0.14289934933185577, 0.2846493721008301, 0.1969176083803177, 0.14634732902050018, 0.1172311007976532, 0.06129730865359306, 0.01838919334113598, 0.027966897934675217, 0.004214189946651459, 0.9635024070739746, 0.9521754384040833, 0.039673976600170135, 0.9871024489402771, 0.7801952362060547, 0.007801952306181192, 0.19504880905151367, 0.016384100541472435, 0.11401945352554321, 0.7221232056617737, 0.15787307918071747, 0.004385363310575485, 0.9852221608161926, 0.02204788848757744, 0.08267958462238312, 0.03307183459401131, 0.07716761529445648, 0.01102394424378872, 0.7496282458305359, 0.016535917297005653, 0.9871469140052795, 0.17611433565616608, 0.8229342699050903, 0.9830896258354187, 0.09879601001739502, 0.07409700751304626, 0.3293200433254242, 0.4775140583515167, 0.01646600104868412, 0.008816186338663101, 0.29093414545059204, 0.12048787623643875, 0.03232601657509804, 0.08816186338663101, 0.45844167470932007, 0.974736213684082, 0.06379273533821106, 0.06379273533821106, 0.8612019419670105, 0.9966866374015808, 0.9759910106658936, 0.9936872124671936, 0.9820224642753601, 0.9763892889022827, 0.12134702503681183, 0.8212089538574219, 0.05644047632813454, 0.11272310465574265, 0.6554209589958191, 0.10110216587781906, 0.09296751022338867, 0.03718700259923935, 0.7222387790679932, 0.2760963439941406, 0.96551114320755, 0.9387948513031006, 0.05839136987924576, 0.9342619180679321, 0.9846773743629456, 0.01611151359975338, 0.9666908383369446, 0.9347219467163086, 0.047528233379125595, 0.060323722660541534, 0.8402233123779297, 0.09694883972406387, 0.10659977793693542, 0.24172624945640564, 0.5345003008842468, 0.04954637587070465, 0.03002810664474964, 0.034532323479652405, 0.006040879059582949, 0.9907041788101196, 0.9569240808486938, 0.2373332977294922, 0.2997894287109375, 0.012491226196289062, 0.199859619140625, 0.2373332977294922, 0.9746775031089783, 0.09659235179424286, 0.8977406620979309, 0.9920139312744141, 0.0980972871184349, 0.08281984180212021, 0.15759892761707306, 0.033771198242902756, 0.08121168613433838, 0.010452989488840103, 0.05548125132918358, 0.057893481105566025, 0.4124910533428192, 0.007236685138195753, 0.0016081522917374969, 0.9908261895179749, 0.9868996739387512, 0.836828887462616, 0.15090356767177582, 0.013718506321310997, 0.2640625536441803, 0.015027949586510658, 0.28123733401298523, 0.04293699935078621, 0.05796495079994202, 0.015027949586510658, 0.3220275044441223, 0.002146849874407053, 0.9980180859565735, 0.9702131152153015, 0.06670282781124115, 0.22512204945087433, 0.7087175250053406, 0.98917156457901, 0.07994690537452698, 0.9193894267082214, 0.10507237911224365, 0.0732322633266449, 0.5667540431022644, 0.006368022877722979, 0.17830464243888855, 0.0668642446398735, 0.0015920057194307446, 0.9818706512451172, 0.9913793802261353, 0.9878158569335938, 0.98757404088974, 0.9621500968933105, 0.1696169376373291, 0.8056804537773132, 0.12166488915681839, 0.060832444578409195, 0.25234198570251465, 0.4844065010547638, 0.07660382241010666, 0.9173827171325684, 0.9750787615776062, 0.24323433637619019, 0.01832587458193302, 0.48313668370246887, 0.00832994282245636, 0.23323839902877808, 0.011661920696496964, 0.9696661829948425, 0.982893168926239, 0.9934090971946716, 0.9609288573265076, 0.9621019959449768, 0.022374466061592102, 0.9802746772766113, 0.9742107391357422, 0.9885092377662659, 0.9454734921455383, 0.0548984594643116, 0.9828653931617737, 0.5982148051261902, 0.3904277980327606, 0.009264389052987099, 0.8500874042510986, 0.13191011548042297, 0.014656679704785347, 0.9828627109527588, 0.9258986711502075, 0.93692946434021, 0.9886738061904907, 0.9918517470359802, 0.94252610206604, 0.10357558727264404, 0.3000120520591736, 0.022619957104325294, 0.26786789298057556, 0.3000120520591736, 0.0035715720150619745, 0.9597192406654358, 0.06441187113523483, 0.02167707122862339, 0.556171715259552, 0.042115453630685806, 0.0662699043750763, 0.11643683910369873, 0.07122465968132019, 0.038399383425712585, 0.024154450744390488, 0.9780710339546204, 0.9784712195396423, 0.9688788652420044, 0.05964334309101105, 0.9244717955589294, 0.9473823308944702, 0.2998950779438019, 0.0849260464310646, 0.0743102878332138, 0.039809081703424454, 0.49894049763679504, 0.9886869192123413, 0.9885008335113525, 0.991628110408783, 0.16850130259990692, 0.8237841129302979, 0.006308461539447308, 0.8116887211799622, 0.15350589156150818, 0.02523384615778923, 0.9592827558517456, 0.9854982495307922, 0.9940764307975769, 0.9884123802185059, 0.9664444327354431, 0.023344067856669426, 0.009337627328932285, 0.9008971452713013, 0.09643406420946121, 0.9891639947891235, 0.46719542145729065, 0.054041262716054916, 0.18827278912067413, 0.10459599643945694, 0.005229799542576075, 0.04706819728016853, 0.01045959908515215, 0.10982578992843628, 0.012202865444123745, 0.9878433346748352, 0.30320045351982117, 0.6763702034950256, 0.5044352412223816, 0.2342020720243454, 0.2432098388671875, 0.9933961033821106, 0.9992467164993286, 0.9941622018814087, 0.11102893203496933, 0.26646944880485535, 0.011102893389761448, 0.6078833937644958, 0.05463463440537453, 0.12689334154129028, 0.8177571296691895, 0.01939469762146473, 0.9774927496910095, 0.9201593399047852, 0.0017993421060964465, 0.025190791115164757, 0.42104607820510864, 0.09716447442770004, 0.04678289592266083, 0.14754605293273926, 0.025190791115164757, 0.06657566130161285, 0.1637401431798935, 0.003598684212192893, 0.12088611721992493, 0.09298931807279587, 0.5672348737716675, 0.2045765072107315, 0.023837117478251457, 0.9739165306091309, 0.9921870827674866, 0.9907217621803284, 0.148285374045372, 0.8341052532196045, 0.13054317235946655, 0.33361032605171204, 0.036261990666389465, 0.47140589356422424, 0.02175719477236271, 0.0937640517950058, 0.9001349210739136, 0.9918289184570312, 0.46412718296051025, 0.14872583746910095, 0.18462517857551575, 0.021796029061079025, 0.0012821193085983396, 0.04743841290473938, 0.04230993613600731, 0.007692715618759394, 0.08077351748943329, 0.007082972675561905, 0.025970900431275368, 0.9632843136787415, 0.9670646786689758, 0.9304435849189758, 0.8205418586730957, 0.0898403450846672, 0.08385099470615387, 0.9679170846939087, 0.13522519171237946, 0.12343069911003113, 0.36014336347579956, 0.14647109806537628, 0.004662937484681606, 0.0013714522356167436, 0.03126911073923111, 0.19611766934394836, 0.0010971617884933949, 0.5872827768325806, 0.0051516033709049225, 0.4069766700267792, 0.9855687618255615, 0.09812042862176895, 0.024530107155442238, 0.024530107155442238, 0.8340235948562622, 0.9952720403671265, 0.10435090214014053, 0.12919634580612183, 0.242775559425354, 0.034073762595653534, 0.06601791828870773, 0.08163505792617798, 0.05536986514925957, 0.23993608355522156, 0.015617141500115395, 0.01845662109553814, 0.012777660973370075, 0.9333378076553345, 0.9775075912475586, 0.022501016035676003, 0.9450427293777466, 0.9964523315429688, 0.9842281937599182, 0.9672403931617737, 0.981400191783905, 0.863959550857544, 0.134719118475914, 0.9630452394485474, 0.988619327545166, 0.9777694940567017, 0.01048546377569437, 0.01048546377569437, 0.9576957821846008, 0.2184099704027176, 0.23718729615211487, 0.14725378155708313, 0.19271467626094818, 0.010871084406971931, 0.05929682403802872, 0.048425737768411636, 0.016800766810774803, 0.06819134950637817, 0.32225513458251953, 0.6591582298278809, 0.10507585108280182, 0.1401011347770691, 0.5765700340270996, 0.010777009651064873, 0.006735631264746189, 0.10777010023593903, 0.004041378851979971, 0.005388504825532436, 0.04310803860425949, 0.7906507849693298, 0.009375305846333504, 0.025000816211104393, 0.1718806028366089, 0.9786771535873413, 0.9860338568687439, 0.9934743642807007, 0.24283795058727264, 0.6961354613304138, 0.0566621869802475, 0.2704519033432007, 0.3410045802593231, 0.37628090381622314, 0.031142672523856163, 0.8283951282501221, 0.06539961695671082, 0.02179987169802189, 0.04982827603816986, 0.20251169800758362, 0.026207394897937775, 0.177495539188385, 0.5789452195167542, 0.010721207596361637, 0.002382490551099181, 0.0239553302526474, 0.2581852078437805, 0.20228944718837738, 0.1863192319869995, 0.03460214287042618, 0.29544904828071594, 0.1883726269006729, 0.2591608166694641, 0.25369730591773987, 0.09763070195913315, 0.019716177135705948, 0.0019003544002771378, 0.02945549227297306, 0.051547110080718994, 0.09454263001680374, 0.0038007088005542755, 0.00023754430003464222, 0.05368700250983238, 0.16691777110099792, 0.05368700250983238, 0.02928381972014904, 0.09175596386194229, 0.0029283820185810328, 0.0624721460044384, 0.13177718222141266, 0.03221220150589943, 0.33383554220199585, 0.02928381972014904, 0.0039045091252774, 0.006832891143858433, 0.06141728162765503, 0.2031494677066803, 0.030708640813827515, 0.02362203225493431, 0.033070843666791916, 0.04488185793161392, 0.28818878531455994, 0.29999980330467224, 0.016535421833395958, 0.015472174622118473, 0.03964744880795479, 0.08509696274995804, 0.5811735391616821, 0.028043316677212715, 0.035779401659965515, 0.09670109301805496, 0.10056913644075394, 0.0009670109138824046, 0.015472174622118473, 0.9819162487983704, 0.13546273112297058, 0.21503524482250214, 0.4205975830554962, 0.11272773146629333, 0.01799854449927807, 0.024629589170217514, 0.06252126395702362, 0.008525626733899117, 0.0018945836927741766, 0.9033159017562866, 0.08402938395738602, 0.13397365808486938, 0.07655637711286545, 0.07655637711286545, 0.7081465125083923, 0.9803330302238464, 0.9393942952156067, 0.21831288933753967, 0.7713721990585327, 0.1227358877658844, 0.13966497778892517, 0.28356221318244934, 0.10749971121549606, 0.14812952280044556, 0.0008464544080197811, 0.02962590381503105, 0.08295252919197083, 0.027932994067668915, 0.04824789986014366, 0.00761808967217803, 0.20985548198223114, 0.1746448278427124, 0.03943592682480812, 0.06056232005357742, 0.0014084259746596217, 0.09858982264995575, 0.40280982851982117, 0.012675833888351917, 0.9642530679702759, 0.028360385447740555, 0.9567525386810303, 0.05191772058606148, 0.5414276719093323, 0.4005081355571747, 0.991285502910614, 0.9590454697608948, 0.9797466993331909, 0.6266436576843262, 0.2593008279800415, 0.11164341121912003, 0.032213978469371796, 0.9342054128646851, 0.9801812171936035, 0.9840303063392639, 0.12296520918607712, 0.49186083674430847, 0.007139915134757757, 0.3157429099082947, 0.0031732956413179636, 0.05870597064495087, 0.9837494492530823, 0.8990799784660339, 0.09300827234983444, 0.26387345790863037, 0.33363309502601624, 0.10918901860713959, 0.024264225736260414, 0.054594509303569794, 0.09705690294504166, 0.024264225736260414, 0.08795782178640366, 0.9914804697036743, 0.8727709650993347, 0.028153901919722557, 0.04223085194826126, 0.04223085194826126, 0.009384633973240852, 0.35594651103019714, 0.2450021505355835, 0.08875549584627151, 0.14931263029575348, 0.012943509966135025, 0.0064717549830675125, 0.041604138910770416, 0.037443723529577255, 0.018490727990865707, 0.034670114517211914, 0.007858559489250183, 0.0018490728689357638, 0.9886654615402222, 0.09550751000642776, 0.2371220886707306, 0.1185610443353653, 0.5401114225387573, 0.0032933622132986784, 0.9316163659095764, 0.9805626273155212, 0.2847200930118561, 0.11979076266288757, 0.1271691769361496, 0.2539043426513672, 0.130641371011734, 0.03602403402328491, 0.005208294373005629, 0.01605890691280365, 0.02213525027036667, 0.0017360980855301023, 0.0013020735932514071, 0.0017360980855301023, 0.030030298978090286, 0.06006059795618057, 0.9009089469909668, 0.9621263146400452, 0.9617860913276672, 0.9912037253379822, 0.0025683629792183638, 0.1027345210313797, 0.11043961346149445, 0.18492214381694794, 0.023115267977118492, 0.2516995668411255, 0.3056352138519287, 0.01541017834097147, 0.9849025011062622, 0.18182766437530518, 0.8030721545219421, 0.9870845675468445, 0.2692926824092865, 0.04207698255777359, 0.3366158604621887, 0.3450312614440918, 0.13493163883686066, 0.12557993829250336, 0.5437343716621399, 0.08817314356565475, 0.02671913430094719, 0.025383178144693375, 0.046758487820625305, 0.0013359567383304238, 0.005343826953321695, 0.2332909256219864, 0.06107092276215553, 0.1587844043970108, 0.4140608608722687, 0.03664255514740944, 0.008549929596483707, 0.04152822867035866, 0.01832127757370472, 0.025649787858128548, 0.09211119264364243, 0.07675932347774506, 0.8213247656822205, 0.0076759327203035355, 0.05658859387040138, 0.9411576390266418, 0.014288933016359806, 0.9787919521331787, 0.01959880255162716, 0.10452695190906525, 0.764353334903717, 0.11105988174676895, 0.7972880005836487, 0.02209966816008091, 0.01019984669983387, 0.16829746961593628, 0.9482629895210266, 0.9828916192054749, 0.0666140615940094, 0.9159433245658875, 0.3147788941860199, 0.6799224019050598, 0.30316975712776184, 0.19801974296569824, 0.11512775719165802, 0.1788317859172821, 0.0030700734350830317, 0.049888696521520615, 0.1373857855796814, 0.009210220538079739, 0.0038375919684767723, 0.0015350367175415158, 0.5294573903083801, 0.02451191656291485, 0.03431668132543564, 0.4093489944934845, 0.9946480393409729, 0.2029903084039688, 0.11559169739484787, 0.4116192162036896, 0.2678344249725342, 0.02415616065263748, 0.9662463665008545, 0.9942331314086914, 0.9538877010345459, 0.028688350692391396, 0.014344175346195698, 0.9485381841659546, 0.9491413235664368, 0.09483366459608078, 0.011854208074510098, 0.011854208074510098, 0.8594300746917725, 0.011854208074510098, 0.988158106803894, 0.9961909651756287, 0.9856423139572144, 0.9580673575401306, 0.9773669242858887, 0.9981117248535156, 0.991396427154541, 0.9891958236694336, 0.9906862378120422, 0.9944797158241272, 0.1536068469285965, 0.8448376059532166, 0.9943845868110657, 0.9701098799705505, 0.9838865995407104, 0.9801221489906311, 0.913345992565155, 0.9961759448051453, 0.9979619979858398, 0.9296504855155945, 0.008793072775006294, 0.9408588409423828, 0.04396536573767662, 0.994368314743042, 0.9509623646736145, 0.04321916773915291, 0.9539087414741516, 0.9610545039176941, 0.25137248635292053, 0.26761919260025024, 0.1647234410047531, 0.14576897025108337, 0.04738619551062584, 0.08348996192216873, 0.03565246984362602, 0.001353891333565116, 0.001353891333565116, 0.001353891333565116, 0.9859374165534973, 0.0794193372130394, 0.9089102149009705, 0.12245754152536392, 0.06122877076268196, 0.8112812042236328, 0.07896722108125687, 0.3948361277580261, 0.005264481529593468, 0.5159192085266113, 0.19381186366081238, 0.15462195873260498, 0.08621777594089508, 0.33774566650390625, 0.007125436328351498, 0.02066376432776451, 0.024226482957601547, 0.02066376432776451, 0.136808380484581, 0.0007125436095520854, 0.004987805150449276, 0.011400697752833366, 0.0014250872191041708, 0.41702982783317566, 0.5642168521881104, 0.9943597912788391, 0.9624887108802795, 0.059815626591444016, 0.02462996356189251, 0.18648400902748108, 0.15833547711372375, 0.20759540796279907, 0.0026389246340841055, 0.02199103869497776, 0.04486171901226044, 0.22342896461486816, 0.04398207738995552, 0.017592832446098328, 0.008796416223049164, 0.1406717747449875, 0.8578672409057617, 0.1391015499830246, 0.1437903642654419, 0.22350025177001953, 0.43137112259864807, 0.01250351034104824, 0.009377633221447468, 0.04063640907406807, 0.9967492818832397, 0.9934016466140747, 0.9670031666755676, 0.9828475713729858, 0.9522874355316162, 0.14461497962474823, 0.363832950592041, 0.09468838572502136, 0.07230748981237411, 0.001721606939099729, 0.0005738689796999097, 0.04763112589716911, 0.009181903675198555, 0.05050047114491463, 0.18995064496994019, 0.025250235572457314, 0.07729038596153259, 0.19322596490383148, 0.7213769555091858, 0.04700266197323799, 0.9400532245635986, 0.9873359203338623, 0.13609826564788818, 0.007561014499515295, 0.8468336462974548, 0.22517485916614532, 0.18062588572502136, 0.3474820852279663, 0.20006543397903442, 0.0032399261835962534, 0.02186950109899044, 0.007289833854883909, 0.014579667709767818, 0.8927424550056458, 0.10106518119573593, 0.7756834626197815, 0.19547222554683685, 0.009308201260864735, 0.009308201260864735, 0.012410935014486313, 0.9476103186607361, 0.22924698889255524, 0.7614275217056274, 0.980408251285553, 0.9694533348083496, 0.9651750326156616, 0.29763007164001465, 0.1952197253704071, 0.09921002388000488, 0.3904394507408142, 0.012801294215023518, 0.5628177523612976, 0.42524006962776184, 0.2886749505996704, 0.37704482674598694, 0.017673976719379425, 0.30634891986846924, 0.07837808132171631, 0.9160438179969788, 0.11805879324674606, 0.1344163417816162, 0.03484867885708809, 0.024891914799809456, 0.1557522565126419, 0.1713986098766327, 0.017068741843104362, 0.03342628479003906, 0.17353220283985138, 0.13583873212337494, 0.001422395114786923, 0.9594441652297974, 0.03997684270143509, 0.9483067393302917, 0.03796372190117836, 0.8647292852401733, 0.02530914917588234, 0.0632728710770607, 0.9688255190849304, 0.04022311046719551, 0.8195458650588989, 0.0025139444041997194, 0.06033466383814812, 0.010055777616798878, 0.03770916536450386, 0.027653388679027557, 0.04571821913123131, 0.03809851408004761, 0.14477436244487762, 0.14731426537036896, 0.08889653533697128, 0.39368465542793274, 0.07619702816009521, 0.06095762550830841, 0.12550190091133118, 0.10930810868740082, 0.09716276079416275, 0.5262982845306396, 0.024290690198540688, 0.016193794086575508, 0.09716276079416275, 0.6127123236656189, 0.06252166628837585, 0.3126083314418793, 0.1127401739358902, 0.1127401739358902, 0.17587466537952423, 0.05862488970160484, 0.15032023191452026, 0.018038427457213402, 0.02254803478717804, 0.015032023191452026, 0.3216852843761444, 0.0015032022492960095, 0.009019213728606701, 0.7406370639801025, 0.25364282727241516, 0.9919335842132568, 0.9970617890357971, 0.9810878038406372, 0.9872691035270691, 0.9714052677154541, 0.9822198152542114, 0.9936211705207825, 0.9774640202522278, 0.9904488921165466, 0.07209023088216782, 0.925586998462677, 0.9798065423965454, 0.9768889546394348, 0.9857169389724731, 0.9497060179710388, 0.09607214480638504, 0.5851666927337646, 0.2672552466392517, 0.0017467662692070007, 0.04890945553779602, 0.0017467662692070007, 0.9751016497612, 0.17350104451179504, 0.1465119868516922, 0.5821923613548279, 0.04626694321632385, 0.026989050209522247, 0.003855578601360321, 0.019277893006801605, 0.9865537881851196, 0.007588875014334917, 0.9898636341094971, 0.9945250749588013, 0.9788036346435547, 0.011936629191040993, 0.9826377630233765, 0.22415561974048615, 0.16411393880844116, 0.12008336931467056, 0.15610837936401367, 0.08005557954311371, 0.008005558513104916, 0.24416951835155487, 0.0216235239058733, 0.9514350891113281, 0.9688576459884644, 0.10813900828361511, 0.05046486854553223, 0.05046486854553223, 0.4037189483642578, 0.38209113478660583, 0.9578174352645874, 0.9292886853218079, 0.9779931902885437, 0.31091251969337463, 0.17901022732257843, 0.5087659358978271, 0.022551121190190315, 0.5637780427932739, 0.3946446180343628, 0.9869045615196228, 0.9959003329277039, 0.01510210894048214, 0.4530632793903351, 0.09061264991760254, 0.0030204218346625566, 0.1117556020617485, 0.018122531473636627, 0.2808992266654968, 0.012081687338650227, 0.012081687338650227, 0.9843615293502808, 0.05947011336684227, 0.9217867851257324, 0.995019793510437, 0.9802080988883972, 0.48061445355415344, 0.02301662415266037, 0.251815527677536, 0.1934763640165329, 0.015496340580284595, 0.03327155485749245, 0.002278873696923256, 0.0002278873580507934, 0.7781794667243958, 0.22023947536945343, 0.14596319198608398, 0.05377591401338577, 0.01536454726010561, 0.0960284173488617, 0.02112625166773796, 0.2247065007686615, 0.02112625166773796, 0.4225250482559204, 0.9430210590362549, 0.5817744135856628, 0.08220724761486053, 0.32882899045944214, 0.28149086236953735, 0.044234275817871094, 0.15079866349697113, 0.04624492675065994, 0.347842276096344, 0.12667088210582733, 0.002010648837313056, 0.9893436431884766, 0.04308859631419182, 0.4387202560901642, 0.5170631408691406, 0.9861770868301392, 0.9729840755462646, 0.986733615398407, 0.9885741472244263, 0.9752092957496643, 0.016670245677232742, 0.9408422708511353, 0.01325129996985197, 0.03975389897823334, 0.34448736906051636, 0.6448096632957458, 0.6469430327415466, 0.3381747901439667, 0.9812366962432861, 0.054098766297101974, 0.8655802607536316, 0.0721316933631897, 0.9840844869613647, 0.29277294874191284, 0.01626516319811344, 0.6668717265129089, 0.11554472893476486, 0.8781399726867676, 0.043284621089696884, 0.9522616863250732, 0.047631360590457916, 0.022227967157959938, 0.019052544608712196, 0.8605399131774902, 0.04921907186508179, 0.0740862637758255, 0.0592690072953701, 0.03457358852028847, 0.8248270153999329, 0.9960190057754517, 0.9985185265541077, 0.10741063207387924, 0.09045106172561646, 0.028265956789255142, 0.7575276494026184, 0.011306382715702057, 0.9845508337020874, 0.992228627204895, 0.9866323471069336, 0.08693277090787888, 0.12052042782306671, 0.010537304915487766, 0.08298128098249435, 0.07507830113172531, 0.5294995903968811, 0.04149064049124718, 0.03688056766986847, 0.011854467913508415, 0.003951489459723234, 0.9751083254814148, 0.23923088610172272, 0.08989281952381134, 0.0797436311841011, 0.32912370562553406, 0.026097916066646576, 0.005074594635516405, 0.009424246847629547, 0.047121234238147736, 0.17036138474941254, 0.00362471048720181, 0.978314220905304, 0.3273441195487976, 0.19255535304546356, 0.46213287115097046, 0.0874263197183609, 0.027320725843310356, 0.12294326722621918, 0.024588653817772865, 0.42620331048965454, 0.31145626306533813, 0.8030307292938232, 0.1940043568611145, 0.483322411775589, 0.02164130099117756, 0.4941430389881134, 0.8431764841079712, 0.03608926385641098, 0.11154863983392715, 0.003280842211097479, 0.9741204380989075, 0.021024182438850403, 0.9770426154136658, 0.9912238121032715, 0.954768180847168, 0.9958445429801941, 0.9950045943260193, 0.19721582531929016, 0.05565600097179413, 0.02177843451499939, 0.1718076467514038, 0.059285737574100494, 0.04113704338669777, 0.06049565225839615, 0.008469391614198685, 0.2395627796649933, 0.0060495650395751, 0.12220121920108795, 0.0012099130544811487, 0.014518956653773785, 0.14255566895008087, 0.021480992436408997, 0.24214936792850494, 0.3183092474937439, 0.007811269722878933, 0.10349932312965393, 0.031245078891515732, 0.12498031556606293, 0.007811269722878933, 0.3548813462257385, 0.6353520750999451, 0.21690060198307037, 0.4589616656303406, 0.052056144922971725, 0.034704096615314484, 0.11018550395965576, 0.021690059453248978, 0.09370105713605881, 0.01214643381536007, 0.99064701795578, 0.9674502611160278, 0.9770013689994812, 0.29284462332725525, 0.12201859802007675, 0.5856892466545105, 0.9985900521278381, 0.13697491586208344, 0.14431285858154297, 0.10273118317127228, 0.447614461183548, 0.004891961347311735, 0.04158167168498039, 0.03913569077849388, 0.07827138155698776, 0.9813611507415771, 0.08090796321630478, 0.8370862603187561, 0.023338835686445236, 0.0031118448823690414, 0.012447379529476166, 0.0031118448823690414, 0.03889806196093559, 0.9570331573486328, 0.04143000766634941, 0.9963997602462769, 0.9839896559715271, 0.9617605805397034, 0.02642570622265339, 0.4198751151561737, 0.09983044862747192, 0.44923701882362366, 0.08153468370437622, 0.9104706048965454, 0.9754844903945923, 0.17041362822055817, 0.37218809127807617, 0.04023655131459236, 0.10414166003465652, 0.006508853752166033, 0.000591713993344456, 0.08934880793094635, 0.2130170315504074, 0.002366855973377824, 0.15536460280418396, 0.5015707612037659, 0.07584729045629501, 0.03425361216068268, 0.04404035955667496, 0.04281701520085335, 0.007340060081332922, 0.04159367457032204, 0.08808071911334991, 0.007340060081332922, 0.06724702566862106, 0.8638656139373779, 0.06724702566862106, 0.9539831876754761, 0.07172973453998566, 0.38554733991622925, 0.5379730463027954, 0.9844521880149841, 0.010634318925440311, 0.2727389931678772, 0.15451039373874664, 0.015638703480362892, 0.19204328954219818, 0.348430335521698, 0.0006255481857806444, 0.005004385486245155, 0.961646556854248, 0.9820490479469299, 0.9769003987312317, 0.02078511379659176, 0.9875531196594238, 0.033059459179639816, 0.958724319934845, 0.9829128980636597, 0.9711711406707764, 0.4673501253128052, 0.3293909430503845, 0.05454200506210327, 0.05668090656399727, 0.005347255151718855, 0.08555608242750168, 0.8007655739784241, 0.16760209202766418, 0.01272759959101677, 0.03394026309251785, 0.195156529545784, 0.6321374177932739, 0.029697731137275696, 0.029697731137275696, 0.02545519918203354, 0.03394026309251785, 0.9709778428077698, 0.950699508190155, 0.043543491512537, 0.9750979542732239, 0.9664091467857361, 0.9881080985069275, 0.22456583380699158, 0.09737034142017365, 0.0017544205766171217, 0.4596581757068634, 0.0692996084690094, 0.0035088411532342434, 0.0035088411532342434, 0.14035364985466003, 0.9653438329696655, 0.965677797794342, 0.16012048721313477, 0.03202409669756889, 0.7845904231071472, 0.9400548338890076, 0.052867330610752106, 0.10573466122150421, 0.08811222016811371, 0.017622442916035652, 0.17035028338432312, 0.5580440759658813, 0.9935578107833862, 0.16305071115493774, 0.09077050536870956, 0.052108991891145706, 0.28659945726394653, 0.052949458360672, 0.06891834735870361, 0.0966537743806839, 0.16389118134975433, 0.02101168967783451, 0.0033618705347180367, 0.18838676810264587, 0.1935836523771286, 0.34559229016304016, 0.1643512099981308, 0.03637813404202461, 0.04417344927787781, 0.01494101993739605, 0.011692971922457218, 0.9034057259559631, 0.12788242101669312, 0.7928709983825684, 0.05115296691656113, 0.2591117024421692, 0.7197547554969788, 0.9636834263801575, 0.9759233593940735, 0.19660428166389465, 0.2162647247314453, 0.5898128747940063, 0.983967661857605, 0.029673544690012932, 0.9541186094284058, 0.013695482164621353, 0.9926512241363525, 0.14628751575946808, 0.8310376405715942, 0.018675003200769424, 0.026234382763504982, 0.0787031501531601, 0.8854104280471802, 0.10508253425359726, 0.09735587239265442, 0.5594099164009094, 0.08499322086572647, 0.01081731915473938, 0.07108524441719055, 0.07108524441719055, 0.12854070961475372, 0.31088918447494507, 0.011957275681197643, 0.5171521902084351, 0.029893189668655396, 0.09258545935153961, 0.1053558737039566, 0.019155612215399742, 0.05427423492074013, 0.46931251883506775, 0.1500522941350937, 0.012770408764481544, 0.05427423492074013, 0.04469643160700798, 0.17830130457878113, 0.09764119237661362, 0.5943377017974854, 0.12311280518770218, 0.046786755323410034, 0.888948380947113, 0.0533209927380085, 0.2559407651424408, 0.5118815302848816, 0.1706271767616272, 0.9849709272384644, 0.05692911148071289, 0.7139859199523926, 0.09725389629602432, 0.12097436189651489, 0.009488184936344624, 0.06379612535238266, 0.01739894412457943, 0.9047451019287109, 0.011599295772612095, 0.02517574094235897, 0.0017982672434300184, 0.3003106117248535, 0.36684650182724, 0.08811509609222412, 0.05035148188471794, 0.16544058918952942, 0.9912371039390564, 0.974650502204895, 0.048084210604429245, 0.004808421246707439, 0.15867789089679718, 0.024042105302214622, 0.067317895591259, 0.048084210604429245, 0.10578526556491852, 0.03606315702199936, 0.048084210604429245, 0.4279494881629944, 0.014425262808799744, 0.01682947389781475, 0.9896413087844849, 0.9929789304733276, 0.9820907115936279, 0.9798309803009033, 0.016749247908592224, 0.4354822337627411, 0.09500496834516525, 0.2788524031639099, 0.06008422374725342, 0.003081242088228464, 0.04108322784304619, 0.05494881793856621, 0.025677017867565155, 0.00462186336517334, 0.0010270806960761547, 0.9381932020187378, 0.03306407853960991, 0.026864564046263695, 0.9976030588150024, 0.9640427231788635, 0.9882610440254211, 0.08343853801488876, 0.9094800353050232, 0.9455034136772156, 0.032603565603494644, 0.9761606454849243, 0.11648540198802948, 0.18119950592517853, 0.6341983079910278, 0.07765693217515945, 0.9305312633514404, 0.13255740702152252, 0.19883610308170319, 0.005302296485751867, 0.02120918594300747, 0.6415778398513794, 0.9811047911643982, 0.29656553268432617, 0.12802556157112122, 0.1053374856710434, 0.025929227471351624, 0.019446920603513718, 0.4245910942554474, 0.25429266691207886, 0.03089536912739277, 0.24953952431678772, 0.3945101201534271, 0.0023765668738633394, 0.06416730582714081, 0.07639256864786148, 0.8505038619041443, 0.06620688736438751, 0.07236415147781372, 0.18235765397548676, 0.5094435811042786, 0.23156526684761047, 0.7496068477630615, 0.10494495928287506, 0.10494495928287506, 0.02998427487909794, 0.9376076459884644, 0.99415522813797, 0.031675565987825394, 0.00580718694254756, 0.622424840927124, 0.15626612305641174, 0.0686303898692131, 0.1103365495800972, 0.00422340864315629, 0.9062891006469727, 0.01360794436186552, 0.0027215888258069754, 0.03538065403699875, 0.03265906497836113, 0.005443177651613951, 0.9840899705886841, 0.9658015966415405, 0.9942867755889893, 0.9860021471977234, 0.11754172295331955, 0.8750327825546265, 0.1143513172864914, 0.05786452069878578, 0.5083811283111572, 0.26452353596687317, 0.05235361307859421, 0.9701365232467651, 0.32035040855407715, 0.032035041600465775, 0.5445957183837891, 0.09610512107610703, 0.053801193833351135, 0.9146202802658081, 0.1719134896993637, 0.04297837242484093, 0.7736107110977173, 0.5836006999015808, 0.15001003444194794, 0.030823981389403343, 0.024659184738993645, 0.02260425314307213, 0.170559361577034, 0.01643945649266243, 0.11874669045209885, 0.7124801278114319, 0.15437069535255432, 0.9516873359680176, 0.04325851425528526, 0.9879035949707031, 0.9922984838485718, 0.9870905876159668, 0.9949092268943787, 0.13777711987495422, 0.2845888137817383, 0.5736948847770691, 0.9218178391456604, 0.06584413349628448, 0.9901588559150696, 0.9991362690925598, 0.9740874767303467, 0.969700038433075, 0.96527498960495, 0.9978131651878357, 0.23929670453071594, 0.16966529190540314, 0.1294555962085724, 0.0647277981042862, 0.03530606999993324, 0.16574238240718842, 0.0647277981042862, 0.012749414891004562, 0.019614484161138535, 0.09905314445495605, 0.11243802309036255, 0.3335661292076111, 0.5397024750709534, 0.01124380249530077, 0.1304677277803421, 0.8635720610618591, 0.0022544614039361477, 0.0450892299413681, 0.015781229361891747, 0.10145076364278793, 0.0766516923904419, 0.7574990391731262, 0.24114340543746948, 0.7541211843490601, 0.2749110162258148, 0.1374555081129074, 0.1753055900335312, 0.4103744328022003, 0.3242279589176178, 0.07205066084861755, 0.5764052867889404, 0.9753609299659729, 0.9777032732963562, 0.11893226951360703, 0.8782690763473511, 0.9793548583984375, 0.04349450767040253, 0.049070727080106735, 0.013382925651967525, 0.014498169533908367, 0.5174731016159058, 0.012267681770026684, 0.18847620487213135, 0.10371767729520798, 0.010037194006145, 0.03791828826069832, 0.0033457314129918814, 0.0033457314129918814, 0.9950987100601196, 0.989372730255127, 0.9885129928588867, 0.21245600283145905, 0.7827326059341431, 0.48851218819618225, 0.16792607307434082, 0.33890533447265625, 0.7384240031242371, 0.25665611028671265, 0.001433833036571741, 0.002867666073143482, 0.9945955276489258, 0.9920395612716675, 0.0886867567896843, 0.9046049118041992, 0.9943971037864685, 0.9832189679145813, 0.9641602039337158, 0.003192583564668894, 0.02554066851735115, 0.006385167129337788, 0.991678774356842, 0.0311870276927948, 0.311870276927948, 0.6471308469772339, 0.9782963991165161, 0.9918088316917419, 0.9879860281944275, 0.980144739151001, 0.9808705449104309, 0.9884307980537415, 0.9758579134941101, 0.24698905646800995, 0.22396992146968842, 0.14309190213680267, 0.154912531375885, 0.021152716130018234, 0.0242634080350399, 0.04603826254606247, 0.09767577797174454, 0.025507686659693718, 0.008709941990673542, 0.005599248223006725, 0.001866416074335575, 0.9749014377593994, 0.9098683595657349, 0.07483766227960587, 0.011816472746431828, 0.03641347959637642, 0.2874748408794403, 0.030663983896374702, 0.11882293224334717, 0.0689939633011818, 0.43887826800346375, 0.01724849082529545, 0.9928645491600037, 0.9727391600608826, 0.9850298762321472, 0.9793278574943542, 0.009894812479615211, 0.4155821204185486, 0.4650561809539795, 0.05936887487769127, 0.004947406239807606, 0.04452665522694588, 0.9853011965751648, 0.9287738800048828, 0.05191903933882713, 0.01730634644627571, 0.7430639863014221, 0.11947303265333176, 0.014569882303476334, 0.12238700687885284, 0.988498330116272, 0.3531261384487152, 0.6042380928993225, 0.03574857488274574, 0.005231498274952173, 0.9921754002571106, 0.9618075489997864, 0.17129574716091156, 0.11324551701545715, 0.32451027631759644, 0.1760539561510086, 0.0019032859709113836, 0.2103131115436554, 0.0009516429854556918, 0.1248961016535759, 0.15522800385951996, 0.3586302399635315, 0.2242182344198227, 0.005947433412075043, 0.03806357458233833, 0.07136920094490051, 0.01962652988731861, 0.001189486705698073, 0.9933803081512451, 0.048945266753435135, 0.11964398622512817, 0.6471651792526245, 0.0625411719083786, 0.03806854039430618, 0.002719181589782238, 0.07885626703500748, 0.0663299560546875, 0.7722702026367188, 0.049747467041015625, 0.09949493408203125, 0.01421356201171875, 0.020330946892499924, 0.04879426956176758, 0.17891232669353485, 0.5814650654792786, 0.12198567390441895, 0.04472808167338371, 0.13871417939662933, 0.7653196454048157, 0.009566495195031166, 0.08131521195173264, 0.023559603840112686, 0.04796062409877777, 0.03365657851099968, 0.006731315515935421, 0.8876922130584717, 0.9910523295402527, 0.9704504609107971, 0.0018275902839377522, 0.027413854375481606, 0.9898989200592041, 0.9839738011360168, 0.9855811595916748, 0.9871575236320496, 0.009356943890452385, 0.9827289581298828, 0.948579728603363, 0.9869520664215088, 0.04509323835372925, 0.07515539228916168, 0.07515539228916168, 0.7966471910476685, 0.06025005504488945, 0.81337571144104, 0.058241717517375946, 0.02811669185757637, 0.0401667021214962, 0.6341147422790527, 0.044192761182785034, 0.002055477350950241, 0.030832160264253616, 0.05858110263943672, 0.05858110263943672, 0.15929949283599854, 0.012332864105701447, 0.41561728715896606, 0.01586325466632843, 0.21256762742996216, 0.3363009989261627, 0.009517952799797058, 0.011104278266429901, 0.18510982394218445, 0.22297319769859314, 0.23559431731700897, 0.34918445348739624, 0.9651490449905396, 0.024331487715244293, 0.9648783802986145, 0.9887512922286987, 0.1850363314151764, 0.20045602321624756, 0.3238135576248169, 0.1320730298757553, 0.014749272726476192, 0.05966751277446747, 0.03620275855064392, 0.038884446024894714, 0.008045057766139507, 0.000670421461109072, 0.9790046811103821, 0.9027218818664551, 0.07319366931915283, 0.8662851452827454, 0.12007912993431091, 0.008577081374824047, 0.9918327331542969, 0.38349199295043945, 0.04591101408004761, 0.1944466382265091, 0.0135032394900918, 0.01080259121954441, 0.04050971940159798, 0.029707126319408417, 0.2808673679828644, 0.20638170838356018, 0.25298404693603516, 0.0399448461830616, 0.08654716610908508, 0.0399448461830616, 0.3661611080169678, 0.005238428246229887, 0.1414375603199005, 0.015715284273028374, 0.7176646590232849, 0.11524541676044464, 0.12461908161640167, 0.1854795664548874, 0.62889164686203, 0.04057365655899048, 0.02028682827949524, 0.9727315306663513, 0.12552930414676666, 0.06334047019481659, 0.17620167136192322, 0.4341701567173004, 0.0115164490416646, 0.03224605694413185, 0.006909869611263275, 0.051824022084474564, 0.05297566577792168, 0.043762508779764175, 0.9671807885169983, 0.9791425466537476, 0.9956430196762085, 0.9782222509384155, 0.0985921174287796, 0.18161705136299133, 0.6019307971000671, 0.015567176043987274, 0.04670152813196182, 0.04670152813196182, 0.9758474230766296, 0.9884617924690247, 0.17929986119270325, 0.8068493604660034, 0.22576174139976501, 0.7619458436965942, 0.08688786625862122, 0.8978412747383118, 0.9496418833732605, 0.04189596325159073, 0.9911389350891113, 0.1575230211019516, 0.5149791240692139, 0.014913422986865044, 0.26983973383903503, 0.005592533387243748, 0.0018641778733581305, 0.03541937842965126, 0.028141289949417114, 0.2856341004371643, 0.05487551540136337, 0.6289578676223755, 0.23334021866321564, 0.1416960209608078, 0.3708065152168274, 0.13535143435001373, 0.0014099107356742024, 0.035952724516391754, 0.05287165194749832, 0.02326352708041668, 0.0021148661617189646, 0.0014099107356742024, 0.0021148661617189646, 0.9588267207145691, 0.9490751028060913, 0.014336482621729374, 0.03154025971889496, 0.6314530372619629, 0.09905146062374115, 0.27239152789115906, 0.9686716198921204, 0.005014953203499317, 0.0012537383008748293, 0.03886588662862778, 0.9528411030769348, 0.9958517551422119, 0.12754394114017487, 0.20649972558021545, 0.5931805968284607, 0.04251464828848839, 0.03036760725080967, 0.9661558270454407, 0.9888558983802795, 0.9842138290405273, 0.9285483360290527, 0.22646179795265198, 0.7643085718154907, 0.9806756973266602, 0.09582992643117905, 0.08711811155080795, 0.5575559139251709, 0.03484724462032318, 0.21779528260231018, 0.9887630939483643, 0.2425927370786667, 0.061314646154642105, 0.20527076721191406, 0.05065122991800308, 0.35989031195640564, 0.07730977237224579, 0.983913242816925, 0.10471373796463013, 0.007139572873711586, 0.007932858541607857, 0.0047597154043614864, 0.8638883233070374, 0.0031731436029076576, 0.007932858541607857, 0.9863942861557007, 0.16825896501541138, 0.16369085013866425, 0.27408701181411743, 0.32281357049942017, 0.0022840583696961403, 0.06319228559732437, 0.004568116739392281, 0.26200515031814575, 0.11540703475475311, 0.243290513753891, 0.24266669154167175, 0.017778921872377396, 0.05926307290792465, 0.04772236943244934, 0.011540703475475311, 0.09870591014623642, 0.09306557476520538, 0.5034001469612122, 0.18754123151302338, 0.0028201688546687365, 0.021151266992092133, 0.0239714365452528, 0.06909413635730743, 0.9929198622703552, 0.16791072487831116, 0.30455532670021057, 0.05095221847295761, 0.06832229346036911, 0.1632786989212036, 0.02431810460984707, 0.09379840642213821, 0.030108129605650902, 0.05905825272202492, 0.018528079614043236, 0.02084408886730671, 0.9838756918907166, 0.9668400287628174, 0.14006298780441284, 0.16820204257965088, 0.32438966631889343, 0.12646770477294922, 0.020551001653075218, 0.01201443187892437, 0.018970156088471413, 0.0357271283864975, 0.11002690345048904, 0.011698262766003609, 0.029719911515712738, 0.0006323385168798268, 0.0015808462630957365, 0.9099002480506897, 0.020889468491077423, 0.05918682739138603, 0.6997972130775452, 0.12881839275360107, 0.010444734245538712, 0.020889468491077423, 0.055705249309539795, 0.01893295906484127, 0.9718918800354004, 0.2194136083126068, 0.04033338278532028, 0.1290668249130249, 0.16133353114128113, 0.10164012759923935, 0.30653372406959534, 0.02420003153383732, 0.017746688798069954, 0.095115065574646, 0.7894550561904907, 0.06816580146551132, 0.047557532787323, 0.9261534810066223, 0.10614017397165298, 0.042456068098545074, 0.1167541891336441, 0.5094728469848633, 0.21228034794330597, 0.003979346249252558, 0.003979346249252558, 0.9291774034500122, 0.06167986989021301, 0.9907888174057007, 0.1883096694946289, 0.1883096694946289, 0.5918303728103638, 0.9815585017204285, 0.014759092591702938, 0.890465259552002, 0.009839395061135292, 0.0836348608136177, 0.9748334884643555, 0.9561936259269714, 0.8669818639755249, 0.12137746065855026, 0.9709374308586121, 0.08032966405153275, 0.9145223498344421, 0.952844500541687, 0.9663309454917908, 0.9738882184028625, 0.21361881494522095, 0.11599211394786835, 0.04059723764657974, 0.5248643159866333, 0.015465615317225456, 0.02319842204451561, 0.017398817464709282, 0.04929664731025696, 0.06962145119905472, 0.015720972791314125, 0.8871120810508728, 0.02695024013519287, 0.9601302146911621, 0.025266584008932114, 0.9826996326446533, 0.9960421323776245, 0.998137354850769, 0.9716911315917969, 0.9978649020195007, 0.9502639770507812, 0.95917147397995, 0.9829128384590149, 0.943368673324585, 0.44528132677078247, 0.06679219752550125, 0.4786774218082428, 0.9792298078536987, 0.2463650405406952, 0.0307956300675869, 0.24379873275756836, 0.4773322641849518, 0.0016725691966712475, 0.20907115936279297, 0.1906728893518448, 0.09366387873888016, 0.03679652512073517, 0.003345138393342495, 0.041814230382442474, 0.2977173328399658, 0.08362846076488495, 0.041814230382442474, 0.07683606445789337, 0.857589602470398, 0.049571651965379715, 0.01487149577587843, 0.9831112623214722, 0.9923404455184937, 0.9801163077354431, 0.9661554098129272, 0.16048535704612732, 0.4416983723640442, 0.031515251845121384, 0.1018185093998909, 0.08630330860614777, 0.021333402022719383, 0.038788001984357834, 0.04218195378780365, 0.019878851249814034, 0.006303050555288792, 0.04993955418467522, 0.02040218934416771, 0.03524014353752136, 0.7882663607597351, 0.0871729850769043, 0.06677079945802689, 0.10350190103054047, 0.8938800096511841, 0.1387549191713333, 0.3456372320652008, 0.01937568560242653, 0.19500690698623657, 0.0006250221049413085, 0.07812776416540146, 0.18750663101673126, 0.021250752732157707, 0.013750487007200718, 0.9928063154220581, 0.9343231916427612, 0.9870908260345459, 0.1762724369764328, 0.044815026223659515, 0.5676569938659668, 0.10456839203834534, 0.011950673535466194, 0.0019917788449674845, 0.09162183105945587, 0.9929276704788208, 0.9033286571502686, 0.012098152190446854, 0.08267070353031158, 0.9964056611061096, 0.9665755033493042, 0.9921154975891113, 0.932285726070404, 0.9271512627601624, 0.09269049763679504, 0.030896833166480064, 0.051494721323251724, 0.7312250733375549, 0.09269049763679504, 0.976087749004364, 0.024250628426671028, 0.9740785360336304, 0.03804969787597656, 0.2359081208705902, 0.15600375831127167, 0.08751430362462997, 0.03424472734332085, 0.03043975867331028, 0.045659635215997696, 0.3500572144985199, 0.01521987933665514, 0.9955213069915771, 0.9817642569541931, 0.9861606359481812, 0.9835977554321289, 0.9713414311408997, 0.9821953177452087, 0.2630697786808014, 0.2120501846075058, 0.216301828622818, 0.08822137862443924, 0.09247301518917084, 0.12329735606908798, 0.0031887246295809746, 0.0021258164197206497, 0.026988651603460312, 0.09568703919649124, 0.2674330174922943, 0.35085248947143555, 0.20364165306091309, 0.05643082037568092, 0.18940722942352295, 0.8068748116493225, 0.9707768559455872, 0.9754172563552856, 0.022989632561802864, 0.9900266528129578, 0.04281654208898544, 0.9562361240386963, 0.021300695836544037, 0.1704055666923523, 0.14910487830638885, 0.06626883149147034, 0.10887023061513901, 0.20353998243808746, 0.06626883149147034, 0.021300695836544037, 0.13253766298294067, 0.014200464822351933, 0.0023667439818382263, 0.035501159727573395, 0.2673768103122711, 0.1801394522190094, 0.2511378228664398, 0.1363319605588913, 0.009063620120286942, 0.007553017232567072, 0.012462478131055832, 0.06306768953800201, 0.04154159501194954, 0.009063620120286942, 0.016994288191199303, 0.003776508616283536, 0.001510603353381157, 0.03382799029350281, 0.9439619779586792, 0.01771942339837551, 0.0016108566196635365, 0.24057795107364655, 0.0024801851250231266, 0.06200462952256203, 0.019841481000185013, 0.0024801851250231266, 0.30258259177207947, 0.039682962000370026, 0.2058553695678711, 0.10416777431964874, 0.004960370250046253, 0.012400925159454346, 0.9450861811637878, 0.0514332614839077, 0.10578204691410065, 0.24682478606700897, 0.6346923112869263, 0.9835084080696106, 0.010518806986510754, 0.0479879155755043, 0.07490796595811844, 0.0011704369680956006, 0.8754868507385254, 0.17056411504745483, 0.005427040159702301, 0.019382286816835403, 0.8039772510528564, 0.9536656737327576, 0.9621738791465759, 0.1332910656929016, 0.8552843332290649, 0.13604611158370972, 0.8533802032470703, 0.4653163552284241, 0.531118631362915, 0.9936820268630981, 0.9929881691932678, 0.31412091851234436, 0.20330160856246948, 0.11480561643838882, 0.17460019886493683, 0.05102471634745598, 0.002391783520579338, 0.01116165705025196, 0.09726586937904358, 0.0015945223858579993, 0.019134268164634705, 0.004783567041158676, 0.0031890447717159986, 0.0015945223858579993, 0.991387665271759, 0.9633892774581909, 0.9917473793029785, 0.004591423086822033, 0.47575804591178894, 0.09616386145353317, 0.4251454770565033, 0.9660552144050598, 0.06670189648866653, 0.10561133176088333, 0.7837472558021545, 0.038909438997507095, 0.0968777984380722, 0.13320696353912354, 0.05298004299402237, 0.5661296248435974, 0.124124675989151, 0.010596008971333504, 0.006054862402379513, 0.007568577770143747, 0.04000247269868851, 0.38481253385543823, 0.1498684138059616, 0.07549762725830078, 0.041129302233457565, 0.019156113266944885, 0.1070488691329956, 0.07380738109350204, 0.10817570239305496, 0.0005634151166304946, 0.09344618767499924, 0.21862882375717163, 0.11636695265769958, 0.04936780035495758, 0.31560128927230835, 0.05113093554973602, 0.15339280664920807, 0.9452518820762634, 0.013648583553731441, 0.9690493941307068, 0.2411363124847412, 0.048058636486530304, 0.03541162610054016, 0.3128027021884918, 0.06913698464632034, 0.14248964190483093, 0.014333277009427547, 0.05143117159605026, 0.0008431339520029724, 0.005901937838643789, 0.05986250936985016, 0.01939208060503006, 0.9599008560180664, 0.9952702522277832, 0.36334162950515747, 0.13673648238182068, 0.16024774312973022, 0.1605571061372757, 0.0006187171675264835, 0.008816719055175781, 0.02923438511788845, 0.02706887573003769, 0.1020883321762085, 0.0032482650130987167, 0.007269926369190216, 0.00030935858376324177, 0.00030935858376324177, 0.9539840221405029, 0.11185739189386368, 0.14718078076839447, 0.06475954502820969, 0.06868436932563782, 0.1746545284986496, 0.04513544216752052, 0.06475954502820969, 0.32379773259162903, 0.973360538482666, 0.979285717010498, 0.08646704256534576, 0.8934927582740784, 0.9518075585365295, 0.9705928564071655, 0.2822936475276947, 0.705734133720398, 0.9634706377983093, 0.951030433177948, 0.044348567724227905, 0.9817618131637573, 0.9555044770240784, 0.9893659353256226, 0.9889525175094604, 0.08986618369817734, 0.07317674905061722, 0.11554224044084549, 0.0808795690536499, 0.1078394204378128, 0.38642460107803345, 0.10398801416158676, 0.0077028158120810986, 0.03402077034115791, 0.2456645667552948, 0.10865932703018188, 0.31585443019866943, 0.009448637254536152, 0.0013498052721843123, 0.17075036466121674, 0.060066334903240204, 0.07153967767953873, 0.011473344638943672, 0.004049415700137615, 0.9892080426216125, 0.1247565820813179, 0.8732960820198059, 0.9653497934341431], \"Term\": [\"absolute\", \"absolute\", \"absolute\", \"accelerator\", \"accelerators\", \"accessories\", \"actually\", \"actually\", \"actually\", \"actually\", \"actually\", \"actually\", \"actually\", \"actually\", \"actually\", \"adaptec\", \"adapter\", \"address\", \"address\", \"address\", \"address\", \"address\", \"address\", \"address\", \"address\", \"address\", \"address\", \"address\", \"addresses\", \"addresses\", \"administration\", \"administration\", \"administration\", \"adobe\", \"adobe\", \"advance\", \"advance\", \"advance\", \"aerospace\", \"afraid\", \"afraid\", \"afraid\", \"aged\", \"aggression\", \"aids\", \"aircraft\", \"aircraft\", \"algorithm\", \"algorithm\", \"algorithm\", \"algorithm\", \"allah\", \"allocated\", \"allocation\", \"alomar\", \"also\", \"also\", \"also\", \"also\", \"also\", \"also\", \"also\", \"also\", \"also\", \"also\", \"also\", \"also\", \"also\", \"also\", \"aluminum\", \"aluminum\", \"amendment\", \"american\", \"american\", \"american\", \"american\", \"american\", \"american\", \"ames\", \"among\", \"among\", \"among\", \"among\", \"among\", \"among\", \"analog\", \"analog\", \"anas\", \"anatolia\", \"andrew\", \"andrew\", \"andrew\", \"andrew\", \"andrew\", \"andrew\", \"anecdotal\", \"ankara\", \"anniversary\", \"annual\", \"annual\", \"annual\", \"annual\", \"anonymous\", \"anonymous\", \"anybody\", \"anybody\", \"anybody\", \"anybody\", \"anybody\", \"anybody\", \"anyone\", \"anyone\", \"anyone\", \"anyone\", \"anyone\", \"anyone\", \"anyone\", \"anyone\", \"apartment\", \"appears\", \"appears\", \"appears\", \"appears\", \"appears\", \"appears\", \"appears\", \"appears\", \"appears\", \"apple\", \"apple\", \"apple\", \"appletalk\", \"application\", \"application\", \"application\", \"application\", \"application\", \"appreciate\", \"appreciate\", \"appreciate\", \"appreciate\", \"appreciated\", \"appreciated\", \"april\", \"april\", \"april\", \"april\", \"april\", \"april\", \"april\", \"april\", \"april\", \"arab\", \"arab\", \"arafat\", \"archbishop\", \"archive\", \"archive\", \"archive\", \"argic\", \"argic\", \"argument\", \"argument\", \"argument\", \"argv\", \"argv\", \"armenia\", \"armenia\", \"armenia\", \"armenian\", \"armenian\", \"armenian\", \"armenians\", \"armenians\", \"armenians\", \"arms\", \"arms\", \"arms\", \"around\", \"around\", \"around\", \"around\", \"around\", \"around\", \"around\", \"around\", \"around\", \"arrest\", \"article\", \"article\", \"article\", \"article\", \"article\", \"article\", \"article\", \"article\", \"article\", \"asala\", \"assault\", \"assure\", \"astronomical\", \"astronomy\", \"astronomy\", \"astros\", \"atheism\", \"atheist\", \"atheists\", \"atlanta\", \"atlanta\", \"atlanta\", \"atmosphere\", \"atmosphere\", \"attorney\", \"attorney\", \"audio\", \"audio\", \"augustine\", \"austin\", \"auth\", \"authentication\", \"author\", \"author\", \"author\", \"author\", \"author\", \"authorization\", \"available\", \"available\", \"available\", \"available\", \"available\", \"available\", \"available\", \"available\", \"aviation\", \"award\", \"award\", \"azerbaijan\", \"azerbaijan\", \"azeri\", \"babies\", \"back\", \"back\", \"back\", \"back\", \"back\", \"back\", \"back\", \"back\", \"back\", \"back\", \"back\", \"backwards\", \"baltimore\", \"baltimore\", \"baltimore\", \"bandwidth\", \"baseball\", \"baseball\", \"based\", \"based\", \"based\", \"based\", \"based\", \"based\", \"based\", \"batf\", \"batman\", \"battery\", \"bears\", \"belief\", \"beliefs\", \"believe\", \"believe\", \"believe\", \"believe\", \"believe\", \"believe\", \"believe\", \"believe\", \"believe\", \"best\", \"best\", \"best\", \"best\", \"best\", \"best\", \"best\", \"best\", \"better\", \"better\", \"better\", \"better\", \"better\", \"better\", \"better\", \"better\", \"better\", \"bible\", \"biblical\", \"bike\", \"bike\", \"billboard\", \"billion\", \"billion\", \"billion\", \"bios\", \"black\", \"black\", \"black\", \"black\", \"black\", \"black\", \"black\", \"black\", \"black\", \"black\", \"block\", \"block\", \"block\", \"block\", \"block\", \"block\", \"blood\", \"blood\", \"board\", \"board\", \"board\", \"board\", \"board\", \"bodies\", \"bodies\", \"bodies\", \"bodies\", \"book\", \"book\", \"book\", \"book\", \"book\", \"book\", \"book\", \"book\", \"book\", \"book\", \"book\", \"books\", \"books\", \"books\", \"books\", \"books\", \"books\", \"books\", \"boot\", \"borland\", \"borland\", \"boston\", \"boston\", \"boston\", \"bounced\", \"braves\", \"breaker\", \"briefing\", \"bruins\", \"budget\", \"budget\", \"budget\", \"buffering\", \"build\", \"build\", \"build\", \"build\", \"build\", \"build\", \"builder\", \"bullshit\", \"byte\", \"byte\", \"bytes\", \"bytes\", \"cabinet\", \"cable\", \"cable\", \"cache\", \"cadre\", \"calgary\", \"calgary\", \"california\", \"california\", \"california\", \"california\", \"california\", \"california\", \"california\", \"california\", \"came\", \"came\", \"came\", \"came\", \"came\", \"campbell\", \"campbell\", \"canada\", \"canada\", \"canada\", \"canada\", \"canada\", \"canada\", \"cancer\", \"candida\", \"cape\", \"captain\", \"captain\", \"card\", \"card\", \"card\", \"cards\", \"cards\", \"cards\", \"cards\", \"case\", \"case\", \"case\", \"case\", \"case\", \"case\", \"case\", \"case\", \"cassette\", \"catbyte\", \"catholic\", \"cdrom\", \"cell\", \"cell\", \"cellular\", \"cellular\", \"center\", \"center\", \"center\", \"center\", \"center\", \"center\", \"center\", \"center\", \"challenges\", \"change\", \"change\", \"change\", \"change\", \"change\", \"change\", \"change\", \"change\", \"change\", \"change\", \"char\", \"character\", \"character\", \"character\", \"charges\", \"chars\", \"chastity\", \"check\", \"check\", \"check\", \"check\", \"check\", \"check\", \"check\", \"check\", \"check\", \"check\", \"chelios\", \"cherry\", \"cherry\", \"chicago\", \"chicago\", \"chicago\", \"chicago\", \"children\", \"children\", \"children\", \"children\", \"children\", \"children\", \"chip\", \"chip\", \"chips\", \"chips\", \"chris\", \"chris\", \"chris\", \"chris\", \"chris\", \"chris\", \"christ\", \"christian\", \"christian\", \"christian\", \"christianity\", \"christians\", \"chronic\", \"church\", \"cica\", \"cigarettes\", \"cipher\", \"cipher\", \"ciphertext\", \"circuits\", \"circuits\", \"citizens\", \"citizens\", \"civic\", \"civil\", \"civil\", \"claim\", \"claim\", \"claim\", \"classified\", \"classified\", \"clemens\", \"clement\", \"click\", \"client\", \"client\", \"clinical\", \"clinton\", \"clinton\", \"clip\", \"clipper\", \"cluster\", \"coach\", \"cobra\", \"code\", \"code\", \"code\", \"code\", \"code\", \"code\", \"code\", \"coding\", \"college\", \"college\", \"college\", \"college\", \"college\", \"college\", \"color\", \"color\", \"color\", \"color\", \"colorado\", \"colorado\", \"colorado\", \"colorado\", \"colorado\", \"colorado\", \"colormap\", \"colors\", \"colors\", \"colors\", \"column\", \"column\", \"come\", \"come\", \"come\", \"come\", \"come\", \"come\", \"come\", \"come\", \"comic\", \"comics\", \"comm\", \"commanded\", \"committee\", \"committee\", \"committee\", \"committee\", \"comp\", \"comp\", \"comp\", \"compass\", \"compatible\", \"compatible\", \"computer\", \"computer\", \"computer\", \"computer\", \"computer\", \"conception\", \"conclusive\", \"conference\", \"conference\", \"conference\", \"conference\", \"conference\", \"congress\", \"congress\", \"conner\", \"consortium\", \"consortium\", \"constitution\", \"constitutional\", \"contact\", \"contact\", \"contact\", \"contact\", \"contact\", \"contact\", \"contact\", \"contact\", \"contact\", \"contact\", \"contact\", \"contest\", \"context\", \"context\", \"context\", \"context\", \"contracts\", \"contrib\", \"contrib\", \"control\", \"control\", \"control\", \"control\", \"control\", \"control\", \"control\", \"controller\", \"cooling\", \"cooper\", \"copies\", \"copies\", \"copies\", \"copies\", \"copies\", \"copies\", \"copies\", \"cops\", \"corn\", \"could\", \"could\", \"could\", \"could\", \"could\", \"could\", \"could\", \"could\", \"could\", \"could\", \"country\", \"country\", \"country\", \"country\", \"country\", \"courses\", \"court\", \"cover\", \"cover\", \"cover\", \"cover\", \"cover\", \"cover\", \"cover\", \"creed\", \"crime\", \"crimes\", \"criminal\", \"criminal\", \"criminals\", \"crowd\", \"crowd\", \"crypt\", \"cryptanalysis\", \"crypto\", \"crypto\", \"cryptography\", \"cryptography\", \"cryptography\", \"cryptosystem\", \"cryptosystems\", \"ctrl\", \"cubs\", \"cure\", \"cwru\", \"cyprus\", \"czech\", \"data\", \"data\", \"data\", \"data\", \"data\", \"database\", \"database\", \"databases\", \"dave\", \"dave\", \"dave\", \"dave\", \"dave\", \"david\", \"david\", \"david\", \"david\", \"david\", \"david\", \"david\", \"david\", \"david\", \"days\", \"days\", \"days\", \"days\", \"days\", \"days\", \"days\", \"days\", \"days\", \"deaf\", \"dealership\", \"debugger\", \"decenso\", \"decrypt\", \"decryption\", \"decwindows\", \"define\", \"define\", \"define\", \"define\", \"denning\", \"denver\", \"denver\", \"dept\", \"dept\", \"designated\", \"desktop\", \"desktop\", \"detail\", \"detail\", \"detail\", \"detail\", \"detail\", \"detail\", \"detroit\", \"devils\", \"dial\", \"dies\", \"digest\", \"discharge\", \"disease\", \"diseases\", \"disk\", \"disk\", \"disks\", \"disks\", \"display\", \"display\", \"display\", \"display\", \"distributed\", \"distributed\", \"distribution\", \"distribution\", \"distribution\", \"distribution\", \"division\", \"division\", \"division\", \"division\", \"division\", \"docs\", \"doctor\", \"doctor\", \"doctrine\", \"doctrine\", \"documentary\", \"dole\", \"dortmund\", \"dram\", \"dram\", \"draw\", \"draw\", \"draw\", \"draw\", \"draw\", \"draw\", \"drive\", \"drive\", \"drivers\", \"drivers\", \"drivers\", \"drivers\", \"drives\", \"dtmedin\", \"dual\", \"earth\", \"earth\", \"earth\", \"earth\", \"easter\", \"easter\", \"echo\", \"echo\", \"eggs\", \"elected\", \"electrical\", \"electrical\", \"electrical\", \"electronics\", \"email\", \"email\", \"email\", \"email\", \"email\", \"email\", \"email\", \"empire\", \"empire\", \"empire\", \"empire\", \"emulation\", \"encrypt\", \"encrypted\", \"encryption\", \"encryption\", \"encyclopedia\", \"enforcement\", \"enforcement\", \"enforcement\", \"engine\", \"engine\", \"entity\", \"entries\", \"entry\", \"entry\", \"equation\", \"ergo\", \"error\", \"error\", \"error\", \"error\", \"error\", \"error\", \"erzurum\", \"escrow\", \"escrowed\", \"espn\", \"eternal\", \"eternal\", \"ether\", \"ethnic\", \"ethnic\", \"ethnic\", \"europe\", \"europe\", \"europe\", \"europe\", \"even\", \"even\", \"even\", \"even\", \"even\", \"even\", \"even\", \"even\", \"even\", \"even\", \"even\", \"evidence\", \"evidence\", \"evidence\", \"executing\", \"exercises\", \"exist\", \"exist\", \"exist\", \"exist\", \"exist\", \"exist\", \"existence\", \"existence\", \"existence\", \"exploration\", \"export\", \"export\", \"export\", \"expos\", \"extermination\", \"external\", \"external\", \"eyes\", \"eyes\", \"eyes\", \"face\", \"face\", \"face\", \"face\", \"face\", \"fact\", \"fact\", \"fact\", \"fact\", \"fact\", \"fact\", \"fact\", \"faith\", \"fall\", \"fall\", \"fall\", \"fall\", \"fall\", \"fall\", \"fans\", \"fans\", \"file\", \"file\", \"file\", \"filename\", \"files\", \"files\", \"files\", \"find\", \"find\", \"find\", \"find\", \"find\", \"find\", \"find\", \"fingers\", \"fingers\", \"finland\", \"finland\", \"finnish\", \"firearms\", \"first\", \"first\", \"first\", \"first\", \"first\", \"first\", \"first\", \"first\", \"first\", \"first\", \"first\", \"first\", \"first\", \"first\", \"first\", \"first\", \"fixes\", \"fixes\", \"fixing\", \"flames\", \"flames\", \"flames\", \"fleet\", \"flight\", \"flight\", \"floppies\", \"floppy\", \"fluid\", \"flyers\", \"font\", \"font\", \"food\", \"food\", \"food\", \"food\", \"force\", \"force\", \"force\", \"force\", \"force\", \"force\", \"force\", \"force\", \"formats\", \"fortunately\", \"forwards\", \"france\", \"france\", \"france\", \"france\", \"franchise\", \"francis\", \"francisco\", \"francisco\", \"freedom\", \"fujitsu\", \"functionality\", \"funding\", \"funding\", \"funds\", \"funds\", \"game\", \"game\", \"games\", \"games\", \"gary\", \"gary\", \"gary\", \"gateway\", \"gaza\", \"generates\", \"generous\", \"genocide\", \"genocide\", \"george\", \"george\", \"george\", \"george\", \"george\", \"georgia\", \"georgia\", \"gerard\", \"german\", \"german\", \"german\", \"german\", \"german\", \"germany\", \"germany\", \"germany\", \"germany\", \"germany\", \"gifs\", \"gift\", \"goal\", \"goal\", \"goal\", \"goal\", \"goaltender\", \"goddess\", \"gods\", \"going\", \"going\", \"going\", \"going\", \"going\", \"going\", \"going\", \"going\", \"going\", \"good\", \"good\", \"good\", \"good\", \"good\", \"good\", \"good\", \"good\", \"good\", \"goose\", \"gordon\", \"gordon\", \"gospel\", \"government\", \"government\", \"government\", \"government\", \"graphics\", \"graphics\", \"graphics\", \"graphics\", \"grayscale\", \"greatly\", \"greatly\", \"greatly\", \"greatly\", \"greatly\", \"greatly\", \"greatly\", \"greece\", \"greek\", \"greek\", \"greeks\", \"green\", \"green\", \"green\", \"green\", \"green\", \"ground\", \"ground\", \"ground\", \"ground\", \"ground\", \"ground\", \"grounded\", \"guidelines\", \"guidelines\", \"guidelines\", \"guns\", \"hackers\", \"handgun\", \"handler\", \"handles\", \"happened\", \"happened\", \"happened\", \"hard\", \"hard\", \"hard\", \"hard\", \"hard\", \"hardware\", \"hardware\", \"harley\", \"harper\", \"harris\", \"harris\", \"hartford\", \"hash\", \"hash\", \"hawks\", \"hawks\", \"health\", \"health\", \"health\", \"heard\", \"heard\", \"heard\", \"heard\", \"heard\", \"heard\", \"heaven\", \"heaven\", \"hebrews\", \"height\", \"height\", \"height\", \"height\", \"height\", \"hellman\", \"hello\", \"hello\", \"helmet\", \"help\", \"help\", \"help\", \"help\", \"help\", \"help\", \"help\", \"help\", \"help\", \"help\", \"help\", \"henrik\", \"hicnet\", \"hints\", \"hints\", \"hints\", \"history\", \"history\", \"history\", \"history\", \"history\", \"history\", \"history\", \"history\", \"hockey\", \"hojali\", \"hole\", \"hole\", \"hole\", \"holocaust\", \"holy\", \"holy\", \"home\", \"home\", \"home\", \"home\", \"home\", \"home\", \"home\", \"homicide\", \"homosexual\", \"homosexuality\", \"honda\", \"horn\", \"hotel\", \"hotel\", \"house\", \"house\", \"house\", \"house\", \"house\", \"huffman\", \"hulk\", \"human\", \"human\", \"human\", \"human\", \"human\", \"human\", \"hung\", \"husband\", \"icon\", \"icons\", \"idaho\", \"idaho\", \"idle\", \"ieee\", \"ignorant\", \"illegal\", \"illegal\", \"illness\", \"image\", \"image\", \"image\", \"images\", \"images\", \"images\", \"imaging\", \"imakefile\", \"immaculate\", \"infection\", \"infections\", \"inferior\", \"info\", \"info\", \"info\", \"info\", \"info\", \"info\", \"informatik\", \"information\", \"information\", \"information\", \"information\", \"information\", \"information\", \"information\", \"information\", \"information\", \"infrastructure\", \"ingr\", \"init\", \"initiative\", \"initiative\", \"inkjet\", \"input\", \"input\", \"input\", \"input\", \"input\", \"intake\", \"intellect\", \"interactive\", \"interference\", \"interference\", \"internet\", \"internet\", \"internet\", \"internet\", \"investigating\", \"investment\", \"islam\", \"islanders\", \"israel\", \"israel\", \"israel\", \"israeli\", \"israeli\", \"israelis\", \"issue\", \"issue\", \"issue\", \"issue\", \"issue\", \"issue\", \"issue\", \"issue\", \"issue\", \"istanbul\", \"italy\", \"italy\", \"japanese\", \"japanese\", \"japanese\", \"jersey\", \"jesus\", \"jets\", \"jewish\", \"jewish\", \"jewish\", \"jewish\", \"jews\", \"jews\", \"jews\", \"jobs\", \"jobs\", \"johansson\", \"john\", \"john\", \"john\", \"john\", \"john\", \"john\", \"john\", \"john\", \"john\", \"john\", \"joseph\", \"joseph\", \"joseph\", \"joseph\", \"jpeg\", \"jpeg\", \"judas\", \"judges\", \"judging\", \"judging\", \"june\", \"june\", \"june\", \"june\", \"june\", \"karabakh\", \"karabakh\", \"karina\", \"keep\", \"keep\", \"keep\", \"keep\", \"keep\", \"keep\", \"keep\", \"keep\", \"keep\", \"keys\", \"keys\", \"keys\", \"kidney\", \"kingman\", \"kings\", \"kings\", \"kings\", \"kirlian\", \"know\", \"know\", \"know\", \"know\", \"know\", \"know\", \"know\", \"know\", \"know\", \"koresh\", \"koresh\", \"koresh\", \"kurds\", \"label\", \"label\", \"label\", \"label\", \"laser\", \"last\", \"last\", \"last\", \"last\", \"last\", \"last\", \"last\", \"last\", \"last\", \"last\", \"last\", \"lasted\", \"latin\", \"laughter\", \"laughter\", \"launch\", \"launched\", \"launches\", \"lawrence\", \"laws\", \"laws\", \"lciii\", \"leafs\", \"league\", \"league\", \"league\", \"leagues\", \"least\", \"least\", \"least\", \"least\", \"least\", \"least\", \"least\", \"least\", \"least\", \"lebanese\", \"lebanese\", \"left\", \"left\", \"left\", \"left\", \"left\", \"left\", \"left\", \"left\", \"left\", \"legal\", \"legal\", \"legal\", \"legal\", \"legally\", \"legislative\", \"lemieux\", \"lets\", \"lets\", \"lets\", \"lewis\", \"lewis\", \"lewis\", \"library\", \"library\", \"library\", \"library\", \"library\", \"life\", \"life\", \"life\", \"life\", \"life\", \"life\", \"light\", \"light\", \"light\", \"light\", \"light\", \"light\", \"like\", \"like\", \"like\", \"like\", \"like\", \"like\", \"like\", \"like\", \"like\", \"like\", \"like\", \"line\", \"line\", \"line\", \"line\", \"line\", \"line\", \"line\", \"line\", \"line\", \"line\", \"line\", \"line\", \"line\", \"lines\", \"lines\", \"lines\", \"lines\", \"lines\", \"lines\", \"lines\", \"lines\", \"lines\", \"list\", \"list\", \"list\", \"list\", \"list\", \"list\", \"list\", \"list\", \"list\", \"list\", \"listserv\", \"little\", \"little\", \"little\", \"little\", \"little\", \"little\", \"little\", \"little\", \"little\", \"loading\", \"loading\", \"lock\", \"lock\", \"lock\", \"lock\", \"locks\", \"logitech\", \"london\", \"london\", \"look\", \"look\", \"look\", \"look\", \"look\", \"look\", \"look\", \"look\", \"look\", \"look\", \"look\", \"looking\", \"looking\", \"looking\", \"looking\", \"looking\", \"looking\", \"looking\", \"looking\", \"lord\", \"lord\", \"losses\", \"louis\", \"louis\", \"louis\", \"lunar\", \"lyme\", \"lyuda\", \"machines\", \"machines\", \"machines\", \"macro\", \"macro\", \"macs\", \"magellan\", \"mail\", \"mail\", \"mail\", \"mail\", \"mail\", \"mail\", \"mailer\", \"mailing\", \"mailing\", \"main\", \"main\", \"main\", \"main\", \"main\", \"main\", \"main\", \"main\", \"maine\", \"majority\", \"majority\", \"majority\", \"majority\", \"majority\", \"make\", \"make\", \"make\", \"make\", \"make\", \"make\", \"make\", \"make\", \"make\", \"make\", \"make\", \"make\", \"mamma\", \"manager\", \"manager\", \"manager\", \"manager\", \"manager\", \"manages\", \"manufactured\", \"many\", \"many\", \"many\", \"many\", \"many\", \"many\", \"many\", \"many\", \"many\", \"many\", \"many\", \"many\", \"marc\", \"marc\", \"marc\", \"maria\", \"marijuana\", \"marina\", \"mark\", \"mark\", \"mark\", \"mark\", \"mark\", \"mark\", \"mark\", \"mark\", \"mars\", \"mask\", \"mask\", \"massacre\", \"math\", \"math\", \"math\", \"math\", \"maybe\", \"maybe\", \"maybe\", \"maybe\", \"maybe\", \"maybe\", \"maybe\", \"maybe\", \"maybe\", \"mean\", \"mean\", \"mean\", \"mean\", \"mean\", \"mean\", \"mean\", \"mean\", \"mean\", \"meaning\", \"meaning\", \"meaning\", \"meaning\", \"medical\", \"medical\", \"medicine\", \"medicine\", \"meeting\", \"meeting\", \"meeting\", \"meeting\", \"memory\", \"memory\", \"memory\", \"memory\", \"mercedes\", \"meters\", \"mets\", \"mets\", \"microsoft\", \"microsoft\", \"might\", \"might\", \"might\", \"might\", \"might\", \"might\", \"might\", \"might\", \"might\", \"might\", \"military\", \"military\", \"military\", \"military\", \"militia\", \"million\", \"million\", \"million\", \"million\", \"mini\", \"mini\", \"minister\", \"minnesota\", \"minnesota\", \"minnesota\", \"mint\", \"minus\", \"mission\", \"mission\", \"mission\", \"mission\", \"mission\", \"missions\", \"modem\", \"modems\", \"momentum\", \"moncton\", \"monitor\", \"monitors\", \"mono\", \"montreal\", \"moon\", \"moral\", \"moral\", \"morality\", \"morgan\", \"mormon\", \"mormons\", \"mosaic\", \"motherboard\", \"motif\", \"moto\", \"motorcycle\", \"motorcycle\", \"motorcycle\", \"motorola\", \"mounting\", \"mouse\", \"mouse\", \"mpeg\", \"much\", \"much\", \"much\", \"much\", \"much\", \"much\", \"much\", \"much\", \"much\", \"much\", \"muscle\", \"music\", \"music\", \"muslim\", \"muslim\", \"muslim\", \"muslims\", \"muslims\", \"muslims\", \"muslims\", \"must\", \"must\", \"must\", \"must\", \"must\", \"must\", \"must\", \"must\", \"must\", \"must\", \"must\", \"must\", \"must\", \"mydisplay\", \"mydisplay\", \"myers\", \"myhint\", \"name\", \"name\", \"name\", \"name\", \"name\", \"name\", \"name\", \"name\", \"name\", \"name\", \"name\", \"name\", \"nasa\", \"nasa\", \"national\", \"national\", \"national\", \"national\", \"national\", \"national\", \"national\", \"nazi\", \"nazis\", \"ncsa\", \"ncsl\", \"ncsu\", \"need\", \"need\", \"need\", \"need\", \"need\", \"need\", \"need\", \"need\", \"need\", \"need\", \"need\", \"netcom\", \"netcom\", \"netcom\", \"networking\", \"networking\", \"networks\", \"neutral\", \"neutral\", \"neutral\", \"never\", \"never\", \"never\", \"never\", \"never\", \"never\", \"never\", \"never\", \"newsletter\", \"newsletter\", \"night\", \"night\", \"night\", \"night\", \"night\", \"nintendo\", \"nist\", \"nist\", \"nixon\", \"nolan\", \"nords\", \"normal\", \"normal\", \"normal\", \"normal\", \"normal\", \"nubus\", \"nubus\", \"nuclear\", \"nuclear\", \"nuclear\", \"nuclear\", \"null\", \"null\", \"number\", \"number\", \"number\", \"number\", \"number\", \"number\", \"number\", \"number\", \"number\", \"number\", \"number\", \"obfuscate\", \"obfuscate\", \"obfuscation\", \"objective\", \"objective\", \"objective\", \"objective\", \"observatory\", \"offer\", \"offer\", \"offer\", \"offer\", \"offer\", \"offer\", \"offer\", \"office\", \"office\", \"office\", \"office\", \"office\", \"office\", \"office\", \"office\", \"official\", \"official\", \"official\", \"official\", \"official\", \"official\", \"official\", \"ohio\", \"ohio\", \"ohio\", \"open\", \"open\", \"open\", \"open\", \"open\", \"open\", \"open\", \"open\", \"open\", \"open\", \"open\", \"openwindows\", \"openwindows\", \"opposition\", \"orbit\", \"orbital\", \"orbiter\", \"orbiting\", \"orthodox\", \"ottoman\", \"ottomans\", \"outlets\", \"output\", \"output\", \"outs\", \"overtime\", \"ozone\", \"pace\", \"package\", \"package\", \"package\", \"package\", \"package\", \"package\", \"packaging\", \"page\", \"page\", \"page\", \"page\", \"page\", \"page\", \"page\", \"pain\", \"pain\", \"palestine\", \"palestinian\", \"palestinians\", \"palestinians\", \"palette\", \"paper\", \"paper\", \"paper\", \"paper\", \"paper\", \"paper\", \"paper\", \"paradox\", \"paradox\", \"paranoid\", \"park\", \"park\", \"park\", \"park\", \"park\", \"partition\", \"passover\", \"password\", \"patch\", \"patch\", \"patch\", \"patches\", \"patches\", \"patches\", \"patents\", \"patients\", \"paul\", \"paul\", \"paul\", \"paul\", \"paul\", \"paul\", \"paul\", \"paul\", \"paul\", \"payload\", \"peak\", \"peak\", \"pens\", \"pentium\", \"people\", \"people\", \"people\", \"people\", \"people\", \"people\", \"people\", \"people\", \"percent\", \"percent\", \"period\", \"period\", \"period\", \"period\", \"period\", \"period\", \"period\", \"period\", \"pexlib\", \"philadelphia\", \"philadelphia\", \"philadelphia\", \"phone\", \"phone\", \"phone\", \"phone\", \"phone\", \"phone\", \"phone\", \"phones\", \"picture\", \"picture\", \"picture\", \"pirates\", \"pitched\", \"pitcher\", \"pitching\", \"pitt\", \"pitt\", \"pittsburgh\", \"pittsburgh\", \"pittsburgh\", \"pixel\", \"pixel\", \"pixmap\", \"pixmap\", \"plaintext\", \"plane\", \"plane\", \"plane\", \"planetary\", \"plant\", \"plant\", \"plant\", \"plants\", \"plants\", \"platforms\", \"platforms\", \"play\", \"play\", \"play\", \"play\", \"play\", \"played\", \"played\", \"played\", \"played\", \"player\", \"players\", \"playing\", \"playing\", \"playing\", \"playing\", \"playing\", \"playoff\", \"playoffs\", \"plays\", \"please\", \"please\", \"please\", \"please\", \"please\", \"please\", \"please\", \"please\", \"please\", \"please\", \"plotting\", \"point\", \"point\", \"point\", \"point\", \"point\", \"point\", \"point\", \"point\", \"point\", \"point\", \"pointer\", \"pointers\", \"pointers\", \"pointers\", \"points\", \"points\", \"points\", \"points\", \"points\", \"points\", \"police\", \"police\", \"policy\", \"policy\", \"policy\", \"political\", \"political\", \"political\", \"political\", \"politics\", \"politics\", \"polygon\", \"pope\", \"popup\", \"port\", \"ports\", \"post\", \"post\", \"post\", \"post\", \"post\", \"post\", \"post\", \"post\", \"post\", \"post\", \"post\", \"post\", \"post\", \"posting\", \"posting\", \"posting\", \"posting\", \"posting\", \"posting\", \"posting\", \"posting\", \"posting\", \"postscript\", \"postscript\", \"power\", \"power\", \"power\", \"power\", \"power\", \"power\", \"power\", \"power\", \"powerbook\", \"powerpc\", \"prayers\", \"prediction\", \"prediction\", \"prediction\", \"president\", \"press\", \"press\", \"press\", \"press\", \"press\", \"press\", \"press\", \"press\", \"prevention\", \"price\", \"price\", \"price\", \"price\", \"price\", \"price\", \"price\", \"printer\", \"printer\", \"printf\", \"prison\", \"prisoners\", \"privacy\", \"privacy\", \"privacy\", \"privacy\", \"probe\", \"probe\", \"probes\", \"problem\", \"problem\", \"problem\", \"problem\", \"problem\", \"problem\", \"problem\", \"problem\", \"problem\", \"problems\", \"problems\", \"problems\", \"problems\", \"problems\", \"problems\", \"problems\", \"problems\", \"problems\", \"problems\", \"processing\", \"processing\", \"processing\", \"processors\", \"professor\", \"professor\", \"professor\", \"prog\", \"program\", \"program\", \"program\", \"program\", \"program\", \"program\", \"program\", \"program\", \"promo\", \"prophecy\", \"proposal\", \"proposal\", \"propose\", \"propulsion\", \"propulsion\", \"providence\", \"pseudo\", \"public\", \"public\", \"public\", \"public\", \"public\", \"public\", \"publish\", \"publish\", \"published\", \"published\", \"published\", \"published\", \"published\", \"published\", \"published\", \"published\", \"publisher\", \"puck\", \"puck\", \"pyramid\", \"qemm\", \"quebec\", \"question\", \"question\", \"question\", \"question\", \"question\", \"question\", \"question\", \"question\", \"quicktime\", \"radiosity\", \"radius\", \"radius\", \"radius\", \"rainer\", \"random\", \"random\", \"random\", \"random\", \"random\", \"random\", \"rangers\", \"read\", \"read\", \"read\", \"read\", \"read\", \"read\", \"read\", \"read\", \"read\", \"read\", \"really\", \"really\", \"really\", \"really\", \"really\", \"really\", \"really\", \"really\", \"receives\", \"recognition\", \"recognition\", \"recognition\", \"recommendations\", \"recommendations\", \"rectangle\", \"registers\", \"registration\", \"registration\", \"registration\", \"reich\", \"religion\", \"religion\", \"religion\", \"religions\", \"religious\", \"religious\", \"religious\", \"remark\", \"remark\", \"remark\", \"remember\", \"remember\", \"remember\", \"remember\", \"remember\", \"remember\", \"remember\", \"reply\", \"reply\", \"reply\", \"reply\", \"reply\", \"report\", \"report\", \"report\", \"report\", \"report\", \"report\", \"report\", \"report\", \"report\", \"reported\", \"reported\", \"reported\", \"reported\", \"repost\", \"repost\", \"republic\", \"republic\", \"republic\", \"republic\", \"republicans\", \"request\", \"request\", \"request\", \"request\", \"request\", \"requests\", \"requests\", \"requests\", \"requests\", \"research\", \"research\", \"research\", \"research\", \"research\", \"research\", \"research\", \"resurrection\", \"retail\", \"return\", \"return\", \"return\", \"return\", \"return\", \"return\", \"return\", \"return\", \"return\", \"return\", \"return\", \"return\", \"revelation\", \"ride\", \"riders\", \"riding\", \"riding\", \"right\", \"right\", \"right\", \"right\", \"right\", \"right\", \"right\", \"right\", \"right\", \"right\", \"rights\", \"rights\", \"rights\", \"ripem\", \"rochester\", \"rockefeller\", \"rocket\", \"rocket\", \"rockets\", \"rockets\", \"romans\", \"rose\", \"rose\", \"rose\", \"rose\", \"rtrace\", \"rules\", \"rules\", \"rules\", \"rules\", \"rules\", \"runner\", \"running\", \"running\", \"running\", \"running\", \"running\", \"running\", \"runs\", \"runs\", \"runs\", \"runs\", \"runs\", \"runs\", \"russia\", \"russia\", \"russia\", \"russian\", \"russian\", \"russian\", \"russian\", \"ryan\", \"ryan\", \"ryan\", \"ryan\", \"rychel\", \"sabbath\", \"said\", \"said\", \"said\", \"said\", \"said\", \"said\", \"said\", \"sale\", \"sale\", \"sale\", \"sale\", \"sale\", \"sale\", \"sampling\", \"sandberg\", \"satellite\", \"satellites\", \"saturn\", \"saturn\", \"says\", \"says\", \"says\", \"says\", \"says\", \"scanned\", \"schedule\", \"schedule\", \"schedule\", \"schedule\", \"scheduled\", \"scheduled\", \"scheme\", \"scheme\", \"scheme\", \"science\", \"science\", \"science\", \"science\", \"science\", \"science\", \"science\", \"scope\", \"scope\", \"scope\", \"score\", \"score\", \"scored\", \"scorer\", \"scores\", \"scoring\", \"screen\", \"screen\", \"screen\", \"screens\", \"screens\", \"scripture\", \"scsi\", \"sdpa\", \"seagate\", \"seal\", \"season\", \"second\", \"second\", \"second\", \"second\", \"second\", \"second\", \"second\", \"second\", \"second\", \"second\", \"secret\", \"secret\", \"secret\", \"secret\", \"secretary\", \"secretary\", \"section\", \"section\", \"section\", \"section\", \"section\", \"section\", \"secure\", \"secure\", \"security\", \"security\", \"security\", \"security\", \"seed\", \"seed\", \"seed\", \"sega\", \"segment\", \"senate\", \"senate\", \"senator\", \"send\", \"send\", \"send\", \"send\", \"send\", \"send\", \"send\", \"send\", \"send\", \"send\", \"send\", \"send\", \"senior\", \"sensing\", \"serbs\", \"serdar\", \"serdar\", \"serial\", \"serial\", \"serial\", \"server\", \"server\", \"server\", \"server\", \"servers\", \"shameful\", \"shar\", \"shar\", \"shareware\", \"sharks\", \"shipping\", \"shipping\", \"shipping\", \"shipping\", \"ships\", \"shots\", \"shots\", \"shots\", \"shouting\", \"shuttle\", \"sick\", \"siggraph\", \"simm\", \"simms\", \"simtel\", \"since\", \"since\", \"since\", \"since\", \"since\", \"since\", \"since\", \"since\", \"since\", \"since\", \"since\", \"since\", \"sister\", \"sites\", \"sites\", \"sites\", \"size\", \"size\", \"size\", \"size\", \"size\", \"size\", \"size\", \"skepticism\", \"skipjack\", \"sleeve\", \"slots\", \"smith\", \"smith\", \"smith\", \"smith\", \"smith\", \"smith\", \"smokeless\", \"social\", \"social\", \"social\", \"society\", \"society\", \"society\", \"society\", \"sockets\", \"software\", \"software\", \"software\", \"software\", \"solar\", \"solaris\", \"someone\", \"someone\", \"someone\", \"someone\", \"someone\", \"someone\", \"someone\", \"something\", \"something\", \"something\", \"something\", \"something\", \"something\", \"something\", \"something\", \"something\", \"sony\", \"soon\", \"soon\", \"soon\", \"soon\", \"soon\", \"soon\", \"soon\", \"sound\", \"sound\", \"sound\", \"sound\", \"sound\", \"south\", \"south\", \"south\", \"south\", \"south\", \"south\", \"soviet\", \"soviet\", \"soviet\", \"soviet\", \"space\", \"space\", \"space\", \"space\", \"space\", \"spacecraft\", \"speed\", \"speed\", \"speed\", \"speeds\", \"speedstar\", \"sphere\", \"spirit\", \"spirit\", \"spoken\", \"springfield\", \"stadium\", \"stanley\", \"stanley\", \"stanley\", \"stanley\", \"started\", \"started\", \"started\", \"started\", \"started\", \"state\", \"state\", \"state\", \"state\", \"state\", \"state\", \"state\", \"state\", \"states\", \"states\", \"states\", \"states\", \"states\", \"states\", \"station\", \"station\", \"station\", \"station\", \"stats\", \"stats\", \"steam\", \"stereo\", \"still\", \"still\", \"still\", \"still\", \"still\", \"still\", \"still\", \"still\", \"still\", \"still\", \"stimulus\", \"storm\", \"storm\", \"stream\", \"stream\", \"stream\", \"string\", \"strong\", \"strong\", \"strong\", \"strong\", \"strong\", \"strong\", \"strong\", \"strong\", \"student\", \"student\", \"student\", \"student\", \"student\", \"student\", \"studies\", \"studies\", \"studies\", \"studies\", \"studies\", \"study\", \"study\", \"study\", \"study\", \"study\", \"subaru\", \"subject\", \"subject\", \"subject\", \"subject\", \"subject\", \"subject\", \"subject\", \"subject\", \"subject\", \"subject\", \"suck\", \"sugar\", \"sumgait\", \"summaries\", \"summer\", \"summer\", \"summer\", \"summer\", \"summer\", \"summer\", \"sunview\", \"surrender\", \"sweden\", \"sweden\", \"sword\", \"sword\", \"symbol\", \"symbol\", \"syndrome\", \"syndrome\", \"syria\", \"system\", \"system\", \"system\", \"system\", \"system\", \"system\", \"system\", \"systems\", \"systems\", \"systems\", \"systems\", \"take\", \"take\", \"take\", \"take\", \"take\", \"take\", \"take\", \"take\", \"take\", \"take\", \"take\", \"tamu\", \"tape\", \"tape\", \"tape\", \"tapes\", \"tapes\", \"tapes\", \"taurus\", \"team\", \"team\", \"team\", \"team\", \"teams\", \"technology\", \"technology\", \"technology\", \"technology\", \"technology\", \"tektronix\", \"telecommunications\", \"telescope\", \"telix\", \"temperature\", \"temperature\", \"temple\", \"terminal\", \"terminal\", \"terminal\", \"terminal\", \"terminal\", \"terminals\", \"test\", \"test\", \"test\", \"test\", \"test\", \"test\", \"testament\", \"thanks\", \"thanks\", \"thanks\", \"thanks\", \"thanks\", \"thanks\", \"thanks\", \"thanx\", \"things\", \"things\", \"things\", \"things\", \"things\", \"things\", \"things\", \"think\", \"think\", \"think\", \"think\", \"think\", \"think\", \"think\", \"think\", \"thought\", \"thought\", \"thought\", \"thought\", \"thought\", \"thought\", \"thought\", \"thought\", \"threat\", \"three\", \"three\", \"three\", \"three\", \"three\", \"three\", \"three\", \"three\", \"three\", \"three\", \"three\", \"tiff\", \"tigers\", \"time\", \"time\", \"time\", \"time\", \"time\", \"time\", \"time\", \"time\", \"time\", \"time\", \"time\", \"time\", \"time\", \"tippett\", \"title\", \"title\", \"title\", \"title\", \"title\", \"title\", \"title\", \"tobacco\", \"tobacco\", \"today\", \"today\", \"today\", \"today\", \"today\", \"today\", \"today\", \"today\", \"told\", \"told\", \"told\", \"told\", \"tongues\", \"tony\", \"tony\", \"tony\", \"tony\", \"tony\", \"took\", \"took\", \"took\", \"took\", \"toolkit\", \"toolkits\", \"toolkits\", \"toolkits\", \"toplevel\", \"toronto\", \"toronto\", \"toronto\", \"toronto\", \"torque\", \"toshiba\", \"tower\", \"tower\", \"towers\", \"treatment\", \"treatment\", \"trident\", \"trinity\", \"trips\", \"true\", \"true\", \"true\", \"true\", \"true\", \"true\", \"true\", \"true\", \"truth\", \"truth\", \"truth\", \"truth\", \"tube\", \"tube\", \"tubes\", \"turkey\", \"turkish\", \"turkiye\", \"turks\", \"turner\", \"tvtwm\", \"tyre\", \"udel\", \"uiuc\", \"uiuc\", \"uiuc\", \"unassisted\", \"united\", \"united\", \"united\", \"united\", \"university\", \"university\", \"university\", \"university\", \"university\", \"university\", \"university\", \"university\", \"university\", \"university\", \"unix\", \"unix\", \"unix\", \"unix\", \"upenn\", \"upgrade\", \"upset\", \"uranium\", \"used\", \"used\", \"used\", \"used\", \"used\", \"used\", \"used\", \"used\", \"used\", \"used\", \"used\", \"user\", \"user\", \"user\", \"user\", \"user\", \"users\", \"users\", \"using\", \"using\", \"using\", \"using\", \"using\", \"using\", \"using\", \"using\", \"using\", \"uuencode\", \"vatican\", \"venus\", \"version\", \"version\", \"version\", \"version\", \"version\", \"version\", \"version\", \"vesa\", \"video\", \"video\", \"video\", \"villages\", \"viola\", \"violent\", \"viper\", \"visa\", \"visible\", \"visible\", \"visible\", \"visible\", \"visible\", \"visual\", \"visual\", \"vitamin\", \"voice\", \"voice\", \"voice\", \"voice\", \"voice\", \"voice\", \"voice\", \"voice\", \"voice\", \"voltage\", \"vram\", \"walked\", \"walking\", \"walls\", \"wanna\", \"want\", \"want\", \"want\", \"want\", \"want\", \"want\", \"want\", \"want\", \"washington\", \"washington\", \"washington\", \"washington\", \"washington\", \"washington\", \"water\", \"water\", \"wealth\", \"weapons\", \"weapons\", \"wearing\", \"weaver\", \"weaver\", \"week\", \"week\", \"week\", \"week\", \"week\", \"week\", \"week\", \"week\", \"week\", \"week\", \"week\", \"week\", \"well\", \"well\", \"well\", \"well\", \"well\", \"well\", \"well\", \"well\", \"well\", \"well\", \"well\", \"well\", \"well\", \"went\", \"went\", \"went\", \"went\", \"white\", \"white\", \"white\", \"white\", \"white\", \"white\", \"white\", \"white\", \"white\", \"white\", \"white\", \"widgets\", \"widgets\", \"width\", \"width\", \"width\", \"wife\", \"wife\", \"window\", \"window\", \"window\", \"window\", \"windows\", \"windows\", \"windows\", \"windows\", \"winfield\", \"winmarks\", \"winners\", \"winners\", \"wins\", \"wins\", \"wire\", \"wire\", \"wiretap\", \"wiring\", \"without\", \"without\", \"without\", \"without\", \"without\", \"without\", \"without\", \"without\", \"without\", \"without\", \"without\", \"without\", \"without\", \"witnesses\", \"wolverine\", \"woman\", \"woman\", \"women\", \"women\", \"women\", \"wondered\", \"wondering\", \"wondering\", \"wondering\", \"wondering\", \"word\", \"word\", \"word\", \"word\", \"word\", \"word\", \"word\", \"word\", \"work\", \"work\", \"work\", \"work\", \"work\", \"work\", \"work\", \"work\", \"work\", \"work\", \"working\", \"working\", \"working\", \"working\", \"working\", \"working\", \"working\", \"workspace\", \"workstations\", \"workstations\", \"world\", \"world\", \"world\", \"world\", \"world\", \"world\", \"world\", \"world\", \"world\", \"world\", \"world\", \"world\", \"worn\", \"worship\", \"would\", \"would\", \"would\", \"would\", \"would\", \"would\", \"would\", \"would\", \"would\", \"would\", \"would\", \"would\", \"would\", \"wrapped\", \"write\", \"write\", \"write\", \"write\", \"write\", \"write\", \"write\", \"write\", \"wuarchive\", \"wustl\", \"xfree\", \"xfree\", \"xhost\", \"xmodmap\", \"xputimage\", \"xputimage\", \"xsun\", \"xterm\", \"xterm\", \"xtpointer\", \"xtsetarg\", \"xview\", \"yankees\", \"year\", \"year\", \"year\", \"year\", \"year\", \"year\", \"year\", \"year\", \"year\", \"years\", \"years\", \"years\", \"years\", \"years\", \"years\", \"years\", \"years\", \"years\", \"years\", \"yeast\", \"zionist\", \"zionist\", \"zoom\"]}, \"R\": 30, \"lambda.step\": 0.01, \"plot.opts\": {\"xlab\": \"PC1\", \"ylab\": \"PC2\"}, \"topic.order\": [17, 4, 9, 12, 8, 19, 2, 1, 11, 16, 20, 7, 15, 18, 3, 13, 10, 6, 5, 14]};\n",
       "\n",
       "function LDAvis_load_lib(url, callback){\n",
       "  var s = document.createElement('script');\n",
       "  s.src = url;\n",
       "  s.async = true;\n",
       "  s.onreadystatechange = s.onload = callback;\n",
       "  s.onerror = function(){console.warn(\"failed to load library \" + url);};\n",
       "  document.getElementsByTagName(\"head\")[0].appendChild(s);\n",
       "}\n",
       "\n",
       "if(typeof(LDAvis) !== \"undefined\"){\n",
       "   // already loaded: just create the visualization\n",
       "   !function(LDAvis){\n",
       "       new LDAvis(\"#\" + \"ldavis_el3367217707268853205724985800\", ldavis_el3367217707268853205724985800_data);\n",
       "   }(LDAvis);\n",
       "}else if(typeof define === \"function\" && define.amd){\n",
       "   // require.js is available: use it to load d3/LDAvis\n",
       "   require.config({paths: {d3: \"https://cdnjs.cloudflare.com/ajax/libs/d3/3.5.5/d3.min\"}});\n",
       "   require([\"d3\"], function(d3){\n",
       "      window.d3 = d3;\n",
       "      LDAvis_load_lib(\"https://cdn.rawgit.com/bmabey/pyLDAvis/files/ldavis.v1.0.0.js\", function(){\n",
       "        new LDAvis(\"#\" + \"ldavis_el3367217707268853205724985800\", ldavis_el3367217707268853205724985800_data);\n",
       "      });\n",
       "    });\n",
       "}else{\n",
       "    // require.js not available: dynamically load d3 & LDAvis\n",
       "    LDAvis_load_lib(\"https://cdnjs.cloudflare.com/ajax/libs/d3/3.5.5/d3.min.js\", function(){\n",
       "         LDAvis_load_lib(\"https://cdn.rawgit.com/bmabey/pyLDAvis/files/ldavis.v1.0.0.js\", function(){\n",
       "                 new LDAvis(\"#\" + \"ldavis_el3367217707268853205724985800\", ldavis_el3367217707268853205724985800_data);\n",
       "            })\n",
       "         });\n",
       "}\n",
       "</script>"
      ],
      "text/plain": [
       "<IPython.core.display.HTML object>"
      ]
     },
     "execution_count": 33,
     "metadata": {},
     "output_type": "execute_result"
    }
   ],
   "source": [
    "import pyLDAvis.gensim\n",
    "pyLDAvis.enable_notebook()\n",
    "vis = pyLDAvis.gensim.prepare(ldamodel, corpus, dictionary)\n",
    "pyLDAvis.display(vis)\n",
    "# LDA 시각화에서는 토픽의 번호가 1부터 시작하므로 각 토픽 번호는  +1이 된 값인 1~20까지의 값을 가진다"
   ]
  },
  {
   "cell_type": "markdown",
   "metadata": {
    "colab_type": "text",
    "id": "x1SRPLp0B7c7"
   },
   "source": [
    "####  문서 별 토픽 분포 보기"
   ]
  },
  {
   "cell_type": "code",
   "execution_count": 34,
   "metadata": {
    "colab": {
     "base_uri": "https://localhost:8080/",
     "height": 110
    },
    "colab_type": "code",
    "executionInfo": {
     "elapsed": 217109,
     "status": "ok",
     "timestamp": 1600822477477,
     "user": {
      "displayName": "고병화",
      "photoUrl": "https://lh3.googleusercontent.com/a-/AOh14GgLZcAZyPt33HiIqtXjHiL8D4PIcVPdfLgODP1QBA=s64",
      "userId": "12645007744594631320"
     },
     "user_tz": -540
    },
    "id": "y3YMeRJ6B7c8",
    "outputId": "d0a686a2-7056-4787-f3cd-f6b1d65c18e9"
   },
   "outputs": [
    {
     "name": "stdout",
     "output_type": "stream",
     "text": [
      "0 번째 문서의 topic 비율은 [(1, 0.028266832), (6, 0.18351762), (12, 0.09420056), (16, 0.53564334), (18, 0.14605945)]\n",
      "1 번째 문서의 topic 비율은 [(0, 0.09395123), (2, 0.027613647), (10, 0.26504236), (11, 0.59232104)]\n",
      "2 번째 문서의 topic 비율은 [(0, 0.1383071), (1, 0.061532333), (8, 0.10842727), (16, 0.61880314), (18, 0.06079212)]\n",
      "3 번째 문서의 topic 비율은 [(1, 0.09761796), (3, 0.38216162), (8, 0.06663931), (9, 0.018439313), (14, 0.14095843), (16, 0.2832067)]\n",
      "4 번째 문서의 topic 비율은 [(0, 0.46968487), (8, 0.13075742), (17, 0.2552859), (19, 0.1146333)]\n"
     ]
    }
   ],
   "source": [
    "for i, topic_list in enumerate(ldamodel[corpus]):\n",
    "    if i==5:\n",
    "        break\n",
    "    print(i,'번째 문서의 topic 비율은',topic_list)\n",
    "# (숫자, 확률)은 각각 토픽 번호와 해당 토픽이 해당 문서에서 차지하는 분포도를 의미"
   ]
  },
  {
   "cell_type": "code",
   "execution_count": 35,
   "metadata": {
    "colab": {},
    "colab_type": "code",
    "executionInfo": {
     "elapsed": 217107,
     "status": "ok",
     "timestamp": 1600822477478,
     "user": {
      "displayName": "고병화",
      "photoUrl": "https://lh3.googleusercontent.com/a-/AOh14GgLZcAZyPt33HiIqtXjHiL8D4PIcVPdfLgODP1QBA=s64",
      "userId": "12645007744594631320"
     },
     "user_tz": -540
    },
    "id": "MSfbq8ikB7dB"
   },
   "outputs": [],
   "source": [
    "def make_topictable_per_doc(ldamodel, corpus):\n",
    "    topic_table = pd.DataFrame()\n",
    "\n",
    "    # 몇 번째 문서인지를 의미하는 문서 번호와 해당 문서의 토픽 비중을 한 줄씩 꺼내온다.\n",
    "    for i, topic_list in enumerate(ldamodel[corpus]):\n",
    "        doc = topic_list[0] if ldamodel.per_word_topics else topic_list            \n",
    "        doc = sorted(doc, key=lambda x: (x[1]), reverse=True)\n",
    "        # 각 문서에 대해서 비중이 높은 토픽순으로 토픽을 정렬한다.\n",
    "        # EX) 정렬 전 0번 문서 : (2번 토픽, 48.5%), (8번 토픽, 25%), (10번 토픽, 5%), (12번 토픽, 21.5%), \n",
    "        # Ex) 정렬 후 0번 문서 : (2번 토픽, 48.5%), (8번 토픽, 25%), (12번 토픽, 21.5%), (10번 토픽, 5%)\n",
    "        # 48 > 25 > 21 > 5 순으로 정렬이 된 것.\n",
    "\n",
    "        # 모든 문서에 대해서 각각 아래를 수행\n",
    "        for j, (topic_num, prop_topic) in enumerate(doc): #  몇 번 토픽인지와 비중을 나눠서 저장한다.\n",
    "            if j == 0:  # 정렬을 한 상태이므로 가장 앞에 있는 것이 가장 비중이 높은 토픽\n",
    "                topic_table = topic_table.append(pd.Series([int(topic_num), round(prop_topic,4), topic_list]), ignore_index=True)\n",
    "                # 가장 비중이 높은 토픽과, 가장 비중이 높은 토픽의 비중과, 전체 토픽의 비중을 저장한다.\n",
    "            else:\n",
    "                break\n",
    "    return(topic_table)"
   ]
  },
  {
   "cell_type": "code",
   "execution_count": 36,
   "metadata": {
    "colab": {
     "base_uri": "https://localhost:8080/",
     "height": 349
    },
    "colab_type": "code",
    "executionInfo": {
     "elapsed": 263208,
     "status": "ok",
     "timestamp": 1600822523587,
     "user": {
      "displayName": "고병화",
      "photoUrl": "https://lh3.googleusercontent.com/a-/AOh14GgLZcAZyPt33HiIqtXjHiL8D4PIcVPdfLgODP1QBA=s64",
      "userId": "12645007744594631320"
     },
     "user_tz": -540
    },
    "id": "IUhFLTJxB7dI",
    "outputId": "f3b3ff0d-deec-48d3-9c80-5e86fd005af7"
   },
   "outputs": [
    {
     "data": {
      "text/html": [
       "<div>\n",
       "<style scoped>\n",
       "    .dataframe tbody tr th:only-of-type {\n",
       "        vertical-align: middle;\n",
       "    }\n",
       "\n",
       "    .dataframe tbody tr th {\n",
       "        vertical-align: top;\n",
       "    }\n",
       "\n",
       "    .dataframe thead th {\n",
       "        text-align: right;\n",
       "    }\n",
       "</style>\n",
       "<table border=\"1\" class=\"dataframe\">\n",
       "  <thead>\n",
       "    <tr style=\"text-align: right;\">\n",
       "      <th></th>\n",
       "      <th>문서 번호</th>\n",
       "      <th>가장 비중이 높은 토픽</th>\n",
       "      <th>가장 높은 토픽의 비중</th>\n",
       "      <th>각 토픽의 비중</th>\n",
       "    </tr>\n",
       "  </thead>\n",
       "  <tbody>\n",
       "    <tr>\n",
       "      <th>0</th>\n",
       "      <td>0</td>\n",
       "      <td>16.0</td>\n",
       "      <td>0.5357</td>\n",
       "      <td>[(1, 0.028271697), (6, 0.18350112), (12, 0.094...</td>\n",
       "    </tr>\n",
       "    <tr>\n",
       "      <th>1</th>\n",
       "      <td>1</td>\n",
       "      <td>11.0</td>\n",
       "      <td>0.5923</td>\n",
       "      <td>[(0, 0.09397328), (2, 0.027613651), (10, 0.265...</td>\n",
       "    </tr>\n",
       "    <tr>\n",
       "      <th>2</th>\n",
       "      <td>2</td>\n",
       "      <td>16.0</td>\n",
       "      <td>0.6188</td>\n",
       "      <td>[(0, 0.13830611), (1, 0.061530042), (8, 0.1084...</td>\n",
       "    </tr>\n",
       "    <tr>\n",
       "      <th>3</th>\n",
       "      <td>3</td>\n",
       "      <td>3.0</td>\n",
       "      <td>0.3822</td>\n",
       "      <td>[(1, 0.09762002), (3, 0.3821705), (8, 0.066627...</td>\n",
       "    </tr>\n",
       "    <tr>\n",
       "      <th>4</th>\n",
       "      <td>4</td>\n",
       "      <td>0.0</td>\n",
       "      <td>0.4697</td>\n",
       "      <td>[(0, 0.46967965), (8, 0.13076316), (17, 0.2552...</td>\n",
       "    </tr>\n",
       "    <tr>\n",
       "      <th>5</th>\n",
       "      <td>5</td>\n",
       "      <td>10.0</td>\n",
       "      <td>0.4428</td>\n",
       "      <td>[(6, 0.07465813), (10, 0.44282052), (11, 0.354...</td>\n",
       "    </tr>\n",
       "    <tr>\n",
       "      <th>6</th>\n",
       "      <td>6</td>\n",
       "      <td>3.0</td>\n",
       "      <td>0.8603</td>\n",
       "      <td>[(3, 0.8603361), (14, 0.016978819), (19, 0.110...</td>\n",
       "    </tr>\n",
       "    <tr>\n",
       "      <th>7</th>\n",
       "      <td>7</td>\n",
       "      <td>16.0</td>\n",
       "      <td>0.4521</td>\n",
       "      <td>[(0, 0.042559847), (1, 0.15055169), (3, 0.0338...</td>\n",
       "    </tr>\n",
       "    <tr>\n",
       "      <th>8</th>\n",
       "      <td>8</td>\n",
       "      <td>10.0</td>\n",
       "      <td>0.7477</td>\n",
       "      <td>[(10, 0.7477038), (11, 0.2257853)]</td>\n",
       "    </tr>\n",
       "    <tr>\n",
       "      <th>9</th>\n",
       "      <td>9</td>\n",
       "      <td>3.0</td>\n",
       "      <td>0.4526</td>\n",
       "      <td>[(0, 0.014965166), (1, 0.10357825), (3, 0.4526...</td>\n",
       "    </tr>\n",
       "  </tbody>\n",
       "</table>\n",
       "</div>"
      ],
      "text/plain": [
       "   문서 번호  가장 비중이 높은 토픽  가장 높은 토픽의 비중  \\\n",
       "0      0          16.0        0.5357   \n",
       "1      1          11.0        0.5923   \n",
       "2      2          16.0        0.6188   \n",
       "3      3           3.0        0.3822   \n",
       "4      4           0.0        0.4697   \n",
       "5      5          10.0        0.4428   \n",
       "6      6           3.0        0.8603   \n",
       "7      7          16.0        0.4521   \n",
       "8      8          10.0        0.7477   \n",
       "9      9           3.0        0.4526   \n",
       "\n",
       "                                            각 토픽의 비중  \n",
       "0  [(1, 0.028271697), (6, 0.18350112), (12, 0.094...  \n",
       "1  [(0, 0.09397328), (2, 0.027613651), (10, 0.265...  \n",
       "2  [(0, 0.13830611), (1, 0.061530042), (8, 0.1084...  \n",
       "3  [(1, 0.09762002), (3, 0.3821705), (8, 0.066627...  \n",
       "4  [(0, 0.46967965), (8, 0.13076316), (17, 0.2552...  \n",
       "5  [(6, 0.07465813), (10, 0.44282052), (11, 0.354...  \n",
       "6  [(3, 0.8603361), (14, 0.016978819), (19, 0.110...  \n",
       "7  [(0, 0.042559847), (1, 0.15055169), (3, 0.0338...  \n",
       "8                 [(10, 0.7477038), (11, 0.2257853)]  \n",
       "9  [(0, 0.014965166), (1, 0.10357825), (3, 0.4526...  "
      ]
     },
     "execution_count": 36,
     "metadata": {},
     "output_type": "execute_result"
    }
   ],
   "source": [
    "topictable = make_topictable_per_doc(ldamodel, corpus)\n",
    "topictable = topictable.reset_index() # 문서 번호을 의미하는 열(column)로 사용하기 위해서 인덱스 열을 하나 더 만든다.\n",
    "topictable.columns = ['문서 번호', '가장 비중이 높은 토픽', '가장 높은 토픽의 비중', '각 토픽의 비중']\n",
    "topictable[:10]"
   ]
  },
  {
   "cell_type": "markdown",
   "metadata": {
    "colab_type": "text",
    "id": "l0YO6B_sB7dP"
   },
   "source": [
    "###  잠재 디리클레 할당(LDA) 구현 : 뉴스 기사 헤드라인 "
   ]
  },
  {
   "cell_type": "code",
   "execution_count": 37,
   "metadata": {
    "colab": {},
    "colab_type": "code",
    "executionInfo": {
     "elapsed": 265679,
     "status": "ok",
     "timestamp": 1600822526063,
     "user": {
      "displayName": "고병화",
      "photoUrl": "https://lh3.googleusercontent.com/a-/AOh14GgLZcAZyPt33HiIqtXjHiL8D4PIcVPdfLgODP1QBA=s64",
      "userId": "12645007744594631320"
     },
     "user_tz": -540
    },
    "id": "LIQ2LWoRB7dQ"
   },
   "outputs": [],
   "source": [
    "import pandas as pd\n",
    "import urllib.request\n",
    "urllib.request.urlretrieve(\"https://raw.githubusercontent.com/franciscadias/data/master/abcnews-date-text.csv\", filename=\"abcnews-date-text.csv\")\n",
    "data = pd.read_csv('abcnews-date-text.csv', error_bad_lines=False)\n",
    "# 약 15년 동안 발행되었던 뉴스 기사 제목을 모아놓은 영어 데이터"
   ]
  },
  {
   "cell_type": "code",
   "execution_count": 38,
   "metadata": {
    "colab": {
     "base_uri": "https://localhost:8080/",
     "height": 36
    },
    "colab_type": "code",
    "executionInfo": {
     "elapsed": 265677,
     "status": "ok",
     "timestamp": 1600822526069,
     "user": {
      "displayName": "고병화",
      "photoUrl": "https://lh3.googleusercontent.com/a-/AOh14GgLZcAZyPt33HiIqtXjHiL8D4PIcVPdfLgODP1QBA=s64",
      "userId": "12645007744594631320"
     },
     "user_tz": -540
    },
    "id": "L3ogGjtfB7dY",
    "outputId": "8d733c8f-cfd8-467f-8f7f-ac36ef7bfdbe"
   },
   "outputs": [
    {
     "name": "stdout",
     "output_type": "stream",
     "text": [
      "1082168\n"
     ]
    }
   ],
   "source": [
    "print(len(data))"
   ]
  },
  {
   "cell_type": "code",
   "execution_count": 39,
   "metadata": {
    "colab": {
     "base_uri": "https://localhost:8080/",
     "height": 128
    },
    "colab_type": "code",
    "executionInfo": {
     "elapsed": 265666,
     "status": "ok",
     "timestamp": 1600822526070,
     "user": {
      "displayName": "고병화",
      "photoUrl": "https://lh3.googleusercontent.com/a-/AOh14GgLZcAZyPt33HiIqtXjHiL8D4PIcVPdfLgODP1QBA=s64",
      "userId": "12645007744594631320"
     },
     "user_tz": -540
    },
    "id": "WUqlnvzcB7dd",
    "outputId": "dd80071d-54af-426f-a13d-2341ce938d01"
   },
   "outputs": [
    {
     "name": "stdout",
     "output_type": "stream",
     "text": [
      "   publish_date                                      headline_text\n",
      "0      20030219  aba decides against community broadcasting lic...\n",
      "1      20030219     act fire witnesses must be aware of defamation\n",
      "2      20030219     a g calls for infrastructure protection summit\n",
      "3      20030219           air nz staff in aust strike for pay rise\n",
      "4      20030219      air nz strike to affect australian travellers\n"
     ]
    }
   ],
   "source": [
    "print(data.head(5))"
   ]
  },
  {
   "cell_type": "code",
   "execution_count": 40,
   "metadata": {
    "colab": {
     "base_uri": "https://localhost:8080/",
     "height": 198
    },
    "colab_type": "code",
    "executionInfo": {
     "elapsed": 265657,
     "status": "ok",
     "timestamp": 1600822526072,
     "user": {
      "displayName": "고병화",
      "photoUrl": "https://lh3.googleusercontent.com/a-/AOh14GgLZcAZyPt33HiIqtXjHiL8D4PIcVPdfLgODP1QBA=s64",
      "userId": "12645007744594631320"
     },
     "user_tz": -540
    },
    "id": "KZFNIHsCB7dj",
    "outputId": "7b59a720-2f00-46ef-fbf3-49a46e82641e"
   },
   "outputs": [
    {
     "data": {
      "text/html": [
       "<div>\n",
       "<style scoped>\n",
       "    .dataframe tbody tr th:only-of-type {\n",
       "        vertical-align: middle;\n",
       "    }\n",
       "\n",
       "    .dataframe tbody tr th {\n",
       "        vertical-align: top;\n",
       "    }\n",
       "\n",
       "    .dataframe thead th {\n",
       "        text-align: right;\n",
       "    }\n",
       "</style>\n",
       "<table border=\"1\" class=\"dataframe\">\n",
       "  <thead>\n",
       "    <tr style=\"text-align: right;\">\n",
       "      <th></th>\n",
       "      <th>headline_text</th>\n",
       "    </tr>\n",
       "  </thead>\n",
       "  <tbody>\n",
       "    <tr>\n",
       "      <th>0</th>\n",
       "      <td>aba decides against community broadcasting lic...</td>\n",
       "    </tr>\n",
       "    <tr>\n",
       "      <th>1</th>\n",
       "      <td>act fire witnesses must be aware of defamation</td>\n",
       "    </tr>\n",
       "    <tr>\n",
       "      <th>2</th>\n",
       "      <td>a g calls for infrastructure protection summit</td>\n",
       "    </tr>\n",
       "    <tr>\n",
       "      <th>3</th>\n",
       "      <td>air nz staff in aust strike for pay rise</td>\n",
       "    </tr>\n",
       "    <tr>\n",
       "      <th>4</th>\n",
       "      <td>air nz strike to affect australian travellers</td>\n",
       "    </tr>\n",
       "  </tbody>\n",
       "</table>\n",
       "</div>"
      ],
      "text/plain": [
       "                                       headline_text\n",
       "0  aba decides against community broadcasting lic...\n",
       "1     act fire witnesses must be aware of defamation\n",
       "2     a g calls for infrastructure protection summit\n",
       "3           air nz staff in aust strike for pay rise\n",
       "4      air nz strike to affect australian travellers"
      ]
     },
     "execution_count": 40,
     "metadata": {},
     "output_type": "execute_result"
    }
   ],
   "source": [
    "text = data[['headline_text']]\n",
    "text.head(5)"
   ]
  },
  {
   "cell_type": "code",
   "execution_count": 42,
   "metadata": {
    "colab": {
     "base_uri": "https://localhost:8080/",
     "height": 73
    },
    "colab_type": "code",
    "executionInfo": {
     "elapsed": 266429,
     "status": "ok",
     "timestamp": 1600822526853,
     "user": {
      "displayName": "고병화",
      "photoUrl": "https://lh3.googleusercontent.com/a-/AOh14GgLZcAZyPt33HiIqtXjHiL8D4PIcVPdfLgODP1QBA=s64",
      "userId": "12645007744594631320"
     },
     "user_tz": -540
    },
    "id": "TST2w-OTDjYQ",
    "outputId": "e4e36e16-da7a-4e9b-9865-96b4b9f6d7e0"
   },
   "outputs": [
    {
     "name": "stderr",
     "output_type": "stream",
     "text": [
      "[nltk_data] Downloading package punkt to\n",
      "[nltk_data]     C:\\Users\\IPA(백찬휘)\\AppData\\Roaming\\nltk_data...\n",
      "[nltk_data]   Package punkt is already up-to-date!\n"
     ]
    },
    {
     "data": {
      "text/plain": [
       "True"
      ]
     },
     "execution_count": 42,
     "metadata": {},
     "output_type": "execute_result"
    }
   ],
   "source": [
    "import nltk\n",
    "nltk.download('punkt')"
   ]
  },
  {
   "cell_type": "code",
   "execution_count": 43,
   "metadata": {
    "colab": {
     "base_uri": "https://localhost:8080/",
     "height": 128
    },
    "colab_type": "code",
    "executionInfo": {
     "elapsed": 383661,
     "status": "ok",
     "timestamp": 1600822644094,
     "user": {
      "displayName": "고병화",
      "photoUrl": "https://lh3.googleusercontent.com/a-/AOh14GgLZcAZyPt33HiIqtXjHiL8D4PIcVPdfLgODP1QBA=s64",
      "userId": "12645007744594631320"
     },
     "user_tz": -540
    },
    "id": "SVAmFrz3B7dr",
    "outputId": "8d36a018-38cf-4a6d-de3d-cffe32af7ad4"
   },
   "outputs": [
    {
     "name": "stderr",
     "output_type": "stream",
     "text": [
      "C:\\ProgramData\\Anaconda3\\envs\\tf20\\lib\\site-packages\\ipykernel_launcher.py:3: SettingWithCopyWarning: \n",
      "A value is trying to be set on a copy of a slice from a DataFrame.\n",
      "Try using .loc[row_indexer,col_indexer] = value instead\n",
      "\n",
      "See the caveats in the documentation: https://pandas.pydata.org/pandas-docs/stable/user_guide/indexing.html#returning-a-view-versus-a-copy\n",
      "  This is separate from the ipykernel package so we can avoid doing imports until\n"
     ]
    }
   ],
   "source": [
    "# 텍스트 전처리\n",
    "import nltk\n",
    "text['headline_text'] = text.apply(lambda row: nltk.word_tokenize(row['headline_text']), axis=1) "
   ]
  },
  {
   "cell_type": "code",
   "execution_count": 44,
   "metadata": {
    "colab": {
     "base_uri": "https://localhost:8080/",
     "height": 128
    },
    "colab_type": "code",
    "executionInfo": {
     "elapsed": 383654,
     "status": "ok",
     "timestamp": 1600822644095,
     "user": {
      "displayName": "고병화",
      "photoUrl": "https://lh3.googleusercontent.com/a-/AOh14GgLZcAZyPt33HiIqtXjHiL8D4PIcVPdfLgODP1QBA=s64",
      "userId": "12645007744594631320"
     },
     "user_tz": -540
    },
    "id": "viXyj8PhB7dy",
    "outputId": "e29ab550-f032-4b8c-f4a8-7953b7f992ee"
   },
   "outputs": [
    {
     "name": "stdout",
     "output_type": "stream",
     "text": [
      "                                       headline_text\n",
      "0  [aba, decides, against, community, broadcastin...\n",
      "1  [act, fire, witnesses, must, be, aware, of, de...\n",
      "2  [a, g, calls, for, infrastructure, protection,...\n",
      "3  [air, nz, staff, in, aust, strike, for, pay, r...\n",
      "4  [air, nz, strike, to, affect, australian, trav...\n"
     ]
    }
   ],
   "source": [
    "print(text.head(5))"
   ]
  },
  {
   "cell_type": "code",
   "execution_count": 45,
   "metadata": {
    "colab": {
     "base_uri": "https://localhost:8080/",
     "height": 128
    },
    "colab_type": "code",
    "executionInfo": {
     "elapsed": 397450,
     "status": "ok",
     "timestamp": 1600822657898,
     "user": {
      "displayName": "고병화",
      "photoUrl": "https://lh3.googleusercontent.com/a-/AOh14GgLZcAZyPt33HiIqtXjHiL8D4PIcVPdfLgODP1QBA=s64",
      "userId": "12645007744594631320"
     },
     "user_tz": -540
    },
    "id": "p3vLCVIfB7d8",
    "outputId": "218f8579-fd3e-4fee-be72-70acee7e4a81"
   },
   "outputs": [
    {
     "name": "stderr",
     "output_type": "stream",
     "text": [
      "C:\\ProgramData\\Anaconda3\\envs\\tf20\\lib\\site-packages\\ipykernel_launcher.py:3: SettingWithCopyWarning: \n",
      "A value is trying to be set on a copy of a slice from a DataFrame.\n",
      "Try using .loc[row_indexer,col_indexer] = value instead\n",
      "\n",
      "See the caveats in the documentation: https://pandas.pydata.org/pandas-docs/stable/user_guide/indexing.html#returning-a-view-versus-a-copy\n",
      "  This is separate from the ipykernel package so we can avoid doing imports until\n"
     ]
    }
   ],
   "source": [
    "from nltk.corpus import stopwords\n",
    "stop = stopwords.words('english')\n",
    "text['headline_text'] = text['headline_text'].apply(lambda x: [word for word in x if word not in (stop)]) # 불용어 제거"
   ]
  },
  {
   "cell_type": "code",
   "execution_count": 46,
   "metadata": {
    "colab": {
     "base_uri": "https://localhost:8080/",
     "height": 128
    },
    "colab_type": "code",
    "executionInfo": {
     "elapsed": 397443,
     "status": "ok",
     "timestamp": 1600822657899,
     "user": {
      "displayName": "고병화",
      "photoUrl": "https://lh3.googleusercontent.com/a-/AOh14GgLZcAZyPt33HiIqtXjHiL8D4PIcVPdfLgODP1QBA=s64",
      "userId": "12645007744594631320"
     },
     "user_tz": -540
    },
    "id": "A1J2hU9QB7eF",
    "outputId": "4d579dc3-84cd-40e5-8776-fcb9f6c89cfb"
   },
   "outputs": [
    {
     "name": "stdout",
     "output_type": "stream",
     "text": [
      "                                       headline_text\n",
      "0   [aba, decides, community, broadcasting, licence]\n",
      "1    [act, fire, witnesses, must, aware, defamation]\n",
      "2     [g, calls, infrastructure, protection, summit]\n",
      "3          [air, nz, staff, aust, strike, pay, rise]\n",
      "4  [air, nz, strike, affect, australian, travellers]\n"
     ]
    }
   ],
   "source": [
    "print(text.head(5))"
   ]
  },
  {
   "cell_type": "code",
   "execution_count": null,
   "metadata": {
    "colab": {},
    "colab_type": "code",
    "id": "93F68hdykEAv"
   },
   "outputs": [],
   "source": []
  },
  {
   "cell_type": "code",
   "execution_count": 47,
   "metadata": {
    "colab": {
     "base_uri": "https://localhost:8080/",
     "height": 240
    },
    "colab_type": "code",
    "executionInfo": {
     "elapsed": 25750,
     "status": "ok",
     "timestamp": 1600824197789,
     "user": {
      "displayName": "고병화",
      "photoUrl": "https://lh3.googleusercontent.com/a-/AOh14GgLZcAZyPt33HiIqtXjHiL8D4PIcVPdfLgODP1QBA=s64",
      "userId": "12645007744594631320"
     },
     "user_tz": -540
    },
    "id": "qScMah__B7eP",
    "outputId": "51e6b969-1313-46e6-bbd0-a321ba4b16e5"
   },
   "outputs": [
    {
     "name": "stdout",
     "output_type": "stream",
     "text": [
      "                                       headline_text\n",
      "0       [aba, decide, community, broadcast, licence]\n",
      "1      [act, fire, witness, must, aware, defamation]\n",
      "2      [g, call, infrastructure, protection, summit]\n",
      "3          [air, nz, staff, aust, strike, pay, rise]\n",
      "4  [air, nz, strike, affect, australian, travellers]\n"
     ]
    },
    {
     "name": "stderr",
     "output_type": "stream",
     "text": [
      "C:\\ProgramData\\Anaconda3\\envs\\tf20\\lib\\site-packages\\ipykernel_launcher.py:2: SettingWithCopyWarning: \n",
      "A value is trying to be set on a copy of a slice from a DataFrame.\n",
      "Try using .loc[row_indexer,col_indexer] = value instead\n",
      "\n",
      "See the caveats in the documentation: https://pandas.pydata.org/pandas-docs/stable/user_guide/indexing.html#returning-a-view-versus-a-copy\n",
      "  \n"
     ]
    }
   ],
   "source": [
    "from nltk.stem import WordNetLemmatizer\n",
    "text['headline_text'] = text['headline_text'].apply(lambda x: [WordNetLemmatizer().lemmatize(word, pos='v') for word in x]) # 표제어 추출\n",
    "print(text.head(5))"
   ]
  },
  {
   "cell_type": "code",
   "execution_count": 48,
   "metadata": {
    "colab": {
     "base_uri": "https://localhost:8080/",
     "height": 128
    },
    "colab_type": "code",
    "executionInfo": {
     "elapsed": 2819,
     "status": "ok",
     "timestamp": 1600824144030,
     "user": {
      "displayName": "고병화",
      "photoUrl": "https://lh3.googleusercontent.com/a-/AOh14GgLZcAZyPt33HiIqtXjHiL8D4PIcVPdfLgODP1QBA=s64",
      "userId": "12645007744594631320"
     },
     "user_tz": -540
    },
    "id": "H-YyMLdjB7eX",
    "outputId": "0022fd6a-4ef3-44bf-9ad5-055aaa1057a0"
   },
   "outputs": [
    {
     "name": "stdout",
     "output_type": "stream",
     "text": [
      "0       [decide, community, broadcast, licence]\n",
      "1      [fire, witness, must, aware, defamation]\n",
      "2    [call, infrastructure, protection, summit]\n",
      "3                   [staff, aust, strike, rise]\n",
      "4      [strike, affect, australian, travellers]\n",
      "Name: headline_text, dtype: object\n"
     ]
    }
   ],
   "source": [
    "tokenized_doc = text['headline_text'].apply(lambda x: [word for word in x if len(word) > 3])  # 길이가 3이하인 단어에 제거\n",
    "print(tokenized_doc[:5])"
   ]
  },
  {
   "cell_type": "markdown",
   "metadata": {
    "colab_type": "text",
    "id": "pw7U6rRdB7ef"
   },
   "source": [
    "#### TF-IDF 행렬 만들기"
   ]
  },
  {
   "cell_type": "code",
   "execution_count": 49,
   "metadata": {
    "colab": {
     "base_uri": "https://localhost:8080/",
     "height": 128
    },
    "colab_type": "code",
    "executionInfo": {
     "elapsed": 28723,
     "status": "ok",
     "timestamp": 1600824263603,
     "user": {
      "displayName": "고병화",
      "photoUrl": "https://lh3.googleusercontent.com/a-/AOh14GgLZcAZyPt33HiIqtXjHiL8D4PIcVPdfLgODP1QBA=s64",
      "userId": "12645007744594631320"
     },
     "user_tz": -540
    },
    "id": "noyCTaLkB7eg",
    "outputId": "3ee45bae-42f3-44d2-dbce-c156a4d97859"
   },
   "outputs": [
    {
     "name": "stderr",
     "output_type": "stream",
     "text": [
      "C:\\ProgramData\\Anaconda3\\envs\\tf20\\lib\\site-packages\\ipykernel_launcher.py:7: SettingWithCopyWarning: \n",
      "A value is trying to be set on a copy of a slice from a DataFrame.\n",
      "Try using .loc[row_indexer,col_indexer] = value instead\n",
      "\n",
      "See the caveats in the documentation: https://pandas.pydata.org/pandas-docs/stable/user_guide/indexing.html#returning-a-view-versus-a-copy\n",
      "  import sys\n"
     ]
    }
   ],
   "source": [
    "# 역토큰화 (토큰화 작업을 되돌림)\n",
    "detokenized_doc = []\n",
    "for i in range(len(text)):\n",
    "    t = ' '.join(tokenized_doc[i])\n",
    "    detokenized_doc.append(t)\n",
    "\n",
    "text['headline_text'] = detokenized_doc # 다시 text['headline_text']에 재저장"
   ]
  },
  {
   "cell_type": "code",
   "execution_count": 50,
   "metadata": {
    "colab": {
     "base_uri": "https://localhost:8080/",
     "height": 128
    },
    "colab_type": "code",
    "executionInfo": {
     "elapsed": 26729,
     "status": "ok",
     "timestamp": 1600824263604,
     "user": {
      "displayName": "고병화",
      "photoUrl": "https://lh3.googleusercontent.com/a-/AOh14GgLZcAZyPt33HiIqtXjHiL8D4PIcVPdfLgODP1QBA=s64",
      "userId": "12645007744594631320"
     },
     "user_tz": -540
    },
    "id": "ZtXqApN_B7el",
    "outputId": "fcb5f157-e5ea-41c5-c580-311c3ba25346"
   },
   "outputs": [
    {
     "data": {
      "text/plain": [
       "0       decide community broadcast licence\n",
       "1       fire witness must aware defamation\n",
       "2    call infrastructure protection summit\n",
       "3                   staff aust strike rise\n",
       "4      strike affect australian travellers\n",
       "Name: headline_text, dtype: object"
      ]
     },
     "execution_count": 50,
     "metadata": {},
     "output_type": "execute_result"
    }
   ],
   "source": [
    "text['headline_text'][:5]"
   ]
  },
  {
   "cell_type": "code",
   "execution_count": 51,
   "metadata": {
    "colab": {
     "base_uri": "https://localhost:8080/",
     "height": 36
    },
    "colab_type": "code",
    "executionInfo": {
     "elapsed": 31806,
     "status": "ok",
     "timestamp": 1600824271427,
     "user": {
      "displayName": "고병화",
      "photoUrl": "https://lh3.googleusercontent.com/a-/AOh14GgLZcAZyPt33HiIqtXjHiL8D4PIcVPdfLgODP1QBA=s64",
      "userId": "12645007744594631320"
     },
     "user_tz": -540
    },
    "id": "MpaIcY03B7es",
    "outputId": "365df4a2-a5c9-47de-9f49-bf2100bc27bb"
   },
   "outputs": [
    {
     "data": {
      "text/plain": [
       "(1082168, 1000)"
      ]
     },
     "execution_count": 51,
     "metadata": {},
     "output_type": "execute_result"
    }
   ],
   "source": [
    "from sklearn.feature_extraction.text import TfidfVectorizer\n",
    "vectorizer = TfidfVectorizer(stop_words='english', \n",
    "max_features= 1000) # 상위 1,000개의 단어를 보존 \n",
    "X = vectorizer.fit_transform(text['headline_text'])\n",
    "X.shape # TF-IDF 행렬의 크기 확인"
   ]
  },
  {
   "cell_type": "markdown",
   "metadata": {
    "colab_type": "text",
    "id": "AdNSz3J7B7e0"
   },
   "source": [
    "####  토픽 모델링"
   ]
  },
  {
   "cell_type": "code",
   "execution_count": 52,
   "metadata": {
    "colab": {},
    "colab_type": "code",
    "executionInfo": {
     "elapsed": 28614,
     "status": "ok",
     "timestamp": 1600824271429,
     "user": {
      "displayName": "고병화",
      "photoUrl": "https://lh3.googleusercontent.com/a-/AOh14GgLZcAZyPt33HiIqtXjHiL8D4PIcVPdfLgODP1QBA=s64",
      "userId": "12645007744594631320"
     },
     "user_tz": -540
    },
    "id": "Zj42iE4oB7e3"
   },
   "outputs": [],
   "source": [
    "from sklearn.decomposition import LatentDirichletAllocation\n",
    "lda_model=LatentDirichletAllocation(n_components=10,learning_method='online',random_state=777,max_iter=1)"
   ]
  },
  {
   "cell_type": "code",
   "execution_count": 53,
   "metadata": {
    "colab": {},
    "colab_type": "code",
    "executionInfo": {
     "elapsed": 188728,
     "status": "ok",
     "timestamp": 1600824432516,
     "user": {
      "displayName": "고병화",
      "photoUrl": "https://lh3.googleusercontent.com/a-/AOh14GgLZcAZyPt33HiIqtXjHiL8D4PIcVPdfLgODP1QBA=s64",
      "userId": "12645007744594631320"
     },
     "user_tz": -540
    },
    "id": "DaiNgPeiB7e9"
   },
   "outputs": [],
   "source": [
    "lda_top = lda_model.fit_transform(X)"
   ]
  },
  {
   "cell_type": "code",
   "execution_count": 54,
   "metadata": {
    "colab": {
     "base_uri": "https://localhost:8080/",
     "height": 277
    },
    "colab_type": "code",
    "executionInfo": {
     "elapsed": 187760,
     "status": "ok",
     "timestamp": 1600824432518,
     "user": {
      "displayName": "고병화",
      "photoUrl": "https://lh3.googleusercontent.com/a-/AOh14GgLZcAZyPt33HiIqtXjHiL8D4PIcVPdfLgODP1QBA=s64",
      "userId": "12645007744594631320"
     },
     "user_tz": -540
    },
    "id": "64BnffKlB7fK",
    "outputId": "02792512-a55a-40a0-8517-abc4a67911a0"
   },
   "outputs": [
    {
     "name": "stdout",
     "output_type": "stream",
     "text": [
      "[[1.00001533e-01 1.00001269e-01 1.00004179e-01 ... 1.00006124e-01\n",
      "  1.00003111e-01 1.00003064e-01]\n",
      " [1.00001199e-01 1.13513398e+03 3.50170830e+03 ... 1.00009349e-01\n",
      "  1.00001896e-01 1.00002937e-01]\n",
      " [1.00001811e-01 1.00001151e-01 1.00003566e-01 ... 1.00002693e-01\n",
      "  1.00002061e-01 7.53381835e+02]\n",
      " ...\n",
      " [1.00001065e-01 1.00001689e-01 1.00003278e-01 ... 1.00006721e-01\n",
      "  1.00004902e-01 1.00004759e-01]\n",
      " [1.00002401e-01 1.00000732e-01 1.00002989e-01 ... 1.00003517e-01\n",
      "  1.00001428e-01 1.00005266e-01]\n",
      " [1.00003427e-01 1.00002313e-01 1.00007340e-01 ... 1.00003732e-01\n",
      "  1.00001207e-01 1.00005153e-01]]\n",
      "(10, 1000)\n"
     ]
    }
   ],
   "source": [
    "print(lda_model.components_)\n",
    "print(lda_model.components_.shape) "
   ]
  },
  {
   "cell_type": "code",
   "execution_count": 55,
   "metadata": {
    "colab": {
     "base_uri": "https://localhost:8080/",
     "height": 203
    },
    "colab_type": "code",
    "executionInfo": {
     "elapsed": 186983,
     "status": "ok",
     "timestamp": 1600824432519,
     "user": {
      "displayName": "고병화",
      "photoUrl": "https://lh3.googleusercontent.com/a-/AOh14GgLZcAZyPt33HiIqtXjHiL8D4PIcVPdfLgODP1QBA=s64",
      "userId": "12645007744594631320"
     },
     "user_tz": -540
    },
    "id": "YDduQGgcB7fO",
    "outputId": "f78f43b4-2338-4f9c-cfcc-00478c4c57d4"
   },
   "outputs": [
    {
     "name": "stdout",
     "output_type": "stream",
     "text": [
      "Topic 1: [('government', 8725.19), ('sydney', 8393.29), ('queensland', 7720.12), ('change', 5874.27), ('home', 5674.38)]\n",
      "Topic 2: [('australia', 13691.08), ('australian', 11088.95), ('melbourne', 7528.43), ('world', 6707.7), ('south', 6677.03)]\n",
      "Topic 3: [('death', 5935.06), ('interview', 5924.98), ('kill', 5851.6), ('jail', 4632.85), ('life', 4275.27)]\n",
      "Topic 4: [('house', 6113.49), ('2016', 5488.19), ('state', 4923.41), ('brisbane', 4857.21), ('tasmania', 4610.97)]\n",
      "Topic 5: [('court', 7542.74), ('attack', 6959.64), ('open', 5663.0), ('face', 5193.63), ('warn', 5115.01)]\n",
      "Topic 6: [('market', 5545.86), ('rural', 5502.89), ('plan', 4828.71), ('indigenous', 4223.4), ('power', 3968.26)]\n",
      "Topic 7: [('charge', 8428.8), ('election', 7561.63), ('adelaide', 6758.36), ('make', 5658.99), ('test', 5062.69)]\n",
      "Topic 8: [('police', 12092.44), ('crash', 5281.14), ('drug', 4290.87), ('beat', 3257.58), ('rise', 2934.92)]\n",
      "Topic 9: [('fund', 4693.03), ('labor', 4047.69), ('national', 4038.68), ('council', 4006.62), ('claim', 3604.75)]\n",
      "Topic 10: [('trump', 11966.41), ('perth', 6456.53), ('report', 5611.33), ('school', 5465.06), ('woman', 5456.76)]\n"
     ]
    }
   ],
   "source": [
    "terms = vectorizer.get_feature_names() # 단어 집합. 1,000개의 단어가 저장됨.\n",
    "\n",
    "def get_topics(components, feature_names, n=5):\n",
    "    for idx, topic in enumerate(components):\n",
    "        print(\"Topic %d:\" % (idx+1), [(feature_names[i], topic[i].round(2)) for i in topic.argsort()[:-n - 1:-1]])\n",
    "        \n",
    "get_topics(lda_model.components_,terms)"
   ]
  },
  {
   "cell_type": "code",
   "execution_count": null,
   "metadata": {
    "colab": {},
    "colab_type": "code",
    "executionInfo": {
     "elapsed": 397818,
     "status": "aborted",
     "timestamp": 1600822658312,
     "user": {
      "displayName": "고병화",
      "photoUrl": "https://lh3.googleusercontent.com/a-/AOh14GgLZcAZyPt33HiIqtXjHiL8D4PIcVPdfLgODP1QBA=s64",
      "userId": "12645007744594631320"
     },
     "user_tz": -540
    },
    "id": "5ixRRBHZDIxB"
   },
   "outputs": [],
   "source": []
  }
 ],
 "metadata": {
  "accelerator": "GPU",
  "colab": {
   "collapsed_sections": [],
   "name": "08_토픽모델링.ipynb",
   "provenance": []
  },
  "kernelspec": {
   "display_name": "Python 3",
   "language": "python",
   "name": "python3"
  },
  "language_info": {
   "codemirror_mode": {
    "name": "ipython",
    "version": 3
   },
   "file_extension": ".py",
   "mimetype": "text/x-python",
   "name": "python",
   "nbconvert_exporter": "python",
   "pygments_lexer": "ipython3",
   "version": "3.7.7"
  }
 },
 "nbformat": 4,
 "nbformat_minor": 1
}
