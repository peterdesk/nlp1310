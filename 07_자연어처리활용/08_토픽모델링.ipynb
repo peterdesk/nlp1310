{
 "cells": [
  {
   "cell_type": "markdown",
   "metadata": {
    "colab_type": "text",
    "id": "3OKsUir3B7Y_"
   },
   "source": [
    "# 토픽 모델링(Topic Modeling)\n",
    "#### 토픽(Topic)은 한국어로는 주제라고 한다. \n",
    "#### 토픽 모델링(Topic Modeling)이란 기계 학습 및 자연어 처리 분야에서 토픽이라는 문서 집합의 추상적인 주제를 발견하기 위한 통계적 모델 중 하나로, \n",
    "\n",
    "#### 텍스트 본문의 숨겨진 의미 구조를 발견하기 위해 사용되는 텍스트 마이닝 기법이다."
   ]
  },
  {
   "cell_type": "markdown",
   "metadata": {
    "colab_type": "text",
    "id": "gW8ml3TmB7ZC"
   },
   "source": [
    "## [1] TF-IDF(Term Frequency-Inverse Document Frequency) : 단어 빈도-역 문서 빈도\n",
    "TF-IDF(Term Frequency - Inverse Document Frequency)는 정보 검색과 텍스트 마이닝에서 이용하는 가중치로, 여러 문서로 이루어진 문서군이 있을 때 어떤 단어가 특정 문서 내에서 얼마나 중요한 것인지를 나타내는 통계적 수치이다. 문서의 핵심어를 추출하거나, 검색 엔진에서 검색 결과의 순위를 결정하거나, 문서들 사이의 비슷한 정도를 구하는 등의 용도로 사용할 수 있다."
   ]
  },
  {
   "cell_type": "code",
   "execution_count": 1,
   "metadata": {
    "colab": {},
    "colab_type": "code",
    "executionInfo": {
     "elapsed": 2392,
     "status": "ok",
     "timestamp": 1600822262490,
     "user": {
      "displayName": "고병화",
      "photoUrl": "https://lh3.googleusercontent.com/a-/AOh14GgLZcAZyPt33HiIqtXjHiL8D4PIcVPdfLgODP1QBA=s64",
      "userId": "12645007744594631320"
     },
     "user_tz": -540
    },
    "id": "LqlbgW3zB7ZE"
   },
   "outputs": [],
   "source": [
    "import pandas as pd # 데이터프레임 사용을 위해\n",
    "import numpy as np\n",
    "from math import log # IDF 계산을 위해"
   ]
  },
  {
   "cell_type": "code",
   "execution_count": 2,
   "metadata": {
    "colab": {},
    "colab_type": "code",
    "executionInfo": {
     "elapsed": 2381,
     "status": "ok",
     "timestamp": 1600822262491,
     "user": {
      "displayName": "고병화",
      "photoUrl": "https://lh3.googleusercontent.com/a-/AOh14GgLZcAZyPt33HiIqtXjHiL8D4PIcVPdfLgODP1QBA=s64",
      "userId": "12645007744594631320"
     },
     "user_tz": -540
    },
    "id": "GqYTV_-zB7ZN"
   },
   "outputs": [],
   "source": [
    "docs = [\n",
    "  '먹고 싶은 사과',\n",
    "  '먹고 싶은 바나나',\n",
    "  '길고 노란 바나나 바나나',\n",
    "  '저는 과일이 좋아요'\n",
    "] \n",
    "vocab = list(set(w for doc in docs for w in doc.split()))\n",
    "vocab.sort()"
   ]
  },
  {
   "cell_type": "code",
   "execution_count": 3,
   "metadata": {
    "colab": {},
    "colab_type": "code",
    "executionInfo": {
     "elapsed": 2374,
     "status": "ok",
     "timestamp": 1600822262492,
     "user": {
      "displayName": "고병화",
      "photoUrl": "https://lh3.googleusercontent.com/a-/AOh14GgLZcAZyPt33HiIqtXjHiL8D4PIcVPdfLgODP1QBA=s64",
      "userId": "12645007744594631320"
     },
     "user_tz": -540
    },
    "id": "NnOUCN3uB7ZW"
   },
   "outputs": [],
   "source": [
    "N = len(docs) # 총 문서의 수\n",
    "\n",
    "def tf(t, d):  # 특정 문서 d에서의 특정 단어 t의 등장 횟수\n",
    "    return d.count(t)\n",
    "\n",
    "def idf(t):  # df(t):특정 단어 t가 등장한 문서의 수,idf(t):df(t)의 역수, log는 N이 커지면 값이 기하급수로 늘어나는걸 방지,분모 1은 df가 0일 경우 대비\n",
    "    df = 0\n",
    "    for doc in docs:\n",
    "        df += t in doc\n",
    "    return log(N/(df + 1))\n",
    "\n",
    "def tfidf(t, d): # tf(t,d)와 idf(t)를 곱한 값\n",
    "    return tf(t,d)* idf(t)"
   ]
  },
  {
   "cell_type": "code",
   "execution_count": 4,
   "metadata": {
    "colab": {
     "base_uri": "https://localhost:8080/",
     "height": 168
    },
    "colab_type": "code",
    "executionInfo": {
     "elapsed": 2358,
     "status": "ok",
     "timestamp": 1600822262493,
     "user": {
      "displayName": "고병화",
      "photoUrl": "https://lh3.googleusercontent.com/a-/AOh14GgLZcAZyPt33HiIqtXjHiL8D4PIcVPdfLgODP1QBA=s64",
      "userId": "12645007744594631320"
     },
     "user_tz": -540
    },
    "id": "Vw6nK3U5B7Zf",
    "outputId": "8a772ef9-7d4d-4b5b-ffb0-0f540a25903f"
   },
   "outputs": [
    {
     "data": {
      "text/html": [
       "<div>\n",
       "<style scoped>\n",
       "    .dataframe tbody tr th:only-of-type {\n",
       "        vertical-align: middle;\n",
       "    }\n",
       "\n",
       "    .dataframe tbody tr th {\n",
       "        vertical-align: top;\n",
       "    }\n",
       "\n",
       "    .dataframe thead th {\n",
       "        text-align: right;\n",
       "    }\n",
       "</style>\n",
       "<table border=\"1\" class=\"dataframe\">\n",
       "  <thead>\n",
       "    <tr style=\"text-align: right;\">\n",
       "      <th></th>\n",
       "      <th>과일이</th>\n",
       "      <th>길고</th>\n",
       "      <th>노란</th>\n",
       "      <th>먹고</th>\n",
       "      <th>바나나</th>\n",
       "      <th>사과</th>\n",
       "      <th>싶은</th>\n",
       "      <th>저는</th>\n",
       "      <th>좋아요</th>\n",
       "    </tr>\n",
       "  </thead>\n",
       "  <tbody>\n",
       "    <tr>\n",
       "      <th>0</th>\n",
       "      <td>0</td>\n",
       "      <td>0</td>\n",
       "      <td>0</td>\n",
       "      <td>1</td>\n",
       "      <td>0</td>\n",
       "      <td>1</td>\n",
       "      <td>1</td>\n",
       "      <td>0</td>\n",
       "      <td>0</td>\n",
       "    </tr>\n",
       "    <tr>\n",
       "      <th>1</th>\n",
       "      <td>0</td>\n",
       "      <td>0</td>\n",
       "      <td>0</td>\n",
       "      <td>1</td>\n",
       "      <td>1</td>\n",
       "      <td>0</td>\n",
       "      <td>1</td>\n",
       "      <td>0</td>\n",
       "      <td>0</td>\n",
       "    </tr>\n",
       "    <tr>\n",
       "      <th>2</th>\n",
       "      <td>0</td>\n",
       "      <td>1</td>\n",
       "      <td>1</td>\n",
       "      <td>0</td>\n",
       "      <td>2</td>\n",
       "      <td>0</td>\n",
       "      <td>0</td>\n",
       "      <td>0</td>\n",
       "      <td>0</td>\n",
       "    </tr>\n",
       "    <tr>\n",
       "      <th>3</th>\n",
       "      <td>1</td>\n",
       "      <td>0</td>\n",
       "      <td>0</td>\n",
       "      <td>0</td>\n",
       "      <td>0</td>\n",
       "      <td>0</td>\n",
       "      <td>0</td>\n",
       "      <td>1</td>\n",
       "      <td>1</td>\n",
       "    </tr>\n",
       "  </tbody>\n",
       "</table>\n",
       "</div>"
      ],
      "text/plain": [
       "   과일이  길고  노란  먹고  바나나  사과  싶은  저는  좋아요\n",
       "0    0   0   0   1    0   1   1   0    0\n",
       "1    0   0   0   1    1   0   1   0    0\n",
       "2    0   1   1   0    2   0   0   0    0\n",
       "3    1   0   0   0    0   0   0   1    1"
      ]
     },
     "execution_count": 4,
     "metadata": {
      "tags": []
     },
     "output_type": "execute_result"
    }
   ],
   "source": [
    "# Document-Term Matrix(DTM) : 문서에서 등장하는 각 단어들의 빈도를 행렬로 표현\n",
    "result = []\n",
    "for i in range(N):\n",
    "    result.append([])\n",
    "    d = docs[i]\n",
    "    for j in range(len(vocab)):\n",
    "        t = vocab[j]        \n",
    "        result[-1].append(tf(t, d))\n",
    "\n",
    "tf_ = pd.DataFrame(result, columns = vocab)\n",
    "tf_"
   ]
  },
  {
   "cell_type": "code",
   "execution_count": 5,
   "metadata": {
    "colab": {
     "base_uri": "https://localhost:8080/",
     "height": 319
    },
    "colab_type": "code",
    "executionInfo": {
     "elapsed": 2344,
     "status": "ok",
     "timestamp": 1600822262493,
     "user": {
      "displayName": "고병화",
      "photoUrl": "https://lh3.googleusercontent.com/a-/AOh14GgLZcAZyPt33HiIqtXjHiL8D4PIcVPdfLgODP1QBA=s64",
      "userId": "12645007744594631320"
     },
     "user_tz": -540
    },
    "id": "EJ-tAcW5B7Zq",
    "outputId": "49fa2b80-130a-4374-934c-c34408edf471"
   },
   "outputs": [
    {
     "data": {
      "text/html": [
       "<div>\n",
       "<style scoped>\n",
       "    .dataframe tbody tr th:only-of-type {\n",
       "        vertical-align: middle;\n",
       "    }\n",
       "\n",
       "    .dataframe tbody tr th {\n",
       "        vertical-align: top;\n",
       "    }\n",
       "\n",
       "    .dataframe thead th {\n",
       "        text-align: right;\n",
       "    }\n",
       "</style>\n",
       "<table border=\"1\" class=\"dataframe\">\n",
       "  <thead>\n",
       "    <tr style=\"text-align: right;\">\n",
       "      <th></th>\n",
       "      <th>IDF</th>\n",
       "    </tr>\n",
       "  </thead>\n",
       "  <tbody>\n",
       "    <tr>\n",
       "      <th>과일이</th>\n",
       "      <td>0.693147</td>\n",
       "    </tr>\n",
       "    <tr>\n",
       "      <th>길고</th>\n",
       "      <td>0.693147</td>\n",
       "    </tr>\n",
       "    <tr>\n",
       "      <th>노란</th>\n",
       "      <td>0.693147</td>\n",
       "    </tr>\n",
       "    <tr>\n",
       "      <th>먹고</th>\n",
       "      <td>0.287682</td>\n",
       "    </tr>\n",
       "    <tr>\n",
       "      <th>바나나</th>\n",
       "      <td>0.287682</td>\n",
       "    </tr>\n",
       "    <tr>\n",
       "      <th>사과</th>\n",
       "      <td>0.693147</td>\n",
       "    </tr>\n",
       "    <tr>\n",
       "      <th>싶은</th>\n",
       "      <td>0.287682</td>\n",
       "    </tr>\n",
       "    <tr>\n",
       "      <th>저는</th>\n",
       "      <td>0.693147</td>\n",
       "    </tr>\n",
       "    <tr>\n",
       "      <th>좋아요</th>\n",
       "      <td>0.693147</td>\n",
       "    </tr>\n",
       "  </tbody>\n",
       "</table>\n",
       "</div>"
      ],
      "text/plain": [
       "          IDF\n",
       "과일이  0.693147\n",
       "길고   0.693147\n",
       "노란   0.693147\n",
       "먹고   0.287682\n",
       "바나나  0.287682\n",
       "사과   0.693147\n",
       "싶은   0.287682\n",
       "저는   0.693147\n",
       "좋아요  0.693147"
      ]
     },
     "execution_count": 5,
     "metadata": {
      "tags": []
     },
     "output_type": "execute_result"
    }
   ],
   "source": [
    "result = []\n",
    "for j in range(len(vocab)):\n",
    "    t = vocab[j]\n",
    "    result.append(idf(t))\n",
    "\n",
    "idf_ = pd.DataFrame(result, index = vocab, columns = [\"IDF\"])\n",
    "idf_"
   ]
  },
  {
   "cell_type": "code",
   "execution_count": 6,
   "metadata": {
    "colab": {
     "base_uri": "https://localhost:8080/",
     "height": 168
    },
    "colab_type": "code",
    "executionInfo": {
     "elapsed": 2332,
     "status": "ok",
     "timestamp": 1600822262494,
     "user": {
      "displayName": "고병화",
      "photoUrl": "https://lh3.googleusercontent.com/a-/AOh14GgLZcAZyPt33HiIqtXjHiL8D4PIcVPdfLgODP1QBA=s64",
      "userId": "12645007744594631320"
     },
     "user_tz": -540
    },
    "id": "0GauXZCGB7Zx",
    "outputId": "ef84fd06-ef6a-4697-a0d9-6624b92e4ab7"
   },
   "outputs": [
    {
     "data": {
      "text/html": [
       "<div>\n",
       "<style scoped>\n",
       "    .dataframe tbody tr th:only-of-type {\n",
       "        vertical-align: middle;\n",
       "    }\n",
       "\n",
       "    .dataframe tbody tr th {\n",
       "        vertical-align: top;\n",
       "    }\n",
       "\n",
       "    .dataframe thead th {\n",
       "        text-align: right;\n",
       "    }\n",
       "</style>\n",
       "<table border=\"1\" class=\"dataframe\">\n",
       "  <thead>\n",
       "    <tr style=\"text-align: right;\">\n",
       "      <th></th>\n",
       "      <th>과일이</th>\n",
       "      <th>길고</th>\n",
       "      <th>노란</th>\n",
       "      <th>먹고</th>\n",
       "      <th>바나나</th>\n",
       "      <th>사과</th>\n",
       "      <th>싶은</th>\n",
       "      <th>저는</th>\n",
       "      <th>좋아요</th>\n",
       "    </tr>\n",
       "  </thead>\n",
       "  <tbody>\n",
       "    <tr>\n",
       "      <th>0</th>\n",
       "      <td>0.000000</td>\n",
       "      <td>0.000000</td>\n",
       "      <td>0.000000</td>\n",
       "      <td>0.287682</td>\n",
       "      <td>0.000000</td>\n",
       "      <td>0.693147</td>\n",
       "      <td>0.287682</td>\n",
       "      <td>0.000000</td>\n",
       "      <td>0.000000</td>\n",
       "    </tr>\n",
       "    <tr>\n",
       "      <th>1</th>\n",
       "      <td>0.000000</td>\n",
       "      <td>0.000000</td>\n",
       "      <td>0.000000</td>\n",
       "      <td>0.287682</td>\n",
       "      <td>0.287682</td>\n",
       "      <td>0.000000</td>\n",
       "      <td>0.287682</td>\n",
       "      <td>0.000000</td>\n",
       "      <td>0.000000</td>\n",
       "    </tr>\n",
       "    <tr>\n",
       "      <th>2</th>\n",
       "      <td>0.000000</td>\n",
       "      <td>0.693147</td>\n",
       "      <td>0.693147</td>\n",
       "      <td>0.000000</td>\n",
       "      <td>0.575364</td>\n",
       "      <td>0.000000</td>\n",
       "      <td>0.000000</td>\n",
       "      <td>0.000000</td>\n",
       "      <td>0.000000</td>\n",
       "    </tr>\n",
       "    <tr>\n",
       "      <th>3</th>\n",
       "      <td>0.693147</td>\n",
       "      <td>0.000000</td>\n",
       "      <td>0.000000</td>\n",
       "      <td>0.000000</td>\n",
       "      <td>0.000000</td>\n",
       "      <td>0.000000</td>\n",
       "      <td>0.000000</td>\n",
       "      <td>0.693147</td>\n",
       "      <td>0.693147</td>\n",
       "    </tr>\n",
       "  </tbody>\n",
       "</table>\n",
       "</div>"
      ],
      "text/plain": [
       "        과일이        길고        노란  ...        싶은        저는       좋아요\n",
       "0  0.000000  0.000000  0.000000  ...  0.287682  0.000000  0.000000\n",
       "1  0.000000  0.000000  0.000000  ...  0.287682  0.000000  0.000000\n",
       "2  0.000000  0.693147  0.693147  ...  0.000000  0.000000  0.000000\n",
       "3  0.693147  0.000000  0.000000  ...  0.000000  0.693147  0.693147\n",
       "\n",
       "[4 rows x 9 columns]"
      ]
     },
     "execution_count": 6,
     "metadata": {
      "tags": []
     },
     "output_type": "execute_result"
    }
   ],
   "source": [
    "result = []\n",
    "for i in range(N):\n",
    "    result.append([])\n",
    "    d = docs[i]\n",
    "    for j in range(len(vocab)):\n",
    "        t = vocab[j]\n",
    "\n",
    "        result[-1].append(tfidf(t,d))\n",
    "\n",
    "tfidf_ = pd.DataFrame(result, columns = vocab)\n",
    "tfidf_\n",
    "\n",
    "# TF-IDF는 모든 문서에서 자주 등장하는 단어는 중요도가 낮다고 판단하며, 특정 문서에서만 자주 등장하는 단어는 중요도가 높다고 판단한다 \n",
    "# TF-IDF 값이 낮으면 중요도가 낮은 것이며, TF-IDF 값이 크면 중요도가 큰 것. 즉, the나 a와 같이 불용어의 경우에는 모든 문서에 자주 \n",
    "# 등장하기 마련이기 때문에 자연스럽게 불용어의 TF-IDF의 값은 다른 단어의 TF-IDF에 비해서 낮아지게 된다"
   ]
  },
  {
   "cell_type": "markdown",
   "metadata": {
    "colab_type": "text",
    "id": "TojL0Ux3B7Z5"
   },
   "source": [
    "### 사이킷런을 이용한 DTM과 TF-IDF"
   ]
  },
  {
   "cell_type": "code",
   "execution_count": 7,
   "metadata": {
    "colab": {
     "base_uri": "https://localhost:8080/",
     "height": 91
    },
    "colab_type": "code",
    "executionInfo": {
     "elapsed": 2313,
     "status": "ok",
     "timestamp": 1600822262495,
     "user": {
      "displayName": "고병화",
      "photoUrl": "https://lh3.googleusercontent.com/a-/AOh14GgLZcAZyPt33HiIqtXjHiL8D4PIcVPdfLgODP1QBA=s64",
      "userId": "12645007744594631320"
     },
     "user_tz": -540
    },
    "id": "CBTZiNvsB7Z7",
    "outputId": "5c93d2b2-5aca-48f9-8261-a69ddaf3dd35"
   },
   "outputs": [
    {
     "name": "stdout",
     "output_type": "stream",
     "text": [
      "[[0 1 0 1 0 1 0 1 1]\n",
      " [0 0 1 0 0 0 0 1 0]\n",
      " [1 0 0 0 1 0 1 0 0]]\n",
      "{'you': 7, 'know': 1, 'want': 5, 'your': 8, 'love': 3, 'like': 2, 'what': 6, 'should': 4, 'do': 0}\n"
     ]
    }
   ],
   "source": [
    "from sklearn.feature_extraction.text import CountVectorizer\n",
    "corpus = [\n",
    "    'you know I want your love',\n",
    "    'I like you',\n",
    "    'what should I do ',    \n",
    "]\n",
    "vector = CountVectorizer()\n",
    "print(vector.fit_transform(corpus).toarray()) # 코퍼스로부터 각 단어의 빈도 수를 기록한다.\n",
    "print(vector.vocabulary_)                     # 각 단어의 인덱스가 어떻게 부여되었는지를 보여준다 , 한개의 문자는 인덱스를 만들지 않음"
   ]
  },
  {
   "cell_type": "code",
   "execution_count": 8,
   "metadata": {
    "colab": {
     "base_uri": "https://localhost:8080/",
     "height": 147
    },
    "colab_type": "code",
    "executionInfo": {
     "elapsed": 2304,
     "status": "ok",
     "timestamp": 1600822262495,
     "user": {
      "displayName": "고병화",
      "photoUrl": "https://lh3.googleusercontent.com/a-/AOh14GgLZcAZyPt33HiIqtXjHiL8D4PIcVPdfLgODP1QBA=s64",
      "userId": "12645007744594631320"
     },
     "user_tz": -540
    },
    "id": "PM2A8Gj6B7aG",
    "outputId": "155d5be1-730e-490c-995b-554ac979c3e1"
   },
   "outputs": [
    {
     "name": "stdout",
     "output_type": "stream",
     "text": [
      "[[0.         0.46735098 0.         0.46735098 0.         0.46735098\n",
      "  0.         0.35543247 0.46735098]\n",
      " [0.         0.         0.79596054 0.         0.         0.\n",
      "  0.         0.60534851 0.        ]\n",
      " [0.57735027 0.         0.         0.         0.57735027 0.\n",
      "  0.57735027 0.         0.        ]]\n",
      "{'you': 7, 'know': 1, 'want': 5, 'your': 8, 'love': 3, 'like': 2, 'what': 6, 'should': 4, 'do': 0}\n"
     ]
    }
   ],
   "source": [
    "from sklearn.feature_extraction.text import TfidfVectorizer\n",
    "corpus = [\n",
    "    'you know I want your love',\n",
    "    'I like you',\n",
    "    'what should I do ',    \n",
    "]\n",
    "tfidfv = TfidfVectorizer().fit(corpus)\n",
    "print(tfidfv.transform(corpus).toarray())\n",
    "print(tfidfv.vocabulary_)"
   ]
  },
  {
   "cell_type": "markdown",
   "metadata": {
    "colab_type": "text",
    "id": "cPOUvXu1B7aO"
   },
   "source": [
    "## [2] 잠재 의미 분석(Latent Semantic Analysis, LSA)\n",
    "SA는 기본적으로 DTM이나 TF-IDF 행렬에 절단된 SVD(truncated SVD)를 사용하여 차원을 축소시키고, 단어들의 잠재적인 의미를 끌어낸다"
   ]
  },
  {
   "cell_type": "code",
   "execution_count": 9,
   "metadata": {
    "colab": {},
    "colab_type": "code",
    "executionInfo": {
     "elapsed": 2728,
     "status": "ok",
     "timestamp": 1600822262922,
     "user": {
      "displayName": "고병화",
      "photoUrl": "https://lh3.googleusercontent.com/a-/AOh14GgLZcAZyPt33HiIqtXjHiL8D4PIcVPdfLgODP1QBA=s64",
      "userId": "12645007744594631320"
     },
     "user_tz": -540
    },
    "id": "6R_ybZ37B7aQ"
   },
   "outputs": [],
   "source": [
    "from sklearn.datasets import fetch_20newsgroups"
   ]
  },
  {
   "cell_type": "code",
   "execution_count": 10,
   "metadata": {
    "colab": {
     "base_uri": "https://localhost:8080/",
     "height": 73
    },
    "colab_type": "code",
    "executionInfo": {
     "elapsed": 14073,
     "status": "ok",
     "timestamp": 1600822274278,
     "user": {
      "displayName": "고병화",
      "photoUrl": "https://lh3.googleusercontent.com/a-/AOh14GgLZcAZyPt33HiIqtXjHiL8D4PIcVPdfLgODP1QBA=s64",
      "userId": "12645007744594631320"
     },
     "user_tz": -540
    },
    "id": "9pfdZawtB7aX",
    "outputId": "ed514345-4333-4441-f6a2-622bbf694ac1"
   },
   "outputs": [
    {
     "name": "stderr",
     "output_type": "stream",
     "text": [
      "Downloading 20news dataset. This may take a few minutes.\n",
      "Downloading dataset from https://ndownloader.figshare.com/files/5975967 (14 MB)\n"
     ]
    },
    {
     "data": {
      "text/plain": [
       "11314"
      ]
     },
     "execution_count": 10,
     "metadata": {
      "tags": []
     },
     "output_type": "execute_result"
    }
   ],
   "source": [
    "# wenty Newsgroups 뉴스 그룹 데이터 읽어오기 \n",
    "dataset = fetch_20newsgroups(shuffle=True, random_state=1, remove=('headers', 'footers', 'quotes'))\n",
    "documents = dataset.data   # list\n",
    "len(documents) "
   ]
  },
  {
   "cell_type": "code",
   "execution_count": 11,
   "metadata": {
    "colab": {
     "base_uri": "https://localhost:8080/",
     "height": 91
    },
    "colab_type": "code",
    "executionInfo": {
     "elapsed": 14067,
     "status": "ok",
     "timestamp": 1600822274279,
     "user": {
      "displayName": "고병화",
      "photoUrl": "https://lh3.googleusercontent.com/a-/AOh14GgLZcAZyPt33HiIqtXjHiL8D4PIcVPdfLgODP1QBA=s64",
      "userId": "12645007744594631320"
     },
     "user_tz": -540
    },
    "id": "AkT5tOJWB7af",
    "outputId": "d93d1ecb-4b5e-4db6-fab7-3fc1b5c28ee9"
   },
   "outputs": [
    {
     "data": {
      "application/vnd.google.colaboratory.intrinsic+json": {
       "type": "string"
      },
      "text/plain": [
       "\"\\n\\n\\n\\n\\n\\n\\nYeah, do you expect people to read the FAQ, etc. and actually accept hard\\natheism?  No, you need a little leap of faith, Jimmy.  Your logic runs out\\nof steam!\\n\\n\\n\\n\\n\\n\\n\\nJim,\\n\\nSorry I can't pity you, Jim.  And I'm sorry that you have these feelings of\\ndenial about the faith you need to get by.  Oh well, just pretend that it will\\nall end happily ever after anyway.  Maybe if you start a new newsgroup,\\nalt.atheist.hard, you won't be bummin' so much?\\n\\n\\n\\n\\n\\n\\nBye-Bye, Big Jim.  Don't forget your Flintstone's Chewables!  :) \\n--\\nBake Timmons, III\""
      ]
     },
     "execution_count": 11,
     "metadata": {
      "tags": []
     },
     "output_type": "execute_result"
    }
   ],
   "source": [
    "documents[1]"
   ]
  },
  {
   "cell_type": "code",
   "execution_count": 12,
   "metadata": {
    "colab": {
     "base_uri": "https://localhost:8080/",
     "height": 56
    },
    "colab_type": "code",
    "executionInfo": {
     "elapsed": 14058,
     "status": "ok",
     "timestamp": 1600822274280,
     "user": {
      "displayName": "고병화",
      "photoUrl": "https://lh3.googleusercontent.com/a-/AOh14GgLZcAZyPt33HiIqtXjHiL8D4PIcVPdfLgODP1QBA=s64",
      "userId": "12645007744594631320"
     },
     "user_tz": -540
    },
    "id": "o4lUCgdpB7an",
    "outputId": "8317cc8d-33be-422e-f7e0-05277b5af034"
   },
   "outputs": [
    {
     "name": "stdout",
     "output_type": "stream",
     "text": [
      "['alt.atheism', 'comp.graphics', 'comp.os.ms-windows.misc', 'comp.sys.ibm.pc.hardware', 'comp.sys.mac.hardware', 'comp.windows.x', 'misc.forsale', 'rec.autos', 'rec.motorcycles', 'rec.sport.baseball', 'rec.sport.hockey', 'sci.crypt', 'sci.electronics', 'sci.med', 'sci.space', 'soc.religion.christian', 'talk.politics.guns', 'talk.politics.mideast', 'talk.politics.misc', 'talk.religion.misc']\n"
     ]
    }
   ],
   "source": [
    "print(dataset.target_names)"
   ]
  },
  {
   "cell_type": "markdown",
   "metadata": {
    "colab_type": "text",
    "id": "JibjU7BSB7aw"
   },
   "source": [
    "### 텍스트 전처리"
   ]
  },
  {
   "cell_type": "code",
   "execution_count": 13,
   "metadata": {
    "colab": {},
    "colab_type": "code",
    "executionInfo": {
     "elapsed": 14858,
     "status": "ok",
     "timestamp": 1600822275084,
     "user": {
      "displayName": "고병화",
      "photoUrl": "https://lh3.googleusercontent.com/a-/AOh14GgLZcAZyPt33HiIqtXjHiL8D4PIcVPdfLgODP1QBA=s64",
      "userId": "12645007744594631320"
     },
     "user_tz": -540
    },
    "id": "H_Xt8wIeB7ax"
   },
   "outputs": [],
   "source": [
    "news_df = pd.DataFrame({'document':documents})\n",
    "# 특수 문자 제거\n",
    "news_df['clean_doc'] = news_df['document'].str.replace(\"[^a-zA-Z]\", \" \")\n",
    "# 길이가 3이하인 단어는 제거 (길이가 짧은 단어 제거)\n",
    "news_df['clean_doc'] = news_df['clean_doc'].apply(lambda x: ' '.join([w for w in x.split() if len(w)>3]))\n",
    "# 전체 단어에 대한 소문자 변환\n",
    "news_df['clean_doc'] = news_df['clean_doc'].apply(lambda x: x.lower())"
   ]
  },
  {
   "cell_type": "code",
   "execution_count": 14,
   "metadata": {
    "colab": {
     "base_uri": "https://localhost:8080/",
     "height": 73
    },
    "colab_type": "code",
    "executionInfo": {
     "elapsed": 14850,
     "status": "ok",
     "timestamp": 1600822275086,
     "user": {
      "displayName": "고병화",
      "photoUrl": "https://lh3.googleusercontent.com/a-/AOh14GgLZcAZyPt33HiIqtXjHiL8D4PIcVPdfLgODP1QBA=s64",
      "userId": "12645007744594631320"
     },
     "user_tz": -540
    },
    "id": "0cMmVjhaB7a1",
    "outputId": "56600b11-fd86-4692-8ea8-2daa9beb7e2b"
   },
   "outputs": [
    {
     "data": {
      "application/vnd.google.colaboratory.intrinsic+json": {
       "type": "string"
      },
      "text/plain": [
       "'yeah expect people read actually accept hard atheism need little leap faith jimmy your logic runs steam sorry pity sorry that have these feelings denial about faith need well just pretend that will happily ever after anyway maybe start newsgroup atheist hard bummin much forget your flintstone chewables bake timmons'"
      ]
     },
     "execution_count": 14,
     "metadata": {
      "tags": []
     },
     "output_type": "execute_result"
    }
   ],
   "source": [
    "news_df['clean_doc'][1]"
   ]
  },
  {
   "cell_type": "code",
   "execution_count": 15,
   "metadata": {
    "colab": {
     "base_uri": "https://localhost:8080/",
     "height": 73
    },
    "colab_type": "code",
    "executionInfo": {
     "elapsed": 16350,
     "status": "ok",
     "timestamp": 1600822276593,
     "user": {
      "displayName": "고병화",
      "photoUrl": "https://lh3.googleusercontent.com/a-/AOh14GgLZcAZyPt33HiIqtXjHiL8D4PIcVPdfLgODP1QBA=s64",
      "userId": "12645007744594631320"
     },
     "user_tz": -540
    },
    "id": "5n9f7gPtCXMb",
    "outputId": "021b4a7d-ca79-4e81-cc3b-25049cc3a584"
   },
   "outputs": [
    {
     "name": "stdout",
     "output_type": "stream",
     "text": [
      "[nltk_data] Downloading package stopwords to /root/nltk_data...\n",
      "[nltk_data]   Unzipping corpora/stopwords.zip.\n"
     ]
    },
    {
     "data": {
      "text/plain": [
       "True"
      ]
     },
     "execution_count": 15,
     "metadata": {
      "tags": []
     },
     "output_type": "execute_result"
    }
   ],
   "source": [
    "import nltk\n",
    "nltk.download('stopwords')\n",
    "nltk.download('wordnet')"
   ]
  },
  {
   "cell_type": "code",
   "execution_count": 16,
   "metadata": {
    "colab": {},
    "colab_type": "code",
    "executionInfo": {
     "elapsed": 17876,
     "status": "ok",
     "timestamp": 1600822278121,
     "user": {
      "displayName": "고병화",
      "photoUrl": "https://lh3.googleusercontent.com/a-/AOh14GgLZcAZyPt33HiIqtXjHiL8D4PIcVPdfLgODP1QBA=s64",
      "userId": "12645007744594631320"
     },
     "user_tz": -540
    },
    "id": "YphcfWXnB7a7"
   },
   "outputs": [],
   "source": [
    "from nltk.corpus import stopwords\n",
    "stop_words = stopwords.words('english') # NLTK로부터 불용어를 받아옵니다.\n",
    "tokenized_doc = news_df['clean_doc'].apply(lambda x: x.split()) # 토큰화\n",
    "tokenized_doc = tokenized_doc.apply(lambda x: [item for item in x if item not in stop_words])\n",
    "# 불용어를 제거"
   ]
  },
  {
   "cell_type": "code",
   "execution_count": 17,
   "metadata": {
    "colab": {
     "base_uri": "https://localhost:8080/",
     "height": 56
    },
    "colab_type": "code",
    "executionInfo": {
     "elapsed": 17872,
     "status": "ok",
     "timestamp": 1600822278124,
     "user": {
      "displayName": "고병화",
      "photoUrl": "https://lh3.googleusercontent.com/a-/AOh14GgLZcAZyPt33HiIqtXjHiL8D4PIcVPdfLgODP1QBA=s64",
      "userId": "12645007744594631320"
     },
     "user_tz": -540
    },
    "id": "d1wtaoUhB7bB",
    "outputId": "2298f141-52ab-4c84-9cb6-dab374cc75b0"
   },
   "outputs": [
    {
     "name": "stdout",
     "output_type": "stream",
     "text": [
      "['yeah', 'expect', 'people', 'read', 'actually', 'accept', 'hard', 'atheism', 'need', 'little', 'leap', 'faith', 'jimmy', 'logic', 'runs', 'steam', 'sorry', 'pity', 'sorry', 'feelings', 'denial', 'faith', 'need', 'well', 'pretend', 'happily', 'ever', 'anyway', 'maybe', 'start', 'newsgroup', 'atheist', 'hard', 'bummin', 'much', 'forget', 'flintstone', 'chewables', 'bake', 'timmons']\n"
     ]
    }
   ],
   "source": [
    "print(tokenized_doc[1])"
   ]
  },
  {
   "cell_type": "markdown",
   "metadata": {
    "colab_type": "text",
    "id": "vDSMfzcNB7bI"
   },
   "source": [
    "### TF-IDF 행렬 만들기"
   ]
  },
  {
   "cell_type": "code",
   "execution_count": 18,
   "metadata": {
    "colab": {},
    "colab_type": "code",
    "executionInfo": {
     "elapsed": 17871,
     "status": "ok",
     "timestamp": 1600822278125,
     "user": {
      "displayName": "고병화",
      "photoUrl": "https://lh3.googleusercontent.com/a-/AOh14GgLZcAZyPt33HiIqtXjHiL8D4PIcVPdfLgODP1QBA=s64",
      "userId": "12645007744594631320"
     },
     "user_tz": -540
    },
    "id": "fHqUBE7UB7bJ"
   },
   "outputs": [],
   "source": [
    "# 역토큰화 (토큰화 작업을 역으로 되돌림)\n",
    "detokenized_doc = []\n",
    "for i in range(len(news_df)):\n",
    "    t = ' '.join(tokenized_doc[i])\n",
    "    detokenized_doc.append(t)\n",
    "\n",
    "news_df['clean_doc'] = detokenized_doc"
   ]
  },
  {
   "cell_type": "code",
   "execution_count": 19,
   "metadata": {
    "colab": {
     "base_uri": "https://localhost:8080/",
     "height": 54
    },
    "colab_type": "code",
    "executionInfo": {
     "elapsed": 17864,
     "status": "ok",
     "timestamp": 1600822278125,
     "user": {
      "displayName": "고병화",
      "photoUrl": "https://lh3.googleusercontent.com/a-/AOh14GgLZcAZyPt33HiIqtXjHiL8D4PIcVPdfLgODP1QBA=s64",
      "userId": "12645007744594631320"
     },
     "user_tz": -540
    },
    "id": "1rakV_t2B7bN",
    "outputId": "362b93a1-6dc7-4fbb-d0e3-59a66ee0ee5b"
   },
   "outputs": [
    {
     "data": {
      "application/vnd.google.colaboratory.intrinsic+json": {
       "type": "string"
      },
      "text/plain": [
       "'yeah expect people read actually accept hard atheism need little leap faith jimmy logic runs steam sorry pity sorry feelings denial faith need well pretend happily ever anyway maybe start newsgroup atheist hard bummin much forget flintstone chewables bake timmons'"
      ]
     },
     "execution_count": 19,
     "metadata": {
      "tags": []
     },
     "output_type": "execute_result"
    }
   ],
   "source": [
    "news_df['clean_doc'][1]"
   ]
  },
  {
   "cell_type": "code",
   "execution_count": 20,
   "metadata": {
    "colab": {
     "base_uri": "https://localhost:8080/",
     "height": 36
    },
    "colab_type": "code",
    "executionInfo": {
     "elapsed": 19034,
     "status": "ok",
     "timestamp": 1600822279301,
     "user": {
      "displayName": "고병화",
      "photoUrl": "https://lh3.googleusercontent.com/a-/AOh14GgLZcAZyPt33HiIqtXjHiL8D4PIcVPdfLgODP1QBA=s64",
      "userId": "12645007744594631320"
     },
     "user_tz": -540
    },
    "id": "rgdtusQSB7bS",
    "outputId": "8d9c4eae-407b-47ad-ad4e-99ce725eb367"
   },
   "outputs": [
    {
     "data": {
      "text/plain": [
       "(11314, 1000)"
      ]
     },
     "execution_count": 20,
     "metadata": {
      "tags": []
     },
     "output_type": "execute_result"
    }
   ],
   "source": [
    "from sklearn.feature_extraction.text import TfidfVectorizer\n",
    "\n",
    "vectorizer = TfidfVectorizer(stop_words='english', \n",
    "max_features= 1000, # 상위 1,000개의 단어를 보존 \n",
    "max_df = 0.5, \n",
    "smooth_idf=True)\n",
    "\n",
    "X = vectorizer.fit_transform(news_df['clean_doc'])\n",
    "X.shape # TF-IDF 행렬의 크기 확인"
   ]
  },
  {
   "cell_type": "markdown",
   "metadata": {
    "colab_type": "text",
    "id": "22tX26aXB7bW"
   },
   "source": [
    "### 토픽 모델링(Topic Modeling)"
   ]
  },
  {
   "cell_type": "code",
   "execution_count": 21,
   "metadata": {
    "colab": {
     "base_uri": "https://localhost:8080/",
     "height": 36
    },
    "colab_type": "code",
    "executionInfo": {
     "elapsed": 22184,
     "status": "ok",
     "timestamp": 1600822282458,
     "user": {
      "displayName": "고병화",
      "photoUrl": "https://lh3.googleusercontent.com/a-/AOh14GgLZcAZyPt33HiIqtXjHiL8D4PIcVPdfLgODP1QBA=s64",
      "userId": "12645007744594631320"
     },
     "user_tz": -540
    },
    "id": "LdAK01syB7bY",
    "outputId": "0b0f3f98-8b7e-4efa-da66-2221f40db8e6"
   },
   "outputs": [
    {
     "data": {
      "text/plain": [
       "20"
      ]
     },
     "execution_count": 21,
     "metadata": {
      "tags": []
     },
     "output_type": "execute_result"
    }
   ],
   "source": [
    "from sklearn.decomposition import TruncatedSVD\n",
    "svd_model = TruncatedSVD(n_components=20, algorithm='randomized', n_iter=100, random_state=122)\n",
    "svd_model.fit(X)\n",
    "len(svd_model.components_)   # 뉴스그룹 데이터가 20개의 카테고리를 갖고있었기 때문에, 20개의 토픽을 가졌다고 가정하고 토픽 모델링"
   ]
  },
  {
   "cell_type": "code",
   "execution_count": 22,
   "metadata": {
    "colab": {
     "base_uri": "https://localhost:8080/",
     "height": 36
    },
    "colab_type": "code",
    "executionInfo": {
     "elapsed": 22178,
     "status": "ok",
     "timestamp": 1600822282459,
     "user": {
      "displayName": "고병화",
      "photoUrl": "https://lh3.googleusercontent.com/a-/AOh14GgLZcAZyPt33HiIqtXjHiL8D4PIcVPdfLgODP1QBA=s64",
      "userId": "12645007744594631320"
     },
     "user_tz": -540
    },
    "id": "OPC9gB5sB7bg",
    "outputId": "734c57d6-06e0-4533-b52f-d3f953358211"
   },
   "outputs": [
    {
     "data": {
      "text/plain": [
       "(20, 1000)"
      ]
     },
     "execution_count": 22,
     "metadata": {
      "tags": []
     },
     "output_type": "execute_result"
    }
   ],
   "source": [
    "np.shape(svd_model.components_)  # LSA에서 V.T에 해당, 토픽의 수 t(20), 단어수(1000)"
   ]
  },
  {
   "cell_type": "code",
   "execution_count": 23,
   "metadata": {
    "colab": {
     "base_uri": "https://localhost:8080/",
     "height": 388
    },
    "colab_type": "code",
    "executionInfo": {
     "elapsed": 22173,
     "status": "ok",
     "timestamp": 1600822282460,
     "user": {
      "displayName": "고병화",
      "photoUrl": "https://lh3.googleusercontent.com/a-/AOh14GgLZcAZyPt33HiIqtXjHiL8D4PIcVPdfLgODP1QBA=s64",
      "userId": "12645007744594631320"
     },
     "user_tz": -540
    },
    "id": "Un4Fbqa2B7bn",
    "outputId": "98e2d603-7549-480e-d787-f5ba16b1f118"
   },
   "outputs": [
    {
     "name": "stdout",
     "output_type": "stream",
     "text": [
      "Topic 1: [('like', 0.21386), ('know', 0.20046), ('people', 0.19293), ('think', 0.17805), ('good', 0.15128)]\n",
      "Topic 2: [('thanks', 0.32888), ('windows', 0.29088), ('card', 0.18069), ('drive', 0.17455), ('mail', 0.15111)]\n",
      "Topic 3: [('game', 0.37064), ('team', 0.32443), ('year', 0.28154), ('games', 0.2537), ('season', 0.18419)]\n",
      "Topic 4: [('drive', 0.53324), ('scsi', 0.20165), ('hard', 0.15628), ('disk', 0.15578), ('card', 0.13994)]\n",
      "Topic 5: [('windows', 0.40399), ('file', 0.25436), ('window', 0.18044), ('files', 0.16078), ('program', 0.13894)]\n",
      "Topic 6: [('chip', 0.16114), ('government', 0.16009), ('mail', 0.15625), ('space', 0.1507), ('information', 0.13562)]\n",
      "Topic 7: [('like', 0.67086), ('bike', 0.14236), ('chip', 0.11169), ('know', 0.11139), ('sounds', 0.10371)]\n",
      "Topic 8: [('card', 0.46633), ('video', 0.22137), ('sale', 0.21266), ('monitor', 0.15463), ('offer', 0.14643)]\n",
      "Topic 9: [('know', 0.46047), ('card', 0.33605), ('chip', 0.17558), ('government', 0.1522), ('video', 0.14356)]\n",
      "Topic 10: [('good', 0.42756), ('know', 0.23039), ('time', 0.1882), ('bike', 0.11406), ('jesus', 0.09027)]\n",
      "Topic 11: [('think', 0.78469), ('chip', 0.10899), ('good', 0.10635), ('thanks', 0.09123), ('clipper', 0.07946)]\n",
      "Topic 12: [('thanks', 0.36824), ('good', 0.22729), ('right', 0.21559), ('bike', 0.21037), ('problem', 0.20894)]\n",
      "Topic 13: [('good', 0.36212), ('people', 0.33985), ('windows', 0.28385), ('know', 0.26232), ('file', 0.18422)]\n",
      "Topic 14: [('space', 0.39946), ('think', 0.23258), ('know', 0.18074), ('nasa', 0.15174), ('problem', 0.12957)]\n",
      "Topic 15: [('space', 0.31613), ('good', 0.3094), ('card', 0.22603), ('people', 0.17476), ('time', 0.14496)]\n",
      "Topic 16: [('people', 0.48156), ('problem', 0.19961), ('window', 0.15281), ('time', 0.14664), ('game', 0.12871)]\n",
      "Topic 17: [('time', 0.34465), ('bike', 0.27303), ('right', 0.25557), ('windows', 0.1997), ('file', 0.19118)]\n",
      "Topic 18: [('time', 0.5973), ('problem', 0.15504), ('file', 0.14956), ('think', 0.12847), ('israel', 0.10903)]\n",
      "Topic 19: [('file', 0.44163), ('need', 0.26633), ('card', 0.18388), ('files', 0.17453), ('right', 0.15448)]\n",
      "Topic 20: [('problem', 0.33006), ('file', 0.27651), ('thanks', 0.23578), ('used', 0.19206), ('space', 0.13185)]\n"
     ]
    }
   ],
   "source": [
    "terms = vectorizer.get_feature_names() # 단어 집합. 1,000개의 단어가 저장됨.\n",
    "\n",
    "# 값이 큰 5개의 값을 찾아서 단어로 출력\n",
    "def get_topics(components, feature_names, n=5):\n",
    "    for idx, topic in enumerate(components):\n",
    "        print(\"Topic %d:\" % (idx+1), [(feature_names[i], topic[i].round(5)) for i in topic.argsort()[:-n - 1:-1]])\n",
    "\n",
    "get_topics(svd_model.components_,terms)\n",
    "\n",
    "# 각 20개의 행의 각 1,000개의 열 중 가장 값이 큰 5개의 값을 찾아서 단어로 출력"
   ]
  },
  {
   "cell_type": "code",
   "execution_count": 24,
   "metadata": {
    "colab": {
     "base_uri": "https://localhost:8080/",
     "height": 110
    },
    "colab_type": "code",
    "executionInfo": {
     "elapsed": 22166,
     "status": "ok",
     "timestamp": 1600822282460,
     "user": {
      "displayName": "고병화",
      "photoUrl": "https://lh3.googleusercontent.com/a-/AOh14GgLZcAZyPt33HiIqtXjHiL8D4PIcVPdfLgODP1QBA=s64",
      "userId": "12645007744594631320"
     },
     "user_tz": -540
    },
    "id": "YvjLuLfCB7bu",
    "outputId": "962c326b-e868-494b-a9f7-d6acf07955e0"
   },
   "outputs": [
    {
     "data": {
      "application/vnd.google.colaboratory.intrinsic+json": {
       "type": "string"
      },
      "text/plain": [
       "\"\\n\\n\\n\\n\\tI'd like to see this info as well.  As for wavelength, I think\\nyou're primarily going to find two - 880 nM +/- a bit, and/or 950 nM\\n+/- a bit.  Usually it is about 10 nM either way.  The two most common\\nI have seen were 880 and 950 but I have also heard of 890 and 940.\\nI'm not sure that the 10 nM one way or another will make a great deal of\\ndifference.\\n\\n\\tAnother suggestion - find a brand of TV that uses an IR remote,\\nand go look at the SAMS photofact for it.  You can often find some very\\ndetailed schematics and parts list for not only the receiver but the\\ntransmitter as well, including carrier freq. specs. and tone decoding\\nspecs. if the system uses that.\""
      ]
     },
     "execution_count": 24,
     "metadata": {
      "tags": []
     },
     "output_type": "execute_result"
    }
   ],
   "source": [
    "documents[20]"
   ]
  },
  {
   "cell_type": "code",
   "execution_count": 25,
   "metadata": {
    "colab": {},
    "colab_type": "code",
    "executionInfo": {
     "elapsed": 22165,
     "status": "ok",
     "timestamp": 1600822282461,
     "user": {
      "displayName": "고병화",
      "photoUrl": "https://lh3.googleusercontent.com/a-/AOh14GgLZcAZyPt33HiIqtXjHiL8D4PIcVPdfLgODP1QBA=s64",
      "userId": "12645007744594631320"
     },
     "user_tz": -540
    },
    "id": "pahbLRVBB7b2"
   },
   "outputs": [],
   "source": [
    "# LSA의 단점 : SVD의 특성상 이미 계산된 LSA에 새로운 데이터를 추가하여 계산하려고하면 보통 처음부터 다시 계산해야 한다. \n",
    "# 즉, 새로운 정보에 대해 업데이트가 어렵다. "
   ]
  },
  {
   "cell_type": "markdown",
   "metadata": {
    "colab_type": "text",
    "id": "d6h1xtLDB7cA"
   },
   "source": [
    "## [3] 잠재 디리클레 할당(Latent Dirichlet Allocation, LDA)]\n",
    "토픽 모델링의 대표적인 알고리즘, LDA는 문서들은 토픽들의 혼합으로 구성되어져 있으며, 토픽들은 확률 분포에 기반하여 단어들을 생성한다고 가정한다.<br>\n",
    "데이터가 주어지면, LDA는 문서가 생성되던 과정을 역추적 한다. <br>\n",
    "LSA : DTM을 차원 축소 하여 축소 차원에서 근접 단어들을 토픽으로 묶는다.  <br>\n",
    "LDA : 단어가 특정 토픽에 존재할 확률과 문서에 특정 토픽이 존재할 확률을 결합확률로 추정하여 토픽을 추출한다."
   ]
  },
  {
   "cell_type": "code",
   "execution_count": 26,
   "metadata": {
    "colab": {
     "base_uri": "https://localhost:8080/",
     "height": 147
    },
    "colab_type": "code",
    "executionInfo": {
     "elapsed": 22159,
     "status": "ok",
     "timestamp": 1600822282462,
     "user": {
      "displayName": "고병화",
      "photoUrl": "https://lh3.googleusercontent.com/a-/AOh14GgLZcAZyPt33HiIqtXjHiL8D4PIcVPdfLgODP1QBA=s64",
      "userId": "12645007744594631320"
     },
     "user_tz": -540
    },
    "id": "IAnDXI-HB7cD",
    "outputId": "d7490dc8-032e-4bdc-f480-50693dc0718c"
   },
   "outputs": [
    {
     "name": "stdout",
     "output_type": "stream",
     "text": [
      "(11314,)\n"
     ]
    },
    {
     "data": {
      "text/plain": [
       "0    [well, sure, story, seem, biased, disagree, st...\n",
       "1    [yeah, expect, people, read, actually, accept,...\n",
       "2    [although, realize, principle, strongest, poin...\n",
       "3    [notwithstanding, legitimate, fuss, proposal, ...\n",
       "4    [well, change, scoring, playoff, pool, unfortu...\n",
       "Name: clean_doc, dtype: object"
      ]
     },
     "execution_count": 26,
     "metadata": {
      "tags": []
     },
     "output_type": "execute_result"
    }
   ],
   "source": [
    "print(tokenized_doc.shape)\n",
    "tokenized_doc[:5]"
   ]
  },
  {
   "cell_type": "code",
   "execution_count": 27,
   "metadata": {
    "colab": {
     "base_uri": "https://localhost:8080/",
     "height": 56
    },
    "colab_type": "code",
    "executionInfo": {
     "elapsed": 24344,
     "status": "ok",
     "timestamp": 1600822284654,
     "user": {
      "displayName": "고병화",
      "photoUrl": "https://lh3.googleusercontent.com/a-/AOh14GgLZcAZyPt33HiIqtXjHiL8D4PIcVPdfLgODP1QBA=s64",
      "userId": "12645007744594631320"
     },
     "user_tz": -540
    },
    "id": "mqD30ik6B7cJ",
    "outputId": "3aeebe2b-c40b-49cc-dc2d-7e32e8416fe1"
   },
   "outputs": [
    {
     "name": "stdout",
     "output_type": "stream",
     "text": [
      "[(52, 1), (55, 1), (56, 1), (57, 1), (58, 1), (59, 1), (60, 1), (61, 1), (62, 1), (63, 1), (64, 1), (65, 1), (66, 2), (67, 1), (68, 1), (69, 1), (70, 1), (71, 2), (72, 1), (73, 1), (74, 1), (75, 1), (76, 1), (77, 1), (78, 2), (79, 1), (80, 1), (81, 1), (82, 1), (83, 1), (84, 1), (85, 2), (86, 1), (87, 1), (88, 1), (89, 1)]\n"
     ]
    }
   ],
   "source": [
    "# ! pip install gensim\n",
    "from gensim import corpora\n",
    "dictionary = corpora.Dictionary(tokenized_doc)\n",
    "corpus = [dictionary.doc2bow(text) for text in tokenized_doc]\n",
    "print(corpus[1]) # 수행된 결과에서 두번째 뉴스 출력. 첫번째 문서의 인덱스는 0"
   ]
  },
  {
   "cell_type": "code",
   "execution_count": 28,
   "metadata": {
    "colab": {
     "base_uri": "https://localhost:8080/",
     "height": 36
    },
    "colab_type": "code",
    "executionInfo": {
     "elapsed": 24338,
     "status": "ok",
     "timestamp": 1600822284656,
     "user": {
      "displayName": "고병화",
      "photoUrl": "https://lh3.googleusercontent.com/a-/AOh14GgLZcAZyPt33HiIqtXjHiL8D4PIcVPdfLgODP1QBA=s64",
      "userId": "12645007744594631320"
     },
     "user_tz": -540
    },
    "id": "KdPOiWfTB7cQ",
    "outputId": "7c4b9b12-6bb3-41c5-bcfe-c09db3236590"
   },
   "outputs": [
    {
     "name": "stdout",
     "output_type": "stream",
     "text": [
      "faith\n"
     ]
    }
   ],
   "source": [
    "print(dictionary[66])"
   ]
  },
  {
   "cell_type": "code",
   "execution_count": 29,
   "metadata": {
    "colab": {
     "base_uri": "https://localhost:8080/",
     "height": 36
    },
    "colab_type": "code",
    "executionInfo": {
     "elapsed": 24330,
     "status": "ok",
     "timestamp": 1600822284657,
     "user": {
      "displayName": "고병화",
      "photoUrl": "https://lh3.googleusercontent.com/a-/AOh14GgLZcAZyPt33HiIqtXjHiL8D4PIcVPdfLgODP1QBA=s64",
      "userId": "12645007744594631320"
     },
     "user_tz": -540
    },
    "id": "lfGkpRTHB7cX",
    "outputId": "c68b767d-abb6-4c1c-df96-79b997a75736"
   },
   "outputs": [
    {
     "data": {
      "text/plain": [
       "64281"
      ]
     },
     "execution_count": 29,
     "metadata": {
      "tags": []
     },
     "output_type": "execute_result"
    }
   ],
   "source": [
    "len(dictionary)"
   ]
  },
  {
   "cell_type": "markdown",
   "metadata": {
    "colab_type": "text",
    "id": "AzfpZZ_XB7cd"
   },
   "source": [
    "#### LDA 모델 훈련시키기"
   ]
  },
  {
   "cell_type": "code",
   "execution_count": 30,
   "metadata": {
    "colab": {
     "base_uri": "https://localhost:8080/",
     "height": 388
    },
    "colab_type": "code",
    "executionInfo": {
     "elapsed": 154284,
     "status": "ok",
     "timestamp": 1600822414623,
     "user": {
      "displayName": "고병화",
      "photoUrl": "https://lh3.googleusercontent.com/a-/AOh14GgLZcAZyPt33HiIqtXjHiL8D4PIcVPdfLgODP1QBA=s64",
      "userId": "12645007744594631320"
     },
     "user_tz": -540
    },
    "id": "qMypT2nsB7ce",
    "outputId": "7d4d33f9-f084-47c5-fe3c-57c2919220cd"
   },
   "outputs": [
    {
     "name": "stdout",
     "output_type": "stream",
     "text": [
      "(0, '0.026*\"file\" + 0.022*\"entry\" + 0.021*\"output\" + 0.011*\"program\"')\n",
      "(1, '0.011*\"would\" + 0.009*\"like\" + 0.009*\"know\" + 0.008*\"drive\"')\n",
      "(2, '0.014*\"would\" + 0.014*\"people\" + 0.008*\"like\" + 0.007*\"think\"')\n",
      "(3, '0.027*\"israel\" + 0.017*\"israeli\" + 0.011*\"arab\" + 0.007*\"peace\"')\n",
      "(4, '0.016*\"space\" + 0.005*\"nasa\" + 0.004*\"science\" + 0.004*\"also\"')\n",
      "(5, '0.007*\"colorado\" + 0.007*\"lost\" + 0.006*\"mask\" + 0.006*\"hanging\"')\n",
      "(6, '0.009*\"period\" + 0.006*\"smith\" + 0.006*\"vancouver\" + 0.005*\"cover\"')\n",
      "(7, '0.016*\"government\" + 0.016*\"president\" + 0.008*\"administration\" + 0.007*\"clinton\"')\n",
      "(8, '0.013*\"jews\" + 0.009*\"health\" + 0.008*\"jewish\" + 0.007*\"medical\"')\n",
      "(9, '0.017*\"mail\" + 0.012*\"information\" + 0.012*\"send\" + 0.011*\"list\"')\n",
      "(10, '0.011*\"windows\" + 0.010*\"program\" + 0.009*\"file\" + 0.008*\"window\"')\n",
      "(11, '0.010*\"sale\" + 0.007*\"shipping\" + 0.007*\"price\" + 0.006*\"disks\"')\n",
      "(12, '0.010*\"nrhj\" + 0.007*\"wwiz\" + 0.006*\"bxom\" + 0.006*\"gizw\"')\n",
      "(13, '0.008*\"candida\" + 0.007*\"coli\" + 0.006*\"jumper\" + 0.006*\"slave\"')\n",
      "(14, '0.011*\"jesus\" + 0.007*\"christian\" + 0.007*\"believe\" + 0.006*\"bible\"')\n",
      "(15, '0.008*\"navy\" + 0.007*\"radar\" + 0.007*\"street\" + 0.006*\"island\"')\n",
      "(16, '0.013*\"chip\" + 0.013*\"keys\" + 0.011*\"system\" + 0.011*\"encryption\"')\n",
      "(17, '0.012*\"remark\" + 0.011*\"filename\" + 0.006*\"cursor\" + 0.005*\"lines\"')\n",
      "(18, '0.016*\"game\" + 0.014*\"team\" + 0.012*\"year\" + 0.010*\"games\"')\n",
      "(19, '0.024*\"armenian\" + 0.021*\"armenians\" + 0.017*\"turkish\" + 0.011*\"turkey\"')\n"
     ]
    }
   ],
   "source": [
    "import gensim\n",
    "NUM_TOPICS = 20    #20개의 토픽, k=20\n",
    "ldamodel = gensim.models.ldamodel.LdaModel(corpus, num_topics = NUM_TOPICS, id2word=dictionary, passes=15) #  passes는 알고리즘의 동작 횟수\n",
    "topics = ldamodel.print_topics(num_words=4)   #  4개의 단어만 출력 \n",
    "for topic in topics:\n",
    "    print(topic)\n",
    "# 각 단어 앞에 붙은 수치는 단어의 해당 토픽에 대한 기여도    "
   ]
  },
  {
   "cell_type": "code",
   "execution_count": 31,
   "metadata": {
    "colab": {
     "base_uri": "https://localhost:8080/",
     "height": 56
    },
    "colab_type": "code",
    "executionInfo": {
     "elapsed": 154278,
     "status": "ok",
     "timestamp": 1600822414624,
     "user": {
      "displayName": "고병화",
      "photoUrl": "https://lh3.googleusercontent.com/a-/AOh14GgLZcAZyPt33HiIqtXjHiL8D4PIcVPdfLgODP1QBA=s64",
      "userId": "12645007744594631320"
     },
     "user_tz": -540
    },
    "id": "zdx_WpF2B7cm",
    "outputId": "5260a8a6-427b-42f2-e90b-50b296aa22a9"
   },
   "outputs": [
    {
     "name": "stdout",
     "output_type": "stream",
     "text": [
      "[(0, '0.026*\"file\" + 0.022*\"entry\" + 0.021*\"output\" + 0.011*\"program\" + 0.010*\"section\" + 0.009*\"build\" + 0.008*\"rules\" + 0.008*\"entries\" + 0.008*\"check\" + 0.008*\"oname\"'), (1, '0.011*\"would\" + 0.009*\"like\" + 0.009*\"know\" + 0.008*\"drive\" + 0.007*\"thanks\" + 0.007*\"anyone\" + 0.006*\"good\" + 0.006*\"also\" + 0.006*\"card\" + 0.006*\"need\"'), (2, '0.014*\"would\" + 0.014*\"people\" + 0.008*\"like\" + 0.007*\"think\" + 0.007*\"know\" + 0.006*\"well\" + 0.006*\"time\" + 0.006*\"even\" + 0.005*\"could\" + 0.005*\"said\"'), (3, '0.027*\"israel\" + 0.017*\"israeli\" + 0.011*\"arab\" + 0.007*\"peace\" + 0.006*\"land\" + 0.005*\"arabs\" + 0.005*\"conflict\" + 0.005*\"said\" + 0.004*\"vesa\" + 0.004*\"civilians\"'), (4, '0.016*\"space\" + 0.005*\"nasa\" + 0.004*\"science\" + 0.004*\"also\" + 0.004*\"earth\" + 0.004*\"data\" + 0.004*\"launch\" + 0.003*\"year\" + 0.003*\"first\" + 0.003*\"center\"'), (5, '0.007*\"colorado\" + 0.007*\"lost\" + 0.006*\"mask\" + 0.006*\"hanging\" + 0.006*\"pixmap\" + 0.005*\"icon\" + 0.005*\"scores\" + 0.005*\"university\" + 0.004*\"cleveland\" + 0.004*\"texas\"'), (6, '0.009*\"period\" + 0.006*\"smith\" + 0.006*\"vancouver\" + 0.005*\"cover\" + 0.005*\"jose\" + 0.004*\"picture\" + 0.004*\"rider\" + 0.004*\"copies\" + 0.004*\"sharks\" + 0.004*\"ball\"'), (7, '0.016*\"government\" + 0.016*\"president\" + 0.008*\"administration\" + 0.007*\"clinton\" + 0.006*\"stephanopoulos\" + 0.006*\"congress\" + 0.006*\"jobs\" + 0.006*\"federal\" + 0.006*\"going\" + 0.006*\"american\"'), (8, '0.013*\"jews\" + 0.009*\"health\" + 0.008*\"jewish\" + 0.007*\"medical\" + 0.006*\"among\" + 0.005*\"study\" + 0.005*\"disease\" + 0.005*\"states\" + 0.005*\"research\" + 0.005*\"university\"'), (9, '0.017*\"mail\" + 0.012*\"information\" + 0.012*\"send\" + 0.011*\"list\" + 0.009*\"anonymous\" + 0.009*\"available\" + 0.008*\"please\" + 0.008*\"email\" + 0.008*\"internet\" + 0.008*\"news\"'), (10, '0.011*\"windows\" + 0.010*\"program\" + 0.009*\"file\" + 0.008*\"window\" + 0.008*\"available\" + 0.007*\"files\" + 0.007*\"version\" + 0.006*\"image\" + 0.006*\"using\" + 0.006*\"software\"'), (11, '0.010*\"sale\" + 0.007*\"shipping\" + 0.007*\"price\" + 0.006*\"disks\" + 0.006*\"machines\" + 0.006*\"package\" + 0.005*\"includes\" + 0.005*\"autos\" + 0.005*\"borland\" + 0.005*\"turbo\"'), (12, '0.010*\"nrhj\" + 0.007*\"wwiz\" + 0.006*\"bxom\" + 0.006*\"gizw\" + 0.005*\"tbxn\" + 0.005*\"bhjn\" + 0.005*\"bxlt\" + 0.004*\"wmbxn\" + 0.004*\"nriz\" + 0.004*\"pnei\"'), (13, '0.008*\"candida\" + 0.007*\"coli\" + 0.006*\"jumper\" + 0.006*\"slave\" + 0.006*\"master\" + 0.005*\"jumpers\" + 0.004*\"excellent\" + 0.004*\"drive\" + 0.004*\"xmosaic\" + 0.004*\"packaging\"'), (14, '0.011*\"jesus\" + 0.007*\"christian\" + 0.007*\"believe\" + 0.006*\"bible\" + 0.006*\"would\" + 0.005*\"church\" + 0.005*\"christians\" + 0.005*\"life\" + 0.005*\"religion\" + 0.005*\"also\"'), (15, '0.008*\"navy\" + 0.007*\"radar\" + 0.007*\"street\" + 0.006*\"island\" + 0.006*\"naval\" + 0.006*\"york\" + 0.005*\"doug\" + 0.005*\"detector\" + 0.005*\"weaver\" + 0.005*\"georgia\"'), (16, '0.013*\"chip\" + 0.013*\"keys\" + 0.011*\"system\" + 0.011*\"encryption\" + 0.009*\"clipper\" + 0.009*\"number\" + 0.008*\"used\" + 0.007*\"algorithm\" + 0.007*\"security\" + 0.006*\"secure\"'), (17, '0.012*\"remark\" + 0.011*\"filename\" + 0.006*\"cursor\" + 0.005*\"lines\" + 0.005*\"byte\" + 0.005*\"circuits\" + 0.005*\"cross\" + 0.005*\"unit\" + 0.005*\"kent\" + 0.005*\"allocation\"'), (18, '0.016*\"game\" + 0.014*\"team\" + 0.012*\"year\" + 0.010*\"games\" + 0.010*\"play\" + 0.008*\"season\" + 0.007*\"players\" + 0.007*\"hockey\" + 0.007*\"last\" + 0.006*\"first\"'), (19, '0.024*\"armenian\" + 0.021*\"armenians\" + 0.017*\"turkish\" + 0.011*\"turkey\" + 0.008*\"armenia\" + 0.008*\"greek\" + 0.008*\"turks\" + 0.007*\"genocide\" + 0.006*\"russian\" + 0.006*\"azerbaijan\"')]\n"
     ]
    }
   ],
   "source": [
    "print(ldamodel.print_topics()) # 10개 단어를 출력"
   ]
  },
  {
   "cell_type": "markdown",
   "metadata": {
    "colab_type": "text",
    "id": "B2vkE0_bB7cs"
   },
   "source": [
    "#### 시각화"
   ]
  },
  {
   "cell_type": "code",
   "execution_count": 32,
   "metadata": {
    "colab": {
     "base_uri": "https://localhost:8080/",
     "height": 667
    },
    "colab_type": "code",
    "executionInfo": {
     "elapsed": 159784,
     "status": "ok",
     "timestamp": 1600822420137,
     "user": {
      "displayName": "고병화",
      "photoUrl": "https://lh3.googleusercontent.com/a-/AOh14GgLZcAZyPt33HiIqtXjHiL8D4PIcVPdfLgODP1QBA=s64",
      "userId": "12645007744594631320"
     },
     "user_tz": -540
    },
    "id": "wJTX850BB7cu",
    "outputId": "e99c3f29-1497-4e4e-f9ed-2559d61dc92e"
   },
   "outputs": [
    {
     "name": "stdout",
     "output_type": "stream",
     "text": [
      "Collecting pyLDAvis\n",
      "\u001b[?25l  Downloading https://files.pythonhosted.org/packages/a5/3a/af82e070a8a96e13217c8f362f9a73e82d61ac8fff3a2561946a97f96266/pyLDAvis-2.1.2.tar.gz (1.6MB)\n",
      "\u001b[K     |████████████████████████████████| 1.6MB 5.4MB/s \n",
      "\u001b[?25hRequirement already satisfied: wheel>=0.23.0 in /usr/local/lib/python3.6/dist-packages (from pyLDAvis) (0.35.1)\n",
      "Requirement already satisfied: numpy>=1.9.2 in /usr/local/lib/python3.6/dist-packages (from pyLDAvis) (1.18.5)\n",
      "Requirement already satisfied: scipy>=0.18.0 in /usr/local/lib/python3.6/dist-packages (from pyLDAvis) (1.4.1)\n",
      "Requirement already satisfied: pandas>=0.17.0 in /usr/local/lib/python3.6/dist-packages (from pyLDAvis) (1.0.5)\n",
      "Requirement already satisfied: joblib>=0.8.4 in /usr/local/lib/python3.6/dist-packages (from pyLDAvis) (0.16.0)\n",
      "Requirement already satisfied: jinja2>=2.7.2 in /usr/local/lib/python3.6/dist-packages (from pyLDAvis) (2.11.2)\n",
      "Requirement already satisfied: numexpr in /usr/local/lib/python3.6/dist-packages (from pyLDAvis) (2.7.1)\n",
      "Requirement already satisfied: pytest in /usr/local/lib/python3.6/dist-packages (from pyLDAvis) (3.6.4)\n",
      "Requirement already satisfied: future in /usr/local/lib/python3.6/dist-packages (from pyLDAvis) (0.16.0)\n",
      "Collecting funcy\n",
      "\u001b[?25l  Downloading https://files.pythonhosted.org/packages/ce/4b/6ffa76544e46614123de31574ad95758c421aae391a1764921b8a81e1eae/funcy-1.14.tar.gz (548kB)\n",
      "\u001b[K     |████████████████████████████████| 552kB 39.8MB/s \n",
      "\u001b[?25hRequirement already satisfied: python-dateutil>=2.6.1 in /usr/local/lib/python3.6/dist-packages (from pandas>=0.17.0->pyLDAvis) (2.8.1)\n",
      "Requirement already satisfied: pytz>=2017.2 in /usr/local/lib/python3.6/dist-packages (from pandas>=0.17.0->pyLDAvis) (2018.9)\n",
      "Requirement already satisfied: MarkupSafe>=0.23 in /usr/local/lib/python3.6/dist-packages (from jinja2>=2.7.2->pyLDAvis) (1.1.1)\n",
      "Requirement already satisfied: atomicwrites>=1.0 in /usr/local/lib/python3.6/dist-packages (from pytest->pyLDAvis) (1.4.0)\n",
      "Requirement already satisfied: more-itertools>=4.0.0 in /usr/local/lib/python3.6/dist-packages (from pytest->pyLDAvis) (8.5.0)\n",
      "Requirement already satisfied: attrs>=17.4.0 in /usr/local/lib/python3.6/dist-packages (from pytest->pyLDAvis) (20.2.0)\n",
      "Requirement already satisfied: setuptools in /usr/local/lib/python3.6/dist-packages (from pytest->pyLDAvis) (50.3.0)\n",
      "Requirement already satisfied: pluggy<0.8,>=0.5 in /usr/local/lib/python3.6/dist-packages (from pytest->pyLDAvis) (0.7.1)\n",
      "Requirement already satisfied: py>=1.5.0 in /usr/local/lib/python3.6/dist-packages (from pytest->pyLDAvis) (1.9.0)\n",
      "Requirement already satisfied: six>=1.10.0 in /usr/local/lib/python3.6/dist-packages (from pytest->pyLDAvis) (1.15.0)\n",
      "Building wheels for collected packages: pyLDAvis, funcy\n",
      "  Building wheel for pyLDAvis (setup.py) ... \u001b[?25l\u001b[?25hdone\n",
      "  Created wheel for pyLDAvis: filename=pyLDAvis-2.1.2-py2.py3-none-any.whl size=97712 sha256=7421ea88aa2475f60e76aa3e52254852b9b32277bbc6a8e5057356f1eba6ca5e\n",
      "  Stored in directory: /root/.cache/pip/wheels/98/71/24/513a99e58bb6b8465bae4d2d5e9dba8f0bef8179e3051ac414\n",
      "  Building wheel for funcy (setup.py) ... \u001b[?25l\u001b[?25hdone\n",
      "  Created wheel for funcy: filename=funcy-1.14-py2.py3-none-any.whl size=32042 sha256=6ff0a9c7b204add0b89a5e9c958f9e0b9652631b820bc02c819f256a924cbf00\n",
      "  Stored in directory: /root/.cache/pip/wheels/20/5a/d8/1d875df03deae6f178dfdf70238cca33f948ef8a6f5209f2eb\n",
      "Successfully built pyLDAvis funcy\n",
      "Installing collected packages: funcy, pyLDAvis\n",
      "Successfully installed funcy-1.14 pyLDAvis-2.1.2\n"
     ]
    }
   ],
   "source": [
    "! pip install pyLDAvis"
   ]
  },
  {
   "cell_type": "code",
   "execution_count": 33,
   "metadata": {
    "colab": {
     "base_uri": "https://localhost:8080/",
     "height": 879
    },
    "colab_type": "code",
    "executionInfo": {
     "elapsed": 217116,
     "status": "ok",
     "timestamp": 1600822477476,
     "user": {
      "displayName": "고병화",
      "photoUrl": "https://lh3.googleusercontent.com/a-/AOh14GgLZcAZyPt33HiIqtXjHiL8D4PIcVPdfLgODP1QBA=s64",
      "userId": "12645007744594631320"
     },
     "user_tz": -540
    },
    "id": "0fr7kbhVB7c0",
    "outputId": "373a21e7-5e75-4969-d437-953cf30f15b5"
   },
   "outputs": [
    {
     "data": {
      "text/html": [
       "\n",
       "<link rel=\"stylesheet\" type=\"text/css\" href=\"https://cdn.rawgit.com/bmabey/pyLDAvis/files/ldavis.v1.0.0.css\">\n",
       "\n",
       "\n",
       "<div id=\"ldavis_el1021407060597304002117801435\"></div>\n",
       "<script type=\"text/javascript\">\n",
       "\n",
       "var ldavis_el1021407060597304002117801435_data = {\"mdsDat\": {\"x\": [0.2670237630435048, 0.2521619757896135, 0.1979926898503316, 0.2022865896291461, 0.11548407981847843, 0.06602294903253349, 0.07096368774256544, 0.09915040610454157, 0.007367720083665585, 0.11453349193767232, -0.07388299923720283, -0.011681104034388079, -0.14276980175263543, -0.09657750300208881, -0.2375500816189443, -0.15197342845151815, -0.1679502730360926, -0.16601993273826532, -0.13803847117259058, -0.20654375798832664], \"y\": [0.12758439202156355, -0.004610818702956773, -0.17691666985362156, 0.06261687497327512, 0.016068593704112188, 0.20325220419070417, -0.2235985277130928, 0.009004026977058491, 0.05866112024544125, -0.08150966222617011, 0.1459300073300648, -0.15972314836230167, 0.08945167192543783, 0.10699842736675227, -0.02011360081617223, -0.07515508002349548, -0.016902712022665037, -0.02636237614620946, -0.007254432742124273, -0.027420290125599343], \"topics\": [1, 2, 3, 4, 5, 6, 7, 8, 9, 10, 11, 12, 13, 14, 15, 16, 17, 18, 19, 20], \"cluster\": [1, 1, 1, 1, 1, 1, 1, 1, 1, 1, 1, 1, 1, 1, 1, 1, 1, 1, 1, 1], \"Freq\": [25.848037719726562, 12.82170581817627, 9.274782180786133, 8.686573028564453, 7.156986713409424, 5.117706775665283, 4.167530059814453, 4.005702018737793, 3.806809663772583, 3.2351090908050537, 2.5527267456054688, 2.4331939220428467, 2.0447683334350586, 1.9343101978302002, 1.2611279487609863, 1.2212564945220947, 1.2135956287384033, 1.1823731660842896, 1.1569652557373047, 0.8787342309951782]}, \"tinfo\": {\"Term\": [\"file\", \"people\", \"space\", \"government\", \"program\", \"mail\", \"drive\", \"game\", \"windows\", \"would\", \"output\", \"jesus\", \"armenian\", \"year\", \"israel\", \"team\", \"entry\", \"system\", \"president\", \"armenians\", \"please\", \"said\", \"information\", \"available\", \"window\", \"think\", \"chip\", \"going\", \"send\", \"thanks\", \"guns\", \"koresh\", \"apartment\", \"militia\", \"afraid\", \"threat\", \"sumgait\", \"karina\", \"batf\", \"guilty\", \"defend\", \"warrant\", \"mamma\", \"honest\", \"hitler\", \"violence\", \"neighbor\", \"felt\", \"blame\", \"harm\", \"weapons\", \"homosexual\", \"prophecy\", \"kids\", \"legally\", \"walking\", \"liberal\", \"alleged\", \"lawyer\", \"concealed\", \"kill\", \"people\", \"happened\", \"fire\", \"standing\", \"criminal\", \"telling\", \"food\", \"worse\", \"told\", \"happen\", \"said\", \"right\", \"would\", \"even\", \"think\", \"really\", \"take\", \"well\", \"serious\", \"enough\", \"never\", \"remember\", \"like\", \"went\", \"feel\", \"know\", \"could\", \"maybe\", \"police\", \"something\", \"time\", \"going\", \"want\", \"course\", \"keep\", \"anything\", \"come\", \"many\", \"much\", \"make\", \"thing\", \"things\", \"still\", \"back\", \"good\", \"sure\", \"since\", \"first\", \"years\", \"also\", \"point\", \"scsi\", \"controller\", \"motherboard\", \"simms\", \"adapter\", \"voltage\", \"gateway\", \"honda\", \"speeds\", \"stereo\", \"quadra\", \"slots\", \"vram\", \"spare\", \"warranty\", \"hook\", \"gear\", \"card\", \"ethernet\", \"eisa\", \"pins\", \"tire\", \"baud\", \"cables\", \"accelerator\", \"thanx\", \"megs\", \"exhaust\", \"pointer\", \"brake\", \"drive\", \"monitors\", \"bike\", \"monitor\", \"battery\", \"modem\", \"driver\", \"floppy\", \"speed\", \"drives\", \"cable\", \"drivers\", \"upgrade\", \"printer\", \"boot\", \"video\", \"disk\", \"bought\", \"apple\", \"thanks\", \"buying\", \"advance\", \"cars\", \"board\", \"port\", \"price\", \"cards\", \"hard\", \"anyone\", \"sound\", \"looking\", \"please\", \"memory\", \"problem\", \"need\", \"like\", \"know\", \"would\", \"used\", \"good\", \"work\", \"system\", \"also\", \"much\", \"could\", \"help\", \"power\", \"time\", \"want\", \"back\", \"think\", \"make\", \"motif\", \"widget\", \"contrib\", \"printf\", \"char\", \"null\", \"xterm\", \"client\", \"font\", \"fonts\", \"uuencode\", \"xlib\", \"widgets\", \"clients\", \"toolkit\", \"displays\", \"pixel\", \"platforms\", \"stderr\", \"menu\", \"imake\", \"openwindows\", \"sunos\", \"patches\", \"colormap\", \"compass\", \"xview\", \"prog\", \"demo\", \"sparc\", \"window\", \"display\", \"image\", \"windows\", \"graphics\", \"resource\", \"application\", \"libraries\", \"export\", \"server\", \"files\", \"screen\", \"version\", \"color\", \"visual\", \"program\", \"unix\", \"format\", \"file\", \"user\", \"software\", \"code\", \"available\", \"programs\", \"using\", \"data\", \"directory\", \"based\", \"also\", \"running\", \"system\", \"source\", \"include\", \"like\", \"support\", \"problem\", \"jesus\", \"bible\", \"church\", \"christians\", \"faith\", \"christ\", \"christianity\", \"belief\", \"lord\", \"holy\", \"atheism\", \"atheists\", \"morality\", \"heaven\", \"eternal\", \"religions\", \"catholic\", \"scripture\", \"atheist\", \"mary\", \"biblical\", \"doctrine\", \"beliefs\", \"christian\", \"worship\", \"passages\", \"divine\", \"resurrection\", \"revelation\", \"testament\", \"religion\", \"islam\", \"matthew\", \"spirit\", \"religious\", \"truth\", \"existence\", \"moral\", \"life\", \"believe\", \"word\", \"meaning\", \"exist\", \"true\", \"argument\", \"love\", \"question\", \"world\", \"must\", \"would\", \"many\", \"also\", \"cannot\", \"people\", \"think\", \"things\", \"book\", \"even\", \"point\", \"human\", \"fact\", \"example\", \"launch\", \"satellite\", \"shuttle\", \"orbit\", \"lunar\", \"moon\", \"solar\", \"satellites\", \"spacecraft\", \"launched\", \"mars\", \"saturn\", \"missions\", \"ncsl\", \"planetary\", \"telescope\", \"rockefeller\", \"propulsion\", \"fallacy\", \"orbital\", \"atmosphere\", \"crew\", \"allah\", \"financial\", \"payload\", \"venus\", \"ozone\", \"gravity\", \"aerospace\", \"stewart\", \"mission\", \"space\", \"energy\", \"nuclear\", \"nasa\", \"flight\", \"tobacco\", \"earth\", \"science\", \"degrees\", \"rocket\", \"vehicle\", \"center\", \"project\", \"station\", \"research\", \"theory\", \"nist\", \"cost\", \"technology\", \"data\", \"development\", \"national\", \"year\", \"high\", \"years\", \"first\", \"also\", \"system\", \"program\", \"time\", \"april\", \"long\", \"season\", \"players\", \"hockey\", \"teams\", \"montreal\", \"fans\", \"puck\", \"game\", \"scoring\", \"pitching\", \"playoffs\", \"scored\", \"cubs\", \"quebec\", \"flyers\", \"braves\", \"islanders\", \"hartford\", \"pens\", \"espn\", \"playoff\", \"defensive\", \"coach\", \"devils\", \"lemieux\", \"phillies\", \"traded\", \"defenseman\", \"gilmour\", \"jagr\", \"team\", \"baseball\", \"rangers\", \"games\", \"league\", \"play\", \"pittsburgh\", \"player\", \"played\", \"philadelphia\", \"score\", \"toronto\", \"boston\", \"detroit\", \"minnesota\", \"year\", \"kings\", \"division\", \"goal\", \"last\", \"runs\", \"first\", \"good\", \"second\", \"points\", \"period\", \"best\", \"better\", \"back\", \"think\", \"power\", \"home\", \"would\", \"ripem\", \"wiring\", \"anonymity\", \"outlets\", \"cview\", \"listserv\", \"grounding\", \"telnet\", \"ciphertext\", \"gfci\", \"digest\", \"siggraph\", \"sender\", \"agrep\", \"authentication\", \"rsaref\", \"insulation\", \"icons\", \"intentional\", \"snuff\", \"recipient\", \"enhancement\", \"jfif\", \"inspector\", \"mailing\", \"penet\", \"prong\", \"bindings\", \"rode\", \"targa\", \"anonymous\", \"newsgroups\", \"usenet\", \"neutral\", \"internet\", \"judges\", \"mail\", \"archives\", \"send\", \"archive\", \"request\", \"addresses\", \"requests\", \"online\", \"electronic\", \"news\", \"posting\", \"address\", \"list\", \"wire\", \"jpeg\", \"email\", \"information\", \"message\", \"users\", \"sites\", \"site\", \"available\", \"service\", \"please\", \"contact\", \"public\", \"keyboard\", \"computer\", \"group\", \"subject\", \"name\", \"post\", \"info\", \"also\", \"stephanopoulos\", \"jobs\", \"president\", \"myers\", \"senate\", \"sleeve\", \"senator\", \"republicans\", \"telecommunications\", \"stimulus\", \"astros\", \"males\", \"suck\", \"dole\", \"briefing\", \"escrowed\", \"filters\", \"clinton\", \"election\", \"ghetto\", \"legislative\", \"authorization\", \"industries\", \"embargo\", \"methanol\", \"unauthorized\", \"firms\", \"yeltsin\", \"raid\", \"deficit\", \"administration\", \"congress\", \"bush\", \"senior\", \"attorney\", \"reform\", \"secretary\", \"federal\", \"initiative\", \"economy\", \"government\", \"budget\", \"enforcement\", \"agencies\", \"funds\", \"executive\", \"bill\", \"united\", \"americans\", \"policy\", \"technology\", \"russia\", \"house\", \"american\", \"privacy\", \"private\", \"states\", \"national\", \"press\", \"today\", \"going\", \"security\", \"encryption\", \"working\", \"public\", \"package\", \"state\", \"think\", \"work\", \"disease\", \"patients\", \"judas\", \"palestinian\", \"cancer\", \"professor\", \"diseases\", \"sabbath\", \"orthodox\", \"jerusalem\", \"handguns\", \"hicnet\", \"infections\", \"infection\", \"prevention\", \"hebrew\", \"genetic\", \"illness\", \"clinical\", \"prevalence\", \"therapy\", \"adult\", \"bullock\", \"homicides\", \"chronic\", \"recognition\", \"infectious\", \"protein\", \"diagnosed\", \"ceremonial\", \"medical\", \"jews\", \"jewish\", \"aids\", \"medicine\", \"health\", \"patient\", \"treatment\", \"study\", \"studies\", \"among\", \"anti\", \"newsletter\", \"reported\", \"pain\", \"research\", \"states\", \"drug\", \"university\", \"children\", \"child\", \"national\", \"united\", \"state\", \"years\", \"number\", \"human\", \"also\", \"center\", \"keys\", \"encrypted\", \"crypto\", \"crypt\", \"phones\", \"plaintext\", \"decrypt\", \"scheme\", \"zionism\", \"inherent\", \"substitution\", \"contracts\", \"wwii\", \"lopez\", \"encrypt\", \"fuse\", \"hellman\", \"throttle\", \"yassin\", \"generates\", \"hong\", \"lighter\", \"intrinsics\", \"skipjack\", \"fielding\", \"catcher\", \"marijuana\", \"negotiating\", \"riots\", \"cigarettes\", \"random\", \"paranoid\", \"algorithm\", \"cryptography\", \"secure\", \"clipper\", \"classified\", \"denning\", \"encryption\", \"chip\", \"secret\", \"cellular\", \"hash\", \"escrow\", \"bits\", \"block\", \"security\", \"serial\", \"blocks\", \"chips\", \"number\", \"system\", \"strong\", \"produce\", \"phone\", \"used\", \"public\", \"unit\", \"using\", \"data\", \"standard\", \"message\", \"part\", \"could\", \"armenian\", \"armenians\", \"turkish\", \"turkey\", \"armenia\", \"turks\", \"genocide\", \"azerbaijan\", \"henrik\", \"greece\", \"karabakh\", \"republic\", \"argic\", \"ottoman\", \"serdar\", \"skepticism\", \"cipher\", \"intellect\", \"cyprus\", \"azeris\", \"shameful\", \"cadre\", \"chastity\", \"kurds\", \"istanbul\", \"karabagh\", \"ciphers\", \"sdpa\", \"cryptanalysis\", \"nagorno\", \"pitt\", \"baku\", \"surrender\", \"greek\", \"gordon\", \"soviet\", \"muslim\", \"russian\", \"azerbaijani\", \"german\", \"history\", \"nazi\", \"banks\", \"government\", \"killed\", \"people\", \"soon\", \"million\", \"entries\", \"oname\", \"fprintf\", \"ioccc\", \"obfuscated\", \"smokeless\", \"xvoid\", \"stdin\", \"landon\", \"mkentry\", \"noll\", \"curt\", \"larson\", \"whitespace\", \"bassel\", \"toad\", \"submitting\", \"reuss\", \"pname\", \"rname\", \"bname\", \"expos\", \"newline\", \"copper\", \"grayscale\", \"perror\", \"uuname\", \"xfile\", \"riley\", \"parse\", \"entry\", \"contest\", \"winners\", \"guidelines\", \"output\", \"section\", \"argv\", \"rules\", \"title\", \"file\", \"build\", \"proceedings\", \"firearms\", \"check\", \"author\", \"define\", \"program\", \"date\", \"info\", \"line\", \"open\", \"conference\", \"return\", \"size\", \"name\", \"year\", \"must\", \"number\", \"source\", \"read\", \"write\", \"information\", \"sharks\", \"jets\", \"pitcher\", \"terminals\", \"yankees\", \"miller\", \"blues\", \"dodgers\", \"habs\", \"sabres\", \"ghost\", \"giants\", \"hulk\", \"init\", \"nolan\", \"cincinnati\", \"creed\", \"seagate\", \"otto\", \"wolverine\", \"comics\", \"promo\", \"nords\", \"unassisted\", \"smythe\", \"losses\", \"wales\", \"bounced\", \"swing\", \"winfield\", \"rider\", \"hawks\", \"vancouver\", \"smith\", \"jose\", \"adams\", \"period\", \"finals\", \"cover\", \"copies\", \"ball\", \"picture\", \"louis\", \"buffalo\", \"appears\", \"chicago\", \"annual\", \"power\", \"wings\", \"third\", \"scorer\", \"first\", \"issue\", \"copy\", \"israeli\", \"arab\", \"arabs\", \"vesa\", \"adaptec\", \"lebanon\", \"palestinians\", \"stealth\", \"israelis\", \"lebanese\", \"gaza\", \"aspi\", \"offset\", \"zionist\", \"ships\", \"ankara\", \"massacres\", \"agdam\", \"gazans\", \"casualties\", \"collaboration\", \"hojali\", \"registers\", \"orchid\", \"forty\", \"diamond\", \"withdraw\", \"fairing\", \"israel\", \"hamas\", \"civilians\", \"helmet\", \"occupied\", \"prison\", \"harley\", \"territories\", \"conflict\", \"borders\", \"peace\", \"syria\", \"palestine\", \"land\", \"bodies\", \"soldiers\", \"territory\", \"attacks\", \"killed\", \"said\", \"dead\", \"troops\", \"solution\", \"nrhj\", \"wwiz\", \"bxom\", \"gizw\", \"tbxn\", \"bhjn\", \"bxlt\", \"wmbxn\", \"nriz\", \"pnei\", \"mbxn\", \"tbxom\", \"yalcin\", \"onur\", \"rchz\", \"pmfq\", \"jpwu\", \"gizwt\", \"wwhj\", \"eqtm\", \"chzd\", \"nrizwt\", \"nkjz\", \"rlhz\", \"volvo\", \"chzv\", \"gangs\", \"fijh\", \"zrck\", \"zrlk\", \"part\", \"autos\", \"centris\", \"precision\", \"powerpc\", \"runner\", \"prisoners\", \"colony\", \"impulse\", \"carbs\", \"nissan\", \"pentium\", \"adventure\", \"nmsu\", \"midi\", \"jeep\", \"shade\", \"quickdraw\", \"mechanics\", \"mixer\", \"fujitsu\", \"dayton\", \"victor\", \"floptical\", \"steep\", \"goose\", \"spacewalks\", \"vanilla\", \"applelink\", \"champaign\", \"macuser\", \"borland\", \"amps\", \"shaft\", \"soundblaster\", \"nubus\", \"turbo\", \"inner\", \"speakers\", \"sale\", \"bolt\", \"disks\", \"shipping\", \"manuals\", \"intel\", \"machines\", \"macs\", \"models\", \"price\", \"includes\", \"package\", \"auto\", \"microsoft\", \"engine\", \"games\", \"version\", \"software\", \"guide\", \"word\", \"comments\", \"mask\", \"hanging\", \"pixmap\", \"icon\", \"reds\", \"alomar\", \"ctrl\", \"retail\", \"denver\", \"cleveland\", \"flags\", \"freeware\", \"cols\", \"twins\", \"sticking\", \"olwm\", \"gainey\", \"stefan\", \"capitol\", \"yorn\", \"streak\", \"compiling\", \"idle\", \"baerga\", \"salary\", \"dortmund\", \"revenues\", \"tamu\", \"promotion\", \"fuck\", \"scores\", \"rows\", \"cooper\", \"atlanta\", \"hitter\", \"expose\", \"colorado\", \"houston\", \"lost\", \"texas\", \"university\", \"courses\", \"main\", \"double\", \"events\", \"event\", \"germany\", \"echo\", \"thanks\", \"navy\", \"detector\", \"weaver\", \"baltimore\", \"symbol\", \"laptop\", \"idaho\", \"sockets\", \"jays\", \"indians\", \"leather\", \"rectangle\", \"canadiens\", \"moncton\", \"bethesda\", \"providence\", \"darkness\", \"bronx\", \"springfield\", \"viola\", \"bolsheviks\", \"argentine\", \"falklands\", \"cartel\", \"royals\", \"majors\", \"lunatic\", \"champs\", \"spence\", \"manhattan\", \"zealand\", \"naval\", \"libxmu\", \"detectors\", \"radar\", \"georgia\", \"island\", \"doug\", \"street\", \"rochester\", \"upenn\", \"south\", \"york\", \"vice\", \"park\", \"room\", \"liar\", \"john\", \"undefined\", \"virtual\", \"reality\", \"april\", \"road\", \"remark\", \"filename\", \"cursor\", \"circuits\", \"allocation\", \"sync\", \"mormons\", \"deaf\", \"adobe\", \"batteries\", \"maxbyte\", \"quicktime\", \"micro\", \"tubes\", \"boggs\", \"emulation\", \"prints\", \"speedstar\", \"dealership\", \"mpeg\", \"liver\", \"quack\", \"deciding\", \"chunk\", \"carrier\", \"adcom\", \"assure\", \"logitech\", \"wont\", \"unsigned\", \"balloon\", \"kent\", \"lotus\", \"polygon\", \"byte\", \"radius\", \"flat\", \"edge\", \"cross\", \"tube\", \"ticket\", \"unit\", \"lines\", \"push\", \"blue\", \"face\", \"line\", \"plane\", \"point\", \"current\", \"right\", \"points\", \"candida\", \"coli\", \"jumper\", \"xmosaic\", \"packaging\", \"dram\", \"amplifier\", \"eggs\", \"investigating\", \"geoffrey\", \"albicans\", \"newest\", \"interleave\", \"olney\", \"uccxkvb\", \"ghostscript\", \"tulsa\", \"grandfather\", \"sinus\", \"drum\", \"techworks\", \"jumpers\", \"generous\", \"stool\", \"brewer\", \"systemic\", \"fungal\", \"herbert\", \"humanist\", \"whats\", \"paradox\", \"yeast\", \"slave\", \"coding\", \"fungus\", \"mosaic\", \"master\", \"partition\", \"smoking\", \"cylinders\", \"download\", \"settings\", \"gifs\", \"excellent\", \"heads\", \"bios\", \"steve\", \"drive\", \"stephen\", \"missing\", \"drives\", \"david\"], \"Freq\": [1591.0, 4009.0, 1217.0, 1140.0, 1425.0, 1118.0, 1011.0, 785.0, 1160.0, 5935.0, 695.0, 881.0, 582.0, 1410.0, 523.0, 721.0, 546.0, 1868.0, 597.0, 513.0, 1413.0, 1751.0, 1392.0, 1318.0, 768.0, 2939.0, 616.0, 1344.0, 792.0, 1190.0, 349.2939758300781, 182.40118408203125, 169.40660095214844, 143.6884307861328, 125.59587860107422, 126.67021942138672, 120.46797180175781, 119.99955749511719, 98.81340789794922, 95.80702209472656, 94.57778930664062, 91.85401916503906, 86.96104431152344, 85.2731704711914, 83.98194122314453, 80.07831573486328, 79.88629913330078, 114.78458404541016, 76.05220794677734, 73.52938079833984, 272.3573303222656, 70.37088012695312, 66.40170288085938, 125.89878845214844, 59.25059509277344, 58.72040939331055, 58.60465621948242, 58.481693267822266, 57.6980094909668, 56.48158264160156, 302.55877685546875, 3356.43896484375, 305.73370361328125, 277.8457946777344, 96.05735778808594, 154.9395751953125, 123.67247772216797, 251.07708740234375, 171.1390380859375, 481.9811706542969, 256.0157165527344, 1243.3741455078125, 1229.1337890625, 3498.54150390625, 1455.0321044921875, 1839.1116943359375, 951.207763671875, 877.5955200195312, 1485.4095458984375, 214.8258819580078, 608.1194458007812, 768.3692016601562, 448.0853576660156, 2010.1256103515625, 428.1453857421875, 363.35784912109375, 1772.5748291015625, 1352.8968505859375, 493.1968078613281, 297.24700927734375, 914.95751953125, 1483.64501953125, 817.1386108398438, 961.7730102539062, 585.5743408203125, 494.5946350097656, 610.89794921875, 626.5365600585938, 1045.3616943359375, 1021.7359008789062, 1000.4515380859375, 612.416748046875, 689.7410888671875, 736.9463500976562, 742.560546875, 981.0426025390625, 653.2623291015625, 671.2767944335938, 723.0307006835938, 652.1677856445312, 702.6552124023438, 628.8690795898438, 575.4097290039062, 286.3821716308594, 158.77325439453125, 135.5205841064453, 103.05927276611328, 99.343994140625, 95.73676300048828, 89.25981903076172, 86.32404327392578, 86.39701080322266, 80.30416870117188, 73.26274871826172, 73.06884002685547, 68.3515396118164, 67.92501068115234, 66.31290435791016, 66.20647430419922, 728.3729858398438, 65.05924987792969, 71.35082244873047, 63.44586181640625, 57.70915985107422, 57.60462188720703, 57.1534538269043, 56.84960174560547, 56.233856201171875, 55.89162063598633, 55.10987854003906, 53.36255645751953, 52.17889404296875, 975.90185546875, 97.85990142822266, 314.7773132324219, 336.671875, 94.34954071044922, 259.01812744140625, 368.49334716796875, 215.9531707763672, 450.4839172363281, 278.9897766113281, 229.99928283691406, 308.83428955078125, 124.24407196044922, 196.24607849121094, 101.63856506347656, 374.7544250488281, 530.1915893554688, 222.5851593017578, 334.17138671875, 861.9269409179688, 144.64190673828125, 271.36932373046875, 221.44821166992188, 279.62530517578125, 213.8246307373047, 407.09942626953125, 211.21905517578125, 500.1520080566406, 847.2863159179688, 284.80694580078125, 430.862060546875, 689.072021484375, 342.69757080078125, 675.9142456054688, 689.3156127929688, 1160.1756591796875, 1069.1751708984375, 1351.1124267578125, 671.0614624023438, 751.5195922851562, 593.39599609375, 630.8509521484375, 733.8334350585938, 563.123046875, 581.6795654296875, 429.8363342285156, 415.29718017578125, 503.5579528808594, 447.2791442871094, 404.2151794433594, 419.24139404296875, 396.03753662109375, 410.2197570800781, 361.1572570800781, 227.26498413085938, 220.65493774414062, 217.1441192626953, 203.254150390625, 183.85446166992188, 166.55242919921875, 165.6431121826172, 157.85635375976562, 133.27516174316406, 128.59356689453125, 123.75641632080078, 110.01957702636719, 101.15234375, 98.40757751464844, 92.82958984375, 91.32073211669922, 90.78099060058594, 89.87328338623047, 87.39525604248047, 84.31620025634766, 79.54204559326172, 79.38362121582031, 77.01639556884766, 76.38862609863281, 75.62926483154297, 74.86604309082031, 74.29479217529297, 74.09626007080078, 728.045654296875, 505.23193359375, 563.6962890625, 994.124755859375, 490.2966003417969, 160.99879455566406, 365.05145263671875, 105.80987548828125, 251.6886749267578, 471.9029235839844, 631.4596557617188, 320.0682373046875, 620.6631469726562, 387.7545471191406, 123.59398651123047, 842.5835571289062, 258.8536682128906, 276.435546875, 837.6181030273438, 319.23382568359375, 544.7478637695312, 401.328125, 664.6442260742188, 319.8320007324219, 557.9108276367188, 461.41009521484375, 237.5038299560547, 352.43408203125, 530.5250854492188, 286.54278564453125, 385.0373229980469, 279.7107238769531, 269.24908447265625, 305.33135986328125, 273.3899841308594, 280.0968933105469, 880.1658935546875, 506.34832763671875, 441.2615661621094, 405.6521301269531, 365.1725158691406, 364.28167724609375, 230.92601013183594, 204.34408569335938, 191.64651489257812, 181.099365234375, 166.64056396484375, 157.58782958984375, 150.68499755859375, 149.44956970214844, 133.88319396972656, 129.01266479492188, 128.9168243408203, 123.83489990234375, 112.9754409790039, 109.3465347290039, 104.60596466064453, 98.75492858886719, 173.87387084960938, 553.9396362304688, 90.38426971435547, 87.2519760131836, 84.39522552490234, 82.51123809814453, 78.95957946777344, 76.70404815673828, 383.9550476074219, 180.448974609375, 175.68914794921875, 189.0172882080078, 247.14236450195312, 329.21441650390625, 190.06539916992188, 205.90145874023438, 398.878662109375, 541.3928833007812, 313.0312805175781, 180.80902099609375, 226.24989318847656, 369.258056640625, 218.1769256591797, 215.37957763671875, 314.8857727050781, 316.29559326171875, 320.2837829589844, 475.261962890625, 349.2591552734375, 375.92156982421875, 238.45489501953125, 358.27496337890625, 327.1839904785156, 267.718505859375, 233.27987670898438, 270.3131103515625, 246.28973388671875, 224.57485961914062, 233.5873565673828, 227.44210815429688, 243.896484375, 205.62818908691406, 179.8538360595703, 172.62063598632812, 156.8023223876953, 154.24501037597656, 120.95735168457031, 105.84165954589844, 102.13517761230469, 85.95625305175781, 81.60841369628906, 77.95771789550781, 77.12831115722656, 76.27920532226562, 74.2622299194336, 74.25240325927734, 73.8180160522461, 61.9506950378418, 61.923221588134766, 61.73868179321289, 60.773921966552734, 59.94334030151367, 59.36143112182617, 58.61399459838867, 58.36100769042969, 49.74596405029297, 48.76039505004883, 48.73336410522461, 48.70114517211914, 46.56094741821289, 168.37342834472656, 1091.318115234375, 123.96421813964844, 150.0971221923828, 367.55059814453125, 141.37095642089844, 136.43312072753906, 256.5837707519531, 303.3343505859375, 73.97215270996094, 102.1168441772461, 113.18133544921875, 234.1028289794922, 139.59791564941406, 143.4757080078125, 215.0984649658203, 145.55902099609375, 97.37822723388672, 175.16290283203125, 172.48526000976562, 248.34005737304688, 132.70652770996094, 173.14627075195312, 234.74676513671875, 184.79380798339844, 209.22047424316406, 234.2098846435547, 262.3377990722656, 219.92649841308594, 195.3841552734375, 167.25979614257812, 146.15457153320312, 143.14698791503906, 406.6148681640625, 349.3241271972656, 337.722900390625, 249.5697784423828, 135.9675750732422, 126.75651550292969, 123.74855041503906, 779.1636962890625, 106.31817626953125, 99.69326782226562, 99.32415008544922, 93.36257934570312, 91.2143325805664, 87.89401245117188, 87.7240982055664, 87.71601104736328, 85.08954620361328, 80.83621215820312, 78.17321014404297, 76.37847137451172, 76.24728393554688, 75.6697998046875, 73.89725494384766, 71.74354553222656, 69.18589782714844, 56.45375061035156, 56.44933319091797, 51.21839141845703, 50.58185577392578, 50.50349426269531, 688.5324096679688, 179.2783660888672, 117.33696746826172, 483.327880859375, 315.23809814453125, 480.66082763671875, 185.76556396484375, 216.96241760253906, 159.33665466308594, 128.96058654785156, 98.47724914550781, 151.1698455810547, 143.21786499023438, 136.8348388671875, 111.67813110351562, 575.03369140625, 122.68379974365234, 160.3645782470703, 155.72972106933594, 322.0361633300781, 166.02493286132812, 316.518310546875, 268.7897644042969, 200.57171630859375, 145.13082885742188, 157.05227661132812, 177.64540100097656, 179.99484252929688, 169.0723876953125, 163.01466369628906, 153.04539489746094, 147.58535766601562, 154.5102996826172, 212.40652465820312, 115.12549591064453, 78.57217407226562, 59.83091735839844, 58.12526321411133, 56.18768310546875, 51.117576599121094, 50.136024475097656, 50.109375, 46.39853286743164, 44.15241622924805, 40.09130096435547, 38.51163864135742, 36.239418029785156, 35.567108154296875, 34.59862518310547, 34.628231048583984, 33.757808685302734, 33.57680130004883, 32.0908088684082, 30.512998580932617, 30.117748260498047, 28.70578956604004, 28.590497970581055, 159.2908935546875, 28.136533737182617, 27.593841552734375, 26.53016471862793, 25.692758560180664, 25.118114471435547, 359.0717468261719, 110.63561248779297, 167.76565551757812, 112.11724853515625, 313.0527038574219, 91.52153778076172, 684.2064208984375, 67.373779296875, 479.62908935546875, 179.6026153564453, 233.4899444580078, 79.5238265991211, 107.46204376220703, 57.35258483886719, 128.6096649169922, 312.30078125, 256.0273742675781, 298.7342224121094, 419.1205749511719, 134.5618438720703, 156.62277221679688, 325.0857849121094, 486.4224853515625, 233.88482666015625, 173.737548828125, 125.1469955444336, 139.6798858642578, 342.7274169921875, 177.02047729492188, 336.12310791015625, 176.79739379882812, 224.63092041015625, 153.83457946777344, 209.78091430664062, 203.9680938720703, 203.47186279296875, 183.7627410888672, 167.74111938476562, 164.2899932861328, 199.87522888183594, 243.65635681152344, 232.4262237548828, 594.7628784179688, 155.18899536132812, 97.95487213134766, 75.94699096679688, 59.2926139831543, 57.1220817565918, 44.063865661621094, 41.75269317626953, 41.70514678955078, 39.62187576293945, 36.75677490234375, 35.123653411865234, 34.99977111816406, 34.28437042236328, 34.05189514160156, 257.191650390625, 32.92646408081055, 31.936777114868164, 29.525501251220703, 29.4231014251709, 29.228721618652344, 28.402170181274414, 26.84762954711914, 25.576007843017578, 25.559057235717773, 25.130125045776367, 23.703088760375977, 49.3984489440918, 296.7395324707031, 234.19186401367188, 92.5363540649414, 99.9984359741211, 71.40914154052734, 49.561492919921875, 123.9607925415039, 225.92816162109375, 55.45137405395508, 89.4161376953125, 618.3770751953125, 89.77002716064453, 132.05006408691406, 113.5084457397461, 87.19336700439453, 52.37611770629883, 189.4480743408203, 173.9199981689453, 120.62107849121094, 137.34413146972656, 204.53097534179688, 109.64625549316406, 183.38226318359375, 219.30404663085938, 152.1459197998047, 160.62327575683594, 204.5353546142578, 197.5851287841797, 156.04080200195312, 172.7161407470703, 223.4693145751953, 150.81414794921875, 153.70013427734375, 150.6222686767578, 164.98196411132812, 142.2427978515625, 154.319580078125, 155.63104248046875, 138.91078186035156, 183.6717987060547, 149.89796447753906, 123.28133392333984, 110.23387908935547, 98.98945617675781, 98.28252410888672, 95.38013458251953, 67.16033172607422, 66.3206787109375, 64.56665802001953, 58.71870803833008, 56.987098693847656, 56.71688461303711, 54.36001205444336, 52.24348831176758, 49.922542572021484, 49.701866149902344, 49.56919860839844, 47.617889404296875, 45.59059143066406, 45.11575698852539, 44.06343078613281, 51.232452392578125, 42.157135009765625, 42.04298400878906, 40.18735885620117, 34.74184799194336, 34.3624382019043, 33.939273834228516, 33.65840148925781, 265.4885559082031, 463.8064270019531, 293.56011962890625, 71.76746368408203, 107.69742584228516, 316.6060485839844, 66.65711212158203, 114.2358627319336, 191.63885498046875, 107.9711685180664, 201.02029418945312, 152.58511352539062, 76.14725494384766, 110.0926742553711, 117.36898803710938, 175.33871459960938, 177.41281127929688, 106.6997299194336, 167.9525604248047, 153.71217346191406, 100.0967788696289, 126.72844696044922, 104.41358947753906, 135.51036071777344, 146.53843688964844, 142.2384490966797, 105.11589813232422, 104.92444610595703, 100.2801742553711, 394.12811279296875, 132.34339904785156, 131.30294799804688, 90.29638671875, 87.07282257080078, 61.06864929199219, 51.17161178588867, 105.00463104248047, 44.078731536865234, 50.187374114990234, 38.721038818359375, 38.46446990966797, 36.573551177978516, 36.44761657714844, 36.07774353027344, 35.621124267578125, 35.58945083618164, 32.62844467163086, 32.404991149902344, 31.37677574157715, 31.15886116027832, 30.309242248535156, 29.928829193115234, 29.889127731323242, 28.319873809814453, 28.304058074951172, 27.74576759338379, 27.094261169433594, 26.67373275756836, 25.76659393310547, 146.3530731201172, 40.34394836425781, 227.8677978515625, 144.44187927246094, 179.03819274902344, 287.5806884765625, 57.16899108886719, 44.64468765258789, 324.47003173828125, 395.6487731933594, 175.83773803710938, 55.63961410522461, 50.92089080810547, 125.53085327148438, 165.5414276123047, 119.62040710449219, 206.0738983154297, 153.97879028320312, 53.16410446166992, 113.93144989013672, 272.4604797363281, 327.9708251953125, 118.12992095947266, 86.64380645751953, 134.4198760986328, 235.38580322265625, 152.2823944091797, 95.95559692382812, 174.43490600585938, 149.0472869873047, 119.98646545410156, 118.46658325195312, 129.8541717529297, 121.18894958496094, 581.18505859375, 512.1607055664062, 409.755615234375, 258.091796875, 199.35061645507812, 191.82620239257812, 171.960205078125, 152.5830841064453, 134.53219604492188, 95.10102844238281, 89.07589721679688, 88.7155532836914, 84.75662231445312, 82.19451904296875, 81.220458984375, 76.30545806884766, 73.97337341308594, 69.76075744628906, 67.82145690917969, 67.74930572509766, 66.93321990966797, 66.28443908691406, 64.98699951171875, 54.32373046875, 53.24605178833008, 47.22129440307617, 44.40460968017578, 43.28795623779297, 43.14298629760742, 37.63616180419922, 100.14108276367188, 75.53153991699219, 85.86814880371094, 195.2472381591797, 86.33242797851562, 124.02349853515625, 117.45702362060547, 158.11599731445312, 85.5137710571289, 94.40330505371094, 110.50872039794922, 82.58283233642578, 76.38723754882812, 109.86463165283203, 88.83039093017578, 115.06676483154297, 82.61292266845703, 82.34797668457031, 189.3558349609375, 178.80999755859375, 129.114990234375, 80.46086883544922, 79.38060760498047, 70.67620849609375, 63.13420867919922, 53.20082092285156, 45.701332092285156, 44.3184928894043, 43.072330474853516, 42.547752380371094, 41.65837860107422, 40.69020080566406, 37.8143424987793, 36.8076286315918, 36.01335525512695, 32.46049499511719, 28.95726203918457, 28.95726203918457, 28.95726203918457, 28.32695770263672, 27.124004364013672, 25.4644832611084, 25.212873458862305, 25.1143798828125, 23.69927215576172, 23.53338050842285, 22.788209915161133, 22.78402328491211, 520.3445434570312, 135.46987915039062, 69.36323547363281, 69.54542541503906, 480.2333984375, 242.3004150390625, 43.13361740112305, 195.6243438720703, 158.07118225097656, 606.6827392578125, 208.34927368164062, 50.21108627319336, 89.9991226196289, 185.68797302246094, 114.11637878417969, 96.32117462158203, 251.2205047607422, 113.88494873046875, 158.30087280273438, 160.9756317138672, 126.19300079345703, 80.6063003540039, 102.0297622680664, 108.47180938720703, 142.78765869140625, 159.48289489746094, 127.95523834228516, 119.68403625488281, 92.09386444091797, 89.63927459716797, 83.32318878173828, 84.69112396240234, 70.12533569335938, 69.08135986328125, 62.901615142822266, 57.154727935791016, 54.37247848510742, 54.303375244140625, 50.39289093017578, 47.78850555419922, 44.55319595336914, 43.65932846069336, 40.46278381347656, 37.641807556152344, 36.80224609375, 36.74834442138672, 36.10407257080078, 35.61795425415039, 35.05454635620117, 34.99852752685547, 34.230220794677734, 33.23539352416992, 33.02265930175781, 32.65446472167969, 31.504776000976562, 31.025787353515625, 30.838499069213867, 29.573877334594727, 29.22154998779297, 28.8558292388916, 27.692882537841797, 27.57687759399414, 85.31369018554688, 53.4209098815918, 111.3770523071289, 120.16531372070312, 88.02242279052734, 51.062652587890625, 173.5145721435547, 41.594627380371094, 102.99931335449219, 78.15045166015625, 69.47938537597656, 87.20652770996094, 60.424774169921875, 47.075904846191406, 65.6748046875, 63.25586700439453, 48.89937210083008, 67.78992462158203, 43.811241149902344, 52.909912109375, 43.90610122680664, 48.294925689697266, 46.02051544189453, 44.9936408996582, 320.8829040527344, 212.23129272460938, 100.40435791015625, 82.11695861816406, 77.5850601196289, 72.74979400634766, 67.52662658691406, 66.06063079833984, 65.9715576171875, 61.07381820678711, 55.775306701660156, 53.33514404296875, 46.765052795410156, 45.88258361816406, 56.731346130371094, 38.2728385925293, 37.75435256958008, 30.881729125976562, 30.579500198364258, 29.476835250854492, 27.290454864501953, 25.125396728515625, 23.132919311523438, 23.022785186767578, 22.925796508789062, 67.1868896484375, 22.107404708862305, 21.933765411376953, 504.4100646972656, 21.290475845336914, 81.5865249633789, 75.04894256591797, 65.22333526611328, 51.414791107177734, 31.969966888427734, 32.56633758544922, 96.6129379272461, 38.91366195678711, 132.47178649902344, 43.880653381347656, 51.12167739868164, 105.58329772949219, 55.85600662231445, 73.64970397949219, 46.92223358154297, 58.90988540649414, 70.68781280517578, 93.6813735961914, 62.713645935058594, 51.84267807006836, 54.51040267944336, 125.1511001586914, 85.2967300415039, 74.9762191772461, 73.56591033935547, 58.94917678833008, 58.0333137512207, 56.07375717163086, 51.47287368774414, 49.50651168823242, 49.15155029296875, 46.83610916137695, 38.40056610107422, 36.63432693481445, 36.63432693481445, 36.274471282958984, 36.15336227416992, 33.63394546508789, 29.288610458374023, 28.95681381225586, 26.875574111938477, 26.765689849853516, 25.24513053894043, 23.86125946044922, 23.776159286499023, 20.962434768676758, 20.21806526184082, 20.03078842163086, 19.706083297729492, 18.974180221557617, 18.2951602935791, 28.598569869995117, 61.46330261230469, 56.68669509887695, 32.35059356689453, 31.232023239135742, 30.188112258911133, 26.298696517944336, 26.19010353088379, 24.842731475830078, 22.330286026000977, 21.737777709960938, 21.609983444213867, 21.36017417907715, 20.945112228393555, 20.697574615478516, 17.833192825317383, 17.481027603149414, 17.442951202392578, 17.004377365112305, 16.44516372680664, 16.290292739868164, 16.175199508666992, 15.703997611999512, 15.385587692260742, 15.283595085144043, 14.832254409790039, 14.630287170410156, 14.280468940734863, 13.862883567810059, 13.768046379089355, 13.45618724822998, 58.42695999145508, 25.45964813232422, 27.60529899597168, 22.59684944152832, 49.939048767089844, 58.27396011352539, 30.392789840698242, 36.870792388916016, 119.53595733642578, 24.619665145874023, 71.9051742553711, 85.92596435546875, 44.402435302734375, 40.80787658691406, 69.87147521972656, 36.63903045654297, 47.161746978759766, 75.92703247070312, 63.53400802612305, 67.13436889648438, 42.68562698364258, 41.13454818725586, 44.02747344970703, 49.008216857910156, 43.682640075683594, 38.979286193847656, 31.88002586364746, 32.60293960571289, 30.220430374145508, 68.93013000488281, 66.74663543701172, 65.83273315429688, 61.34333801269531, 40.20450210571289, 38.55726623535156, 34.14726638793945, 32.868656158447266, 31.665536880493164, 50.733123779296875, 31.285642623901367, 30.477951049804688, 29.643770217895508, 27.582284927368164, 27.125455856323242, 26.48594856262207, 25.51308822631836, 25.202911376953125, 25.124208450317383, 24.981359481811523, 23.696311950683594, 22.900224685668945, 37.476165771484375, 21.035602569580078, 20.921003341674805, 19.83730125427246, 19.650819778442383, 19.115055084228516, 19.10948371887207, 18.995277404785156, 60.05315017700195, 33.90454864501953, 42.08966064453125, 50.1920280456543, 42.21459197998047, 43.53435134887695, 85.982421875, 39.80462646484375, 80.18628692626953, 50.37550354003906, 58.92852020263672, 28.4613037109375, 48.05662536621094, 41.93815612792969, 39.36277770996094, 38.863067626953125, 36.7139778137207, 33.25225067138672, 34.48200225830078, 87.88623809814453, 61.172908782958984, 59.126949310302734, 57.398380279541016, 55.20852279663086, 35.71222686767578, 33.367103576660156, 32.19977951049805, 31.125947952270508, 30.807172775268555, 27.376605987548828, 25.186893463134766, 25.138519287109375, 24.52730369567871, 24.148656845092773, 23.535486221313477, 23.303089141845703, 23.09890365600586, 22.608675003051758, 21.425302505493164, 21.36100196838379, 21.36100196838379, 21.36100196838379, 20.34573745727539, 20.083694458007812, 20.075881958007812, 20.037269592285156, 19.895427703857422, 19.382986068725586, 18.869604110717773, 34.577491760253906, 69.91380310058594, 43.141727447509766, 32.938453674316406, 84.44686126708984, 58.49090576171875, 71.74581909179688, 61.181114196777344, 80.72016143798828, 27.36952018737793, 24.50479507446289, 58.07376480102539, 63.72945022583008, 41.18039321899414, 43.213783264160156, 48.51702117919922, 28.301712036132812, 41.05669021606445, 28.747356414794922, 29.913394927978516, 30.299970626831055, 30.769319534301758, 29.290821075439453, 132.3265380859375, 121.49063873291016, 61.71158981323242, 57.58525466918945, 49.83567428588867, 40.24811935424805, 38.733673095703125, 37.329349517822266, 35.888816833496094, 33.510955810546875, 32.614139556884766, 32.197509765625, 30.602643966674805, 25.019947052001953, 24.61612319946289, 24.298051834106445, 23.499773025512695, 23.086109161376953, 22.936630249023438, 21.369935989379883, 20.776445388793945, 19.643068313598633, 18.786212921142578, 18.610553741455078, 18.358633041381836, 18.264354705810547, 17.86268424987793, 17.1467342376709, 16.43642234802246, 16.339317321777344, 32.27213668823242, 52.513648986816406, 24.656850814819336, 33.37986373901367, 59.69038391113281, 35.43393325805664, 34.41458511352539, 45.47034454345703, 55.553741455078125, 32.60720443725586, 32.25630569458008, 54.287803649902344, 60.322898864746094, 36.44470977783203, 34.24858093261719, 38.57200622558594, 41.03392791748047, 29.3929443359375, 39.1702766418457, 35.48925018310547, 34.88197708129883, 32.985939025878906, 64.57067108154297, 57.27137756347656, 54.481117248535156, 34.10441589355469, 33.67374801635742, 31.648149490356445, 27.346317291259766, 20.364274978637695, 19.201072692871094, 18.95951271057129, 17.782005310058594, 16.803926467895508, 15.932912826538086, 15.927366256713867, 15.857308387756348, 15.261612892150879, 13.942438125610352, 13.557331085205078, 13.240297317504883, 13.222369194030762, 13.21865177154541, 41.24427032470703, 12.507190704345703, 12.376988410949707, 11.937410354614258, 11.673418998718262, 11.496417045593262, 11.476490020751953, 11.296391487121582, 10.743351936340332, 31.101930618286133, 28.756601333618164, 54.188987731933594, 19.942001342773438, 15.47879695892334, 13.37775993347168, 52.80722427368164, 17.927583694458008, 23.436832427978516, 19.301727294921875, 17.996912002563477, 27.0052433013916, 17.246570587158203, 37.30860137939453, 23.906009674072266, 25.941532135009766, 26.829206466674805, 35.07713317871094, 20.072708129882812, 22.82798194885254, 21.100204467773438, 20.169811248779297], \"Total\": [1591.0, 4009.0, 1217.0, 1140.0, 1425.0, 1118.0, 1011.0, 785.0, 1160.0, 5935.0, 695.0, 881.0, 582.0, 1410.0, 523.0, 721.0, 546.0, 1868.0, 597.0, 513.0, 1413.0, 1751.0, 1392.0, 1318.0, 768.0, 2939.0, 616.0, 1344.0, 792.0, 1190.0, 350.1297912597656, 183.237060546875, 170.2424774169922, 144.52430725097656, 126.43171691894531, 127.53838348388672, 121.3038101196289, 120.83539581298828, 99.64924621582031, 96.64286804199219, 95.41362762451172, 92.68985748291016, 87.79688262939453, 86.1090087890625, 84.81777954101562, 80.91417694091797, 80.72213745117188, 115.99835205078125, 76.88804626464844, 74.36522674560547, 275.5442199707031, 71.20677947998047, 67.23754119873047, 127.53678894042969, 60.08644485473633, 59.55625915527344, 59.44050598144531, 59.317543029785156, 58.53385925292969, 57.31743240356445, 307.9524841308594, 4009.05712890625, 331.4752197265625, 302.291259765625, 99.84674072265625, 165.73141479492188, 130.78948974609375, 285.7945251464844, 188.08070373535156, 589.4773559570312, 294.69171142578125, 1751.6578369140625, 1772.4344482421875, 5935.2158203125, 2222.978515625, 2939.303466796875, 1416.9031982421875, 1304.005859375, 2425.248291015625, 249.5474395751953, 856.303955078125, 1134.8697509765625, 601.89013671875, 3846.72412109375, 577.3101806640625, 472.3465576171875, 3386.0029296875, 2445.2431640625, 694.6538696289062, 369.9898376464844, 1553.078857421875, 2896.97265625, 1344.026123046875, 1718.8536376953125, 892.6522216796875, 713.8131713867188, 950.7606201171875, 988.8688354492188, 2066.356689453125, 2023.1219482421875, 1964.394775390625, 967.7904663085938, 1200.882568359375, 1366.7945556640625, 1432.484619140625, 2387.146728515625, 1145.449951171875, 1459.202880859375, 2088.1708984375, 1348.830810546875, 3245.65673828125, 1240.560791015625, 576.2463989257812, 287.73309326171875, 159.60989379882812, 136.3572235107422, 103.89588165283203, 100.18060302734375, 96.57337951660156, 90.096435546875, 87.16065216064453, 87.23611450195312, 81.14077758789062, 74.09935760498047, 73.90550994873047, 69.18814849853516, 68.7616195678711, 67.1495132446289, 67.04308319091797, 737.6910400390625, 65.89585876464844, 72.28885650634766, 64.28248596191406, 58.54579544067383, 58.44124221801758, 57.99009704589844, 57.686241149902344, 57.07047653198242, 56.728267669677734, 55.94649887084961, 54.19917678833008, 53.0155143737793, 1011.777099609375, 99.62664794921875, 325.0097351074219, 348.41607666015625, 96.60456085205078, 271.17999267578125, 392.3736267089844, 228.63525390625, 492.3974609375, 300.8880615234375, 249.1190185546875, 343.2030334472656, 131.14500427246094, 216.167236328125, 106.45840454101562, 443.6490478515625, 651.5028686523438, 251.1334228515625, 398.7596435546875, 1190.5948486328125, 158.7288360595703, 332.58526611328125, 265.37261962890625, 350.43328857421875, 255.3351287841797, 568.0775756835938, 256.4259948730469, 778.9835815429688, 1544.3843994140625, 380.14849853515625, 662.593017578125, 1413.5924072265625, 523.0681762695312, 1527.5299072265625, 1587.7525634765625, 3846.72412109375, 3386.0029296875, 5935.2158203125, 1842.844482421875, 2387.146728515625, 1602.2310791015625, 1868.50146484375, 3245.65673828125, 2023.1219482421875, 2445.2431640625, 1139.47314453125, 1046.845947265625, 2896.97265625, 1718.8536376953125, 1432.484619140625, 2939.303466796875, 1964.394775390625, 411.05963134765625, 361.99713134765625, 228.1049041748047, 221.49485778808594, 217.98403930664062, 204.0940704345703, 184.6943817138672, 167.39234924316406, 166.4830322265625, 158.6962890625, 134.11508178710938, 129.43348693847656, 124.59630584716797, 110.8594741821289, 101.99223327636719, 99.24794006347656, 93.66947937011719, 92.1606216430664, 91.62088012695312, 90.71317291259766, 88.23514556884766, 85.15608978271484, 80.3819351196289, 80.22351837158203, 77.85628509521484, 77.228515625, 76.46915435791016, 75.7059326171875, 75.13468170166016, 74.93614959716797, 768.0162963867188, 535.1907348632812, 618.6991577148438, 1160.9530029296875, 561.7835693359375, 171.0915985107422, 414.490966796875, 109.90805053710938, 287.0926513671875, 579.85986328125, 820.5377197265625, 393.53887939453125, 854.7372436523438, 501.0652160644531, 131.125732421875, 1425.6065673828125, 328.8638000488281, 360.643798828125, 1591.874755859375, 448.2074279785156, 952.5491333007812, 629.1128540039062, 1318.4478759765625, 531.3798217773438, 1407.9036865234375, 1175.6368408203125, 331.45635986328125, 889.3898315429688, 3245.65673828125, 552.539306640625, 1868.50146484375, 646.0350341796875, 547.4219360351562, 3846.72412109375, 781.2413330078125, 1527.5299072265625, 881.0029296875, 507.1852722167969, 442.0985107421875, 406.48907470703125, 366.00946044921875, 365.1186218261719, 231.7629852294922, 205.1810760498047, 192.48348999023438, 181.93634033203125, 167.4775390625, 158.4248046875, 151.52197265625, 150.2865447998047, 134.72018432617188, 129.84963989257812, 129.75379943847656, 124.67186737060547, 113.81240844726562, 110.18350219726562, 105.44293212890625, 99.5918960571289, 175.47178649902344, 559.0653076171875, 91.22123718261719, 88.08894348144531, 85.23219299316406, 83.34820556640625, 79.79654693603516, 77.541015625, 397.5526123046875, 184.2158966064453, 179.6358184814453, 194.15054321289062, 290.8450012207031, 405.3280334472656, 223.05093383789062, 248.14356994628906, 769.2975463867188, 1299.4208984375, 587.9754028320312, 235.19839477539062, 364.77093505859375, 934.6832885742188, 375.8943786621094, 381.151123046875, 1042.40478515625, 1070.1727294921875, 1267.394775390625, 5935.2158203125, 2066.356689453125, 3245.65673828125, 580.851318359375, 4009.05712890625, 2939.303466796875, 1200.882568359375, 617.3671875, 2222.978515625, 1240.560791015625, 531.691162109375, 966.5298461914062, 779.1660766601562, 244.7310333251953, 206.46273803710938, 180.68841552734375, 173.45518493652344, 157.63687133789062, 155.07955932617188, 121.7918930053711, 106.67620086669922, 102.96971893310547, 86.7907943725586, 82.44295501708984, 78.7922592163086, 77.96285247802734, 77.1137466430664, 75.09677124023438, 75.08695220947266, 74.65255737304688, 62.785240173339844, 62.75776672363281, 62.57322692871094, 61.60846710205078, 60.77788543701172, 60.19597625732422, 59.44853973388672, 59.195552825927734, 50.580509185791016, 49.594940185546875, 49.567909240722656, 49.53569030761719, 47.39549255371094, 174.2027587890625, 1217.9852294921875, 132.85897827148438, 165.92576599121094, 437.78253173828125, 156.68429565429688, 151.43377685546875, 365.8701171875, 460.72064208984375, 79.34197235107422, 121.44971466064453, 150.2112274169922, 456.7083740234375, 212.9510955810547, 229.9036102294922, 495.63507080078125, 261.283935546875, 125.74967193603516, 448.8949279785156, 447.1562805175781, 1175.6368408203125, 264.9004821777344, 568.1890869140625, 1410.5748291015625, 810.769287109375, 1348.830810546875, 2088.1708984375, 3245.65673828125, 1868.50146484375, 1425.6065673828125, 2896.97265625, 510.1440124511719, 1102.76953125, 407.4541320800781, 350.16339111328125, 338.5621643066406, 250.40908813476562, 136.8069305419922, 127.59580993652344, 124.58784484863281, 785.2622680664062, 107.160400390625, 100.53256225585938, 100.16344451904297, 94.20187377929688, 92.05362701416016, 88.73330688476562, 88.56339263916016, 88.55530548095703, 85.92884063720703, 81.67550659179688, 79.01250457763672, 77.21776580810547, 77.08657836914062, 76.50909423828125, 74.7365493774414, 72.58283996582031, 70.02519226074219, 57.29304504394531, 57.28985595703125, 52.05768585205078, 51.42115020751953, 51.34278869628906, 721.365478515625, 185.20603942871094, 120.62727355957031, 536.061767578125, 347.4414367675781, 571.2775268554688, 204.15200805664062, 257.10272216796875, 182.8018798828125, 145.8681640625, 105.11502075195312, 184.0665283203125, 175.9944610595703, 166.10552978515625, 126.18693542480469, 1410.5748291015625, 151.88601684570312, 235.91531372070312, 240.06527709960938, 1279.70361328125, 365.9229431152344, 2088.1708984375, 2387.146728515625, 919.528564453125, 321.0785217285156, 469.6513671875, 924.9989624023438, 1137.875732421875, 1432.484619140625, 2939.303466796875, 1046.845947265625, 578.8331298828125, 5935.2158203125, 213.2442169189453, 115.96317291259766, 79.40985107421875, 60.66859436035156, 58.96294021606445, 57.025360107421875, 51.95525360107422, 50.97392272949219, 50.947052001953125, 47.236209869384766, 44.99009323120117, 40.928977966308594, 39.34931564331055, 37.07709503173828, 36.40478515625, 35.436302185058594, 35.468624114990234, 34.59548568725586, 34.41447830200195, 32.92848587036133, 31.350675582885742, 30.955425262451172, 29.543466567993164, 29.42817497253418, 163.9866180419922, 28.974210739135742, 28.4315185546875, 27.367841720581055, 26.53043556213379, 25.955791473388672, 384.2920227050781, 122.3025894165039, 195.6613311767578, 129.4896240234375, 403.24298095703125, 106.72498321533203, 1118.684814453125, 78.7854232788086, 792.101318359375, 251.64218139648438, 360.3177490234375, 98.6331558227539, 143.47509765625, 66.7445068359375, 188.2707061767578, 591.25634765625, 458.8780822753906, 566.1683959960938, 894.9429931640625, 202.26901245117188, 254.7626953125, 709.5042114257812, 1392.2655029296875, 552.6362915039062, 349.6914978027344, 212.0985107421875, 271.0660705566406, 1318.4478759765625, 414.19207763671875, 1413.5924072265625, 455.51373291015625, 810.711181640625, 342.37548828125, 730.697265625, 737.3567504882812, 751.2266235351562, 1021.5426025390625, 768.7559814453125, 746.0549926757812, 3245.65673828125, 244.4930877685547, 233.52468872070312, 597.6939086914062, 156.02572631835938, 98.80558013916016, 76.7837142944336, 60.12933349609375, 57.95880126953125, 44.90059280395508, 42.589412689208984, 42.541866302490234, 40.458595275878906, 37.5934944152832, 35.96037292480469, 35.836490631103516, 35.121089935302734, 34.888614654541016, 263.65447998046875, 33.779483795166016, 32.773494720458984, 30.362218856811523, 30.25981903076172, 30.06544303894043, 29.238887786865234, 27.68434715270996, 26.4127254486084, 26.395774841308594, 25.966842651367188, 24.539806365966797, 51.14277648925781, 313.800537109375, 251.9127655029297, 99.78136444091797, 108.40372467041016, 77.20513916015625, 52.69331741333008, 146.65240478515625, 284.26763916015625, 60.810726165771484, 105.04169464111328, 1140.881591796875, 117.54496765136719, 196.0642852783203, 165.80067443847656, 117.4134521484375, 60.918033599853516, 361.0247497558594, 332.42694091796875, 198.4736785888672, 244.41795349121094, 447.1562805175781, 180.81959533691406, 407.5596008300781, 542.1336059570312, 306.81097412109375, 335.7357482910156, 550.02099609375, 568.1890869140625, 361.9529724121094, 561.5836181640625, 1344.026123046875, 450.39019775390625, 478.9603271484375, 514.1176147460938, 810.711181640625, 475.05523681640625, 850.6256103515625, 2939.303466796875, 1602.2310791015625, 184.5126953125, 150.73886108398438, 124.12222290039062, 111.07476806640625, 99.83036041259766, 99.1234130859375, 96.22102355957031, 68.001220703125, 67.16156768798828, 65.40754699707031, 59.559593200683594, 57.82798385620117, 57.557769775390625, 55.200897216796875, 53.084373474121094, 50.763427734375, 50.54275131225586, 50.41008377075195, 48.45877456665039, 46.43147659301758, 45.956642150878906, 44.90431594848633, 52.223854064941406, 42.99802017211914, 42.88386917114258, 41.02828598022461, 35.582733154296875, 35.20332336425781, 34.78015899658203, 34.49928665161133, 283.4708557128906, 521.6555786132812, 324.0966491699219, 75.70498657226562, 118.45861053466797, 394.63214111328125, 72.68569946289062, 138.1532745361328, 302.7110900878906, 168.86058044433594, 435.7424011230469, 321.6961669921875, 103.23847198486328, 204.03627014160156, 235.00791931152344, 495.63507080078125, 550.02099609375, 204.73574829101562, 524.5477905273438, 563.6405029296875, 219.3618927001953, 568.1890869140625, 332.42694091796875, 850.6256103515625, 1348.830810546875, 1246.6239013671875, 531.691162109375, 3245.65673828125, 456.7083740234375, 395.86517333984375, 133.1819305419922, 132.26235961914062, 91.1348876953125, 87.91197204589844, 61.907142639160156, 52.01010513305664, 106.85102081298828, 44.9172248840332, 51.144283294677734, 39.559532165527344, 39.30296325683594, 37.412044525146484, 37.286109924316406, 36.91624069213867, 36.459617614746094, 36.42794418334961, 33.46693801879883, 33.24348449707031, 32.215274810791016, 31.997356414794922, 31.147737503051758, 30.767324447631836, 30.727622985839844, 29.158369064331055, 29.142553329467773, 28.58426284790039, 27.932756423950195, 27.51222801208496, 26.60508918762207, 153.63816833496094, 42.053951263427734, 251.59559631347656, 160.34164428710938, 209.9989776611328, 357.85040283203125, 63.60348892211914, 48.27234649658203, 478.9603271484375, 616.3723754882812, 246.19944763183594, 64.44226837158203, 57.806190490722656, 176.56588745117188, 258.6829833984375, 200.93276977539062, 450.39019775390625, 298.8487548828125, 65.13667297363281, 240.20899963378906, 1246.6239013671875, 1868.50146484375, 337.1624450683594, 178.96746826171875, 454.9512023925781, 1842.844482421875, 810.711181640625, 265.6722106933594, 1407.9036865234375, 1175.6368408203125, 575.7074584960938, 552.6362915039062, 1069.9378662109375, 2445.2431640625, 582.0258178710938, 513.00146484375, 410.5962829589844, 258.9324645996094, 200.1913299560547, 192.6669158935547, 172.80091857910156, 153.42379760742188, 135.37290954589844, 95.94175720214844, 89.9166259765625, 89.55628204345703, 85.59735107421875, 83.03524780273438, 82.06118774414062, 77.14618682861328, 74.81410217285156, 70.60148620605469, 68.66218566894531, 68.59003448486328, 67.7739486694336, 67.12516784667969, 65.82772827148438, 55.16505813598633, 54.08677291870117, 48.06503677368164, 45.245330810546875, 44.12867736816406, 43.983707427978516, 38.47688293457031, 102.41443634033203, 77.89783477783203, 91.66508483886719, 295.0804748535156, 106.68962860107422, 184.4613037109375, 184.62060546875, 310.8742370605469, 118.20047760009766, 168.9347686767578, 426.00274658203125, 152.8546600341797, 118.45689392089844, 1140.881591796875, 352.191650390625, 4009.05712890625, 330.1466369628906, 315.3566589355469, 190.2025146484375, 179.65667724609375, 129.961669921875, 81.30755615234375, 80.227294921875, 71.52291107177734, 63.980892181396484, 54.04750442504883, 46.54801559448242, 45.16517639160156, 43.91901397705078, 43.39443588256836, 42.505062103271484, 41.53688430786133, 38.66102600097656, 37.65431213378906, 36.86003875732422, 33.30717849731445, 29.803945541381836, 29.803945541381836, 29.803945541381836, 29.173641204833984, 27.970687866210938, 26.311176300048828, 26.05955696105957, 25.961063385009766, 24.545955657958984, 24.380064010620117, 23.6348934173584, 23.630706787109375, 546.7343139648438, 147.69143676757812, 77.197021484375, 80.36781311035156, 695.6978149414062, 389.87359619140625, 49.45663070678711, 333.5483703613281, 255.839599609375, 1591.874755859375, 427.7308349609375, 62.82370376586914, 167.28448486328125, 547.6375732421875, 254.32032775878906, 223.41058349609375, 1425.6065673828125, 316.6008605957031, 746.0549926757812, 914.0633544921875, 591.3895874023438, 204.91262817382812, 372.003662109375, 471.2425537109375, 1021.5426025390625, 1410.5748291015625, 1267.394775390625, 1246.6239013671875, 646.0350341796875, 1082.955322265625, 452.8191833496094, 1392.2655029296875, 70.96467590332031, 69.92070007324219, 63.7409553527832, 57.99406814575195, 55.21181869506836, 55.14280700683594, 51.23223114013672, 48.627845764160156, 45.39253616333008, 44.4986686706543, 41.3021240234375, 38.48114776611328, 37.64158630371094, 37.587684631347656, 36.94341278076172, 36.45729446411133, 35.89388656616211, 35.837867736816406, 35.06956100463867, 34.07473373413086, 33.86199951171875, 33.493804931640625, 32.3441162109375, 31.86512565612793, 31.677837371826172, 30.41321563720703, 30.060909271240234, 29.695167541503906, 28.5322208404541, 28.416215896606445, 92.93794250488281, 57.63390350341797, 149.79466247558594, 186.23583984375, 129.5825958251953, 64.53623962402344, 469.6513671875, 50.84933090209961, 271.9892578125, 165.0277862548828, 140.79052734375, 231.56817626953125, 126.42982482910156, 83.07246398925781, 220.86668395996094, 213.5750274658203, 99.00759887695312, 1046.845947265625, 107.33819580078125, 425.7746276855469, 110.14370727539062, 2088.1708984375, 514.5289916992188, 374.7184143066406, 321.7236328125, 213.08963012695312, 101.25101470947266, 82.95767211914062, 78.42577362060547, 73.59050750732422, 68.36734008789062, 66.9013442993164, 66.81227111816406, 61.914527893066406, 56.61601638793945, 54.17585372924805, 47.60576248168945, 46.72332000732422, 57.87958526611328, 39.113548278808594, 38.595062255859375, 31.722436904907227, 31.420207977294922, 30.317543029785156, 28.13138198852539, 25.96610450744629, 23.9736270904541, 23.863492965698242, 23.766504287719727, 69.687744140625, 22.94811248779297, 22.774473190307617, 523.9866333007812, 22.131183624267578, 85.56245422363281, 79.70724487304688, 73.79364013671875, 57.76158142089844, 34.51972198486328, 35.289215087890625, 126.24669647216797, 45.02556610107422, 241.86688232421875, 54.32754898071289, 71.6387939453125, 238.103759765625, 88.09253692626953, 186.4235382080078, 69.47908020019531, 134.2782440185547, 352.191650390625, 1751.6578369140625, 357.51593017578125, 116.47124481201172, 240.8541717529297, 125.99739837646484, 86.14302825927734, 75.82251739501953, 74.4122085571289, 59.79547119140625, 58.879608154296875, 56.92005157470703, 52.31916809082031, 50.352806091308594, 49.99784469604492, 47.682403564453125, 39.24686050415039, 37.480621337890625, 37.480621337890625, 37.120765686035156, 36.999656677246094, 34.48023986816406, 30.134902954101562, 29.8031063079834, 27.721866607666016, 27.611982345581055, 26.09142303466797, 24.707551956176758, 24.622451782226562, 21.808727264404297, 21.06435775756836, 20.8770809173584, 20.55237579345703, 19.820472717285156, 19.14145278930664, 1069.9378662109375, 62.30695343017578, 57.53034210205078, 33.19424057006836, 32.07566833496094, 31.031757354736328, 27.14234161376953, 27.033748626708984, 25.686573028564453, 23.173931121826172, 22.581422805786133, 22.453628540039062, 22.203819274902344, 21.78875732421875, 21.54121971130371, 18.676837921142578, 18.32467269897461, 18.286596298217773, 17.8480224609375, 17.288808822631836, 17.13393783569336, 17.018844604492188, 16.54764175415039, 16.229232788085938, 16.127239227294922, 15.675899505615234, 15.473932266235352, 15.124114036560059, 14.706528663635254, 14.61169147491455, 14.299832344055176, 67.2839126586914, 29.786535263061523, 33.71154022216797, 26.65530014038086, 72.73686981201172, 88.99403381347656, 40.46875, 53.335514068603516, 311.9662170410156, 31.963966369628906, 193.2604522705078, 267.8905029296875, 90.74109649658203, 85.61143493652344, 236.28311157226562, 72.62901306152344, 161.2572784423828, 568.0775756835938, 381.6670227050781, 475.05523681640625, 139.93031311035156, 137.88624572753906, 236.95582580566406, 536.061767578125, 854.7372436523438, 952.5491333007812, 182.35855102539062, 587.9754028320312, 283.3370361328125, 69.77445983886719, 67.5909652709961, 66.67706298828125, 62.18766784667969, 41.048831939697266, 39.40159606933594, 34.99159622192383, 33.71298599243164, 32.50986862182617, 52.0983772277832, 32.129974365234375, 31.322277069091797, 30.488096237182617, 28.426610946655273, 27.96978187561035, 27.33027458190918, 26.35741424560547, 26.047237396240234, 25.968534469604492, 25.825685501098633, 24.540637969970703, 23.744550704956055, 38.97110366821289, 21.879928588867188, 21.765329360961914, 20.68162727355957, 20.495145797729492, 19.959381103515625, 19.95380973815918, 19.839603424072266, 64.73420715332031, 36.66249084472656, 47.124969482421875, 57.301353454589844, 52.2380256652832, 54.546852111816406, 145.61624145507812, 64.00321197509766, 317.25390625, 133.09494018554688, 524.5477905273438, 40.436580657958984, 302.205810546875, 184.013671875, 221.6210174560547, 226.89161682128906, 171.37765502929688, 108.08002471923828, 1190.5948486328125, 88.73078155517578, 62.01746368408203, 59.97149658203125, 58.24292755126953, 56.053070068359375, 36.5567741394043, 34.21165084838867, 33.04432678222656, 31.970495223999023, 31.65172004699707, 28.22171401977539, 26.03144073486328, 25.98306655883789, 25.371850967407227, 24.99320411682129, 24.380033493041992, 24.14763641357422, 23.943450927734375, 23.453222274780273, 22.26984977722168, 22.205549240112305, 22.205549240112305, 22.205549240112305, 21.190284729003906, 20.928241729736328, 20.920429229736328, 20.881816864013672, 20.739974975585938, 20.2275333404541, 19.71415138244629, 36.38071060180664, 75.5214614868164, 46.560062408447266, 36.800315856933594, 113.64900207519531, 76.36386108398438, 123.7430648803711, 101.23978424072266, 233.53794860839844, 35.0566291809082, 29.1153564453125, 213.37619018554688, 269.85955810546875, 101.93355560302734, 123.56309509277344, 242.3938446044922, 55.8660888671875, 498.25933837890625, 64.54448699951172, 113.8205337524414, 201.0905303955078, 510.1440124511719, 271.95843505859375, 133.17774963378906, 122.3359375, 62.556888580322266, 58.4305534362793, 50.680973052978516, 41.09341812133789, 39.579097747802734, 38.17464828491211, 36.73414993286133, 34.35625457763672, 33.459442138671875, 33.042808532714844, 31.447940826416016, 25.865243911743164, 25.4614200592041, 25.143348693847656, 24.345069885253906, 23.931406021118164, 23.78192710876465, 22.215232849121094, 21.621742248535156, 20.488380432128906, 19.63150978088379, 19.45585060119629, 19.203941345214844, 19.109651565551758, 18.70798110961914, 17.99203109741211, 17.281719207763672, 17.184614181518555, 36.673336029052734, 72.20547485351562, 28.856300354003906, 44.58732223510742, 115.88937377929688, 54.01083755493164, 65.91177368164062, 122.59345245361328, 190.19944763183594, 65.04855346679688, 64.14436340332031, 265.6722106933594, 364.8229064941406, 106.15541076660156, 157.0802001953125, 333.1897277832031, 914.0633544921875, 93.44771575927734, 1240.560791015625, 633.7332153320312, 1772.4344482421875, 321.0785217285156, 65.41710662841797, 58.11781692504883, 55.32755661010742, 34.95085525512695, 34.52018737792969, 32.49458694458008, 28.19275665283203, 21.21071434020996, 20.04751205444336, 19.805952072143555, 18.62844467163086, 17.650365829467773, 16.77935218811035, 16.773805618286133, 16.703746795654297, 16.108051300048828, 14.788877487182617, 14.403770446777344, 14.086736679077148, 14.068808555603027, 14.065091133117676, 43.920555114746094, 13.353630065917969, 13.223427772521973, 12.783849716186523, 12.519858360290527, 12.342856407165527, 12.322929382324219, 12.142830848693848, 11.589791297912598, 37.04661560058594, 34.58727264404297, 71.09943389892578, 25.14679527282715, 18.238025665283203, 15.019359588623047, 129.91006469726562, 24.213266372680664, 38.016334533691406, 27.688880920410156, 26.85010528564453, 67.23988342285156, 27.246856689453125, 239.15924072265625, 102.5997314453125, 152.26731872558594, 221.74241638183594, 1011.777099609375, 64.17654418945312, 140.98587036132812, 300.8880615234375, 410.2279968261719], \"Category\": [\"Default\", \"Default\", \"Default\", \"Default\", \"Default\", \"Default\", \"Default\", \"Default\", \"Default\", \"Default\", \"Default\", \"Default\", \"Default\", \"Default\", \"Default\", \"Default\", \"Default\", \"Default\", \"Default\", \"Default\", \"Default\", \"Default\", \"Default\", \"Default\", \"Default\", \"Default\", \"Default\", \"Default\", \"Default\", \"Default\", \"Topic1\", \"Topic1\", \"Topic1\", \"Topic1\", \"Topic1\", \"Topic1\", \"Topic1\", \"Topic1\", \"Topic1\", \"Topic1\", \"Topic1\", \"Topic1\", \"Topic1\", \"Topic1\", \"Topic1\", \"Topic1\", \"Topic1\", \"Topic1\", \"Topic1\", \"Topic1\", \"Topic1\", \"Topic1\", \"Topic1\", \"Topic1\", \"Topic1\", \"Topic1\", \"Topic1\", \"Topic1\", \"Topic1\", \"Topic1\", \"Topic1\", \"Topic1\", \"Topic1\", \"Topic1\", \"Topic1\", \"Topic1\", \"Topic1\", \"Topic1\", \"Topic1\", \"Topic1\", \"Topic1\", \"Topic1\", \"Topic1\", \"Topic1\", \"Topic1\", \"Topic1\", \"Topic1\", \"Topic1\", \"Topic1\", \"Topic1\", \"Topic1\", \"Topic1\", \"Topic1\", \"Topic1\", \"Topic1\", \"Topic1\", \"Topic1\", \"Topic1\", \"Topic1\", \"Topic1\", \"Topic1\", \"Topic1\", \"Topic1\", \"Topic1\", \"Topic1\", \"Topic1\", \"Topic1\", \"Topic1\", \"Topic1\", \"Topic1\", \"Topic1\", \"Topic1\", \"Topic1\", \"Topic1\", \"Topic1\", \"Topic1\", \"Topic1\", \"Topic1\", \"Topic1\", \"Topic1\", \"Topic1\", \"Topic1\", \"Topic2\", \"Topic2\", \"Topic2\", \"Topic2\", \"Topic2\", \"Topic2\", \"Topic2\", \"Topic2\", \"Topic2\", \"Topic2\", \"Topic2\", \"Topic2\", \"Topic2\", \"Topic2\", \"Topic2\", \"Topic2\", \"Topic2\", \"Topic2\", \"Topic2\", \"Topic2\", \"Topic2\", \"Topic2\", \"Topic2\", \"Topic2\", \"Topic2\", \"Topic2\", \"Topic2\", \"Topic2\", \"Topic2\", \"Topic2\", \"Topic2\", \"Topic2\", \"Topic2\", \"Topic2\", \"Topic2\", \"Topic2\", \"Topic2\", \"Topic2\", \"Topic2\", \"Topic2\", \"Topic2\", \"Topic2\", \"Topic2\", \"Topic2\", \"Topic2\", \"Topic2\", \"Topic2\", \"Topic2\", \"Topic2\", \"Topic2\", \"Topic2\", \"Topic2\", \"Topic2\", \"Topic2\", \"Topic2\", \"Topic2\", \"Topic2\", \"Topic2\", \"Topic2\", \"Topic2\", \"Topic2\", \"Topic2\", \"Topic2\", \"Topic2\", \"Topic2\", \"Topic2\", \"Topic2\", \"Topic2\", \"Topic2\", \"Topic2\", \"Topic2\", \"Topic2\", \"Topic2\", \"Topic2\", \"Topic2\", \"Topic2\", \"Topic2\", \"Topic2\", \"Topic2\", \"Topic2\", \"Topic2\", \"Topic2\", \"Topic3\", \"Topic3\", \"Topic3\", \"Topic3\", \"Topic3\", \"Topic3\", \"Topic3\", \"Topic3\", \"Topic3\", \"Topic3\", \"Topic3\", \"Topic3\", \"Topic3\", \"Topic3\", \"Topic3\", \"Topic3\", \"Topic3\", \"Topic3\", \"Topic3\", \"Topic3\", \"Topic3\", \"Topic3\", \"Topic3\", \"Topic3\", \"Topic3\", \"Topic3\", \"Topic3\", \"Topic3\", \"Topic3\", \"Topic3\", \"Topic3\", \"Topic3\", \"Topic3\", \"Topic3\", \"Topic3\", \"Topic3\", \"Topic3\", \"Topic3\", \"Topic3\", \"Topic3\", \"Topic3\", \"Topic3\", \"Topic3\", \"Topic3\", \"Topic3\", \"Topic3\", \"Topic3\", \"Topic3\", \"Topic3\", \"Topic3\", \"Topic3\", \"Topic3\", \"Topic3\", \"Topic3\", \"Topic3\", \"Topic3\", \"Topic3\", \"Topic3\", \"Topic3\", \"Topic3\", \"Topic3\", \"Topic3\", \"Topic3\", \"Topic3\", \"Topic3\", \"Topic3\", \"Topic4\", \"Topic4\", \"Topic4\", \"Topic4\", \"Topic4\", \"Topic4\", \"Topic4\", \"Topic4\", \"Topic4\", \"Topic4\", \"Topic4\", \"Topic4\", \"Topic4\", \"Topic4\", \"Topic4\", \"Topic4\", \"Topic4\", \"Topic4\", \"Topic4\", \"Topic4\", \"Topic4\", \"Topic4\", \"Topic4\", \"Topic4\", \"Topic4\", \"Topic4\", \"Topic4\", \"Topic4\", \"Topic4\", \"Topic4\", \"Topic4\", \"Topic4\", \"Topic4\", \"Topic4\", \"Topic4\", \"Topic4\", \"Topic4\", \"Topic4\", \"Topic4\", \"Topic4\", \"Topic4\", \"Topic4\", \"Topic4\", \"Topic4\", \"Topic4\", \"Topic4\", \"Topic4\", \"Topic4\", \"Topic4\", \"Topic4\", \"Topic4\", \"Topic4\", \"Topic4\", \"Topic4\", \"Topic4\", \"Topic4\", \"Topic4\", \"Topic4\", \"Topic4\", \"Topic4\", \"Topic4\", \"Topic4\", \"Topic5\", \"Topic5\", \"Topic5\", \"Topic5\", \"Topic5\", \"Topic5\", \"Topic5\", \"Topic5\", \"Topic5\", \"Topic5\", \"Topic5\", \"Topic5\", \"Topic5\", \"Topic5\", \"Topic5\", \"Topic5\", \"Topic5\", \"Topic5\", \"Topic5\", \"Topic5\", \"Topic5\", \"Topic5\", \"Topic5\", \"Topic5\", \"Topic5\", \"Topic5\", \"Topic5\", \"Topic5\", \"Topic5\", \"Topic5\", \"Topic5\", \"Topic5\", \"Topic5\", \"Topic5\", \"Topic5\", \"Topic5\", \"Topic5\", \"Topic5\", \"Topic5\", \"Topic5\", \"Topic5\", \"Topic5\", \"Topic5\", \"Topic5\", \"Topic5\", \"Topic5\", \"Topic5\", \"Topic5\", \"Topic5\", \"Topic5\", \"Topic5\", \"Topic5\", \"Topic5\", \"Topic5\", \"Topic5\", \"Topic5\", \"Topic5\", \"Topic5\", \"Topic5\", \"Topic5\", \"Topic5\", \"Topic5\", \"Topic5\", \"Topic6\", \"Topic6\", \"Topic6\", \"Topic6\", \"Topic6\", \"Topic6\", \"Topic6\", \"Topic6\", \"Topic6\", \"Topic6\", \"Topic6\", \"Topic6\", \"Topic6\", \"Topic6\", \"Topic6\", \"Topic6\", \"Topic6\", \"Topic6\", \"Topic6\", \"Topic6\", \"Topic6\", \"Topic6\", \"Topic6\", \"Topic6\", \"Topic6\", \"Topic6\", \"Topic6\", \"Topic6\", \"Topic6\", \"Topic6\", \"Topic6\", \"Topic6\", \"Topic6\", \"Topic6\", \"Topic6\", \"Topic6\", \"Topic6\", \"Topic6\", \"Topic6\", \"Topic6\", \"Topic6\", \"Topic6\", \"Topic6\", \"Topic6\", \"Topic6\", \"Topic6\", \"Topic6\", \"Topic6\", \"Topic6\", \"Topic6\", \"Topic6\", \"Topic6\", \"Topic6\", \"Topic6\", \"Topic6\", \"Topic6\", \"Topic6\", \"Topic6\", \"Topic6\", \"Topic6\", \"Topic6\", \"Topic6\", \"Topic6\", \"Topic7\", \"Topic7\", \"Topic7\", \"Topic7\", \"Topic7\", \"Topic7\", \"Topic7\", \"Topic7\", \"Topic7\", \"Topic7\", \"Topic7\", \"Topic7\", \"Topic7\", \"Topic7\", \"Topic7\", \"Topic7\", \"Topic7\", \"Topic7\", \"Topic7\", \"Topic7\", \"Topic7\", \"Topic7\", \"Topic7\", \"Topic7\", \"Topic7\", \"Topic7\", \"Topic7\", \"Topic7\", \"Topic7\", \"Topic7\", \"Topic7\", \"Topic7\", \"Topic7\", \"Topic7\", \"Topic7\", \"Topic7\", \"Topic7\", \"Topic7\", \"Topic7\", \"Topic7\", \"Topic7\", \"Topic7\", \"Topic7\", \"Topic7\", \"Topic7\", \"Topic7\", \"Topic7\", \"Topic7\", \"Topic7\", \"Topic7\", \"Topic7\", \"Topic7\", \"Topic7\", \"Topic7\", \"Topic7\", \"Topic7\", \"Topic7\", \"Topic7\", \"Topic7\", \"Topic7\", \"Topic7\", \"Topic7\", \"Topic7\", \"Topic7\", \"Topic7\", \"Topic7\", \"Topic7\", \"Topic7\", \"Topic7\", \"Topic7\", \"Topic8\", \"Topic8\", \"Topic8\", \"Topic8\", \"Topic8\", \"Topic8\", \"Topic8\", \"Topic8\", \"Topic8\", \"Topic8\", \"Topic8\", \"Topic8\", \"Topic8\", \"Topic8\", \"Topic8\", \"Topic8\", \"Topic8\", \"Topic8\", \"Topic8\", \"Topic8\", \"Topic8\", \"Topic8\", \"Topic8\", \"Topic8\", \"Topic8\", \"Topic8\", \"Topic8\", \"Topic8\", \"Topic8\", \"Topic8\", \"Topic8\", \"Topic8\", \"Topic8\", \"Topic8\", \"Topic8\", \"Topic8\", \"Topic8\", \"Topic8\", \"Topic8\", \"Topic8\", \"Topic8\", \"Topic8\", \"Topic8\", \"Topic8\", \"Topic8\", \"Topic8\", \"Topic8\", \"Topic8\", \"Topic8\", \"Topic8\", \"Topic8\", \"Topic8\", \"Topic8\", \"Topic8\", \"Topic8\", \"Topic8\", \"Topic8\", \"Topic8\", \"Topic8\", \"Topic8\", \"Topic8\", \"Topic8\", \"Topic8\", \"Topic8\", \"Topic8\", \"Topic8\", \"Topic8\", \"Topic8\", \"Topic8\", \"Topic9\", \"Topic9\", \"Topic9\", \"Topic9\", \"Topic9\", \"Topic9\", \"Topic9\", \"Topic9\", \"Topic9\", \"Topic9\", \"Topic9\", \"Topic9\", \"Topic9\", \"Topic9\", \"Topic9\", \"Topic9\", \"Topic9\", \"Topic9\", \"Topic9\", \"Topic9\", \"Topic9\", \"Topic9\", \"Topic9\", \"Topic9\", \"Topic9\", \"Topic9\", \"Topic9\", \"Topic9\", \"Topic9\", \"Topic9\", \"Topic9\", \"Topic9\", \"Topic9\", \"Topic9\", \"Topic9\", \"Topic9\", \"Topic9\", \"Topic9\", \"Topic9\", \"Topic9\", \"Topic9\", \"Topic9\", \"Topic9\", \"Topic9\", \"Topic9\", \"Topic9\", \"Topic9\", \"Topic9\", \"Topic9\", \"Topic9\", \"Topic9\", \"Topic9\", \"Topic9\", \"Topic9\", \"Topic9\", \"Topic9\", \"Topic9\", \"Topic9\", \"Topic9\", \"Topic10\", \"Topic10\", \"Topic10\", \"Topic10\", \"Topic10\", \"Topic10\", \"Topic10\", \"Topic10\", \"Topic10\", \"Topic10\", \"Topic10\", \"Topic10\", \"Topic10\", \"Topic10\", \"Topic10\", \"Topic10\", \"Topic10\", \"Topic10\", \"Topic10\", \"Topic10\", \"Topic10\", \"Topic10\", \"Topic10\", \"Topic10\", \"Topic10\", \"Topic10\", \"Topic10\", \"Topic10\", \"Topic10\", \"Topic10\", \"Topic10\", \"Topic10\", \"Topic10\", \"Topic10\", \"Topic10\", \"Topic10\", \"Topic10\", \"Topic10\", \"Topic10\", \"Topic10\", \"Topic10\", \"Topic10\", \"Topic10\", \"Topic10\", \"Topic10\", \"Topic10\", \"Topic10\", \"Topic10\", \"Topic10\", \"Topic10\", \"Topic10\", \"Topic10\", \"Topic10\", \"Topic10\", \"Topic10\", \"Topic10\", \"Topic10\", \"Topic10\", \"Topic10\", \"Topic10\", \"Topic10\", \"Topic10\", \"Topic10\", \"Topic10\", \"Topic11\", \"Topic11\", \"Topic11\", \"Topic11\", \"Topic11\", \"Topic11\", \"Topic11\", \"Topic11\", \"Topic11\", \"Topic11\", \"Topic11\", \"Topic11\", \"Topic11\", \"Topic11\", \"Topic11\", \"Topic11\", \"Topic11\", \"Topic11\", \"Topic11\", \"Topic11\", \"Topic11\", \"Topic11\", \"Topic11\", \"Topic11\", \"Topic11\", \"Topic11\", \"Topic11\", \"Topic11\", \"Topic11\", \"Topic11\", \"Topic11\", \"Topic11\", \"Topic11\", \"Topic11\", \"Topic11\", \"Topic11\", \"Topic11\", \"Topic11\", \"Topic11\", \"Topic11\", \"Topic11\", \"Topic11\", \"Topic11\", \"Topic11\", \"Topic11\", \"Topic11\", \"Topic11\", \"Topic11\", \"Topic12\", \"Topic12\", \"Topic12\", \"Topic12\", \"Topic12\", \"Topic12\", \"Topic12\", \"Topic12\", \"Topic12\", \"Topic12\", \"Topic12\", \"Topic12\", \"Topic12\", \"Topic12\", \"Topic12\", \"Topic12\", \"Topic12\", \"Topic12\", \"Topic12\", \"Topic12\", \"Topic12\", \"Topic12\", \"Topic12\", \"Topic12\", \"Topic12\", \"Topic12\", \"Topic12\", \"Topic12\", \"Topic12\", \"Topic12\", \"Topic12\", \"Topic12\", \"Topic12\", \"Topic12\", \"Topic12\", \"Topic12\", \"Topic12\", \"Topic12\", \"Topic12\", \"Topic12\", \"Topic12\", \"Topic12\", \"Topic12\", \"Topic12\", \"Topic12\", \"Topic12\", \"Topic12\", \"Topic12\", \"Topic12\", \"Topic12\", \"Topic12\", \"Topic12\", \"Topic12\", \"Topic12\", \"Topic12\", \"Topic12\", \"Topic12\", \"Topic12\", \"Topic12\", \"Topic12\", \"Topic12\", \"Topic12\", \"Topic13\", \"Topic13\", \"Topic13\", \"Topic13\", \"Topic13\", \"Topic13\", \"Topic13\", \"Topic13\", \"Topic13\", \"Topic13\", \"Topic13\", \"Topic13\", \"Topic13\", \"Topic13\", \"Topic13\", \"Topic13\", \"Topic13\", \"Topic13\", \"Topic13\", \"Topic13\", \"Topic13\", \"Topic13\", \"Topic13\", \"Topic13\", \"Topic13\", \"Topic13\", \"Topic13\", \"Topic13\", \"Topic13\", \"Topic13\", \"Topic13\", \"Topic13\", \"Topic13\", \"Topic13\", \"Topic13\", \"Topic13\", \"Topic13\", \"Topic13\", \"Topic13\", \"Topic13\", \"Topic13\", \"Topic13\", \"Topic13\", \"Topic13\", \"Topic13\", \"Topic13\", \"Topic13\", \"Topic13\", \"Topic13\", \"Topic13\", \"Topic13\", \"Topic13\", \"Topic13\", \"Topic13\", \"Topic14\", \"Topic14\", \"Topic14\", \"Topic14\", \"Topic14\", \"Topic14\", \"Topic14\", \"Topic14\", \"Topic14\", \"Topic14\", \"Topic14\", \"Topic14\", \"Topic14\", \"Topic14\", \"Topic14\", \"Topic14\", \"Topic14\", \"Topic14\", \"Topic14\", \"Topic14\", \"Topic14\", \"Topic14\", \"Topic14\", \"Topic14\", \"Topic14\", \"Topic14\", \"Topic14\", \"Topic14\", \"Topic14\", \"Topic14\", \"Topic14\", \"Topic14\", \"Topic14\", \"Topic14\", \"Topic14\", \"Topic14\", \"Topic14\", \"Topic14\", \"Topic14\", \"Topic14\", \"Topic14\", \"Topic14\", \"Topic14\", \"Topic14\", \"Topic14\", \"Topic14\", \"Topic14\", \"Topic14\", \"Topic14\", \"Topic14\", \"Topic14\", \"Topic15\", \"Topic15\", \"Topic15\", \"Topic15\", \"Topic15\", \"Topic15\", \"Topic15\", \"Topic15\", \"Topic15\", \"Topic15\", \"Topic15\", \"Topic15\", \"Topic15\", \"Topic15\", \"Topic15\", \"Topic15\", \"Topic15\", \"Topic15\", \"Topic15\", \"Topic15\", \"Topic15\", \"Topic15\", \"Topic15\", \"Topic15\", \"Topic15\", \"Topic15\", \"Topic15\", \"Topic15\", \"Topic15\", \"Topic15\", \"Topic15\", \"Topic16\", \"Topic16\", \"Topic16\", \"Topic16\", \"Topic16\", \"Topic16\", \"Topic16\", \"Topic16\", \"Topic16\", \"Topic16\", \"Topic16\", \"Topic16\", \"Topic16\", \"Topic16\", \"Topic16\", \"Topic16\", \"Topic16\", \"Topic16\", \"Topic16\", \"Topic16\", \"Topic16\", \"Topic16\", \"Topic16\", \"Topic16\", \"Topic16\", \"Topic16\", \"Topic16\", \"Topic16\", \"Topic16\", \"Topic16\", \"Topic16\", \"Topic16\", \"Topic16\", \"Topic16\", \"Topic16\", \"Topic16\", \"Topic16\", \"Topic16\", \"Topic16\", \"Topic16\", \"Topic16\", \"Topic16\", \"Topic16\", \"Topic16\", \"Topic16\", \"Topic16\", \"Topic16\", \"Topic16\", \"Topic16\", \"Topic16\", \"Topic16\", \"Topic16\", \"Topic16\", \"Topic16\", \"Topic16\", \"Topic16\", \"Topic16\", \"Topic16\", \"Topic16\", \"Topic17\", \"Topic17\", \"Topic17\", \"Topic17\", \"Topic17\", \"Topic17\", \"Topic17\", \"Topic17\", \"Topic17\", \"Topic17\", \"Topic17\", \"Topic17\", \"Topic17\", \"Topic17\", \"Topic17\", \"Topic17\", \"Topic17\", \"Topic17\", \"Topic17\", \"Topic17\", \"Topic17\", \"Topic17\", \"Topic17\", \"Topic17\", \"Topic17\", \"Topic17\", \"Topic17\", \"Topic17\", \"Topic17\", \"Topic17\", \"Topic17\", \"Topic17\", \"Topic17\", \"Topic17\", \"Topic17\", \"Topic17\", \"Topic17\", \"Topic17\", \"Topic17\", \"Topic17\", \"Topic17\", \"Topic17\", \"Topic17\", \"Topic17\", \"Topic17\", \"Topic17\", \"Topic17\", \"Topic17\", \"Topic17\", \"Topic18\", \"Topic18\", \"Topic18\", \"Topic18\", \"Topic18\", \"Topic18\", \"Topic18\", \"Topic18\", \"Topic18\", \"Topic18\", \"Topic18\", \"Topic18\", \"Topic18\", \"Topic18\", \"Topic18\", \"Topic18\", \"Topic18\", \"Topic18\", \"Topic18\", \"Topic18\", \"Topic18\", \"Topic18\", \"Topic18\", \"Topic18\", \"Topic18\", \"Topic18\", \"Topic18\", \"Topic18\", \"Topic18\", \"Topic18\", \"Topic18\", \"Topic18\", \"Topic18\", \"Topic18\", \"Topic18\", \"Topic18\", \"Topic18\", \"Topic18\", \"Topic18\", \"Topic18\", \"Topic18\", \"Topic18\", \"Topic18\", \"Topic18\", \"Topic18\", \"Topic18\", \"Topic18\", \"Topic18\", \"Topic18\", \"Topic18\", \"Topic18\", \"Topic18\", \"Topic18\", \"Topic19\", \"Topic19\", \"Topic19\", \"Topic19\", \"Topic19\", \"Topic19\", \"Topic19\", \"Topic19\", \"Topic19\", \"Topic19\", \"Topic19\", \"Topic19\", \"Topic19\", \"Topic19\", \"Topic19\", \"Topic19\", \"Topic19\", \"Topic19\", \"Topic19\", \"Topic19\", \"Topic19\", \"Topic19\", \"Topic19\", \"Topic19\", \"Topic19\", \"Topic19\", \"Topic19\", \"Topic19\", \"Topic19\", \"Topic19\", \"Topic19\", \"Topic19\", \"Topic19\", \"Topic19\", \"Topic19\", \"Topic19\", \"Topic19\", \"Topic19\", \"Topic19\", \"Topic19\", \"Topic19\", \"Topic19\", \"Topic19\", \"Topic19\", \"Topic19\", \"Topic19\", \"Topic19\", \"Topic19\", \"Topic19\", \"Topic19\", \"Topic19\", \"Topic19\", \"Topic20\", \"Topic20\", \"Topic20\", \"Topic20\", \"Topic20\", \"Topic20\", \"Topic20\", \"Topic20\", \"Topic20\", \"Topic20\", \"Topic20\", \"Topic20\", \"Topic20\", \"Topic20\", \"Topic20\", \"Topic20\", \"Topic20\", \"Topic20\", \"Topic20\", \"Topic20\", \"Topic20\", \"Topic20\", \"Topic20\", \"Topic20\", \"Topic20\", \"Topic20\", \"Topic20\", \"Topic20\", \"Topic20\", \"Topic20\", \"Topic20\", \"Topic20\", \"Topic20\", \"Topic20\", \"Topic20\", \"Topic20\", \"Topic20\", \"Topic20\", \"Topic20\", \"Topic20\", \"Topic20\", \"Topic20\", \"Topic20\", \"Topic20\", \"Topic20\", \"Topic20\", \"Topic20\", \"Topic20\", \"Topic20\", \"Topic20\", \"Topic20\", \"Topic20\"], \"logprob\": [30.0, 29.0, 28.0, 27.0, 26.0, 25.0, 24.0, 23.0, 22.0, 21.0, 20.0, 19.0, 18.0, 17.0, 16.0, 15.0, 14.0, 13.0, 12.0, 11.0, 10.0, 9.0, 8.0, 7.0, 6.0, 5.0, 4.0, 3.0, 2.0, 1.0, -6.5605998039245605, -7.210299968719482, -7.284200191497803, -7.44890022277832, -7.583499908447266, -7.574900150299072, -7.625100135803223, -7.629000186920166, -7.823299884796143, -7.8541998863220215, -7.867099761962891, -7.896299839019775, -7.951099872589111, -7.970699787139893, -7.985899925231934, -8.033499717712402, -8.035900115966797, -7.673500061035156, -8.085100173950195, -8.118800163269043, -6.8094000816345215, -8.162699699401855, -8.220800399780273, -7.580999851226807, -8.334799766540527, -8.343700408935547, -8.34570026397705, -8.347800254821777, -8.361300468444824, -8.382599830627441, -6.70419979095459, -4.297900199890137, -6.69379997253418, -6.7895002365112305, -7.851600170135498, -7.373499870300293, -7.598899841308594, -6.8907999992370605, -7.27400016784668, -6.23859977722168, -6.871300220489502, -5.290900230407715, -5.302499771118164, -4.256400108337402, -5.133699893951416, -4.899499893188477, -5.558800220489502, -5.6392998695373535, -5.113100051879883, -7.0467000007629395, -6.006199836730957, -5.772299766540527, -6.311500072479248, -4.8105998039245605, -6.357100009918213, -6.521100044250488, -4.936299800872803, -5.206500053405762, -6.21560001373291, -6.7220001220703125, -5.597599983215332, -5.114299774169922, -5.710700035095215, -5.547699928283691, -6.043900012969971, -6.212800025939941, -6.0015997886657715, -5.97629976272583, -5.464399814605713, -5.487299919128418, -5.508299827575684, -5.999100208282471, -5.880199909210205, -5.814000129699707, -5.806399822235107, -5.527900218963623, -5.934500217437744, -5.907299995422363, -5.833099842071533, -5.936200141906738, -5.861700057983398, -5.972599983215332, -5.360300064086914, -6.05810022354126, -6.6479997634887695, -6.806300163269043, -7.080100059509277, -7.116799831390381, -7.153800010681152, -7.223899841308594, -7.257299900054932, -7.256499767303467, -7.329599857330322, -7.42140007019043, -7.423999786376953, -7.490799903869629, -7.497000217437744, -7.520999908447266, -7.52269983291626, -5.124599933624268, -7.54010009765625, -7.447800159454346, -7.565199851989746, -7.659999847412109, -7.661799907684326, -7.6697001457214355, -7.675000190734863, -7.6859002113342285, -7.691999912261963, -7.706099987030029, -7.73829984664917, -7.760799884796143, -4.832099914550781, -7.131899833679199, -5.963600158691406, -5.896299839019775, -7.168399810791016, -6.1585001945495605, -5.806000232696533, -6.340400218963623, -5.605100154876709, -6.0843000411987305, -6.277400016784668, -5.982600212097168, -6.893199920654297, -6.436100006103516, -7.093999862670898, -5.7891998291015625, -5.442200183868408, -6.310100078582764, -5.903800010681152, -4.956299781799316, -6.741199970245361, -6.111999988555908, -6.315199851989746, -6.081999778747559, -6.350299835205078, -5.706399917602539, -6.362500190734863, -5.500500202178955, -4.973400115966797, -6.063600063323975, -5.649600028991699, -5.180099964141846, -5.878600120544434, -5.199399948120117, -5.179699897766113, -4.65910005569458, -4.740799903869629, -4.506700038909912, -5.206600189208984, -5.093299865722656, -5.329599857330322, -5.268400192260742, -5.117099761962891, -5.381899833679199, -5.3495001792907715, -5.6519999504089355, -5.686399936676025, -5.49370002746582, -5.612199783325195, -5.713500022888184, -5.677000045776367, -5.73390007019043, -5.374899864196777, -5.502299785614014, -5.9654998779296875, -5.994999885559082, -6.011000156402588, -6.077099800109863, -6.1774001121521, -6.276299953460693, -6.281799793243408, -6.329899787902832, -6.499199867248535, -6.534900188446045, -6.573299884796143, -6.690899848937988, -6.775000095367432, -6.802499771118164, -6.860799789428711, -6.877200126647949, -6.8831000328063965, -6.893199920654297, -6.92110013961792, -6.956999778747559, -7.0152997970581055, -7.017300128936768, -7.047599792480469, -7.055799961090088, -7.065700054168701, -7.075900077819824, -7.083499908447266, -7.08620023727417, -4.801199913024902, -5.166600227355957, -5.05709981918335, -4.489699840545654, -5.196599960327148, -6.310200214385986, -5.491600036621094, -6.729899883270264, -5.863399982452393, -5.234799861907959, -4.943600177764893, -5.6230998039245605, -4.9608001708984375, -5.43120002746582, -6.5746002197265625, -4.655099868774414, -5.835299968719482, -5.769599914550781, -4.660999774932861, -5.625699996948242, -5.091300010681152, -5.3968000411987305, -4.892300128936768, -5.623799800872803, -5.067399978637695, -5.257299900054932, -5.92140007019043, -5.526700019836426, -5.117700099945068, -5.733699798583984, -5.438199996948242, -5.757800102233887, -5.796000003814697, -5.670199871063232, -5.780700206756592, -5.756499767303467, -4.546000003814697, -5.098800182342529, -5.236400127410889, -5.3206000328063965, -5.4257001876831055, -5.428100109100342, -5.883999824523926, -6.00629997253418, -6.070400238037109, -6.126999855041504, -6.21019983291626, -6.26609992980957, -6.3109002113342285, -6.3190999031066895, -6.429100036621094, -6.46619987487793, -6.466899871826172, -6.5071001052856445, -6.598899841308594, -6.631499767303467, -6.675899982452393, -6.733399868011475, -6.167699813842773, -5.008999824523926, -6.822000026702881, -6.8572998046875, -6.890600204467773, -6.913099765777588, -6.957099914550781, -6.986100196838379, -5.375500202178955, -6.1305999755859375, -6.157400131225586, -6.084199905395508, -5.816100120544434, -5.529399871826172, -6.078700065612793, -5.998700141906738, -5.337399959564209, -5.031899929046631, -5.579800128936768, -6.128600120544434, -5.904399871826172, -5.414599895477295, -5.940800189971924, -5.953700065612793, -5.57390022277832, -5.569399833679199, -5.5569000244140625, -5.162199974060059, -5.470300197601318, -5.396699905395508, -5.851900100708008, -5.444799900054932, -5.5355000495910645, -5.736100196838379, -5.873799800872803, -5.726500034332275, -5.8196001052856445, -5.911900043487549, -5.872499942779541, -5.899199962615967, -5.6356000900268555, -5.806300163269043, -5.940199851989746, -5.981299877166748, -6.077400207519531, -6.093800067901611, -6.336900234222412, -6.470399856567383, -6.506100177764893, -6.678500175476074, -6.730400085449219, -6.776199817657471, -6.786900043487549, -6.797999858856201, -6.82480001449585, -6.824900150299072, -6.8308000564575195, -7.00600004196167, -7.006499767303467, -7.009500026702881, -7.025199890136719, -7.039000034332275, -7.048699855804443, -7.061399936676025, -7.065700054168701, -7.225500106811523, -7.245500087738037, -7.245999813079834, -7.246699810028076, -7.291600227355957, -6.006199836730957, -4.137199878692627, -6.312399864196777, -6.121099948883057, -5.225500106811523, -6.181000232696533, -6.2164998054504395, -5.58489990234375, -5.417500019073486, -6.828700065612793, -6.50629997253418, -6.40339994430542, -5.676599979400635, -6.193600177764893, -6.166200160980225, -5.761300086975098, -6.151800155639648, -6.553800106048584, -5.966700077056885, -5.982100009918213, -5.617599964141846, -6.244200229644775, -5.9781999588012695, -5.673900127410889, -5.913099765777588, -5.789000034332275, -5.676199913024902, -5.562699794769287, -5.739099979400635, -5.857399940490723, -6.012800216674805, -6.14769983291626, -6.168499946594238, -4.789100170135498, -4.940999984741211, -4.974800109863281, -5.277299880981445, -5.8846001625061035, -5.954699993133545, -5.978700160980225, -4.138800144195557, -6.1305999755859375, -6.194900035858154, -6.198599815368652, -6.260499954223633, -6.28380012512207, -6.320899963378906, -6.322800159454346, -6.32289981842041, -6.353300094604492, -6.404600143432617, -6.4380998611450195, -6.461299896240234, -6.4629998207092285, -6.470600128173828, -6.49429988861084, -6.523900032043457, -6.560200214385986, -6.763599872589111, -6.763700008392334, -6.860899925231934, -6.8734002113342285, -6.875, -4.262400150299072, -5.608099937438965, -6.031899929046631, -4.616300106048584, -5.043700218200684, -4.621799945831299, -5.572500228881836, -5.417300224304199, -5.72599983215332, -5.9375, -6.207200050354004, -5.778600215911865, -5.832600116729736, -5.878200054168701, -6.081399917602539, -4.442599773406982, -5.987400054931641, -5.7195000648498535, -5.748899936676025, -5.022299766540527, -5.684899806976318, -5.039599895477295, -5.203100204467773, -5.495800018310547, -5.819399833679199, -5.7403998374938965, -5.617199897766113, -5.604100227355957, -5.6666998863220215, -5.703199863433838, -5.766300201416016, -5.802599906921387, -5.756700038909912, -5.233099937438965, -5.845600128173828, -6.22760009765625, -6.500100135803223, -6.5289998054504395, -6.562900066375732, -6.65749979019165, -6.6768999099731445, -6.6774001121521, -6.754300117492676, -6.803999900817871, -6.9004998207092285, -6.940700054168701, -7.001500129699707, -7.020199775695801, -7.047800064086914, -7.046899795532227, -7.072400093078613, -7.0777997970581055, -7.123000144958496, -7.173500061035156, -7.186500072479248, -7.234499931335449, -7.238500118255615, -5.520899772644043, -7.254499912261963, -7.27400016784668, -7.313300132751465, -7.345399856567383, -7.368000030517578, -4.708099842071533, -5.88539981842041, -5.468999862670898, -5.872099876403809, -4.845200061798096, -6.074999809265137, -4.063399791717529, -6.381400108337402, -4.418600082397461, -5.400899887084961, -5.138500213623047, -6.21560001373291, -5.9145002365112305, -6.542399883270264, -5.734799861907959, -4.847599983215332, -5.046299934387207, -4.892099857330322, -4.553500175476074, -5.689599990844727, -5.537799835205078, -4.807499885559082, -4.4045000076293945, -5.1367998123168945, -5.434100151062012, -5.7621002197265625, -5.652299880981445, -4.754700183868408, -5.415299892425537, -4.774099826812744, -5.416600227355957, -5.177199840545654, -5.555699825286865, -5.24560022354126, -5.27370023727417, -5.276100158691406, -5.377999782562256, -5.469200134277344, -5.489999771118164, -5.293900012969971, -5.056300163269043, -5.103400230407715, -4.16379976272583, -5.507400035858154, -5.96750020980835, -6.2220001220703125, -6.4695000648498535, -6.506800174713135, -6.76639986038208, -6.820199966430664, -6.821400165557861, -6.872600078582764, -6.947700023651123, -6.993100166320801, -6.996699810028076, -7.017300128936768, -7.024099826812744, -5.002200126647949, -7.057700157165527, -7.0883002281188965, -7.166800022125244, -7.170199871063232, -7.1768999099731445, -7.20550012588501, -7.2617998123168945, -7.310400009155273, -7.310999870300293, -7.327899932861328, -7.38640022277832, -6.652100086212158, -4.8592000007629395, -5.095900058746338, -6.024400234222412, -5.946899890899658, -6.283599853515625, -6.648799896240234, -5.73199987411499, -5.131800174713135, -6.536499977111816, -6.058700084686279, -4.124899864196777, -6.054800033569336, -5.668799877166748, -5.820099830627441, -6.083899974822998, -6.593599796295166, -5.3078999519348145, -5.393400192260742, -5.759399890899658, -5.629499912261963, -5.231299877166748, -5.854800224304199, -5.340400218963623, -5.161600112915039, -5.527200222015381, -5.472899913787842, -5.231299877166748, -5.2657999992370605, -5.5019001960754395, -5.400400161743164, -5.1427001953125, -5.535999774932861, -5.517000198364258, -5.537199974060059, -5.446199893951416, -5.5945000648498535, -5.513000011444092, -5.504499912261963, -5.618199825286865, -5.287899971008301, -5.491099834442139, -5.686600208282471, -5.798500061035156, -5.906099796295166, -5.9131999015808105, -5.94320011138916, -6.294000148773193, -6.306600093841553, -6.333399772644043, -6.428299903869629, -6.4583001136779785, -6.4629998207092285, -6.505499839782715, -6.545199871063232, -6.59060001373291, -6.59499979019165, -6.597700119018555, -6.637899875640869, -6.681399822235107, -6.69189977645874, -6.7154998779296875, -6.564700126647949, -6.759699821472168, -6.762400150299072, -6.807499885559082, -6.953100204467773, -6.964099884033203, -6.976500034332275, -6.984799861907959, -4.91949987411499, -4.361599922180176, -4.818999767303467, -6.227700233459473, -5.821800231933594, -4.7434000968933105, -6.301499843597412, -5.762800216674805, -5.245500087738037, -5.819200038909912, -5.197700023651123, -5.473400115966797, -6.168399810791016, -5.799799919128418, -5.735799789428711, -5.334400177001953, -5.3225998878479, -5.831099987030029, -5.377399921417236, -5.466000080108643, -5.894899845123291, -5.658999919891357, -5.852700233459473, -5.5920000076293945, -5.513800144195557, -5.543600082397461, -5.8460001945495605, -5.847799777984619, -5.893099784851074, -4.361700057983398, -5.453000068664551, -5.4608001708984375, -5.835299968719482, -5.871600151062012, -6.226399898529053, -6.403200149536133, -5.684299945831299, -6.5524001121521, -6.422599792480469, -6.682000160217285, -6.688600063323975, -6.738999843597412, -6.742499828338623, -6.752699851989746, -6.765399932861328, -6.766300201416016, -6.8531999588012695, -6.860000133514404, -6.892300128936768, -6.8993000984191895, -6.9268999099731445, -6.939499855041504, -6.940899848937988, -6.994800090789795, -6.995299816131592, -7.0152997970581055, -7.039000034332275, -7.054699897766113, -7.089300155639648, -5.35230016708374, -6.640900135040283, -4.909599781036377, -5.365499973297119, -5.1508002281188965, -4.6768999099731445, -6.292300224304199, -6.539599895477295, -4.55620002746582, -4.357800006866455, -5.168799877166748, -6.319499969482422, -6.408100128173828, -5.505799770355225, -5.229100227355957, -5.553999900817871, -5.0100998878479, -5.301499843597412, -6.364999771118164, -5.602799892425537, -4.730899810791016, -4.545400142669678, -5.5665998458862305, -5.876500129699707, -5.437399864196777, -4.877099990844727, -5.312600135803223, -5.774499893188477, -5.176799774169922, -5.334099769592285, -5.551000118255615, -5.563700199127197, -5.47189998626709, -5.540999889373779, -3.7363998889923096, -3.862799882888794, -4.085899829864502, -4.548099994659424, -4.806399822235107, -4.844900131225586, -4.95419979095459, -5.073699951171875, -5.1996002197265625, -5.546500205993652, -5.611999988555908, -5.616000175476074, -5.6616997718811035, -5.692399978637695, -5.7042999267578125, -5.76669979095459, -5.797699928283691, -5.856400012969971, -5.8846001625061035, -5.8856000900268555, -5.897799968719482, -5.90749979019165, -5.927299976348877, -6.106500148773193, -6.126500129699707, -6.246600151062012, -6.30810022354126, -6.333600044250488, -6.336900234222412, -6.473499774932861, -5.494900226593018, -5.776899814605713, -5.648600101470947, -4.827199935913086, -5.643199920654297, -5.281000137329102, -5.335400104522705, -5.038099765777588, -5.6528000831604, -5.553899765014648, -5.396399974822998, -5.687699794769287, -5.765600204467773, -5.402200222015381, -5.614699840545654, -5.355899810791016, -5.687300205230713, -5.690499782562256, -4.809899806976318, -4.867199897766113, -5.192800045013428, -5.6656999588012695, -5.679200172424316, -5.795400142669678, -5.908199787139893, -6.079400062561035, -6.231400012969971, -6.2621002197265625, -6.290599822998047, -6.3028998374938965, -6.323999881744385, -6.347499847412109, -6.42080020904541, -6.447800159454346, -6.469600200653076, -6.573500156402588, -6.687699794769287, -6.687699794769287, -6.687699794769287, -6.709700107574463, -6.7530999183654785, -6.816199779510498, -6.826099872589111, -6.830100059509277, -6.8881001472473145, -6.895100116729736, -6.927299976348877, -6.9274001121521, -3.7990000247955322, -5.144700050354004, -5.8140997886657715, -5.811500072479248, -3.879199981689453, -4.563300132751465, -6.2891998291015625, -4.777299880981445, -4.990499973297119, -3.6454999446868896, -4.714300155639648, -6.13730001449585, -5.553699970245361, -4.829400062561035, -5.316299915313721, -5.485799789428711, -4.527200222015381, -5.318299770355225, -4.988999843597412, -4.9721999168396, -5.215700149536133, -5.663899898529053, -5.428199768066406, -5.367000102996826, -5.092100143432617, -4.981599807739258, -5.2017998695373535, -5.268599987030029, -5.530700206756592, -5.557700157165527, -5.630799770355225, -5.614500045776367, -5.629300117492676, -5.6442999839782715, -5.73799991607666, -5.833799839019775, -5.883699893951416, -5.885000228881836, -5.959700107574463, -6.012800216674805, -6.082900047302246, -6.1031999588012695, -6.179200172424316, -6.251500129699707, -6.27400016784668, -6.2754998207092285, -6.2932000160217285, -6.306700229644775, -6.322700023651123, -6.3242998123168945, -6.346499919891357, -6.375999927520752, -6.382400035858154, -6.393599987030029, -6.4293999671936035, -6.444799900054932, -6.450799942016602, -6.492700099945068, -6.504700183868408, -6.517300128936768, -6.5584001541137695, -6.562600135803223, -5.433199882507324, -5.901400089263916, -5.1666998863220215, -5.090700149536133, -5.4019999504089355, -5.946499824523926, -4.723299980163574, -6.151599884033203, -5.244900226593018, -5.520899772644043, -5.638500213623047, -5.411300182342529, -5.778200149536133, -6.0278000831604, -5.694900035858154, -5.732399940490723, -5.989799976348877, -5.6631999015808105, -6.099699974060059, -5.910999774932861, -6.097499847412109, -6.002200126647949, -6.05049991607666, -6.0731000900268555, -4.052999973297119, -4.466400146484375, -5.214799880981445, -5.415900230407715, -5.472700119018555, -5.5370001792907715, -5.611499786376953, -5.633500099182129, -5.634799957275391, -5.711999893188477, -5.802700042724609, -5.847400188446045, -5.978899955749512, -5.998000144958496, -5.785699844360352, -6.179299831390381, -6.19290018081665, -6.393899917602539, -6.40369987487793, -6.440400123596191, -6.517499923706055, -6.600200176239014, -6.682799816131592, -6.687600135803223, -6.691800117492676, -5.616600036621094, -6.728099822998047, -6.736000061035156, -3.6006999015808105, -6.7657999992370605, -5.422399997711182, -5.505899906158447, -5.646200180053711, -5.884099960327148, -6.3592000007629395, -6.340799808502197, -5.253300189971924, -6.162700176239014, -4.937699794769287, -6.042600154876709, -5.889800071716309, -5.1645002365112305, -5.801300048828125, -5.524700164794922, -5.975599765777588, -5.748000144958496, -5.565800189971924, -5.28410005569458, -5.685500144958496, -5.875800132751465, -5.825699806213379, -4.566800117492676, -4.950200080871582, -5.079100131988525, -5.098100185394287, -5.3196001052856445, -5.335299968719482, -5.36959981918335, -5.4552001953125, -5.494200229644775, -5.501399993896484, -5.549600124359131, -5.748199939727783, -5.795300006866455, -5.795300006866455, -5.805200099945068, -5.808499813079834, -5.880799770355225, -6.019100189208984, -6.0304999351501465, -6.105100154876709, -6.1092000007629395, -6.167699813842773, -6.223999977111816, -6.22760009765625, -6.353600025177002, -6.389699935913086, -6.39900016784668, -6.41540002822876, -6.453199863433838, -6.489699840545654, -6.042900085449219, -5.245699882507324, -5.326600074768066, -5.887499809265137, -5.922699928283691, -5.956699848175049, -6.094699859619141, -6.098800182342529, -6.151599884033203, -6.258200168609619, -6.285099983215332, -6.290999889373779, -6.302599906921387, -6.322299957275391, -6.334199905395508, -6.483099937438965, -6.5030999183654785, -6.505199909210205, -6.530700206756592, -6.5640997886657715, -6.573599815368652, -6.580699920654297, -6.610300064086914, -6.63070011138916, -6.637400150299072, -6.667399883270264, -6.681099891662598, -6.7052998542785645, -6.735000133514404, -6.741799831390381, -6.764699935913086, -5.29640007019043, -6.127099990844727, -6.046199798583984, -6.246399879455566, -5.453400135040283, -5.298999786376953, -5.949999809265137, -5.756800174713135, -4.580599784851074, -6.160600185394287, -5.088799953460693, -4.910699844360352, -5.570899963378906, -5.655300140380859, -5.117499828338623, -5.7631001472473145, -5.5106000900268555, -5.03439998626709, -5.212600231170654, -5.15749979019165, -5.610300064086914, -5.647299766540527, -5.579400062561035, -5.4721999168396, -5.587200164794922, -5.701099872589111, -5.902200222015381, -5.879799842834473, -5.955699920654297, -5.124800205230713, -5.1570000648498535, -5.17080020904541, -5.241399765014648, -5.663899898529053, -5.705699920654297, -5.827199935913086, -5.8653998374938965, -5.902599811553955, -5.431300163269043, -5.914700031280518, -5.940899848937988, -5.968599796295166, -6.0406999588012695, -6.057400226593018, -6.081299781799316, -6.11870002746582, -6.130899906158447, -6.133999824523926, -6.139699935913086, -6.192599773406982, -6.2266998291015625, -5.7342000007629395, -6.311699867248535, -6.3171000480651855, -6.370299816131592, -6.379799842834473, -6.407400131225586, -6.407700061798096, -6.413700103759766, -5.262599945068359, -5.8343000411987305, -5.618100166320801, -5.441999912261963, -5.615099906921387, -5.5843000411987305, -4.90369987487793, -5.673900127410889, -4.973499774932861, -5.438399791717529, -5.281599998474121, -6.009300231933594, -5.485499858856201, -5.621699810028076, -5.685100078582764, -5.697800159454346, -5.754700183868408, -5.853799819946289, -5.817399978637695, -4.855800151824951, -5.218100070953369, -5.252099990844727, -5.281799793243408, -5.320700168609619, -5.75629997253418, -5.82420015335083, -5.859899997711182, -5.893799781799316, -5.904099941253662, -6.02209997177124, -6.105500221252441, -6.107399940490723, -6.131999969482422, -6.147600173950195, -6.173299789428711, -6.183199882507324, -6.191999912261963, -6.213500022888184, -6.267199993133545, -6.270199775695801, -6.270199775695801, -6.270199775695801, -6.318900108337402, -6.331900119781494, -6.332300186157227, -6.334199905395508, -6.341300010681152, -6.367400169372559, -6.3942999839782715, -5.788599967956543, -5.08459997177124, -5.567299842834473, -5.837200164794922, -4.895699977874756, -5.262899875640869, -5.058700084686279, -5.2179999351501465, -4.940800189971924, -6.02239990234375, -6.132900238037109, -5.270100116729736, -5.177199840545654, -5.613900184631348, -5.565700054168701, -5.449900150299072, -5.988900184631348, -5.6168999671936035, -5.973299980163574, -5.933499813079834, -5.9207000732421875, -5.905300140380859, -5.954500198364258, -4.424799919128418, -4.510300159454346, -5.187600135803223, -5.256800174713135, -5.401400089263916, -5.614999771118164, -5.65339994430542, -5.690299987792969, -5.729700088500977, -5.7982001304626465, -5.825300216674805, -5.838200092315674, -5.888999938964844, -6.090400218963623, -6.1066999435424805, -6.119699954986572, -6.15310001373291, -6.170899868011475, -6.1774001121521, -6.2480998039245605, -6.276299953460693, -6.332399845123291, -6.376999855041504, -6.38640022277832, -6.400000095367432, -6.405099868774414, -6.4274001121521, -6.468299865722656, -6.5106000900268555, -6.516499996185303, -5.835899829864502, -5.348999977111816, -6.105000019073486, -5.80210018157959, -5.220900058746338, -5.742400169372559, -5.771599769592285, -5.493000030517578, -5.292699813842773, -5.8256001472473145, -5.836400032043457, -5.315800189971924, -5.210400104522705, -5.714300155639648, -5.776400089263916, -5.657599925994873, -5.595699787139893, -5.929299831390381, -5.642199993133545, -5.740900039672852, -5.7581000328063965, -5.814000129699707, -4.867300033569336, -4.987199783325195, -5.037199974060059, -5.5055999755859375, -5.5183000564575195, -5.5802998542785645, -5.726399898529053, -6.021200180053711, -6.080100059509277, -6.092700004577637, -6.156799793243408, -6.213399887084961, -6.266600131988525, -6.267000198364258, -6.271399974822998, -6.309700012207031, -6.400100231170654, -6.428100109100342, -6.4517998695373535, -6.453100204467773, -6.453400135040283, -5.315499782562256, -6.508699893951416, -6.519199848175049, -6.555300235748291, -6.577700138092041, -6.5929999351501465, -6.594699859619141, -6.610499858856201, -6.660699844360352, -5.597700119018555, -5.676199913024902, -5.042500019073486, -6.042200088500977, -6.295499801635742, -6.441400051116943, -5.068399906158447, -6.14870023727417, -5.88070011138916, -6.07480001449585, -6.144800186157227, -5.738999843597412, -6.187399864196777, -5.415800094604492, -5.860899925231934, -5.779200077056885, -5.745500087738037, -5.477499961853027, -6.035699844360352, -5.9070000648498535, -5.9857001304626465, -6.030799865722656], \"loglift\": [30.0, 29.0, 28.0, 27.0, 26.0, 25.0, 24.0, 23.0, 22.0, 21.0, 20.0, 19.0, 18.0, 17.0, 16.0, 15.0, 14.0, 13.0, 12.0, 11.0, 10.0, 9.0, 8.0, 7.0, 6.0, 5.0, 4.0, 3.0, 2.0, 1.0, 1.3504999876022339, 1.3483999967575073, 1.3480000495910645, 1.347100019454956, 1.3463000059127808, 1.3460999727249146, 1.3459999561309814, 1.3459999561309814, 1.344499945640564, 1.3442000150680542, 1.344099998474121, 1.3438999652862549, 1.343400001525879, 1.3431999683380127, 1.343000054359436, 1.3425999879837036, 1.3424999713897705, 1.3423999547958374, 1.3420000076293945, 1.341599941253662, 1.3413000106811523, 1.3410999774932861, 1.340399980545044, 1.340000033378601, 1.3388999700546265, 1.3387999534606934, 1.3387999534606934, 1.3387000560760498, 1.3386000394821167, 1.3381999731063843, 1.3352999687194824, 1.1753000020980835, 1.2720999717712402, 1.2685999870300293, 1.3142000436782837, 1.285599946975708, 1.2970000505447388, 1.2233999967575073, 1.2584999799728394, 1.1516000032424927, 1.2122000455856323, 1.010200023651123, 0.9868999719619751, 0.824400007724762, 0.929099977016449, 0.8840000033378601, 0.9544000029563904, 0.9569000005722046, 0.8626999855041504, 1.2030999660491943, 1.010699987411499, 0.9628999829292297, 1.057800054550171, 0.7038999795913696, 1.0540000200271606, 1.0906000137329102, 0.7056999802589417, 0.7609999775886536, 1.0104000568389893, 1.1339999437332153, 0.8238000273704529, 0.6837999820709229, 0.8553000092506409, 0.7723000049591064, 0.9312999844551086, 0.9861000180244446, 0.9106000065803528, 0.8966000080108643, 0.671500027179718, 0.6697999835014343, 0.6782000064849854, 0.8952999711036682, 0.7983999848365784, 0.7351999878883362, 0.695900022983551, 0.46369999647140503, 0.7914000153541565, 0.5764999985694885, 0.2922999858856201, 0.6262000203132629, -0.17730000615119934, 0.6735000014305115, 2.0525999069213867, 2.049299955368042, 2.048799991607666, 2.0478999614715576, 2.0459001064300537, 2.045599937438965, 2.045300006866455, 2.0446999073028564, 2.0443999767303467, 2.0443999767303467, 2.0436999797821045, 2.0427000522613525, 2.04259991645813, 2.0418999195098877, 2.041800022125244, 2.0415000915527344, 2.0415000915527344, 2.041300058364868, 2.041300058364868, 2.0409998893737793, 2.0408999919891357, 2.039599895477295, 2.039599895477295, 2.0394999980926514, 2.039400100708008, 2.039299964904785, 2.0392000675201416, 2.0390000343322754, 2.0385000705718994, 2.038100004196167, 2.017899990081787, 2.036099910736084, 2.0220000743865967, 2.019700050354004, 2.030400037765503, 2.0081000328063965, 1.9911999702453613, 1.996999979019165, 1.9651000499725342, 1.9785000085830688, 1.9742000102996826, 1.9485000371932983, 2.0, 1.9572999477386475, 2.007699966430664, 1.8853000402450562, 1.8480000495910645, 1.93340003490448, 1.8773000240325928, 1.7309999465942383, 1.9610999822616577, 1.850600004196167, 1.8731000423431396, 1.8282999992370605, 1.8766000270843506, 1.7208000421524048, 1.8601000308990479, 1.6109999418258667, 1.4536999464035034, 1.7653000354766846, 1.6237000226974487, 1.3355000019073486, 1.6311999559402466, 1.238700032234192, 1.2196999788284302, 0.855400025844574, 0.9013000130653381, 0.5741000175476074, 1.0437999963760376, 0.8982999920845032, 1.0607000589370728, 0.9682000279426575, 0.5672000050544739, 0.7750999927520752, 0.6180999875068665, 1.0791000127792358, 1.1295000314712524, 0.3043000102043152, 0.7077999711036682, 0.7888000011444092, 0.10649999976158142, 0.45260000228881836, 2.3757998943328857, 2.375499963760376, 2.3742001056671143, 2.3740999698638916, 2.374000072479248, 2.373699903488159, 2.373300075531006, 2.37280011177063, 2.37280011177063, 2.3726000785827637, 2.3715999126434326, 2.3714001178741455, 2.3710999488830566, 2.370300054550171, 2.3696000576019287, 2.3694000244140625, 2.3689000606536865, 2.3687000274658203, 2.3687000274658203, 2.3685998916625977, 2.368299961090088, 2.368000030517578, 2.3673999309539795, 2.367300033569336, 2.367000102996826, 2.3668999671936035, 2.36680006980896, 2.3666999340057373, 2.3666000366210938, 2.3666000366210938, 2.324399948120117, 2.3203001022338867, 2.2848000526428223, 2.2227001190185547, 2.24180006980896, 2.3171000480651855, 2.2509000301361084, 2.339900016784668, 2.246299982070923, 2.1719000339508057, 2.1159000396728516, 2.1712000370025635, 2.0578999519348145, 2.121500015258789, 2.318700075149536, 1.8519999980926514, 2.1384999752044678, 2.111999988555908, 1.73580002784729, 2.0385000705718994, 1.819100022315979, 1.9283000230789185, 1.6928999423980713, 1.8702000379562378, 1.4522000551223755, 1.4426000118255615, 2.044600009918213, 1.4522000551223755, 0.5666999816894531, 1.7211999893188477, 0.79830002784729, 1.5407999753952026, 1.6683000326156616, -0.15569999814033508, 1.3279000520706177, 0.6815999746322632, 2.4423999786376953, 2.441699981689453, 2.441499948501587, 2.4412999153137207, 2.4410998821258545, 2.4410998821258545, 2.4398000240325928, 2.439300060272217, 2.438999891281128, 2.438800096511841, 2.4384000301361084, 2.4381000995635986, 2.4379000663757324, 2.4377999305725098, 2.4372000694274902, 2.4368999004364014, 2.4368999004364014, 2.4367001056671143, 2.436000108718872, 2.435800075531006, 2.4354000091552734, 2.434999942779541, 2.4342000484466553, 2.4342000484466553, 2.4342000484466553, 2.433799982070923, 2.433500051498413, 2.433300018310547, 2.432800054550171, 2.432499885559082, 2.408600091934204, 2.4226999282836914, 2.4212000370025635, 2.416599988937378, 2.280600070953369, 2.2353999614715576, 2.283400058746338, 2.2567999362945557, 1.7865999937057495, 1.5678999423980713, 1.812999963760376, 2.1803998947143555, 1.9658000469207764, 1.5147000551223755, 1.899399995803833, 1.8725999593734741, 1.2462999820709229, 1.2244999408721924, 1.0678999423980713, -0.08139999955892563, 0.6657000184059143, 0.28769999742507935, 1.5530999898910522, 0.0284000001847744, 0.24799999594688416, 0.9424999952316284, 1.4701999425888062, 0.33640000224113464, 0.8266000151634216, 1.5815000534057617, 1.0232000350952148, 1.2121000289916992, 2.633699893951416, 2.632999897003174, 2.632499933242798, 2.6322999000549316, 2.6317999362945557, 2.631700038909912, 2.630199909210205, 2.629199981689453, 2.6289000511169434, 2.6273999214172363, 2.6268999576568604, 2.6263999938964844, 2.626300096511841, 2.626199960708618, 2.6259000301361084, 2.6259000301361084, 2.6257998943328857, 2.623699903488159, 2.623699903488159, 2.623699903488159, 2.6233999729156494, 2.623300075531006, 2.6231000423431396, 2.6229000091552734, 2.6229000091552734, 2.6203999519348145, 2.6201000213623047, 2.6201000213623047, 2.6201000213623047, 2.61929988861084, 2.6029999256134033, 2.5272998809814453, 2.5678000450134277, 2.536799907684326, 2.4621999263763428, 2.5341999530792236, 2.5327999591827393, 2.2822999954223633, 2.219099998474121, 2.566999912261963, 2.46370005607605, 2.3540000915527344, 1.9687999486923218, 2.2147998809814453, 2.165600061416626, 1.802299976348877, 2.0520999431610107, 2.3814001083374023, 1.6959999799728394, 1.684499979019165, 1.0822999477386475, 1.9458999633789062, 1.448799967765808, 0.8438000082969666, 1.1583000421524048, 0.7735000252723694, 0.44929999113082886, 0.12160000205039978, 0.4975000023841858, 0.6496999859809875, -0.21480000019073486, 1.3870999813079834, 0.5953999757766724, 2.970400094985962, 2.970099925994873, 2.9700000286102295, 2.969099998474121, 2.9663000106811523, 2.96589994430542, 2.9656999111175537, 2.9646999835968018, 2.964600086212158, 2.964099884033203, 2.9639999866485596, 2.9635000228881836, 2.9632999897003174, 2.9630000591278076, 2.962899923324585, 2.962899923324585, 2.962599992752075, 2.962100028991699, 2.9618000984191895, 2.9614999294281006, 2.9614999294281006, 2.961400032043457, 2.961199998855591, 2.9607999324798584, 2.960400104522705, 2.95770001411438, 2.95770001411438, 2.956199884414673, 2.9560000896453857, 2.9560000896453857, 2.9258999824523926, 2.9398999214172363, 2.9447999000549316, 2.8689000606536865, 2.875200033187866, 2.799799919128418, 2.8780999183654785, 2.8027000427246094, 2.835099935531616, 2.849299907684326, 2.9072000980377197, 2.775599956512451, 2.766400098800659, 2.778599977493286, 2.8503000736236572, 2.0750999450683594, 2.7588999271392822, 2.586400032043457, 2.5397000312805176, 1.5927000045776367, 2.1821999549865723, 1.085800051689148, 0.7885000109672546, 1.4498000144958496, 2.1784000396728516, 1.8770999908447266, 1.3224999904632568, 1.128499984741211, 0.8356000185012817, 0.0803999975323677, 1.0497000217437744, 1.6059000492095947, -0.6758999824523926, 3.1738998889923096, 3.170599937438965, 3.1672000885009766, 3.1638998985290527, 3.1635000705718994, 3.1630001068115234, 3.161600112915039, 3.16129994392395, 3.16129994392395, 3.1600000858306885, 3.15910005569458, 3.1572000980377197, 3.1563000679016113, 3.1549999713897705, 3.154599905014038, 3.153899908065796, 3.153899908065796, 3.1533000469207764, 3.1531999111175537, 3.152100086212158, 3.1507999897003174, 3.150399923324585, 3.1491000652313232, 3.1489999294281006, 3.1487998962402344, 3.1484999656677246, 3.147900104522705, 3.1468000411987305, 3.1458001136779785, 3.1449999809265137, 3.109999895095825, 3.0776000022888184, 3.0239999294281006, 3.033799886703491, 2.9247000217437744, 3.024199962615967, 2.686199903488159, 3.021399974822998, 2.6761999130249023, 2.84060001373291, 2.74399995803833, 2.9625000953674316, 2.8887999057769775, 3.02620005607605, 2.7967000007629395, 2.539599895477295, 2.5943000316619873, 2.5385000705718994, 2.4191999435424805, 2.7702999114990234, 2.6914000511169434, 2.39739990234375, 2.126199960708618, 2.318000078201294, 2.478300094604492, 2.6503000259399414, 2.5148000717163086, 1.8306000232696533, 2.3278000354766846, 1.7414000034332275, 2.2314000129699707, 1.8944000005722046, 2.3777999877929688, 1.929900050163269, 1.892699956893921, 1.8717000484466553, 1.462399959564209, 1.655500054359436, 1.6647000312805176, 0.390500009059906, 3.2139999866485596, 3.2126998901367188, 3.2125000953674316, 3.212100028991699, 3.2088000774383545, 3.2065000534057617, 3.203399896621704, 3.202899932861328, 3.1986000537872314, 3.1975998878479004, 3.1975998878479004, 3.1965999603271484, 3.1949000358581543, 3.1939001083374023, 3.1937999725341797, 3.1933000087738037, 3.19320011138916, 3.1926000118255615, 3.1919000148773193, 3.1916000843048096, 3.189500093460083, 3.1893999576568604, 3.189199924468994, 3.1884000301361084, 3.186800003051758, 3.18530011177063, 3.1851999759674072, 3.1847000122070312, 3.182800054550171, 3.1826999187469482, 3.1614999771118164, 3.1445000171661377, 3.1421000957489014, 3.136699914932251, 3.139400005340576, 3.1561999320983887, 3.0494000911712646, 2.987799882888794, 3.125200033187866, 3.0564000606536865, 2.6050000190734863, 2.9479000568389893, 2.822200059890747, 2.8385000228881836, 2.9198999404907227, 3.0664000511169434, 2.5725998878479004, 2.5696001052856445, 2.719399929046631, 2.6410999298095703, 2.43530011177063, 2.7172000408172607, 2.418800115585327, 2.3124001026153564, 2.5160999298095703, 2.4802000522613525, 2.2281999588012695, 2.1612000465393066, 2.3761000633239746, 2.038300037384033, 1.42330002784729, 2.1233999729156494, 2.0808000564575195, 1.989799976348877, 1.6253999471664429, 2.0116000175476074, 1.5104999542236328, 0.27900001406669617, 0.7720999717712402, 3.2637999057769775, 3.2627999782562256, 3.2616000175476074, 3.2607998847961426, 3.2599000930786133, 3.2599000930786133, 3.2595999240875244, 3.2558999061584473, 3.2558000087738037, 3.2553999423980713, 3.254199981689453, 3.253700017929077, 3.253700017929077, 3.253000020980835, 3.2523999214172363, 3.251699924468994, 3.2516000270843506, 3.2516000270843506, 3.2509000301361084, 3.2500998973846436, 3.2499001026153564, 3.249500036239624, 3.2492001056671143, 3.2486000061035156, 3.2486000061035156, 3.2476999759674072, 3.244499921798706, 3.2441999912261963, 3.2439000606536865, 3.2437000274658203, 3.2028000354766846, 3.1507999897003174, 3.1693999767303467, 3.2149999141693115, 3.173099994659424, 3.048099994659424, 3.18179988861084, 3.0782999992370605, 2.811199903488159, 2.821199893951416, 2.4946999549865723, 2.5225000381469727, 2.9639999866485596, 2.651400089263916, 2.5741000175476074, 2.229300022125244, 2.136899948120117, 2.6166999340057373, 2.129499912261963, 1.968999981880188, 2.483799934387207, 1.7680000066757202, 2.110300064086914, 1.43149995803833, 1.048699975013733, 1.0976999998092651, 1.6474000215530396, -0.16349999606609344, 1.7523000240325928, 3.4267001152038574, 3.424799919128418, 3.423799991607666, 3.4219000339508057, 3.4214999675750732, 3.4175000190734863, 3.414900064468384, 3.4137001037597656, 3.4123001098632812, 3.4121999740600586, 3.4096999168395996, 3.4094998836517334, 3.408400058746338, 3.408400058746338, 3.408099889755249, 3.4077999591827393, 3.4077999591827393, 3.4056999683380127, 3.405600070953369, 3.4047000408172607, 3.404599905014038, 3.4038000106811523, 3.4035000801086426, 3.40339994430542, 3.401900053024292, 3.401900053024292, 3.4012999534606934, 3.400599956512451, 3.4001998901367188, 3.3991000652313232, 3.382499933242798, 3.3896000385284424, 3.3320999145507812, 3.32669997215271, 3.2716000080108643, 3.2125000953674316, 3.32450008392334, 3.3529999256134033, 3.0416998863220215, 2.987799882888794, 3.0945000648498535, 3.2841999530792236, 3.30430006980896, 3.0899999141693115, 2.9846999645233154, 2.9124999046325684, 2.649199962615967, 2.7679998874664307, 3.2279999256134033, 2.6851999759674072, 1.9104000329971313, 1.691100001335144, 2.3822999000549316, 2.705699920654297, 2.211899995803833, 1.3732999563217163, 1.7589000463485718, 2.4126999378204346, 1.3428000211715698, 1.3658000230789185, 1.8629000186920166, 1.8910000324249268, 1.3221999406814575, 0.42660000920295715, 3.666599988937378, 3.6663999557495117, 3.6659998893737793, 3.664799928665161, 3.663800001144409, 3.663599967956543, 3.663100004196167, 3.6624999046325684, 3.661799907684326, 3.6591999530792236, 3.658600091934204, 3.658600091934204, 3.658099889755249, 3.6577999591827393, 3.6577000617980957, 3.657099962234497, 3.6566998958587646, 3.6559998989105225, 3.6556999683380127, 3.6556999683380127, 3.6554999351501465, 3.655400037765503, 3.6552000045776367, 3.652600049972534, 3.6522998809814453, 3.6503000259399414, 3.6493000984191895, 3.6487998962402344, 3.648699998855591, 3.645900011062622, 3.6456000804901123, 3.637200117111206, 3.6026999950408936, 3.255000114440918, 3.4563000202178955, 3.2709999084472656, 3.2158000469207764, 2.9918999671936035, 3.3443000316619873, 3.0861001014709473, 2.318700075149536, 3.052299976348877, 3.229300022125244, 1.3277000188827515, 2.290600061416626, 0.11720000207424164, 2.282599925994873, 2.3252999782562256, 3.7114999294281006, 3.711199998855591, 3.709399938583374, 3.7054998874664307, 3.705399990081787, 3.7040998935699463, 3.7026000022888184, 3.700200080871582, 3.6975998878479004, 3.697000026702881, 3.696500062942505, 3.6963000297546387, 3.6958000659942627, 3.6953999996185303, 3.6937999725341797, 3.69320011138916, 3.692699909210205, 3.690200090408325, 3.6870999336242676, 3.6870999336242676, 3.6870999336242676, 3.686500072479248, 3.6851999759674072, 3.683300018310547, 3.6828999519348145, 3.682800054550171, 3.6809000968933105, 3.6805999279022217, 3.679500102996826, 3.679500102996826, 3.6665000915527344, 3.6296000480651855, 3.6089999675750732, 3.5713000297546387, 3.3452999591827393, 3.240299940109253, 3.579200029373169, 3.1823999881744385, 3.234499931335449, 2.751300096511841, 2.9967000484466553, 3.4918999671936035, 3.096100091934204, 2.634399890899658, 2.914599895477295, 2.8745999336242676, 1.9799000024795532, 2.69350004196167, 2.1656999588012695, 1.9793000221252441, 2.171299934387207, 2.7829999923706055, 2.422300100326538, 2.2471001148223877, 1.7482999563217163, 1.5361000299453735, 1.4228999614715576, 1.3725999593734741, 1.767899990081787, 1.2243000268936157, 2.023200035095215, 0.9162999987602234, 3.878000020980835, 3.8777999877929688, 3.8766000270843506, 3.8752999305725098, 3.8745999336242676, 3.874500036239624, 3.8733999729156494, 3.872499942779541, 3.8712000846862793, 3.870800018310547, 3.8694000244140625, 3.867799997329712, 3.867300033569336, 3.867300033569336, 3.8668999671936035, 3.8666000366210938, 3.8661999702453613, 3.8661999702453613, 3.8657000064849854, 3.8649001121520996, 3.864799976348877, 3.864500045776367, 3.863600015640259, 3.8631999492645264, 3.86299991607666, 3.8619000911712646, 3.861599922180176, 3.8612000942230225, 3.859999895095825, 3.8598999977111816, 3.80430006980896, 3.813999891281128, 3.5934998989105225, 3.45169997215271, 3.503200054168701, 3.6556999683380127, 2.894200086593628, 3.688999891281128, 2.918800115585327, 3.142400026321411, 3.1835999488830566, 2.913300037384033, 3.151599884033203, 3.321899890899658, 2.677000045776367, 2.673099994659424, 3.184499979019165, 1.1527999639511108, 2.993799924850464, 1.8046000003814697, 2.9702000617980957, 0.12319999933242798, 1.4757000207901, 1.7702000141143799, 3.9428000450134277, 3.9414000511169434, 3.937000036239624, 3.9351999759674072, 3.9346001148223877, 3.9339001178741455, 3.933000087738037, 3.932800054550171, 3.932800054550171, 3.9316999912261963, 3.930500030517578, 3.929800033569336, 3.9275999069213867, 3.927299976348877, 3.9254000186920166, 3.9237000942230225, 3.9233999252319336, 3.918600082397461, 3.918299913406372, 3.91729998588562, 3.91510009765625, 3.9124999046325684, 3.9096999168395996, 3.909600019454956, 3.90939998626709, 3.908900022506714, 3.908099889755249, 3.9077999591827393, 3.9072999954223633, 3.9066998958587646, 3.8977999687194824, 3.885200023651123, 3.822000026702881, 3.8289999961853027, 3.8687000274658203, 3.8650999069213867, 3.6779000759124756, 3.799499988555908, 3.343400001525879, 3.7318999767303467, 3.6080000400543213, 3.132200002670288, 3.489799976348877, 3.016700029373169, 3.5529000759124756, 3.121500015258789, 2.3394999504089355, 1.0169999599456787, 2.2047998905181885, 3.135999917984009, 2.4595999717712402, 4.366399765014648, 4.36329984664917, 4.3618998527526855, 4.361700057983398, 4.35890007019043, 4.358699798583984, 4.3582000732421875, 4.356900215148926, 4.356200218200684, 4.356100082397461, 4.355299949645996, 4.351399898529053, 4.350299835205078, 4.350299835205078, 4.350100040435791, 4.349999904632568, 4.348299980163574, 4.344699859619141, 4.344399929046631, 4.342199802398682, 4.3420000076293945, 4.340199947357178, 4.3383002281188965, 4.338200092315674, 4.333600044250488, 4.332200050354004, 4.3317999839782715, 4.331099987030029, 4.329500198364258, 4.327899932861328, 0.7512000203132629, 4.39169979095459, 4.390500068664551, 4.379499912261963, 4.378600120544434, 4.377699851989746, 4.373700141906738, 4.373600006103516, 4.3719000816345215, 4.368199825286865, 4.367199897766113, 4.367000102996826, 4.366600036621094, 4.365799903869629, 4.365300178527832, 4.359099864959717, 4.3582000732421875, 4.358099937438965, 4.356900215148926, 4.355299949645996, 4.354800224304199, 4.354400157928467, 4.353000164031982, 4.351900100708008, 4.351600170135498, 4.349999904632568, 4.3491997718811035, 4.347899913787842, 4.346199989318848, 4.345799922943115, 4.3445000648498535, 4.264100074768066, 4.248300075531006, 4.20550012588501, 4.240099906921387, 4.029200077056885, 3.9818999767303467, 4.11899995803833, 4.036099910736084, 3.446000099182129, 4.144199848175049, 3.416599988937378, 3.268199920654297, 3.6905999183654785, 3.664299964904785, 3.1868999004364014, 3.7209999561309814, 3.1758999824523926, 2.3928000926971436, 2.612299919128418, 2.4486000537872314, 3.2179999351501465, 3.19569993019104, 2.7221999168395996, 2.013000011444092, 1.431399941444397, 1.2092000246047974, 2.66129994392395, 1.5130000114440918, 2.1672000885009766, 4.399400234222412, 4.39900016784668, 4.398799896240234, 4.397900104522705, 4.3907999992370605, 4.389900207519531, 4.387199878692627, 4.386199951171875, 4.385300159454346, 4.385000228881836, 4.385000228881836, 4.384300231933594, 4.383500099182129, 4.381400108337402, 4.380899906158447, 4.380199909210205, 4.379000186920166, 4.378600120544434, 4.378499984741211, 4.378300189971924, 4.3765997886657715, 4.375400066375732, 4.372499942779541, 4.372200012207031, 4.372000217437744, 4.369900226593018, 4.369500160217285, 4.3684000968933105, 4.368299961090088, 4.368100166320801, 4.33650016784668, 4.333399772644043, 4.298600196838379, 4.279099941253662, 4.198500156402588, 4.186100006103516, 3.8847999572753906, 3.9365999698638916, 3.0362000465393066, 3.440000057220459, 2.225399971008301, 4.060400009155273, 2.5729000568389893, 2.932800054550171, 2.6833999156951904, 2.647200107574463, 2.8708999156951904, 3.232800006866455, 0.8697999715805054, 4.428100109100342, 4.423900127410889, 4.423500061035156, 4.422999858856201, 4.422500133514404, 4.414299964904785, 4.412700176239014, 4.411799907684326, 4.410900115966797, 4.410600185394287, 4.407199859619141, 4.404699802398682, 4.404600143432617, 4.403800010681152, 4.403299808502197, 4.402400016784668, 4.4019999504089355, 4.401700019836426, 4.401000022888184, 4.39900016784668, 4.398900032043457, 4.398900032043457, 4.398900032043457, 4.396999835968018, 4.396500110626221, 4.396399974822998, 4.396399974822998, 4.396100044250488, 4.394999980926514, 4.393899917602539, 4.3867998123168945, 4.360499858856201, 4.361400127410889, 4.3267998695373535, 4.140699863433838, 4.171000003814697, 3.8926000595092773, 3.934000015258789, 3.3752999305725098, 4.190100193023682, 4.265200138092041, 3.1363000869750977, 2.9944000244140625, 3.5313000679016113, 3.3870999813079834, 2.8289999961853027, 3.7576000690460205, 1.941499948501587, 3.6287999153137207, 3.101300001144409, 2.5450000762939453, 1.6295000314712524, 2.2093000411987305, 4.453000068664551, 4.452400207519531, 4.445799827575684, 4.444799900054932, 4.442599773406982, 4.438600063323975, 4.43779993057251, 4.436999797821045, 4.436100006103516, 4.434500217437744, 4.433800220489502, 4.433499813079834, 4.43209981918335, 4.42609977722168, 4.425600051879883, 4.42519998550415, 4.423999786376953, 4.423399925231934, 4.4232001304626465, 4.420599937438965, 4.41949987411499, 4.417200088500977, 4.41540002822876, 4.414999961853027, 4.414400100708008, 4.414100170135498, 4.413099765777588, 4.411200046539307, 4.409200191497803, 4.408899784088135, 4.331500053405762, 4.140900135040283, 4.30210018157959, 4.169899940490723, 3.7959001064300537, 4.037899971008301, 3.809499979019165, 3.467600107192993, 3.228600025177002, 3.7688000202178955, 3.771899938583374, 2.8714001178741455, 2.6596999168395996, 3.3903000354766846, 2.936300039291382, 2.3032000064849854, 1.3559000492095947, 3.3027000427246094, 1.003999948501587, 1.5770000219345093, 0.5311999917030334, 2.183799982070923, 4.721399784088135, 4.719799995422363, 4.718999862670898, 4.70989990234375, 4.70959997177124, 4.708000183105469, 4.703999996185303, 4.693699836730957, 4.691299915313721, 4.690800189971924, 4.687900066375732, 4.685299873352051, 4.682700157165527, 4.682700157165527, 4.682400226593018, 4.680500030517578, 4.67549991607666, 4.673900127410889, 4.672500133514404, 4.672399997711182, 4.672399997711182, 4.671599864959717, 4.669000148773193, 4.668300151824951, 4.665900230407715, 4.664400100708008, 4.663400173187256, 4.663300037384033, 4.662199974060059, 4.658599853515625, 4.559500217437744, 4.549799919128418, 4.462800025939941, 4.502500057220459, 4.570400238037109, 4.61870002746582, 3.834199905395508, 4.433899879455566, 4.250699996948242, 4.373600006103516, 4.334400177001953, 3.822200059890747, 4.277100086212158, 2.876499891281128, 3.2776999473571777, 2.9646999835968018, 2.6224000453948975, 1.372499942779541, 3.572200059890747, 2.913800001144409, 2.0769999027252197, 1.7218999862670898]}, \"token.table\": {\"Topic\": [2, 2, 13, 14, 2, 19, 1, 2, 3, 4, 7, 8, 12, 13, 18, 2, 5, 7, 14, 18, 5, 8, 9, 19, 9, 2, 3, 4, 10, 11, 17, 16, 5, 1, 14, 7, 8, 10, 7, 8, 9, 20, 8, 10, 12, 19, 5, 1, 19, 17, 1, 2, 3, 4, 5, 6, 7, 8, 9, 10, 11, 14, 19, 1, 5, 6, 8, 9, 12, 17, 1, 6, 8, 18, 1, 3, 4, 5, 6, 9, 11, 14, 20, 16, 18, 14, 1, 5, 12, 13, 7, 3, 7, 8, 12, 1, 9, 14, 1, 2, 3, 4, 6, 7, 10, 1, 2, 3, 4, 6, 8, 10, 1, 1, 3, 4, 5, 10, 13, 19, 2, 3, 16, 16, 1, 3, 4, 5, 10, 12, 2, 5, 6, 8, 9, 11, 12, 13, 17, 18, 14, 14, 3, 5, 7, 11, 12, 7, 11, 18, 11, 1, 3, 4, 12, 17, 11, 11, 11, 14, 19, 8, 4, 4, 4, 10, 12, 17, 5, 1, 9, 10, 11, 14, 1, 8, 7, 3, 4, 7, 11, 12, 18, 8, 1, 2, 12, 16, 16, 2, 3, 5, 7, 8, 9, 10, 16, 18, 11, 1, 11, 11, 1, 2, 3, 4, 5, 6, 8, 10, 14, 19, 17, 1, 11, 5, 10, 13, 19, 1, 19, 18, 5, 8, 10, 11, 1, 6, 1, 2, 3, 4, 5, 6, 7, 9, 10, 14, 16, 12, 1, 19, 2, 5, 2, 4, 1, 4, 1, 2, 3, 4, 5, 6, 8, 1, 2, 3, 4, 5, 6, 7, 12, 18, 1, 2, 3, 4, 5, 6, 10, 15, 4, 4, 2, 14, 1, 2, 5, 6, 8, 12, 16, 17, 7, 2, 20, 2, 3, 10, 1, 1, 2, 3, 8, 10, 11, 2, 10, 1, 2, 3, 6, 13, 17, 18, 19, 13, 12, 2, 3, 5, 7, 8, 12, 20, 1, 4, 5, 9, 14, 19, 18, 12, 16, 1, 2, 3, 4, 5, 7, 11, 13, 16, 2, 14, 8, 14, 3, 16, 6, 11, 13, 18, 1, 2, 13, 2, 6, 20, 8, 18, 2, 5, 8, 6, 9, 13, 1, 2, 3, 5, 8, 12, 9, 4, 8, 1, 2, 15, 15, 2, 3, 10, 19, 2, 7, 13, 2, 11, 18, 9, 20, 1, 2, 3, 4, 9, 10, 12, 14, 17, 16, 2, 13, 14, 2, 3, 6, 14, 16, 19, 1, 2, 18, 14, 10, 4, 2, 10, 3, 5, 6, 9, 10, 18, 16, 9, 16, 18, 3, 11, 1, 2, 3, 4, 6, 7, 10, 12, 1, 2, 6, 13, 17, 1, 3, 4, 9, 1, 4, 9, 11, 14, 2, 8, 10, 2, 10, 4, 4, 6, 4, 4, 9, 19, 4, 15, 15, 10, 13, 11, 11, 7, 19, 1, 14, 8, 10, 17, 18, 3, 3, 9, 8, 16, 5, 8, 10, 6, 3, 4, 7, 10, 12, 17, 18, 19, 11, 20, 20, 14, 16, 2, 3, 11, 19, 1, 6, 7, 12, 17, 18, 3, 17, 1, 2, 4, 5, 6, 8, 13, 13, 1, 2, 3, 4, 6, 7, 8, 12, 13, 16, 3, 17, 2, 3, 5, 7, 8, 10, 12, 16, 1, 3, 5, 6, 8, 11, 12, 4, 10, 14, 1, 8, 12, 2, 3, 4, 5, 6, 7, 8, 12, 13, 16, 18, 5, 12, 10, 3, 2, 20, 1, 17, 3, 5, 7, 8, 11, 12, 13, 12, 1, 2, 3, 4, 5, 7, 10, 12, 13, 1, 2, 5, 7, 8, 16, 1, 2, 3, 4, 5, 6, 8, 9, 10, 17, 1, 2, 3, 4, 5, 6, 10, 5, 17, 1, 2, 5, 7, 10, 11, 13, 13, 5, 1, 11, 1, 2, 4, 6, 7, 11, 19, 10, 11, 10, 7, 10, 17, 6, 1, 2, 3, 4, 5, 6, 7, 8, 9, 12, 13, 18, 19, 19, 12, 7, 2, 20, 11, 18, 2, 3, 5, 7, 8, 10, 1, 2, 3, 4, 5, 7, 8, 9, 12, 14, 17, 1, 2, 3, 4, 5, 6, 8, 12, 13, 16, 17, 18, 19, 20, 16, 1, 2, 4, 6, 11, 14, 19, 19, 19, 10, 1, 6, 6, 8, 13, 1, 3, 4, 10, 12, 4, 5, 11, 3, 5, 10, 17, 18, 5, 18, 6, 13, 2, 3, 5, 7, 8, 9, 6, 9, 14, 17, 7, 3, 7, 8, 12, 9, 9, 2, 3, 10, 2, 3, 10, 16, 2, 3, 17, 3, 4, 5, 6, 9, 12, 14, 16, 18, 4, 13, 8, 17, 1, 2, 6, 10, 12, 13, 17, 6, 17, 18, 19, 16, 20, 20, 2, 20, 2, 6, 8, 14, 2, 3, 2, 20, 1, 8, 9, 20, 4, 5, 7, 3, 4, 17, 1, 5, 8, 1, 2, 3, 6, 8, 19, 20, 2, 8, 2, 7, 8, 10, 18, 2, 3, 7, 12, 13, 17, 8, 19, 10, 10, 8, 10, 1, 4, 5, 12, 16, 8, 10, 2, 5, 16, 7, 1, 2, 3, 4, 5, 6, 10, 13, 12, 3, 6, 12, 15, 8, 10, 8, 6, 4, 2, 1, 2, 3, 4, 5, 6, 7, 10, 14, 1, 3, 4, 8, 9, 14, 17, 1, 3, 4, 5, 8, 11, 14, 17, 1, 2, 3, 4, 5, 7, 10, 12, 2, 3, 4, 5, 6, 16, 20, 5, 8, 9, 2, 1, 2, 3, 4, 7, 10, 12, 13, 1, 4, 9, 14, 3, 7, 8, 12, 14, 17, 1, 2, 4, 5, 6, 14, 19, 1, 2, 3, 4, 5, 7, 8, 9, 10, 11, 14, 4, 18, 5, 6, 1, 8, 10, 1, 2, 3, 4, 6, 1, 10, 15, 3, 7, 8, 12, 19, 3, 7, 8, 12, 14, 8, 13, 17, 5, 1, 2, 5, 6, 1, 12, 8, 1, 2, 3, 4, 5, 6, 8, 9, 10, 11, 12, 13, 14, 19, 17, 3, 6, 13, 17, 19, 5, 13, 14, 16, 2, 7, 10, 16, 6, 3, 3, 1, 9, 2, 3, 7, 10, 12, 14, 12, 17, 17, 16, 5, 8, 20, 11, 20, 10, 17, 3, 6, 6, 13, 16, 15, 2, 14, 14, 2, 10, 20, 9, 11, 20, 1, 5, 18, 1, 2, 4, 5, 7, 11, 1, 11, 16, 17, 20, 7, 8, 13, 20, 13, 5, 10, 20, 6, 15, 15, 1, 4, 5, 6, 8, 10, 1, 2, 3, 6, 8, 1, 2, 3, 4, 5, 6, 7, 8, 10, 13, 19, 20, 16, 9, 11, 19, 1, 8, 10, 11, 20, 2, 3, 7, 16, 5, 12, 11, 4, 11, 7, 1, 2, 3, 4, 5, 7, 9, 10, 11, 12, 13, 17, 18, 2, 3, 4, 5, 7, 13, 16, 9, 10, 12, 1, 1, 13, 14, 9, 17, 1, 2, 10, 19, 1, 2, 6, 11, 1, 2, 4, 6, 8, 10, 2, 14, 1, 6, 3, 10, 13, 18, 1, 2, 4, 14, 20, 1, 8, 9, 4, 9, 10, 14, 17, 1, 2, 3, 4, 7, 8, 9, 11, 13, 17, 11, 20, 9, 1, 2, 3, 4, 5, 6, 8, 9, 10, 12, 13, 1, 4, 5, 6, 8, 9, 11, 1, 10, 17, 6, 14, 4, 1, 2, 3, 6, 7, 9, 9, 1, 2, 1, 10, 2, 1, 2, 5, 7, 8, 11, 12, 18, 5, 17, 18, 13, 1, 3, 4, 5, 9, 11, 14, 20, 17, 7, 18, 17, 20, 9, 3, 4, 5, 7, 9, 14, 19, 3, 16, 1, 2, 3, 4, 5, 7, 8, 9, 12, 13, 16, 18, 1, 2, 3, 4, 5, 9, 10, 12, 16, 18, 8, 9, 9, 9, 2, 3, 7, 12, 1, 2, 3, 5, 7, 8, 9, 10, 12, 17, 18, 10, 13, 1, 8, 4, 16, 20, 7, 7, 2, 3, 10, 16, 11, 7, 20, 2, 7, 12, 16, 18, 10, 20, 12, 4, 11, 1, 5, 9, 11, 18, 6, 9, 14, 14, 14, 1, 2, 3, 4, 5, 8, 9, 12, 13, 11, 6, 18, 16, 9, 4, 13, 4, 9, 4, 9, 14, 7, 8, 1, 2, 4, 5, 6, 7, 9, 12, 13, 18, 20, 6, 13, 14, 3, 7, 15, 9, 7, 9, 20, 3, 20, 11, 11, 1, 1, 2, 3, 4, 5, 6, 8, 10, 12, 14, 18, 19, 2, 7, 8, 10, 1, 8, 1, 6, 11, 1, 6, 11, 14, 4, 6, 13, 1, 2, 3, 4, 6, 7, 8, 10, 1, 11, 1, 5, 9, 11, 14, 16, 12, 18, 12, 1, 2, 3, 4, 5, 6, 7, 8, 9, 10, 11, 12, 13, 14, 19, 5, 5, 1, 5, 6, 13, 18, 14, 14, 1, 8, 6, 14, 18, 1, 3, 5, 12, 18, 1, 2, 4, 5, 9, 10, 10, 1, 2, 3, 4, 5, 6, 7, 8, 10, 11, 19, 1, 2, 3, 4, 6, 7, 10, 11, 12, 14, 17, 19, 1, 2, 3, 6, 8, 11, 12, 14, 17, 18, 19, 1, 2, 3, 4, 5, 6, 7, 8, 10, 11, 12, 13, 16, 18, 7, 19, 19, 1, 2, 3, 4, 5, 6, 8, 9, 10, 12, 18, 1, 2, 3, 4, 5, 6, 7, 8, 13, 10, 4, 13, 1, 2, 5, 6, 11, 13, 17, 8, 19, 6, 13, 1, 2, 4, 16, 17, 5, 18, 2, 3, 7, 10, 16, 2, 16, 16, 2, 3, 7, 8, 13, 16, 17, 18, 2, 7, 1, 2, 3, 5, 7, 17, 18, 1, 2, 3, 4, 5, 6, 8, 10, 12, 16, 8, 1, 18, 2, 3, 16, 1, 2, 3, 4, 5, 6, 7, 8, 9, 10, 13, 14, 10, 5, 4, 17, 14, 2, 4, 5, 10, 13, 16, 20, 4, 17, 19, 1, 2, 5, 6, 10, 13, 15, 1, 2, 4, 7, 10, 16, 20, 16, 1, 9, 1, 9, 2, 2, 3, 4, 14, 3, 2, 3, 4, 7, 8, 10, 12, 8, 19, 2, 3, 16, 16, 1, 13, 1, 5, 8, 9, 11, 14, 6, 13, 1, 2, 3, 4, 6, 9, 10, 14, 18, 20, 4, 5, 5, 16, 12, 2, 3, 4, 5, 16, 2, 7, 18, 2, 3, 2, 9, 6, 5, 1, 4, 4, 19, 17, 20, 2, 3, 19, 1, 2, 3, 4, 5, 6, 10, 4, 11, 14, 1, 2, 3, 4, 5, 6, 7, 8, 9, 10, 12, 17, 18, 19, 8, 11, 1, 2, 3, 4, 5, 6, 7, 10, 12, 19, 3, 5, 7, 1, 5, 6, 7, 8, 9, 12, 17, 1, 9, 18, 18, 1, 11, 14, 5, 1, 2, 3, 4, 5, 6, 7, 8, 10, 18, 10, 1, 6, 7, 9, 1, 2, 3, 4, 6, 16, 20, 12, 1, 5, 6, 7, 8, 9, 11, 18, 1, 7, 10, 5, 9, 12, 16, 5, 8, 15, 16, 13, 12, 13, 15, 15, 15, 2, 16, 1, 5, 9, 3, 1, 2, 3, 4, 5, 6, 7, 8, 9, 10, 11, 12, 14, 12, 11, 14, 14, 20, 17, 12, 3, 7, 10, 15, 1, 2, 3, 4, 6, 7, 8, 10, 11, 12, 20, 3, 5, 5, 14, 9, 13, 11, 7, 2, 3, 10, 12, 5, 2, 3, 7, 8, 16, 20, 1, 2, 4, 9, 9, 14, 9, 14, 4, 20, 9, 10, 2, 5, 6, 17, 18, 12, 1, 2, 3, 4, 5, 6, 7, 8, 9, 10, 11, 12, 15, 16, 9, 20, 4, 3, 4, 9, 11, 9, 5, 1, 4, 14, 7, 6, 16, 1, 2, 3, 4, 5, 7, 8, 9, 10, 11, 14, 1, 5, 6, 8, 9, 11, 12, 13, 12, 6, 13, 16, 6, 1, 2, 7, 8, 10, 16, 17, 10, 2, 3, 4, 7, 8, 13, 14, 17, 19, 2, 13, 6, 9, 11, 6, 17, 3, 17, 10, 3, 5, 11, 19, 5, 3, 1, 2, 6, 8, 13, 1, 6, 8, 18, 2, 6, 6, 6, 6, 1, 2, 3, 4, 7, 12, 17, 18, 15, 12, 15, 1, 2, 3, 4, 5, 6, 7, 8, 10, 18, 19, 2, 1, 2, 3, 4, 5, 6, 7, 10, 19, 1, 8, 1, 8, 11, 14, 2, 19, 2, 3, 10, 14, 1, 2, 4, 5, 6, 7, 10, 13, 1, 2, 3, 4, 5, 7, 12, 18, 1, 2, 4, 5, 6, 11, 13, 16, 16, 6, 8, 1, 3, 5, 7, 8, 9, 11, 14, 9, 9, 1, 2, 5, 11, 13, 14, 16, 2, 3, 3, 19, 4, 14, 16, 7, 8, 10, 1, 7, 8, 10, 1, 2, 3, 4, 8, 9, 10, 14, 17, 19, 3, 12, 18, 1, 3, 4, 5, 8, 10, 19, 9, 3, 3, 5, 8, 12, 2, 3, 5, 7, 8, 9, 12, 16, 18, 2, 3, 5, 7, 10, 13, 17, 7, 1, 5, 9, 18, 1, 3, 5, 7, 8, 9, 10, 12, 6, 1, 2, 5, 19, 19, 2, 6, 1, 2, 3, 4, 8, 10, 14, 16, 19, 5, 18, 2, 12, 19, 8, 3, 10, 16, 6, 18, 15, 1, 2, 3, 4, 7, 10, 12, 13, 17, 1, 3, 4, 5, 7, 18, 1, 2, 3, 4, 5, 6, 10, 18, 7, 9, 18, 17, 4, 8, 14, 1, 4, 9, 4, 1, 4, 9, 19, 1, 2, 3, 4, 5, 6, 1, 2, 5, 8, 9, 10, 14, 11, 8, 3, 4, 7, 8, 12, 1, 3, 7, 3, 5, 7, 9, 10, 18, 3, 5, 4, 17, 1, 2, 3, 4, 5, 6, 7, 8, 11, 12, 13, 14, 19, 12, 4, 17, 13, 16, 1, 2, 3, 4, 6, 8, 10, 14, 19, 12, 10, 7, 15, 12, 1, 2, 5, 6, 11, 13, 14, 18, 5, 18, 5, 5, 14, 7, 1, 2, 6, 8, 18, 17, 20, 18, 7, 1, 4, 5, 7, 12, 16, 1, 2, 3, 6, 7, 1, 2, 3, 6, 7, 10, 16, 5, 8, 11, 18, 5, 6, 8, 11, 9, 13, 1, 2, 4, 5, 6, 8, 9, 11, 14, 17, 2, 13, 16, 18, 5, 5, 5, 5, 10, 4, 5, 9, 17, 5, 6, 6, 6, 13, 11, 17, 6, 2, 3, 14, 4, 2, 11, 13, 6, 1, 2, 3, 4, 5, 6, 8, 10, 11, 12, 13, 1, 5, 9, 10, 11, 1, 8, 3, 4, 5, 7, 11, 12, 8, 10, 7, 8, 10, 11, 14, 8, 8, 1, 2, 3, 4, 5, 6, 7, 10, 11, 12, 13, 17, 7, 3, 5, 8, 11, 2, 3, 10, 1, 2, 4, 5, 6, 9, 3, 7, 1, 2, 5, 7, 8, 9, 11, 18, 3, 20, 16, 1, 7, 16, 11, 13, 2, 13, 16, 14, 5, 7, 2, 1, 2, 3, 4, 5, 6, 7, 8, 9, 10, 11, 14, 19, 20, 1, 2, 3, 5, 7, 14, 3, 5, 7, 9, 1, 2, 3, 6, 10, 12, 13, 19, 11, 10, 4, 20, 8, 2, 5, 6, 12, 13, 12, 1, 20, 13, 7, 18, 2, 3, 7, 16, 18, 5, 1, 11, 13, 14, 1, 2, 3, 8, 10, 14, 19, 1, 2, 3, 4, 6, 8, 10, 1, 2, 3, 4, 5, 6, 7, 8, 9, 11, 1, 2, 4, 19, 14, 16, 1, 2, 3, 4, 5, 7, 9, 10, 11, 12, 1, 2, 5, 9, 13, 14, 18, 1, 5, 11, 2, 3, 5, 7, 5, 16, 3, 2, 4, 5, 16, 18, 2, 3, 5, 6, 8, 2, 19, 18, 4, 5, 6, 18, 1, 2, 3, 4, 7, 10, 1, 6, 1, 2, 3, 4, 5, 8, 9, 12, 14, 16, 18, 1, 2, 4, 5, 8, 9, 12, 14, 1, 2, 5, 6, 8, 3, 12, 14, 16, 17, 8, 1, 3, 5, 9, 13, 20, 2, 1, 2, 3, 6, 7, 13, 20, 5, 17, 1, 2, 3, 4, 5, 6, 10, 11, 14, 8, 20, 17, 1, 2, 3, 5, 8, 12, 18, 1, 4, 5, 6, 8, 10, 1, 5, 9, 1, 4, 5, 9, 1, 2, 3, 4, 5, 6, 7, 8, 9, 10, 12, 14, 12, 10, 8, 1, 3, 1, 2, 3, 4, 5, 8, 9, 14, 1, 2, 3, 4, 6, 7, 8, 9, 10, 12, 8, 11, 13, 18, 19, 9, 14, 1, 2, 3, 4, 5, 7, 8, 10, 16, 18, 20, 20, 1, 2, 3, 4, 5, 6, 8, 10, 17, 7, 15, 15, 5, 6, 13, 6, 2, 3, 5, 7, 8, 16, 17, 20, 8, 5, 1, 2, 10, 7, 13, 11, 14, 1, 11, 14, 4, 1, 5, 8, 16, 17, 2, 3, 4, 7, 11, 13, 17, 18, 2, 1, 4, 5, 16, 9, 1, 2, 3, 4, 5, 6, 10, 13, 19, 1, 2, 3, 4, 5, 6, 8, 10, 19, 1, 2, 3, 4, 5, 6, 8, 10, 17, 1, 2, 3, 4, 5, 6, 10, 11, 13, 1, 10, 1, 6, 19, 1, 2, 3, 4, 5, 6, 8, 9, 10, 11, 12, 14, 2, 3, 4, 6, 11, 12, 13, 12, 1, 5, 1, 4, 5, 6, 8, 11, 14, 1, 2, 4, 6, 11, 3, 6, 11, 13, 16, 6, 1, 9, 11, 1, 11, 14, 1, 2, 3, 4, 6, 8, 10, 12, 14, 1, 4, 2, 5, 19, 19, 20, 2, 16, 11, 11, 11, 17, 20, 13, 8, 3, 18, 2, 5, 10, 19, 1, 5, 8, 9, 11, 12, 2, 3, 5, 7, 9, 11, 12, 16, 17, 18, 19, 3, 7, 19, 3, 18, 2, 16, 1, 2, 3, 4, 5, 6, 7, 8, 9, 10, 12, 16, 1, 7, 12, 3, 7, 10, 3, 5, 7, 8, 9, 10, 16, 1, 2, 3, 4, 5, 8, 9, 10, 14, 3, 12, 6, 8, 12, 13, 16, 2, 5, 5, 1, 2, 3, 4, 7, 10, 11, 16, 14, 2, 5, 9, 18, 16, 2, 3, 8, 14, 18, 18, 1, 3, 4, 18, 3, 12, 16, 2, 15, 2, 13, 1, 1, 2, 3, 4, 8, 10, 1, 2, 1, 5, 18, 1, 2, 3, 4, 5, 6, 7, 8, 9, 10, 11, 12, 19, 1, 2, 5, 6, 20, 12, 3, 3, 1, 3, 2, 3, 13, 5, 6, 13, 6, 12, 2, 7, 11, 7, 14, 15, 13, 19, 1, 2, 3, 4, 5, 16, 1, 2, 3, 4, 5, 8, 10, 11, 14, 18, 1, 2, 3, 5, 6, 8, 10, 1, 2, 3, 4, 5, 6, 7, 9, 11, 12, 14, 16, 1, 2, 6, 11, 4, 1, 2, 3, 4, 5, 6, 8, 9, 10, 1, 2, 3, 4, 7, 8, 12, 19, 15, 10, 15, 12, 3, 20, 3, 3, 12, 15, 13, 10, 1, 2, 5, 6, 8, 9, 11, 12, 1, 2, 4, 5, 6, 8, 9, 11, 1, 20, 8, 1, 5, 6, 8, 9, 11, 13, 17, 18, 17, 12, 18, 10, 14, 15, 15], \"Freq\": [0.9881039261817932, 0.20143720507621765, 0.7902536392211914, 0.9945709705352783, 0.9913771152496338, 0.9419323801994324, 0.04062395542860031, 0.2048860341310501, 0.02119510807096958, 0.03885769844055176, 0.5281113982200623, 0.03179266303777695, 0.11480683088302612, 0.005298777017742395, 0.014130071736872196, 0.05069289356470108, 0.010138578712940216, 0.8110862970352173, 0.020277157425880432, 0.10138578712940216, 0.006373475305736065, 0.9464610815048218, 0.04461432620882988, 0.9800145030021667, 0.9798612594604492, 0.814828634262085, 0.1262834072113037, 0.01202699076384306, 0.018040485680103302, 0.009020242840051651, 0.015033738687634468, 0.945783257484436, 0.9891857504844666, 0.9965853691101074, 0.9772263169288635, 0.01809401623904705, 0.6875725984573364, 0.2955355942249298, 0.9709498286247253, 0.03962750732898712, 0.9510601758956909, 0.9662642478942871, 0.007949264720082283, 0.9062162041664124, 0.015898529440164566, 0.0715433806180954, 0.980131983757019, 0.9777883291244507, 0.9865635633468628, 0.9898076057434082, 0.21659715473651886, 0.22614838182926178, 0.16360324621200562, 0.11584712564945221, 0.08072326332330704, 0.029577989131212234, 0.0616208091378212, 0.03851300850510597, 0.032350923866033554, 0.01571330614387989, 0.017870035022497177, 0.0006162081263028085, 0.0009243121603503823, 0.3043530285358429, 0.057181477546691895, 0.0664042979478836, 0.4039594531059265, 0.11436295509338379, 0.035046711564064026, 0.01475651003420353, 0.3274993598461151, 0.04030761122703552, 0.6096526384353638, 0.015115354210138321, 0.23637819290161133, 0.06655308604240417, 0.1285163015127182, 0.039013877511024475, 0.016064537689089775, 0.4612817168235779, 0.034424006938934326, 0.013769603334367275, 0.9576928019523621, 0.8393054008483887, 0.13428886234760284, 0.9715303778648376, 0.07070164382457733, 0.24240563809871674, 0.1919044554233551, 0.4949115216732025, 0.9948387742042542, 0.01821531355381012, 0.9341853857040405, 0.01301093865185976, 0.03382844105362892, 0.4445188045501709, 0.4756040573120117, 0.07771307975053787, 0.27260053157806396, 0.5484386086463928, 0.058923155069351196, 0.060865674167871475, 0.01359765138477087, 0.03561289608478546, 0.009712607599794865, 0.6426433324813843, 0.2492741048336029, 0.03470905125141144, 0.06205557659268379, 0.0031553683802485466, 0.006310736760497093, 0.0021035789977759123, 0.9927017092704773, 0.23090852797031403, 0.19921520352363586, 0.12677331268787384, 0.03622094541788101, 0.07244189083576202, 0.2988227903842926, 0.03169332817196846, 0.8375973105430603, 0.0952955037355423, 0.06520218402147293, 0.951958179473877, 0.014475586824119091, 0.8805981874465942, 0.01688818447291851, 0.053077150136232376, 0.024125978350639343, 0.009650391526520252, 0.019602308049798012, 0.28619369864463806, 0.08428992331027985, 0.19798330962657928, 0.1685798466205597, 0.07448876649141312, 0.0019602307584136724, 0.04704554006457329, 0.058806922286748886, 0.06076715514063835, 0.9948865175247192, 0.9876444339752197, 0.20664262771606445, 0.019869482144713402, 0.7153013944625854, 0.027817275375127792, 0.03179117292165756, 0.8504111170768738, 0.13961973786354065, 0.9457095265388489, 0.9930213689804077, 0.36712440848350525, 0.05054611340165138, 0.5799501538276672, 0.8694486618041992, 0.12131841480731964, 0.994049072265625, 0.9982374906539917, 0.9980478286743164, 0.978295624256134, 0.9621561765670776, 0.9872627258300781, 0.9971486330032349, 0.9928618669509888, 0.9973185658454895, 0.06980638206005096, 0.052354782819747925, 0.8725797533988953, 0.9901236295700073, 0.059577781707048416, 0.21596945822238922, 0.2606528103351593, 0.029788890853524208, 0.43938615918159485, 0.06476252526044846, 0.9196279048919678, 0.98888099193573, 0.1218935176730156, 0.14548581838607788, 0.2359229475259781, 0.01179614756256342, 0.4482536017894745, 0.031456392258405685, 0.9583666324615479, 0.09290338307619095, 0.47880977392196655, 0.1214890405535698, 0.3072958290576935, 0.9790239334106445, 0.08267296850681305, 0.5043809413909912, 0.05916047468781471, 0.2601543962955475, 0.05005886033177376, 0.014410884119570255, 0.015927819535136223, 0.005309273023158312, 0.00834314338862896, 0.9972377419471741, 0.2707264721393585, 0.7275774478912354, 0.9913976788520813, 0.5186792016029358, 0.2820274531841278, 0.02443307265639305, 0.007678965572267771, 0.01396175567060709, 0.1179768368601799, 0.015357931144535542, 0.015357931144535542, 0.0027923511806875467, 0.0027923511806875467, 0.9597837328910828, 0.02567465417087078, 0.975636899471283, 0.3480347692966461, 0.07102750241756439, 0.4900898039340973, 0.08523301035165787, 0.10907106846570969, 0.8725685477256775, 0.9786595702171326, 0.05065133795142174, 0.15195401012897491, 0.15195401012897491, 0.6415836215019226, 0.026996959000825882, 0.966491162776947, 0.17989861965179443, 0.04047719016671181, 0.3957769572734833, 0.1270533949136734, 0.14279451966285706, 0.0044974652118980885, 0.03485535830259323, 0.015741128474473953, 0.03485535830259323, 0.006746198050677776, 0.016865495592355728, 0.9829019904136658, 0.9934846758842468, 0.9896305799484253, 0.9730389714241028, 0.01035147812217474, 0.9924498200416565, 0.9942437410354614, 0.005698922090232372, 0.9916123747825623, 0.4471222460269928, 0.0808052271604538, 0.0046174414455890656, 0.41633930802345276, 0.0046174414455890656, 0.006926162168383598, 0.038478679955005646, 0.24432459473609924, 0.3740544617176056, 0.06378385424613953, 0.0724325105547905, 0.007567576132714748, 0.19243264198303223, 0.0054054115898907185, 0.04000004380941391, 0.9602610468864441, 0.47105318307876587, 0.23289009928703308, 0.07294294238090515, 0.03339556232094765, 0.025486087426543236, 0.15818950533866882, 0.005272983573377132, 0.9850609302520752, 0.9976630210876465, 0.9957993030548096, 0.9692017436027527, 0.02769147790968418, 0.15234412252902985, 0.011079573072493076, 0.008309680037200451, 0.16065379977226257, 0.5235098004341125, 0.09417636692523956, 0.044318292289972305, 0.005539786536246538, 0.9865593314170837, 0.8274920582771301, 0.17075233161449432, 0.01546294242143631, 0.34405046701431274, 0.6417120695114136, 0.9884501099586487, 0.17916440963745117, 0.09455899149179459, 0.07465183734893799, 0.029860734939575195, 0.5972146987915039, 0.019907156005501747, 0.16887567937374115, 0.813673734664917, 0.1655205488204956, 0.19735141098499298, 0.025464698672294617, 0.2355484664440155, 0.07639409601688385, 0.0700279250741005, 0.012732349336147308, 0.21644994616508484, 0.9759481549263, 0.9730255603790283, 0.7990108728408813, 0.002853610087186098, 0.06277942657470703, 0.06848664581775665, 0.05992581322789192, 0.002853610087186098, 0.005707220174372196, 0.07946189492940903, 0.10216529667377472, 0.09081359207630157, 0.07946189492940903, 0.6356951594352722, 0.9818776845932007, 0.9457095265388489, 0.21899659931659698, 0.7821307182312012, 0.07127039134502411, 0.16683749854564667, 0.05669235438108444, 0.37740910053253174, 0.1571188122034073, 0.021057160571217537, 0.09070777148008347, 0.04535388574004173, 0.011338471435010433, 0.9581207036972046, 0.03757335990667343, 0.11104802042245865, 0.866174578666687, 0.1188991516828537, 0.8620188236236572, 0.8125255703926086, 0.05113797262310982, 0.06250196695327759, 0.06818396598100662, 0.1114945188164711, 0.887974202632904, 0.9765898585319519, 0.9808449745178223, 0.993729293346405, 0.9386844038963318, 0.9766581058502197, 0.9605966806411743, 0.08507382124662399, 0.1446254998445511, 0.7656643986701965, 0.38520586490631104, 0.03611304983496666, 0.5657711029052734, 0.0677996501326561, 0.14027513563632965, 0.13326138257980347, 0.13092346489429474, 0.03974462300539017, 0.48628711700439453, 0.9765652418136597, 0.06013146787881851, 0.9320377707481384, 0.0819006860256195, 0.9135076403617859, 0.9838360548019409, 0.9891520738601685, 0.13806270062923431, 0.31926998496055603, 0.02588675729930401, 0.5177351236343384, 0.9232534766197205, 0.01605658233165741, 0.060212183743715286, 0.9829264283180237, 0.9832377433776855, 0.962165117263794, 0.9916822910308838, 0.9936239123344421, 0.2203662097454071, 0.0912453830242157, 0.12739920616149902, 0.40974339842796326, 0.005164832808077335, 0.08263732492923737, 0.04131866246461868, 0.017216110602021217, 0.96270352602005, 0.9493426084518433, 0.9868630170822144, 0.009489067830145359, 0.0013555811019614339, 0.8228495121002197, 0.0038997605443000793, 0.035097844898700714, 0.08969449251890182, 0.04679712653160095, 0.937307596206665, 0.16203631460666656, 0.832791268825531, 0.9438287615776062, 0.956541895866394, 0.9607943296432495, 0.994190514087677, 0.124142125248909, 0.8689948320388794, 0.03722287714481354, 0.5123619437217712, 0.12480612099170685, 0.21895810961723328, 0.05254994332790375, 0.05254994332790375, 0.9907815456390381, 0.9855276346206665, 0.9581368565559387, 0.9643213152885437, 0.9954857230186462, 0.9874258637428284, 0.1479080468416214, 0.2739037871360779, 0.1716463714838028, 0.003652050392702222, 0.025564352050423622, 0.03286845237016678, 0.001826025196351111, 0.33964067697525024, 0.07023292779922485, 0.02341097593307495, 0.5759100317955017, 0.2949783205986023, 0.02809317223727703, 0.35101813077926636, 0.07749750465154648, 0.10940824449062347, 0.4558677077293396, 0.5641894340515137, 0.05145123600959778, 0.27322378754615784, 0.09403156489133835, 0.014193444512784481, 0.2806744873523712, 0.07625260949134827, 0.6424687504768372, 0.5203801989555359, 0.47458672523498535, 0.9969362616539001, 0.9909396767616272, 0.0071547990664839745, 0.9967079162597656, 0.998796820640564, 0.9793892502784729, 0.9765700101852417, 0.9975152611732483, 0.9778363704681396, 0.9494711756706238, 0.9772566556930542, 0.9874566793441772, 0.9891183376312256, 0.972476065158844, 0.9814110398292542, 0.9926313757896423, 0.03506210818886757, 0.9583643078804016, 0.0943344458937645, 0.8961772322654724, 0.9789172410964966, 0.019194455817341805, 0.9976561069488525, 0.9922471642494202, 0.9905326962471008, 0.9747605919837952, 0.02275705710053444, 0.013972318731248379, 0.17884568870067596, 0.8048055768013, 0.9901447296142578, 0.637405514717102, 0.04450711980462074, 0.12398411333560944, 0.08265607804059982, 0.07947699725627899, 0.0031790798529982567, 0.015895400196313858, 0.00953723955899477, 0.15906599164009094, 0.7953299880027771, 0.9807663559913635, 0.9597821831703186, 0.9617608189582825, 0.18760032951831818, 0.7743502855300903, 0.005987244658172131, 0.02993622235953808, 0.06867365539073944, 0.041204195469617844, 0.17855150997638702, 0.07554102689027786, 0.5905934572219849, 0.03433682769536972, 0.9890017509460449, 0.9839906096458435, 0.6340578198432922, 0.13955339789390564, 0.16887982189655304, 0.007078795228153467, 0.03438271954655647, 0.014157590456306934, 0.0020225129555910826, 0.9745437502861023, 0.12705716490745544, 0.2011738419532776, 0.04588175192475319, 0.1023516058921814, 0.024705559015274048, 0.2047032117843628, 0.07058731466531754, 0.1023516058921814, 0.010588097386062145, 0.105880968272686, 0.9840924739837646, 0.968643307685852, 0.47352030873298645, 0.06158501282334328, 0.050636567175388336, 0.28739672899246216, 0.03558245301246643, 0.06158501282334328, 0.00821133516728878, 0.02189689315855503, 0.9770151376724243, 0.04880128800868988, 0.09272244572639465, 0.2440064400434494, 0.17080450057983398, 0.04880128800868988, 0.39529043436050415, 0.18218298256397247, 0.04752599447965622, 0.7683369517326355, 0.003969627898186445, 0.928892970085144, 0.06351404637098312, 0.17123523354530334, 0.14269602298736572, 0.006585970520973206, 0.10537552833557129, 0.019757911562919617, 0.38857224583625793, 0.028539204970002174, 0.026343882083892822, 0.010976617224514484, 0.06366438418626785, 0.03732049837708473, 0.0744796022772789, 0.9140678644180298, 0.9668481945991516, 0.9951561689376831, 0.9939767122268677, 0.0034754432272166014, 0.08488069474697113, 0.8912472724914551, 0.18784715235233307, 0.01211917120963335, 0.23632383346557617, 0.0242383424192667, 0.0242383424192667, 0.042417097836732864, 0.47264766693115234, 0.9501665830612183, 0.010674682445824146, 0.2668670415878296, 0.2668670415878296, 0.01334335282444954, 0.010674682445824146, 0.250855028629303, 0.02401803433895111, 0.03469271585345268, 0.12009017169475555, 0.12475080043077469, 0.40989547967910767, 0.38984623551368713, 0.022276928648352623, 0.04232616350054741, 0.00891077145934105, 0.5533192157745361, 0.2380131334066391, 0.03476136922836304, 0.06379733979701996, 0.0200389064848423, 0.026173265650868416, 0.005725401919335127, 0.004089572932571173, 0.049483831971883774, 0.004498530179262161, 0.6564706563949585, 0.10642442852258682, 0.02464565634727478, 0.11874725669622421, 0.04929131269454956, 0.023525400087237358, 0.020164627581834793, 0.27203091979026794, 0.6924422979354858, 0.2830994129180908, 0.139711394906044, 0.1360347867012024, 0.007353231776505709, 0.025736311450600624, 0.022059693932533264, 0.3786914348602295, 0.9750964045524597, 0.9872011542320251, 0.9352481365203857, 0.060338590294122696, 0.17875972390174866, 0.14195625483989716, 0.20504792034626007, 0.09463749825954437, 0.042061109095811844, 0.042061109095811844, 0.2944277822971344, 0.9875471591949463, 0.9776347279548645, 0.9904556274414062, 0.09355024248361588, 0.8980823159217834, 0.9716618657112122, 0.9885541796684265, 0.10256681591272354, 0.2177572399377823, 0.18935412168502808, 0.015779510140419006, 0.08047550171613693, 0.012623608112335205, 0.16095100343227386, 0.02209131419658661, 0.05207238346338272, 0.07574164867401123, 0.0015779510140419006, 0.012623608112335205, 0.05522828549146652, 0.9910978674888611, 0.9909104704856873, 0.9836687445640564, 0.2889246344566345, 0.6861960291862488, 0.990355908870697, 0.9524741768836975, 0.15566031634807587, 0.3921279013156891, 0.21094949543476105, 0.07910606265068054, 0.03487471491098404, 0.12673981487751007, 0.009475653059780598, 0.10423218458890915, 0.08843943476676941, 0.028426960110664368, 0.1674032062292099, 0.13897624611854553, 0.031585510820150375, 0.022109858691692352, 0.36007481813430786, 0.015792755410075188, 0.031585510820150375, 0.2437668889760971, 0.014626013115048409, 0.11457043141126633, 0.20232650637626648, 0.014626013115048409, 0.03900270164012909, 0.043878037482500076, 0.03656503185629845, 0.03168969601392746, 0.04875337705016136, 0.0731300637125969, 0.05362871289253235, 0.034127362072467804, 0.04875337705016136, 0.9401343464851379, 0.4783003628253937, 0.07272402942180634, 0.2237662523984909, 0.0027970781084150076, 0.04755032807588577, 0.17621591687202454, 0.9692296385765076, 0.9671209454536438, 0.9678318500518799, 0.9805786609649658, 0.9956648945808411, 0.979682445526123, 0.9933459758758545, 0.9581020474433899, 0.019553102552890778, 0.06714095175266266, 0.33122870326042175, 0.1566622257232666, 0.004476063884794712, 0.42970210313796997, 0.025207338854670525, 0.9326715469360352, 0.025207338854670525, 0.984898030757904, 0.06214738264679909, 0.9322107434272766, 0.9843164682388306, 0.9835939407348633, 0.08152104169130325, 0.896731436252594, 0.8247768878936768, 0.16856753826141357, 0.018875012174248695, 0.2114001363515854, 0.5020753145217896, 0.015100010670721531, 0.15100009739398956, 0.09815006703138351, 0.9919700026512146, 0.9775688648223877, 0.961431622505188, 0.028699450194835663, 0.9779930710792542, 0.7180432677268982, 0.23532509803771973, 0.018101930618286133, 0.030169883742928505, 0.9972213506698608, 0.9873102307319641, 0.8135036826133728, 0.1135835349559784, 0.07060598582029343, 0.5277851819992065, 0.010348728857934475, 0.08796419203281403, 0.3725542426109314, 0.052317798137664795, 0.9435888528823853, 0.003736985381692648, 0.9874260425567627, 0.9855431318283081, 0.12292546778917313, 0.6782094836235046, 0.038149282336235046, 0.038149282336235046, 0.004238808993250132, 0.004238808993250132, 0.10597022622823715, 0.994056761264801, 0.9870887398719788, 0.9732936024665833, 0.9670419096946716, 0.19020326435565948, 0.28802207112312317, 0.14672823250293732, 0.04347503185272217, 0.04347503185272217, 0.05434378981590271, 0.22824391722679138, 0.2864486575126648, 0.049387700855731964, 0.6025299429893494, 0.049387700855731964, 0.29795041680336, 0.6703884601593018, 0.984779417514801, 0.9646393656730652, 0.03459259867668152, 0.937881588935852, 0.04332605004310608, 0.007645773701369762, 0.007645773701369762, 0.9003416895866394, 0.09615299850702286, 0.9272551536560059, 0.06979339569807053, 0.2832919955253601, 0.19048945605754852, 0.5226249098777771, 0.9240299463272095, 0.28152066469192505, 0.7024350762367249, 0.016399262472987175, 0.6569206714630127, 0.02775721065700054, 0.3053293228149414, 0.09520029276609421, 0.047600146383047104, 0.8472825884819031, 0.08972746878862381, 0.212083101272583, 0.15498380362987518, 0.11419859528541565, 0.04894225671887398, 0.3670669198036194, 0.9429196715354919, 0.9821707606315613, 0.9769243597984314, 0.14872202277183533, 0.685183584690094, 0.13809901475906372, 0.02124600298702717, 0.005311500746756792, 0.32980775833129883, 0.09443213790655136, 0.45806634426116943, 0.09020383656024933, 0.008456609211862087, 0.01832265406847, 0.9576287865638733, 0.9545267820358276, 0.9751805663108826, 0.9911254644393921, 0.3215297758579254, 0.6764652132987976, 0.015053555369377136, 0.022580333054065704, 0.9333204627037048, 0.007526777684688568, 0.015053555369377136, 0.6732485890388489, 0.3213231861591339, 0.7343140840530396, 0.07596352696418762, 0.18568861484527588, 0.9691354632377625, 0.7100282311439514, 0.15531867742538452, 0.04904800280928612, 0.019852763041853905, 0.01634933426976204, 0.018684953451156616, 0.026859620586037636, 0.0035034287720918655, 0.9936777353286743, 0.043897006660699844, 0.0036580839660018682, 0.9511018395423889, 0.9739603996276855, 0.2831804156303406, 0.7136146426200867, 0.9680792689323425, 0.9842294454574585, 0.9946542382240295, 0.9864049553871155, 0.6545272469520569, 0.1291060596704483, 0.0265409667044878, 0.12145866453647614, 0.0017993876244872808, 0.03553790599107742, 0.0008996938122436404, 0.028340354561805725, 0.0013495406601577997, 0.10577737540006638, 0.39666515588760376, 0.2732582092285156, 0.008814780972898006, 0.008814780972898006, 0.035259123891592026, 0.17188823223114014, 0.40158647298812866, 0.18500050902366638, 0.13085401058197021, 0.02256103791296482, 0.013536621816456318, 0.04512207582592964, 0.02256103791296482, 0.17597608268260956, 0.28235316276550293, 0.025668468326330185, 0.19893063604831696, 0.29133713245391846, 0.08727279305458069, 0.025668468326330185, 0.07828883081674576, 0.00898396410048008, 0.40558749437332153, 0.01672525890171528, 0.10871417820453644, 0.1170768067240715, 0.1296207457780838, 0.06690103560686111, 0.1547086387872696, 0.0820775032043457, 0.8536060452461243, 0.04924650117754936, 0.9830820560455322, 0.14255522191524506, 0.05482893064618111, 0.04660458862781525, 0.6195669174194336, 0.016448678448796272, 0.06031182408332825, 0.05208748206496239, 0.005482892971485853, 0.08966562151908875, 0.8518233895301819, 0.022416405379772186, 0.031382966786623, 0.877765417098999, 0.017415979877114296, 0.10449588298797607, 0.9597705006599426, 0.18332864344120026, 0.8066459894180298, 0.6572831869125366, 0.015006464906036854, 0.08103491365909576, 0.02100905030965805, 0.08103491365909576, 0.027011636644601822, 0.1170504242181778, 0.5938771367073059, 0.022761842235922813, 0.006207775324583054, 0.2421032339334488, 0.015519438311457634, 0.006207775324583054, 0.032073505222797394, 0.03931590914726257, 0.03310813382267952, 0.00931166298687458, 0.9659938216209412, 0.9972419738769531, 0.9457095265388489, 0.9879255294799805, 0.9953305125236511, 0.19347964227199554, 0.7950254082679749, 0.010553434491157532, 0.7685035467147827, 0.08468358218669891, 0.03599052503705025, 0.09738612174987793, 0.012702537700533867, 0.9913933873176575, 0.9602732062339783, 0.9731234908103943, 0.5264233350753784, 0.08543385565280914, 0.006910091266036034, 0.38131141662597656, 0.9890797734260559, 0.7690079212188721, 0.1694011092185974, 0.019499408081173897, 0.03778010234236717, 0.0036561391316354275, 0.9745299816131592, 0.8259695768356323, 0.1573275327682495, 0.992455005645752, 0.9196428656578064, 0.04300488159060478, 0.016540339216589928, 0.019848406314849854, 0.4543159008026123, 0.5380056500434875, 0.9850061535835266, 0.3462360203266144, 0.099129818379879, 0.06464987993240356, 0.06800209730863571, 0.11205979436635971, 0.151807501912117, 0.02154996059834957, 0.006704431958496571, 0.04453658312559128, 0.036874376237392426, 0.017239967361092567, 0.022986624389886856, 0.0014366640243679285, 0.006704431958496571, 0.9648311734199524, 0.10620257258415222, 0.13654616475105286, 0.04551538825035095, 0.1820615530014038, 0.5158410668373108, 0.8998987674713135, 0.057440344244241714, 0.012764520943164825, 0.02552904188632965, 0.9447361826896667, 0.02186889387667179, 0.030616451054811478, 0.9242581129074097, 0.9936385154724121, 0.9970986247062683, 0.9956124424934387, 0.8782533407211304, 0.11896658688783646, 0.06654765456914902, 0.765298068523407, 0.12200403958559036, 0.005545638035982847, 0.03881946578621864, 0.9677485227584839, 0.9926003813743591, 0.9577847719192505, 0.9576804041862488, 0.9338191747665405, 0.24699044227600098, 0.7409713268280029, 0.891203761100769, 0.10966099053621292, 0.8224574327468872, 0.9873937964439392, 0.9864397048950195, 0.006367299240082502, 0.9920252561569214, 0.90101557970047, 0.005596369970589876, 0.09140737354755402, 0.9579883217811584, 0.9940627813339233, 0.9891194105148315, 0.9866262078285217, 0.9844415783882141, 0.9622764587402344, 0.9735180735588074, 0.9892615675926208, 0.9953650832176208, 0.9593076109886169, 0.052380796521902084, 0.17023760080337524, 0.7595216035842896, 0.25453612208366394, 0.023677777498960495, 0.07695277780294418, 0.05327500030398369, 0.03551666811108589, 0.5564277768135071, 0.44346505403518677, 0.28008317947387695, 0.01750519871711731, 0.21589745581150055, 0.040845464915037155, 0.9738292098045349, 0.976398766040802, 0.9684731960296631, 0.9312113523483276, 0.987496554851532, 0.14680592715740204, 0.18350741267204285, 0.6239252090454102, 0.9918097853660583, 0.9944604635238647, 0.9623392820358276, 0.05831747129559517, 0.02082766778767109, 0.06664853543043137, 0.6498232483863831, 0.0958072766661644, 0.1041383445262909, 0.6078751087188721, 0.16740745306015015, 0.007440331391990185, 0.050594255328178406, 0.16591939330101013, 0.4109508693218231, 0.31502044200897217, 0.030161531642079353, 0.0934169664978981, 0.023877879604697227, 0.11268682777881622, 0.00418910151347518, 0.0004189101455267519, 0.0025134608149528503, 0.003351281164214015, 0.00209455075673759, 0.0012567304074764252, 0.956882894039154, 0.1405947357416153, 0.8060764670372009, 0.046864911913871765, 0.34271740913391113, 0.5416863560676575, 0.018406817689538002, 0.0964166671037674, 0.9719676971435547, 0.0907822921872139, 0.8722220063209534, 0.003560089971870184, 0.032040808349847794, 0.9885427951812744, 0.9593409299850464, 0.9901840686798096, 0.33550170063972473, 0.6608366966247559, 0.9816139340400696, 0.46246272325515747, 0.029836304485797882, 0.07865934818983078, 0.04068586975336075, 0.0162743479013443, 0.2766638994216919, 0.028480108827352524, 0.020342934876680374, 0.014918152242898941, 0.004068586975336075, 0.006780978292226791, 0.010849565267562866, 0.009493369609117508, 0.15354366600513458, 0.18096217513084412, 0.1699947714805603, 0.03290221467614174, 0.2687014043331146, 0.021934809163212776, 0.1754784733057022, 0.0622139610350132, 0.0622139610350132, 0.8709954619407654, 0.9933480024337769, 0.9967732429504395, 0.991352379322052, 0.9488873481750488, 0.9906044602394104, 0.9912567138671875, 0.8687044382095337, 0.06108077988028526, 0.04750727489590645, 0.02036026120185852, 0.9231459498405457, 0.054302703589200974, 0.00301681668497622, 0.018100900575518608, 0.2516099214553833, 0.6418620347976685, 0.06290248036384583, 0.03722799941897392, 0.0038511722814291716, 0.0012837240938097239, 0.05793789401650429, 0.9270063042640686, 0.9950887560844421, 0.9917293787002563, 0.1037951111793518, 0.8822584748268127, 0.9195976257324219, 0.05205269530415535, 0.37037134170532227, 0.20467889308929443, 0.11695937067270279, 0.06822630017995834, 0.23391874134540558, 0.002534005558118224, 0.19258441030979156, 0.8032797574996948, 0.9914394021034241, 0.9849610924720764, 0.9882522821426392, 0.9409433007240295, 0.05018364265561104, 0.2545035779476166, 0.37736737728118896, 0.22378763556480408, 0.014041577465832233, 0.039491936564445496, 0.055288709700107574, 0.014041577465832233, 0.015796774998307228, 0.0017551971832290292, 0.004387992899864912, 0.9972453117370605, 0.8926448822021484, 0.98568195104599, 0.16527512669563293, 0.36385196447372437, 0.025901326909661293, 0.0024667929392307997, 0.22817835211753845, 0.06166982650756836, 0.06413661688566208, 0.056736238300800323, 0.013567361049354076, 0.004933585878461599, 0.009867171756923199, 0.24882468581199646, 0.2769935131072998, 0.07746428996324539, 0.014084416441619396, 0.009389610961079597, 0.11267533153295517, 0.2605617046356201, 0.9903584122657776, 0.17228828370571136, 0.8040120005607605, 0.9983395338058472, 0.9627936482429504, 0.9948534965515137, 0.5493811368942261, 0.12957102060317993, 0.03282465785741806, 0.25568681955337524, 0.029369432479143143, 0.003455227240920067, 0.9767891764640808, 0.9830524921417236, 0.987830400466919, 0.9871208667755127, 0.9688300490379333, 0.9828813076019287, 0.3754052221775055, 0.04907257854938507, 0.007360886782407761, 0.09078426659107208, 0.4490140676498413, 0.007360886782407761, 0.004907257854938507, 0.014721773564815521, 0.29686009883880615, 0.6249686479568481, 0.07812108099460602, 0.9829553961753845, 0.23886047303676605, 0.01128474622964859, 0.4231779873371124, 0.035735029727220535, 0.19748306274414062, 0.016927119344472885, 0.07711243629455566, 0.905884325504303, 0.9809018969535828, 0.9827871918678284, 0.964583694934845, 0.9494214057922363, 0.025660037994384766, 0.9918650388717651, 0.911590039730072, 0.021011827513575554, 0.017779238522052765, 0.03232588991522789, 0.012930355034768581, 0.0032325887586921453, 0.0016162943793460727, 0.9860016703605652, 0.9732711315155029, 0.05297559127211571, 0.016440700739622116, 0.4913942515850067, 0.03288140147924423, 0.12787210941314697, 0.0712430328130722, 0.018267445266246796, 0.018267445266246796, 0.12239187955856323, 0.009133722633123398, 0.021920934319496155, 0.016440700739622116, 0.02358076348900795, 0.1310042440891266, 0.4742353558540344, 0.041921358555555344, 0.10742347687482834, 0.020960679277777672, 0.028820933774113655, 0.005240169819444418, 0.16768543422222137, 0.9794096350669861, 0.9645625352859497, 0.978244960308075, 0.9903094172477722, 0.9836231470108032, 0.2922036647796631, 0.27477866411209106, 0.2198229432106018, 0.2117806375026703, 0.012210315093398094, 0.07685315608978271, 0.18602773547172546, 0.08762696385383606, 0.34907135367393494, 0.08188093453645706, 0.06320633739233017, 0.06823410838842392, 0.06105157360434532, 0.001436507562175393, 0.01077380683273077, 0.977626383304596, 0.9843649864196777, 0.0822223350405693, 0.9044457077980042, 0.17297297716140747, 0.7413127422332764, 0.04942084848880768, 0.9854501485824585, 0.9867876172065735, 0.3504204750061035, 0.16352955996990204, 0.011680682189762592, 0.478907972574234, 0.9914805293083191, 0.9879562854766846, 0.9535529017448425, 0.1363941878080368, 0.776206910610199, 0.02727883867919445, 0.03223862871527672, 0.02727883867919445, 0.9750604033470154, 0.9477485418319702, 0.9839183688163757, 0.9771143794059753, 0.016285238787531853, 0.024243783205747604, 0.056568827480077744, 0.08081261068582535, 0.2586003541946411, 0.5818507671356201, 0.9891905784606934, 0.036260467022657394, 0.9618566036224365, 0.9977507591247559, 0.9878425002098083, 0.42368847131729126, 0.02720935083925724, 0.07774100452661514, 0.14770790934562683, 0.02137877605855465, 0.13021618127822876, 0.06996690481901169, 0.01360467541962862, 0.08940215408802032, 0.9799068570137024, 0.9933235049247742, 0.9696440100669861, 0.9637605547904968, 0.993769109249115, 0.9988616108894348, 0.9868322014808655, 0.09256497770547867, 0.9071367979049683, 0.055592235177755356, 0.8894757628440857, 0.05367526412010193, 0.9816045165061951, 0.9934709668159485, 0.02408384345471859, 0.04616070166230202, 0.42146727442741394, 0.022076856344938278, 0.1565449833869934, 0.11640524119138718, 0.03411877900362015, 0.012041921727359295, 0.056195635348558426, 0.08228646218776703, 0.028097817674279213, 0.2778150737285614, 0.6791035532951355, 0.03858542814850807, 0.3807464838027954, 0.616259753704071, 0.9860720038414001, 0.9909587502479553, 0.8620287179946899, 0.13117828965187073, 0.976005494594574, 0.04553676396608353, 0.9335036873817444, 0.9778417348861694, 0.9898058176040649, 0.9930865168571472, 0.6934587359428406, 0.13308805227279663, 0.043428730219602585, 0.022414829581975937, 0.025216681882739067, 0.043428730219602585, 0.002801853697746992, 0.030820390209555626, 0.0042027803137898445, 0.027698731049895287, 0.2354392111301422, 0.7340163588523865, 0.5491047501564026, 0.4497985541820526, 0.002526112599298358, 0.9952883720397949, 0.9879502058029175, 0.00784087460488081, 0.9839180111885071, 0.006494508590549231, 0.009741762652993202, 0.5394790172576904, 0.005678726360201836, 0.25270330905914307, 0.2015947848558426, 0.052671074867248535, 0.8098177909851074, 0.1382615715265274, 0.5236262679100037, 0.31571146845817566, 0.03809801861643791, 0.06674536317586899, 0.009450671263039112, 0.0029533347114920616, 0.03219134733080864, 0.010927338153123856, 0.9932488799095154, 0.9788805246353149, 0.32758828997612, 0.08819684386253357, 0.0629977434873581, 0.037798646837472916, 0.44518405199050903, 0.033598799258470535, 0.9882268905639648, 0.9847695827484131, 0.9881175756454468, 0.3492996394634247, 0.12346608936786652, 0.02813151478767395, 0.024224359542131424, 0.08283168077468872, 0.2516207695007324, 0.020317204296588898, 0.02813151478767395, 0.010158602148294449, 0.009377171285450459, 0.03125723823904991, 0.00625144736841321, 0.017191480845212936, 0.010158602148294449, 0.00625144736841321, 0.9970129132270813, 0.9908884763717651, 0.990879476070404, 0.07483275234699249, 0.9066275954246521, 0.01726909726858139, 0.956710159778595, 0.9852291941642761, 0.9919757843017578, 0.9819186329841614, 0.9880700707435608, 0.9853596687316895, 0.48329854011535645, 0.5011985301971436, 0.9925891160964966, 0.9644425511360168, 0.027295542880892754, 0.06443290412425995, 0.9235382676124573, 0.40946444869041443, 0.014298758469522, 0.518655002117157, 0.05199548602104187, 0.0012998871970921755, 0.002599774394184351, 0.9631518125534058, 0.522522509098053, 0.3015552759170532, 0.07928824424743652, 0.0340549498796463, 0.0031195373740047216, 0.02911568246781826, 0.0010398458689451218, 0.0036394603084772825, 0.022356685250997543, 0.002339653205126524, 0.0007798843435011804, 0.08642727136611938, 0.18817076086997986, 0.2505296766757965, 0.032820481806993484, 0.08314522355794907, 0.03391449898481369, 0.0700170248746872, 0.0087521281093359, 0.1761365830898285, 0.00437606405466795, 0.01969228871166706, 0.04485465958714485, 0.08771379292011261, 0.18090969324111938, 0.2247665822505951, 0.06304428726434708, 0.027410559356212616, 0.01918739080429077, 0.20009708404541016, 0.013705279678106308, 0.010964224115014076, 0.005482112057507038, 0.1644633561372757, 0.12291285395622253, 0.035756468772888184, 0.15755192935466766, 0.02681734971702099, 0.011173896491527557, 0.032404299825429916, 0.46818625926971436, 0.0011173896491527557, 0.0033521687146276236, 0.02123040333390236, 0.058104258030653, 0.0290521290153265, 0.032404299825429916, 0.0011173896491527557, 0.9820192456245422, 0.9712445735931396, 0.9448627233505249, 0.5585935711860657, 0.12513947486877441, 0.015415732748806477, 0.019042963162064552, 0.12967351078987122, 0.024483811110258102, 0.025390617549419403, 0.0018136155558750033, 0.030831465497612953, 0.06256973743438721, 0.008161270059645176, 0.16903287172317505, 0.6504747271537781, 0.05584121495485306, 0.02112910896539688, 0.004527666140347719, 0.015092220157384872, 0.012073776684701443, 0.0664057731628418, 0.004527666140347719, 0.9655069708824158, 0.9974881410598755, 0.986413300037384, 0.4003102779388428, 0.056736890226602554, 0.044128693640232086, 0.1576024740934372, 0.01576024666428566, 0.06934508681297302, 0.25216394662857056, 0.10396343469619751, 0.8663619160652161, 0.5141192078590393, 0.47457155585289, 0.27023401856422424, 0.14429971575737, 0.5640807151794434, 0.005247262306511402, 0.013118156231939793, 0.9959598779678345, 0.9577710628509521, 0.3301124572753906, 0.30895140767097473, 0.0465543232858181, 0.012696633115410805, 0.2962547838687897, 0.481901079416275, 0.5094382762908936, 0.9091015458106995, 0.32448819279670715, 0.024135485291481018, 0.6114322543144226, 0.004469534382224083, 0.003575627226382494, 0.003575627226382494, 0.005363441072404385, 0.022347670048475266, 0.024392234161496162, 0.9695913195610046, 0.367299348115921, 0.20515820384025574, 0.16214115917682648, 0.05956205725669861, 0.04632604494690895, 0.1588321477174759, 0.9560033082962036, 0.509062647819519, 0.20158880949020386, 0.08145002275705338, 0.08043190091848373, 0.015780942514538765, 0.03054375946521759, 0.045306574553251266, 0.024944068863987923, 0.009672190062701702, 0.001018125331029296, 0.9886650443077087, 0.9909235835075378, 0.9637746810913086, 0.3967331349849701, 0.09918328374624252, 0.48489606380462646, 0.5057210326194763, 0.07307547330856323, 0.07597913593053818, 0.16889630258083344, 0.03145633265376091, 0.012098588980734348, 0.06871998310089111, 0.018389854580163956, 0.03435999155044556, 0.00387154845520854, 0.0014518306124955416, 0.005323379300534725, 0.9795599579811096, 0.9946271181106567, 0.9892588257789612, 0.9889005422592163, 0.9845818877220154, 0.12316212803125381, 0.28481242060661316, 0.007697633001953363, 0.10776685923337936, 0.015395266003906727, 0.046185798943042755, 0.4079745411872864, 0.9797600507736206, 0.01670045591890812, 0.9862686991691589, 0.7097059488296509, 0.21737444400787354, 0.00431869737803936, 0.05038480460643768, 0.01727478951215744, 0.0014395659090951085, 0.9856885671615601, 0.08078286796808243, 0.05102075636386871, 0.7695630788803101, 0.029762107878923416, 0.05102075636386871, 0.0042517296969890594, 0.008503459393978119, 0.9524864554405212, 0.05997089296579361, 0.9348403811454773, 0.0844176709651947, 0.9117108583450317, 0.987162172794342, 0.6557462811470032, 0.3192700445652008, 0.003823593258857727, 0.0210297629237175, 0.992138147354126, 0.08323738723993301, 0.12485607713460922, 0.14476066827774048, 0.42342495918273926, 0.005428525153547525, 0.21352198719978333, 0.003619016846641898, 0.9752803444862366, 0.9857560992240906, 0.1232900321483612, 0.5729360580444336, 0.2973465621471405, 0.9748751521110535, 0.9963721632957458, 0.9792755246162415, 0.1268405169248581, 0.26636508107185364, 0.24733899533748627, 0.04439418017864227, 0.2600230574607849, 0.05390721932053566, 0.8875720500946045, 0.11094650626182556, 0.09220781922340393, 0.11348655074834824, 0.14895109832286835, 0.09220781922340393, 0.08511491119861603, 0.049650367349386215, 0.21278728544712067, 0.021278727799654007, 0.021278727799654007, 0.16313691437244415, 0.028702186420559883, 0.9643934369087219, 0.9876498579978943, 0.9254541397094727, 0.9742018580436707, 0.27905717492103577, 0.018603811040520668, 0.024805082008242607, 0.38447877764701843, 0.29145970940589905, 0.9550852179527283, 0.04056346416473389, 0.9853439331054688, 0.9672343730926514, 0.03157144784927368, 0.983672559261322, 0.010037475265562534, 0.9941017031669617, 0.9930386543273926, 0.16522693634033203, 0.8301645517349243, 0.9965551495552063, 0.9853686094284058, 0.06658073514699936, 0.8655495643615723, 0.9961788654327393, 0.9974222183227539, 0.9452973008155823, 0.505159854888916, 0.2782827913761139, 0.04497998580336571, 0.07414283603429794, 0.04646284505724907, 0.04151998832821846, 0.008897140622138977, 0.30332475900650024, 0.6337320804595947, 0.05958164855837822, 0.3519029915332794, 0.12782126665115356, 0.060754548758268356, 0.2524864375591278, 0.005523141007870436, 0.005523141007870436, 0.005523141007870436, 0.018147462978959084, 0.006312161218374968, 0.052864350378513336, 0.10099457949399948, 0.002367060398682952, 0.0071011814288794994, 0.003156080609187484, 0.9934259057044983, 0.9876059889793396, 0.2701796293258667, 0.03132517263293266, 0.16739389300346375, 0.14487892389297485, 0.011746940203011036, 0.026430616155266762, 0.18011975288391113, 0.00489455834031105, 0.1399843692779541, 0.023493880406022072, 0.013705435208976269, 0.8406000137329102, 0.1439070701599121, 0.010559865273535252, 0.3044761121273041, 0.01759977452456951, 0.06335918605327606, 0.34847554564476013, 0.22351713478565216, 0.015839796513319016, 0.015839796513319016, 0.03972380608320236, 0.013241269625723362, 0.9268888235092163, 0.9917640686035156, 0.2747708261013031, 0.5429994463920593, 0.1766383796930313, 0.9855570793151855, 0.23681271076202393, 0.4339466989040375, 0.15430615842342377, 0.05353479087352753, 0.0006298210355453193, 0.008817494846880436, 0.0018894631648436189, 0.07053995877504349, 0.035899799317121506, 0.0031491052359342575, 0.9666070938110352, 0.9910540580749512, 0.1158393993973732, 0.8649341464042664, 0.015445252880454063, 0.6767296195030212, 0.17535051703453064, 0.011455059051513672, 0.10221437364816666, 0.025553593412041664, 0.007049267180263996, 0.9631528258323669, 0.9652962684631348, 0.30612778663635254, 0.02367839217185974, 0.054122041910886765, 0.5276898741722107, 0.01183919608592987, 0.015221823938190937, 0.02029576525092125, 0.0405915305018425, 0.016352882608771324, 0.9075850248336792, 0.07358797639608383, 0.23247148096561432, 0.7361596822738647, 0.019372623413801193, 0.9742521643638611, 0.7713738083839417, 0.22266459465026855, 0.9713629484176636, 0.963799774646759, 0.9744632840156555, 0.9790747761726379, 0.9893607497215271, 0.9920839667320251, 0.9929932951927185, 0.9581692814826965, 0.30246007442474365, 0.6874092817306519, 0.06629470735788345, 0.9040187001228333, 0.02410716563463211, 0.9946393966674805, 0.16203764081001282, 0.1002708226442337, 0.14358781278133392, 0.0016043330542743206, 0.004812999162822962, 0.022460663691163063, 0.10428164899349213, 0.019251996651291847, 0.11390765011310577, 0.2181892991065979, 0.007219498977065086, 0.09625998884439468, 0.005615165922790766, 0.9847022891044617, 0.10841042548418045, 0.880834698677063, 0.9872754216194153, 0.9538682103157043, 0.9513259530067444, 0.996344804763794, 0.1048775464296341, 0.8540028929710388, 0.01498250663280487, 0.987176775932312, 0.2840766906738281, 0.08961943536996841, 0.26547643542289734, 0.03720051795244217, 0.011836528778076172, 0.005072798114269972, 0.03212772309780121, 0.023673057556152344, 0.020291192457079887, 0.2130575180053711, 0.018600258976221085, 0.9864238500595093, 0.9973757863044739, 0.9908391237258911, 0.9638153314590454, 0.9827048778533936, 0.9695017337799072, 0.9875324368476868, 0.9889795780181885, 0.14805278182029724, 0.14374056458473206, 0.017248868942260742, 0.6899547576904297, 0.9880040287971497, 0.08841077238321304, 0.4567889869213104, 0.01263011060655117, 0.2989126145839691, 0.1410362273454666, 0.9849309325218201, 0.42551758885383606, 0.055317286401987076, 0.017020702362060547, 0.4978555738925934, 0.27917835116386414, 0.711904764175415, 0.9903239011764526, 0.9946269392967224, 0.13496509194374084, 0.8367835879325867, 0.02377897873520851, 0.9511591196060181, 0.07283728569746017, 0.16995365917682648, 0.3560933768749237, 0.04855818673968315, 0.34800034761428833, 0.9733098745346069, 0.34955301880836487, 0.08785557001829147, 0.11682921648025513, 0.1224370151758194, 0.06075119227170944, 0.012150238268077374, 0.03925461694598198, 0.02056194096803665, 0.028039012104272842, 0.12150238454341888, 0.00934633705765009, 0.0028039012104272842, 0.02710437774658203, 0.0009346337174065411, 0.20649836957454681, 0.743394136428833, 0.9876381158828735, 0.9847486615180969, 0.013757864013314247, 0.9217768907546997, 0.05503145605325699, 0.9950984120368958, 0.9798033237457275, 0.13230417668819427, 0.3183569312095642, 0.5457547307014465, 0.9663766026496887, 0.987185537815094, 0.9797970652580261, 0.8371045589447021, 0.017211029306054115, 0.005737009923905134, 0.08929780125617981, 0.000498870387673378, 0.012222325429320335, 0.005487574730068445, 0.000498870387673378, 0.0027437873650342226, 0.02868504822254181, 0.000249435193836689, 0.127754345536232, 0.059618692845106125, 0.3342905342578888, 0.010646195150911808, 0.05536021292209625, 0.01277543418109417, 0.027680106461048126, 0.3704875707626343, 0.9629805684089661, 0.8843601942062378, 0.08226606249809265, 0.027422022074460983, 0.977431058883667, 0.01758430339396, 0.3384978473186493, 0.23519006371498108, 0.06154506281018257, 0.29453709721565247, 0.02198037877678871, 0.030772531405091286, 0.9896262884140015, 0.2806948721408844, 0.04750220850110054, 0.11659633368253708, 0.05613897368311882, 0.01295514777302742, 0.3756992816925049, 0.05182059109210968, 0.00863676518201828, 0.04750220850110054, 0.980049192905426, 0.9883755445480347, 0.9947025775909424, 0.009764248505234718, 0.9764248728752136, 0.911085844039917, 0.08816959708929062, 0.9928527474403381, 0.9898456335067749, 0.9853467345237732, 0.13911522924900055, 0.32103514671325684, 0.2140234261751175, 0.3103339672088623, 0.9853952527046204, 0.9874065518379211, 0.03500925377011299, 0.06126619502902031, 0.8419725298881531, 0.036759715527296066, 0.02275601588189602, 0.09299685806035995, 0.8697941303253174, 0.010940806940197945, 0.016411209478974342, 0.15169034898281097, 0.8440206050872803, 0.996677577495575, 0.9859044551849365, 0.9883845448493958, 0.10682003945112228, 0.48741066455841064, 0.04315246641635895, 0.08206042647361755, 0.23769228160381317, 0.03395603969693184, 0.00424450496211648, 0.00424450496211648, 0.9729819893836975, 0.9730255603790283, 0.9800422191619873, 0.5070287585258484, 0.10720957815647125, 0.058038268238306046, 0.1982974112033844, 0.0048365225084125996, 0.042722612619400024, 0.006448696367442608, 0.02095826342701912, 0.018540002405643463, 0.004030435346066952, 0.03143739700317383, 0.9778746366500854, 0.16818316280841827, 0.021801520138978958, 0.07474806904792786, 0.09032058715820312, 0.006229005753993988, 0.4516029357910156, 0.024916023015975952, 0.059175554662942886, 0.1027785986661911, 0.8027247786521912, 0.1945999413728714, 0.19229356944561005, 0.560515284538269, 0.08182705193758011, 0.15956275165081024, 0.2242790013551712, 0.7401207089424133, 0.8381142020225525, 0.09007769823074341, 0.046997059136629105, 0.023498529568314552, 0.38894006609916687, 0.21073006093502045, 0.10406423360109329, 0.01430883165448904, 0.05593452230095863, 0.21853488683700562, 0.0026016058400273323, 0.0026016058400273323, 0.2397150844335556, 0.004358456004410982, 0.019613051787018776, 0.14600828289985657, 0.002179228002205491, 0.5578823685646057, 0.008716912008821964, 0.019613051787018776, 0.18627382814884186, 0.3964289128780365, 0.05635977163910866, 0.12322729825973511, 0.1461533159017563, 0.02483651041984558, 0.06495703011751175, 0.966464638710022, 0.9640226364135742, 0.0033461942803114653, 0.9954928159713745, 0.035916268825531006, 0.08840927481651306, 0.14090228080749512, 0.005525579676032066, 0.43099522590637207, 0.05801858752965927, 0.1685301810503006, 0.0690697431564331, 0.9907072186470032, 0.9795726537704468, 0.10561937838792801, 0.7164514660835266, 0.0017603229498490691, 0.0070412917993962765, 0.026404844596982002, 0.0070412917993962765, 0.13378454744815826, 0.906705379486084, 0.08789490908384323, 0.997765839099884, 0.9447498321533203, 0.10387527197599411, 0.8829398155212402, 0.9579129219055176, 0.407416969537735, 0.49541905522346497, 0.09452074021100998, 0.24721823632717133, 0.04467799514532089, 0.4795438051223755, 0.22934703528881073, 0.26382461190223694, 0.44254451990127563, 0.18330246210098267, 0.06677447259426117, 0.007201168220490217, 0.018330246210098267, 0.0006546516669914126, 0.009165123105049133, 0.0026186066679656506, 0.005237213335931301, 0.06367023289203644, 0.7958779335021973, 0.11142291128635406, 0.06705129146575928, 0.24026712775230408, 0.11733976006507874, 0.05028846859931946, 0.03352564573287964, 0.48612186312675476, 0.0055876076221466064, 0.9886665344238281, 0.9906753301620483, 0.5913272500038147, 0.1367838829755783, 0.09539798647165298, 0.17606540024280548, 0.03387407585978508, 0.602205753326416, 0.03387407585978508, 0.05457489937543869, 0.18442551791667938, 0.02634650282561779, 0.0037637860514223576, 0.03575596958398819, 0.02070082351565361, 0.12678967416286469, 0.09861419349908829, 0.657427966594696, 0.07983053475618362, 0.03756731003522873, 0.9852568507194519, 0.9521991014480591, 0.9848225116729736, 0.9815945029258728, 0.9874932169914246, 0.965817928314209, 0.9844120740890503, 0.17638833820819855, 0.024669697508215904, 0.012334848754107952, 0.2775340974330902, 0.20352500677108765, 0.11471409350633621, 0.18748970329761505, 0.0024669698905199766, 0.9952816963195801, 0.4239068031311035, 0.1695627123117447, 0.05652090534567833, 0.3391254246234894, 0.9761630296707153, 0.9859407544136047, 0.9917358160018921, 0.39236196875572205, 0.17939288914203644, 0.039332129061222076, 0.30218586325645447, 0.0556405745446682, 0.024942325428128242, 0.004796601366251707, 0.9296426773071289, 0.9684406518936157, 0.24637259542942047, 0.7391178011894226, 0.2962368428707123, 0.037029605358839035, 0.6480181217193604, 0.9780028462409973, 0.019526397809386253, 0.9502847194671631, 0.019526397809386253, 0.9699299335479736, 0.016579998657107353, 0.9698075652122498, 0.34350448846817017, 0.11911848932504654, 0.1735990345478058, 0.1883734166622162, 0.07387193292379379, 0.016621183604002, 0.08310592174530029, 0.0009233991149812937, 0.0009233991149812937, 0.3580476939678192, 0.004972884431481361, 0.3878850042819977, 0.07459326833486557, 0.019891537725925446, 0.14918653666973114, 0.6711820363998413, 0.2152581810951233, 0.010586467571556568, 0.05928421765565872, 0.0007057645125314593, 0.03881704807281494, 0.0014115290250629187, 0.0028230580501258373, 0.9888144135475159, 0.9749371409416199, 0.9603770971298218, 0.9744491577148438, 0.037955477833747864, 0.9488869309425354, 0.9593876004219055, 0.030184684321284294, 0.9659098982810974, 0.00251539028249681, 0.9934567213058472, 0.12721551954746246, 0.8492496013641357, 0.02062954567372799, 0.9911565780639648, 0.744321882724762, 0.131253182888031, 0.02159862592816353, 0.04485868662595749, 0.00830716360360384, 0.04652011767029762, 0.1813403069972992, 0.03430762514472008, 0.1176261454820633, 0.03920871391892433, 0.5391198396682739, 0.009802178479731083, 0.07351633906364441, 0.993788480758667, 0.9834572076797485, 0.2636561691761017, 0.008325984701514244, 0.6466514468193054, 0.01942729763686657, 0.06105722114443779, 0.02787940204143524, 0.22303521633148193, 0.7457740306854248, 0.02421136200428009, 0.43378689885139465, 0.14325055480003357, 0.3530823588371277, 0.01412329450249672, 0.030264202505350113, 0.9410163760185242, 0.052603401243686676, 0.9958222508430481, 0.978851318359375, 0.14515985548496246, 0.013440728187561035, 0.22311608493328094, 0.024193311110138893, 0.06182734668254852, 0.024193311110138893, 0.02688145637512207, 0.010752581991255283, 0.04301032796502113, 0.27419084310531616, 0.013440728187561035, 0.12634284794330597, 0.013440728187561035, 0.960753858089447, 0.9900177717208862, 0.9758408069610596, 0.9145888090133667, 0.0753190740942955, 0.6933965682983398, 0.13315020501613617, 0.017490068450570107, 0.03328755125403404, 0.0637541189789772, 0.02369622141122818, 0.01354069821536541, 0.0016925872769206762, 0.019746851176023483, 0.9731374382972717, 0.9813818335533142, 0.994165301322937, 0.9747201800346375, 0.9730255603790283, 0.18385162949562073, 0.4265357553958893, 0.0661865845322609, 0.02573922649025917, 0.1139880046248436, 0.04412439092993736, 0.02941625937819481, 0.10663393884897232, 0.19967693090438843, 0.7701824307441711, 0.9912587404251099, 0.8398537635803223, 0.15644334256649017, 0.9800065159797668, 0.5610703825950623, 0.18152275681495667, 0.020627586171030998, 0.03300413861870766, 0.2021503448486328, 0.9273783564567566, 0.05455166846513748, 0.9556464552879333, 0.9876877069473267, 0.17388781905174255, 0.18588007986545563, 0.020986462011933327, 0.02998065948486328, 0.5876209139823914, 0.9667515754699707, 0.13211730122566223, 0.289572149515152, 0.5194200873374939, 0.047055475413799286, 0.012668781913816929, 0.02186252549290657, 0.14210642874240875, 0.31427380442619324, 0.4536474347114563, 0.046457868069410324, 0.005465631373226643, 0.016396895051002502, 0.16038085520267487, 0.6083411574363708, 0.22121496498584747, 0.011060748249292374, 0.13510286808013916, 0.012866939418017864, 0.3441906273365021, 0.5082440972328186, 0.9852764010429382, 0.9887936115264893, 0.7096135020256042, 0.03710770234465599, 0.08620405197143555, 0.005137989763170481, 0.025119060650467873, 0.06793564558029175, 0.009705091826617718, 0.004567102063447237, 0.05366344749927521, 0.9648372530937195, 0.586601972579956, 0.012821901589632034, 0.38465702533721924, 0.016027376055717468, 0.9977587461471558, 0.9936611652374268, 0.9899449348449707, 0.009358825162053108, 0.98267662525177, 0.3038717806339264, 0.6576653718948364, 0.023875638842582703, 0.013023076578974724, 0.05708032846450806, 0.9323120713233948, 0.9872415065765381, 0.5901381373405457, 0.39947810769081116, 0.061791133135557175, 0.9268670082092285, 0.9891713857650757, 0.1778731495141983, 0.8131343722343445, 0.007623135112226009, 0.9946109056472778, 0.9978370666503906, 0.9744230508804321, 0.976620614528656, 0.998885452747345, 0.3556170165538788, 0.1522519290447235, 0.04350055009126663, 0.05655071884393692, 0.03262541443109512, 0.21859027445316315, 0.003262541489675641, 0.06307580322027206, 0.013050165958702564, 0.02718784473836422, 0.033712927252054214, 0.06092621386051178, 0.20308737456798553, 0.004061747342348099, 0.7148675918579102, 0.012185242958366871, 0.15001459419727325, 0.8455367684364319, 0.18980510532855988, 0.04103894159197807, 0.04873374477028847, 0.06412334740161896, 0.03334414213895798, 0.620714008808136, 0.14285783469676971, 0.8523851037025452, 0.15098018944263458, 0.33526483178138733, 0.4573811888694763, 0.002220296999439597, 0.05106683075428009, 0.9918467998504639, 0.9812182784080505, 0.04039887338876724, 0.20199435949325562, 0.049236126244068146, 0.005049859173595905, 0.006312323734164238, 0.0025249295867979527, 0.6059830784797668, 0.005049859173595905, 0.0012624647933989763, 0.06817309558391571, 0.011362182907760143, 0.003787394380196929, 0.9911227226257324, 0.027674326673150063, 0.04612387716770172, 0.9224775433540344, 0.9870683550834656, 0.41492560505867004, 0.06692348420619965, 0.5153108239173889, 0.8615596294403076, 0.03205803409218788, 0.004007254261523485, 0.04808704927563667, 0.02003627084195614, 0.03606528788805008, 0.8139897584915161, 0.18452733755111694, 0.045872438699007034, 0.23419086635112762, 0.12554562091827393, 0.42733797430992126, 0.05311545357108116, 0.08208751678466797, 0.024143388494849205, 0.004828677512705326, 0.5800129175186157, 0.4015474021434784, 0.9277109503746033, 0.1483171582221985, 0.029663432389497757, 0.8305761218070984, 0.9885804653167725, 0.9864062666893005, 0.6532519459724426, 0.026130078360438347, 0.32102668285369873, 0.9848031997680664, 0.9961900115013123, 0.9773026704788208, 0.997380256652832, 0.4598400890827179, 0.22478026151657104, 0.04797139763832092, 0.08018076419830322, 0.03700650483369827, 0.04797139763832092, 0.0054824454709887505, 0.015762031078338623, 0.02398569881916046, 0.05002731457352638, 0.0006853056838735938, 0.003426528302952647, 0.0027412227354943752, 0.9228538870811462, 0.05164792388677597, 0.05164792388677597, 0.16970032453536987, 0.1807677298784256, 0.5164792537689209, 0.025823961943387985, 0.2545986771583557, 0.13201412558555603, 0.5893487930297852, 0.01885916106402874, 0.09337017685174942, 0.24615773558616638, 0.3819688856601715, 0.010610247030854225, 0.0021220494527369738, 0.22918133437633514, 0.008488197810947895, 0.023342544212937355, 0.9851426482200623, 0.976320207118988, 0.22503694891929626, 0.759499728679657, 0.9897932410240173, 0.9851637482643127, 0.026847679167985916, 0.2738463282585144, 0.04832582175731659, 0.6443442702293396, 0.9926888942718506, 0.36826273798942566, 0.6050031185150146, 0.9786021709442139, 0.9718029499053955, 0.9683961868286133, 0.21836143732070923, 0.5721489787101746, 0.16377107799053192, 0.04094276949763298, 0.004199258517473936, 0.9934979677200317, 0.2199293076992035, 0.3701249361038208, 0.016092387959361076, 0.396945595741272, 0.14531613886356354, 0.25326529145240784, 0.14531613886356354, 0.024911338463425636, 0.17022748291492462, 0.22835394740104675, 0.029063228517770767, 0.5891523361206055, 0.19831575453281403, 0.07147093862295151, 0.09851399064064026, 0.0006438823183998466, 0.03283799812197685, 0.009014352224767208, 0.2816930115222931, 0.22414281964302063, 0.042405400425195694, 0.018173743039369583, 0.021202700212597847, 0.03331852704286575, 0.04846331477165222, 0.051492270082235336, 0.02423165738582611, 0.25140345096588135, 0.17098581790924072, 0.749707043170929, 0.06050267070531845, 0.018413856625556946, 0.11254797130823135, 0.8628677725791931, 0.027862265706062317, 0.06655985862016678, 0.433413028717041, 0.11764068156480789, 0.06655985862016678, 0.018574843183159828, 0.02631436288356781, 0.020122747868299484, 0.07894308865070343, 0.1424071341753006, 0.014059675857424736, 0.014059675857424736, 0.33274564146995544, 0.08435805141925812, 0.04686558619141579, 0.23901449143886566, 0.27182039618492126, 0.08131787180900574, 0.24395360052585602, 0.6722277402877808, 0.007389252074062824, 0.07635560631752014, 0.8957415819168091, 0.019704671576619148, 0.9905824661254883, 0.9693722128868103, 0.9875073432922363, 0.9828273057937622, 0.0749969333410263, 0.0749969333410263, 0.6937216520309448, 0.13124462962150574, 0.913895845413208, 0.008123518899083138, 0.03858671337366104, 0.016247037798166275, 0.02030879631638527, 0.9866837859153748, 0.9610801935195923, 0.9393137693405151, 0.9734714031219482, 0.010301284492015839, 0.015451926738023758, 0.980675458908081, 0.026054900139570236, 0.3161327838897705, 0.2674969732761383, 0.116378553211689, 0.06426875293254852, 0.2084392011165619, 0.9614735245704651, 0.030046047642827034, 0.48317378759384155, 0.017634080722928047, 0.04467300325632095, 0.0035268159117549658, 0.015282869338989258, 0.18104322254657745, 0.1598823219537735, 0.022336501628160477, 0.05760465934872627, 0.005878026597201824, 0.009404842741787434, 0.2127191573381424, 0.03090791031718254, 0.005454337224364281, 0.023635461926460266, 0.3727130591869354, 0.3218058943748474, 0.03090791031718254, 0.0036362248938530684, 0.12179017066955566, 0.17398595809936523, 0.6219998002052307, 0.04349648952484131, 0.03479719161987305, 0.9932233691215515, 0.9806188344955444, 0.9865272641181946, 0.9301034212112427, 0.9597947001457214, 0.9979832172393799, 0.15582017600536346, 0.10907411575317383, 0.15582017600536346, 0.031164033338427544, 0.21814823150634766, 0.31164035201072693, 0.9858302474021912, 0.211957648396492, 0.06764605641365051, 0.049607109278440475, 0.3021523952484131, 0.22097711265087128, 0.02254868485033512, 0.12176290154457092, 0.9916554689407349, 0.9653275012969971, 0.5392178297042847, 0.22534476220607758, 0.03950849920511246, 0.06877405196428299, 0.024875720962882042, 0.08340682834386826, 0.005853110924363136, 0.004389833193272352, 0.008779666386544704, 0.9861605763435364, 0.9074802994728088, 0.9779697060585022, 0.3896583020687103, 0.11561290174722672, 0.02569175511598587, 0.05566547065973282, 0.034255675971508026, 0.02569175511598587, 0.34683871269226074, 0.24913807213306427, 0.16905798017978668, 0.01779557578265667, 0.10084159672260284, 0.10973938554525375, 0.3499796688556671, 0.02368818037211895, 0.331634521484375, 0.6395809054374695, 0.08589047938585281, 0.06937307864427567, 0.21142271161079407, 0.6342681646347046, 0.16772568225860596, 0.0026623124722391367, 0.32080864906311035, 0.13311561942100525, 0.00665578106418252, 0.01331156212836504, 0.2702247202396393, 0.01331156212836504, 0.031947750598192215, 0.003993468824774027, 0.019967343658208847, 0.014642718248069286, 0.9766674637794495, 0.9858559370040894, 0.9842128157615662, 0.9892516732215881, 0.9952484965324402, 0.24576272070407867, 0.16768185794353485, 0.34944388270378113, 0.007680085022002459, 0.038400426506996155, 0.15872175991535187, 0.030720340088009834, 0.001280014170333743, 0.5700816512107849, 0.2453184425830841, 0.0742066502571106, 0.013968310318887234, 0.01833340711891651, 0.0017460387898609042, 0.026190580800175667, 0.0008730193949304521, 0.010476232506334782, 0.038412854075431824, 0.05454639717936516, 0.9381980299949646, 0.9813466668128967, 0.9812129735946655, 0.9733918905258179, 0.1840686798095703, 0.8099021911621094, 0.04549099877476692, 0.33770376443862915, 0.20604747533798218, 0.01498527079820633, 0.1177414134144783, 0.051378071308135986, 0.04335024580359459, 0.1755417436361313, 0.002675941213965416, 0.002675941213965416, 0.002675941213965416, 0.9584773182868958, 0.673309862613678, 0.17024463415145874, 0.0314415767788887, 0.0559813417494297, 0.0069018094800412655, 0.04524519667029381, 0.0015337354270741343, 0.013803618960082531, 0.9519333243370056, 0.9631761908531189, 0.9866967797279358, 0.9682303071022034, 0.038815274834632874, 0.9551330208778381, 0.0055450391955673695, 0.9983662962913513, 0.01118177268654108, 0.033545318990945816, 0.3846530020236969, 0.07827240973711014, 0.4584527015686035, 0.024599900469183922, 0.008945418521761894, 0.9242741465568542, 0.9799425005912781, 0.98552405834198, 0.9480884075164795, 0.015291748568415642, 0.030583497136831284, 0.9808937311172485, 0.9828591346740723, 0.0566745400428772, 0.9351298809051514, 0.1151425689458847, 0.20149950683116913, 0.6764625906944275, 0.9930228590965271, 0.3681582510471344, 0.14275524020195007, 0.05259403586387634, 0.05259403586387634, 0.3756716847419739, 0.7240078449249268, 0.1486651748418808, 0.00839916244149208, 0.07811221480369568, 0.0016798325814306736, 0.00419958122074604, 0.028557153418660164, 0.005039497744292021, 0.9812428951263428, 0.21432623267173767, 0.17988094687461853, 0.5587791204452515, 0.04592704772949219, 0.9791837930679321, 0.632368266582489, 0.26658663153648376, 0.008266252465546131, 0.07026313990354538, 0.0030998445581644773, 0.0010332815581932664, 0.0030998445581644773, 0.01033281534910202, 0.0030998445581644773, 0.5745773911476135, 0.14072982966899872, 0.04913053289055824, 0.22316919267177582, 0.002498162677511573, 0.00582904601469636, 0.0008327208925038576, 0.0016654417850077152, 0.0016654417850077152, 0.6256584525108337, 0.1425507813692093, 0.006123899947851896, 0.1112508475780487, 0.0003402166476007551, 0.05545531585812569, 0.05307379737496376, 0.004763033241033554, 0.0006804332952015102, 0.27949059009552, 0.07515713572502136, 0.021137943491339684, 0.0328812450170517, 0.049321867525577545, 0.32881245017051697, 0.04697320610284805, 0.04462454840540886, 0.12447900325059891, 0.9957786798477173, 0.9860478043556213, 0.20266784727573395, 0.28061702847480774, 0.498874694108963, 0.5122588872909546, 0.17397472262382507, 0.08836811035871506, 0.06903758645057678, 0.057646386325359344, 0.04867149889469147, 0.018294960260391235, 0.0003451879310887307, 0.024163154885172844, 0.0013807517243549228, 0.005523006897419691, 0.0006903758621774614, 0.9906774759292603, 0.16025665402412415, 0.10162617266178131, 0.019543495029211044, 0.015634795650839806, 0.6175744533538818, 0.08208268135786057, 0.9826231598854065, 0.09244965016841888, 0.8980823159217834, 0.350793719291687, 0.14423497021198273, 0.05876239761710167, 0.032052215188741684, 0.30805742740631104, 0.08191122114658356, 0.023148823529481888, 0.8176735043525696, 0.1441955268383026, 0.01526776235550642, 0.006785672158002853, 0.013571344316005707, 0.9902715086936951, 0.8203555345535278, 0.021731272339820862, 0.13038763403892517, 0.021731272339820862, 0.9774854183197021, 0.1592434197664261, 0.8251704573631287, 0.007238337304443121, 0.16313038766384125, 0.3863614499568939, 0.44646212458610535, 0.35092100501060486, 0.08024108409881592, 0.07168203592300415, 0.39478611946105957, 0.017118098214268684, 0.006419286597520113, 0.007489167619496584, 0.02460726536810398, 0.04600488767027855, 0.1850353181362152, 0.811688244342804, 0.3535820245742798, 0.1383581906557083, 0.5073133707046509, 0.9665480256080627, 0.9466573596000671, 0.3371012508869171, 0.6517291069030762, 0.9963988065719604, 0.9985477924346924, 0.996538519859314, 0.9849925637245178, 0.9578689336776733, 0.9728503823280334, 0.9843739867210388, 0.5422616600990295, 0.4493025243282318, 0.3387633264064789, 0.09410092234611511, 0.3613475263118744, 0.2032579928636551, 0.02406543865799904, 0.00300817983224988, 0.5234232544898987, 0.312850683927536, 0.030081797391176224, 0.10227811336517334, 0.00953201949596405, 0.0285960603505373, 0.20589162409305573, 0.10294581204652786, 0.3202758729457855, 0.04575369507074356, 0.0953202024102211, 0.04384729266166687, 0.11247783899307251, 0.03050246462225914, 0.0038128080777823925, 0.7875601053237915, 0.20981329679489136, 0.9310654401779175, 0.1373845487833023, 0.8586534261703491, 0.9455183148384094, 0.04575088620185852, 0.2083735316991806, 0.3641110360622406, 0.140543594956398, 0.06945784389972687, 0.034728921949863434, 0.0021705576218664646, 0.009767509065568447, 0.020620295777916908, 0.014108624309301376, 0.12752026319503784, 0.007054312154650688, 0.0010852788109332323, 0.09199569374322891, 0.8586264848709106, 0.045997846871614456, 0.711724042892456, 0.2275732010602951, 0.05800885707139969, 0.2802470326423645, 0.031456299126148224, 0.49758145213127136, 0.02001764439046383, 0.06863192468881607, 0.08864957094192505, 0.01143865380436182, 0.11293385922908783, 0.2741664946079254, 0.3963339328765869, 0.007102758623659611, 0.056822068989276886, 0.012074689380824566, 0.01491579320281744, 0.12358799576759338, 0.0007102758390828967, 0.9916856288909912, 0.9777578115463257, 0.10013707727193832, 0.08010966330766678, 0.07343386113643646, 0.7410143613815308, 0.9256740808486938, 0.2396625131368637, 0.7522739768028259, 0.9885230660438538, 0.003509850474074483, 0.08072656393051147, 0.7265390753746033, 0.05498765781521797, 0.06551720947027206, 0.015209352597594261, 0.0023399004712700844, 0.05147780850529671, 0.9884558916091919, 0.14715468883514404, 0.26487842202186584, 0.16677530109882355, 0.40222281217575073, 0.9669051766395569, 0.8452627062797546, 0.11270169913768768, 0.01577823795378208, 0.01577823795378208, 0.009016135707497597, 0.9429789781570435, 0.9887018799781799, 0.7204324007034302, 0.017571521922945976, 0.2635728418827057, 0.9456572532653809, 0.022878805175423622, 0.030505072325468063, 0.9882152676582336, 0.9629172682762146, 0.9877477288246155, 0.9647080302238464, 0.9906599521636963, 0.5596753358840942, 0.2600570321083069, 0.12508337199687958, 0.027925588190555573, 0.02210775762796402, 0.00523604778572917, 0.9925573468208313, 0.9889237880706787, 0.9871373772621155, 0.00725836306810379, 0.9838007092475891, 0.6123084425926208, 0.15709730982780457, 0.05154111608862877, 0.05648906156420708, 0.03546028584241867, 0.056901391595602036, 0.00041232892544940114, 0.016905484721064568, 0.0016493157017976046, 0.0037109602708369493, 0.0045356182381510735, 0.002473973436281085, 0.00041232892544940114, 0.7413692474365234, 0.077947698533535, 0.0034643420949578285, 0.1749492734670639, 0.9491111636161804, 0.9870744943618774, 0.9972454905509949, 0.9952141046524048, 0.050780173391103745, 0.9478965401649475, 0.1429859846830368, 0.8561931252479553, 0.9853528738021851, 0.07453078776597977, 0.5123991370201111, 0.4099193215370178, 0.09067707508802414, 0.8938168883323669, 0.3164103031158447, 0.6674280166625977, 0.009887821972370148, 0.9916941523551941, 0.958684504032135, 0.9747861623764038, 0.9684594869613647, 0.9258338212966919, 0.2193969339132309, 0.052723292261362076, 0.11054883897304535, 0.5323352217674255, 0.027212021872401237, 0.056124795228242874, 0.270248144865036, 0.3701089024543762, 0.16164958477020264, 0.04306494817137718, 0.031206484884023666, 0.08675403147935867, 0.02371692843735218, 0.0018723891116678715, 0.0012482594465836883, 0.009986075572669506, 0.19645309448242188, 0.2800915539264679, 0.163386732339859, 0.0544622465968132, 0.011670481413602829, 0.29370710253715515, 0.0019450802356004715, 0.3335910141468048, 0.029901714995503426, 0.03644271567463875, 0.29527944326400757, 0.11119700223207474, 0.05045914277434349, 0.004672143142670393, 0.01308200042694807, 0.0710165724158287, 0.005606571678072214, 0.03177057206630707, 0.017754143103957176, 0.9091841578483582, 0.0478517971932888, 0.026584332808852196, 0.010633733123540878, 0.9866123795509338, 0.5895320773124695, 0.22762441635131836, 0.024261964485049248, 0.08003079146146774, 0.012973411940038204, 0.026115309447050095, 0.021734677255153656, 0.00033697174512781203, 0.017354045063257217, 0.20096321403980255, 0.11483612656593323, 0.4063432216644287, 0.07066838443279266, 0.0044167740270495415, 0.011041934601962566, 0.1832961142063141, 0.006625161040574312, 0.9730529189109802, 0.9889863133430481, 0.9867310523986816, 0.9844108819961548, 0.9966508746147156, 0.9727945327758789, 0.9962403774261475, 0.9938647747039795, 0.9846689701080322, 0.987176775932312, 0.978051483631134, 0.9625946283340454, 0.15454691648483276, 0.07372880727052689, 0.16659875214099884, 0.40763524174690247, 0.03828226402401924, 0.03757333382964134, 0.008507169783115387, 0.11272000521421432, 0.48338159918785095, 0.09415561705827713, 0.002965531311929226, 0.15494900941848755, 0.08748317509889603, 0.03410360962152481, 0.10898327827453613, 0.03410360962152481, 0.14456184208393097, 0.8384587168693542, 0.9627662897109985, 0.007411262486129999, 0.025939418002963066, 0.32980117201805115, 0.1074633076786995, 0.15934213995933533, 0.11858019977807999, 0.007411262486129999, 0.0037056312430649996, 0.23716039955615997, 0.9680285453796387, 0.027487093582749367, 0.9620482921600342, 0.9795796871185303, 0.9845190644264221, 0.9586048126220703, 0.9403675198554993], \"Term\": [\"accelerator\", \"adams\", \"adams\", \"adaptec\", \"adapter\", \"adcom\", \"address\", \"address\", \"address\", \"address\", \"address\", \"address\", \"address\", \"address\", \"address\", \"addresses\", \"addresses\", \"addresses\", \"addresses\", \"addresses\", \"administration\", \"administration\", \"administration\", \"adobe\", \"adult\", \"advance\", \"advance\", \"advance\", \"advance\", \"advance\", \"advance\", \"adventure\", \"aerospace\", \"afraid\", \"agdam\", \"agencies\", \"agencies\", \"agencies\", \"agrep\", \"aids\", \"aids\", \"albicans\", \"algorithm\", \"algorithm\", \"algorithm\", \"algorithm\", \"allah\", \"alleged\", \"allocation\", \"alomar\", \"also\", \"also\", \"also\", \"also\", \"also\", \"also\", \"also\", \"also\", \"also\", \"also\", \"also\", \"also\", \"also\", \"american\", \"american\", \"american\", \"american\", \"american\", \"american\", \"american\", \"americans\", \"americans\", \"americans\", \"americans\", \"among\", \"among\", \"among\", \"among\", \"among\", \"among\", \"among\", \"among\", \"amplifier\", \"amps\", \"amps\", \"ankara\", \"annual\", \"annual\", \"annual\", \"annual\", \"anonymity\", \"anonymous\", \"anonymous\", \"anonymous\", \"anonymous\", \"anti\", \"anti\", \"anti\", \"anyone\", \"anyone\", \"anyone\", \"anyone\", \"anyone\", \"anyone\", \"anyone\", \"anything\", \"anything\", \"anything\", \"anything\", \"anything\", \"anything\", \"anything\", \"apartment\", \"appears\", \"appears\", \"appears\", \"appears\", \"appears\", \"appears\", \"appears\", \"apple\", \"apple\", \"apple\", \"applelink\", \"application\", \"application\", \"application\", \"application\", \"application\", \"application\", \"april\", \"april\", \"april\", \"april\", \"april\", \"april\", \"april\", \"april\", \"april\", \"april\", \"arab\", \"arabs\", \"archive\", \"archive\", \"archive\", \"archive\", \"archive\", \"archives\", \"archives\", \"argentine\", \"argic\", \"argument\", \"argument\", \"argument\", \"argv\", \"argv\", \"armenia\", \"armenian\", \"armenians\", \"aspi\", \"assure\", \"astros\", \"atheism\", \"atheist\", \"atheists\", \"atlanta\", \"atlanta\", \"atlanta\", \"atmosphere\", \"attacks\", \"attacks\", \"attacks\", \"attacks\", \"attacks\", \"attorney\", \"attorney\", \"authentication\", \"author\", \"author\", \"author\", \"author\", \"author\", \"author\", \"authorization\", \"auto\", \"auto\", \"auto\", \"auto\", \"autos\", \"available\", \"available\", \"available\", \"available\", \"available\", \"available\", \"available\", \"available\", \"available\", \"azerbaijan\", \"azerbaijani\", \"azerbaijani\", \"azeris\", \"back\", \"back\", \"back\", \"back\", \"back\", \"back\", \"back\", \"back\", \"back\", \"back\", \"baerga\", \"baku\", \"baku\", \"ball\", \"ball\", \"ball\", \"ball\", \"balloon\", \"balloon\", \"baltimore\", \"banks\", \"banks\", \"banks\", \"banks\", \"baseball\", \"baseball\", \"based\", \"based\", \"based\", \"based\", \"based\", \"based\", \"based\", \"based\", \"based\", \"based\", \"based\", \"bassel\", \"batf\", \"batteries\", \"battery\", \"battery\", \"baud\", \"belief\", \"beliefs\", \"beliefs\", \"believe\", \"believe\", \"believe\", \"believe\", \"believe\", \"believe\", \"believe\", \"best\", \"best\", \"best\", \"best\", \"best\", \"best\", \"best\", \"best\", \"bethesda\", \"better\", \"better\", \"better\", \"better\", \"better\", \"better\", \"better\", \"bhjn\", \"bible\", \"biblical\", \"bike\", \"bike\", \"bill\", \"bill\", \"bill\", \"bill\", \"bill\", \"bill\", \"bill\", \"bill\", \"bindings\", \"bios\", \"bios\", \"bits\", \"bits\", \"bits\", \"blame\", \"block\", \"block\", \"block\", \"block\", \"block\", \"block\", \"blocks\", \"blocks\", \"blue\", \"blue\", \"blue\", \"blue\", \"blue\", \"blue\", \"blue\", \"blue\", \"blues\", \"bname\", \"board\", \"board\", \"board\", \"board\", \"board\", \"board\", \"board\", \"bodies\", \"bodies\", \"bodies\", \"bodies\", \"bodies\", \"boggs\", \"bolsheviks\", \"bolt\", \"bolt\", \"book\", \"book\", \"book\", \"book\", \"book\", \"book\", \"book\", \"book\", \"book\", \"boot\", \"boot\", \"borders\", \"borders\", \"borland\", \"borland\", \"boston\", \"boston\", \"boston\", \"boston\", \"bought\", \"bought\", \"bounced\", \"brake\", \"braves\", \"brewer\", \"briefing\", \"bronx\", \"budget\", \"budget\", \"budget\", \"buffalo\", \"buffalo\", \"buffalo\", \"build\", \"build\", \"build\", \"build\", \"build\", \"build\", \"bullock\", \"bush\", \"bush\", \"buying\", \"buying\", \"bxlt\", \"bxom\", \"byte\", \"byte\", \"byte\", \"byte\", \"cable\", \"cable\", \"cable\", \"cables\", \"cadre\", \"canadiens\", \"cancer\", \"candida\", \"cannot\", \"cannot\", \"cannot\", \"cannot\", \"cannot\", \"cannot\", \"cannot\", \"cannot\", \"capitol\", \"carbs\", \"card\", \"card\", \"card\", \"cards\", \"cards\", \"cards\", \"cards\", \"cards\", \"carrier\", \"cars\", \"cars\", \"cartel\", \"casualties\", \"catcher\", \"catholic\", \"cellular\", \"cellular\", \"center\", \"center\", \"center\", \"center\", \"center\", \"center\", \"centris\", \"ceremonial\", \"champaign\", \"champs\", \"char\", \"chastity\", \"check\", \"check\", \"check\", \"check\", \"check\", \"check\", \"check\", \"check\", \"chicago\", \"chicago\", \"chicago\", \"chicago\", \"chicago\", \"child\", \"child\", \"child\", \"child\", \"children\", \"children\", \"children\", \"children\", \"children\", \"chip\", \"chip\", \"chip\", \"chips\", \"chips\", \"christ\", \"christian\", \"christian\", \"christianity\", \"christians\", \"chronic\", \"chunk\", \"church\", \"chzd\", \"chzv\", \"cigarettes\", \"cincinnati\", \"cipher\", \"ciphers\", \"ciphertext\", \"circuits\", \"civilians\", \"civilians\", \"classified\", \"classified\", \"cleveland\", \"cleveland\", \"client\", \"clients\", \"clinical\", \"clinton\", \"clinton\", \"clipper\", \"clipper\", \"clipper\", \"coach\", \"code\", \"code\", \"code\", \"code\", \"code\", \"code\", \"code\", \"code\", \"coding\", \"coding\", \"coli\", \"collaboration\", \"colony\", \"color\", \"color\", \"color\", \"color\", \"colorado\", \"colorado\", \"colorado\", \"colorado\", \"colorado\", \"colorado\", \"colormap\", \"cols\", \"come\", \"come\", \"come\", \"come\", \"come\", \"come\", \"come\", \"comics\", \"comments\", \"comments\", \"comments\", \"comments\", \"comments\", \"comments\", \"comments\", \"comments\", \"comments\", \"comments\", \"compass\", \"compiling\", \"computer\", \"computer\", \"computer\", \"computer\", \"computer\", \"computer\", \"computer\", \"computer\", \"concealed\", \"conference\", \"conference\", \"conference\", \"conference\", \"conference\", \"conference\", \"conflict\", \"conflict\", \"conflict\", \"congress\", \"congress\", \"congress\", \"contact\", \"contact\", \"contact\", \"contact\", \"contact\", \"contact\", \"contact\", \"contact\", \"contact\", \"contact\", \"contact\", \"contest\", \"contest\", \"contracts\", \"contrib\", \"controller\", \"controller\", \"cooper\", \"cooper\", \"copies\", \"copies\", \"copies\", \"copies\", \"copies\", \"copies\", \"copies\", \"copper\", \"copy\", \"copy\", \"copy\", \"copy\", \"copy\", \"copy\", \"copy\", \"copy\", \"copy\", \"cost\", \"cost\", \"cost\", \"cost\", \"cost\", \"cost\", \"could\", \"could\", \"could\", \"could\", \"could\", \"could\", \"could\", \"could\", \"could\", \"could\", \"course\", \"course\", \"course\", \"course\", \"course\", \"course\", \"course\", \"courses\", \"courses\", \"cover\", \"cover\", \"cover\", \"cover\", \"cover\", \"cover\", \"cover\", \"creed\", \"crew\", \"criminal\", \"criminal\", \"cross\", \"cross\", \"cross\", \"cross\", \"cross\", \"cross\", \"cross\", \"crypt\", \"cryptanalysis\", \"crypto\", \"cryptography\", \"cryptography\", \"ctrl\", \"cubs\", \"current\", \"current\", \"current\", \"current\", \"current\", \"current\", \"current\", \"current\", \"current\", \"current\", \"current\", \"current\", \"current\", \"cursor\", \"curt\", \"cview\", \"cylinders\", \"cylinders\", \"cyprus\", \"darkness\", \"data\", \"data\", \"data\", \"data\", \"data\", \"data\", \"date\", \"date\", \"date\", \"date\", \"date\", \"date\", \"date\", \"date\", \"date\", \"date\", \"date\", \"david\", \"david\", \"david\", \"david\", \"david\", \"david\", \"david\", \"david\", \"david\", \"david\", \"david\", \"david\", \"david\", \"david\", \"dayton\", \"dead\", \"dead\", \"dead\", \"dead\", \"dead\", \"dead\", \"deaf\", \"dealership\", \"deciding\", \"decrypt\", \"defend\", \"defenseman\", \"defensive\", \"deficit\", \"deficit\", \"define\", \"define\", \"define\", \"define\", \"define\", \"degrees\", \"degrees\", \"degrees\", \"demo\", \"denning\", \"denning\", \"denver\", \"detector\", \"detectors\", \"detectors\", \"detroit\", \"detroit\", \"development\", \"development\", \"development\", \"development\", \"development\", \"development\", \"devils\", \"diagnosed\", \"diamond\", \"diamond\", \"digest\", \"directory\", \"directory\", \"directory\", \"directory\", \"disease\", \"diseases\", \"disk\", \"disk\", \"disk\", \"disks\", \"disks\", \"disks\", \"disks\", \"display\", \"display\", \"display\", \"displays\", \"divine\", \"division\", \"division\", \"division\", \"division\", \"division\", \"division\", \"division\", \"doctrine\", \"dodgers\", \"dole\", \"dortmund\", \"double\", \"double\", \"double\", \"double\", \"double\", \"double\", \"double\", \"doug\", \"doug\", \"doug\", \"doug\", \"download\", \"download\", \"dram\", \"drive\", \"drive\", \"driver\", \"driver\", \"driver\", \"driver\", \"drivers\", \"drivers\", \"drives\", \"drives\", \"drug\", \"drug\", \"drug\", \"drum\", \"earth\", \"earth\", \"earth\", \"echo\", \"echo\", \"echo\", \"economy\", \"economy\", \"economy\", \"edge\", \"edge\", \"edge\", \"edge\", \"edge\", \"edge\", \"eggs\", \"eisa\", \"election\", \"electronic\", \"electronic\", \"electronic\", \"electronic\", \"electronic\", \"email\", \"email\", \"email\", \"email\", \"email\", \"email\", \"embargo\", \"emulation\", \"encrypt\", \"encrypted\", \"encryption\", \"encryption\", \"energy\", \"energy\", \"energy\", \"energy\", \"energy\", \"enforcement\", \"enforcement\", \"engine\", \"engine\", \"engine\", \"enhancement\", \"enough\", \"enough\", \"enough\", \"enough\", \"enough\", \"enough\", \"enough\", \"enough\", \"entries\", \"entry\", \"entry\", \"entry\", \"eqtm\", \"escrow\", \"escrow\", \"escrowed\", \"espn\", \"eternal\", \"ethernet\", \"even\", \"even\", \"even\", \"even\", \"even\", \"even\", \"even\", \"even\", \"even\", \"event\", \"event\", \"event\", \"event\", \"event\", \"event\", \"event\", \"events\", \"events\", \"events\", \"events\", \"events\", \"events\", \"events\", \"events\", \"example\", \"example\", \"example\", \"example\", \"example\", \"example\", \"example\", \"example\", \"excellent\", \"excellent\", \"excellent\", \"excellent\", \"excellent\", \"excellent\", \"excellent\", \"executive\", \"executive\", \"executive\", \"exhaust\", \"exist\", \"exist\", \"exist\", \"exist\", \"exist\", \"exist\", \"exist\", \"exist\", \"existence\", \"existence\", \"existence\", \"existence\", \"export\", \"export\", \"export\", \"expos\", \"expose\", \"expose\", \"face\", \"face\", \"face\", \"face\", \"face\", \"face\", \"face\", \"fact\", \"fact\", \"fact\", \"fact\", \"fact\", \"fact\", \"fact\", \"fact\", \"fact\", \"fact\", \"fairing\", \"faith\", \"falklands\", \"fallacy\", \"fans\", \"federal\", \"federal\", \"federal\", \"feel\", \"feel\", \"feel\", \"feel\", \"feel\", \"felt\", \"fielding\", \"fijh\", \"file\", \"file\", \"file\", \"file\", \"filename\", \"files\", \"files\", \"files\", \"files\", \"files\", \"filters\", \"finals\", \"finals\", \"financial\", \"fire\", \"fire\", \"fire\", \"fire\", \"firearms\", \"firearms\", \"firms\", \"first\", \"first\", \"first\", \"first\", \"first\", \"first\", \"first\", \"first\", \"first\", \"first\", \"first\", \"first\", \"first\", \"first\", \"flags\", \"flat\", \"flat\", \"flat\", \"flat\", \"flat\", \"flight\", \"flight\", \"flight\", \"flight\", \"floppy\", \"floppy\", \"floppy\", \"floptical\", \"flyers\", \"font\", \"fonts\", \"food\", \"food\", \"format\", \"format\", \"format\", \"format\", \"format\", \"forty\", \"fprintf\", \"freeware\", \"fuck\", \"fujitsu\", \"funds\", \"funds\", \"fungal\", \"fungus\", \"fungus\", \"fuse\", \"gainey\", \"game\", \"game\", \"games\", \"games\", \"games\", \"gangs\", \"gateway\", \"gaza\", \"gazans\", \"gear\", \"generates\", \"generous\", \"genetic\", \"genocide\", \"geoffrey\", \"georgia\", \"georgia\", \"georgia\", \"german\", \"german\", \"german\", \"german\", \"german\", \"german\", \"germany\", \"germany\", \"germany\", \"germany\", \"germany\", \"gfci\", \"ghetto\", \"ghost\", \"ghostscript\", \"giants\", \"gifs\", \"gifs\", \"gifs\", \"gilmour\", \"gizw\", \"gizwt\", \"goal\", \"goal\", \"goal\", \"goal\", \"goal\", \"goal\", \"going\", \"going\", \"going\", \"going\", \"going\", \"good\", \"good\", \"good\", \"good\", \"good\", \"good\", \"good\", \"good\", \"good\", \"good\", \"good\", \"good\", \"goose\", \"gordon\", \"gordon\", \"gordon\", \"government\", \"government\", \"government\", \"government\", \"grandfather\", \"graphics\", \"graphics\", \"graphics\", \"graphics\", \"gravity\", \"grayscale\", \"greece\", \"greek\", \"greek\", \"grounding\", \"group\", \"group\", \"group\", \"group\", \"group\", \"group\", \"group\", \"group\", \"group\", \"group\", \"group\", \"group\", \"group\", \"guide\", \"guide\", \"guide\", \"guide\", \"guide\", \"guide\", \"guide\", \"guidelines\", \"guidelines\", \"guidelines\", \"guilty\", \"guns\", \"habs\", \"hamas\", \"handguns\", \"hanging\", \"happen\", \"happen\", \"happen\", \"happen\", \"happened\", \"happened\", \"happened\", \"happened\", \"hard\", \"hard\", \"hard\", \"hard\", \"hard\", \"hard\", \"harley\", \"harley\", \"harm\", \"hartford\", \"hash\", \"hash\", \"hawks\", \"hawks\", \"heads\", \"heads\", \"heads\", \"heads\", \"heads\", \"health\", \"health\", \"health\", \"heaven\", \"hebrew\", \"hellman\", \"helmet\", \"helmet\", \"help\", \"help\", \"help\", \"help\", \"help\", \"help\", \"help\", \"help\", \"help\", \"help\", \"henrik\", \"herbert\", \"hicnet\", \"high\", \"high\", \"high\", \"high\", \"high\", \"high\", \"high\", \"high\", \"high\", \"high\", \"high\", \"history\", \"history\", \"history\", \"history\", \"history\", \"history\", \"history\", \"hitler\", \"hitter\", \"hitter\", \"hockey\", \"hojali\", \"holy\", \"home\", \"home\", \"home\", \"home\", \"home\", \"home\", \"homicides\", \"homosexual\", \"honda\", \"honest\", \"hong\", \"hook\", \"house\", \"house\", \"house\", \"house\", \"house\", \"house\", \"house\", \"house\", \"houston\", \"houston\", \"houston\", \"hulk\", \"human\", \"human\", \"human\", \"human\", \"human\", \"human\", \"human\", \"humanist\", \"icon\", \"icons\", \"idaho\", \"idle\", \"idle\", \"illness\", \"image\", \"image\", \"image\", \"image\", \"image\", \"image\", \"image\", \"imake\", \"impulse\", \"include\", \"include\", \"include\", \"include\", \"include\", \"include\", \"include\", \"include\", \"include\", \"include\", \"include\", \"include\", \"includes\", \"includes\", \"includes\", \"includes\", \"includes\", \"includes\", \"includes\", \"includes\", \"includes\", \"indians\", \"industries\", \"infection\", \"infections\", \"infectious\", \"info\", \"info\", \"info\", \"info\", \"information\", \"information\", \"information\", \"information\", \"information\", \"information\", \"information\", \"information\", \"information\", \"information\", \"information\", \"inherent\", \"init\", \"initiative\", \"initiative\", \"inner\", \"inner\", \"inner\", \"inspector\", \"insulation\", \"intel\", \"intel\", \"intel\", \"intel\", \"intellect\", \"intentional\", \"interleave\", \"internet\", \"internet\", \"internet\", \"internet\", \"internet\", \"intrinsics\", \"investigating\", \"ioccc\", \"islam\", \"islam\", \"island\", \"island\", \"island\", \"island\", \"island\", \"islanders\", \"israel\", \"israel\", \"israeli\", \"israelis\", \"issue\", \"issue\", \"issue\", \"issue\", \"issue\", \"issue\", \"issue\", \"issue\", \"issue\", \"istanbul\", \"jagr\", \"jays\", \"jeep\", \"jerusalem\", \"jesus\", \"jets\", \"jewish\", \"jewish\", \"jews\", \"jews\", \"jews\", \"jfif\", \"jobs\", \"john\", \"john\", \"john\", \"john\", \"john\", \"john\", \"john\", \"john\", \"john\", \"john\", \"john\", \"jose\", \"jose\", \"jose\", \"jpeg\", \"jpeg\", \"jpwu\", \"judas\", \"judges\", \"judges\", \"jumper\", \"jumpers\", \"jumpers\", \"karabagh\", \"karabakh\", \"karina\", \"keep\", \"keep\", \"keep\", \"keep\", \"keep\", \"keep\", \"keep\", \"keep\", \"keep\", \"kent\", \"kent\", \"kent\", \"keyboard\", \"keyboard\", \"keys\", \"keys\", \"kids\", \"kids\", \"kill\", \"kill\", \"kill\", \"killed\", \"killed\", \"killed\", \"killed\", \"kings\", \"kings\", \"kings\", \"know\", \"know\", \"know\", \"know\", \"know\", \"know\", \"know\", \"know\", \"koresh\", \"kurds\", \"land\", \"land\", \"land\", \"land\", \"land\", \"land\", \"landon\", \"laptop\", \"larson\", \"last\", \"last\", \"last\", \"last\", \"last\", \"last\", \"last\", \"last\", \"last\", \"last\", \"last\", \"last\", \"last\", \"last\", \"last\", \"launch\", \"launched\", \"lawyer\", \"league\", \"league\", \"league\", \"leather\", \"lebanese\", \"lebanon\", \"legally\", \"legislative\", \"lemieux\", \"liar\", \"liar\", \"liberal\", \"libraries\", \"libraries\", \"libxmu\", \"libxmu\", \"life\", \"life\", \"life\", \"life\", \"life\", \"life\", \"lighter\", \"like\", \"like\", \"like\", \"like\", \"like\", \"like\", \"like\", \"like\", \"like\", \"like\", \"like\", \"line\", \"line\", \"line\", \"line\", \"line\", \"line\", \"line\", \"line\", \"line\", \"line\", \"line\", \"line\", \"lines\", \"lines\", \"lines\", \"lines\", \"lines\", \"lines\", \"lines\", \"lines\", \"lines\", \"lines\", \"lines\", \"list\", \"list\", \"list\", \"list\", \"list\", \"list\", \"list\", \"list\", \"list\", \"list\", \"list\", \"list\", \"list\", \"list\", \"listserv\", \"liver\", \"logitech\", \"long\", \"long\", \"long\", \"long\", \"long\", \"long\", \"long\", \"long\", \"long\", \"long\", \"long\", \"looking\", \"looking\", \"looking\", \"looking\", \"looking\", \"looking\", \"looking\", \"looking\", \"looking\", \"lopez\", \"lord\", \"losses\", \"lost\", \"lost\", \"lost\", \"lost\", \"lost\", \"lost\", \"lost\", \"lotus\", \"lotus\", \"louis\", \"louis\", \"love\", \"love\", \"love\", \"love\", \"love\", \"lunar\", \"lunatic\", \"machines\", \"machines\", \"machines\", \"machines\", \"machines\", \"macs\", \"macs\", \"macuser\", \"mail\", \"mail\", \"mail\", \"mail\", \"mail\", \"mail\", \"mail\", \"mail\", \"mailing\", \"mailing\", \"main\", \"main\", \"main\", \"main\", \"main\", \"main\", \"majors\", \"make\", \"make\", \"make\", \"make\", \"make\", \"make\", \"make\", \"make\", \"make\", \"make\", \"males\", \"mamma\", \"manhattan\", \"manuals\", \"manuals\", \"manuals\", \"many\", \"many\", \"many\", \"many\", \"many\", \"many\", \"many\", \"many\", \"many\", \"many\", \"many\", \"many\", \"marijuana\", \"mars\", \"mary\", \"mask\", \"massacres\", \"master\", \"master\", \"master\", \"master\", \"master\", \"master\", \"master\", \"matthew\", \"matthew\", \"maxbyte\", \"maybe\", \"maybe\", \"maybe\", \"maybe\", \"maybe\", \"maybe\", \"mbxn\", \"meaning\", \"meaning\", \"meaning\", \"meaning\", \"meaning\", \"meaning\", \"meaning\", \"mechanics\", \"medical\", \"medical\", \"medicine\", \"medicine\", \"megs\", \"memory\", \"memory\", \"memory\", \"memory\", \"menu\", \"message\", \"message\", \"message\", \"message\", \"message\", \"message\", \"message\", \"methanol\", \"micro\", \"microsoft\", \"microsoft\", \"microsoft\", \"midi\", \"militia\", \"miller\", \"million\", \"million\", \"million\", \"million\", \"million\", \"million\", \"minnesota\", \"minnesota\", \"missing\", \"missing\", \"missing\", \"missing\", \"missing\", \"missing\", \"missing\", \"missing\", \"missing\", \"missing\", \"mission\", \"mission\", \"missions\", \"mixer\", \"mkentry\", \"models\", \"models\", \"models\", \"models\", \"models\", \"modem\", \"modem\", \"moncton\", \"monitor\", \"monitor\", \"monitors\", \"monitors\", \"montreal\", \"moon\", \"moral\", \"moral\", \"morality\", \"mormons\", \"mosaic\", \"mosaic\", \"motherboard\", \"motif\", \"mpeg\", \"much\", \"much\", \"much\", \"much\", \"much\", \"much\", \"much\", \"muslim\", \"muslim\", \"muslim\", \"must\", \"must\", \"must\", \"must\", \"must\", \"must\", \"must\", \"must\", \"must\", \"must\", \"must\", \"must\", \"must\", \"must\", \"myers\", \"nagorno\", \"name\", \"name\", \"name\", \"name\", \"name\", \"name\", \"name\", \"name\", \"name\", \"name\", \"nasa\", \"nasa\", \"nasa\", \"national\", \"national\", \"national\", \"national\", \"national\", \"national\", \"national\", \"national\", \"naval\", \"naval\", \"naval\", \"navy\", \"nazi\", \"nazi\", \"nazi\", \"ncsl\", \"need\", \"need\", \"need\", \"need\", \"need\", \"need\", \"need\", \"need\", \"need\", \"need\", \"negotiating\", \"neighbor\", \"neutral\", \"neutral\", \"neutral\", \"never\", \"never\", \"never\", \"never\", \"never\", \"never\", \"newest\", \"newline\", \"news\", \"news\", \"news\", \"news\", \"news\", \"news\", \"news\", \"news\", \"newsgroups\", \"newsgroups\", \"newsgroups\", \"newsletter\", \"newsletter\", \"newsletter\", \"nissan\", \"nist\", \"nist\", \"nkjz\", \"nmsu\", \"nolan\", \"noll\", \"nords\", \"nrhj\", \"nriz\", \"nrizwt\", \"nubus\", \"nubus\", \"nuclear\", \"nuclear\", \"nuclear\", \"null\", \"number\", \"number\", \"number\", \"number\", \"number\", \"number\", \"number\", \"number\", \"number\", \"number\", \"number\", \"number\", \"number\", \"obfuscated\", \"occupied\", \"occupied\", \"offset\", \"olney\", \"olwm\", \"oname\", \"online\", \"online\", \"online\", \"onur\", \"open\", \"open\", \"open\", \"open\", \"open\", \"open\", \"open\", \"open\", \"open\", \"open\", \"open\", \"openwindows\", \"orbit\", \"orbital\", \"orchid\", \"orthodox\", \"otto\", \"ottoman\", \"outlets\", \"output\", \"output\", \"output\", \"output\", \"ozone\", \"package\", \"package\", \"package\", \"package\", \"package\", \"packaging\", \"pain\", \"pain\", \"pain\", \"pain\", \"palestine\", \"palestine\", \"palestinian\", \"palestinians\", \"paradox\", \"paradox\", \"paranoid\", \"paranoid\", \"park\", \"park\", \"park\", \"park\", \"park\", \"parse\", \"part\", \"part\", \"part\", \"part\", \"part\", \"part\", \"part\", \"part\", \"part\", \"part\", \"part\", \"part\", \"part\", \"part\", \"partition\", \"partition\", \"passages\", \"patches\", \"patient\", \"patient\", \"patient\", \"patients\", \"payload\", \"peace\", \"peace\", \"peace\", \"penet\", \"pens\", \"pentium\", \"people\", \"people\", \"people\", \"people\", \"people\", \"people\", \"people\", \"people\", \"people\", \"people\", \"people\", \"period\", \"period\", \"period\", \"period\", \"period\", \"period\", \"period\", \"period\", \"perror\", \"philadelphia\", \"philadelphia\", \"philadelphia\", \"phillies\", \"phone\", \"phone\", \"phone\", \"phone\", \"phone\", \"phone\", \"phone\", \"phones\", \"picture\", \"picture\", \"picture\", \"picture\", \"picture\", \"picture\", \"picture\", \"picture\", \"picture\", \"pins\", \"pitcher\", \"pitching\", \"pitt\", \"pitt\", \"pittsburgh\", \"pittsburgh\", \"pixel\", \"pixmap\", \"plaintext\", \"plane\", \"plane\", \"plane\", \"plane\", \"planetary\", \"platforms\", \"play\", \"play\", \"play\", \"play\", \"play\", \"played\", \"played\", \"played\", \"played\", \"player\", \"player\", \"players\", \"playoff\", \"playoffs\", \"please\", \"please\", \"please\", \"please\", \"please\", \"please\", \"please\", \"please\", \"pmfq\", \"pname\", \"pnei\", \"point\", \"point\", \"point\", \"point\", \"point\", \"point\", \"point\", \"point\", \"point\", \"point\", \"point\", \"pointer\", \"points\", \"points\", \"points\", \"points\", \"points\", \"points\", \"points\", \"points\", \"points\", \"police\", \"police\", \"policy\", \"policy\", \"policy\", \"policy\", \"polygon\", \"polygon\", \"port\", \"port\", \"port\", \"port\", \"post\", \"post\", \"post\", \"post\", \"post\", \"post\", \"post\", \"post\", \"posting\", \"posting\", \"posting\", \"posting\", \"posting\", \"posting\", \"posting\", \"posting\", \"power\", \"power\", \"power\", \"power\", \"power\", \"power\", \"power\", \"powerpc\", \"precision\", \"president\", \"president\", \"press\", \"press\", \"press\", \"press\", \"press\", \"press\", \"press\", \"press\", \"prevalence\", \"prevention\", \"price\", \"price\", \"price\", \"price\", \"price\", \"price\", \"price\", \"printer\", \"printer\", \"printf\", \"prints\", \"prison\", \"prison\", \"prisoners\", \"privacy\", \"privacy\", \"privacy\", \"private\", \"private\", \"private\", \"private\", \"problem\", \"problem\", \"problem\", \"problem\", \"problem\", \"problem\", \"problem\", \"problem\", \"problem\", \"problem\", \"proceedings\", \"proceedings\", \"proceedings\", \"produce\", \"produce\", \"produce\", \"produce\", \"produce\", \"produce\", \"produce\", \"professor\", \"prog\", \"program\", \"program\", \"program\", \"program\", \"programs\", \"programs\", \"programs\", \"programs\", \"programs\", \"programs\", \"programs\", \"programs\", \"programs\", \"project\", \"project\", \"project\", \"project\", \"project\", \"promo\", \"promotion\", \"prong\", \"prophecy\", \"propulsion\", \"protein\", \"providence\", \"public\", \"public\", \"public\", \"public\", \"public\", \"public\", \"public\", \"public\", \"puck\", \"push\", \"push\", \"push\", \"push\", \"quack\", \"quadra\", \"quebec\", \"question\", \"question\", \"question\", \"question\", \"question\", \"question\", \"question\", \"quickdraw\", \"quicktime\", \"radar\", \"radar\", \"radius\", \"radius\", \"radius\", \"raid\", \"random\", \"random\", \"random\", \"rangers\", \"rangers\", \"rchz\", \"read\", \"read\", \"read\", \"read\", \"read\", \"read\", \"read\", \"read\", \"read\", \"reality\", \"reality\", \"reality\", \"reality\", \"reality\", \"reality\", \"really\", \"really\", \"really\", \"really\", \"really\", \"really\", \"really\", \"really\", \"recipient\", \"recognition\", \"rectangle\", \"reds\", \"reform\", \"reform\", \"registers\", \"religion\", \"religion\", \"religion\", \"religions\", \"religious\", \"religious\", \"religious\", \"remark\", \"remember\", \"remember\", \"remember\", \"remember\", \"remember\", \"remember\", \"reported\", \"reported\", \"reported\", \"reported\", \"reported\", \"reported\", \"reported\", \"republic\", \"republicans\", \"request\", \"request\", \"request\", \"request\", \"request\", \"requests\", \"requests\", \"requests\", \"research\", \"research\", \"research\", \"research\", \"research\", \"research\", \"resource\", \"resource\", \"resurrection\", \"retail\", \"return\", \"return\", \"return\", \"return\", \"return\", \"return\", \"return\", \"return\", \"return\", \"return\", \"return\", \"return\", \"return\", \"reuss\", \"revelation\", \"revenues\", \"rider\", \"rider\", \"right\", \"right\", \"right\", \"right\", \"right\", \"right\", \"right\", \"right\", \"right\", \"riley\", \"riots\", \"ripem\", \"rlhz\", \"rname\", \"road\", \"road\", \"road\", \"road\", \"road\", \"road\", \"road\", \"road\", \"rochester\", \"rochester\", \"rockefeller\", \"rocket\", \"rocket\", \"rode\", \"room\", \"room\", \"room\", \"room\", \"room\", \"rows\", \"rows\", \"royals\", \"rsaref\", \"rules\", \"rules\", \"rules\", \"rules\", \"rules\", \"runner\", \"running\", \"running\", \"running\", \"running\", \"running\", \"runs\", \"runs\", \"runs\", \"runs\", \"runs\", \"runs\", \"runs\", \"russia\", \"russia\", \"russia\", \"russia\", \"russian\", \"russian\", \"russian\", \"russian\", \"sabbath\", \"sabres\", \"said\", \"said\", \"said\", \"said\", \"said\", \"said\", \"said\", \"said\", \"said\", \"salary\", \"sale\", \"sale\", \"sale\", \"sale\", \"satellite\", \"satellites\", \"saturn\", \"scheme\", \"scheme\", \"science\", \"science\", \"science\", \"science\", \"score\", \"score\", \"scored\", \"scorer\", \"scorer\", \"scores\", \"scores\", \"scoring\", \"screen\", \"screen\", \"screen\", \"scripture\", \"scsi\", \"sdpa\", \"seagate\", \"season\", \"second\", \"second\", \"second\", \"second\", \"second\", \"second\", \"second\", \"second\", \"second\", \"second\", \"second\", \"secret\", \"secret\", \"secret\", \"secret\", \"secret\", \"secretary\", \"secretary\", \"section\", \"section\", \"section\", \"section\", \"section\", \"section\", \"secure\", \"secure\", \"security\", \"security\", \"security\", \"security\", \"security\", \"senate\", \"senator\", \"send\", \"send\", \"send\", \"send\", \"send\", \"send\", \"send\", \"send\", \"send\", \"send\", \"send\", \"send\", \"sender\", \"senior\", \"senior\", \"senior\", \"serdar\", \"serial\", \"serial\", \"serial\", \"serious\", \"serious\", \"serious\", \"serious\", \"serious\", \"serious\", \"server\", \"server\", \"service\", \"service\", \"service\", \"service\", \"service\", \"service\", \"service\", \"service\", \"settings\", \"settings\", \"shade\", \"shaft\", \"shaft\", \"shaft\", \"shameful\", \"sharks\", \"shipping\", \"shipping\", \"shipping\", \"ships\", \"shuttle\", \"siggraph\", \"simms\", \"since\", \"since\", \"since\", \"since\", \"since\", \"since\", \"since\", \"since\", \"since\", \"since\", \"since\", \"since\", \"since\", \"sinus\", \"site\", \"site\", \"site\", \"site\", \"site\", \"site\", \"sites\", \"sites\", \"sites\", \"sites\", \"size\", \"size\", \"size\", \"size\", \"size\", \"size\", \"size\", \"size\", \"skepticism\", \"skipjack\", \"slave\", \"slave\", \"sleeve\", \"slots\", \"smith\", \"smith\", \"smith\", \"smith\", \"smokeless\", \"smoking\", \"smoking\", \"smythe\", \"snuff\", \"sockets\", \"software\", \"software\", \"software\", \"software\", \"software\", \"solar\", \"soldiers\", \"soldiers\", \"soldiers\", \"soldiers\", \"solution\", \"solution\", \"solution\", \"solution\", \"solution\", \"solution\", \"solution\", \"something\", \"something\", \"something\", \"something\", \"something\", \"something\", \"something\", \"soon\", \"soon\", \"soon\", \"soon\", \"soon\", \"soon\", \"soon\", \"soon\", \"soon\", \"soon\", \"sound\", \"sound\", \"sound\", \"sound\", \"soundblaster\", \"soundblaster\", \"source\", \"source\", \"source\", \"source\", \"source\", \"source\", \"source\", \"source\", \"source\", \"source\", \"south\", \"south\", \"south\", \"south\", \"south\", \"south\", \"south\", \"soviet\", \"soviet\", \"soviet\", \"space\", \"space\", \"space\", \"space\", \"spacecraft\", \"spacewalks\", \"sparc\", \"spare\", \"speakers\", \"speakers\", \"speakers\", \"speakers\", \"speed\", \"speed\", \"speed\", \"speed\", \"speed\", \"speeds\", \"speedstar\", \"spence\", \"spirit\", \"spirit\", \"spirit\", \"springfield\", \"standard\", \"standard\", \"standard\", \"standard\", \"standard\", \"standard\", \"standing\", \"standing\", \"state\", \"state\", \"state\", \"state\", \"state\", \"state\", \"state\", \"state\", \"state\", \"state\", \"state\", \"states\", \"states\", \"states\", \"states\", \"states\", \"states\", \"states\", \"states\", \"station\", \"station\", \"station\", \"station\", \"station\", \"stderr\", \"stdin\", \"stealth\", \"steep\", \"stefan\", \"stephanopoulos\", \"stephen\", \"stephen\", \"stephen\", \"stephen\", \"stephen\", \"stephen\", \"stereo\", \"steve\", \"steve\", \"steve\", \"steve\", \"steve\", \"steve\", \"steve\", \"stewart\", \"sticking\", \"still\", \"still\", \"still\", \"still\", \"still\", \"still\", \"still\", \"still\", \"still\", \"stimulus\", \"stool\", \"streak\", \"street\", \"street\", \"street\", \"street\", \"street\", \"street\", \"street\", \"strong\", \"strong\", \"strong\", \"strong\", \"strong\", \"strong\", \"studies\", \"studies\", \"studies\", \"study\", \"study\", \"study\", \"study\", \"subject\", \"subject\", \"subject\", \"subject\", \"subject\", \"subject\", \"subject\", \"subject\", \"subject\", \"subject\", \"subject\", \"subject\", \"submitting\", \"substitution\", \"suck\", \"sumgait\", \"sunos\", \"support\", \"support\", \"support\", \"support\", \"support\", \"support\", \"support\", \"support\", \"sure\", \"sure\", \"sure\", \"sure\", \"sure\", \"sure\", \"sure\", \"sure\", \"sure\", \"sure\", \"surrender\", \"surrender\", \"swing\", \"symbol\", \"sync\", \"syria\", \"syria\", \"system\", \"system\", \"system\", \"system\", \"system\", \"system\", \"system\", \"system\", \"system\", \"system\", \"system\", \"systemic\", \"take\", \"take\", \"take\", \"take\", \"take\", \"take\", \"take\", \"take\", \"tamu\", \"targa\", \"tbxn\", \"tbxom\", \"team\", \"team\", \"team\", \"teams\", \"technology\", \"technology\", \"technology\", \"technology\", \"technology\", \"technology\", \"technology\", \"techworks\", \"telecommunications\", \"telescope\", \"telling\", \"telling\", \"telling\", \"telnet\", \"terminals\", \"territories\", \"territories\", \"territory\", \"territory\", \"territory\", \"testament\", \"texas\", \"texas\", \"texas\", \"texas\", \"texas\", \"thanks\", \"thanks\", \"thanks\", \"thanks\", \"thanks\", \"thanks\", \"thanks\", \"thanks\", \"thanx\", \"theory\", \"theory\", \"theory\", \"theory\", \"therapy\", \"thing\", \"thing\", \"thing\", \"thing\", \"thing\", \"thing\", \"thing\", \"thing\", \"thing\", \"things\", \"things\", \"things\", \"things\", \"things\", \"things\", \"things\", \"things\", \"things\", \"think\", \"think\", \"think\", \"think\", \"think\", \"think\", \"think\", \"think\", \"think\", \"third\", \"third\", \"third\", \"third\", \"third\", \"third\", \"third\", \"third\", \"third\", \"threat\", \"throttle\", \"ticket\", \"ticket\", \"ticket\", \"time\", \"time\", \"time\", \"time\", \"time\", \"time\", \"time\", \"time\", \"time\", \"time\", \"time\", \"time\", \"tire\", \"title\", \"title\", \"title\", \"title\", \"title\", \"title\", \"toad\", \"tobacco\", \"tobacco\", \"today\", \"today\", \"today\", \"today\", \"today\", \"today\", \"today\", \"told\", \"told\", \"told\", \"told\", \"told\", \"toolkit\", \"toronto\", \"toronto\", \"toronto\", \"toronto\", \"traded\", \"treatment\", \"treatment\", \"treatment\", \"troops\", \"troops\", \"troops\", \"true\", \"true\", \"true\", \"true\", \"true\", \"true\", \"true\", \"true\", \"true\", \"truth\", \"truth\", \"tube\", \"tube\", \"tube\", \"tubes\", \"tulsa\", \"turbo\", \"turbo\", \"turkey\", \"turkish\", \"turks\", \"twins\", \"uccxkvb\", \"unassisted\", \"unauthorized\", \"undefined\", \"undefined\", \"unit\", \"unit\", \"unit\", \"unit\", \"united\", \"united\", \"united\", \"united\", \"united\", \"united\", \"university\", \"university\", \"university\", \"university\", \"university\", \"university\", \"university\", \"university\", \"university\", \"university\", \"university\", \"unix\", \"unix\", \"unsigned\", \"upenn\", \"upenn\", \"upgrade\", \"upgrade\", \"used\", \"used\", \"used\", \"used\", \"used\", \"used\", \"used\", \"used\", \"used\", \"used\", \"used\", \"used\", \"usenet\", \"usenet\", \"usenet\", \"user\", \"user\", \"user\", \"users\", \"users\", \"users\", \"users\", \"users\", \"users\", \"users\", \"using\", \"using\", \"using\", \"using\", \"using\", \"using\", \"using\", \"using\", \"using\", \"uuencode\", \"uuname\", \"vancouver\", \"vancouver\", \"vancouver\", \"vancouver\", \"vanilla\", \"vehicle\", \"vehicle\", \"venus\", \"version\", \"version\", \"version\", \"version\", \"version\", \"version\", \"version\", \"version\", \"vesa\", \"vice\", \"vice\", \"vice\", \"vice\", \"victor\", \"video\", \"video\", \"video\", \"video\", \"video\", \"viola\", \"violence\", \"virtual\", \"virtual\", \"virtual\", \"visual\", \"visual\", \"visual\", \"voltage\", \"volvo\", \"vram\", \"wales\", \"walking\", \"want\", \"want\", \"want\", \"want\", \"want\", \"want\", \"warrant\", \"warranty\", \"weapons\", \"weapons\", \"weaver\", \"well\", \"well\", \"well\", \"well\", \"well\", \"well\", \"well\", \"well\", \"well\", \"well\", \"well\", \"well\", \"well\", \"went\", \"went\", \"went\", \"went\", \"whats\", \"whitespace\", \"widget\", \"widgets\", \"window\", \"window\", \"windows\", \"windows\", \"winfield\", \"wings\", \"wings\", \"wings\", \"winners\", \"winners\", \"wire\", \"wire\", \"wire\", \"wiring\", \"withdraw\", \"wmbxn\", \"wolverine\", \"wont\", \"word\", \"word\", \"word\", \"word\", \"word\", \"word\", \"work\", \"work\", \"work\", \"work\", \"work\", \"work\", \"work\", \"work\", \"work\", \"work\", \"working\", \"working\", \"working\", \"working\", \"working\", \"working\", \"working\", \"world\", \"world\", \"world\", \"world\", \"world\", \"world\", \"world\", \"world\", \"world\", \"world\", \"world\", \"world\", \"worse\", \"worse\", \"worse\", \"worse\", \"worship\", \"would\", \"would\", \"would\", \"would\", \"would\", \"would\", \"would\", \"would\", \"would\", \"write\", \"write\", \"write\", \"write\", \"write\", \"write\", \"write\", \"write\", \"wwhj\", \"wwii\", \"wwiz\", \"xfile\", \"xlib\", \"xmosaic\", \"xterm\", \"xview\", \"xvoid\", \"yalcin\", \"yankees\", \"yassin\", \"year\", \"year\", \"year\", \"year\", \"year\", \"year\", \"year\", \"year\", \"years\", \"years\", \"years\", \"years\", \"years\", \"years\", \"years\", \"years\", \"yeast\", \"yeast\", \"yeltsin\", \"york\", \"york\", \"york\", \"york\", \"york\", \"york\", \"york\", \"york\", \"york\", \"yorn\", \"zealand\", \"zealand\", \"zionism\", \"zionist\", \"zrck\", \"zrlk\"]}, \"R\": 30, \"lambda.step\": 0.01, \"plot.opts\": {\"xlab\": \"PC1\", \"ylab\": \"PC2\"}, \"topic.order\": [3, 2, 11, 15, 5, 19, 10, 8, 9, 17, 20, 1, 7, 4, 13, 12, 6, 16, 18, 14]};\n",
       "\n",
       "function LDAvis_load_lib(url, callback){\n",
       "  var s = document.createElement('script');\n",
       "  s.src = url;\n",
       "  s.async = true;\n",
       "  s.onreadystatechange = s.onload = callback;\n",
       "  s.onerror = function(){console.warn(\"failed to load library \" + url);};\n",
       "  document.getElementsByTagName(\"head\")[0].appendChild(s);\n",
       "}\n",
       "\n",
       "if(typeof(LDAvis) !== \"undefined\"){\n",
       "   // already loaded: just create the visualization\n",
       "   !function(LDAvis){\n",
       "       new LDAvis(\"#\" + \"ldavis_el1021407060597304002117801435\", ldavis_el1021407060597304002117801435_data);\n",
       "   }(LDAvis);\n",
       "}else if(typeof define === \"function\" && define.amd){\n",
       "   // require.js is available: use it to load d3/LDAvis\n",
       "   require.config({paths: {d3: \"https://cdnjs.cloudflare.com/ajax/libs/d3/3.5.5/d3.min\"}});\n",
       "   require([\"d3\"], function(d3){\n",
       "      window.d3 = d3;\n",
       "      LDAvis_load_lib(\"https://cdn.rawgit.com/bmabey/pyLDAvis/files/ldavis.v1.0.0.js\", function(){\n",
       "        new LDAvis(\"#\" + \"ldavis_el1021407060597304002117801435\", ldavis_el1021407060597304002117801435_data);\n",
       "      });\n",
       "    });\n",
       "}else{\n",
       "    // require.js not available: dynamically load d3 & LDAvis\n",
       "    LDAvis_load_lib(\"https://cdnjs.cloudflare.com/ajax/libs/d3/3.5.5/d3.min.js\", function(){\n",
       "         LDAvis_load_lib(\"https://cdn.rawgit.com/bmabey/pyLDAvis/files/ldavis.v1.0.0.js\", function(){\n",
       "                 new LDAvis(\"#\" + \"ldavis_el1021407060597304002117801435\", ldavis_el1021407060597304002117801435_data);\n",
       "            })\n",
       "         });\n",
       "}\n",
       "</script>"
      ],
      "text/plain": [
       "<IPython.core.display.HTML object>"
      ]
     },
     "execution_count": 33,
     "metadata": {
      "tags": []
     },
     "output_type": "execute_result"
    }
   ],
   "source": [
    "import pyLDAvis.gensim\n",
    "pyLDAvis.enable_notebook()\n",
    "vis = pyLDAvis.gensim.prepare(ldamodel, corpus, dictionary)\n",
    "pyLDAvis.display(vis)\n",
    "# LDA 시각화에서는 토픽의 번호가 1부터 시작하므로 각 토픽 번호는  +1이 된 값인 1~20까지의 값을 가진다"
   ]
  },
  {
   "cell_type": "markdown",
   "metadata": {
    "colab_type": "text",
    "id": "x1SRPLp0B7c7"
   },
   "source": [
    "####  문서 별 토픽 분포 보기"
   ]
  },
  {
   "cell_type": "code",
   "execution_count": 34,
   "metadata": {
    "colab": {
     "base_uri": "https://localhost:8080/",
     "height": 110
    },
    "colab_type": "code",
    "executionInfo": {
     "elapsed": 217109,
     "status": "ok",
     "timestamp": 1600822477477,
     "user": {
      "displayName": "고병화",
      "photoUrl": "https://lh3.googleusercontent.com/a-/AOh14GgLZcAZyPt33HiIqtXjHiL8D4PIcVPdfLgODP1QBA=s64",
      "userId": "12645007744594631320"
     },
     "user_tz": -540
    },
    "id": "y3YMeRJ6B7c8",
    "outputId": "d0a686a2-7056-4787-f3cd-f6b1d65c18e9"
   },
   "outputs": [
    {
     "name": "stdout",
     "output_type": "stream",
     "text": [
      "0 번째 문서의 topic 비율은 [(2, 0.5892057), (3, 0.085329935), (5, 0.08762221), (6, 0.019311111), (8, 0.09707698), (14, 0.04149833), (16, 0.06947183)]\n",
      "1 번째 문서의 topic 비율은 [(2, 0.6694423), (5, 0.027113773), (14, 0.22275634), (18, 0.06117537)]\n",
      "2 번째 문서의 topic 비율은 [(1, 0.050435048), (2, 0.6036984), (3, 0.21677157), (8, 0.0845649), (16, 0.0324333)]\n",
      "3 번째 문서의 topic 비율은 [(1, 0.13677952), (2, 0.34273043), (3, 0.071561806), (7, 0.2420249), (16, 0.19570929)]\n",
      "4 번째 문서의 topic 비율은 [(0, 0.0711492), (2, 0.26159263), (15, 0.29692638), (18, 0.34070218)]\n"
     ]
    }
   ],
   "source": [
    "for i, topic_list in enumerate(ldamodel[corpus]):\n",
    "    if i==5:\n",
    "        break\n",
    "    print(i,'번째 문서의 topic 비율은',topic_list)\n",
    "# (숫자, 확률)은 각각 토픽 번호와 해당 토픽이 해당 문서에서 차지하는 분포도를 의미"
   ]
  },
  {
   "cell_type": "code",
   "execution_count": 35,
   "metadata": {
    "colab": {},
    "colab_type": "code",
    "executionInfo": {
     "elapsed": 217107,
     "status": "ok",
     "timestamp": 1600822477478,
     "user": {
      "displayName": "고병화",
      "photoUrl": "https://lh3.googleusercontent.com/a-/AOh14GgLZcAZyPt33HiIqtXjHiL8D4PIcVPdfLgODP1QBA=s64",
      "userId": "12645007744594631320"
     },
     "user_tz": -540
    },
    "id": "MSfbq8ikB7dB"
   },
   "outputs": [],
   "source": [
    "def make_topictable_per_doc(ldamodel, corpus):\n",
    "    topic_table = pd.DataFrame()\n",
    "\n",
    "    # 몇 번째 문서인지를 의미하는 문서 번호와 해당 문서의 토픽 비중을 한 줄씩 꺼내온다.\n",
    "    for i, topic_list in enumerate(ldamodel[corpus]):\n",
    "        doc = topic_list[0] if ldamodel.per_word_topics else topic_list            \n",
    "        doc = sorted(doc, key=lambda x: (x[1]), reverse=True)\n",
    "        # 각 문서에 대해서 비중이 높은 토픽순으로 토픽을 정렬한다.\n",
    "        # EX) 정렬 전 0번 문서 : (2번 토픽, 48.5%), (8번 토픽, 25%), (10번 토픽, 5%), (12번 토픽, 21.5%), \n",
    "        # Ex) 정렬 후 0번 문서 : (2번 토픽, 48.5%), (8번 토픽, 25%), (12번 토픽, 21.5%), (10번 토픽, 5%)\n",
    "        # 48 > 25 > 21 > 5 순으로 정렬이 된 것.\n",
    "\n",
    "        # 모든 문서에 대해서 각각 아래를 수행\n",
    "        for j, (topic_num, prop_topic) in enumerate(doc): #  몇 번 토픽인지와 비중을 나눠서 저장한다.\n",
    "            if j == 0:  # 정렬을 한 상태이므로 가장 앞에 있는 것이 가장 비중이 높은 토픽\n",
    "                topic_table = topic_table.append(pd.Series([int(topic_num), round(prop_topic,4), topic_list]), ignore_index=True)\n",
    "                # 가장 비중이 높은 토픽과, 가장 비중이 높은 토픽의 비중과, 전체 토픽의 비중을 저장한다.\n",
    "            else:\n",
    "                break\n",
    "    return(topic_table)"
   ]
  },
  {
   "cell_type": "code",
   "execution_count": 36,
   "metadata": {
    "colab": {
     "base_uri": "https://localhost:8080/",
     "height": 349
    },
    "colab_type": "code",
    "executionInfo": {
     "elapsed": 263208,
     "status": "ok",
     "timestamp": 1600822523587,
     "user": {
      "displayName": "고병화",
      "photoUrl": "https://lh3.googleusercontent.com/a-/AOh14GgLZcAZyPt33HiIqtXjHiL8D4PIcVPdfLgODP1QBA=s64",
      "userId": "12645007744594631320"
     },
     "user_tz": -540
    },
    "id": "IUhFLTJxB7dI",
    "outputId": "f3b3ff0d-deec-48d3-9c80-5e86fd005af7"
   },
   "outputs": [
    {
     "data": {
      "text/html": [
       "<div>\n",
       "<style scoped>\n",
       "    .dataframe tbody tr th:only-of-type {\n",
       "        vertical-align: middle;\n",
       "    }\n",
       "\n",
       "    .dataframe tbody tr th {\n",
       "        vertical-align: top;\n",
       "    }\n",
       "\n",
       "    .dataframe thead th {\n",
       "        text-align: right;\n",
       "    }\n",
       "</style>\n",
       "<table border=\"1\" class=\"dataframe\">\n",
       "  <thead>\n",
       "    <tr style=\"text-align: right;\">\n",
       "      <th></th>\n",
       "      <th>문서 번호</th>\n",
       "      <th>가장 비중이 높은 토픽</th>\n",
       "      <th>가장 높은 토픽의 비중</th>\n",
       "      <th>각 토픽의 비중</th>\n",
       "    </tr>\n",
       "  </thead>\n",
       "  <tbody>\n",
       "    <tr>\n",
       "      <th>0</th>\n",
       "      <td>0</td>\n",
       "      <td>2.0</td>\n",
       "      <td>0.5893</td>\n",
       "      <td>[(2, 0.5892792), (3, 0.085332036), (5, 0.08762...</td>\n",
       "    </tr>\n",
       "    <tr>\n",
       "      <th>1</th>\n",
       "      <td>1</td>\n",
       "      <td>2.0</td>\n",
       "      <td>0.6695</td>\n",
       "      <td>[(2, 0.669465), (5, 0.027113557), (14, 0.22273...</td>\n",
       "    </tr>\n",
       "    <tr>\n",
       "      <th>2</th>\n",
       "      <td>2</td>\n",
       "      <td>2.0</td>\n",
       "      <td>0.6037</td>\n",
       "      <td>[(1, 0.05042512), (2, 0.60370976), (3, 0.21677...</td>\n",
       "    </tr>\n",
       "    <tr>\n",
       "      <th>3</th>\n",
       "      <td>3</td>\n",
       "      <td>2.0</td>\n",
       "      <td>0.3430</td>\n",
       "      <td>[(1, 0.13646905), (2, 0.34304067), (3, 0.07154...</td>\n",
       "    </tr>\n",
       "    <tr>\n",
       "      <th>4</th>\n",
       "      <td>4</td>\n",
       "      <td>18.0</td>\n",
       "      <td>0.3407</td>\n",
       "      <td>[(0, 0.07114737), (2, 0.26160467), (15, 0.2969...</td>\n",
       "    </tr>\n",
       "    <tr>\n",
       "      <th>5</th>\n",
       "      <td>5</td>\n",
       "      <td>2.0</td>\n",
       "      <td>0.3768</td>\n",
       "      <td>[(2, 0.37676367), (4, 0.24500214), (6, 0.17987...</td>\n",
       "    </tr>\n",
       "    <tr>\n",
       "      <th>6</th>\n",
       "      <td>6</td>\n",
       "      <td>19.0</td>\n",
       "      <td>0.6675</td>\n",
       "      <td>[(1, 0.17916565), (2, 0.028346593), (10, 0.111...</td>\n",
       "    </tr>\n",
       "    <tr>\n",
       "      <th>7</th>\n",
       "      <td>7</td>\n",
       "      <td>2.0</td>\n",
       "      <td>0.6212</td>\n",
       "      <td>[(1, 0.040624853), (2, 0.621196), (3, 0.199067...</td>\n",
       "    </tr>\n",
       "    <tr>\n",
       "      <th>8</th>\n",
       "      <td>8</td>\n",
       "      <td>2.0</td>\n",
       "      <td>0.4466</td>\n",
       "      <td>[(2, 0.44662997), (7, 0.1321608), (17, 0.39823...</td>\n",
       "    </tr>\n",
       "    <tr>\n",
       "      <th>9</th>\n",
       "      <td>9</td>\n",
       "      <td>1.0</td>\n",
       "      <td>0.6814</td>\n",
       "      <td>[(1, 0.68144804), (2, 0.13231188), (3, 0.01804...</td>\n",
       "    </tr>\n",
       "  </tbody>\n",
       "</table>\n",
       "</div>"
      ],
      "text/plain": [
       "   문서 번호  ...                                           각 토픽의 비중\n",
       "0      0  ...  [(2, 0.5892792), (3, 0.085332036), (5, 0.08762...\n",
       "1      1  ...  [(2, 0.669465), (5, 0.027113557), (14, 0.22273...\n",
       "2      2  ...  [(1, 0.05042512), (2, 0.60370976), (3, 0.21677...\n",
       "3      3  ...  [(1, 0.13646905), (2, 0.34304067), (3, 0.07154...\n",
       "4      4  ...  [(0, 0.07114737), (2, 0.26160467), (15, 0.2969...\n",
       "5      5  ...  [(2, 0.37676367), (4, 0.24500214), (6, 0.17987...\n",
       "6      6  ...  [(1, 0.17916565), (2, 0.028346593), (10, 0.111...\n",
       "7      7  ...  [(1, 0.040624853), (2, 0.621196), (3, 0.199067...\n",
       "8      8  ...  [(2, 0.44662997), (7, 0.1321608), (17, 0.39823...\n",
       "9      9  ...  [(1, 0.68144804), (2, 0.13231188), (3, 0.01804...\n",
       "\n",
       "[10 rows x 4 columns]"
      ]
     },
     "execution_count": 36,
     "metadata": {
      "tags": []
     },
     "output_type": "execute_result"
    }
   ],
   "source": [
    "topictable = make_topictable_per_doc(ldamodel, corpus)\n",
    "topictable = topictable.reset_index() # 문서 번호을 의미하는 열(column)로 사용하기 위해서 인덱스 열을 하나 더 만든다.\n",
    "topictable.columns = ['문서 번호', '가장 비중이 높은 토픽', '가장 높은 토픽의 비중', '각 토픽의 비중']\n",
    "topictable[:10]"
   ]
  },
  {
   "cell_type": "markdown",
   "metadata": {
    "colab_type": "text",
    "id": "l0YO6B_sB7dP"
   },
   "source": [
    "###  잠재 디리클레 할당(LDA) 구현 : 뉴스 기사 헤드라인 "
   ]
  },
  {
   "cell_type": "code",
   "execution_count": 37,
   "metadata": {
    "colab": {},
    "colab_type": "code",
    "executionInfo": {
     "elapsed": 265679,
     "status": "ok",
     "timestamp": 1600822526063,
     "user": {
      "displayName": "고병화",
      "photoUrl": "https://lh3.googleusercontent.com/a-/AOh14GgLZcAZyPt33HiIqtXjHiL8D4PIcVPdfLgODP1QBA=s64",
      "userId": "12645007744594631320"
     },
     "user_tz": -540
    },
    "id": "LIQ2LWoRB7dQ"
   },
   "outputs": [],
   "source": [
    "import pandas as pd\n",
    "import urllib.request\n",
    "urllib.request.urlretrieve(\"https://raw.githubusercontent.com/franciscadias/data/master/abcnews-date-text.csv\", filename=\"abcnews-date-text.csv\")\n",
    "data = pd.read_csv('abcnews-date-text.csv', error_bad_lines=False)\n",
    "# 약 15년 동안 발행되었던 뉴스 기사 제목을 모아놓은 영어 데이터"
   ]
  },
  {
   "cell_type": "code",
   "execution_count": 38,
   "metadata": {
    "colab": {
     "base_uri": "https://localhost:8080/",
     "height": 36
    },
    "colab_type": "code",
    "executionInfo": {
     "elapsed": 265677,
     "status": "ok",
     "timestamp": 1600822526069,
     "user": {
      "displayName": "고병화",
      "photoUrl": "https://lh3.googleusercontent.com/a-/AOh14GgLZcAZyPt33HiIqtXjHiL8D4PIcVPdfLgODP1QBA=s64",
      "userId": "12645007744594631320"
     },
     "user_tz": -540
    },
    "id": "L3ogGjtfB7dY",
    "outputId": "8d733c8f-cfd8-467f-8f7f-ac36ef7bfdbe"
   },
   "outputs": [
    {
     "name": "stdout",
     "output_type": "stream",
     "text": [
      "1082168\n"
     ]
    }
   ],
   "source": [
    "print(len(data))"
   ]
  },
  {
   "cell_type": "code",
   "execution_count": 39,
   "metadata": {
    "colab": {
     "base_uri": "https://localhost:8080/",
     "height": 128
    },
    "colab_type": "code",
    "executionInfo": {
     "elapsed": 265666,
     "status": "ok",
     "timestamp": 1600822526070,
     "user": {
      "displayName": "고병화",
      "photoUrl": "https://lh3.googleusercontent.com/a-/AOh14GgLZcAZyPt33HiIqtXjHiL8D4PIcVPdfLgODP1QBA=s64",
      "userId": "12645007744594631320"
     },
     "user_tz": -540
    },
    "id": "WUqlnvzcB7dd",
    "outputId": "dd80071d-54af-426f-a13d-2341ce938d01"
   },
   "outputs": [
    {
     "name": "stdout",
     "output_type": "stream",
     "text": [
      "   publish_date                                      headline_text\n",
      "0      20030219  aba decides against community broadcasting lic...\n",
      "1      20030219     act fire witnesses must be aware of defamation\n",
      "2      20030219     a g calls for infrastructure protection summit\n",
      "3      20030219           air nz staff in aust strike for pay rise\n",
      "4      20030219      air nz strike to affect australian travellers\n"
     ]
    }
   ],
   "source": [
    "print(data.head(5))"
   ]
  },
  {
   "cell_type": "code",
   "execution_count": 40,
   "metadata": {
    "colab": {
     "base_uri": "https://localhost:8080/",
     "height": 198
    },
    "colab_type": "code",
    "executionInfo": {
     "elapsed": 265657,
     "status": "ok",
     "timestamp": 1600822526072,
     "user": {
      "displayName": "고병화",
      "photoUrl": "https://lh3.googleusercontent.com/a-/AOh14GgLZcAZyPt33HiIqtXjHiL8D4PIcVPdfLgODP1QBA=s64",
      "userId": "12645007744594631320"
     },
     "user_tz": -540
    },
    "id": "KZFNIHsCB7dj",
    "outputId": "7b59a720-2f00-46ef-fbf3-49a46e82641e"
   },
   "outputs": [
    {
     "data": {
      "text/html": [
       "<div>\n",
       "<style scoped>\n",
       "    .dataframe tbody tr th:only-of-type {\n",
       "        vertical-align: middle;\n",
       "    }\n",
       "\n",
       "    .dataframe tbody tr th {\n",
       "        vertical-align: top;\n",
       "    }\n",
       "\n",
       "    .dataframe thead th {\n",
       "        text-align: right;\n",
       "    }\n",
       "</style>\n",
       "<table border=\"1\" class=\"dataframe\">\n",
       "  <thead>\n",
       "    <tr style=\"text-align: right;\">\n",
       "      <th></th>\n",
       "      <th>headline_text</th>\n",
       "    </tr>\n",
       "  </thead>\n",
       "  <tbody>\n",
       "    <tr>\n",
       "      <th>0</th>\n",
       "      <td>aba decides against community broadcasting lic...</td>\n",
       "    </tr>\n",
       "    <tr>\n",
       "      <th>1</th>\n",
       "      <td>act fire witnesses must be aware of defamation</td>\n",
       "    </tr>\n",
       "    <tr>\n",
       "      <th>2</th>\n",
       "      <td>a g calls for infrastructure protection summit</td>\n",
       "    </tr>\n",
       "    <tr>\n",
       "      <th>3</th>\n",
       "      <td>air nz staff in aust strike for pay rise</td>\n",
       "    </tr>\n",
       "    <tr>\n",
       "      <th>4</th>\n",
       "      <td>air nz strike to affect australian travellers</td>\n",
       "    </tr>\n",
       "  </tbody>\n",
       "</table>\n",
       "</div>"
      ],
      "text/plain": [
       "                                       headline_text\n",
       "0  aba decides against community broadcasting lic...\n",
       "1     act fire witnesses must be aware of defamation\n",
       "2     a g calls for infrastructure protection summit\n",
       "3           air nz staff in aust strike for pay rise\n",
       "4      air nz strike to affect australian travellers"
      ]
     },
     "execution_count": 40,
     "metadata": {
      "tags": []
     },
     "output_type": "execute_result"
    }
   ],
   "source": [
    "text = data[['headline_text']]\n",
    "text.head(5)"
   ]
  },
  {
   "cell_type": "code",
   "execution_count": 41,
   "metadata": {
    "colab": {
     "base_uri": "https://localhost:8080/",
     "height": 73
    },
    "colab_type": "code",
    "executionInfo": {
     "elapsed": 266429,
     "status": "ok",
     "timestamp": 1600822526853,
     "user": {
      "displayName": "고병화",
      "photoUrl": "https://lh3.googleusercontent.com/a-/AOh14GgLZcAZyPt33HiIqtXjHiL8D4PIcVPdfLgODP1QBA=s64",
      "userId": "12645007744594631320"
     },
     "user_tz": -540
    },
    "id": "TST2w-OTDjYQ",
    "outputId": "e4e36e16-da7a-4e9b-9865-96b4b9f6d7e0"
   },
   "outputs": [
    {
     "name": "stdout",
     "output_type": "stream",
     "text": [
      "[nltk_data] Downloading package punkt to /root/nltk_data...\n",
      "[nltk_data]   Unzipping tokenizers/punkt.zip.\n"
     ]
    },
    {
     "data": {
      "text/plain": [
       "True"
      ]
     },
     "execution_count": 41,
     "metadata": {
      "tags": []
     },
     "output_type": "execute_result"
    }
   ],
   "source": [
    "  import nltk\n",
    "  nltk.download('punkt')"
   ]
  },
  {
   "cell_type": "code",
   "execution_count": 42,
   "metadata": {
    "colab": {
     "base_uri": "https://localhost:8080/",
     "height": 128
    },
    "colab_type": "code",
    "executionInfo": {
     "elapsed": 383661,
     "status": "ok",
     "timestamp": 1600822644094,
     "user": {
      "displayName": "고병화",
      "photoUrl": "https://lh3.googleusercontent.com/a-/AOh14GgLZcAZyPt33HiIqtXjHiL8D4PIcVPdfLgODP1QBA=s64",
      "userId": "12645007744594631320"
     },
     "user_tz": -540
    },
    "id": "SVAmFrz3B7dr",
    "outputId": "8d36a018-38cf-4a6d-de3d-cffe32af7ad4"
   },
   "outputs": [
    {
     "name": "stderr",
     "output_type": "stream",
     "text": [
      "/usr/local/lib/python3.6/dist-packages/ipykernel_launcher.py:3: SettingWithCopyWarning: \n",
      "A value is trying to be set on a copy of a slice from a DataFrame.\n",
      "Try using .loc[row_indexer,col_indexer] = value instead\n",
      "\n",
      "See the caveats in the documentation: https://pandas.pydata.org/pandas-docs/stable/user_guide/indexing.html#returning-a-view-versus-a-copy\n",
      "  This is separate from the ipykernel package so we can avoid doing imports until\n"
     ]
    }
   ],
   "source": [
    "# 텍스트 전처리\n",
    "import nltk\n",
    "text['headline_text'] = text.apply(lambda row: nltk.word_tokenize(row['headline_text']), axis=1) "
   ]
  },
  {
   "cell_type": "code",
   "execution_count": 43,
   "metadata": {
    "colab": {
     "base_uri": "https://localhost:8080/",
     "height": 128
    },
    "colab_type": "code",
    "executionInfo": {
     "elapsed": 383654,
     "status": "ok",
     "timestamp": 1600822644095,
     "user": {
      "displayName": "고병화",
      "photoUrl": "https://lh3.googleusercontent.com/a-/AOh14GgLZcAZyPt33HiIqtXjHiL8D4PIcVPdfLgODP1QBA=s64",
      "userId": "12645007744594631320"
     },
     "user_tz": -540
    },
    "id": "viXyj8PhB7dy",
    "outputId": "e29ab550-f032-4b8c-f4a8-7953b7f992ee"
   },
   "outputs": [
    {
     "name": "stdout",
     "output_type": "stream",
     "text": [
      "                                       headline_text\n",
      "0  [aba, decides, against, community, broadcastin...\n",
      "1  [act, fire, witnesses, must, be, aware, of, de...\n",
      "2  [a, g, calls, for, infrastructure, protection,...\n",
      "3  [air, nz, staff, in, aust, strike, for, pay, r...\n",
      "4  [air, nz, strike, to, affect, australian, trav...\n"
     ]
    }
   ],
   "source": [
    "print(text.head(5))"
   ]
  },
  {
   "cell_type": "code",
   "execution_count": 44,
   "metadata": {
    "colab": {
     "base_uri": "https://localhost:8080/",
     "height": 128
    },
    "colab_type": "code",
    "executionInfo": {
     "elapsed": 397450,
     "status": "ok",
     "timestamp": 1600822657898,
     "user": {
      "displayName": "고병화",
      "photoUrl": "https://lh3.googleusercontent.com/a-/AOh14GgLZcAZyPt33HiIqtXjHiL8D4PIcVPdfLgODP1QBA=s64",
      "userId": "12645007744594631320"
     },
     "user_tz": -540
    },
    "id": "p3vLCVIfB7d8",
    "outputId": "218f8579-fd3e-4fee-be72-70acee7e4a81"
   },
   "outputs": [
    {
     "name": "stderr",
     "output_type": "stream",
     "text": [
      "/usr/local/lib/python3.6/dist-packages/ipykernel_launcher.py:3: SettingWithCopyWarning: \n",
      "A value is trying to be set on a copy of a slice from a DataFrame.\n",
      "Try using .loc[row_indexer,col_indexer] = value instead\n",
      "\n",
      "See the caveats in the documentation: https://pandas.pydata.org/pandas-docs/stable/user_guide/indexing.html#returning-a-view-versus-a-copy\n",
      "  This is separate from the ipykernel package so we can avoid doing imports until\n"
     ]
    }
   ],
   "source": [
    "from nltk.corpus import stopwords\n",
    "stop = stopwords.words('english')\n",
    "text['headline_text'] = text['headline_text'].apply(lambda x: [word for word in x if word not in (stop)]) # 불용어 제거"
   ]
  },
  {
   "cell_type": "code",
   "execution_count": 45,
   "metadata": {
    "colab": {
     "base_uri": "https://localhost:8080/",
     "height": 128
    },
    "colab_type": "code",
    "executionInfo": {
     "elapsed": 397443,
     "status": "ok",
     "timestamp": 1600822657899,
     "user": {
      "displayName": "고병화",
      "photoUrl": "https://lh3.googleusercontent.com/a-/AOh14GgLZcAZyPt33HiIqtXjHiL8D4PIcVPdfLgODP1QBA=s64",
      "userId": "12645007744594631320"
     },
     "user_tz": -540
    },
    "id": "A1J2hU9QB7eF",
    "outputId": "4d579dc3-84cd-40e5-8776-fcb9f6c89cfb"
   },
   "outputs": [
    {
     "name": "stdout",
     "output_type": "stream",
     "text": [
      "                                       headline_text\n",
      "0   [aba, decides, community, broadcasting, licence]\n",
      "1    [act, fire, witnesses, must, aware, defamation]\n",
      "2     [g, calls, infrastructure, protection, summit]\n",
      "3          [air, nz, staff, aust, strike, pay, rise]\n",
      "4  [air, nz, strike, affect, australian, travellers]\n"
     ]
    }
   ],
   "source": [
    "print(text.head(5))"
   ]
  },
  {
   "cell_type": "code",
   "execution_count": null,
   "metadata": {
    "colab": {},
    "colab_type": "code",
    "id": "93F68hdykEAv"
   },
   "outputs": [],
   "source": []
  },
  {
   "cell_type": "code",
   "execution_count": 49,
   "metadata": {
    "colab": {
     "base_uri": "https://localhost:8080/",
     "height": 240
    },
    "colab_type": "code",
    "executionInfo": {
     "elapsed": 25750,
     "status": "ok",
     "timestamp": 1600824197789,
     "user": {
      "displayName": "고병화",
      "photoUrl": "https://lh3.googleusercontent.com/a-/AOh14GgLZcAZyPt33HiIqtXjHiL8D4PIcVPdfLgODP1QBA=s64",
      "userId": "12645007744594631320"
     },
     "user_tz": -540
    },
    "id": "qScMah__B7eP",
    "outputId": "51e6b969-1313-46e6-bbd0-a321ba4b16e5"
   },
   "outputs": [
    {
     "name": "stdout",
     "output_type": "stream",
     "text": [
      "                                       headline_text\n",
      "0       [aba, decide, community, broadcast, licence]\n",
      "1      [act, fire, witness, must, aware, defamation]\n",
      "2      [g, call, infrastructure, protection, summit]\n",
      "3          [air, nz, staff, aust, strike, pay, rise]\n",
      "4  [air, nz, strike, affect, australian, travellers]\n"
     ]
    },
    {
     "name": "stderr",
     "output_type": "stream",
     "text": [
      "/usr/local/lib/python3.6/dist-packages/ipykernel_launcher.py:2: SettingWithCopyWarning: \n",
      "A value is trying to be set on a copy of a slice from a DataFrame.\n",
      "Try using .loc[row_indexer,col_indexer] = value instead\n",
      "\n",
      "See the caveats in the documentation: https://pandas.pydata.org/pandas-docs/stable/user_guide/indexing.html#returning-a-view-versus-a-copy\n",
      "  \n"
     ]
    }
   ],
   "source": [
    "from nltk.stem import WordNetLemmatizer\n",
    "text['headline_text'] = text['headline_text'].apply(lambda x: [WordNetLemmatizer().lemmatize(word, pos='v') for word in x]) # 표제어 추출\n",
    "print(text.head(5))"
   ]
  },
  {
   "cell_type": "code",
   "execution_count": 48,
   "metadata": {
    "colab": {
     "base_uri": "https://localhost:8080/",
     "height": 128
    },
    "colab_type": "code",
    "executionInfo": {
     "elapsed": 2819,
     "status": "ok",
     "timestamp": 1600824144030,
     "user": {
      "displayName": "고병화",
      "photoUrl": "https://lh3.googleusercontent.com/a-/AOh14GgLZcAZyPt33HiIqtXjHiL8D4PIcVPdfLgODP1QBA=s64",
      "userId": "12645007744594631320"
     },
     "user_tz": -540
    },
    "id": "H-YyMLdjB7eX",
    "outputId": "0022fd6a-4ef3-44bf-9ad5-055aaa1057a0"
   },
   "outputs": [
    {
     "name": "stdout",
     "output_type": "stream",
     "text": [
      "0    [decides, community, broadcasting, licence]\n",
      "1     [fire, witnesses, must, aware, defamation]\n",
      "2    [calls, infrastructure, protection, summit]\n",
      "3                    [staff, aust, strike, rise]\n",
      "4       [strike, affect, australian, travellers]\n",
      "Name: headline_text, dtype: object\n"
     ]
    }
   ],
   "source": [
    "tokenized_doc = text['headline_text'].apply(lambda x: [word for word in x if len(word) > 3])  # 길이가 3이하인 단어에 제거\n",
    "print(tokenized_doc[:5])"
   ]
  },
  {
   "cell_type": "markdown",
   "metadata": {
    "colab_type": "text",
    "id": "pw7U6rRdB7ef"
   },
   "source": [
    "#### TF-IDF 행렬 만들기"
   ]
  },
  {
   "cell_type": "code",
   "execution_count": 50,
   "metadata": {
    "colab": {
     "base_uri": "https://localhost:8080/",
     "height": 128
    },
    "colab_type": "code",
    "executionInfo": {
     "elapsed": 28723,
     "status": "ok",
     "timestamp": 1600824263603,
     "user": {
      "displayName": "고병화",
      "photoUrl": "https://lh3.googleusercontent.com/a-/AOh14GgLZcAZyPt33HiIqtXjHiL8D4PIcVPdfLgODP1QBA=s64",
      "userId": "12645007744594631320"
     },
     "user_tz": -540
    },
    "id": "noyCTaLkB7eg",
    "outputId": "3ee45bae-42f3-44d2-dbce-c156a4d97859"
   },
   "outputs": [
    {
     "name": "stderr",
     "output_type": "stream",
     "text": [
      "/usr/local/lib/python3.6/dist-packages/ipykernel_launcher.py:7: SettingWithCopyWarning: \n",
      "A value is trying to be set on a copy of a slice from a DataFrame.\n",
      "Try using .loc[row_indexer,col_indexer] = value instead\n",
      "\n",
      "See the caveats in the documentation: https://pandas.pydata.org/pandas-docs/stable/user_guide/indexing.html#returning-a-view-versus-a-copy\n",
      "  import sys\n"
     ]
    }
   ],
   "source": [
    "# 역토큰화 (토큰화 작업을 되돌림)\n",
    "detokenized_doc = []\n",
    "for i in range(len(text)):\n",
    "    t = ' '.join(tokenized_doc[i])\n",
    "    detokenized_doc.append(t)\n",
    "\n",
    "text['headline_text'] = detokenized_doc # 다시 text['headline_text']에 재저장"
   ]
  },
  {
   "cell_type": "code",
   "execution_count": 51,
   "metadata": {
    "colab": {
     "base_uri": "https://localhost:8080/",
     "height": 128
    },
    "colab_type": "code",
    "executionInfo": {
     "elapsed": 26729,
     "status": "ok",
     "timestamp": 1600824263604,
     "user": {
      "displayName": "고병화",
      "photoUrl": "https://lh3.googleusercontent.com/a-/AOh14GgLZcAZyPt33HiIqtXjHiL8D4PIcVPdfLgODP1QBA=s64",
      "userId": "12645007744594631320"
     },
     "user_tz": -540
    },
    "id": "ZtXqApN_B7el",
    "outputId": "fcb5f157-e5ea-41c5-c580-311c3ba25346"
   },
   "outputs": [
    {
     "data": {
      "text/plain": [
       "0    decides community broadcasting licence\n",
       "1      fire witnesses must aware defamation\n",
       "2    calls infrastructure protection summit\n",
       "3                    staff aust strike rise\n",
       "4       strike affect australian travellers\n",
       "Name: headline_text, dtype: object"
      ]
     },
     "execution_count": 51,
     "metadata": {
      "tags": []
     },
     "output_type": "execute_result"
    }
   ],
   "source": [
    "text['headline_text'][:5]"
   ]
  },
  {
   "cell_type": "code",
   "execution_count": 52,
   "metadata": {
    "colab": {
     "base_uri": "https://localhost:8080/",
     "height": 36
    },
    "colab_type": "code",
    "executionInfo": {
     "elapsed": 31806,
     "status": "ok",
     "timestamp": 1600824271427,
     "user": {
      "displayName": "고병화",
      "photoUrl": "https://lh3.googleusercontent.com/a-/AOh14GgLZcAZyPt33HiIqtXjHiL8D4PIcVPdfLgODP1QBA=s64",
      "userId": "12645007744594631320"
     },
     "user_tz": -540
    },
    "id": "MpaIcY03B7es",
    "outputId": "365df4a2-a5c9-47de-9f49-bf2100bc27bb"
   },
   "outputs": [
    {
     "data": {
      "text/plain": [
       "(1082168, 1000)"
      ]
     },
     "execution_count": 52,
     "metadata": {
      "tags": []
     },
     "output_type": "execute_result"
    }
   ],
   "source": [
    "from sklearn.feature_extraction.text import TfidfVectorizer\n",
    "vectorizer = TfidfVectorizer(stop_words='english', \n",
    "max_features= 1000) # 상위 1,000개의 단어를 보존 \n",
    "X = vectorizer.fit_transform(text['headline_text'])\n",
    "X.shape # TF-IDF 행렬의 크기 확인"
   ]
  },
  {
   "cell_type": "markdown",
   "metadata": {
    "colab_type": "text",
    "id": "AdNSz3J7B7e0"
   },
   "source": [
    "####  토픽 모델링"
   ]
  },
  {
   "cell_type": "code",
   "execution_count": 53,
   "metadata": {
    "colab": {},
    "colab_type": "code",
    "executionInfo": {
     "elapsed": 28614,
     "status": "ok",
     "timestamp": 1600824271429,
     "user": {
      "displayName": "고병화",
      "photoUrl": "https://lh3.googleusercontent.com/a-/AOh14GgLZcAZyPt33HiIqtXjHiL8D4PIcVPdfLgODP1QBA=s64",
      "userId": "12645007744594631320"
     },
     "user_tz": -540
    },
    "id": "Zj42iE4oB7e3"
   },
   "outputs": [],
   "source": [
    "from sklearn.decomposition import LatentDirichletAllocation\n",
    "lda_model=LatentDirichletAllocation(n_components=10,learning_method='online',random_state=777,max_iter=1)"
   ]
  },
  {
   "cell_type": "code",
   "execution_count": 54,
   "metadata": {
    "colab": {},
    "colab_type": "code",
    "executionInfo": {
     "elapsed": 188728,
     "status": "ok",
     "timestamp": 1600824432516,
     "user": {
      "displayName": "고병화",
      "photoUrl": "https://lh3.googleusercontent.com/a-/AOh14GgLZcAZyPt33HiIqtXjHiL8D4PIcVPdfLgODP1QBA=s64",
      "userId": "12645007744594631320"
     },
     "user_tz": -540
    },
    "id": "DaiNgPeiB7e9"
   },
   "outputs": [],
   "source": [
    "lda_top = lda_model.fit_transform(X)"
   ]
  },
  {
   "cell_type": "code",
   "execution_count": 55,
   "metadata": {
    "colab": {
     "base_uri": "https://localhost:8080/",
     "height": 277
    },
    "colab_type": "code",
    "executionInfo": {
     "elapsed": 187760,
     "status": "ok",
     "timestamp": 1600824432518,
     "user": {
      "displayName": "고병화",
      "photoUrl": "https://lh3.googleusercontent.com/a-/AOh14GgLZcAZyPt33HiIqtXjHiL8D4PIcVPdfLgODP1QBA=s64",
      "userId": "12645007744594631320"
     },
     "user_tz": -540
    },
    "id": "64BnffKlB7fK",
    "outputId": "02792512-a55a-40a0-8517-abc4a67911a0"
   },
   "outputs": [
    {
     "name": "stdout",
     "output_type": "stream",
     "text": [
      "[[1.00000524e-01 1.00000945e-01 1.00003031e-01 ... 1.00010614e-01\n",
      "  1.00003498e-01 1.00001781e-01]\n",
      " [1.00003244e-01 1.00006985e-01 1.00018485e-01 ... 1.00009374e-01\n",
      "  1.00004140e-01 1.00002710e-01]\n",
      " [1.00000613e-01 1.00001003e-01 1.00001719e-01 ... 1.00010032e-01\n",
      "  1.00003629e-01 1.00002942e-01]\n",
      " ...\n",
      " [1.00002359e-01 1.00002223e-01 1.00008046e-01 ... 2.25245378e+03\n",
      "  1.00004394e-01 1.00001389e-01]\n",
      " [1.00001729e-01 1.00001155e-01 3.56084764e+03 ... 1.00006474e-01\n",
      "  1.00003539e-01 1.00001515e-01]\n",
      " [1.00001008e-01 1.00001333e-01 1.00004934e-01 ... 1.00015214e-01\n",
      "  1.00003583e-01 1.00001347e-01]]\n",
      "(10, 1000)\n"
     ]
    }
   ],
   "source": [
    "print(lda_model.components_)\n",
    "print(lda_model.components_.shape) "
   ]
  },
  {
   "cell_type": "code",
   "execution_count": 56,
   "metadata": {
    "colab": {
     "base_uri": "https://localhost:8080/",
     "height": 203
    },
    "colab_type": "code",
    "executionInfo": {
     "elapsed": 186983,
     "status": "ok",
     "timestamp": 1600824432519,
     "user": {
      "displayName": "고병화",
      "photoUrl": "https://lh3.googleusercontent.com/a-/AOh14GgLZcAZyPt33HiIqtXjHiL8D4PIcVPdfLgODP1QBA=s64",
      "userId": "12645007744594631320"
     },
     "user_tz": -540
    },
    "id": "YDduQGgcB7fO",
    "outputId": "f78f43b4-2338-4f9c-cfcc-00478c4c57d4"
   },
   "outputs": [
    {
     "name": "stdout",
     "output_type": "stream",
     "text": [
      "Topic 1: [('trump', 10983.42), ('state', 4433.33), ('league', 4147.04), ('open', 4035.79), ('funding', 3547.71)]\n",
      "Topic 2: [('court', 7730.97), ('world', 7084.24), ('canberra', 6440.95), ('interview', 5813.89), ('country', 5368.42)]\n",
      "Topic 3: [('police', 12780.13), ('government', 9184.56), ('sydney', 8885.32), ('woman', 5633.17), ('north', 5261.69)]\n",
      "Topic 4: [('election', 8013.99), ('south', 6909.67), ('test', 3978.44), ('missing', 3629.12), ('power', 3624.58)]\n",
      "Topic 5: [('melbourne', 7830.58), ('years', 5286.89), ('calls', 4858.96), ('final', 3758.86), ('accused', 3747.29)]\n",
      "Topic 6: [('australia', 14376.71), ('death', 6201.75), ('2016', 5731.04), ('turnbull', 4364.71), ('people', 4166.9)]\n",
      "Topic 7: [('adelaide', 7079.47), ('perth', 6705.92), ('charged', 5845.25), ('dies', 4730.09), ('indigenous', 4334.57)]\n",
      "Topic 8: [('australian', 11564.41), ('queensland', 7981.64), ('year', 5768.28), ('brisbane', 5103.73), ('tasmania', 4820.45)]\n",
      "Topic 9: [('coast', 5606.92), ('tasmanian', 5034.86), ('school', 4564.63), ('council', 4167.15), ('gold', 3912.08)]\n",
      "Topic 10: [('says', 14415.72), ('rural', 5606.38), ('china', 4695.89), ('hospital', 4484.76), ('live', 4065.89)]\n"
     ]
    }
   ],
   "source": [
    "terms = vectorizer.get_feature_names() # 단어 집합. 1,000개의 단어가 저장됨.\n",
    "\n",
    "def get_topics(components, feature_names, n=5):\n",
    "    for idx, topic in enumerate(components):\n",
    "        print(\"Topic %d:\" % (idx+1), [(feature_names[i], topic[i].round(2)) for i in topic.argsort()[:-n - 1:-1]])\n",
    "        \n",
    "get_topics(lda_model.components_,terms)"
   ]
  },
  {
   "cell_type": "code",
   "execution_count": null,
   "metadata": {
    "colab": {},
    "colab_type": "code",
    "executionInfo": {
     "elapsed": 397818,
     "status": "aborted",
     "timestamp": 1600822658312,
     "user": {
      "displayName": "고병화",
      "photoUrl": "https://lh3.googleusercontent.com/a-/AOh14GgLZcAZyPt33HiIqtXjHiL8D4PIcVPdfLgODP1QBA=s64",
      "userId": "12645007744594631320"
     },
     "user_tz": -540
    },
    "id": "5ixRRBHZDIxB"
   },
   "outputs": [],
   "source": []
  }
 ],
 "metadata": {
  "accelerator": "GPU",
  "colab": {
   "collapsed_sections": [],
   "name": "08_토픽모델링.ipynb",
   "provenance": []
  },
  "kernelspec": {
   "display_name": "Python 3",
   "language": "python",
   "name": "python3"
  },
  "language_info": {
   "codemirror_mode": {
    "name": "ipython",
    "version": 3
   },
   "file_extension": ".py",
   "mimetype": "text/x-python",
   "name": "python",
   "nbconvert_exporter": "python",
   "pygments_lexer": "ipython3",
   "version": "3.8.3"
  }
 },
 "nbformat": 4,
 "nbformat_minor": 1
}
