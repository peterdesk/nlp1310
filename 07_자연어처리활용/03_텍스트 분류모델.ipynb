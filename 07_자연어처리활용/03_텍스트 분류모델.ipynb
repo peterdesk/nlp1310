{
 "cells": [
  {
   "cell_type": "markdown",
   "metadata": {},
   "source": [
    "## LSTM 사용 Text 분류 모델 구현\n",
    ": Keras의 Embedding,LSTM,Dropout 계층 사용"
   ]
  },
  {
   "cell_type": "code",
   "execution_count": 1,
   "metadata": {},
   "outputs": [],
   "source": [
    "import pandas as pd\n",
    "import numpy as np\n",
    "import matplotlib.pyplot as plt\n",
    "import seaborn as sns\n",
    "from sklearn.model_selection import train_test_split\n",
    "from sklearn.preprocessing import LabelEncoder\n",
    "from tensorflow.keras.optimizers import RMSprop\n",
    "from tensorflow.keras.preprocessing.text import Tokenizer\n",
    "from tensorflow.keras.preprocessing import sequence\n",
    "from tensorflow.keras.utils import to_categorical\n",
    "from tensorflow.keras.callbacks import EarlyStopping\n",
    "import tensorflow as tf"
   ]
  },
  {
   "cell_type": "markdown",
   "metadata": {},
   "source": [
    "###  Spam and Ham 분류 테스트 데이터 셋 읽어오기"
   ]
  },
  {
   "cell_type": "code",
   "execution_count": 2,
   "metadata": {},
   "outputs": [
    {
     "name": "stdout",
     "output_type": "stream",
     "text": [
      "(5572, 5)\n",
      "Go until jurong point, crazy.. Available only in bugis n great world la e buffet... Cine there got amore wat... ham\n"
     ]
    },
    {
     "data": {
      "text/html": [
       "<div>\n",
       "<style scoped>\n",
       "    .dataframe tbody tr th:only-of-type {\n",
       "        vertical-align: middle;\n",
       "    }\n",
       "\n",
       "    .dataframe tbody tr th {\n",
       "        vertical-align: top;\n",
       "    }\n",
       "\n",
       "    .dataframe thead th {\n",
       "        text-align: right;\n",
       "    }\n",
       "</style>\n",
       "<table border=\"1\" class=\"dataframe\">\n",
       "  <thead>\n",
       "    <tr style=\"text-align: right;\">\n",
       "      <th></th>\n",
       "      <th>v1</th>\n",
       "      <th>v2</th>\n",
       "      <th>Unnamed: 2</th>\n",
       "      <th>Unnamed: 3</th>\n",
       "      <th>Unnamed: 4</th>\n",
       "    </tr>\n",
       "  </thead>\n",
       "  <tbody>\n",
       "    <tr>\n",
       "      <th>0</th>\n",
       "      <td>ham</td>\n",
       "      <td>Go until jurong point, crazy.. Available only ...</td>\n",
       "      <td>NaN</td>\n",
       "      <td>NaN</td>\n",
       "      <td>NaN</td>\n",
       "    </tr>\n",
       "    <tr>\n",
       "      <th>1</th>\n",
       "      <td>ham</td>\n",
       "      <td>Ok lar... Joking wif u oni...</td>\n",
       "      <td>NaN</td>\n",
       "      <td>NaN</td>\n",
       "      <td>NaN</td>\n",
       "    </tr>\n",
       "    <tr>\n",
       "      <th>2</th>\n",
       "      <td>spam</td>\n",
       "      <td>Free entry in 2 a wkly comp to win FA Cup fina...</td>\n",
       "      <td>NaN</td>\n",
       "      <td>NaN</td>\n",
       "      <td>NaN</td>\n",
       "    </tr>\n",
       "    <tr>\n",
       "      <th>3</th>\n",
       "      <td>ham</td>\n",
       "      <td>U dun say so early hor... U c already then say...</td>\n",
       "      <td>NaN</td>\n",
       "      <td>NaN</td>\n",
       "      <td>NaN</td>\n",
       "    </tr>\n",
       "    <tr>\n",
       "      <th>4</th>\n",
       "      <td>ham</td>\n",
       "      <td>Nah I don't think he goes to usf, he lives aro...</td>\n",
       "      <td>NaN</td>\n",
       "      <td>NaN</td>\n",
       "      <td>NaN</td>\n",
       "    </tr>\n",
       "    <tr>\n",
       "      <th>5</th>\n",
       "      <td>spam</td>\n",
       "      <td>FreeMsg Hey there darling it's been 3 week's n...</td>\n",
       "      <td>NaN</td>\n",
       "      <td>NaN</td>\n",
       "      <td>NaN</td>\n",
       "    </tr>\n",
       "    <tr>\n",
       "      <th>6</th>\n",
       "      <td>ham</td>\n",
       "      <td>Even my brother is not like to speak with me. ...</td>\n",
       "      <td>NaN</td>\n",
       "      <td>NaN</td>\n",
       "      <td>NaN</td>\n",
       "    </tr>\n",
       "    <tr>\n",
       "      <th>7</th>\n",
       "      <td>ham</td>\n",
       "      <td>As per your request 'Melle Melle (Oru Minnamin...</td>\n",
       "      <td>NaN</td>\n",
       "      <td>NaN</td>\n",
       "      <td>NaN</td>\n",
       "    </tr>\n",
       "    <tr>\n",
       "      <th>8</th>\n",
       "      <td>spam</td>\n",
       "      <td>WINNER!! As a valued network customer you have...</td>\n",
       "      <td>NaN</td>\n",
       "      <td>NaN</td>\n",
       "      <td>NaN</td>\n",
       "    </tr>\n",
       "    <tr>\n",
       "      <th>9</th>\n",
       "      <td>spam</td>\n",
       "      <td>Had your mobile 11 months or more? U R entitle...</td>\n",
       "      <td>NaN</td>\n",
       "      <td>NaN</td>\n",
       "      <td>NaN</td>\n",
       "    </tr>\n",
       "    <tr>\n",
       "      <th>10</th>\n",
       "      <td>ham</td>\n",
       "      <td>I'm gonna be home soon and i don't want to tal...</td>\n",
       "      <td>NaN</td>\n",
       "      <td>NaN</td>\n",
       "      <td>NaN</td>\n",
       "    </tr>\n",
       "    <tr>\n",
       "      <th>11</th>\n",
       "      <td>spam</td>\n",
       "      <td>SIX chances to win CASH! From 100 to 20,000 po...</td>\n",
       "      <td>NaN</td>\n",
       "      <td>NaN</td>\n",
       "      <td>NaN</td>\n",
       "    </tr>\n",
       "    <tr>\n",
       "      <th>12</th>\n",
       "      <td>spam</td>\n",
       "      <td>URGENT! You have won a 1 week FREE membership ...</td>\n",
       "      <td>NaN</td>\n",
       "      <td>NaN</td>\n",
       "      <td>NaN</td>\n",
       "    </tr>\n",
       "    <tr>\n",
       "      <th>13</th>\n",
       "      <td>ham</td>\n",
       "      <td>I've been searching for the right words to tha...</td>\n",
       "      <td>NaN</td>\n",
       "      <td>NaN</td>\n",
       "      <td>NaN</td>\n",
       "    </tr>\n",
       "    <tr>\n",
       "      <th>14</th>\n",
       "      <td>ham</td>\n",
       "      <td>I HAVE A DATE ON SUNDAY WITH WILL!!</td>\n",
       "      <td>NaN</td>\n",
       "      <td>NaN</td>\n",
       "      <td>NaN</td>\n",
       "    </tr>\n",
       "    <tr>\n",
       "      <th>15</th>\n",
       "      <td>spam</td>\n",
       "      <td>XXXMobileMovieClub: To use your credit, click ...</td>\n",
       "      <td>NaN</td>\n",
       "      <td>NaN</td>\n",
       "      <td>NaN</td>\n",
       "    </tr>\n",
       "    <tr>\n",
       "      <th>16</th>\n",
       "      <td>ham</td>\n",
       "      <td>Oh k...i'm watching here:)</td>\n",
       "      <td>NaN</td>\n",
       "      <td>NaN</td>\n",
       "      <td>NaN</td>\n",
       "    </tr>\n",
       "    <tr>\n",
       "      <th>17</th>\n",
       "      <td>ham</td>\n",
       "      <td>Eh u remember how 2 spell his name... Yes i di...</td>\n",
       "      <td>NaN</td>\n",
       "      <td>NaN</td>\n",
       "      <td>NaN</td>\n",
       "    </tr>\n",
       "    <tr>\n",
       "      <th>18</th>\n",
       "      <td>ham</td>\n",
       "      <td>Fine if thatåÕs the way u feel. ThatåÕs the wa...</td>\n",
       "      <td>NaN</td>\n",
       "      <td>NaN</td>\n",
       "      <td>NaN</td>\n",
       "    </tr>\n",
       "    <tr>\n",
       "      <th>19</th>\n",
       "      <td>spam</td>\n",
       "      <td>England v Macedonia - dont miss the goals/team...</td>\n",
       "      <td>NaN</td>\n",
       "      <td>NaN</td>\n",
       "      <td>NaN</td>\n",
       "    </tr>\n",
       "  </tbody>\n",
       "</table>\n",
       "</div>"
      ],
      "text/plain": [
       "      v1                                                 v2 Unnamed: 2  \\\n",
       "0    ham  Go until jurong point, crazy.. Available only ...        NaN   \n",
       "1    ham                      Ok lar... Joking wif u oni...        NaN   \n",
       "2   spam  Free entry in 2 a wkly comp to win FA Cup fina...        NaN   \n",
       "3    ham  U dun say so early hor... U c already then say...        NaN   \n",
       "4    ham  Nah I don't think he goes to usf, he lives aro...        NaN   \n",
       "5   spam  FreeMsg Hey there darling it's been 3 week's n...        NaN   \n",
       "6    ham  Even my brother is not like to speak with me. ...        NaN   \n",
       "7    ham  As per your request 'Melle Melle (Oru Minnamin...        NaN   \n",
       "8   spam  WINNER!! As a valued network customer you have...        NaN   \n",
       "9   spam  Had your mobile 11 months or more? U R entitle...        NaN   \n",
       "10   ham  I'm gonna be home soon and i don't want to tal...        NaN   \n",
       "11  spam  SIX chances to win CASH! From 100 to 20,000 po...        NaN   \n",
       "12  spam  URGENT! You have won a 1 week FREE membership ...        NaN   \n",
       "13   ham  I've been searching for the right words to tha...        NaN   \n",
       "14   ham                I HAVE A DATE ON SUNDAY WITH WILL!!        NaN   \n",
       "15  spam  XXXMobileMovieClub: To use your credit, click ...        NaN   \n",
       "16   ham                         Oh k...i'm watching here:)        NaN   \n",
       "17   ham  Eh u remember how 2 spell his name... Yes i di...        NaN   \n",
       "18   ham  Fine if thatåÕs the way u feel. ThatåÕs the wa...        NaN   \n",
       "19  spam  England v Macedonia - dont miss the goals/team...        NaN   \n",
       "\n",
       "   Unnamed: 3 Unnamed: 4  \n",
       "0         NaN        NaN  \n",
       "1         NaN        NaN  \n",
       "2         NaN        NaN  \n",
       "3         NaN        NaN  \n",
       "4         NaN        NaN  \n",
       "5         NaN        NaN  \n",
       "6         NaN        NaN  \n",
       "7         NaN        NaN  \n",
       "8         NaN        NaN  \n",
       "9         NaN        NaN  \n",
       "10        NaN        NaN  \n",
       "11        NaN        NaN  \n",
       "12        NaN        NaN  \n",
       "13        NaN        NaN  \n",
       "14        NaN        NaN  \n",
       "15        NaN        NaN  \n",
       "16        NaN        NaN  \n",
       "17        NaN        NaN  \n",
       "18        NaN        NaN  \n",
       "19        NaN        NaN  "
      ]
     },
     "execution_count": 2,
     "metadata": {},
     "output_type": "execute_result"
    }
   ],
   "source": [
    "df = pd.read_csv('spam.csv',delimiter=',',encoding='latin-1')\n",
    "# ISO/IEC 8859-1, https://ko.wikipedia.org/wiki/ISO/IEC_8859-1\n",
    "print(df.shape)\n",
    "print(df['v2'][0], df['v1'][0])\n",
    "df.head(20)"
   ]
  },
  {
   "cell_type": "markdown",
   "metadata": {},
   "source": [
    "### 불필요한 컬럼 삭제"
   ]
  },
  {
   "cell_type": "code",
   "execution_count": 3,
   "metadata": {},
   "outputs": [
    {
     "data": {
      "text/html": [
       "<div>\n",
       "<style scoped>\n",
       "    .dataframe tbody tr th:only-of-type {\n",
       "        vertical-align: middle;\n",
       "    }\n",
       "\n",
       "    .dataframe tbody tr th {\n",
       "        vertical-align: top;\n",
       "    }\n",
       "\n",
       "    .dataframe thead th {\n",
       "        text-align: right;\n",
       "    }\n",
       "</style>\n",
       "<table border=\"1\" class=\"dataframe\">\n",
       "  <thead>\n",
       "    <tr style=\"text-align: right;\">\n",
       "      <th></th>\n",
       "      <th>v1</th>\n",
       "      <th>v2</th>\n",
       "    </tr>\n",
       "  </thead>\n",
       "  <tbody>\n",
       "    <tr>\n",
       "      <th>0</th>\n",
       "      <td>ham</td>\n",
       "      <td>Go until jurong point, crazy.. Available only ...</td>\n",
       "    </tr>\n",
       "    <tr>\n",
       "      <th>1</th>\n",
       "      <td>ham</td>\n",
       "      <td>Ok lar... Joking wif u oni...</td>\n",
       "    </tr>\n",
       "    <tr>\n",
       "      <th>2</th>\n",
       "      <td>spam</td>\n",
       "      <td>Free entry in 2 a wkly comp to win FA Cup fina...</td>\n",
       "    </tr>\n",
       "    <tr>\n",
       "      <th>3</th>\n",
       "      <td>ham</td>\n",
       "      <td>U dun say so early hor... U c already then say...</td>\n",
       "    </tr>\n",
       "    <tr>\n",
       "      <th>4</th>\n",
       "      <td>ham</td>\n",
       "      <td>Nah I don't think he goes to usf, he lives aro...</td>\n",
       "    </tr>\n",
       "    <tr>\n",
       "      <th>5</th>\n",
       "      <td>spam</td>\n",
       "      <td>FreeMsg Hey there darling it's been 3 week's n...</td>\n",
       "    </tr>\n",
       "    <tr>\n",
       "      <th>6</th>\n",
       "      <td>ham</td>\n",
       "      <td>Even my brother is not like to speak with me. ...</td>\n",
       "    </tr>\n",
       "    <tr>\n",
       "      <th>7</th>\n",
       "      <td>ham</td>\n",
       "      <td>As per your request 'Melle Melle (Oru Minnamin...</td>\n",
       "    </tr>\n",
       "    <tr>\n",
       "      <th>8</th>\n",
       "      <td>spam</td>\n",
       "      <td>WINNER!! As a valued network customer you have...</td>\n",
       "    </tr>\n",
       "    <tr>\n",
       "      <th>9</th>\n",
       "      <td>spam</td>\n",
       "      <td>Had your mobile 11 months or more? U R entitle...</td>\n",
       "    </tr>\n",
       "    <tr>\n",
       "      <th>10</th>\n",
       "      <td>ham</td>\n",
       "      <td>I'm gonna be home soon and i don't want to tal...</td>\n",
       "    </tr>\n",
       "    <tr>\n",
       "      <th>11</th>\n",
       "      <td>spam</td>\n",
       "      <td>SIX chances to win CASH! From 100 to 20,000 po...</td>\n",
       "    </tr>\n",
       "    <tr>\n",
       "      <th>12</th>\n",
       "      <td>spam</td>\n",
       "      <td>URGENT! You have won a 1 week FREE membership ...</td>\n",
       "    </tr>\n",
       "    <tr>\n",
       "      <th>13</th>\n",
       "      <td>ham</td>\n",
       "      <td>I've been searching for the right words to tha...</td>\n",
       "    </tr>\n",
       "    <tr>\n",
       "      <th>14</th>\n",
       "      <td>ham</td>\n",
       "      <td>I HAVE A DATE ON SUNDAY WITH WILL!!</td>\n",
       "    </tr>\n",
       "    <tr>\n",
       "      <th>15</th>\n",
       "      <td>spam</td>\n",
       "      <td>XXXMobileMovieClub: To use your credit, click ...</td>\n",
       "    </tr>\n",
       "    <tr>\n",
       "      <th>16</th>\n",
       "      <td>ham</td>\n",
       "      <td>Oh k...i'm watching here:)</td>\n",
       "    </tr>\n",
       "    <tr>\n",
       "      <th>17</th>\n",
       "      <td>ham</td>\n",
       "      <td>Eh u remember how 2 spell his name... Yes i di...</td>\n",
       "    </tr>\n",
       "    <tr>\n",
       "      <th>18</th>\n",
       "      <td>ham</td>\n",
       "      <td>Fine if thatåÕs the way u feel. ThatåÕs the wa...</td>\n",
       "    </tr>\n",
       "    <tr>\n",
       "      <th>19</th>\n",
       "      <td>spam</td>\n",
       "      <td>England v Macedonia - dont miss the goals/team...</td>\n",
       "    </tr>\n",
       "  </tbody>\n",
       "</table>\n",
       "</div>"
      ],
      "text/plain": [
       "      v1                                                 v2\n",
       "0    ham  Go until jurong point, crazy.. Available only ...\n",
       "1    ham                      Ok lar... Joking wif u oni...\n",
       "2   spam  Free entry in 2 a wkly comp to win FA Cup fina...\n",
       "3    ham  U dun say so early hor... U c already then say...\n",
       "4    ham  Nah I don't think he goes to usf, he lives aro...\n",
       "5   spam  FreeMsg Hey there darling it's been 3 week's n...\n",
       "6    ham  Even my brother is not like to speak with me. ...\n",
       "7    ham  As per your request 'Melle Melle (Oru Minnamin...\n",
       "8   spam  WINNER!! As a valued network customer you have...\n",
       "9   spam  Had your mobile 11 months or more? U R entitle...\n",
       "10   ham  I'm gonna be home soon and i don't want to tal...\n",
       "11  spam  SIX chances to win CASH! From 100 to 20,000 po...\n",
       "12  spam  URGENT! You have won a 1 week FREE membership ...\n",
       "13   ham  I've been searching for the right words to tha...\n",
       "14   ham                I HAVE A DATE ON SUNDAY WITH WILL!!\n",
       "15  spam  XXXMobileMovieClub: To use your credit, click ...\n",
       "16   ham                         Oh k...i'm watching here:)\n",
       "17   ham  Eh u remember how 2 spell his name... Yes i di...\n",
       "18   ham  Fine if thatåÕs the way u feel. ThatåÕs the wa...\n",
       "19  spam  England v Macedonia - dont miss the goals/team..."
      ]
     },
     "execution_count": 3,
     "metadata": {},
     "output_type": "execute_result"
    }
   ],
   "source": [
    "df.drop(['Unnamed: 2','Unnamed: 3','Unnamed: 4'],axis=1,inplace=True)\n",
    "df.head(20)\n",
    "# df.info()"
   ]
  },
  {
   "cell_type": "code",
   "execution_count": 4,
   "metadata": {},
   "outputs": [
    {
     "data": {
      "text/plain": [
       "ham     4825\n",
       "spam     747\n",
       "Name: v1, dtype: int64"
      ]
     },
     "execution_count": 4,
     "metadata": {},
     "output_type": "execute_result"
    }
   ],
   "source": [
    "df['v1'].value_counts()"
   ]
  },
  {
   "cell_type": "markdown",
   "metadata": {},
   "source": [
    "### 분포를 시각화"
   ]
  },
  {
   "cell_type": "code",
   "execution_count": 5,
   "metadata": {},
   "outputs": [
    {
     "data": {
      "text/plain": [
       "Text(0, 0.5, 'Number of ham and spam messages')"
      ]
     },
     "execution_count": 5,
     "metadata": {},
     "output_type": "execute_result"
    },
    {
     "data": {
      "image/png": "[encoded data removed]",
      "text/plain": [
       "<Figure size 432x288 with 1 Axes>"
      ]
     },
     "metadata": {
      "needs_background": "light"
     },
     "output_type": "display_data"
    }
   ],
   "source": [
    "sns.countplot(df.v1)\n",
    "plt.xlabel('Label')\n",
    "plt.ylabel('Number of ham and spam messages')"
   ]
  },
  {
   "cell_type": "markdown",
   "metadata": {},
   "source": [
    "### Y 값을 0, 1로 변환 : LabelEncoder()"
   ]
  },
  {
   "cell_type": "code",
   "execution_count": 6,
   "metadata": {},
   "outputs": [
    {
     "name": "stdout",
     "output_type": "stream",
     "text": [
      "(5572, 1)\n"
     ]
    }
   ],
   "source": [
    "X = df.v2\n",
    "Y =df.v1\n",
    "le = LabelEncoder()\n",
    "Y = le.fit_transform(Y)   # Y 값이 0,1로 변환, Logistic Regression, sigmoid사용\n",
    "Y = Y.reshape(-1,1)       # 2차원\n",
    "print(Y.shape)"
   ]
  },
  {
   "cell_type": "code",
   "execution_count": 7,
   "metadata": {},
   "outputs": [
    {
     "name": "stdout",
     "output_type": "stream",
     "text": [
      "(3900,) (1672,) (3900, 1) (1672, 1)\n"
     ]
    }
   ],
   "source": [
    "### train 과 test 데이터 셋으로 분리\n",
    "X_train, X_test, Y_train, Y_test = train_test_split(X,Y,test_size=0.3)  # 70:30\n",
    "print(X_train.shape,X_test.shape,Y_train.shape,Y_test.shape)"
   ]
  },
  {
   "cell_type": "markdown",
   "metadata": {},
   "source": [
    "### 문장을 토큰화 처리, 패딩, 데이터셋의 길이를 설정"
   ]
  },
  {
   "cell_type": "code",
   "execution_count": 8,
   "metadata": {},
   "outputs": [],
   "source": [
    "# https://www.tensorflow.org/api_docs/python/tf/keras/preprocessing/text/Tokenizer\n",
    "\n",
    "# tf.keras.preprocessing.text.Tokenizer(\n",
    "#     num_words=None, filters='!\"#$%&()*+,-./:;<=>?@[\\\\]^_`{|}~\\t\\n', lower=True,\n",
    "#     split=' ', char_level=False, oov_token=None, document_count=0, **kwargs\n",
    "# )"
   ]
  },
  {
   "cell_type": "code",
   "execution_count": 9,
   "metadata": {},
   "outputs": [
    {
     "name": "stdout",
     "output_type": "stream",
     "text": [
      "(3900, 150)\n",
      "7464\n"
     ]
    },
    {
     "data": {
      "text/plain": [
       "array([[  0,   0,   0, ...,   6,   1,  29],\n",
       "       [  0,   0,   0, ..., 739, 740, 276],\n",
       "       [  0,   0,   0, ...,  32,  11,  66],\n",
       "       ...,\n",
       "       [  0,   0,   0, ...,  21, 662, 446],\n",
       "       [  0,   0,   0, ...,  95,  56, 146],\n",
       "       [  0,   0,   0, ...,  70, 384,  20]])"
      ]
     },
     "execution_count": 9,
     "metadata": {},
     "output_type": "execute_result"
    }
   ],
   "source": [
    "# 토큰나이저를 시행하여 단어를 숫자값, 인덱스로 변환하여 저장\n",
    "\n",
    "max_words = 1000\n",
    "max_len = 150         # 데이터 셋의 길이, 한 문장의 길이, sequence_length: T\n",
    "\n",
    "tok = Tokenizer(num_words=max_words) # 가장 빈도가 높은 1000 개의 단어들만 사용하여 토큰화\n",
    "\n",
    "# 단어 인덱스를 구축\n",
    "tok.fit_on_texts(X_train)   # 범위 : 0 ~ 999\n",
    "\n",
    "# 문자열을 정수 인덱스의 리스트로 변환\n",
    "sequences = tok.texts_to_sequences(X_train) # type은 list\n",
    "sequences[:4]      # 길이가 서로 다름\n",
    "\n",
    "# 벡터 표현을 얻음\n",
    "sequences_matrix = sequence.pad_sequences(sequences, maxlen=max_len)  # 신경망에 입력할 X값이다\n",
    "print(sequences_matrix.shape)  # (3900, 150), 2차원 행렬\n",
    "\n",
    "word_to_index = tok.word_index\n",
    "# print(word_to_index)\n",
    "vocab_size = len(word_to_index)\n",
    "print(vocab_size)\n",
    "\n",
    "sequences_matrix"
   ]
  },
  {
   "cell_type": "markdown",
   "metadata": {},
   "source": [
    "## RNN 신경망 모델 구현"
   ]
  },
  {
   "cell_type": "code",
   "execution_count": 10,
   "metadata": {},
   "outputs": [],
   "source": [
    "# https://www.tensorflow.org/api_docs/python/tf/keras/layers/Embedding\n",
    "# tf.keras.layers.Embedding(\n",
    "#     input_dim, output_dim, embeddings_initializer='uniform',\n",
    "#     embeddings_regularizer=None, activity_regularizer=None,\n",
    "#     embeddings_constraint=None, mask_zero=False, input_length=None, **kwargs\n",
    "# )\n",
    "\n",
    "# input_dim : input_dim   , D  , max_words : 1000\n",
    "# output_dim : hidden_size , H , 50\n",
    "# input_length : sequence_length , T : max_len:150"
   ]
  },
  {
   "cell_type": "code",
   "execution_count": 20,
   "metadata": {},
   "outputs": [
    {
     "name": "stdout",
     "output_type": "stream",
     "text": [
      "Model: \"sequential_6\"\n",
      "_________________________________________________________________\n",
      "Layer (type)                 Output Shape              Param #   \n",
      "=================================================================\n",
      "embedding_9 (Embedding)      (None, 150, 50)           50000     \n",
      "_________________________________________________________________\n",
      "lstm_8 (LSTM)                (None, 150, 32)           10624     \n",
      "_________________________________________________________________\n",
      "dense_7 (Dense)              (None, 150, 32)           1056      \n",
      "_________________________________________________________________\n",
      "dropout_3 (Dropout)          (None, 150, 32)           0         \n",
      "_________________________________________________________________\n",
      "flatten_1 (Flatten)          (None, 4800)              0         \n",
      "_________________________________________________________________\n",
      "dense_8 (Dense)              (None, 1)                 4801      \n",
      "=================================================================\n",
      "Total params: 66,481\n",
      "Trainable params: 66,481\n",
      "Non-trainable params: 0\n",
      "_________________________________________________________________\n"
     ]
    }
   ],
   "source": [
    "# LSTM 1층을 사용하여 신경망을 구현\n",
    "model = tf.keras.Sequential([\n",
    "    # (None,1000) * (1000,50) = (None,50) , T:150, (None,150,50)\n",
    "    tf.keras.layers.Embedding(max_words,50,input_length=max_len), # 3차원으로 출력, (None, 150, 50)\n",
    "    # (None,150,50), W: (D,H) ==>(50,32)  \n",
    "    # (None,50) * (50,32) = (None,32) -> (None,150,50) \n",
    "    tf.keras.layers.LSTM(32,return_sequences=True),\n",
    "    # (None,50) * (50,32) = (None,32) -> (None,150,32) \n",
    "    tf.keras.layers.Dense(32,activation='relu'),\n",
    "    tf.keras.layers.Dropout(rate=0.5),  # (None,150,32)  # 3차원 \n",
    "    tf.keras.layers.Flatten(),          # (None,150*32) = (None, 4800)  , 2차원\n",
    "    tf.keras.layers.Dense(1,activation='sigmoid') # (None,1)\n",
    "])  \n",
    "\n",
    "model.summary()"
   ]
  },
  {
   "cell_type": "code",
   "execution_count": 21,
   "metadata": {},
   "outputs": [],
   "source": [
    "model.compile(loss='binary_crossentropy',optimizer=RMSprop(),metrics=['accuracy'])\n",
    "# RMSProp : https://forensics.tistory.com/28\n",
    "# RMSprop 알고리즘은 Adadelta와 마찬가지로 Adagrad에서 학습률이 급격하게 감소하는 문제를 해결 "
   ]
  },
  {
   "cell_type": "code",
   "execution_count": 22,
   "metadata": {},
   "outputs": [
    {
     "name": "stdout",
     "output_type": "stream",
     "text": [
      "Train on 3120 samples, validate on 780 samples\n",
      "Epoch 1/10\n",
      "3120/3120 [==============================] - 10s 3ms/sample - loss: 0.4114 - accuracy: 0.8337 - val_loss: 0.3718 - val_accuracy: 0.8667\n",
      "Epoch 2/10\n",
      "3120/3120 [==============================] - 5s 2ms/sample - loss: 0.2405 - accuracy: 0.9045 - val_loss: 0.1440 - val_accuracy: 0.9603\n",
      "Epoch 3/10\n",
      "3120/3120 [==============================] - 5s 2ms/sample - loss: 0.0938 - accuracy: 0.9750 - val_loss: 0.0881 - val_accuracy: 0.9744\n",
      "Epoch 4/10\n",
      "3120/3120 [==============================] - 5s 2ms/sample - loss: 0.0660 - accuracy: 0.9808 - val_loss: 0.0692 - val_accuracy: 0.9782\n",
      "Epoch 5/10\n",
      "3120/3120 [==============================] - 6s 2ms/sample - loss: 0.0492 - accuracy: 0.9859 - val_loss: 0.0767 - val_accuracy: 0.9769\n",
      "Epoch 6/10\n",
      "3120/3120 [==============================] - 6s 2ms/sample - loss: 0.0413 - accuracy: 0.9878 - val_loss: 0.0701 - val_accuracy: 0.9769\n",
      "Epoch 7/10\n",
      "3120/3120 [==============================] - 5s 1ms/sample - loss: 0.0326 - accuracy: 0.9913 - val_loss: 0.0679 - val_accuracy: 0.9808\n",
      "Epoch 8/10\n",
      "3120/3120 [==============================] - 5s 2ms/sample - loss: 0.0294 - accuracy: 0.9913 - val_loss: 0.0934 - val_accuracy: 0.9769\n",
      "Epoch 9/10\n",
      "3120/3120 [==============================] - 5s 2ms/sample - loss: 0.0213 - accuracy: 0.9923 - val_loss: 0.0813 - val_accuracy: 0.9808\n",
      "Epoch 10/10\n",
      "3120/3120 [==============================] - 5s 2ms/sample - loss: 0.0201 - accuracy: 0.9926 - val_loss: 0.0970 - val_accuracy: 0.9769\n"
     ]
    },
    {
     "data": {
      "text/plain": [
       "<tensorflow.python.keras.callbacks.History at 0x2065ce72c88>"
      ]
     },
     "execution_count": 22,
     "metadata": {},
     "output_type": "execute_result"
    }
   ],
   "source": [
    "# 학습\n",
    "model.fit(sequences_matrix,Y_train,batch_size=128, epochs=10, validation_split=0.2)"
   ]
  },
  {
   "cell_type": "markdown",
   "metadata": {},
   "source": [
    "### 정확도 측정"
   ]
  },
  {
   "cell_type": "code",
   "execution_count": 26,
   "metadata": {},
   "outputs": [
    {
     "name": "stdout",
     "output_type": "stream",
     "text": [
      "(1672, 150) (1672, 1)\n"
     ]
    }
   ],
   "source": [
    "#  Test 데이터셋의 벡터를 구함\n",
    "\n",
    "# 문자열을 정수 인덱스의 리스트로 변환\n",
    "test_sequences = tok.texts_to_sequences(X_test) \n",
    "\n",
    "# 벡터 표현을 얻음\n",
    "test_sequences_matrix = sequence.pad_sequences(test_sequences, maxlen=max_len)  # 신경망에 입력할 X값이다\n",
    "print(test_sequences_matrix.shape,Y_test.shape)  # (1672, 150), 2차원 행렬"
   ]
  },
  {
   "cell_type": "code",
   "execution_count": 27,
   "metadata": {
    "collapsed": true
   },
   "outputs": [
    {
     "name": "stdout",
     "output_type": "stream",
     "text": [
      "\r",
      "1672/1 [================================================================================================================================================================================================================================================================================================================================================================================================================================================================================================================================================================================================================================================================================================================================================================================================================================================================================================================================================================================================================================================================================================================================================================================================================================================================================================================================================================================================================================================================================================================================================================================================================================================================================================================================================================================================================================================================================================================================================================================================================================================================================================================================================================================================================================================================================================================================================================================================================================================================================================================================================================================================================================================================================================================================================================================================================================================================================================================================================================================================================================================================================================================================================================================================================================================================================================================================================================================================================================================================================================================================================================================================================================================================================================================================================================================================================================================================================================================================================================================================================================================================================================================================================================================================================================================================================================================================================================================================================================================================================================================================================================================================================================================================================================================================================================================================================================================================================================================================================================================================================================================================================================================================================================================================================================================================================================================================================================================================================================================================================================================================================================================================================================================================================================================================================================================================================================================================================================================================================================================================================================================================================================================================================================================================================================================================================================================================================================================================================================================================================================================================================================================================================================================================================================================================================================================================================================================================================================================================================================================================================================================================================================================================================================================================================================================================================================================================================================================================================================================================================================================================================================================================================================================================================================================================================================================================================================================================================================================================================================================================================================================================================================================================================================================================================================================================================================================================================================================================================================================================================================================================================================================================================================================================================================================================================================================================================================================================================================================================================================================================================================================================================================================================================================================================================================================================================================================================================================================================================================================================================================================================================================================================================================================================================================================================================================================================================================================================================================================================================================================================================================================================================================================================================================================================================================================================================================================================================================================================================================================================================================================================================================================================================================================================================================================================================================================================================================================================================================================================================================================================================================================================================================================================================================================================================================================================================================================================================================================================================================================================================================================================================================================================================================================================================================================================================================================================================================================================================================================================================================================================================================================================================================================================================================================================================================================================================================================================================================================================================================================================================================================================================================================================================================================================================================================================================================================================================================================================================================================================================================================================================================================================================================================================================================================================================================================================================================================================================================================================================================================================================================================================================================================================================================================================================================================================================================================================================================================================================================================================================================================================================================================================================================================================================================================================================================================================================================================================================================================================================================================================================================================================================================================================================================================================================================================================================================================================================================================================================================================================================================================================================================================================================================================================================================================================================================================================================================================================================================================================================================================================================================================================================================================================================================================================================================================================================================================================================================================================================================================================================================================================================================================================================================================================================================================================================================================================================================================================================================================================================================================================================================================================================================================================================================================================================================================================================================================================================================================================================================================================================================================================================================================================================================================================================================================================================================================================================================================================================================================================================================================================================================================================================================================================================================================================================================================================================================================================================================================================================================================================================================================================================================================================================================================================================================================================================================================================================================================================================================================================================================================================================================================================================================================================================================================================================================================================================================================================================================================================================================================================================================================================================================================================================================================================================================================================================================================================================================================================================================================================================================================================================================================================================================================================================================================================================================================================================================================================================================================================================================================================================================================================================================================================================================================================================================================================================================================================================================================================================================================================================================================================================================================================================================================================================================================================================================================================================================================================================================================================================================================================================================================================================================================================================================================================================================================================================================================================================================================================================================================================================================================================================================================================================================================================================================================================================================================================================================================================================================================================================================================================================================================================================================================================================================================================================================================================================================================================================================================================================================================================================================================================================================================================================================================================================================================================================================================================================================================================================================================================================================================================================================================================================================================================================================================================================================================================================================================================================================================================================================================================================================================================================================================================================================================================================================================================================================================================================================================================================================================================================================================================================================================================================================================================================================================================================================================================================================================================================================================================================================================================================================================================================================================================================================================================================================================================================================================================================================================================================================================================================================================================================================================================================================================================================================================================================================================================================================================================================================================================================================================================================================================================================================================================================================================================================================================================================================================================================================================================================================================================================================================================================================================================================================================================================================================================================================================================================================================================================================================================================================================================================================================================================================================================================================================================================================================================================================================================================================================================================================================================================================================================================================================================================================================================================================================================================================================================================================================================================================================================================================================================================================================================================================================================================================================================================================================================================================================================================================================================================================================================================================================================================================================================================================================================================================================================================================================================================================================================================================================================================================================================================================================================================================================================================================================================================================================================================================================================================================================================================================================================================================================================================================================================================================================================================================================================================================================================================================================================================================================================================================================================================================================================================================================================================================================================================================================================================================================================================================================================================================================================================================================================================================================================================================================================================================================================================================================================================================================================================================================================================================================================================================================================================================================================================================================================================================================================================================================================================================================================================================================================================================================================================================================================================================================================================================================================================================================================================================================================================================================================================================================================================================================================================================================================================================================================================================================================================================================================================================================================================================================================================================================================================================================================================================================================================================================================================================================================================================================================================================================================================================================================================================================================================================================================================================================================================================================================================================================================================================================================================================================================================================================================================================================================================================================================================================================================================================================================================================================================================================================================================================================================================================================================================================================================================================================================================================================================================================================================================================================================================================================================================================================================================================================================================================================================================================================================================================================================================================================================================================================================================================================================================================================================================================================================================================================================================================================================================================================================================================================================================================================================================================================================================================================================================================================================================================================================================================================================================================================================================================================================================================================================================================================================================================================================================================================================================================================================================================================================================================================================================================================================================================================================================================================================================================================================================================================================================================================================================================================================================================================================================================================================================================================================================================================================================================================================================================================================================================================================================================================================================================================================================================================================================================================================================================================================================================================================================================================================================================================================================================================================================================================================================================================================================================================================================================================================================================================================================================================================================================================================================================================================================================================================================================================================================================================================================================================================================================================================================================================================================================================================================================================================================================================================================================================================================================================================================================================================================================================================================================================================================================================================================================================================================================================================================================================================================================================================================================================================================================================================================================================================================================================================================================================================================================================================================================================================================================================================================================================================================================================================================================================================================================================================================================================================================================================================================================================================================================================================================================================================================================================================================================================================================================================================================================================================================================================================================================================================================================================================================================================================================================================================================================================================================================================================================================================================================================================================================================================================================================================================================================================================================================================================================================================================================================================================================================================================================================================================================================================================================================================================================================================================================================================================================================================================================================================================================================================================================================================================================================================================================================================================================================================================================================================================================================================================================================================================================================================================================================================================================================================================================================================================================================================================================================================================================================================================================================================================================================================================================================================================================================================================================================================================================================================================================================================================================================================================================================================================================================================================================================================================================================================================================================================================================================================================================================================================================================================================================================================================================================================================================================================================================================================================================================================================================================================================================================================================================================================================================================================================================================================================================================================================================================================================================================================================================================================================================================================================================================================================================================================================================================================================================================================================================================================================================================================================================================================================================================================================================================================================================================================================================================================================================================================================================================================================================================================================================================================================================================================================================================================================================================================================================================================================================================================================================================================================================================================================================================================================================================================================================================================================================================================================================================================================================================================================================================================================================================================================================================================================================================================================================================================================================================================================================================================================================================================================================================================================================================================================================================================================================================================================================================================================================================================================================================================================================================================================================================================================================================================================================================================================================================================================================================================================================================================================================================================================================================================================================================================================================================================================================================================================================================================================================================================================================================================================================================================================================================================================================================================================================================================================================================================================================================================================================================================================================================================================================================================================================================================================================================================================================================================================================================================================================================================================================================================================================================================================================================================================================================================================================================================================================================================================================================================================================================================================================================================================================================================================================================================================================================================================================================================================================================================================================================================================================================================================================================================================================================================================================================================================================================================================================================================================================================================================================================================================================================================================================================================================================================================================================================================================================================================================================================================================================================================================================================================================================================================================================================================================================================================================================================================] - 1s 755us/sample - loss: 0.3108 - accuracy: 0.9844\n"
     ]
    }
   ],
   "source": [
    "# 정확도\n",
    "accr = model.evaluate(test_sequences_matrix,Y_test) "
   ]
  },
  {
   "cell_type": "code",
   "execution_count": 28,
   "metadata": {},
   "outputs": [
    {
     "name": "stdout",
     "output_type": "stream",
     "text": [
      "Test set\n",
      "  Loss: 0.080\n",
      "  Accuracy: 0.984\n"
     ]
    }
   ],
   "source": [
    "print('Test set\\n  Loss: {:0.3f}\\n  Accuracy: {:0.3f}'.format(accr[0],accr[1]))"
   ]
  },
  {
   "cell_type": "code",
   "execution_count": 31,
   "metadata": {},
   "outputs": [
    {
     "data": {
      "text/plain": [
       "(array([[0.00444937]], dtype=float32), array([0]))"
      ]
     },
     "execution_count": 31,
     "metadata": {},
     "output_type": "execute_result"
    }
   ],
   "source": [
    "# 예측\n",
    "preds = model.predict(test_sequences_matrix[1].reshape(1,-1)) # test_sequences_matrix[1]은 1차원이므로\n",
    "preds,Y_test[1]"
   ]
  },
  {
   "cell_type": "code",
   "execution_count": 33,
   "metadata": {},
   "outputs": [
    {
     "data": {
      "text/plain": [
       "array([  0,   0,   0,   0,   0,   0,   0,   0,   0,   0,   0,   0,   0,\n",
       "         0,   0,   0,   0,   0,   0,   0,   0,   0,   0,   0,   0,   0,\n",
       "         0,   0,   0,   0,   0,   0,   0,   0,   0,   0,   0,   0,   0,\n",
       "         0,   0,   0,   0,   0,   0,   0,   0,   0,   0,   0,   0,   0,\n",
       "         0,   0,   0,   0,   0,   0,   0,   0,   0,   0,   0,   0,   0,\n",
       "         0,   0,   0,   0,   0,   0,   0,   0,   0,   0,   0,   0,   0,\n",
       "         0,   0,   0,   0,   0,   0,   0,   0,   0,   0,   0,   0,   0,\n",
       "         0,   0,   0,   0,   0,   0,   0,   0,   0,   0,   0,   0,   0,\n",
       "         0,   0,   0,   0,   0,   0,   0,   0,   0,   0,   0,   0,   0,\n",
       "         0,   0,   0,   0,   0,   0,   0,   0,   0,   0,   0,   0,   0,\n",
       "         0,   0,   0,   0,   0,   0,   0,   0,   0,   0,   0,   0,   0,\n",
       "       332,   2,  65, 237,  12,  13,  16])"
      ]
     },
     "execution_count": 33,
     "metadata": {},
     "output_type": "execute_result"
    }
   ],
   "source": [
    "test_sequences_matrix[1]"
   ]
  },
  {
   "cell_type": "code",
   "execution_count": 34,
   "metadata": {},
   "outputs": [
    {
     "data": {
      "text/plain": [
       "(array([[0.00221201]], dtype=float32), array([0]))"
      ]
     },
     "execution_count": 34,
     "metadata": {},
     "output_type": "execute_result"
    }
   ],
   "source": [
    "preds = model.predict(test_sequences_matrix[17].reshape(1,-1)) \n",
    "preds,Y_test[17]"
   ]
  },
  {
   "cell_type": "code",
   "execution_count": 39,
   "metadata": {},
   "outputs": [
    {
     "data": {
      "text/plain": [
       "array([   0,   23,   33,   35,   49,   57,   70,   73,   75,   83,   84,\n",
       "         92,   96,   99,  100,  109,  131,  135,  146,  153,  175,  176,\n",
       "        186,  187,  209,  226,  243,  246,  247,  263,  265,  272,  279,\n",
       "        282,  300,  302,  310,  312,  317,  328,  333,  341,  345,  350,\n",
       "        357,  364,  366,  376,  382,  392,  396,  397,  422,  426,  430,\n",
       "        449,  455,  458,  460,  468,  471,  481,  485,  487,  491,  498,\n",
       "        506,  512,  523,  527,  531,  533,  549,  551,  555,  556,  557,\n",
       "        563,  586,  592,  594,  597,  618,  621,  632,  640,  642,  654,\n",
       "        685,  700,  709,  710,  712,  715,  723,  729,  736,  738,  749,\n",
       "        755,  779,  789,  792,  796,  811,  815,  832,  862,  868,  881,\n",
       "        882,  884,  891,  897,  901,  904,  905,  906,  909,  926,  955,\n",
       "        959,  962,  987, 1002, 1003, 1008, 1013, 1019, 1020, 1021, 1022,\n",
       "       1023, 1025, 1034, 1049, 1059, 1072, 1073, 1094, 1102, 1106, 1108,\n",
       "       1116, 1121, 1153, 1154, 1162, 1164, 1167, 1173, 1174, 1196, 1200,\n",
       "       1202, 1215, 1217, 1219, 1224, 1225, 1243, 1248, 1250, 1253, 1255,\n",
       "       1259, 1268, 1269, 1275, 1281, 1282, 1285, 1297, 1308, 1313, 1319,\n",
       "       1327, 1329, 1332, 1337, 1352, 1356, 1362, 1369, 1380, 1382, 1385,\n",
       "       1393, 1421, 1428, 1436, 1448, 1452, 1460, 1470, 1472, 1474, 1475,\n",
       "       1498, 1503, 1507, 1509, 1510, 1514, 1523, 1527, 1532, 1541, 1543,\n",
       "       1545, 1553, 1596, 1598, 1601, 1602, 1609, 1617, 1624, 1642, 1645,\n",
       "       1649, 1655, 1665], dtype=int64)"
      ]
     },
     "execution_count": 39,
     "metadata": {},
     "output_type": "execute_result"
    }
   ],
   "source": [
    "ones = np.where(Y_test==1)  # 답이 1인 인덱스\n",
    "ones[0]"
   ]
  },
  {
   "cell_type": "code",
   "execution_count": 37,
   "metadata": {
    "scrolled": false
   },
   "outputs": [
    {
     "name": "stdout",
     "output_type": "stream",
     "text": [
      "[[0.42776358]] [1]\n",
      "[[0.99999917]] [1]\n",
      "[[0.99580514]] [1]\n",
      "[[0.99129665]] [1]\n",
      "[[0.9994998]] [1]\n",
      "[[0.9999449]] [1]\n",
      "[[0.9983015]] [1]\n",
      "[[0.9999579]] [1]\n",
      "[[0.9999157]] [1]\n",
      "[[0.9999435]] [1]\n",
      "[[1.1495189e-05]] [1]\n",
      "[[0.99999976]] [1]\n",
      "[[0.9999964]] [1]\n",
      "[[0.50932175]] [1]\n",
      "[[0.9903944]] [1]\n",
      "[[0.9918771]] [1]\n",
      "[[0.9996505]] [1]\n",
      "[[0.9999982]] [1]\n",
      "[[0.99999917]] [1]\n",
      "[[0.9998791]] [1]\n",
      "[[0.9999852]] [1]\n",
      "[[0.4716571]] [1]\n",
      "[[0.974831]] [1]\n",
      "[[0.9999963]] [1]\n",
      "[[0.9999844]] [1]\n",
      "[[0.9999373]] [1]\n",
      "[[0.9995079]] [1]\n",
      "[[0.99996734]] [1]\n",
      "[[0.9999951]] [1]\n",
      "[[0.99906725]] [1]\n",
      "[[0.9975056]] [1]\n",
      "[[0.99996674]] [1]\n",
      "[[0.99999857]] [1]\n",
      "[[0.9999738]] [1]\n",
      "[[0.999997]] [1]\n",
      "[[0.99996734]] [1]\n",
      "[[0.9578142]] [1]\n",
      "[[0.99999416]] [1]\n",
      "[[0.4640143]] [1]\n",
      "[[0.9996681]] [1]\n",
      "[[0.0691215]] [1]\n",
      "[[0.99990416]] [1]\n",
      "[[0.9996061]] [1]\n",
      "[[0.9999963]] [1]\n",
      "[[0.99999976]] [1]\n",
      "[[0.12905975]] [1]\n",
      "[[0.07392199]] [1]\n",
      "[[0.9998914]] [1]\n",
      "[[0.9999932]] [1]\n",
      "[[0.99999547]] [1]\n",
      "[[0.9999584]] [1]\n",
      "[[0.09745591]] [1]\n",
      "[[0.9999114]] [1]\n",
      "[[0.999959]] [1]\n",
      "[[0.02364577]] [1]\n",
      "[[0.9999937]] [1]\n",
      "[[0.24109036]] [1]\n",
      "[[0.9999714]] [1]\n",
      "[[0.9913822]] [1]\n",
      "[[0.9999912]] [1]\n",
      "[[0.9928604]] [1]\n",
      "[[0.99994814]] [1]\n",
      "[[0.9999316]] [1]\n",
      "[[0.99999535]] [1]\n",
      "[[0.99984205]] [1]\n",
      "[[0.8265293]] [1]\n",
      "[[0.9999398]] [1]\n",
      "[[0.97340775]] [1]\n",
      "[[0.9957486]] [1]\n",
      "[[0.02811513]] [1]\n",
      "[[0.99999666]] [1]\n",
      "[[0.9999665]] [1]\n",
      "[[0.01081429]] [1]\n",
      "[[0.9999083]] [1]\n",
      "[[0.99990475]] [1]\n",
      "[[0.00184251]] [1]\n",
      "[[0.99998]] [1]\n",
      "[[0.99999535]] [1]\n",
      "[[0.99879813]] [1]\n",
      "[[0.99918324]] [1]\n",
      "[[0.99992657]] [1]\n",
      "[[0.785416]] [1]\n",
      "[[0.9974395]] [1]\n",
      "[[0.9999877]] [1]\n",
      "[[0.9682934]] [1]\n",
      "[[0.99998724]] [1]\n",
      "[[0.9999361]] [1]\n",
      "[[0.8545417]] [1]\n",
      "[[2.7210724e-06]] [1]\n",
      "[[3.182649e-07]] [1]\n",
      "[[0.9838334]] [1]\n",
      "[[0.99999845]] [1]\n",
      "[[0.88138294]] [1]\n",
      "[[0.9999291]] [1]\n",
      "[[0.9999316]] [1]\n",
      "[[0.98995787]] [1]\n",
      "[[0.9428452]] [1]\n",
      "[[0.99867934]] [1]\n",
      "[[0.62743783]] [1]\n",
      "[[0.9999964]] [1]\n",
      "[[0.9998462]] [1]\n",
      "[[0.9999411]] [1]\n",
      "[[0.9999584]] [1]\n",
      "[[0.9998479]] [1]\n",
      "[[0.9993254]] [1]\n",
      "[[0.9999753]] [1]\n",
      "[[0.99999785]] [1]\n",
      "[[0.9999306]] [1]\n",
      "[[0.98994803]] [1]\n",
      "[[0.9968982]] [1]\n",
      "[[0.9998493]] [1]\n",
      "[[0.9999945]] [1]\n",
      "[[0.99953914]] [1]\n",
      "[[0.98994803]] [1]\n",
      "[[0.9999887]] [1]\n",
      "[[0.00434004]] [1]\n",
      "[[0.99991417]] [1]\n",
      "[[0.9994012]] [1]\n",
      "[[0.99999726]] [1]\n",
      "[[0.9996202]] [1]\n",
      "[[0.9999937]] [1]\n",
      "[[0.99999]] [1]\n",
      "[[0.99998903]] [1]\n",
      "[[0.9837849]] [1]\n",
      "[[0.99932075]] [1]\n",
      "[[0.999998]] [1]\n",
      "[[0.9950305]] [1]\n",
      "[[0.9999863]] [1]\n",
      "[[0.9999957]] [1]\n",
      "[[0.999998]] [1]\n",
      "[[0.9520119]] [1]\n",
      "[[0.9925644]] [1]\n",
      "[[0.9999957]] [1]\n",
      "[[0.9999814]] [1]\n",
      "[[0.99981576]] [1]\n",
      "[[0.99999726]] [1]\n",
      "[[0.98399115]] [1]\n",
      "[[0.99990046]] [1]\n",
      "[[0.99999523]] [1]\n",
      "[[0.9973801]] [1]\n",
      "[[0.999881]] [1]\n",
      "[[0.9999404]] [1]\n",
      "[[0.999962]] [1]\n",
      "[[1.996465e-05]] [1]\n",
      "[[0.99997663]] [1]\n",
      "[[0.99816126]] [1]\n",
      "[[0.9999925]] [1]\n",
      "[[0.99859935]] [1]\n",
      "[[0.9997105]] [1]\n",
      "[[0.9934994]] [1]\n",
      "[[0.9999994]] [1]\n",
      "[[0.9999969]] [1]\n",
      "[[0.99306995]] [1]\n",
      "[[0.99306995]] [1]\n",
      "[[0.9996158]] [1]\n",
      "[[0.9999862]] [1]\n",
      "[[0.9510381]] [1]\n",
      "[[0.9999398]] [1]\n",
      "[[0.02747605]] [1]\n",
      "[[0.9950305]] [1]\n",
      "[[0.9950008]] [1]\n",
      "[[0.99997485]] [1]\n",
      "[[0.99997807]] [1]\n",
      "[[0.8436043]] [1]\n",
      "[[0.98546743]] [1]\n",
      "[[0.9999989]] [1]\n",
      "[[0.9999045]] [1]\n",
      "[[0.01229202]] [1]\n",
      "[[0.99259794]] [1]\n",
      "[[0.993298]] [1]\n",
      "[[0.9999858]] [1]\n",
      "[[0.99972457]] [1]\n",
      "[[0.64355975]] [1]\n",
      "[[0.99999774]] [1]\n",
      "[[0.9982493]] [1]\n",
      "[[0.97940123]] [1]\n",
      "[[0.9999275]] [1]\n",
      "[[0.99998724]] [1]\n",
      "[[0.9995314]] [1]\n",
      "[[0.9999995]] [1]\n",
      "[[0.9950305]] [1]\n",
      "[[0.99994814]] [1]\n",
      "[[0.9992557]] [1]\n",
      "[[0.99996734]] [1]\n",
      "[[0.98674846]] [1]\n",
      "[[1.925922e-06]] [1]\n",
      "[[0.88742954]] [1]\n",
      "[[0.99971014]] [1]\n",
      "[[0.00314138]] [1]\n",
      "[[0.9999305]] [1]\n",
      "[[0.9999939]] [1]\n",
      "[[0.97029984]] [1]\n",
      "[[0.78598875]] [1]\n",
      "[[0.9686396]] [1]\n",
      "[[0.9999869]] [1]\n",
      "[[0.9999994]] [1]\n",
      "[[0.95384437]] [1]\n",
      "[[0.9833694]] [1]\n",
      "[[0.94792306]] [1]\n",
      "[[0.99991095]] [1]\n",
      "[[0.9999995]] [1]\n",
      "[[0.99999404]] [1]\n",
      "[[0.9999665]] [1]\n",
      "[[0.9996505]] [1]\n",
      "[[0.6895392]] [1]\n",
      "[[0.9994998]] [1]\n",
      "[[0.9999783]] [1]\n",
      "[[0.99973756]] [1]\n",
      "[[0.99998665]] [1]\n",
      "[[0.9999418]] [1]\n",
      "[[0.99831676]] [1]\n",
      "[[0.9996681]] [1]\n",
      "[[0.9999957]] [1]\n",
      "[[0.99865013]] [1]\n",
      "[[0.9999418]] [1]\n",
      "[[0.9999975]] [1]\n",
      "[[0.9999957]] [1]\n",
      "[[0.9996785]] [1]\n",
      "[[0.9998677]] [1]\n",
      "[[0.99999774]] [1]\n",
      "[[0.9999552]] [1]\n",
      "[[0.9981311]] [1]\n",
      "[[0.9999832]] [1]\n"
     ]
    }
   ],
   "source": [
    "for one in ones[0]:\n",
    "    preds = model.predict(test_sequences_matrix[one].reshape(1,-1))\n",
    "    print(preds,Y_test[one])"
   ]
  },
  {
   "cell_type": "code",
   "execution_count": null,
   "metadata": {},
   "outputs": [],
   "source": []
  }
 ],
 "metadata": {
  "kernelspec": {
   "display_name": "Python 3",
   "language": "python",
   "name": "python3"
  },
  "language_info": {
   "codemirror_mode": {
    "name": "ipython",
    "version": 3
   },
   "file_extension": ".py",
   "mimetype": "text/x-python",
   "name": "python",
   "nbconvert_exporter": "python",
   "pygments_lexer": "ipython3",
   "version": "3.7.7"
  }
 },
 "nbformat": 4,
 "nbformat_minor": 4
}
