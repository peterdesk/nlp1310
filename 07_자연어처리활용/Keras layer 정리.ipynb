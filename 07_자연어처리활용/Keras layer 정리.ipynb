{
 "cells": [
  {
   "cell_type": "markdown",
   "metadata": {},
   "source": [
    "# Keras layer 추가 정리\n",
    "https://www.tensorflow.org/api_docs/python/tf/keras/layers"
   ]
  },
  {
   "cell_type": "code",
   "execution_count": 1,
   "metadata": {},
   "outputs": [],
   "source": [
    "from tensorflow.keras.models import Sequential, Model\n",
    "from tensorflow.keras.layers import Embedding\n",
    "from tensorflow.keras.layers import Permute, Dot, dot, Add, add, Concatenate, concatenate\n",
    "from tensorflow.keras.layers import LSTM, Dense, Dropout, Input, Activation\n",
    "import tensorflow as tf\n",
    "import numpy as np"
   ]
  },
  {
   "cell_type": "markdown",
   "metadata": {},
   "source": [
    "## [1]  tf.keras.layers.Permute\n",
    "#### 행과 열의 차원을 서로 바꾼다"
   ]
  },
  {
   "cell_type": "markdown",
   "metadata": {},
   "source": [
    "<font size=\"4\"> <pre> <b>  \n",
    "        tf.keras.layers.Permute( \n",
    "             dims, **kwargs     \n",
    "        )\n",
    "</b> </pre>"
   ]
  },
  {
   "cell_type": "code",
   "execution_count": 2,
   "metadata": {},
   "outputs": [
    {
     "name": "stdout",
     "output_type": "stream",
     "text": [
      "X:\n",
      " [[[0 1 2]\n",
      "  [3 4 5]]]\n",
      "Y:\n",
      " [[[0 1 2]\n",
      "  [3 4 5]]]\n"
     ]
    }
   ],
   "source": [
    "X = np.arange(6).reshape(1,2,3)\n",
    "print('X:\\n',X)\n",
    "permute = Permute((1, 2))\n",
    "Y = permute(X)\n",
    "print('Y:\\n',Y.numpy())\n",
    "# 변화 없음"
   ]
  },
  {
   "cell_type": "code",
   "execution_count": 3,
   "metadata": {},
   "outputs": [
    {
     "name": "stdout",
     "output_type": "stream",
     "text": [
      "X:\n",
      " [[[0 1 2]\n",
      "  [3 4 5]]]\n",
      "Y:\n",
      " [[[0 3]\n",
      "  [1 4]\n",
      "  [2 5]]]\n"
     ]
    }
   ],
   "source": [
    "X = np.arange(6).reshape(1,2,3)\n",
    "print('X:\\n',X)\n",
    "permute = Permute((2, 1))\n",
    "Y = permute(X)\n",
    "print('Y:\\n',Y.numpy())\n",
    "# 행(axis=1)과 열(axis=2)의 값이 서로 바뀜"
   ]
  },
  {
   "cell_type": "code",
   "execution_count": 4,
   "metadata": {},
   "outputs": [
    {
     "name": "stdout",
     "output_type": "stream",
     "text": [
      "Model: \"sequential\"\n",
      "_________________________________________________________________\n",
      "Layer (type)                 Output Shape              Param #   \n",
      "=================================================================\n",
      "permute_2 (Permute)          (None, 64, 10)            0         \n",
      "=================================================================\n",
      "Total params: 0\n",
      "Trainable params: 0\n",
      "Non-trainable params: 0\n",
      "_________________________________________________________________\n"
     ]
    }
   ],
   "source": [
    "model = Sequential()\n",
    "model.add(Permute((2, 1), input_shape=(10, 64)))\n",
    "model.summary()\n",
    "\n",
    "# 출력 결과 shape이  (None, 64, 10)"
   ]
  },
  {
   "cell_type": "markdown",
   "metadata": {},
   "source": [
    "## [2]  tf.keras.layers.Dot\n",
    "#### 두 개의 입력값으로 dot product(내적) 연산을 수행하는 layer\n",
    "#### Matmul layer가 따로 없으므로 Dot으로 Matmul 연산 수행"
   ]
  },
  {
   "cell_type": "markdown",
   "metadata": {},
   "source": [
    "<font size=\"4\"> <pre> <b>  \n",
    "        tf.keras.layers.Dot(\n",
    "            axes, normalize=False, **kwargs\n",
    "        )\n",
    "        \n",
    "        - axis = (x1_axis,x2_axis) # x1_axis의 shape과 x2_axis의 shape은 서로 동일해야 한다\n",
    "</b> </pre>"
   ]
  },
  {
   "cell_type": "code",
   "execution_count": 5,
   "metadata": {},
   "outputs": [
    {
     "name": "stdout",
     "output_type": "stream",
     "text": [
      "X1:\n",
      " [[[0 1 2]\n",
      "  [3 4 5]]]\n",
      "X2:\n",
      " [[[0 1]\n",
      "  [2 3]\n",
      "  [4 5]]]\n",
      "D:\n",
      " [[[[10 13]]\n",
      "\n",
      "  [[28 40]]]] (1, 2, 1, 2)\n",
      "M:\n",
      " [[[10 13]\n",
      "  [28 40]]] (1, 2, 2)\n",
      "Y1:\n",
      " [[[10 13]\n",
      "  [28 40]]] (1, 2, 2)\n",
      "Y2:\n",
      " [[[ 3  9 15]\n",
      "  [ 4 14 24]\n",
      "  [ 5 19 33]]] (1, 3, 3)\n"
     ]
    }
   ],
   "source": [
    "X1 = np.arange(1*2*3).reshape((1,2,3))\n",
    "print('X1:\\n',X1)\n",
    "X2 = np.arange(1*2*3).reshape((1,3,2))\n",
    "print('X2:\\n',X2)\n",
    "\n",
    "D = np.dot(X1,X2)\n",
    "print('D:\\n',D,D.shape)  # (1, 2, 1, 2)\n",
    "\n",
    "M = np.matmul(X1,X2)\n",
    "print('M:\\n',M,M.shape)  # (1, 2, 2)\n",
    "\n",
    "Y1 = Dot(axes=(2, 1))([X1, X2])  # np.matmul(X1,X2) 과 동일한 결과\n",
    "print('Y1:\\n',Y1.numpy(),Y1.shape) # (1, 2, 2)\n",
    "\n",
    "Y2 = Dot(axes=(1, 2))([X1, X2])  \n",
    "print('Y2:\\n',Y2.numpy(),Y2.shape) # (1, 3, 3)\n",
    "\n",
    "# Y3 = Dot(axes=(1, 1))([X1, X2])  # ValueError\n",
    "# Y4 = Dot(axes=(2, 2))([X1, X2])  # ValueError"
   ]
  },
  {
   "cell_type": "code",
   "execution_count": 6,
   "metadata": {},
   "outputs": [
    {
     "name": "stdout",
     "output_type": "stream",
     "text": [
      "X1:\n",
      " [[[0 1 2]\n",
      "  [3 4 5]]]\n",
      "X2:\n",
      " [[[ 0  1  2]\n",
      "  [ 3  4  5]\n",
      "  [ 6  7  8]\n",
      "  [ 9 10 11]]]\n",
      "Y1:\n",
      " [[[  5  14  23  32]\n",
      "  [ 14  50  86 122]]] (1, 2, 4)\n",
      "Y2:\n",
      " [[[  5  14  23  32]\n",
      "  [ 14  50  86 122]]] (1, 2, 4)\n"
     ]
    }
   ],
   "source": [
    "X1 = np.arange(1*2*3).reshape((1,2,3))\n",
    "print('X1:\\n',X1)\n",
    "X2 = np.arange(1*4*3).reshape((1,4,3))\n",
    "print('X2:\\n',X2)\n",
    "\n",
    "Y1 = Dot(axes=(2,2))([X1, X2]) \n",
    "print('Y1:\\n',Y1.numpy(),Y1.shape) # (1, 2, 4)\n",
    "\n",
    "Y2 = Dot(axes=-1)([X1, X2])   # axes=(2,2)와 동일한 결과\n",
    "print('Y2:\\n',Y2.numpy(),Y2.shape) # (1, 2, 4)"
   ]
  },
  {
   "cell_type": "markdown",
   "metadata": {},
   "source": [
    "### - dot() function\n",
    "<font size=\"4\"> <pre> <b>  \n",
    "    tf.keras.layers.dot(\n",
    "        inputs, axes, normalize=False, **kwargs\n",
    "    )\n",
    "</b> </pre>"
   ]
  },
  {
   "cell_type": "code",
   "execution_count": 7,
   "metadata": {},
   "outputs": [
    {
     "name": "stdout",
     "output_type": "stream",
     "text": [
      "X1:\n",
      " [[[0 1 2]\n",
      "  [3 4 5]]]\n",
      "X2:\n",
      " [[[0 1]\n",
      "  [2 3]\n",
      "  [4 5]]]\n",
      "Y:\n",
      " [[[10 13]\n",
      "  [28 40]]] (1, 2, 2)\n"
     ]
    }
   ],
   "source": [
    "X1 = np.arange(1*2*3).reshape((1,2,3))\n",
    "print('X1:\\n',X1)\n",
    "X2 = np.arange(1*2*3).reshape((1,3,2))\n",
    "print('X2:\\n',X2)\n",
    "\n",
    "Y = dot([X1, X2],axes=(2,1))  # np.matmul(X1,X2) 과 동일한 결과\n",
    "print('Y:\\n',Y.numpy(),Y.shape) # (1, 2, 2)\n",
    "\n",
    "# Y1 = dot([X1, X2],axes=(1,1))  # ValueError\n",
    "# Y2 = dot([X1, X2],axes=(2,2))   # ValueError"
   ]
  },
  {
   "cell_type": "code",
   "execution_count": 8,
   "metadata": {},
   "outputs": [
    {
     "name": "stdout",
     "output_type": "stream",
     "text": [
      "X1:\n",
      " [[[0 1 2]\n",
      "  [3 4 5]]]\n",
      "X2:\n",
      " [[[ 0  1  2]\n",
      "  [ 3  4  5]\n",
      "  [ 6  7  8]\n",
      "  [ 9 10 11]]]\n",
      "Y1:\n",
      " [[[  5  14  23  32]\n",
      "  [ 14  50  86 122]]] (1, 2, 4)\n",
      "Y2:\n",
      " [[[  5  14  23  32]\n",
      "  [ 14  50  86 122]]] (1, 2, 4)\n"
     ]
    }
   ],
   "source": [
    "X1 = np.arange(1*2*3).reshape((1,2,3))\n",
    "print('X1:\\n',X1)\n",
    "X2 = np.arange(1*4*3).reshape((1,4,3))\n",
    "print('X2:\\n',X2)\n",
    "\n",
    "Y1 = dot([X1, X2],axes=(2,2))  \n",
    "print('Y1:\\n',Y1.numpy(),Y1.shape) # (1, 2, 4)\n",
    "\n",
    "Y2 = dot([X1, X2],axes=-1) # axes=(2,2)와 동일한 표현\n",
    "print('Y2:\\n',Y2.numpy(),Y2.shape) # (1, 2, 2)"
   ]
  },
  {
   "cell_type": "code",
   "execution_count": 9,
   "metadata": {},
   "outputs": [
    {
     "name": "stdout",
     "output_type": "stream",
     "text": [
      "X1:\n",
      " [[[0 1]\n",
      "  [2 3]\n",
      "  [4 5]]]\n",
      "X2:\n",
      " [[[10 11 12]\n",
      "  [13 14 15]]]\n",
      "Y1:\n",
      " [[[[ 13  14  15]]\n",
      "\n",
      "  [[ 59  64  69]]\n",
      "\n",
      "  [[105 114 123]]]] (1, 3, 1, 3)\n",
      "Y2:\n",
      " [[[ 13  14  15]\n",
      "  [ 59  64  69]\n",
      "  [105 114 123]]] (1, 3, 3)\n"
     ]
    }
   ],
   "source": [
    "X1 = np.arange(6).reshape(1, 3, 2)\n",
    "print('X1:\\n',X1)\n",
    "X2 = np.arange(10, 16).reshape(1, 2, 3)\n",
    "print('X2:\\n',X2)\n",
    "Y1 = np.dot(X1,X2)\n",
    "print('Y1:\\n',Y1,Y1.shape)\n",
    "Y2 = np.matmul(X1,X2)\n",
    "print('Y2:\\n',Y2,Y2.shape)"
   ]
  },
  {
   "cell_type": "code",
   "execution_count": 10,
   "metadata": {},
   "outputs": [
    {
     "data": {
      "text/plain": [
       "(3, 4, 5, 5, 4, 3)"
      ]
     },
     "execution_count": 10,
     "metadata": {},
     "output_type": "execute_result"
    }
   ],
   "source": [
    "a = np.arange(3*4*5*6).reshape((3,4,5,6))\n",
    "b = np.arange(3*4*5*6)[::-1].reshape((5,4,6,3))\n",
    "c = np.dot(a, b)\n",
    "c.shape"
   ]
  },
  {
   "cell_type": "markdown",
   "metadata": {},
   "source": [
    "### Numpy dot()과 matmul() 함수의 3차원 배열 연산 시 차이\n",
    "https://m.blog.naver.com/PostView.nhn?blogId=cjh226&logNo=221356884894&proxyReferer=https:%2F%2Fwww.google.com%2F"
   ]
  },
  {
   "cell_type": "markdown",
   "metadata": {},
   "source": [
    "### [1]  np.dot()\n",
    "<font size=\"4\"> <pre> <b>  \n",
    "    A.shape # (a1, a2, <font color='red'>a3</font>)\n",
    "    B.shape # (b1, <font color='red'>b2</font>, b3)\n",
    "    --> <font color='red'>a3==b2</font>   <font color='green'># dot 연산이 가능한 조건 </font>\n",
    "    C = np.dot(A,B)\n",
    "    print(C.shape)\n",
    "    (a1, a2, b1, b3)  # 연산 결과가 4차원\n",
    "    \n",
    "    동일 연산식:\n",
    "    C[i,j,k,m] = np.sum(A[i,j,:] * B[k,:,m])\n",
    "</b> </pre>   \n",
    " "
   ]
  },
  {
   "cell_type": "code",
   "execution_count": 11,
   "metadata": {},
   "outputs": [
    {
     "name": "stdout",
     "output_type": "stream",
     "text": [
      "X1:\n",
      " [[[0 1 2]\n",
      "  [3 4 5]]]\n",
      "X2:\n",
      " [[[0 1]\n",
      "  [2 3]\n",
      "  [4 5]]]\n",
      "Y1:\n",
      " [[[[10 13]]\n",
      "\n",
      "  [[28 40]]]] (1, 2, 1, 2)\n",
      "Y2:\n",
      " [[[[10. 13.]]\n",
      "\n",
      "  [[28. 40.]]]] (1, 2, 1, 2)\n"
     ]
    }
   ],
   "source": [
    "# np.dot() 연산 : 3차원 배열끼리 연산 결과 4차원 배열 생성 \n",
    "\n",
    "X1 = np.arange(1*2*3).reshape((1,2,3))\n",
    "print('X1:\\n',X1)\n",
    "X2 = np.arange(1*2*3).reshape((1,3,2))\n",
    "print('X2:\\n',X2)\n",
    "Y1 = np.dot(X1,X2)\n",
    "print('Y1:\\n',Y1,Y1.shape)  # (1, 2, 1, 2)\n",
    "\n",
    "# 동일한 결과의 연산\n",
    "a1,a2,b1,b3 = X1.shape[0],X1.shape[1],X2.shape[0],X2.shape[2]\n",
    "Y2 = np.empty(a1*a2*b1*b3).reshape((a1,a2,b1,b3))\n",
    "for i in range(a1):\n",
    "    for j in range(a2):\n",
    "        for k in range(b1):\n",
    "            for l in range(b3):\n",
    "                Y2[i,j,k,l] = np.sum(X1[i,j,:] * X2[k,:,l])\n",
    "                \n",
    "print('Y2:\\n',Y2, Y2.shape)  # (1, 2, 1, 2)"
   ]
  },
  {
   "cell_type": "markdown",
   "metadata": {},
   "source": [
    "### [2]  np.matmul()   \n",
    "<font size=\"4\"> <pre> <b>  \n",
    "    A.shape # (<font color='blue'>a1</font>, a2, <font color='red'>a3</font>)\n",
    "    B.shape # (<font color='blue'>b1</font>, <font color='red'>b2</font>, b3)\n",
    "    --> <font color='red'> (a1==b1) and (a3==b2)</font> <font color='green'># matmul 연산이 가능한 조건 </font>\n",
    "    C = np.matmul(A,B)\n",
    "    print(C.shape)\n",
    "    (a1, a2, b3)    # 연산 결과가 3차원\n",
    "    \n",
    "    동일 연산식:\n",
    "    C[i,j,k] = np.sum(A[i,j,:] * B[i,:,k])\n",
    "</b> </pre>"
   ]
  },
  {
   "cell_type": "code",
   "execution_count": 12,
   "metadata": {},
   "outputs": [
    {
     "name": "stdout",
     "output_type": "stream",
     "text": [
      "X1:\n",
      " [[[0 1 2]\n",
      "  [3 4 5]]]\n",
      "X2:\n",
      " [[[0 1]\n",
      "  [2 3]\n",
      "  [4 5]]]\n",
      "Y1:\n",
      " [[[10 13]\n",
      "  [28 40]]] (1, 2, 2)\n",
      "Y2:\n",
      " [[[10. 13.]\n",
      "  [28. 40.]]] (1, 2, 2)\n"
     ]
    }
   ],
   "source": [
    "# np.matmu() 연산  : 3차원 배열끼리 연산 결과 3차원 배열 생성 \n",
    "X1 = np.arange(1*2*3).reshape((1,2,3))\n",
    "print('X1:\\n',X1)\n",
    "X2 = np.arange(1*2*3).reshape((1,3,2))\n",
    "print('X2:\\n',X2)\n",
    "Y1 = np.matmul(X1,X2)\n",
    "print('Y1:\\n',Y1,Y1.shape)  # (1, 2, 2)\n",
    "\n",
    "# 동일한 결과의 연산\n",
    "a1,a2,b3 = X1.shape[0],X1.shape[1],X2.shape[2]\n",
    "Y2 = np.empty(a1*a2*b3).reshape((a1,a2,b3))\n",
    "for i in range(a1):\n",
    "    for j in range(a2):\n",
    "        for k in range(b3):\n",
    "                Y2[i,j,k] = np.sum(X1[i,j,:] * X2[i,:,k])\n",
    "                \n",
    "print('Y2:\\n',Y2, Y2.shape)  # (1, 2, 2)"
   ]
  },
  {
   "cell_type": "markdown",
   "metadata": {},
   "source": [
    "## [3]  tf.keras.layers.Add\n",
    "#### 입력 텐서들의 요소 간의 덧셈 연산을 수행하는 layer"
   ]
  },
  {
   "cell_type": "markdown",
   "metadata": {},
   "source": [
    "<font size=\"4\"> <pre> <b>  \n",
    "        tf.keras.layers.Add(\n",
    "            **kwargs\n",
    "        )\n",
    "</b> </pre>"
   ]
  },
  {
   "cell_type": "code",
   "execution_count": 13,
   "metadata": {},
   "outputs": [
    {
     "name": "stdout",
     "output_type": "stream",
     "text": [
      "X1:\n",
      " tf.Tensor(\n",
      "[[[-0.24110962  0.06747787  0.32457784]\n",
      "  [ 0.3141423  -0.6017014  -1.0139027 ]]], shape=(1, 2, 3), dtype=float32)\n",
      "X2:\n",
      " tf.Tensor(\n",
      "[[[ 0.41337535  0.4846839  -0.05236785]\n",
      "  [-0.6784242  -0.0977253  -1.269239  ]]], shape=(1, 2, 3), dtype=float32)\n",
      "Y:\n",
      " tf.Tensor(\n",
      "[[[ 0.17226572  0.55216175  0.27221   ]\n",
      "  [-0.3642819  -0.69942665 -2.2831416 ]]], shape=(1, 2, 3), dtype=float32) (1, 2, 3)\n"
     ]
    }
   ],
   "source": [
    "input_shape = (1, 2, 3)\n",
    "X1 = tf.random.normal(input_shape)\n",
    "print('X1:\\n',X1)\n",
    "X2 = tf.random.normal(input_shape)\n",
    "print('X2:\\n',X2)\n",
    "myadd = Add()\n",
    "Y = myadd([X1, X2])\n",
    "print('Y:\\n',Y, Y.shape)  # (1, 2, 3)"
   ]
  },
  {
   "cell_type": "markdown",
   "metadata": {},
   "source": [
    "## [4]  tf.keras.layers.Concatenate\n",
    "#### 입력 텐서들을 axis 값의 축방향으로 concatenate(합치기)을 수행하는 layer"
   ]
  },
  {
   "cell_type": "markdown",
   "metadata": {},
   "source": [
    "<font size=\"4\"> <pre> <b>  \n",
    "        tf.keras.layers.Concatenate(\n",
    "            axis=-1, **kwargs\n",
    "        )\n",
    "</b> </pre>"
   ]
  },
  {
   "cell_type": "code",
   "execution_count": 14,
   "metadata": {},
   "outputs": [
    {
     "name": "stdout",
     "output_type": "stream",
     "text": [
      "X1:\n",
      " [[[0 1 2]\n",
      "  [3 4 5]]]\n",
      "X2:\n",
      " [[[0 1 2]\n",
      "  [3 4 5]]]\n",
      "Y0:\n",
      " [[[0 1 2]\n",
      "  [3 4 5]]\n",
      "\n",
      " [[0 1 2]\n",
      "  [3 4 5]]] (2, 2, 3)\n",
      "Y1:\n",
      " [[[0 1 2]\n",
      "  [3 4 5]\n",
      "  [0 1 2]\n",
      "  [3 4 5]]] (1, 4, 3)\n",
      "Y2:\n",
      " [[[0 1 2 0 1 2]\n",
      "  [3 4 5 3 4 5]]] (1, 2, 6)\n",
      "Y3:\n",
      " [[[0 1 2 0 1 2]\n",
      "  [3 4 5 3 4 5]]] (1, 2, 6)\n"
     ]
    }
   ],
   "source": [
    "X1 = np.arange(1*2*3).reshape(1, 2, 3)\n",
    "print('X1:\\n',X1)\n",
    "X2 = np.arange(1*2*3).reshape(1, 2, 3)\n",
    "print('X2:\\n',X2)\n",
    "\n",
    "\n",
    "concat = Concatenate(axis=0)\n",
    "Y0 = concat([X1, X2])\n",
    "print('Y0:\\n',Y0.numpy(), Y0.shape)  # (2, 2, 3)\n",
    "\n",
    "concat = Concatenate(axis=1)\n",
    "Y1 = concat([X1, X2])\n",
    "print('Y1:\\n',Y1.numpy(), Y1.shape)  # (1, 4, 3)\n",
    "\n",
    "concat = Concatenate(axis=2)\n",
    "Y2 = concat([X1, X2])\n",
    "print('Y2:\\n',Y2.numpy(), Y2.shape)  # (1, 2, 6)\n",
    "\n",
    "concat = Concatenate(axis=-1)  # -1: 마지막 축 , axis=2 와 동일한 결과\n",
    "Y3 = concat([X1, X2])\n",
    "print('Y3:\\n',Y3.numpy(), Y3.shape)  # (1, 2, 6)"
   ]
  },
  {
   "cell_type": "code",
   "execution_count": 15,
   "metadata": {},
   "outputs": [
    {
     "name": "stdout",
     "output_type": "stream",
     "text": [
      "X1:\n",
      " (5, 8)\n",
      "X2:\n",
      " (5, 8)\n",
      "Y:\n",
      " (5, 16)\n"
     ]
    }
   ],
   "source": [
    "X1 = tf.keras.layers.Dense(8)(np.arange(10).reshape(5, 2))\n",
    "print('X1:\\n',X1.shape)\n",
    "X2 = tf.keras.layers.Dense(8)(np.arange(10, 20).reshape(5, 2))\n",
    "print('X2:\\n',X2.shape)\n",
    "concat = Concatenate()  # axis 생략시 기본값은 -1\n",
    "Y = concat([X1, X2])  \n",
    "print('Y:\\n',Y.shape)  # (5,16)"
   ]
  },
  {
   "cell_type": "markdown",
   "metadata": {},
   "source": [
    "## [5]  tf.keras.layers.Activation\n",
    "#### 활성화 함수를 사용하여 출력하는 layer"
   ]
  },
  {
   "cell_type": "markdown",
   "metadata": {},
   "source": [
    "<font size=\"4\"> <pre> <b>  \n",
    "        tf.keras.layers.Activation(\n",
    "            activation, **kwargs\n",
    "        )\n",
    "</b> </pre>"
   ]
  },
  {
   "cell_type": "code",
   "execution_count": 16,
   "metadata": {},
   "outputs": [
    {
     "name": "stdout",
     "output_type": "stream",
     "text": [
      "X:\n",
      " [[[-3.2 -1.1]\n",
      "  [ 0.1  1.3]\n",
      "  [ 2.3  5.2]]] (1, 3, 2)\n",
      "Y:\n",
      " [[[0.10909683 0.8909032 ]\n",
      "  [0.23147523 0.7685248 ]\n",
      "  [0.05215357 0.9478465 ]]] (1, 3, 2)\n"
     ]
    }
   ],
   "source": [
    "X = np.array([-3.2,-1.1,0.1,1.3,2.3,5.2]).reshape(1,3,-1).astype('float32')\n",
    "print('X:\\n',X,X.shape)\n",
    "layer = Activation('softmax')\n",
    "Y = layer(X)\n",
    "print('Y:\\n',Y.numpy(), Y.shape)  # (1, 3, 2)"
   ]
  },
  {
   "cell_type": "code",
   "execution_count": 17,
   "metadata": {},
   "outputs": [
    {
     "name": "stdout",
     "output_type": "stream",
     "text": [
      "Y:  [0.  0.  0.  1.5 2. ]\n"
     ]
    }
   ],
   "source": [
    "X = np.array([-3.0, -1.0, 0.0, 1.5,2.0]).astype('float32')\n",
    "layer = Activation('relu')\n",
    "Y = layer(X)\n",
    "print('Y: ',Y.numpy())  # relu: 0 이하는 0, 0보다 큰 값은 그대로 출력"
   ]
  },
  {
   "cell_type": "code",
   "execution_count": 18,
   "metadata": {},
   "outputs": [
    {
     "name": "stdout",
     "output_type": "stream",
     "text": [
      "Y:  [0.04742587 0.26894143 0.5        0.81757444 0.8807971 ]\n"
     ]
    }
   ],
   "source": [
    "X = np.array([-3.0, -1.0, 0.0, 1.5,2.0]).astype('float32')\n",
    "layer = Activation('sigmoid')\n",
    "Y = layer(X)\n",
    "print('Y: ',Y.numpy())  "
   ]
  },
  {
   "cell_type": "code",
   "execution_count": null,
   "metadata": {},
   "outputs": [],
   "source": []
  }
 ],
 "metadata": {
  "kernelspec": {
   "display_name": "Python 3",
   "language": "python",
   "name": "python3"
  },
  "language_info": {
   "codemirror_mode": {
    "name": "ipython",
    "version": 3
   },
   "file_extension": ".py",
   "mimetype": "text/x-python",
   "name": "python",
   "nbconvert_exporter": "python",
   "pygments_lexer": "ipython3",
   "version": "3.8.3"
  }
 },
 "nbformat": 4,
 "nbformat_minor": 4
}
