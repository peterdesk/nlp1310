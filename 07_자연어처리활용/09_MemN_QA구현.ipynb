{
 "cells": [
  {
   "cell_type": "markdown",
   "metadata": {},
   "source": [
    "# MemN으로 질의 응답(Questrion Answering) 구현"
   ]
  },
  {
   "cell_type": "code",
   "execution_count": 1,
   "metadata": {},
   "outputs": [],
   "source": [
    "# ! pip install customized_konlpy"
   ]
  },
  {
   "cell_type": "code",
   "execution_count": 2,
   "metadata": {},
   "outputs": [],
   "source": [
    "from ckonlpy.tag import Twitter\n",
    "from tensorflow.keras.utils import get_file\n",
    "from tensorflow.keras.preprocessing.sequence import pad_sequences\n",
    "from tensorflow.keras.utils import to_categorical\n",
    "import numpy as np\n",
    "from nltk import FreqDist\n",
    "from functools import reduce\n",
    "import os\n",
    "import re\n",
    "import matplotlib.pyplot as plt"
   ]
  },
  {
   "cell_type": "code",
   "execution_count": 3,
   "metadata": {},
   "outputs": [],
   "source": [
    "# from google.colab import drive\n",
    "# drive.mount('/content/drive')"
   ]
  },
  {
   "cell_type": "markdown",
   "metadata": {},
   "source": [
    "### 데이터 가져오기"
   ]
  },
  {
   "cell_type": "code",
   "execution_count": 4,
   "metadata": {},
   "outputs": [],
   "source": [
    "# 한국어 bAbi 데이터셋\n",
    "# 훈련 데이터 : https://bit.ly/31SqtHy\n",
    "# 테스트 데이터 : https://bit.ly/3f7rH5g\n",
    "\n",
    "# 영어 bAbi(pronounced “baby\") 데이터셋\n",
    "# from tensorflow.keras.utils import get_file\n",
    "# import tarfile\n",
    "\n",
    "# path = get_file('babi-tasks-v1-2.tar.gz', origin='https://s3.amazonaws.com/text-datasets/'\n",
    "#                 'babi_tasks_1-20_v1-2.tar.gz')\n",
    "# with tarfile.open(path) as tar:\n",
    "#     tar.extractall()\n",
    "#     tar.close()"
   ]
  },
  {
   "cell_type": "code",
   "execution_count": 5,
   "metadata": {},
   "outputs": [],
   "source": [
    "TRAIN_FILE = os.path.join(\"qa1_single-supporting-fact_train_kor.txt\")\n",
    "TEST_FILE = os.path.join(\"qa1_single-supporting-fact_test_kor.txt\")"
   ]
  },
  {
   "cell_type": "code",
   "execution_count": 6,
   "metadata": {},
   "outputs": [],
   "source": [
    "# TRAIN_FILE = os.path.join(\"/content/drive/My Drive/NLP_LAB/qa1_single-supporting-fact_train_kor.txt\")\n",
    "# TEST_FILE = os.path.join(\"/content/drive/My Drive/NLP_LAB/qa1_single-supporting-fact_test_kor.txt\")"
   ]
  },
  {
   "cell_type": "code",
   "execution_count": 7,
   "metadata": {},
   "outputs": [
    {
     "name": "stdout",
     "output_type": "stream",
     "text": [
      "1 필웅이는 화장실로 갔습니다.\n",
      "2 은경이는 복도로 이동했습니다.\n",
      "3 필웅이는 어디야? \t화장실\t1\n",
      "4 수종이는 복도로 복귀했습니다.\n",
      "5 경임이는 정원으로 갔습니다.\n",
      "6 수종이는 어디야? \t복도\t4\n",
      "7 은경이는 사무실로 갔습니다.\n",
      "8 경임이는 화장실로 뛰어갔습니다.\n",
      "9 수종이는 어디야? \t복도\t4\n",
      "10 필웅이는 복도로 갔습니다.\n",
      "11 수종이는 사무실로 가버렸습니다.\n",
      "12 수종이는 어디야? \t사무실\t11\n",
      "13 은경이는 정원으로 복귀했습니다.\n",
      "14 은경이는 침실로 갔습니다.\n",
      "15 경임이는 어디야? \t화장실\t8\n",
      "1 경임이는 사무실로 가버렸습니다.\n",
      "2 경임이는 화장실로 이동했습니다.\n",
      "3 경임이는 어디야? \t화장실\t2\n",
      "4 필웅이는 침실로 이동했습니다.\n",
      "5 수종이는 복도로 갔습니다.\n"
     ]
    }
   ],
   "source": [
    "i = 0\n",
    "lines = open(TRAIN_FILE , \"rb\")\n",
    "for line in lines:\n",
    "    line = line.decode(\"utf-8\").strip()\n",
    "    i = i + 1\n",
    "    print(line)\n",
    "    if i == 20:\n",
    "        break        "
   ]
  },
  {
   "cell_type": "code",
   "execution_count": 8,
   "metadata": {},
   "outputs": [],
   "source": [
    "# 숫자 1부터 15까지 한 개의 스토리이고 그 중간 중간에 질문  \n",
    "# 3번, 6번, 9번, 12번, 15번 라인이 각 스토리 중간에 이어지는 질문, 질문 옆에 정답(정답의 라인번호_)\n",
    "# 숫자 1이 다시 나오면 이제부터는 다시 별개의 스토리가 시작됨"
   ]
  },
  {
   "cell_type": "markdown",
   "metadata": {},
   "source": [
    "### 데이터 전처리"
   ]
  },
  {
   "cell_type": "code",
   "execution_count": 9,
   "metadata": {},
   "outputs": [],
   "source": [
    "def read_data(dir):\n",
    "    stories, questions, answers = [], [], [] # 각각 스토리, 질문, 답변을 저장할 예정\n",
    "    story_temp = [] # 현재 시점의 스토리 임시 저장\n",
    "    lines = open(dir, \"rb\")\n",
    "\n",
    "    for line in lines:\n",
    "        line = line.decode(\"utf-8\") # b' 제거\n",
    "        line = line.strip() # '\\n' 제거\n",
    "        idx, text = line.split(\" \", 1) # 맨 앞에 있는 id number 분리\n",
    "        # 여기까지는 모든 줄에 적용되는 전처리\n",
    "\n",
    "        if int(idx) == 1:\n",
    "            story_temp = []\n",
    "\n",
    "        if \"\\t\" in text: # 현재 읽는 줄이 질문 (tab) 답변 (tab)인 경우\n",
    "            question, answer, _ = text.split(\"\\t\") # 질문과 답변을 각각 저장\n",
    "            stories.append([x for x in story_temp if x]) # 지금까지의 누적 스토리를 스토리에 저장\n",
    "            questions.append(question)\n",
    "            answers.append(answer)\n",
    "\n",
    "        else: # 현재 읽는 줄이 스토리인 경우\n",
    "            story_temp.append(text) # 임시 저장\n",
    "\n",
    "    lines.close()\n",
    "    return stories, questions, answers"
   ]
  },
  {
   "cell_type": "code",
   "execution_count": 10,
   "metadata": {
    "scrolled": false
   },
   "outputs": [],
   "source": [
    "train_data = read_data(TRAIN_FILE)\n",
    "test_data = read_data(TEST_FILE)"
   ]
  },
  {
   "cell_type": "code",
   "execution_count": 11,
   "metadata": {
    "scrolled": true
   },
   "outputs": [],
   "source": [
    "train_stories, train_questions, train_answers = read_data(TRAIN_FILE)\n",
    "test_stories, test_questions, test_answers = read_data(TEST_FILE)\n",
    "# train_stories, train_questions, train_answers"
   ]
  },
  {
   "cell_type": "code",
   "execution_count": 12,
   "metadata": {},
   "outputs": [
    {
     "name": "stdout",
     "output_type": "stream",
     "text": [
      "훈련용 스토리의 개수 : 10000\n",
      "훈련용 질문의 개수 : 10000\n",
      "훈련용 답변의 개수 : 10000\n",
      "테스트용 스토리의 개수 : 1000\n",
      "테스트용 질문의 개수 : 1000\n",
      "테스트용 답변의 개수 : 1000\n"
     ]
    }
   ],
   "source": [
    "print('훈련용 스토리의 개수 :', len(train_stories))\n",
    "print('훈련용 질문의 개수 :',len(train_questions))\n",
    "print('훈련용 답변의 개수 :',len(train_answers))\n",
    "print('테스트용 스토리의 개수 :',len(test_stories))\n",
    "print('테스트용 질문의 개수 :',len(test_questions))\n",
    "print('테스트용 답변의 개수 :',len(test_answers))"
   ]
  },
  {
   "cell_type": "code",
   "execution_count": 13,
   "metadata": {},
   "outputs": [
    {
     "data": {
      "text/plain": [
       "['은경이는 부엌으로 가버렸습니다.',\n",
       " '필웅이는 사무실로 가버렸습니다.',\n",
       " '수종이는 복도로 뛰어갔습니다.',\n",
       " '은경이는 사무실로 복귀했습니다.',\n",
       " '경임이는 사무실로 이동했습니다.',\n",
       " '경임이는 침실로 갔습니다.']"
      ]
     },
     "execution_count": 13,
     "metadata": {},
     "output_type": "execute_result"
    }
   ],
   "source": [
    "train_stories[3572]  # 질문1개 마다 누적 저장되어 있음"
   ]
  },
  {
   "cell_type": "code",
   "execution_count": 14,
   "metadata": {},
   "outputs": [
    {
     "data": {
      "text/plain": [
       "'은경이는 어디야? '"
      ]
     },
     "execution_count": 14,
     "metadata": {},
     "output_type": "execute_result"
    }
   ],
   "source": [
    "train_questions[3572]"
   ]
  },
  {
   "cell_type": "code",
   "execution_count": 15,
   "metadata": {},
   "outputs": [
    {
     "data": {
      "text/plain": [
       "'사무실'"
      ]
     },
     "execution_count": 15,
     "metadata": {},
     "output_type": "execute_result"
    }
   ],
   "source": [
    "train_answers[3572]"
   ]
  },
  {
   "cell_type": "code",
   "execution_count": 16,
   "metadata": {},
   "outputs": [
    {
     "name": "stderr",
     "output_type": "stream",
     "text": [
      "C:\\ProgramData\\Anaconda3\\envs\\tf20\\lib\\site-packages\\konlpy\\tag\\_okt.py:16: UserWarning: \"Twitter\" has changed to \"Okt\" since KoNLPy v0.4.5.\n",
      "  warn('\"Twitter\" has changed to \"Okt\" since KoNLPy v0.4.5.')\n"
     ]
    },
    {
     "name": "stdout",
     "output_type": "stream",
     "text": [
      "['은', '경이', '는', '화장실', '로', '이동', '했습니다', '.']\n",
      "['경', '임', '이', '는', '정원', '으로', '가버렸습니다', '.']\n",
      "['수종', '이', '는', '복도', '로', '뛰어갔습니다', '.']\n",
      "['필웅이', '는', '부엌', '으로', '복귀', '했습니다', '.']\n",
      "['수종', '이', '는', '사무실', '로', '갔습니다', '.']\n",
      "['은', '경이', '는', '침실', '로', '갔습니다', '.']\n"
     ]
    }
   ],
   "source": [
    "# Twitter(Okt) 테스트\n",
    "twitter = Twitter()\n",
    "print(twitter.morphs('은경이는 화장실로 이동했습니다.'))\n",
    "print(twitter.morphs('경임이는 정원으로 가버렸습니다.'))\n",
    "print(twitter.morphs('수종이는 복도로 뛰어갔습니다.'))\n",
    "print(twitter.morphs('필웅이는 부엌으로 복귀했습니다.'))\n",
    "print(twitter.morphs('수종이는 사무실로 갔습니다.'))\n",
    "print(twitter.morphs('은경이는 침실로 갔습니다.'))"
   ]
  },
  {
   "cell_type": "code",
   "execution_count": 17,
   "metadata": {},
   "outputs": [],
   "source": [
    "twitter.add_dictionary('은경이', 'Noun')\n",
    "twitter.add_dictionary('경임이', 'Noun')\n",
    "twitter.add_dictionary('수종이', 'Noun')"
   ]
  },
  {
   "cell_type": "code",
   "execution_count": 18,
   "metadata": {},
   "outputs": [
    {
     "name": "stdout",
     "output_type": "stream",
     "text": [
      "['은경이', '는', '화장실', '로', '이동', '했습니다', '.']\n",
      "['경임이', '는', '정원', '으로', '가버렸습니다', '.']\n",
      "['수종이', '는', '복도', '로', '뛰어갔습니다', '.']\n",
      "['필웅이', '는', '부엌', '으로', '복귀', '했습니다', '.']\n",
      "['수종이', '는', '사무실', '로', '갔습니다', '.']\n",
      "['은경이', '는', '침실', '로', '갔습니다', '.']\n"
     ]
    }
   ],
   "source": [
    "print(twitter.morphs('은경이는 화장실로 이동했습니다.'))\n",
    "print(twitter.morphs('경임이는 정원으로 가버렸습니다.'))\n",
    "print(twitter.morphs('수종이는 복도로 뛰어갔습니다.'))\n",
    "print(twitter.morphs('필웅이는 부엌으로 복귀했습니다.'))\n",
    "print(twitter.morphs('수종이는 사무실로 갔습니다.'))\n",
    "print(twitter.morphs('은경이는 침실로 갔습니다.'))\n",
    "# 사전 추가 후에는 이름이 제대로 분리된다"
   ]
  },
  {
   "cell_type": "markdown",
   "metadata": {},
   "source": [
    "### 토큰화"
   ]
  },
  {
   "cell_type": "code",
   "execution_count": 19,
   "metadata": {},
   "outputs": [],
   "source": [
    "def tokenize(sent):\n",
    "    return twitter.morphs(sent)"
   ]
  },
  {
   "cell_type": "code",
   "execution_count": 20,
   "metadata": {},
   "outputs": [],
   "source": [
    "def preprocess_data(train_data, test_data):\n",
    "    \n",
    "    counter = FreqDist() # 문서에 사용된 단어(토큰)의 사용빈도 정보를 담는 클래스\n",
    "                         # 단어를 키(key), 출현빈도를 값(value)으로 가지는 사전 자료형과 유사\n",
    "        \n",
    "    # 두 문장의 story를 하나의 문장으로 통합하는 함수\n",
    "    flatten = lambda data: reduce(lambda x, y: x + y, data)\n",
    "\n",
    "    # 각 샘플의 길이를 저장하는 리스트\n",
    "    story_len = []\n",
    "    question_len = []\n",
    "\n",
    "    for stories, questions, answers in [train_data, test_data]:\n",
    "        for story in stories:\n",
    "            stories = tokenize(flatten(story)) # 스토리의 문장들을 펼친 후 토큰화\n",
    "            story_len.append(len(stories))     # 각 story의 길이 저장\n",
    "            for word in stories:               # 단어 집합에 단어 추가\n",
    "                counter[word] += 1             # 단어의 출현 빈도를 1 증가\n",
    "        for question in questions:\n",
    "            question = tokenize(question)\n",
    "            question_len.append(len(question))\n",
    "            for word in question:\n",
    "                counter[word] += 1\n",
    "        for answer in answers:\n",
    "            answer = tokenize(answer)\n",
    "            for word in answer:\n",
    "                counter[word] += 1\n",
    "\n",
    "    # 단어 집합 생성\n",
    "    word2idx = {word : (idx + 1) for idx, (word, _) in enumerate(counter.most_common())}\n",
    "                                                     # most_common(): 가장 출현 횟수가 높은 단어와 빈도를 반환\n",
    "    idx2word = {idx : word for word, idx in word2idx.items()} # key와 value를 서로 바꿈\n",
    "\n",
    "    # 가장 긴 샘플의 길이\n",
    "    story_max_len = np.max(story_len)\n",
    "    question_max_len = np.max(question_len)\n",
    "\n",
    "    return word2idx, idx2word, story_max_len, question_max_len"
   ]
  },
  {
   "cell_type": "code",
   "execution_count": 21,
   "metadata": {},
   "outputs": [],
   "source": [
    "word2idx, idx2word, story_max_len, question_max_len = preprocess_data(train_data, test_data) # 시간 소요 "
   ]
  },
  {
   "cell_type": "code",
   "execution_count": 22,
   "metadata": {},
   "outputs": [
    {
     "name": "stdout",
     "output_type": "stream",
     "text": [
      "{'는': 1, '.': 2, '로': 3, '했습니다': 4, '으로': 5, '경임이': 6, '은경이': 7, '수종이': 8, '필웅이': 9, '이동': 10, '가버렸습니다': 11, '뛰어갔습니다': 12, '복귀': 13, '화장실': 14, '정원': 15, '복도': 16, '갔습니다': 17, '사무실': 18, '부엌': 19, '침실': 20, '어디': 21, '야': 22, '?': 23}\n"
     ]
    }
   ],
   "source": [
    "print(word2idx)"
   ]
  },
  {
   "cell_type": "code",
   "execution_count": 23,
   "metadata": {},
   "outputs": [
    {
     "name": "stdout",
     "output_type": "stream",
     "text": [
      "24\n"
     ]
    }
   ],
   "source": [
    "vocab_size = len(word2idx) + 1\n",
    "print(vocab_size)"
   ]
  },
  {
   "cell_type": "code",
   "execution_count": 24,
   "metadata": {},
   "outputs": [
    {
     "name": "stdout",
     "output_type": "stream",
     "text": [
      "스토리의 최대 길이 : 70\n",
      "질문의 최대 길이 : 5\n"
     ]
    }
   ],
   "source": [
    "print('스토리의 최대 길이 :',story_max_len)\n",
    "print('질문의 최대 길이 :',question_max_len)"
   ]
  },
  {
   "cell_type": "markdown",
   "metadata": {},
   "source": [
    "### 벡터화"
   ]
  },
  {
   "cell_type": "code",
   "execution_count": 25,
   "metadata": {},
   "outputs": [],
   "source": [
    "def vectorize(data, word2idx, story_maxlen, question_maxlen):\n",
    "    Xs, Xq, Y = [], [], []\n",
    "    flatten = lambda data: reduce(lambda x, y: x + y, data)\n",
    "\n",
    "    stories, questions, answers = data\n",
    "    for story, question, answer in zip(stories, questions, answers):\n",
    "        xs = [word2idx[w] for w in tokenize(flatten(story))]\n",
    "        xq = [word2idx[w] for w in tokenize(question)]\n",
    "        Xs.append(xs)\n",
    "        Xq.append(xq)\n",
    "        Y.append(word2idx[answer])\n",
    "\n",
    "        # 스토리와 질문은 각각의 최대 길이로 패딩\n",
    "        # 정답은 원-핫 인코딩\n",
    "    return pad_sequences(Xs, maxlen=story_maxlen),\\\n",
    "           pad_sequences(Xq, maxlen=question_maxlen),\\\n",
    "           to_categorical(Y, num_classes=len(word2idx) + 1)"
   ]
  },
  {
   "cell_type": "code",
   "execution_count": 26,
   "metadata": {},
   "outputs": [],
   "source": [
    "Xstrain, Xqtrain, Ytrain = vectorize(train_data, word2idx, story_max_len, question_max_len)\n",
    "Xstest, Xqtest, Ytest = vectorize(test_data, word2idx, story_max_len, question_max_len)"
   ]
  },
  {
   "cell_type": "code",
   "execution_count": 27,
   "metadata": {},
   "outputs": [
    {
     "name": "stdout",
     "output_type": "stream",
     "text": [
      "(10000, 70) (10000, 5) (10000, 24) (1000, 70) (1000, 5) (1000, 24)\n"
     ]
    },
    {
     "data": {
      "text/plain": [
       "(array([[ 0,  0,  0,  0,  0,  0,  0,  0,  0,  0,  0,  0,  0,  0,  0,  0,\n",
       "          0,  0,  0,  0,  0,  0,  0,  0,  0,  0,  0,  0,  0,  0,  0,  0,\n",
       "          0,  0,  0,  0,  0,  0,  0,  0,  0,  0,  0,  0,  0,  0,  0,  0,\n",
       "          0,  0,  0,  0,  0,  0,  0,  0,  0,  9,  1, 14,  3, 17,  2,  7,\n",
       "          1, 16,  3, 10,  4,  2],\n",
       "        [ 0,  0,  0,  0,  0,  0,  0,  0,  0,  0,  0,  0,  0,  0,  0,  0,\n",
       "          0,  0,  0,  0,  0,  0,  0,  0,  0,  0,  0,  0,  0,  0,  0,  0,\n",
       "          0,  0,  0,  0,  0,  0,  0,  0,  0,  0,  0,  0,  9,  1, 14,  3,\n",
       "         17,  2,  7,  1, 16,  3, 10,  4,  2,  8,  1, 16,  3, 13,  4,  2,\n",
       "          6,  1, 15,  5, 17,  2],\n",
       "        [ 0,  0,  0,  0,  0,  0,  0,  0,  0,  0,  0,  0,  0,  0,  0,  0,\n",
       "          0,  0,  0,  0,  0,  0,  0,  0,  0,  0,  0,  0,  0,  0,  0,  0,\n",
       "          9,  1, 14,  3, 17,  2,  7,  1, 16,  3, 10,  4,  2,  8,  1, 16,\n",
       "          3, 13,  4,  2,  6,  1, 15,  5, 17,  2,  7,  1, 18,  3, 17,  2,\n",
       "          6,  1, 14,  3, 12,  2]]),\n",
       " array([[ 9,  1, 21, 22, 23],\n",
       "        [ 8,  1, 21, 22, 23],\n",
       "        [ 8,  1, 21, 22, 23]]),\n",
       " array([[0., 0., 0., 0., 0., 0., 0., 0., 0., 0., 0., 0., 0., 0., 1., 0.,\n",
       "         0., 0., 0., 0., 0., 0., 0., 0.],\n",
       "        [0., 0., 0., 0., 0., 0., 0., 0., 0., 0., 0., 0., 0., 0., 0., 0.,\n",
       "         1., 0., 0., 0., 0., 0., 0., 0.],\n",
       "        [0., 0., 0., 0., 0., 0., 0., 0., 0., 0., 0., 0., 0., 0., 0., 0.,\n",
       "         1., 0., 0., 0., 0., 0., 0., 0.]], dtype=float32))"
      ]
     },
     "execution_count": 27,
     "metadata": {},
     "output_type": "execute_result"
    }
   ],
   "source": [
    "print(Xstrain.shape, Xqtrain.shape, Ytrain.shape, Xstest.shape, Xqtest.shape, Ytest.shape)\n",
    "Xstrain[:3], Xqtrain[:3], Ytrain[:3]"
   ]
  },
  {
   "cell_type": "markdown",
   "metadata": {},
   "source": [
    "### 학습 모델 구현"
   ]
  },
  {
   "cell_type": "code",
   "execution_count": 28,
   "metadata": {},
   "outputs": [],
   "source": [
    "from tensorflow.keras.models import Sequential, Model\n",
    "from tensorflow.keras.layers import Embedding\n",
    "from tensorflow.keras.layers import Permute, dot, add, concatenate\n",
    "from tensorflow.keras.layers import LSTM, Dense, Dropout, Input, Activation"
   ]
  },
  {
   "cell_type": "code",
   "execution_count": 29,
   "metadata": {},
   "outputs": [],
   "source": [
    "train_epochs = 120   # 에포크 횟수\n",
    "batch_size = 32      # 배치 크기\n",
    "embed_size = 50      # 임베딩 크기\n",
    "lstm_size = 64       # LSTM의 크기\n",
    "dropout_rate = 0.30  # 과적합 방지 기법인 드롭아웃 적용 비율"
   ]
  },
  {
   "cell_type": "code",
   "execution_count": 30,
   "metadata": {},
   "outputs": [
    {
     "name": "stdout",
     "output_type": "stream",
     "text": [
      "Stories : Tensor(\"input_1:0\", shape=(None, 70), dtype=float32)\n",
      "Question: Tensor(\"input_2:0\", shape=(None, 5), dtype=float32)\n"
     ]
    }
   ],
   "source": [
    "input_sequence = Input((story_max_len,))\n",
    "question = Input((question_max_len,))\n",
    "\n",
    "print('Stories :', input_sequence)\n",
    "print('Question:', question)"
   ]
  },
  {
   "cell_type": "code",
   "execution_count": 31,
   "metadata": {},
   "outputs": [
    {
     "name": "stdout",
     "output_type": "stream",
     "text": [
      "Model: \"sequential\"\n",
      "_________________________________________________________________\n",
      "Layer (type)                 Output Shape              Param #   \n",
      "=================================================================\n",
      "embedding (Embedding)        (None, None, 50)          1200      \n",
      "_________________________________________________________________\n",
      "dropout (Dropout)            (None, None, 50)          0         \n",
      "=================================================================\n",
      "Total params: 1,200\n",
      "Trainable params: 1,200\n",
      "Non-trainable params: 0\n",
      "_________________________________________________________________\n"
     ]
    }
   ],
   "source": [
    "# 스토리를 위한 첫번째 임베딩. 그림에서 Embedding A\n",
    "input_encoder_m = Sequential()\n",
    "input_encoder_m.add(Embedding(input_dim=vocab_size,\n",
    "                              output_dim=embed_size))\n",
    "input_encoder_m.add(Dropout(dropout_rate))\n",
    "# 결과 : (samples, story_max_len, embedding_dim) / 샘플의 수, 문장의 최대 길이, 임베딩 벡터의 차원\n",
    "input_encoder_m.summary()"
   ]
  },
  {
   "cell_type": "code",
   "execution_count": 32,
   "metadata": {},
   "outputs": [
    {
     "name": "stdout",
     "output_type": "stream",
     "text": [
      "Model: \"sequential_1\"\n",
      "_________________________________________________________________\n",
      "Layer (type)                 Output Shape              Param #   \n",
      "=================================================================\n",
      "embedding_1 (Embedding)      (None, None, 5)           120       \n",
      "_________________________________________________________________\n",
      "dropout_1 (Dropout)          (None, None, 5)           0         \n",
      "=================================================================\n",
      "Total params: 120\n",
      "Trainable params: 120\n",
      "Non-trainable params: 0\n",
      "_________________________________________________________________\n"
     ]
    }
   ],
   "source": [
    "# 스토리를 위한 두번째 임베딩. 그림에서 Embedding C\n",
    "# 임베딩 벡터의 차원을 question_max_len(질문의 최대 길이)로 한다.\n",
    "input_encoder_c = Sequential()\n",
    "input_encoder_c.add(Embedding(input_dim=vocab_size,\n",
    "                              output_dim=question_max_len))\n",
    "input_encoder_c.add(Dropout(dropout_rate))\n",
    "# 결과 : (samples, story_max_len, question_max_len) / 샘플의 수, 문장의 최대 길이, 질문의 최대 길이(임베딩 벡터의 차원)\n",
    "input_encoder_c.summary()"
   ]
  },
  {
   "cell_type": "code",
   "execution_count": 33,
   "metadata": {},
   "outputs": [
    {
     "name": "stdout",
     "output_type": "stream",
     "text": [
      "Model: \"sequential_2\"\n",
      "_________________________________________________________________\n",
      "Layer (type)                 Output Shape              Param #   \n",
      "=================================================================\n",
      "embedding_2 (Embedding)      (None, 5, 50)             1200      \n",
      "_________________________________________________________________\n",
      "dropout_2 (Dropout)          (None, 5, 50)             0         \n",
      "=================================================================\n",
      "Total params: 1,200\n",
      "Trainable params: 1,200\n",
      "Non-trainable params: 0\n",
      "_________________________________________________________________\n"
     ]
    }
   ],
   "source": [
    "# 질문을 위한 임베딩. 그림에서 Embedding B\n",
    "question_encoder = Sequential()\n",
    "question_encoder.add(Embedding(input_dim=vocab_size,\n",
    "                               output_dim=embed_size,\n",
    "                               input_length=question_max_len))\n",
    "question_encoder.add(Dropout(dropout_rate))\n",
    "# 결과 : (samples, question_max_len, embedding_dim) / 샘플의 수, 질문의 최대 길이, 임베딩 벡터의 차원\n",
    "question_encoder.summary()"
   ]
  },
  {
   "cell_type": "code",
   "execution_count": 34,
   "metadata": {},
   "outputs": [
    {
     "name": "stdout",
     "output_type": "stream",
     "text": [
      "Input encoded m Tensor(\"sequential/Identity:0\", shape=(None, 70, 50), dtype=float32)\n",
      "Input encoded c Tensor(\"sequential_1/Identity:0\", shape=(None, 70, 5), dtype=float32)\n",
      "Question encoded Tensor(\"sequential_2/Identity:0\", shape=(None, 5, 50), dtype=float32)\n"
     ]
    }
   ],
   "source": [
    "# 실질적인 임베딩 과정\n",
    "input_encoded_m = input_encoder_m(input_sequence)\n",
    "input_encoded_c = input_encoder_c(input_sequence)\n",
    "question_encoded = question_encoder(question)\n",
    "\n",
    "print('Input encoded m', input_encoded_m)\n",
    "print('Input encoded c', input_encoded_c)\n",
    "print('Question encoded', question_encoded)"
   ]
  },
  {
   "cell_type": "code",
   "execution_count": 35,
   "metadata": {},
   "outputs": [
    {
     "name": "stdout",
     "output_type": "stream",
     "text": [
      "Match shape Tensor(\"activation/Identity:0\", shape=(None, 70, 5), dtype=float32)\n",
      "Response shape Tensor(\"permute/Identity:0\", shape=(None, 5, 70), dtype=float32)\n",
      "Answer shape Tensor(\"concatenate/Identity:0\", shape=(None, 5, 120), dtype=float32)\n"
     ]
    }
   ],
   "source": [
    "# 스토리 단어들과 질문 단어들 간의 유사도를 구하는 과정\n",
    "# 유사도는 내적을 사용한다.  어텐션 메커니즘의 의도를 갖고 있다\n",
    "match = dot([input_encoded_m, question_encoded], axes=-1, normalize=False)\n",
    "match = Activation('softmax')(match)  # \n",
    "print('Match shape', match)\n",
    "# 결과 : (samples, story_maxlen, question_max_len) / 샘플의 수, 문장의 최대 길이, 질문의 최대 길이\n",
    "\n",
    "# add the match matrix with the second input vector sequence\n",
    "response = add([match, input_encoded_c])  # (samples, story_max_len, question_max_len)\n",
    "response = Permute((2, 1))(response)  # (samples, question_max_len, story_max_len)\n",
    "print('Response shape', response)\n",
    "\n",
    "# Permute((2, 1)) : 입력 데이터의 차원의 값을  바꿈, (N,70,5) --> (N,5,70)\n",
    "# tf.keras.layers.Permute( dims, **kwargs )  # Permutes the dimensions of the input according to a given pattern.\n",
    "# Permutation pattern does not include the samples dimension. Indexing starts at 1.\n",
    "# For instance, (2, 1) permutes the first and second dimensions of the input.\n",
    "\n",
    "# concatenate the response vector with the question vector sequence\n",
    "answer = concatenate([response, question_encoded])\n",
    "print('Answer shape', answer)\n",
    "\n",
    "answer = LSTM(lstm_size)(answer)  # Generate tensors of shape 32\n",
    "answer = Dropout(dropout_rate)(answer)\n",
    "answer = Dense(vocab_size)(answer)  # (samples, vocab_size)\n",
    "# we output a probability distribution over the vocabulary\n",
    "answer = Activation('softmax')(answer)"
   ]
  },
  {
   "cell_type": "code",
   "execution_count": 36,
   "metadata": {},
   "outputs": [
    {
     "name": "stdout",
     "output_type": "stream",
     "text": [
      "Model: \"model\"\n",
      "__________________________________________________________________________________________________\n",
      "Layer (type)                    Output Shape         Param #     Connected to                     \n",
      "==================================================================================================\n",
      "input_1 (InputLayer)            [(None, 70)]         0                                            \n",
      "__________________________________________________________________________________________________\n",
      "input_2 (InputLayer)            [(None, 5)]          0                                            \n",
      "__________________________________________________________________________________________________\n",
      "sequential (Sequential)         multiple             1200        input_1[0][0]                    \n",
      "__________________________________________________________________________________________________\n",
      "sequential_2 (Sequential)       (None, 5, 50)        1200        input_2[0][0]                    \n",
      "__________________________________________________________________________________________________\n",
      "dot (Dot)                       (None, 70, 5)        0           sequential[1][0]                 \n",
      "                                                                 sequential_2[1][0]               \n",
      "__________________________________________________________________________________________________\n",
      "activation (Activation)         (None, 70, 5)        0           dot[0][0]                        \n",
      "__________________________________________________________________________________________________\n",
      "sequential_1 (Sequential)       multiple             120         input_1[0][0]                    \n",
      "__________________________________________________________________________________________________\n",
      "add (Add)                       (None, 70, 5)        0           activation[0][0]                 \n",
      "                                                                 sequential_1[1][0]               \n",
      "__________________________________________________________________________________________________\n",
      "permute (Permute)               (None, 5, 70)        0           add[0][0]                        \n",
      "__________________________________________________________________________________________________\n",
      "concatenate (Concatenate)       (None, 5, 120)       0           permute[0][0]                    \n",
      "                                                                 sequential_2[1][0]               \n",
      "__________________________________________________________________________________________________\n",
      "lstm (LSTM)                     (None, 64)           47360       concatenate[0][0]                \n",
      "__________________________________________________________________________________________________\n",
      "dropout_3 (Dropout)             (None, 64)           0           lstm[0][0]                       \n",
      "__________________________________________________________________________________________________\n",
      "dense (Dense)                   (None, 24)           1560        dropout_3[0][0]                  \n",
      "__________________________________________________________________________________________________\n",
      "activation_1 (Activation)       (None, 24)           0           dense[0][0]                      \n",
      "==================================================================================================\n",
      "Total params: 51,440\n",
      "Trainable params: 51,440\n",
      "Non-trainable params: 0\n",
      "__________________________________________________________________________________________________\n",
      "None\n"
     ]
    }
   ],
   "source": [
    "# build the final model\n",
    "model = Model([input_sequence, question], answer)\n",
    "model.compile(optimizer='rmsprop', loss='categorical_crossentropy',\n",
    "              metrics=['acc'])\n",
    "\n",
    "print(model.summary())"
   ]
  },
  {
   "cell_type": "code",
   "execution_count": 37,
   "metadata": {
    "scrolled": true
   },
   "outputs": [
    {
     "name": "stdout",
     "output_type": "stream",
     "text": [
      "Train on 10000 samples, validate on 1000 samples\n",
      "Epoch 1/120\n",
      "10000/10000 [==============================] - 5s 474us/sample - loss: 1.8778 - acc: 0.1776 - val_loss: 1.7605 - val_acc: 0.2020\n",
      "Epoch 2/120\n",
      "10000/10000 [==============================] - 2s 172us/sample - loss: 1.6648 - acc: 0.2912 - val_loss: 1.5772 - val_acc: 0.3710\n",
      "Epoch 3/120\n",
      "10000/10000 [==============================] - 2s 167us/sample - loss: 1.5471 - acc: 0.3861 - val_loss: 1.4924 - val_acc: 0.4180\n",
      "Epoch 4/120\n",
      "10000/10000 [==============================] - 2s 171us/sample - loss: 1.4695 - acc: 0.4303 - val_loss: 1.4197 - val_acc: 0.4720\n",
      "Epoch 5/120\n",
      "10000/10000 [==============================] - 2s 170us/sample - loss: 1.4363 - acc: 0.4570 - val_loss: 1.3855 - val_acc: 0.4720\n",
      "Epoch 6/120\n",
      "10000/10000 [==============================] - 2s 175us/sample - loss: 1.3778 - acc: 0.4764 - val_loss: 1.3247 - val_acc: 0.5090\n",
      "Epoch 7/120\n",
      "10000/10000 [==============================] - 2s 176us/sample - loss: 1.3305 - acc: 0.4973 - val_loss: 1.3114 - val_acc: 0.5060\n",
      "Epoch 8/120\n",
      "10000/10000 [==============================] - 2s 175us/sample - loss: 1.3081 - acc: 0.5018 - val_loss: 1.2754 - val_acc: 0.5180\n",
      "Epoch 9/120\n",
      "10000/10000 [==============================] - 2s 177us/sample - loss: 1.2818 - acc: 0.5053 - val_loss: 1.2615 - val_acc: 0.5230\n",
      "Epoch 10/120\n",
      "10000/10000 [==============================] - 2s 176us/sample - loss: 1.2559 - acc: 0.5116 - val_loss: 1.2393 - val_acc: 0.5320\n",
      "Epoch 11/120\n",
      "10000/10000 [==============================] - 2s 178us/sample - loss: 1.2390 - acc: 0.5208 - val_loss: 1.2398 - val_acc: 0.5140\n",
      "Epoch 12/120\n",
      "10000/10000 [==============================] - 2s 176us/sample - loss: 1.2184 - acc: 0.5197 - val_loss: 1.2243 - val_acc: 0.5230\n",
      "Epoch 13/120\n",
      "10000/10000 [==============================] - 2s 180us/sample - loss: 1.1984 - acc: 0.5210 - val_loss: 1.1941 - val_acc: 0.5310\n",
      "Epoch 14/120\n",
      "10000/10000 [==============================] - 2s 183us/sample - loss: 1.1851 - acc: 0.5265 - val_loss: 1.2147 - val_acc: 0.5200\n",
      "Epoch 15/120\n",
      "10000/10000 [==============================] - 2s 178us/sample - loss: 1.1702 - acc: 0.5206 - val_loss: 1.1893 - val_acc: 0.5240\n",
      "Epoch 16/120\n",
      "10000/10000 [==============================] - 2s 181us/sample - loss: 1.1526 - acc: 0.5275 - val_loss: 1.1806 - val_acc: 0.5290\n",
      "Epoch 17/120\n",
      "10000/10000 [==============================] - 2s 179us/sample - loss: 1.1466 - acc: 0.5287 - val_loss: 1.1846 - val_acc: 0.5130\n",
      "Epoch 18/120\n",
      "10000/10000 [==============================] - 2s 182us/sample - loss: 1.1306 - acc: 0.5323 - val_loss: 1.1648 - val_acc: 0.5350\n",
      "Epoch 19/120\n",
      "10000/10000 [==============================] - 2s 193us/sample - loss: 1.1266 - acc: 0.5377 - val_loss: 1.1676 - val_acc: 0.5180\n",
      "Epoch 20/120\n",
      "10000/10000 [==============================] - 2s 187us/sample - loss: 1.1202 - acc: 0.5336 - val_loss: 1.2030 - val_acc: 0.5120\n",
      "Epoch 21/120\n",
      "10000/10000 [==============================] - 2s 180us/sample - loss: 1.1023 - acc: 0.5402 - val_loss: 1.1810 - val_acc: 0.5130\n",
      "Epoch 22/120\n",
      "10000/10000 [==============================] - 2s 179us/sample - loss: 1.1037 - acc: 0.5374 - val_loss: 1.1896 - val_acc: 0.5020\n",
      "Epoch 23/120\n",
      "10000/10000 [==============================] - 2s 181us/sample - loss: 1.0901 - acc: 0.5462 - val_loss: 1.1927 - val_acc: 0.5020\n",
      "Epoch 24/120\n",
      "10000/10000 [==============================] - 2s 182us/sample - loss: 1.0808 - acc: 0.5482 - val_loss: 1.1767 - val_acc: 0.5110\n",
      "Epoch 25/120\n",
      "10000/10000 [==============================] - 2s 192us/sample - loss: 1.0780 - acc: 0.5428 - val_loss: 1.1711 - val_acc: 0.5070\n",
      "Epoch 26/120\n",
      "10000/10000 [==============================] - 2s 179us/sample - loss: 1.0800 - acc: 0.5389 - val_loss: 1.1704 - val_acc: 0.5160\n",
      "Epoch 27/120\n",
      "10000/10000 [==============================] - 2s 184us/sample - loss: 1.0638 - acc: 0.5524 - val_loss: 1.1720 - val_acc: 0.5110\n",
      "Epoch 28/120\n",
      "10000/10000 [==============================] - 2s 183us/sample - loss: 1.0563 - acc: 0.5503 - val_loss: 1.1644 - val_acc: 0.5120\n",
      "Epoch 29/120\n",
      "10000/10000 [==============================] - 2s 182us/sample - loss: 1.0585 - acc: 0.5509 - val_loss: 1.1830 - val_acc: 0.5010\n",
      "Epoch 30/120\n",
      "10000/10000 [==============================] - 2s 189us/sample - loss: 1.0421 - acc: 0.5595 - val_loss: 1.1909 - val_acc: 0.5050\n",
      "Epoch 31/120\n",
      "10000/10000 [==============================] - 2s 187us/sample - loss: 1.0366 - acc: 0.5572 - val_loss: 1.1956 - val_acc: 0.5040\n",
      "Epoch 32/120\n",
      "10000/10000 [==============================] - 2s 188us/sample - loss: 1.0288 - acc: 0.5563 - val_loss: 1.1949 - val_acc: 0.5010\n",
      "Epoch 33/120\n",
      "10000/10000 [==============================] - 2s 189us/sample - loss: 1.0171 - acc: 0.5658 - val_loss: 1.1849 - val_acc: 0.5060\n",
      "Epoch 34/120\n",
      "10000/10000 [==============================] - 2s 188us/sample - loss: 1.0193 - acc: 0.5640 - val_loss: 1.2096 - val_acc: 0.5020\n",
      "Epoch 35/120\n",
      "10000/10000 [==============================] - 2s 188us/sample - loss: 1.0130 - acc: 0.5597 - val_loss: 1.2057 - val_acc: 0.5030\n",
      "Epoch 36/120\n",
      "10000/10000 [==============================] - 2s 186us/sample - loss: 1.0031 - acc: 0.5740 - val_loss: 1.2102 - val_acc: 0.5070\n",
      "Epoch 37/120\n",
      "10000/10000 [==============================] - 2s 190us/sample - loss: 0.9950 - acc: 0.5786 - val_loss: 1.2089 - val_acc: 0.5120\n",
      "Epoch 38/120\n",
      "10000/10000 [==============================] - 2s 189us/sample - loss: 0.9835 - acc: 0.5742 - val_loss: 1.2209 - val_acc: 0.5090\n",
      "Epoch 39/120\n",
      "10000/10000 [==============================] - 2s 188us/sample - loss: 0.9771 - acc: 0.5860 - val_loss: 1.2208 - val_acc: 0.5190\n",
      "Epoch 40/120\n",
      "10000/10000 [==============================] - 2s 190us/sample - loss: 0.9750 - acc: 0.5847 - val_loss: 1.2209 - val_acc: 0.4910\n",
      "Epoch 41/120\n",
      "10000/10000 [==============================] - 2s 188us/sample - loss: 0.9697 - acc: 0.5901 - val_loss: 1.2245 - val_acc: 0.4960\n",
      "Epoch 42/120\n",
      "10000/10000 [==============================] - 2s 189us/sample - loss: 0.9570 - acc: 0.5950 - val_loss: 1.2339 - val_acc: 0.5010\n",
      "Epoch 43/120\n",
      "10000/10000 [==============================] - 2s 191us/sample - loss: 0.9605 - acc: 0.5916 - val_loss: 1.2427 - val_acc: 0.4910\n",
      "Epoch 44/120\n",
      "10000/10000 [==============================] - 2s 189us/sample - loss: 0.9443 - acc: 0.5968 - val_loss: 1.2341 - val_acc: 0.4960\n",
      "Epoch 45/120\n",
      "10000/10000 [==============================] - 2s 190us/sample - loss: 0.9347 - acc: 0.6044 - val_loss: 1.2419 - val_acc: 0.4980\n",
      "Epoch 46/120\n",
      "10000/10000 [==============================] - 2s 194us/sample - loss: 0.9278 - acc: 0.6126 - val_loss: 1.2350 - val_acc: 0.5090\n",
      "Epoch 47/120\n",
      "10000/10000 [==============================] - 2s 192us/sample - loss: 0.9149 - acc: 0.6159 - val_loss: 1.2385 - val_acc: 0.5270\n",
      "Epoch 48/120\n",
      "10000/10000 [==============================] - 2s 191us/sample - loss: 0.8852 - acc: 0.6371 - val_loss: 1.2066 - val_acc: 0.5300\n",
      "Epoch 49/120\n",
      "10000/10000 [==============================] - 2s 192us/sample - loss: 0.8310 - acc: 0.6704 - val_loss: 1.0990 - val_acc: 0.6200\n",
      "Epoch 50/120\n",
      "10000/10000 [==============================] - 2s 195us/sample - loss: 0.7091 - acc: 0.7338 - val_loss: 0.8882 - val_acc: 0.6850\n",
      "Epoch 51/120\n",
      "10000/10000 [==============================] - 2s 193us/sample - loss: 0.6092 - acc: 0.7780 - val_loss: 0.7824 - val_acc: 0.7180\n",
      "Epoch 52/120\n",
      "10000/10000 [==============================] - 2s 190us/sample - loss: 0.5534 - acc: 0.7987 - val_loss: 0.7484 - val_acc: 0.7380\n",
      "Epoch 53/120\n",
      "10000/10000 [==============================] - 2s 192us/sample - loss: 0.5129 - acc: 0.8113 - val_loss: 0.7336 - val_acc: 0.7370\n",
      "Epoch 54/120\n",
      "10000/10000 [==============================] - 2s 192us/sample - loss: 0.4827 - acc: 0.8214 - val_loss: 0.6348 - val_acc: 0.7700\n",
      "Epoch 55/120\n",
      "10000/10000 [==============================] - 2s 196us/sample - loss: 0.4327 - acc: 0.8394 - val_loss: 0.6020 - val_acc: 0.7860\n",
      "Epoch 56/120\n",
      "10000/10000 [==============================] - 2s 196us/sample - loss: 0.3972 - acc: 0.8547 - val_loss: 0.5508 - val_acc: 0.8090\n",
      "Epoch 57/120\n",
      "10000/10000 [==============================] - 2s 196us/sample - loss: 0.3650 - acc: 0.8637 - val_loss: 0.5365 - val_acc: 0.8250\n",
      "Epoch 58/120\n",
      "10000/10000 [==============================] - 2s 194us/sample - loss: 0.3316 - acc: 0.8799 - val_loss: 0.4879 - val_acc: 0.8330\n",
      "Epoch 59/120\n",
      "10000/10000 [==============================] - 2s 196us/sample - loss: 0.3072 - acc: 0.8895 - val_loss: 0.4703 - val_acc: 0.8440\n",
      "Epoch 60/120\n",
      "10000/10000 [==============================] - 2s 197us/sample - loss: 0.2965 - acc: 0.8931 - val_loss: 0.4451 - val_acc: 0.8480\n",
      "Epoch 61/120\n",
      "10000/10000 [==============================] - 2s 197us/sample - loss: 0.2774 - acc: 0.8980 - val_loss: 0.4487 - val_acc: 0.8510\n",
      "Epoch 62/120\n",
      "10000/10000 [==============================] - 2s 195us/sample - loss: 0.2577 - acc: 0.9055 - val_loss: 0.4311 - val_acc: 0.8530\n",
      "Epoch 63/120\n",
      "10000/10000 [==============================] - 2s 198us/sample - loss: 0.2422 - acc: 0.9116 - val_loss: 0.4609 - val_acc: 0.8560\n",
      "Epoch 64/120\n",
      "10000/10000 [==============================] - 2s 195us/sample - loss: 0.2294 - acc: 0.9194 - val_loss: 0.4421 - val_acc: 0.8660\n",
      "Epoch 65/120\n",
      "10000/10000 [==============================] - 2s 195us/sample - loss: 0.2189 - acc: 0.9196 - val_loss: 0.4202 - val_acc: 0.8690\n",
      "Epoch 66/120\n",
      "10000/10000 [==============================] - 2s 198us/sample - loss: 0.2062 - acc: 0.9270 - val_loss: 0.4293 - val_acc: 0.8710\n",
      "Epoch 67/120\n",
      "10000/10000 [==============================] - 2s 196us/sample - loss: 0.1877 - acc: 0.9339 - val_loss: 0.3886 - val_acc: 0.8770\n",
      "Epoch 68/120\n",
      "10000/10000 [==============================] - 2s 199us/sample - loss: 0.1737 - acc: 0.9358 - val_loss: 0.3740 - val_acc: 0.8850\n",
      "Epoch 69/120\n",
      "10000/10000 [==============================] - 2s 199us/sample - loss: 0.1648 - acc: 0.9417 - val_loss: 0.3801 - val_acc: 0.8830\n",
      "Epoch 70/120\n",
      "10000/10000 [==============================] - 2s 197us/sample - loss: 0.1542 - acc: 0.9471 - val_loss: 0.3368 - val_acc: 0.8990\n",
      "Epoch 71/120\n",
      "10000/10000 [==============================] - 2s 198us/sample - loss: 0.1441 - acc: 0.9501 - val_loss: 0.3537 - val_acc: 0.8950\n",
      "Epoch 72/120\n",
      "10000/10000 [==============================] - 2s 200us/sample - loss: 0.1283 - acc: 0.9546 - val_loss: 0.3128 - val_acc: 0.9000\n",
      "Epoch 73/120\n",
      "10000/10000 [==============================] - 2s 199us/sample - loss: 0.1164 - acc: 0.9593 - val_loss: 0.3180 - val_acc: 0.9100\n",
      "Epoch 74/120\n",
      "10000/10000 [==============================] - 2s 198us/sample - loss: 0.1113 - acc: 0.9633 - val_loss: 0.3171 - val_acc: 0.9020\n",
      "Epoch 75/120\n",
      "10000/10000 [==============================] - 2s 200us/sample - loss: 0.1011 - acc: 0.9648 - val_loss: 0.2780 - val_acc: 0.9230\n",
      "Epoch 76/120\n",
      "10000/10000 [==============================] - 2s 201us/sample - loss: 0.1031 - acc: 0.9646 - val_loss: 0.2982 - val_acc: 0.9180\n",
      "Epoch 77/120\n",
      "10000/10000 [==============================] - 2s 203us/sample - loss: 0.0946 - acc: 0.9682 - val_loss: 0.2510 - val_acc: 0.9220\n",
      "Epoch 78/120\n",
      "10000/10000 [==============================] - 2s 205us/sample - loss: 0.0937 - acc: 0.9693 - val_loss: 0.2939 - val_acc: 0.9140\n",
      "Epoch 79/120\n",
      "10000/10000 [==============================] - 2s 201us/sample - loss: 0.0826 - acc: 0.9706 - val_loss: 0.3282 - val_acc: 0.9190\n",
      "Epoch 80/120\n",
      "10000/10000 [==============================] - 2s 202us/sample - loss: 0.0811 - acc: 0.9745 - val_loss: 0.2491 - val_acc: 0.9240\n",
      "Epoch 81/120\n",
      "10000/10000 [==============================] - 2s 205us/sample - loss: 0.0762 - acc: 0.9763 - val_loss: 0.2640 - val_acc: 0.9260\n",
      "Epoch 82/120\n",
      "10000/10000 [==============================] - 2s 230us/sample - loss: 0.0734 - acc: 0.9769 - val_loss: 0.2565 - val_acc: 0.9250\n",
      "Epoch 83/120\n",
      "10000/10000 [==============================] - 2s 204us/sample - loss: 0.0626 - acc: 0.9790 - val_loss: 0.2580 - val_acc: 0.9340\n",
      "Epoch 84/120\n",
      "10000/10000 [==============================] - 2s 201us/sample - loss: 0.0639 - acc: 0.9778 - val_loss: 0.2386 - val_acc: 0.9320\n",
      "Epoch 85/120\n",
      "10000/10000 [==============================] - 2s 207us/sample - loss: 0.0628 - acc: 0.9791 - val_loss: 0.2802 - val_acc: 0.9260\n",
      "Epoch 86/120\n",
      "10000/10000 [==============================] - 2s 206us/sample - loss: 0.0566 - acc: 0.9818 - val_loss: 0.2584 - val_acc: 0.9340\n",
      "Epoch 87/120\n",
      "10000/10000 [==============================] - 2s 208us/sample - loss: 0.0537 - acc: 0.9817 - val_loss: 0.2448 - val_acc: 0.9380\n",
      "Epoch 88/120\n",
      "10000/10000 [==============================] - 2s 210us/sample - loss: 0.0569 - acc: 0.9812 - val_loss: 0.2879 - val_acc: 0.9360\n",
      "Epoch 89/120\n",
      "10000/10000 [==============================] - 2s 210us/sample - loss: 0.0539 - acc: 0.9818 - val_loss: 0.2287 - val_acc: 0.9370\n",
      "Epoch 90/120\n",
      "10000/10000 [==============================] - 2s 210us/sample - loss: 0.0486 - acc: 0.9854 - val_loss: 0.2304 - val_acc: 0.9370\n",
      "Epoch 91/120\n",
      "10000/10000 [==============================] - 2s 212us/sample - loss: 0.0449 - acc: 0.9850 - val_loss: 0.2897 - val_acc: 0.9320\n",
      "Epoch 92/120\n",
      "10000/10000 [==============================] - 2s 217us/sample - loss: 0.0509 - acc: 0.9830 - val_loss: 0.2523 - val_acc: 0.9380\n",
      "Epoch 93/120\n",
      "10000/10000 [==============================] - 2s 207us/sample - loss: 0.0520 - acc: 0.9838 - val_loss: 0.2608 - val_acc: 0.9370\n",
      "Epoch 94/120\n",
      "10000/10000 [==============================] - 2s 213us/sample - loss: 0.0421 - acc: 0.9859 - val_loss: 0.2625 - val_acc: 0.9380\n",
      "Epoch 95/120\n",
      "10000/10000 [==============================] - 2s 218us/sample - loss: 0.0377 - acc: 0.9872 - val_loss: 0.2598 - val_acc: 0.9410\n",
      "Epoch 96/120\n",
      "10000/10000 [==============================] - 2s 210us/sample - loss: 0.0415 - acc: 0.9881 - val_loss: 0.2838 - val_acc: 0.9320\n",
      "Epoch 97/120\n",
      "10000/10000 [==============================] - 3s 271us/sample - loss: 0.0419 - acc: 0.9881 - val_loss: 0.2746 - val_acc: 0.9360\n",
      "Epoch 98/120\n",
      "10000/10000 [==============================] - 2s 226us/sample - loss: 0.0391 - acc: 0.9873 - val_loss: 0.2389 - val_acc: 0.9410\n",
      "Epoch 99/120\n",
      "10000/10000 [==============================] - 2s 234us/sample - loss: 0.0383 - acc: 0.9875 - val_loss: 0.2767 - val_acc: 0.9380\n",
      "Epoch 100/120\n",
      "10000/10000 [==============================] - 2s 214us/sample - loss: 0.0336 - acc: 0.9874 - val_loss: 0.3256 - val_acc: 0.9400\n",
      "Epoch 101/120\n",
      "10000/10000 [==============================] - 2s 214us/sample - loss: 0.0342 - acc: 0.9895 - val_loss: 0.2716 - val_acc: 0.9430\n",
      "Epoch 102/120\n",
      "10000/10000 [==============================] - 2s 212us/sample - loss: 0.0325 - acc: 0.9903 - val_loss: 0.2925 - val_acc: 0.9380\n",
      "Epoch 103/120\n",
      "10000/10000 [==============================] - 2s 208us/sample - loss: 0.0310 - acc: 0.9896 - val_loss: 0.2733 - val_acc: 0.9370\n",
      "Epoch 104/120\n",
      "10000/10000 [==============================] - 2s 214us/sample - loss: 0.0352 - acc: 0.9894 - val_loss: 0.2838 - val_acc: 0.9420\n",
      "Epoch 105/120\n",
      "10000/10000 [==============================] - 2s 219us/sample - loss: 0.0353 - acc: 0.9892 - val_loss: 0.2650 - val_acc: 0.9430\n",
      "Epoch 106/120\n",
      "10000/10000 [==============================] - 2s 213us/sample - loss: 0.0280 - acc: 0.9913 - val_loss: 0.2964 - val_acc: 0.9420\n",
      "Epoch 107/120\n",
      "10000/10000 [==============================] - 2s 227us/sample - loss: 0.0288 - acc: 0.9911 - val_loss: 0.3041 - val_acc: 0.9440\n",
      "Epoch 108/120\n",
      "10000/10000 [==============================] - 2s 241us/sample - loss: 0.0364 - acc: 0.9883 - val_loss: 0.2676 - val_acc: 0.9500\n",
      "Epoch 109/120\n",
      "10000/10000 [==============================] - 2s 226us/sample - loss: 0.0301 - acc: 0.9909 - val_loss: 0.2860 - val_acc: 0.9440\n",
      "Epoch 110/120\n",
      "10000/10000 [==============================] - 2s 230us/sample - loss: 0.0273 - acc: 0.9919 - val_loss: 0.2785 - val_acc: 0.9470\n",
      "Epoch 111/120\n",
      "10000/10000 [==============================] - 2s 220us/sample - loss: 0.0265 - acc: 0.9920 - val_loss: 0.2735 - val_acc: 0.9460\n",
      "Epoch 112/120\n",
      "10000/10000 [==============================] - 2s 219us/sample - loss: 0.0311 - acc: 0.9914 - val_loss: 0.3039 - val_acc: 0.9400\n",
      "Epoch 113/120\n",
      "10000/10000 [==============================] - 2s 216us/sample - loss: 0.0279 - acc: 0.9926 - val_loss: 0.2969 - val_acc: 0.9430\n",
      "Epoch 114/120\n",
      "10000/10000 [==============================] - 2s 224us/sample - loss: 0.0272 - acc: 0.9911 - val_loss: 0.2833 - val_acc: 0.9430\n",
      "Epoch 115/120\n"
     ]
    },
    {
     "name": "stdout",
     "output_type": "stream",
     "text": [
      "10000/10000 [==============================] - 2s 231us/sample - loss: 0.0241 - acc: 0.9928 - val_loss: 0.2970 - val_acc: 0.9470\n",
      "Epoch 116/120\n",
      "10000/10000 [==============================] - 2s 225us/sample - loss: 0.0249 - acc: 0.9935 - val_loss: 0.2737 - val_acc: 0.9460\n",
      "Epoch 117/120\n",
      "10000/10000 [==============================] - 2s 235us/sample - loss: 0.0253 - acc: 0.9912 - val_loss: 0.2992 - val_acc: 0.9420\n",
      "Epoch 118/120\n",
      "10000/10000 [==============================] - 2s 234us/sample - loss: 0.0292 - acc: 0.9923 - val_loss: 0.2891 - val_acc: 0.9400\n",
      "Epoch 119/120\n",
      "10000/10000 [==============================] - 2s 229us/sample - loss: 0.0349 - acc: 0.9905 - val_loss: 0.2698 - val_acc: 0.9440\n",
      "Epoch 120/120\n",
      "10000/10000 [==============================] - 2s 228us/sample - loss: 0.0262 - acc: 0.9934 - val_loss: 0.3009 - val_acc: 0.9410\n"
     ]
    }
   ],
   "source": [
    "# start training the model, 약 4분 소요(CPU)\n",
    "history = model.fit([Xstrain, Xqtrain],\n",
    "         Ytrain, batch_size, train_epochs,\n",
    "         validation_data=([Xstest, Xqtest], Ytest))\n",
    "\n",
    "# save model\n",
    "model.save('model.h5') # 모델의 구조, 가중치, 훈련 설정을 하나의 파일에 저장"
   ]
  },
  {
   "cell_type": "code",
   "execution_count": 38,
   "metadata": {},
   "outputs": [
    {
     "data": {
      "image/png": "[encoded data removed]",
      "text/plain": [
       "<Figure size 432x288 with 2 Axes>"
      ]
     },
     "metadata": {
      "needs_background": "light"
     },
     "output_type": "display_data"
    }
   ],
   "source": [
    "# plot accuracy and loss plot\n",
    "plt.subplot(211)\n",
    "plt.title(\"Accuracy\")\n",
    "plt.plot(history.history[\"acc\"], color=\"g\", label=\"train\")\n",
    "plt.plot(history.history[\"val_acc\"], color=\"b\", label=\"validation\")\n",
    "plt.legend(loc=\"best\")\n",
    "\n",
    "plt.subplot(212)\n",
    "plt.title(\"Loss\")\n",
    "plt.plot(history.history[\"loss\"], color=\"g\", label=\"train\")\n",
    "plt.plot(history.history[\"val_loss\"], color=\"b\", label=\"validation\")\n",
    "plt.legend(loc=\"best\")\n",
    "\n",
    "plt.tight_layout()\n",
    "plt.show()\n",
    "\n",
    "# labels\n",
    "ytest = np.argmax(Ytest, axis=1)\n",
    "\n",
    "# get predictions\n",
    "Ytest_ = model.predict([Xstest, Xqtest])\n",
    "ytest_ = np.argmax(Ytest_, axis=1)"
   ]
  },
  {
   "cell_type": "code",
   "execution_count": 39,
   "metadata": {},
   "outputs": [],
   "source": [
    "# import tensorflow as tf\n",
    "# new_model = tf.keras.models.load_model('model.h5') # 저장된 모델로부터 새로운 케라스 모델을 로드\n",
    "# new_model.summary() # 저장했던 모델과 동일"
   ]
  },
  {
   "cell_type": "code",
   "execution_count": 40,
   "metadata": {},
   "outputs": [
    {
     "name": "stdout",
     "output_type": "stream",
     "text": [
      "질문                |실제값  |예측값\n",
      "---------------------------------------\n",
      "은경이 는 어디 야 ?        : 복도      복도\n",
      "필웅이 는 어디 야 ?        : 화장실     화장실\n",
      "경임이 는 어디 야 ?        : 부엌      부엌\n",
      "경임이 는 어디 야 ?        : 복도      복도\n",
      "경임이 는 어디 야 ?        : 부엌      부엌\n",
      "경임이 는 어디 야 ?        : 복도      복도\n",
      "경임이 는 어디 야 ?        : 정원      정원\n",
      "수종이 는 어디 야 ?        : 복도      복도\n",
      "경임이 는 어디 야 ?        : 사무실     사무실\n",
      "수종이 는 어디 야 ?        : 사무실     복도\n",
      "필웅이 는 어디 야 ?        : 부엌      부엌\n",
      "필웅이 는 어디 야 ?        : 정원      정원\n",
      "수종이 는 어디 야 ?        : 사무실     사무실\n",
      "필웅이 는 어디 야 ?        : 침실      침실\n",
      "필웅이 는 어디 야 ?        : 침실      침실\n",
      "은경이 는 어디 야 ?        : 부엌      부엌\n",
      "은경이 는 어디 야 ?        : 정원      정원\n",
      "은경이 는 어디 야 ?        : 부엌      부엌\n",
      "수종이 는 어디 야 ?        : 사무실     부엌\n",
      "은경이 는 어디 야 ?        : 부엌      정원\n",
      "필웅이 는 어디 야 ?        : 복도      복도\n",
      "은경이 는 어디 야 ?        : 사무실     사무실\n",
      "은경이 는 어디 야 ?        : 사무실     사무실\n",
      "경임이 는 어디 야 ?        : 복도      복도\n",
      "수종이 는 어디 야 ?        : 침실      침실\n",
      "경임이 는 어디 야 ?        : 침실      침실\n",
      "필웅이 는 어디 야 ?        : 침실      침실\n",
      "수종이 는 어디 야 ?        : 부엌      부엌\n",
      "수종이 는 어디 야 ?        : 부엌      부엌\n",
      "수종이 는 어디 야 ?        : 부엌      부엌\n"
     ]
    }
   ],
   "source": [
    "NUM_DISPLAY = 30\n",
    "\n",
    "print(\"{:18}|{:5}|{}\".format(\"질문\", \"실제값\", \"예측값\"))\n",
    "print(39 * \"-\")\n",
    "\n",
    "for i in range(NUM_DISPLAY):\n",
    "    question = \" \".join([idx2word[x] for x in Xqtest[i].tolist()])\n",
    "    label = idx2word[ytest[i]]\n",
    "    prediction = idx2word[ytest_[i]]\n",
    "    print(\"{:20}: {:7} {}\".format(question, label, prediction))"
   ]
  },
  {
   "cell_type": "code",
   "execution_count": null,
   "metadata": {},
   "outputs": [],
   "source": []
  }
 ],
 "metadata": {
  "kernelspec": {
   "display_name": "Python 3",
   "language": "python",
   "name": "python3"
  },
  "language_info": {
   "codemirror_mode": {
    "name": "ipython",
    "version": 3
   },
   "file_extension": ".py",
   "mimetype": "text/x-python",
   "name": "python",
   "nbconvert_exporter": "python",
   "pygments_lexer": "ipython3",
   "version": "3.8.3"
  }
 },
 "nbformat": 4,
 "nbformat_minor": 4
}
