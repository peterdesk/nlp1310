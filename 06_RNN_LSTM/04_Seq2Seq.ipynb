{
 "cells": [
  {
   "cell_type": "markdown",
   "metadata": {},
   "source": [
    "## Seq2Seq : Sequence to Sequence 모델\n",
    "#### : Encoder Decoder  모델이라고도 한다"
   ]
  },
  {
   "cell_type": "markdown",
   "metadata": {},
   "source": [
    "### Encoder 클래스"
   ]
  },
  {
   "cell_type": "code",
   "execution_count": 2,
   "metadata": {},
   "outputs": [],
   "source": [
    "# Encoder class\n",
    "class Encoder:\n",
    "    def __init__(self,vocab_size, wordvec_size,hidden_size ):\n",
    "        V,D,H = vocab_size, wordvec_size,hidden_size\n",
    "        rn = np.random.randn\n",
    "        \n",
    "        # 가중치 초기화\n",
    "        embed_W = (rn(V,D) / 100).astype('f')       \n",
    "        lstm_Wx = (rn(D,4*H) / np.sqrt(D)).astype('f') \n",
    "        lstm_Wh = (rn(H,4*H) / np.sqrt(H)).astype('f') \n",
    "        lstm_b = np.zeros(4*H).astype('f')             \n",
    "        \n",
    "        # 계층 생성\n",
    "        self.embed = TimeEmbedding(embed_W)\n",
    "        self.lstm = TimeLSTM(lstm_Wx,lstm_Wh,lstm_b,stateful=False)\n",
    "        \n",
    "        # 모든 가중치와 기울기를 모은다.\n",
    "        self.params = self.embed.params + self.lstm.params\n",
    "        self.grads = self.embed.grads + self.lstm.greads\n",
    "\n",
    "    def forward(self,xs):\n",
    "        xs = self.embed.forward(xs)\n",
    "        hs = self.lstm.forward(xs)    # [N,T,H] , 3차원\n",
    "        self.hs = hs\n",
    "        return hs[:,-1,:]             # TimeLSTM 계층의 마지막 은닉 상태 h를 반환, [N,H], 2차원\n",
    "    \n",
    "    def backward(self,dh):\n",
    "        dhs = np.zeros_like(self.hs)\n",
    "        dhs[:,-1,:] = dh\n",
    "        \n",
    "        dout = self.lstm.backward(dhs)\n",
    "        dout = self.embed.backward(dout)\n",
    "        return dout   "
   ]
  },
  {
   "cell_type": "code",
   "execution_count": null,
   "metadata": {},
   "outputs": [],
   "source": [
    "# Decoder class : TimeSoftmaxWithLoss는 계층에 생성하지 않는다\n",
    "class Decoder:\n",
    "    def __init__(self, vocab_size, wordvec_size, hidden_size ):\n",
    "        V,D,H = vocab_size, wordvec_size,hidden_size\n",
    "        rn = np.random.randn\n",
    "        \n",
    "        # 가중치 초기화\n",
    "        embed_W = (rn(V,D) / 100).astype('f')       \n",
    "        lstm_Wx = (rn(D,4*H) / np.sqrt(D)).astype('f') \n",
    "        lstm_Wh = (rn(H,4*H) / np.sqrt(H)).astype('f') \n",
    "        lstm_b = np.zeros(4*H).astype('f')  \n",
    "\n",
    "        affine_W = (rn(H,V) / np.sqrt(H)).astype('f')\n",
    "        affine_b = np.zeros(V).astype('f')\n",
    "        \n",
    "        \n",
    "        # 계층 생성\n",
    "        self.embed = TimeEmbedding(embed_W)\n",
    "        self.lstm = TimeLSTM(lstm_Wx,lstm_Wh,lstm_b,stateful=False)\n",
    "        self.affine = TimeAffine(affine_W,affine_b)\n",
    "        \n",
    "        # 모든 가중치와 기울기를 리스트에 모은다.\n",
    "        self.params,self.grads = [],[]\n",
    "        for layer in (self.embed,self.lstm,self.affine):\n",
    "            self.params += layer.params\n",
    "            self.grads += layer.grads\n",
    "\n",
    "    def forward(self,xs,h):           # h : Encoder의 출력, (N,H)\n",
    "        self.lstm.set_state(h)     \n",
    "        out = self.embed.forward(xs)\n",
    "        out = self.lstm.forward(out) \n",
    "        score = self.affine.forward(out)\n",
    "        return score     # softmax를 통과시키지 않고 그냥 출력\n",
    "    \n",
    "    def backward(self,dscore):\n",
    "        dout = self.affine.backward(dscore)\n",
    "        dout = self.lstm.backward(dout)\n",
    "        dout = self.embed.backward(dout)\n",
    "        dh = self.lstm.dh\n",
    "        \n",
    "        return dh       "
   ]
  }
 ],
 "metadata": {
  "kernelspec": {
   "display_name": "Python 3",
   "language": "python",
   "name": "python3"
  },
  "language_info": {
   "codemirror_mode": {
    "name": "ipython",
    "version": 3
   },
   "file_extension": ".py",
   "mimetype": "text/x-python",
   "name": "python",
   "nbconvert_exporter": "python",
   "pygments_lexer": "ipython3",
   "version": "3.7.7"
  }
 },
 "nbformat": 4,
 "nbformat_minor": 4
}
