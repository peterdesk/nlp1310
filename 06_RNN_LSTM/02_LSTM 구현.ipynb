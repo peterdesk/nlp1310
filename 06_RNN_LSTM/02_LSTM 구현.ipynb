{
 "cells": [
  {
   "cell_type": "markdown",
   "metadata": {},
   "source": [
    "# LSTM(Long Short Term Memory)\n",
    "https://dgkim5360.tistory.com/entry/understanding-long-short-term-memory-lstm-kr"
   ]
  },
  {
   "cell_type": "markdown",
   "metadata": {},
   "source": [
    "### 기울기 소실(Gradient Vanishing)과 기울기 폭발(Gradient Exploding)의 원인"
   ]
  },
  {
   "cell_type": "code",
   "execution_count": 1,
   "metadata": {},
   "outputs": [
    {
     "name": "stdout",
     "output_type": "stream",
     "text": [
      "dh:\n",
      " [[1. 1. 1.]\n",
      " [1. 1. 1.]]\n",
      "Wh:\n",
      " [[ 1.78862847  0.43650985  0.09649747]\n",
      " [-1.8634927  -0.2773882  -0.35475898]\n",
      " [-0.08274148 -0.62700068 -0.04381817]]\n",
      "[2.4684068094579303, 3.3357049741610365, 4.783279375373182, 6.279587332087612, 8.080776465019053, 10.251163032292936, 12.936063506609896, 16.276861327786712, 20.45482961834598, 25.688972842084684, 32.25315718048336, 40.48895641683869, 50.8244073070191, 63.79612654485427, 80.07737014308985, 100.5129892205125, 126.16331847536823, 158.35920648258823, 198.7710796761195, 249.495615421267]\n"
     ]
    },
    {
     "data": {
      "image/png": "[encoded data removed]",
      "text/plain": [
       "<Figure size 432x288 with 1 Axes>"
      ]
     },
     "metadata": {
      "needs_background": "light"
     },
     "output_type": "display_data"
    }
   ],
   "source": [
    "import numpy as np\n",
    "import matplotlib.pyplot as plt\n",
    "plt.rc('font', family='Malgun Gothic')\n",
    "\n",
    "N = 2  # 미니배치 크기\n",
    "H = 3  # 은닉 상태 벡터의 차원 수\n",
    "T = 20 # 시계열 데이터의 길이\n",
    "\n",
    "dh = np.ones((N,H))  # (2,3)\n",
    "print('dh:\\n',dh)\n",
    "\n",
    "np.random.seed(3)   # 재현할 수 있도록 난수의 시드 고정\n",
    "\n",
    "Wh = np.random.randn(H,H)         # 기울기 폭발 (스칼라일 경우 Wh가 1보다 큰 경우)   --> NaN, 발산\n",
    "# Wh = np.random.randn(H,H)*0.5   # 기울기 소실 (스칼라일 경우 Wh가 1보다 작은 경우) --> 0 \n",
    "print('Wh:\\n',Wh)\n",
    "\n",
    "\n",
    "# Norm은 벡터의 길이 혹은 크기를 측정하는 방법(함수)이다\n",
    "# L1 norm : 벡터의 각 요소의 절대값을 모두 합한 값\n",
    "# L2 norm : 각 요소의 제곱을 모두 합하여 제곱근을 취한 값\n",
    "# http://taewan.kim/post/norm/\n",
    "norm_list = []\n",
    "for t in range(T):\n",
    "    dh = np.dot(dh,Wh.T)   # 미분, gradient 값\n",
    "    # print('-'*30)\n",
    "    # print(dh)\n",
    "    norm = np.sqrt(np.sum(dh**2))/N  # 평균 norm\n",
    "    # print(norm)\n",
    "    norm_list.append(norm)\n",
    "\n",
    "print(norm_list)  \n",
    "\n",
    "# 그래프 그리기\n",
    "plt.plot(np.arange(len(norm_list)), norm_list)\n",
    "plt.xticks([0, 4, 9, 14, 19], [1, 5, 10, 15, 20])\n",
    "plt.xlabel('시간 크기(time step)')\n",
    "plt.ylabel('노름(norm)')\n",
    "plt.show()"
   ]
  },
  {
   "cell_type": "markdown",
   "metadata": {},
   "source": [
    "### 기울기 폭발 대책 : 기울기 클리핑(gradient cliping) 함수 구현\n",
    "https://wikidocs.net/61375"
   ]
  },
  {
   "cell_type": "code",
   "execution_count": 2,
   "metadata": {},
   "outputs": [
    {
     "name": "stdout",
     "output_type": "stream",
     "text": [
      "dW1:\n",
      " [[6.49144048 2.78487283 6.76254902]\n",
      " [5.90862817 0.23981882 5.58854088]\n",
      " [2.59252447 4.15101197 2.83525082]]\n",
      "dW2:\n",
      " [[6.93137918 4.40453718 1.56867738]\n",
      " [5.44649018 7.80314765 3.06363532]\n",
      " [2.21957884 3.87971258 9.3638365 ]]\n",
      "(dW1) before: [6.49144048 2.78487283 6.76254902 5.90862817 0.23981882 5.58854088\n",
      " 2.59252447 4.15101197 2.83525082]\n",
      "(dw1) after: [1.49503731 0.64138134 1.55747605 1.36081038 0.05523244 1.28709139\n",
      " 0.59708178 0.95601551 0.65298384]\n"
     ]
    }
   ],
   "source": [
    "\n",
    "dW1 = np.random.rand(3,3)*10\n",
    "dW2 = np.random.rand(3,3)*10\n",
    "print('dW1:\\n',dW1)\n",
    "print('dW2:\\n',dW2)\n",
    "\n",
    "grads = [dW1,dW2]\n",
    "\n",
    "max_norm = 5.0   # threshold, 한계값\n",
    "\n",
    "## nn_layers.py 에 추가한다\n",
    "def clip_grads(grads, max_norm):\n",
    "    total_norm = 0\n",
    "    for grad in grads:  # L2 norm 구하기 , 제곱의 합의 제곱근\n",
    "        total_norm += np.sum(grad ** 2)\n",
    "    total_norm = np.sqrt(total_norm)\n",
    "\n",
    "    rate = max_norm / (total_norm + 1e-6)\n",
    "    # print('rate:',rate)\n",
    "    if rate < 1:     # total_norm 이 한계값(max_norm) 보다 클경우\n",
    "        for grad in grads:\n",
    "            grad *= rate\n",
    "    \n",
    "\n",
    "print('(dW1) before:', dW1.flatten())\n",
    "#print('(dW2) before:', dW2.flatten())\n",
    "clip_grads(grads, max_norm)\n",
    "print('(dw1) after:', dW1.flatten())  # 값이 약간 줄어듦    \n",
    "#print('(dw2) after:', dW2.flatten())  # 값이 약간 줄어듦    "
   ]
  },
  {
   "cell_type": "markdown",
   "metadata": {},
   "source": [
    "### 기울기 소실 방지 : Gated RNN 인 LSTM(Long Short Term Memory)이나  GRU(Gated Recurrent Units ) 사용"
   ]
  },
  {
   "cell_type": "markdown",
   "metadata": {},
   "source": [
    "### LSTM  : RNN에 기억 셀 𝐜<sub>𝐭</sub> 과 , f , g, i, o 게이트 4개를 추가"
   ]
  },
  {
   "cell_type": "code",
   "execution_count": null,
   "metadata": {},
   "outputs": [],
   "source": [
    "def sigmoid(x):\n",
    "    return 1 / (1 + np.exp(-x))\n",
    "# nn_layers.py 에 sigmoid 함수를 추가한다\n",
    "\n",
    "\n",
    "class LSTM:\n",
    "    def __init__(self,Wx,Wh,b):\n",
    "        '''\n",
    "        Parameters\n",
    "        ----------\n",
    "        Wx: 입력 x에 대한 가중치 매개변수(4개분의 가중치가 담겨 있음)\n",
    "        Wh: 은닉 상태 h에 대한 가중치 매개변수(4개분의 가중치가 담겨 있음)\n",
    "        b: 편향（4개분의 편향이 담겨 있음）\n",
    "        '''\n",
    "        self.params = [Wx,Wh,b]\n",
    "        self.grads = [np.zeros_like(Wx), np.zeros_like(Wh), np.zeros_like(b)]\n",
    "        self.cache = None\n",
    "        \n",
    "    def forward(self,x,h_prev,c_prev) :\n",
    "        Wx, Wh, b = self.params           # Wx,Wh : (D,4*H)로 생성하여 입력됨\n",
    "        N, H = h_prev.shape\n",
    "        \n",
    "        A = np.dot(x,Wx) + np.dot(h_prev,Wh) + b\n",
    "        \n",
    "        # 동일한 사이즈 4개로 슬라이싱 : f,g,i,o\n",
    "        f = A[:, :H]\n",
    "        g = A[:, H:2*H]\n",
    "        i = A[:, 2*H:3*H]\n",
    "        o = A[:, 3*H:]\n",
    "        \n",
    "        f = sigmoid(f)\n",
    "        g = np.tanh(g)\n",
    "        i = sigmoid(i)\n",
    "        o = sigmoid(o)\n",
    "        \n",
    "        c_next = f*c_prev + g*i\n",
    "        h_next = _______________\n",
    "        \n",
    "        \n",
    "        \n",
    "        \n",
    "        \n",
    "        \n",
    "    "
   ]
  }
 ],
 "metadata": {
  "kernelspec": {
   "display_name": "Python 3",
   "language": "python",
   "name": "python3"
  },
  "language_info": {
   "codemirror_mode": {
    "name": "ipython",
    "version": 3
   },
   "file_extension": ".py",
   "mimetype": "text/x-python",
   "name": "python",
   "nbconvert_exporter": "python",
   "pygments_lexer": "ipython3",
   "version": "3.7.7"
  }
 },
 "nbformat": 4,
 "nbformat_minor": 4
}
